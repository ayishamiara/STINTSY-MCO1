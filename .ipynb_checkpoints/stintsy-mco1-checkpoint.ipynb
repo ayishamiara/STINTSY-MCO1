{
 "cells": [
  {
   "cell_type": "markdown",
   "id": "d24a81b3-2065-4f25-a249-5f4654eec0e6",
   "metadata": {
    "tags": []
   },
   "source": [
    "## MP Phase 1\n",
    "\n",
    "**S11 - Group x**\n",
    "\n",
    "**Submitted By:** <br>\n",
    "&nbsp;&nbsp;&nbsp;&nbsp;**Chua Ching, Janine**<br>\n",
    "&nbsp;&nbsp;&nbsp;&nbsp;**Ileto, Maxine**<br>\n",
    "&nbsp;&nbsp;&nbsp;&nbsp;**Dytoc, Ayisha**<br>\n",
    "&nbsp;&nbsp;&nbsp;&nbsp;**Tan, Jared**"
   ]
  },
  {
   "cell_type": "markdown",
   "id": "eb1852b7-49f8-44a9-b7d2-5780e73b7677",
   "metadata": {},
   "source": [
    "# Introduction"
   ]
  },
  {
   "cell_type": "markdown",
   "id": "33bccee2-ff06-4c72-bc79-c40517885425",
   "metadata": {},
   "source": [
    "## Target Task"
   ]
  },
  {
   "cell_type": "markdown",
   "id": "9db7f9bd-cb70-4fdb-9e34-61a5196346cd",
   "metadata": {
    "tags": []
   },
   "source": [
    "# Dataset Description"
   ]
  },
  {
   "cell_type": "markdown",
   "id": "b62f5aee",
   "metadata": {},
   "source": [
    "## Brief Description"
   ]
  },
  {
   "cell_type": "markdown",
   "id": "ef573226",
   "metadata": {},
   "source": []
  },
  {
   "cell_type": "markdown",
   "id": "3e8560c5",
   "metadata": {},
   "source": [
    "## Data Collection Process\n"
   ]
  },
  {
   "cell_type": "markdown",
   "id": "8b1acdc1",
   "metadata": {},
   "source": [
    "## Dataset Features\n"
   ]
  },
  {
   "cell_type": "markdown",
   "id": "1d51a86c",
   "metadata": {
    "tags": []
   },
   "source": [
    "## Dataset Variables\n",
    "\n",
    "The dataset contains a total of 20 variables (columns). The following are the descriptions of each variable in the dataset:\n",
    "\n",
    "- **`uuid`**: The unique identifier of the snapshot\n",
    "- **`current_minute`**: The current minute of the in-play match. Important: the 15 min half-time break is included, so a match will have a total of 105 min. A current_minute of 70 corresponds to the actual match time of 55.\n",
    "- **`home_score`**: Goals scored by the home team as of this current_minute\n",
    "- **`away_score`**:  Goals scored by the away team as of this current_minute\n",
    "- **`home_yellow_cards`**: Yellow cards given to the home team as of this current_minute\n",
    "- **`away_yellow_cards`**: Yellow cards given to the away team as of this current_minute\n",
    "- **`home_red_cards`**: Red cards given to the home team as of this current_minute\n",
    "- **`away_red_cards`**: Red cards given to the away team as of this current_minute\n",
    "- **`home_attacks`**: Attacks attempted by the home team as of this current_minute\n",
    "- **`away_attacks`**: Attacks attempted by the away team as of this current_minute\n",
    "- **`home_dangerous_attacks`**: Dangerous attacks attempted by the home team as of this current_minute\n",
    "- **`away_dangerous_attacks`**: Dangerous attacks attempted by the away team as of this current_minute\n",
    "- **`home_corners`**: Corners awarded to the home team as of this current_minute\n",
    "- **`away_corners`**: Corners awarded to the away team as of this current_minute\n",
    "- **`home_off_target`**: Shots that didn't have to be cleared by the goalkeeper that were \n",
    "attempted to the home team as of this current_minute\n",
    "- **`away_off_target`**: Shots that didn't have to be cleared by the goalkeeper that were \n",
    "attempted to the away team as of this current_minute\n",
    "- **`home_on_target`**:  Shots that had to be cleared by the goalkeeper that were attempted to \n",
    "the home team as of this current_minute\n",
    "- **`away_on_target`**: Shots that had to be cleared by the goalkeeper that were attempted to \n",
    "the away team as of this current_minute\n",
    "- **`home_possession`**: How much ball possession in % did the home team have until this \n",
    "current_minute\n",
    "- **`away_possession`**: The unique identifier of the snapshot"
   ]
  },
  {
   "cell_type": "markdown",
   "id": "f1fbfef4-e806-464b-8196-55004f34ee0f",
   "metadata": {},
   "source": [
    "# List of requirements\n",
    "\n",
    "List all python libraries and modules used"
   ]
  },
  {
   "cell_type": "code",
   "execution_count": 1,
   "id": "edd64d00-e65b-46d1-8bdf-bfc4c73958b9",
   "metadata": {},
   "outputs": [],
   "source": [
    "# Python Libraries\n",
    "import numpy as np\n",
    "import pandas as pd\n",
    "import matplotlib.pyplot as plt"
   ]
  },
  {
   "cell_type": "markdown",
   "id": "4d178f50-5e3b-4c78-94e1-4b6a09791d97",
   "metadata": {},
   "source": [
    "# Data preprocessing and cleaning"
   ]
  },
  {
   "cell_type": "markdown",
   "id": "6e550a54-1d45-4b35-8b90-28a770713696",
   "metadata": {},
   "source": [
    "The data used in this project is stored in the `sports.csv` file. This data will be stored in a variable called `df`\n",
    "\n",
    "Below is a sample of the first 5 rows of the dataset."
   ]
  },
  {
   "cell_type": "code",
   "execution_count": 2,
   "id": "53b344cd-342b-4b68-b231-730f446027bf",
   "metadata": {},
   "outputs": [
    {
     "data": {
      "text/html": [
       "<div>\n",
       "<style scoped>\n",
       "    .dataframe tbody tr th:only-of-type {\n",
       "        vertical-align: middle;\n",
       "    }\n",
       "\n",
       "    .dataframe tbody tr th {\n",
       "        vertical-align: top;\n",
       "    }\n",
       "\n",
       "    .dataframe thead th {\n",
       "        text-align: right;\n",
       "    }\n",
       "</style>\n",
       "<table border=\"1\" class=\"dataframe\">\n",
       "  <thead>\n",
       "    <tr style=\"text-align: right;\">\n",
       "      <th></th>\n",
       "      <th>uuid</th>\n",
       "      <th>current_minute</th>\n",
       "      <th>home_score</th>\n",
       "      <th>away_score</th>\n",
       "      <th>home_yellow_cards</th>\n",
       "      <th>away_yellow_cards</th>\n",
       "      <th>home_red_cards</th>\n",
       "      <th>away_red_cards</th>\n",
       "      <th>home_attacks</th>\n",
       "      <th>away_attacks</th>\n",
       "      <th>...</th>\n",
       "      <th>away_dangerous_attacks</th>\n",
       "      <th>home_corners</th>\n",
       "      <th>away_corners</th>\n",
       "      <th>home_off_target</th>\n",
       "      <th>away_off_target</th>\n",
       "      <th>home_on_target</th>\n",
       "      <th>away_on_target</th>\n",
       "      <th>home_possession</th>\n",
       "      <th>away_possession</th>\n",
       "      <th>final_delta</th>\n",
       "    </tr>\n",
       "  </thead>\n",
       "  <tbody>\n",
       "    <tr>\n",
       "      <th>0</th>\n",
       "      <td>2f9dd904-8d9d-4aa0-a9d9-4e0f3e50d742</td>\n",
       "      <td>94</td>\n",
       "      <td>1</td>\n",
       "      <td>2</td>\n",
       "      <td>0</td>\n",
       "      <td>0</td>\n",
       "      <td>0</td>\n",
       "      <td>0</td>\n",
       "      <td>39</td>\n",
       "      <td>45</td>\n",
       "      <td>...</td>\n",
       "      <td>26</td>\n",
       "      <td>4</td>\n",
       "      <td>1</td>\n",
       "      <td>4</td>\n",
       "      <td>0</td>\n",
       "      <td>4</td>\n",
       "      <td>6</td>\n",
       "      <td>48</td>\n",
       "      <td>52</td>\n",
       "      <td>1</td>\n",
       "    </tr>\n",
       "    <tr>\n",
       "      <th>1</th>\n",
       "      <td>869c1420-9153-4d73-8d79-5db31a8a80a4</td>\n",
       "      <td>91</td>\n",
       "      <td>2</td>\n",
       "      <td>0</td>\n",
       "      <td>0</td>\n",
       "      <td>0</td>\n",
       "      <td>0</td>\n",
       "      <td>0</td>\n",
       "      <td>0</td>\n",
       "      <td>0</td>\n",
       "      <td>...</td>\n",
       "      <td>0</td>\n",
       "      <td>0</td>\n",
       "      <td>0</td>\n",
       "      <td>0</td>\n",
       "      <td>0</td>\n",
       "      <td>0</td>\n",
       "      <td>0</td>\n",
       "      <td>50</td>\n",
       "      <td>50</td>\n",
       "      <td>1</td>\n",
       "    </tr>\n",
       "    <tr>\n",
       "      <th>2</th>\n",
       "      <td>549e25a3-4c93-459d-b115-fb303273c78a</td>\n",
       "      <td>3</td>\n",
       "      <td>0</td>\n",
       "      <td>0</td>\n",
       "      <td>0</td>\n",
       "      <td>0</td>\n",
       "      <td>0</td>\n",
       "      <td>0</td>\n",
       "      <td>3</td>\n",
       "      <td>1</td>\n",
       "      <td>...</td>\n",
       "      <td>0</td>\n",
       "      <td>0</td>\n",
       "      <td>0</td>\n",
       "      <td>0</td>\n",
       "      <td>0</td>\n",
       "      <td>0</td>\n",
       "      <td>0</td>\n",
       "      <td>62</td>\n",
       "      <td>38</td>\n",
       "      <td>4</td>\n",
       "    </tr>\n",
       "    <tr>\n",
       "      <th>3</th>\n",
       "      <td>287b4be5-9163-4e2e-895d-d11052a97410</td>\n",
       "      <td>17</td>\n",
       "      <td>0</td>\n",
       "      <td>0</td>\n",
       "      <td>1</td>\n",
       "      <td>0</td>\n",
       "      <td>0</td>\n",
       "      <td>0</td>\n",
       "      <td>41</td>\n",
       "      <td>46</td>\n",
       "      <td>...</td>\n",
       "      <td>25</td>\n",
       "      <td>1</td>\n",
       "      <td>0</td>\n",
       "      <td>0</td>\n",
       "      <td>2</td>\n",
       "      <td>0</td>\n",
       "      <td>0</td>\n",
       "      <td>55</td>\n",
       "      <td>45</td>\n",
       "      <td>2</td>\n",
       "    </tr>\n",
       "    <tr>\n",
       "      <th>4</th>\n",
       "      <td>a607da6a-d6b2-4652-b7a5-6c8e4b61c2b8</td>\n",
       "      <td>76</td>\n",
       "      <td>1</td>\n",
       "      <td>0</td>\n",
       "      <td>1</td>\n",
       "      <td>0</td>\n",
       "      <td>0</td>\n",
       "      <td>0</td>\n",
       "      <td>69</td>\n",
       "      <td>78</td>\n",
       "      <td>...</td>\n",
       "      <td>46</td>\n",
       "      <td>1</td>\n",
       "      <td>1</td>\n",
       "      <td>0</td>\n",
       "      <td>3</td>\n",
       "      <td>4</td>\n",
       "      <td>4</td>\n",
       "      <td>45</td>\n",
       "      <td>55</td>\n",
       "      <td>0</td>\n",
       "    </tr>\n",
       "  </tbody>\n",
       "</table>\n",
       "<p>5 rows × 21 columns</p>\n",
       "</div>"
      ],
      "text/plain": [
       "                                   uuid  current_minute  home_score  \\\n",
       "0  2f9dd904-8d9d-4aa0-a9d9-4e0f3e50d742              94           1   \n",
       "1  869c1420-9153-4d73-8d79-5db31a8a80a4              91           2   \n",
       "2  549e25a3-4c93-459d-b115-fb303273c78a               3           0   \n",
       "3  287b4be5-9163-4e2e-895d-d11052a97410              17           0   \n",
       "4  a607da6a-d6b2-4652-b7a5-6c8e4b61c2b8              76           1   \n",
       "\n",
       "   away_score  home_yellow_cards  away_yellow_cards  home_red_cards  \\\n",
       "0           2                  0                  0               0   \n",
       "1           0                  0                  0               0   \n",
       "2           0                  0                  0               0   \n",
       "3           0                  1                  0               0   \n",
       "4           0                  1                  0               0   \n",
       "\n",
       "   away_red_cards  home_attacks  away_attacks  ...  away_dangerous_attacks  \\\n",
       "0               0            39            45  ...                      26   \n",
       "1               0             0             0  ...                       0   \n",
       "2               0             3             1  ...                       0   \n",
       "3               0            41            46  ...                      25   \n",
       "4               0            69            78  ...                      46   \n",
       "\n",
       "   home_corners  away_corners  home_off_target  away_off_target  \\\n",
       "0             4             1                4                0   \n",
       "1             0             0                0                0   \n",
       "2             0             0                0                0   \n",
       "3             1             0                0                2   \n",
       "4             1             1                0                3   \n",
       "\n",
       "   home_on_target  away_on_target  home_possession  away_possession  \\\n",
       "0               4               6               48               52   \n",
       "1               0               0               50               50   \n",
       "2               0               0               62               38   \n",
       "3               0               0               55               45   \n",
       "4               4               4               45               55   \n",
       "\n",
       "   final_delta  \n",
       "0            1  \n",
       "1            1  \n",
       "2            4  \n",
       "3            2  \n",
       "4            0  \n",
       "\n",
       "[5 rows x 21 columns]"
      ]
     },
     "execution_count": 2,
     "metadata": {},
     "output_type": "execute_result"
    }
   ],
   "source": [
    "df = pd.read_csv('sports.csv')\n",
    "df.head()"
   ]
  },
  {
   "cell_type": "markdown",
   "id": "af93fc23-29c8-4f2f-ace8-b0166b637d71",
   "metadata": {},
   "source": [
    "Given that we will only be using the specific features in the data, we will extract only the features that are relevant to the project. The following features will be extracted and pre-processed: \n",
    "- **`current_minute`**\n",
    "- **`home_score`**\n",
    "- **`away_score`**\n",
    "- **`home_attacks`**\n",
    "- **`away_attacks`**\n",
    "- **`home_dangerous_attacks`**\n",
    "- **`away_dangerous_attacks`**\n",
    "- **`home_on_target`**\n",
    "- **`away_on_target`**"
   ]
  },
  {
   "cell_type": "code",
   "execution_count": 3,
   "id": "22f770e0-261f-4bcc-a5c8-4a0e5a60d11a",
   "metadata": {},
   "outputs": [
    {
     "data": {
      "text/html": [
       "<div>\n",
       "<style scoped>\n",
       "    .dataframe tbody tr th:only-of-type {\n",
       "        vertical-align: middle;\n",
       "    }\n",
       "\n",
       "    .dataframe tbody tr th {\n",
       "        vertical-align: top;\n",
       "    }\n",
       "\n",
       "    .dataframe thead th {\n",
       "        text-align: right;\n",
       "    }\n",
       "</style>\n",
       "<table border=\"1\" class=\"dataframe\">\n",
       "  <thead>\n",
       "    <tr style=\"text-align: right;\">\n",
       "      <th></th>\n",
       "      <th>current_minute</th>\n",
       "      <th>home_score</th>\n",
       "      <th>away_score</th>\n",
       "      <th>home_attacks</th>\n",
       "      <th>away_attacks</th>\n",
       "      <th>home_dangerous_attacks</th>\n",
       "      <th>away_dangerous_attacks</th>\n",
       "      <th>home_on_target</th>\n",
       "      <th>away_on_target</th>\n",
       "    </tr>\n",
       "  </thead>\n",
       "  <tbody>\n",
       "    <tr>\n",
       "      <th>0</th>\n",
       "      <td>94</td>\n",
       "      <td>1</td>\n",
       "      <td>2</td>\n",
       "      <td>39</td>\n",
       "      <td>45</td>\n",
       "      <td>29</td>\n",
       "      <td>26</td>\n",
       "      <td>4</td>\n",
       "      <td>6</td>\n",
       "    </tr>\n",
       "    <tr>\n",
       "      <th>1</th>\n",
       "      <td>91</td>\n",
       "      <td>2</td>\n",
       "      <td>0</td>\n",
       "      <td>0</td>\n",
       "      <td>0</td>\n",
       "      <td>0</td>\n",
       "      <td>0</td>\n",
       "      <td>0</td>\n",
       "      <td>0</td>\n",
       "    </tr>\n",
       "    <tr>\n",
       "      <th>2</th>\n",
       "      <td>3</td>\n",
       "      <td>0</td>\n",
       "      <td>0</td>\n",
       "      <td>3</td>\n",
       "      <td>1</td>\n",
       "      <td>1</td>\n",
       "      <td>0</td>\n",
       "      <td>0</td>\n",
       "      <td>0</td>\n",
       "    </tr>\n",
       "    <tr>\n",
       "      <th>3</th>\n",
       "      <td>17</td>\n",
       "      <td>0</td>\n",
       "      <td>0</td>\n",
       "      <td>41</td>\n",
       "      <td>46</td>\n",
       "      <td>11</td>\n",
       "      <td>25</td>\n",
       "      <td>0</td>\n",
       "      <td>0</td>\n",
       "    </tr>\n",
       "    <tr>\n",
       "      <th>4</th>\n",
       "      <td>76</td>\n",
       "      <td>1</td>\n",
       "      <td>0</td>\n",
       "      <td>69</td>\n",
       "      <td>78</td>\n",
       "      <td>21</td>\n",
       "      <td>46</td>\n",
       "      <td>4</td>\n",
       "      <td>4</td>\n",
       "    </tr>\n",
       "  </tbody>\n",
       "</table>\n",
       "</div>"
      ],
      "text/plain": [
       "   current_minute  home_score  away_score  home_attacks  away_attacks  \\\n",
       "0              94           1           2            39            45   \n",
       "1              91           2           0             0             0   \n",
       "2               3           0           0             3             1   \n",
       "3              17           0           0            41            46   \n",
       "4              76           1           0            69            78   \n",
       "\n",
       "   home_dangerous_attacks  away_dangerous_attacks  home_on_target  \\\n",
       "0                      29                      26               4   \n",
       "1                       0                       0               0   \n",
       "2                       1                       0               0   \n",
       "3                      11                      25               0   \n",
       "4                      21                      46               4   \n",
       "\n",
       "   away_on_target  \n",
       "0               6  \n",
       "1               0  \n",
       "2               0  \n",
       "3               0  \n",
       "4               4  "
      ]
     },
     "execution_count": 3,
     "metadata": {},
     "output_type": "execute_result"
    }
   ],
   "source": [
    "df = df[[\"current_minute\",\"home_score\", 'away_score', 'home_attacks','away_attacks','home_dangerous_attacks','away_dangerous_attacks','home_on_target','away_on_target']]\n",
    "df.head()"
   ]
  },
  {
   "cell_type": "markdown",
   "id": "8723b796-37ae-4ce7-aa14-2da9d0f2632b",
   "metadata": {},
   "source": [
    "We will now begin cleaning the data.\n",
    "\n",
    "First, we will check if there are any null or missing values."
   ]
  },
  {
   "cell_type": "code",
   "execution_count": 4,
   "id": "50ed45c1-190c-473f-9d6e-b76ddaca6c97",
   "metadata": {},
   "outputs": [
    {
     "data": {
      "text/plain": [
       "current_minute            False\n",
       "home_score                False\n",
       "away_score                False\n",
       "home_attacks              False\n",
       "away_attacks              False\n",
       "home_dangerous_attacks    False\n",
       "away_dangerous_attacks    False\n",
       "home_on_target            False\n",
       "away_on_target            False\n",
       "dtype: bool"
      ]
     },
     "execution_count": 4,
     "metadata": {},
     "output_type": "execute_result"
    }
   ],
   "source": [
    "df.isnull().any()"
   ]
  },
  {
   "cell_type": "markdown",
   "id": "23b7d832-e5a8-4b55-863c-e514bd7175d6",
   "metadata": {},
   "source": [
    "Based on the output above, we can see that they are all `False`, indicating that there are no null or missing values."
   ]
  },
  {
   "cell_type": "markdown",
   "id": "a46998a9-afe3-423a-a5e8-637b6325cad1",
   "metadata": {},
   "source": [
    "We will next check if the data types of the variables are consistent."
   ]
  },
  {
   "cell_type": "code",
   "execution_count": 5,
   "id": "521de943-4f72-4ccf-9698-6e0b8d3f597b",
   "metadata": {},
   "outputs": [
    {
     "name": "stdout",
     "output_type": "stream",
     "text": [
      "<class 'pandas.core.frame.DataFrame'>\n",
      "RangeIndex: 7000 entries, 0 to 6999\n",
      "Data columns (total 9 columns):\n",
      " #   Column                  Non-Null Count  Dtype\n",
      "---  ------                  --------------  -----\n",
      " 0   current_minute          7000 non-null   int64\n",
      " 1   home_score              7000 non-null   int64\n",
      " 2   away_score              7000 non-null   int64\n",
      " 3   home_attacks            7000 non-null   int64\n",
      " 4   away_attacks            7000 non-null   int64\n",
      " 5   home_dangerous_attacks  7000 non-null   int64\n",
      " 6   away_dangerous_attacks  7000 non-null   int64\n",
      " 7   home_on_target          7000 non-null   int64\n",
      " 8   away_on_target          7000 non-null   int64\n",
      "dtypes: int64(9)\n",
      "memory usage: 492.3 KB\n"
     ]
    }
   ],
   "source": [
    "df.info()"
   ]
  },
  {
   "cell_type": "markdown",
   "id": "8596eea5-7afd-4442-a771-8c373ca764f3",
   "metadata": {},
   "source": [
    "Based on the output, we can see that all items in the data are non-null and have the integer data type."
   ]
  },
  {
   "cell_type": "markdown",
   "id": "beafad09-3707-470f-b136-b6aef9d15aac",
   "metadata": {},
   "source": [
    "We will now check if there are any default values within the data, which can be indicated by values that go beyond the data range (ex. below the minimum values or above the maximum)"
   ]
  },
  {
   "cell_type": "code",
   "execution_count": 6,
   "id": "5e395b69-85c0-4129-9127-bd20577f1269",
   "metadata": {},
   "outputs": [
    {
     "data": {
      "text/html": [
       "<div>\n",
       "<style scoped>\n",
       "    .dataframe tbody tr th:only-of-type {\n",
       "        vertical-align: middle;\n",
       "    }\n",
       "\n",
       "    .dataframe tbody tr th {\n",
       "        vertical-align: top;\n",
       "    }\n",
       "\n",
       "    .dataframe thead th {\n",
       "        text-align: right;\n",
       "    }\n",
       "</style>\n",
       "<table border=\"1\" class=\"dataframe\">\n",
       "  <thead>\n",
       "    <tr style=\"text-align: right;\">\n",
       "      <th></th>\n",
       "      <th>current_minute</th>\n",
       "      <th>home_score</th>\n",
       "      <th>away_score</th>\n",
       "      <th>home_attacks</th>\n",
       "      <th>away_attacks</th>\n",
       "      <th>home_dangerous_attacks</th>\n",
       "      <th>away_dangerous_attacks</th>\n",
       "      <th>home_on_target</th>\n",
       "      <th>away_on_target</th>\n",
       "    </tr>\n",
       "  </thead>\n",
       "  <tbody>\n",
       "    <tr>\n",
       "      <th>count</th>\n",
       "      <td>7000.000000</td>\n",
       "      <td>7000.000000</td>\n",
       "      <td>7000.000000</td>\n",
       "      <td>7000.000000</td>\n",
       "      <td>7000.000000</td>\n",
       "      <td>7000.000000</td>\n",
       "      <td>7000.000000</td>\n",
       "      <td>7000.000000</td>\n",
       "      <td>7000.000000</td>\n",
       "    </tr>\n",
       "    <tr>\n",
       "      <th>mean</th>\n",
       "      <td>59.491571</td>\n",
       "      <td>0.796000</td>\n",
       "      <td>0.623143</td>\n",
       "      <td>46.365429</td>\n",
       "      <td>43.325143</td>\n",
       "      <td>27.611429</td>\n",
       "      <td>24.201286</td>\n",
       "      <td>2.172143</td>\n",
       "      <td>1.796000</td>\n",
       "    </tr>\n",
       "    <tr>\n",
       "      <th>std</th>\n",
       "      <td>35.827892</td>\n",
       "      <td>1.070503</td>\n",
       "      <td>0.923248</td>\n",
       "      <td>36.004908</td>\n",
       "      <td>33.428276</td>\n",
       "      <td>22.977844</td>\n",
       "      <td>20.457007</td>\n",
       "      <td>2.320374</td>\n",
       "      <td>2.026002</td>\n",
       "    </tr>\n",
       "    <tr>\n",
       "      <th>min</th>\n",
       "      <td>-348.000000</td>\n",
       "      <td>0.000000</td>\n",
       "      <td>0.000000</td>\n",
       "      <td>0.000000</td>\n",
       "      <td>0.000000</td>\n",
       "      <td>0.000000</td>\n",
       "      <td>0.000000</td>\n",
       "      <td>0.000000</td>\n",
       "      <td>0.000000</td>\n",
       "    </tr>\n",
       "    <tr>\n",
       "      <th>25%</th>\n",
       "      <td>28.000000</td>\n",
       "      <td>0.000000</td>\n",
       "      <td>0.000000</td>\n",
       "      <td>15.000000</td>\n",
       "      <td>14.000000</td>\n",
       "      <td>8.000000</td>\n",
       "      <td>7.000000</td>\n",
       "      <td>0.000000</td>\n",
       "      <td>0.000000</td>\n",
       "    </tr>\n",
       "    <tr>\n",
       "      <th>50%</th>\n",
       "      <td>70.000000</td>\n",
       "      <td>0.000000</td>\n",
       "      <td>0.000000</td>\n",
       "      <td>43.000000</td>\n",
       "      <td>41.000000</td>\n",
       "      <td>25.000000</td>\n",
       "      <td>21.000000</td>\n",
       "      <td>2.000000</td>\n",
       "      <td>1.000000</td>\n",
       "    </tr>\n",
       "    <tr>\n",
       "      <th>75%</th>\n",
       "      <td>88.000000</td>\n",
       "      <td>1.000000</td>\n",
       "      <td>1.000000</td>\n",
       "      <td>71.000000</td>\n",
       "      <td>67.000000</td>\n",
       "      <td>42.000000</td>\n",
       "      <td>36.000000</td>\n",
       "      <td>3.000000</td>\n",
       "      <td>3.000000</td>\n",
       "    </tr>\n",
       "    <tr>\n",
       "      <th>max</th>\n",
       "      <td>583.000000</td>\n",
       "      <td>8.000000</td>\n",
       "      <td>9.000000</td>\n",
       "      <td>255.000000</td>\n",
       "      <td>183.000000</td>\n",
       "      <td>134.000000</td>\n",
       "      <td>140.000000</td>\n",
       "      <td>22.000000</td>\n",
       "      <td>19.000000</td>\n",
       "    </tr>\n",
       "  </tbody>\n",
       "</table>\n",
       "</div>"
      ],
      "text/plain": [
       "       current_minute   home_score   away_score  home_attacks  away_attacks  \\\n",
       "count     7000.000000  7000.000000  7000.000000   7000.000000   7000.000000   \n",
       "mean        59.491571     0.796000     0.623143     46.365429     43.325143   \n",
       "std         35.827892     1.070503     0.923248     36.004908     33.428276   \n",
       "min       -348.000000     0.000000     0.000000      0.000000      0.000000   \n",
       "25%         28.000000     0.000000     0.000000     15.000000     14.000000   \n",
       "50%         70.000000     0.000000     0.000000     43.000000     41.000000   \n",
       "75%         88.000000     1.000000     1.000000     71.000000     67.000000   \n",
       "max        583.000000     8.000000     9.000000    255.000000    183.000000   \n",
       "\n",
       "       home_dangerous_attacks  away_dangerous_attacks  home_on_target  \\\n",
       "count             7000.000000             7000.000000     7000.000000   \n",
       "mean                27.611429               24.201286        2.172143   \n",
       "std                 22.977844               20.457007        2.320374   \n",
       "min                  0.000000                0.000000        0.000000   \n",
       "25%                  8.000000                7.000000        0.000000   \n",
       "50%                 25.000000               21.000000        2.000000   \n",
       "75%                 42.000000               36.000000        3.000000   \n",
       "max                134.000000              140.000000       22.000000   \n",
       "\n",
       "       away_on_target  \n",
       "count     7000.000000  \n",
       "mean         1.796000  \n",
       "std          2.026002  \n",
       "min          0.000000  \n",
       "25%          0.000000  \n",
       "50%          1.000000  \n",
       "75%          3.000000  \n",
       "max         19.000000  "
      ]
     },
     "execution_count": 6,
     "metadata": {},
     "output_type": "execute_result"
    }
   ],
   "source": [
    "df.describe()"
   ]
  },
  {
   "cell_type": "markdown",
   "id": "c44cc2dc-4e40-412b-acf2-cc25de44b64f",
   "metadata": {},
   "source": [
    "Based on the output above, we can note the following:\n",
    "- The minimum value of **`current_minute`** is a negative value, while the maximum value goes beyond the total match time. \n",
    "- The minimum and maximum values of the remaining features are within the proper range."
   ]
  },
  {
   "cell_type": "markdown",
   "id": "38f6fa39-7be2-48e9-a2e1-38c09c1038c6",
   "metadata": {},
   "source": [
    "Since for this project we will be predicting whether the home team is winning or losing, we would ideally want the match to have sufficient data to be able to accurately predict this. If the match has barely begun, there might not be enough data to create an accurate prediction, and this may also skew the training data.\n",
    "\n",
    "With this, we will only use the match data for games that are either from the break time (eg. the middle of the game) or in the game's second half."
   ]
  },
  {
   "cell_type": "code",
   "execution_count": 7,
   "id": "6934ec14-6885-4697-bf9a-f5337b906113",
   "metadata": {},
   "outputs": [
    {
     "data": {
      "text/plain": [
       "count    4112.000000\n",
       "mean       82.137889\n",
       "std        14.433778\n",
       "min        45.000000\n",
       "25%        73.000000\n",
       "50%        83.000000\n",
       "75%        94.000000\n",
       "max       105.000000\n",
       "Name: current_minute, dtype: float64"
      ]
     },
     "execution_count": 7,
     "metadata": {},
     "output_type": "execute_result"
    }
   ],
   "source": [
    "df = df[ df['current_minute'] >= 45 ]\n",
    "df = df[ df['current_minute'] <= 105 ]\n",
    "df['current_minute'].describe()"
   ]
  },
  {
   "cell_type": "code",
   "execution_count": 8,
   "id": "b1a26414-fe15-4218-9b2c-ba5bad142836",
   "metadata": {},
   "outputs": [
    {
     "data": {
      "text/plain": [
       "4112"
      ]
     },
     "execution_count": 8,
     "metadata": {},
     "output_type": "execute_result"
    }
   ],
   "source": [
    "len(df)"
   ]
  },
  {
   "cell_type": "markdown",
   "id": "55ddf8d0-9c27-4c40-9a82-52c81ada807d",
   "metadata": {},
   "source": [
    "As shown, the values for **`current_minute`** are now within the appropriate time range.\n",
    "\n",
    "This now leaves us with 4112 items in the dataset."
   ]
  },
  {
   "cell_type": "markdown",
   "id": "d4a9aa71-1740-462d-a546-7ca92db2b9f8",
   "metadata": {},
   "source": [
    "We will now drop any duplicated data."
   ]
  },
  {
   "cell_type": "code",
   "execution_count": 9,
   "id": "6dcc5c63-ae6e-4d87-bdd3-c1cb53af3454",
   "metadata": {},
   "outputs": [
    {
     "data": {
      "text/plain": [
       "4112"
      ]
     },
     "execution_count": 9,
     "metadata": {},
     "output_type": "execute_result"
    }
   ],
   "source": [
    "df.drop_duplicates()\n",
    "len(df)"
   ]
  },
  {
   "cell_type": "markdown",
   "id": "7a0f6c51-24fd-422b-b43b-64ceeac24941",
   "metadata": {},
   "source": [
    "The number of rows in the dataset did not change, indicating that there were no duplicates."
   ]
  },
  {
   "cell_type": "markdown",
   "id": "1a00c160-025f-4fa4-9177-b5b06551fffa",
   "metadata": {},
   "source": [
    "Lastly, since we are only checking whether or not the home team is winning, we will remove any draw games from the dataset. This is indicated by games where the number of points of the home and away team are equal."
   ]
  },
  {
   "cell_type": "code",
   "execution_count": 10,
   "id": "53a9974a-cd58-4bee-83fc-c60766d2d134",
   "metadata": {},
   "outputs": [
    {
     "data": {
      "text/plain": [
       "2824"
      ]
     },
     "execution_count": 10,
     "metadata": {},
     "output_type": "execute_result"
    }
   ],
   "source": [
    "df = df[ (df['home_score'] != df['away_score']) ]\n",
    "len(df)"
   ]
  },
  {
   "cell_type": "markdown",
   "id": "f901b9c3-4d24-4b4b-8c35-0efab2a946d7",
   "metadata": {},
   "source": [
    "This now leaves us with 2824 items in the dataset."
   ]
  },
  {
   "cell_type": "markdown",
   "id": "321fef29-bc2f-402d-8b85-5538c3f2099d",
   "metadata": {},
   "source": [
    "With the data cleaned, we will now create columns for the extra features that will be used in this project. Since we will need to determine whether or not the home team is winning, we can create an extra variable named **`home_is_winning`**, which will be a boolean variable of whether or not the home team's score is higher than the away team's.\n",
    "\n",
    "As shown in the dataset, a majority of the variables come in pairs, with one corresponding to the home team and the other to the away team. For the remaining features used, we will merge these pairs into a single feature, denoted by the difference of the home team's statistic and the away team's statistic. This will be done to simplify the features used into a single variable, which can make the modelling process easier to perform.\n",
    "\n",
    "Below is an explanation of the extra features that will be added:\n",
    "- **`attacks_difference`**: Solved by subtracting `away_attacks` from `home_attacks`\n",
    "- **`attacks_dangerous_difference`**: Solved by subtracting `away_dangerous_attacks` from `home_dangerous_attacks`\n",
    "- **`on_target_difference`**: Solved by subtracting `away_on_target` from `home_on_target`"
   ]
  },
  {
   "cell_type": "code",
   "execution_count": 11,
   "id": "feaaeef4-f638-49e4-b019-93b216fe9ec0",
   "metadata": {},
   "outputs": [
    {
     "data": {
      "text/html": [
       "<div>\n",
       "<style scoped>\n",
       "    .dataframe tbody tr th:only-of-type {\n",
       "        vertical-align: middle;\n",
       "    }\n",
       "\n",
       "    .dataframe tbody tr th {\n",
       "        vertical-align: top;\n",
       "    }\n",
       "\n",
       "    .dataframe thead th {\n",
       "        text-align: right;\n",
       "    }\n",
       "</style>\n",
       "<table border=\"1\" class=\"dataframe\">\n",
       "  <thead>\n",
       "    <tr style=\"text-align: right;\">\n",
       "      <th></th>\n",
       "      <th>current_minute</th>\n",
       "      <th>home_score</th>\n",
       "      <th>away_score</th>\n",
       "      <th>home_attacks</th>\n",
       "      <th>away_attacks</th>\n",
       "      <th>home_dangerous_attacks</th>\n",
       "      <th>away_dangerous_attacks</th>\n",
       "      <th>home_on_target</th>\n",
       "      <th>away_on_target</th>\n",
       "      <th>home_is_winning</th>\n",
       "      <th>attacks_difference</th>\n",
       "      <th>attacks_dangerous_difference</th>\n",
       "      <th>on_target_difference</th>\n",
       "    </tr>\n",
       "  </thead>\n",
       "  <tbody>\n",
       "    <tr>\n",
       "      <th>0</th>\n",
       "      <td>94</td>\n",
       "      <td>1</td>\n",
       "      <td>2</td>\n",
       "      <td>39</td>\n",
       "      <td>45</td>\n",
       "      <td>29</td>\n",
       "      <td>26</td>\n",
       "      <td>4</td>\n",
       "      <td>6</td>\n",
       "      <td>False</td>\n",
       "      <td>6</td>\n",
       "      <td>3</td>\n",
       "      <td>-2</td>\n",
       "    </tr>\n",
       "    <tr>\n",
       "      <th>1</th>\n",
       "      <td>91</td>\n",
       "      <td>2</td>\n",
       "      <td>0</td>\n",
       "      <td>0</td>\n",
       "      <td>0</td>\n",
       "      <td>0</td>\n",
       "      <td>0</td>\n",
       "      <td>0</td>\n",
       "      <td>0</td>\n",
       "      <td>True</td>\n",
       "      <td>0</td>\n",
       "      <td>0</td>\n",
       "      <td>0</td>\n",
       "    </tr>\n",
       "    <tr>\n",
       "      <th>4</th>\n",
       "      <td>76</td>\n",
       "      <td>1</td>\n",
       "      <td>0</td>\n",
       "      <td>69</td>\n",
       "      <td>78</td>\n",
       "      <td>21</td>\n",
       "      <td>46</td>\n",
       "      <td>4</td>\n",
       "      <td>4</td>\n",
       "      <td>True</td>\n",
       "      <td>9</td>\n",
       "      <td>-25</td>\n",
       "      <td>0</td>\n",
       "    </tr>\n",
       "    <tr>\n",
       "      <th>5</th>\n",
       "      <td>92</td>\n",
       "      <td>2</td>\n",
       "      <td>0</td>\n",
       "      <td>87</td>\n",
       "      <td>72</td>\n",
       "      <td>40</td>\n",
       "      <td>35</td>\n",
       "      <td>3</td>\n",
       "      <td>3</td>\n",
       "      <td>True</td>\n",
       "      <td>-15</td>\n",
       "      <td>5</td>\n",
       "      <td>0</td>\n",
       "    </tr>\n",
       "    <tr>\n",
       "      <th>8</th>\n",
       "      <td>68</td>\n",
       "      <td>0</td>\n",
       "      <td>2</td>\n",
       "      <td>27</td>\n",
       "      <td>41</td>\n",
       "      <td>20</td>\n",
       "      <td>31</td>\n",
       "      <td>1</td>\n",
       "      <td>4</td>\n",
       "      <td>False</td>\n",
       "      <td>14</td>\n",
       "      <td>-11</td>\n",
       "      <td>-3</td>\n",
       "    </tr>\n",
       "  </tbody>\n",
       "</table>\n",
       "</div>"
      ],
      "text/plain": [
       "   current_minute  home_score  away_score  home_attacks  away_attacks  \\\n",
       "0              94           1           2            39            45   \n",
       "1              91           2           0             0             0   \n",
       "4              76           1           0            69            78   \n",
       "5              92           2           0            87            72   \n",
       "8              68           0           2            27            41   \n",
       "\n",
       "   home_dangerous_attacks  away_dangerous_attacks  home_on_target  \\\n",
       "0                      29                      26               4   \n",
       "1                       0                       0               0   \n",
       "4                      21                      46               4   \n",
       "5                      40                      35               3   \n",
       "8                      20                      31               1   \n",
       "\n",
       "   away_on_target  home_is_winning  attacks_difference  \\\n",
       "0               6            False                   6   \n",
       "1               0             True                   0   \n",
       "4               4             True                   9   \n",
       "5               3             True                 -15   \n",
       "8               4            False                  14   \n",
       "\n",
       "   attacks_dangerous_difference  on_target_difference  \n",
       "0                             3                    -2  \n",
       "1                             0                     0  \n",
       "4                           -25                     0  \n",
       "5                             5                     0  \n",
       "8                           -11                    -3  "
      ]
     },
     "execution_count": 11,
     "metadata": {},
     "output_type": "execute_result"
    }
   ],
   "source": [
    "# Add home_is_winning feature\n",
    "create_new_column = lambda row: True if (row[\"home_score\"] > row[\"away_score\"]) else False\n",
    "added_column = df.apply(create_new_column, axis=1)\n",
    "df[\"home_is_winning\"] = added_column\n",
    "\n",
    "# Add attacks_difference feature\n",
    "create_new_column = lambda row: row[\"away_attacks\"] - row[\"home_attacks\"]\n",
    "added_column = df.apply(create_new_column, axis=1)\n",
    "df[\"attacks_difference\"] = added_column\n",
    "\n",
    "# Add attacks_dangerous_difference feature\n",
    "create_new_column = lambda row: row[\"home_dangerous_attacks\"] - row[\"away_dangerous_attacks\"]\n",
    "added_column = df.apply(create_new_column, axis=1)\n",
    "df[\"attacks_dangerous_difference\"] = added_column\n",
    "\n",
    "# Add on_target_difference feature\n",
    "create_new_column = lambda row: row[\"home_on_target\"] - row[\"away_on_target\"]\n",
    "added_column = df.apply(create_new_column, axis=1)\n",
    "df[\"on_target_difference\"] = added_column\n",
    "\n",
    "df.head()"
   ]
  },
  {
   "cell_type": "markdown",
   "id": "18a5121e-c147-46c6-8b0b-2a525d04c6ec",
   "metadata": {},
   "source": [
    "We will now remove the unused features that we merged."
   ]
  },
  {
   "cell_type": "code",
   "execution_count": 12,
   "id": "388c2856-7ba6-48f3-9b2d-fa138d25b893",
   "metadata": {},
   "outputs": [
    {
     "data": {
      "text/html": [
       "<div>\n",
       "<style scoped>\n",
       "    .dataframe tbody tr th:only-of-type {\n",
       "        vertical-align: middle;\n",
       "    }\n",
       "\n",
       "    .dataframe tbody tr th {\n",
       "        vertical-align: top;\n",
       "    }\n",
       "\n",
       "    .dataframe thead th {\n",
       "        text-align: right;\n",
       "    }\n",
       "</style>\n",
       "<table border=\"1\" class=\"dataframe\">\n",
       "  <thead>\n",
       "    <tr style=\"text-align: right;\">\n",
       "      <th></th>\n",
       "      <th>current_minute</th>\n",
       "      <th>home_is_winning</th>\n",
       "      <th>attacks_difference</th>\n",
       "      <th>attacks_dangerous_difference</th>\n",
       "      <th>on_target_difference</th>\n",
       "    </tr>\n",
       "  </thead>\n",
       "  <tbody>\n",
       "    <tr>\n",
       "      <th>0</th>\n",
       "      <td>94</td>\n",
       "      <td>False</td>\n",
       "      <td>6</td>\n",
       "      <td>3</td>\n",
       "      <td>-2</td>\n",
       "    </tr>\n",
       "    <tr>\n",
       "      <th>1</th>\n",
       "      <td>91</td>\n",
       "      <td>True</td>\n",
       "      <td>0</td>\n",
       "      <td>0</td>\n",
       "      <td>0</td>\n",
       "    </tr>\n",
       "    <tr>\n",
       "      <th>4</th>\n",
       "      <td>76</td>\n",
       "      <td>True</td>\n",
       "      <td>9</td>\n",
       "      <td>-25</td>\n",
       "      <td>0</td>\n",
       "    </tr>\n",
       "    <tr>\n",
       "      <th>5</th>\n",
       "      <td>92</td>\n",
       "      <td>True</td>\n",
       "      <td>-15</td>\n",
       "      <td>5</td>\n",
       "      <td>0</td>\n",
       "    </tr>\n",
       "    <tr>\n",
       "      <th>8</th>\n",
       "      <td>68</td>\n",
       "      <td>False</td>\n",
       "      <td>14</td>\n",
       "      <td>-11</td>\n",
       "      <td>-3</td>\n",
       "    </tr>\n",
       "  </tbody>\n",
       "</table>\n",
       "</div>"
      ],
      "text/plain": [
       "   current_minute  home_is_winning  attacks_difference  \\\n",
       "0              94            False                   6   \n",
       "1              91             True                   0   \n",
       "4              76             True                   9   \n",
       "5              92             True                 -15   \n",
       "8              68            False                  14   \n",
       "\n",
       "   attacks_dangerous_difference  on_target_difference  \n",
       "0                             3                    -2  \n",
       "1                             0                     0  \n",
       "4                           -25                     0  \n",
       "5                             5                     0  \n",
       "8                           -11                    -3  "
      ]
     },
     "execution_count": 12,
     "metadata": {},
     "output_type": "execute_result"
    }
   ],
   "source": [
    "df = df[['current_minute','home_is_winning','attacks_difference','attacks_dangerous_difference','on_target_difference']]\n",
    "df.head()"
   ]
  },
  {
   "cell_type": "markdown",
   "id": "186d7a47-df90-4f6f-ba63-9379d4a4cfe1",
   "metadata": {},
   "source": [
    "We will now normalize the numerical data used in the dataset."
   ]
  },
  {
   "cell_type": "code",
   "execution_count": 13,
   "id": "877034aa-f633-4c9d-8fbc-6d5b46059d0d",
   "metadata": {},
   "outputs": [
    {
     "data": {
      "text/html": [
       "<div>\n",
       "<style scoped>\n",
       "    .dataframe tbody tr th:only-of-type {\n",
       "        vertical-align: middle;\n",
       "    }\n",
       "\n",
       "    .dataframe tbody tr th {\n",
       "        vertical-align: top;\n",
       "    }\n",
       "\n",
       "    .dataframe thead th {\n",
       "        text-align: right;\n",
       "    }\n",
       "</style>\n",
       "<table border=\"1\" class=\"dataframe\">\n",
       "  <thead>\n",
       "    <tr style=\"text-align: right;\">\n",
       "      <th></th>\n",
       "      <th>current_minute</th>\n",
       "      <th>home_is_winning</th>\n",
       "      <th>attacks_difference</th>\n",
       "      <th>attacks_dangerous_difference</th>\n",
       "      <th>on_target_difference</th>\n",
       "    </tr>\n",
       "  </thead>\n",
       "  <tbody>\n",
       "    <tr>\n",
       "      <th>0</th>\n",
       "      <td>94</td>\n",
       "      <td>False</td>\n",
       "      <td>0.539749</td>\n",
       "      <td>0.461538</td>\n",
       "      <td>0.484848</td>\n",
       "    </tr>\n",
       "    <tr>\n",
       "      <th>1</th>\n",
       "      <td>91</td>\n",
       "      <td>True</td>\n",
       "      <td>0.514644</td>\n",
       "      <td>0.443787</td>\n",
       "      <td>0.545455</td>\n",
       "    </tr>\n",
       "    <tr>\n",
       "      <th>4</th>\n",
       "      <td>76</td>\n",
       "      <td>True</td>\n",
       "      <td>0.552301</td>\n",
       "      <td>0.295858</td>\n",
       "      <td>0.545455</td>\n",
       "    </tr>\n",
       "    <tr>\n",
       "      <th>5</th>\n",
       "      <td>92</td>\n",
       "      <td>True</td>\n",
       "      <td>0.451883</td>\n",
       "      <td>0.473373</td>\n",
       "      <td>0.545455</td>\n",
       "    </tr>\n",
       "    <tr>\n",
       "      <th>8</th>\n",
       "      <td>68</td>\n",
       "      <td>False</td>\n",
       "      <td>0.573222</td>\n",
       "      <td>0.378698</td>\n",
       "      <td>0.454545</td>\n",
       "    </tr>\n",
       "  </tbody>\n",
       "</table>\n",
       "</div>"
      ],
      "text/plain": [
       "   current_minute  home_is_winning  attacks_difference  \\\n",
       "0              94            False            0.539749   \n",
       "1              91             True            0.514644   \n",
       "4              76             True            0.552301   \n",
       "5              92             True            0.451883   \n",
       "8              68            False            0.573222   \n",
       "\n",
       "   attacks_dangerous_difference  on_target_difference  \n",
       "0                      0.461538              0.484848  \n",
       "1                      0.443787              0.545455  \n",
       "4                      0.295858              0.545455  \n",
       "5                      0.473373              0.545455  \n",
       "8                      0.378698              0.454545  "
      ]
     },
     "execution_count": 13,
     "metadata": {},
     "output_type": "execute_result"
    }
   ],
   "source": [
    "columns_to_normalize = ['attacks_difference','attacks_dangerous_difference','on_target_difference']\n",
    "df[columns_to_normalize] = df[columns_to_normalize].apply(lambda x: (x - x.min()) / (x.max() - x.min()))\n",
    "df.head()"
   ]
  },
  {
   "cell_type": "markdown",
   "id": "c873b2e2-6d6f-403a-a1d8-5619393c0b48",
   "metadata": {},
   "source": [
    "# Exploratory Data Analysis"
   ]
  },
  {
   "cell_type": "markdown",
   "id": "105afff4-0f18-4695-9377-4ef7d593e2fb",
   "metadata": {},
   "source": [
    "What is the distribution of the current minutes?"
   ]
  },
  {
   "cell_type": "code",
   "execution_count": null,
   "id": "b391aee5-5759-4d2f-9a0b-19fb08b824a2",
   "metadata": {},
   "outputs": [],
   "source": [
    "minutes_df = df[[\"uuid\", \"current_minute\"]]\n",
    "minutes_df.hist(\"current_minute\", bins=50, edgecolor='w', figsize=(10,6))\n",
    "plt.show()"
   ]
  },
  {
   "cell_type": "markdown",
   "id": "4729de0f-c12a-40d0-83dc-3f35bbc8738d",
   "metadata": {},
   "source": [
    "# Model training"
   ]
  },
  {
   "cell_type": "markdown",
   "id": "cb91903b-e170-4327-85cc-42895c0d7978",
   "metadata": {
    "tags": []
   },
   "source": [
    "# Hyperparameter tuning"
   ]
  },
  {
   "cell_type": "markdown",
   "id": "a96a6f36-66af-4c9d-971c-ceae12d13aa6",
   "metadata": {},
   "source": [
    "# Model selection"
   ]
  },
  {
   "cell_type": "markdown",
   "id": "26adcf9a-fb3d-4370-b0f7-f0c74011357d",
   "metadata": {},
   "source": [
    "# Insights and conclusions"
   ]
  },
  {
   "cell_type": "markdown",
   "id": "5ddb7aa0",
   "metadata": {},
   "source": [
    "# Bibliography\n"
   ]
  },
  {
   "cell_type": "markdown",
   "id": "fe82fa77-aeef-40e7-bdd9-70d9fec6ecce",
   "metadata": {},
   "source": []
  }
 ],
 "metadata": {
  "kernelspec": {
   "display_name": "Python 3 (ipykernel)",
   "language": "python",
   "name": "python3"
  },
  "language_info": {
   "codemirror_mode": {
    "name": "ipython",
    "version": 3
   },
   "file_extension": ".py",
   "mimetype": "text/x-python",
   "name": "python",
   "nbconvert_exporter": "python",
   "pygments_lexer": "ipython3",
   "version": "3.9.12"
  }
 },
 "nbformat": 4,
 "nbformat_minor": 5
}
