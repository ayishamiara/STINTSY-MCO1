{
 "cells": [
  {
   "cell_type": "markdown",
   "id": "d24a81b3-2065-4f25-a249-5f4654eec0e6",
   "metadata": {
    "tags": []
   },
   "source": [
    "## MP Phase 1\n",
    "\n",
    "**S11 - Group x**\n",
    "\n",
    "**Submitted By:** <br>\n",
    "&nbsp;&nbsp;&nbsp;&nbsp;**Chua Ching, Janine**<br>\n",
    "&nbsp;&nbsp;&nbsp;&nbsp;**Ileto, Maxine**<br>\n",
    "&nbsp;&nbsp;&nbsp;&nbsp;**Dytoc, Ayisha**<br>\n",
    "&nbsp;&nbsp;&nbsp;&nbsp;**Tan, Jared**"
   ]
  },
  {
   "cell_type": "markdown",
   "id": "eb1852b7-49f8-44a9-b7d2-5780e73b7677",
   "metadata": {},
   "source": [
    "# Introduction"
   ]
  },
  {
   "cell_type": "markdown",
   "id": "33bccee2-ff06-4c72-bc79-c40517885425",
   "metadata": {},
   "source": [
    "## Target Task"
   ]
  },
  {
   "cell_type": "markdown",
   "id": "9db7f9bd-cb70-4fdb-9e34-61a5196346cd",
   "metadata": {
    "tags": []
   },
   "source": [
    "# Dataset Description"
   ]
  },
  {
   "cell_type": "markdown",
   "id": "498b2c12-63ef-4c12-9211-f5880540a0b6",
   "metadata": {},
   "source": [
    "## Import\n",
    "The following are imported for this project:"
   ]
  },
  {
   "cell_type": "code",
   "execution_count": null,
   "id": "81e3a006-62a6-4883-aaff-38e7e61fa63f",
   "metadata": {},
   "outputs": [],
   "source": [
    "# Python Libraries\n",
    "import numpy as np\n",
    "import pandas as pd"
   ]
  },
  {
   "cell_type": "code",
   "execution_count": null,
   "id": "c29dea18-e5ed-4812-a625-4803df9fb5f0",
   "metadata": {},
   "outputs": [],
   "source": [
    "# Dataset\n",
    "df = pd.read_csv('sports.csv')"
   ]
  },
  {
   "cell_type": "markdown",
   "id": "b62f5aee",
   "metadata": {},
   "source": [
    "## Description"
   ]
  },
  {
   "cell_type": "markdown",
   "id": "ef573226",
   "metadata": {},
   "source": []
  },
  {
   "cell_type": "markdown",
   "id": "3e8560c5",
   "metadata": {},
   "source": [
    "## Data Collection Process\n"
   ]
  },
  {
   "cell_type": "markdown",
   "id": "8b1acdc1",
   "metadata": {},
   "source": [
    "## Dataset Features\n"
   ]
  },
  {
   "cell_type": "markdown",
   "id": "1d51a86c",
   "metadata": {
    "tags": []
   },
   "source": [
    "## Dataset Variables\n",
    "\n",
    "The dataset contains a total of 22 variables (columns). The following are the descriptions of each variable in the dataset:\n",
    "\n",
    "- **`#`**: the index number of the player of when they were added into the dataset"
   ]
  },
  {
   "cell_type": "markdown",
   "id": "c776e6d8",
   "metadata": {},
   "source": [
    "To show a few examples, the first 5 rows of the dataset will be shown below:"
   ]
  },
  {
   "cell_type": "code",
   "execution_count": null,
   "id": "07aec1f3",
   "metadata": {},
   "outputs": [],
   "source": [
    "df.head()"
   ]
  },
  {
   "cell_type": "markdown",
   "id": "019a1848",
   "metadata": {},
   "source": [
    "### To verify if there are missing values for the used variables, null values are to be checked if they exist in the variables used in the dataset: "
   ]
  },
  {
   "cell_type": "code",
   "execution_count": null,
   "id": "8bfce1ec",
   "metadata": {},
   "outputs": [],
   "source": [
    "# Copy dataframe, but only contain the players' height, weight, points, rebounds, and assists\n",
    "name_height_weight_pts_reb_ast = df[['player_name','player_height', 'player_weight', 'pts', 'reb', 'ast']]\n",
    "\n",
    "# Check if there is any null values in the variables\n",
    "name_height_weight_pts_reb_ast.isnull().any()"
   ]
  },
  {
   "cell_type": "markdown",
   "id": "62c5e6b2",
   "metadata": {},
   "source": [
    "With the list displayed above, we can determine that the no missing values for the used variables."
   ]
  },
  {
   "cell_type": "markdown",
   "id": "1e428271-52d0-4bc7-bcaf-ac7c76ebd501",
   "metadata": {},
   "source": [
    "### To verify if there are data type for the used variables are correct, each used data type will be checked:"
   ]
  },
  {
   "cell_type": "code",
   "execution_count": null,
   "id": "e0ccf517-680a-40ab-935e-991ce7d0cf8a",
   "metadata": {},
   "outputs": [],
   "source": [
    "# Check the data type of the used variables\n",
    "name_height_weight_pts_reb_ast.info()"
   ]
  },
  {
   "cell_type": "markdown",
   "id": "18f01e1c-9061-4f7d-9572-19d942c235e9",
   "metadata": {},
   "source": [
    "All data types are *float64* data types except for the **`player_name`** column. This is to be expected as the **`player_name`** column is a string and pandas interprets it as an object while the five other columns are expected to be decimal numbers. "
   ]
  },
  {
   "cell_type": "markdown",
   "id": "f62ee623",
   "metadata": {},
   "source": [
    "### To verify if there are default values, default values are to be checked if they exist in the dataset (It is worth noting that zero points, rebounds, or assists is a possibility while height and weight cannot be zero):"
   ]
  },
  {
   "cell_type": "code",
   "execution_count": null,
   "id": "7cb022ee",
   "metadata": {},
   "outputs": [],
   "source": [
    "# Copy dataframe, but only contain the players' height and weight, points, rebounds, and assists\n",
    "height_weight = df[['player_height', 'player_weight']]\n",
    "\n",
    "# Copy dataframe, but only contain the players' points, rebounds, and assists\n",
    "pts_reb_ast = df[['pts', 'reb', 'ast']]\n",
    "\n",
    "# Check if there is any default values for the height and weight or the points, rebounds, and assists\n",
    "((height_weight.values <= 0).any() or (pts_reb_ast.values < 0).any())"
   ]
  },
  {
   "cell_type": "markdown",
   "id": "7826ac5a",
   "metadata": {},
   "source": [
    "With the code returning the boolean *False*, we can determine that the no default values for the used variables."
   ]
  },
  {
   "cell_type": "markdown",
   "id": "fc31780f-c266-4472-ad3b-44d2650f2f8a",
   "metadata": {},
   "source": [
    "### To verify if no observations are duplicates, observations will be checked if they are unique, dropping the **`#`** (index) column for a new dataset."
   ]
  },
  {
   "cell_type": "code",
   "execution_count": null,
   "id": "961a9a48-17d1-41c5-8024-9d6026c5a3f0",
   "metadata": {},
   "outputs": [],
   "source": [
    "# Drop duplicate rows in dataframe\n",
    "df.drop_duplicates()"
   ]
  },
  {
   "cell_type": "markdown",
   "id": "31ebdb4c-2ce5-47d5-bd90-8137ac3963ab",
   "metadata": {},
   "source": [
    "The **`#`** (index) column should be removed as this is only an indication of when a data was added into a dataset. If there are duplicate data, the **`#`** column will only get in the way of checking if there are duplicates."
   ]
  },
  {
   "cell_type": "code",
   "execution_count": null,
   "id": "a93c69ce-e6a4-457b-b235-efb30d842f81",
   "metadata": {},
   "outputs": [],
   "source": [
    "# Drop duplicate rows in dataframe without the index column\n",
    "df_no_index = df.drop(columns=df.columns[0], axis=1)"
   ]
  },
  {
   "cell_type": "markdown",
   "id": "e2f39747-eb61-4381-a25f-be7099f638b8",
   "metadata": {},
   "source": [
    "After creating a dataset without the index column, we then check if all observations (rows) are unique."
   ]
  },
  {
   "cell_type": "code",
   "execution_count": null,
   "id": "8914318a-7111-4156-9ed0-4449e6b8293a",
   "metadata": {},
   "outputs": [],
   "source": [
    "df_no_index.drop_duplicates()"
   ]
  },
  {
   "cell_type": "markdown",
   "id": "d11f7573-2127-406f-b667-b9f57c516ac0",
   "metadata": {},
   "source": [
    "Seeing as how, after using a function to drop duplicates, the number of obsevations (rows) did not change, we can determine that there are no duplicates in the dataset."
   ]
  },
  {
   "cell_type": "markdown",
   "id": "c0243473",
   "metadata": {},
   "source": [
    "### Despite the data being complete and without default values, the data needs to be pre-processed for the second Exploratory Data Analysis question, \"What is the distribution of the NBA players' heights?\"\n",
    "\n",
    "Given that each observation in the dataset contains an NBA player's data for a specific season, multiple observations may include the same player. There is a possibility that the heights of players may not be consistent throughout seasons, which may affect the data. With this, the consistency of player heights will first be verified. "
   ]
  },
  {
   "cell_type": "code",
   "execution_count": null,
   "id": "3427bd33",
   "metadata": {
    "tags": []
   },
   "outputs": [],
   "source": [
    "# verify if all NBA players have consistent heights throughout their seasons\n",
    "names_df = df.groupby([\"player_name\", \"player_height\"])[[\"player_name\", \"player_height\"]]\n",
    "\n",
    "# print result\n",
    "for key, item in names_df:\n",
    "    print(names_df. get_group(key))"
   ]
  },
  {
   "cell_type": "code",
   "execution_count": null,
   "id": "3f3e2906",
   "metadata": {},
   "outputs": [],
   "source": [
    "# verify if each groupby has only 1 unique name and height value\n",
    "unique_names_df = names_df.nunique() \n",
    "unique_names_df"
   ]
  },
  {
   "cell_type": "code",
   "execution_count": null,
   "id": "fcbdad46",
   "metadata": {},
   "outputs": [],
   "source": [
    "# verify if only one unique value for player_name and player_height\n",
    "unique_names_df.nunique()"
   ]
  },
  {
   "cell_type": "markdown",
   "id": "b17dbbae",
   "metadata": {},
   "source": [
    "As shown above, the values of the players' heights were found to remain consistent throughout different seasons.\n",
    "\n",
    "The heights of each player will then be stored in the variable **`heights_df`** to be easily used in the Exploratory Data Analysis portion of the notebook."
   ]
  },
  {
   "cell_type": "code",
   "execution_count": null,
   "id": "5594e85a",
   "metadata": {},
   "outputs": [],
   "source": [
    "heights_df = df.drop_duplicates(subset=['player_name'], keep='first')\n",
    "heights_df = heights_df[[\"player_name\", \"player_height\"]]"
   ]
  },
  {
   "cell_type": "markdown",
   "id": "542a1318",
   "metadata": {},
   "source": [
    "The first five observations in this dataframe are shown below."
   ]
  },
  {
   "cell_type": "code",
   "execution_count": null,
   "id": "f6ae1b83",
   "metadata": {},
   "outputs": [],
   "source": [
    "heights_df.head()"
   ]
  },
  {
   "cell_type": "code",
   "execution_count": null,
   "id": "1af44693-bd78-48bd-a955-3eb35a7659e6",
   "metadata": {},
   "outputs": [],
   "source": []
  },
  {
   "cell_type": "markdown",
   "id": "c873b2e2-6d6f-403a-a1d8-5619393c0b48",
   "metadata": {},
   "source": [
    "# Exploratory Data Analysis"
   ]
  },
  {
   "cell_type": "markdown",
   "id": "d1859d84",
   "metadata": {},
   "source": [
    "### Are there correlations between NBA players' height, weight, points, rebounds, and assists? "
   ]
  },
  {
   "cell_type": "markdown",
   "id": "fedf74b5",
   "metadata": {},
   "source": [
    "Reading through the dataset, five variables stood out for the research and they were the following:\n",
    "\n",
    "- **`player_height`**: the height of the player in centimeters\n",
    "- **`player_weight`**: the weight of the player in centimeters\n",
    "- **`pts`**: the average number of points the player scored per game for that season\n",
    "- **`reb`**: the average number of rebounds the player scored per game for that season\n",
    "- **`ast`**: the average number of assits the player scored per game for that season\n",
    "\n",
    "With these columns in mind, a correlation matrix indicating their levels of correlation is displayed below:"
   ]
  },
  {
   "cell_type": "code",
   "execution_count": null,
   "id": "65436801",
   "metadata": {},
   "outputs": [],
   "source": [
    "# Create a correlation matrix with the default Pearson method and round values to 2 decimal places\n",
    "height_weight_pts_reb_ast = df[['player_height', 'player_weight', 'pts', 'reb', 'ast']]\n",
    "height_weight_pts_reb_ast.corr().round(2)"
   ]
  },
  {
   "cell_type": "markdown",
   "id": "215215d6-2832-48c8-b3ce-63414f0df3ac",
   "metadata": {},
   "source": [
    "Based on this correlation matrix, the following observations were found (Akoglu, 2018):\n",
    "\n",
    "Positive Correlations:\n",
    "<ul>\n",
    "    <li>height and weight</li>\n",
    "    <li>height and rebounds</li>\n",
    "    <li>weight and rebounds</li>\n",
    "    <li>points and rebounds</li>\n",
    "    <li>points and assists</li>\n",
    "    <li>rebound and assists</li>\n",
    "</ul>\n",
    "\n",
    "Negative Correlations:\n",
    "<ul>\n",
    "    <li>height and assists</li>\n",
    "    <li>weight and assists</li>    \n",
    "</ul>\n",
    "\n",
    "No Correlations:\n",
    "<ul>\n",
    "    <li>height and points</li>\n",
    "    <li>weight and points</li>\n",
    "</ul>\n",
    "\n",
    "Strong Correlations:\n",
    "<ul>\n",
    "    <li>height and weight</li>\n",
    "</ul>\n",
    "\n",
    "Moderate Correlations:\n",
    "<ul>\n",
    "    <li>height and rebounds</li>\n",
    "    <li>height and assists</li> \n",
    "    <li>weight and rebounds</li>\n",
    "    <li>weight and assists</li> \n",
    "    <li>points and rebounds</li>\n",
    "    <li>points and assists</li>\n",
    "</ul>\n",
    "\n",
    "Weak Correlations:\n",
    "<ul>\n",
    "    <li>rebound and assists</li>     \n",
    "</ul>"
   ]
  },
  {
   "cell_type": "markdown",
   "id": "3e41ad6f",
   "metadata": {},
   "source": [
    "To also visualize the relationship of each variable, a scatter plot was generated to compare each of the variables in the dataset."
   ]
  },
  {
   "cell_type": "code",
   "execution_count": null,
   "id": "9b8c9d39",
   "metadata": {},
   "outputs": [],
   "source": [
    "# Create a scatter plot, comparing each variable to each other\n",
    "corr_scatter = pairplot(height_weight_pts_reb_ast, plot_kws={'alpha':0.1})\n",
    "corr_scatter"
   ]
  },
  {
   "cell_type": "markdown",
   "id": "34c2b271",
   "metadata": {},
   "source": [
    "From the displayed data, player **height** and **weight** are **strongly correlated**. According to Akoglu (2018), a Pearson correlation coefficient greater than 0.80 is a strong relationship. Because the NBA players' height and weight has a correlation coefficient of 0.83, exceeding 0.80, we can say that these two variables are strongly correlated."
   ]
  },
  {
   "cell_type": "markdown",
   "id": "3f24674d",
   "metadata": {},
   "source": [
    "### What is the distribution of the NBA players' heights?"
   ]
  },
  {
   "cell_type": "code",
   "execution_count": null,
   "id": "0f0c49ae",
   "metadata": {},
   "outputs": [],
   "source": [
    "# display histogram\n",
    "heights_df.hist(\"player_height\", bins=50, edgecolor='w', figsize=(10, 6))\n",
    "plt.show()"
   ]
  },
  {
   "cell_type": "markdown",
   "id": "f0fe0fbd",
   "metadata": {},
   "source": [
    "Included below are the numerical summaries of the heights of NBA players. The quartile, minimum and maximum values are displayed, as well as the mean, median, mode and standard deviation."
   ]
  },
  {
   "cell_type": "code",
   "execution_count": null,
   "id": "513a5a4d",
   "metadata": {},
   "outputs": [],
   "source": [
    "# quartile, minimum and maximum values\n",
    "heights_df.quantile([0.0,0.25,0.5,0.75,1.0])"
   ]
  },
  {
   "cell_type": "code",
   "execution_count": null,
   "id": "3a9e8848",
   "metadata": {},
   "outputs": [],
   "source": [
    "# mode\n",
    "heights_df.mode()[\"player_height\"][0]"
   ]
  },
  {
   "cell_type": "code",
   "execution_count": null,
   "id": "09bf202f",
   "metadata": {},
   "outputs": [],
   "source": [
    "# mean, median and std\n",
    "heights_df.agg({\"player_height\": [\"mean\", \"median\", \"std\"]}).round(2)"
   ]
  },
  {
   "cell_type": "markdown",
   "id": "02b2a783",
   "metadata": {},
   "source": [
    "The histogram of the heights of NBA players is relatively normally distributed, with the middle 50% of the data (25% to 75%) being from 193.04 to 205.74 centimeters. The data has a standard deviation of 9.05 cm. 25% of the data fall below 193.04 and 50% of the data fall below 200.66, while 75% of the data fall below 205.74.\n",
    "\n",
    "The shortest NBA player was found to be 160.02 cm, while the tallest was found to be 231.14 cm. Meanwhile, the most common height of nba players was found to be 205.74 cm."
   ]
  },
  {
   "cell_type": "markdown",
   "id": "31c8c0f5",
   "metadata": {},
   "source": [
    "### What is the distribution of the average number of points scored per game per season?"
   ]
  },
  {
   "cell_type": "code",
   "execution_count": null,
   "id": "c35489fc",
   "metadata": {},
   "outputs": [],
   "source": [
    "# display histogram\n",
    "df.hist(\"pts\", bins=50, edgecolor='w', figsize=(10, 5))\n",
    "plt.show()"
   ]
  },
  {
   "cell_type": "markdown",
   "id": "6e61ab24",
   "metadata": {},
   "source": [
    "Included below are the numerical summaries of the average number of points scored per game per season. The quartile, minimum and maximum values are displayed, as well as the mean, median, mode and standard deviation."
   ]
  },
  {
   "cell_type": "code",
   "execution_count": null,
   "id": "ead43d64",
   "metadata": {},
   "outputs": [],
   "source": [
    "# quartile, minimum and maximum values\n",
    "df[\"pts\"].quantile([0.0,0.25,0.5,0.75,1.0])"
   ]
  },
  {
   "cell_type": "code",
   "execution_count": null,
   "id": "ac5d609a",
   "metadata": {},
   "outputs": [],
   "source": [
    "# mode\n",
    "df.mode()['pts'][0]"
   ]
  },
  {
   "cell_type": "code",
   "execution_count": null,
   "id": "29b67fc7",
   "metadata": {
    "scrolled": true
   },
   "outputs": [],
   "source": [
    "# mean, median and std\n",
    "df.agg({\"pts\": [\"mean\", \"median\", \"std\"]}).round(2)"
   ]
  },
  {
   "cell_type": "markdown",
   "id": "cda09129",
   "metadata": {},
   "source": [
    "The histogram of the average number of points of each player per season is shown to have a positively-skewed or right-skewed distribution. The middle 50% of the data (25% to 75%) contains values from 3.6 to 11.5 points. The data has a standard deviation of 5.97 points, while  25% of the data fall below 3.6, 50% of the data fall below 6.7 and 75% of the data fall below 11.5. 2 points was found to be the most common average number of points scored.\n",
    "\n",
    "As visually shown in the histogram, a majority of the data are from the values of 0 to 10. Despite this, there are still outliers to the right of the histogram, with the highest average number of point scored being 36.1 and the lowest average number of points scored being 0."
   ]
  },
  {
   "cell_type": "markdown",
   "id": "da8d99a1",
   "metadata": {},
   "source": [
    "### What is the distribution of the average number of rebounds per game?"
   ]
  },
  {
   "cell_type": "code",
   "execution_count": null,
   "id": "5f08f9c9",
   "metadata": {},
   "outputs": [],
   "source": [
    "# display histogram\n",
    "df.hist(\"reb\", bins=50, edgecolor='w', figsize=(10, 5))\n",
    "plt.show()"
   ]
  },
  {
   "cell_type": "markdown",
   "id": "554df78b",
   "metadata": {},
   "source": [
    "As shown in the histogram above, the average number of rebounds per game is **positively skewed**."
   ]
  },
  {
   "cell_type": "code",
   "execution_count": null,
   "id": "aaeb545f",
   "metadata": {},
   "outputs": [],
   "source": [
    "# mode\n",
    "df.mode()[\"reb\"][0]"
   ]
  },
  {
   "cell_type": "code",
   "execution_count": null,
   "id": "2f80c3d7",
   "metadata": {},
   "outputs": [],
   "source": [
    "# mean, median and std\n",
    "df.agg({\"reb\": [\"mean\", \"median\", \"std\"]}).round(2)"
   ]
  },
  {
   "cell_type": "code",
   "execution_count": null,
   "id": "26aadc47",
   "metadata": {},
   "outputs": [],
   "source": [
    "# quartile, minimum and maximum values\n",
    "df[\"reb\"].quantile([0.0, 0.25, 0.5, 0.75, 1.0])"
   ]
  },
  {
   "cell_type": "markdown",
   "id": "32442e48",
   "metadata": {},
   "source": [
    "After calculating the numerical summaries, it is clear that the average number of rebounds per game has a positively skewed or right-skewed distribution. The most common amount of average rebounds per game is at 2.0. The data has a standard deviation of 2.48 rebounds. It can also be observed that 25% of the data fall below 1.8 rebounds, 50% of the data fall below 3.0 rebounds, and 75% below 4.7 rebounds. The highest amount of average rebounds per game is at 16.3 while the lowest is at 0.0 rebounds per game."
   ]
  },
  {
   "cell_type": "markdown",
   "id": "0d49bb2b",
   "metadata": {},
   "source": [
    "### What is the distribution of the average number of assists per game?"
   ]
  },
  {
   "cell_type": "code",
   "execution_count": null,
   "id": "c0e7a03b",
   "metadata": {},
   "outputs": [],
   "source": [
    "# display histogram\n",
    "df.hist(\"ast\", bins=50, edgecolor='w', figsize=(10, 5))\n",
    "plt.show()"
   ]
  },
  {
   "cell_type": "markdown",
   "id": "cda522e8",
   "metadata": {},
   "source": [
    "As shown in the histogram above, the average number of assists per game is **positively skewed**."
   ]
  },
  {
   "cell_type": "code",
   "execution_count": null,
   "id": "6909ab45",
   "metadata": {},
   "outputs": [],
   "source": [
    "# mode\n",
    "df.mode()[\"ast\"][0]"
   ]
  },
  {
   "cell_type": "code",
   "execution_count": null,
   "id": "9677b472",
   "metadata": {},
   "outputs": [],
   "source": [
    "# mean, median and std\n",
    "df.agg({\"ast\": [\"mean\", \"median\", \"std\"]}).round(2)"
   ]
  },
  {
   "cell_type": "code",
   "execution_count": null,
   "id": "f08d34c9",
   "metadata": {},
   "outputs": [],
   "source": [
    "# quartile, minimum and maximum values\n",
    "df[\"ast\"].quantile([0.0, 0.25, 0.5, 0.75, 1.0])"
   ]
  },
  {
   "cell_type": "markdown",
   "id": "902ed39c",
   "metadata": {},
   "source": [
    "After calculating the numerical summaries, it is clear that the average number of assists per game has a positively skewed or right-skewed distribution. The most common amount of average assists per game is at 0.3. The data has a standard deviation of 1.79 assists. It can also be observed that 25% of the data fall below 0.6 assists, 50% of the data fall below 1.2 assists, and 75% below 2.4 assists. The highest amount of average assists per game is at 11.7 while the lowest is at 0.0 assists per game."
   ]
  },
  {
   "cell_type": "markdown",
   "id": "d4dcd8ba-dea6-444d-af9f-7319a4108945",
   "metadata": {},
   "source": [
    "# Research Question"
   ]
  },
  {
   "cell_type": "markdown",
   "id": "f4b69f5f",
   "metadata": {},
   "source": [
    "In NBA teams, players are assigned one of the five positions in a basketball team, namely point guard, shooting guard, small forward, power forward, and center. Assignments are primarily determined by their role and height. Given that each player may be assigned to a different role within a game, a player's performance cannot solely be determined by their number of points scored. Rebounds gained and assists given can also be used to determine if a player is fulfilling a specific role given to them by their team. The scatterplots displayed in the first Exploratory Data Analysis question show a possibility of multiple clusters existing when comparing NBA players' season performances across different variables.\n",
    "\n",
    "Because it was found in the Exploratory Data Analysis that height and weight are greatly correlated with one another, the group decided to only use height for the research question.\n",
    "\n",
    "With this in mind, the group aims to answer the research question \"**How many clusters are found when basketball players are clustered by their height, points scored, rebounds gained, and assists given?**\" in the second phase of this project."
   ]
  },
  {
   "cell_type": "markdown",
   "id": "1b68301b-b2e2-4aa0-94e0-df52d1f927d5",
   "metadata": {
    "tags": []
   },
   "source": [
    "## MP Phase 2\n",
    "\n",
    "**S13 - Group 6**\n",
    "\n",
    "**Submitted By:** <br>\n",
    "&nbsp;&nbsp;&nbsp;&nbsp;**Ileto, Maxine**<br>\n",
    "&nbsp;&nbsp;&nbsp;&nbsp;**Posadas, Annika**<br>\n",
    "&nbsp;&nbsp;&nbsp;&nbsp;**Tan, Jared**"
   ]
  },
  {
   "cell_type": "markdown",
   "id": "76b1959a",
   "metadata": {},
   "source": [
    "# Data Modelling"
   ]
  },
  {
   "cell_type": "markdown",
   "id": "7f0d8cf4-7f06-4905-b704-f4d631f5d476",
   "metadata": {},
   "source": [
    "### Data Normalization"
   ]
  },
  {
   "cell_type": "markdown",
   "id": "d2cf3b19",
   "metadata": {},
   "source": [
    "Prior to modelling the data, a dataframe containing only values needed for answering the research question will first be made. This dataframe will be named `values_df`. A sample of the first five observations is also shown below."
   ]
  },
  {
   "cell_type": "code",
   "execution_count": null,
   "id": "d036a8c0",
   "metadata": {
    "scrolled": true
   },
   "outputs": [],
   "source": [
    "values_df = pd.DataFrame(df, columns = ['player_name','player_height','pts','reb','ast'])\n",
    "values_df.head()"
   ]
  },
  {
   "cell_type": "markdown",
   "id": "6ad869d7",
   "metadata": {},
   "source": [
    "A dataframe will be also made containing only numerical values (player height, points, rebounds, and assists). The dataframe values will also be preprocessed using normalization. After preprocessing, all numbers will only be from the values of 0 to 1.\n",
    "\n",
    "This dataframe will be called `normalized_df` and a copy of the first five observations are shown below."
   ]
  },
  {
   "cell_type": "code",
   "execution_count": null,
   "id": "f37bf758",
   "metadata": {},
   "outputs": [],
   "source": [
    "int_values_df = df[['player_height','pts','reb','ast']]\n",
    "\n",
    "# normalize values using MinMaxScaler\n",
    "scaler = MinMaxScaler()\n",
    "scaler.fit(int_values_df)\n",
    "normalized_df = scaler.transform(int_values_df)\n",
    "\n",
    "normalized_df = pd.DataFrame(normalized_df, columns = ['player_height','pts','reb','ast'])\n",
    "\n",
    "normalized_df.head()"
   ]
  },
  {
   "cell_type": "markdown",
   "id": "5c309299-aa1f-4a67-8d84-577e1219746e",
   "metadata": {},
   "source": [
    "### Determining the Number of Clusters"
   ]
  },
  {
   "cell_type": "markdown",
   "id": "f0233ef1",
   "metadata": {},
   "source": [
    "After preprocessing the data, the optimal k-value was determined using the elbow method. Based on the graph below, the optimal value was found to be either 4 or 5.\n",
    "\n",
    "For the remainder of this notebook, the k-value that will be used by the group is 5."
   ]
  },
  {
   "cell_type": "code",
   "execution_count": null,
   "id": "d2fce9f4",
   "metadata": {},
   "outputs": [],
   "source": [
    "from sklearn.cluster import KMeans\n",
    "\n",
    "limit = 15\n",
    " \n",
    "# wcss - within cluster sum of squared distances\n",
    "wcss = {}\n",
    "\n",
    "for k in range(2, limit + 1):\n",
    "    model = KMeans(n_clusters=k)\n",
    "    model.fit(normalized_df)\n",
    "    wcss[k] = model.inertia_\n",
    "\n",
    "plt.plot(wcss.keys(), wcss.values(), 'gs-')\n",
    "plt.xlabel('Values of \"k\"')\n",
    "plt.ylabel('WCSS')\n",
    "plt.show()"
   ]
  },
  {
   "cell_type": "markdown",
   "id": "a793abb8-4de9-443b-acd4-723939d6aab6",
   "metadata": {},
   "source": [
    "### Dataset Clustering"
   ]
  },
  {
   "cell_type": "code",
   "execution_count": null,
   "id": "fb84eb00",
   "metadata": {
    "tags": []
   },
   "outputs": [],
   "source": [
    "kmeans = KMeans(\n",
    "        n_clusters=5, \n",
    "        init=\"k-means++\",\n",
    "        n_init=10,\n",
    "        tol=1e-04,\n",
    "        random_state = 0\n",
    "        )\n",
    "\n",
    "kmeans.fit(normalized_df)\n",
    "\n",
    "clusters = pd.DataFrame(normalized_df)\n",
    "\n",
    "clusters['label'] = kmeans.labels_\n",
    "\n",
    "polar = clusters.groupby(\"label\").mean().reset_index()\n",
    "\n",
    "polar = pd.melt(polar,id_vars=[\"label\"])\n",
    "\n",
    "fig = px.line_polar(polar, r=\"value\", theta=\"variable\", color=\"label\", color_discrete_sequence=['red','orange','green','blue','indigo'], line_close=True, height=600, width=600)\n",
    "\n",
    "fig.show()"
   ]
  },
  {
   "cell_type": "markdown",
   "id": "4a9cd0ce-4c47-42eb-9199-62a2c64e9ab8",
   "metadata": {},
   "source": [
    "<!-- Image File -->\n",
    "<img src=\"img/polarchart.png\" alt=\"Count of Each Cluster from Total Number of Players\"/>"
   ]
  },
  {
   "cell_type": "markdown",
   "id": "ee1fe5d5",
   "metadata": {},
   "source": [
    "Based on the polar chart above, the five resulting clusters all have distinct characteristics. Players in Cluster 0 are characterized by average player heights but the lowest points, rebounds and assists. Players in Cluster 1 are the shortest, have average points and assists but the lowest rebounds. Players in Cluster 2 are the tallest, have average assists but have high points and the highest rebounds. Meanwhile, players in Cluster 3 are relatively average across height, points, rebounds and assists, while lastly, players in Cluster 4 are average in terms of height and rebounds, but score the highest number of points and assists.\n",
    "\n",
    "With the resulting polar chart, it also appears that the clustering resulted in two main groups with similar shapes, namely clusters 0, 2, and 3, and clusters 1 and 4. Clusters 0, 2, and 3 all have relatively similar shapes as indicated in the chart, however their sizes differ. While cluster 2 is the largest, cluster 0 is the smallest. On the other hand, clusters 1 and 4 have similar shapes, with cluster 1 being smaller.\n",
    "\n",
    "The only very close similarities observed in terms of values can be seen in player points, where clusters 2 and 4 have very close values, and in player rebounds, where clusters 0 and 1 have close values as well."
   ]
  },
  {
   "cell_type": "code",
   "execution_count": null,
   "id": "b5aea098-0869-43fc-b87b-4eaeed93419b",
   "metadata": {
    "tags": []
   },
   "outputs": [],
   "source": [
    "clusters.groupby('label').size().reset_index()\n",
    "\n",
    "print(\"Count of Each Cluster from Total Number of Players\")\n",
    "clusters['label'].value_counts().sort_index(ascending=True)"
   ]
  },
  {
   "cell_type": "markdown",
   "id": "064eea53-b1e6-4ca2-a0ca-3f49ab736bcb",
   "metadata": {},
   "source": [
    "<!-- Image File -->\n",
    "<img src=\"img/clustercount.png\" alt=\"Count of Each Cluster from Total Number of Players\"/>"
   ]
  },
  {
   "cell_type": "code",
   "execution_count": null,
   "id": "bf9e7170-f405-466b-ad49-70fc42acd1c4",
   "metadata": {
    "tags": []
   },
   "outputs": [],
   "source": [
    "print(\"Percentage of Each Cluster from Total Number of Players\")\n",
    "clusters['label'].value_counts(normalize=True) * 100"
   ]
  },
  {
   "cell_type": "markdown",
   "id": "3b10719f-23db-4f5a-86ff-d277960a5545",
   "metadata": {},
   "source": [
    "<!-- Image File -->\n",
    "<img src=\"img/clusterpercent.png\" alt=\"Count of Each Cluster from Total Number of Players\"/>"
   ]
  },
  {
   "cell_type": "markdown",
   "id": "0d8f858f-3103-4422-8c75-ef852ebab6f5",
   "metadata": {},
   "source": [
    "After segregating each observation based on their clusters, it was found that Cluster 0 comprises 32% of all observations with 3,937 entries, Cluster 1 comprises 22.35% with 2,750 observations, Cluster 2 comprises 9.65% with 1,187 observations, Cluster 3 comprises 24.58% with 3,024 observations, and lastly, Cluster 4 comprises 11.43% with 1,407 observations."
   ]
  },
  {
   "cell_type": "markdown",
   "id": "c0942f29-8f7c-4aee-aa2c-be69947d4488",
   "metadata": {},
   "source": [
    "### Cluster Description"
   ]
  },
  {
   "cell_type": "markdown",
   "id": "8cea69a7-a286-4421-9da0-30ff7d7d355c",
   "metadata": {},
   "source": [
    "#### Joining **`player_name`** Back Into the Clusters"
   ]
  },
  {
   "cell_type": "markdown",
   "id": "79fb10bd-a2db-425c-9643-cec4677f72e7",
   "metadata": {},
   "source": [
    "In order to create a dataframe with clusters that do not change every instance of a kernel restart, the following dataframes were saved into an external comma-separated values files once with the following code:\n",
    "\n",
    "- clusters.to_csv('clusters.csv', index=False)\n",
    "- names_normalized_df.to_csv('names_normalized_df.csv', index=False)\n",
    "\n",
    "Thereafter, any future access in this notebook is a reference to these files."
   ]
  },
  {
   "cell_type": "code",
   "execution_count": null,
   "id": "fc67fed8-4795-4a70-900e-a05f5a7f83d8",
   "metadata": {},
   "outputs": [],
   "source": [
    "clusters = pd.read_csv('clusters.csv')\n",
    "names_normalized_df = pd.read_csv('names_normalized_df.csv')"
   ]
  },
  {
   "cell_type": "code",
   "execution_count": null,
   "id": "5e24e367-411d-44b6-8e77-f81d4f0169d9",
   "metadata": {},
   "outputs": [],
   "source": [
    "labels_df = pd.DataFrame(clusters, columns = ['label'])\n",
    "\n",
    "label_values_df = values_df.join(labels_df)\n",
    "label_values_df.head()"
   ]
  },
  {
   "cell_type": "markdown",
   "id": "a492941a",
   "metadata": {},
   "source": [
    "To find the summary statistics across the five clusters, we first grouped the observations by their cluster."
   ]
  },
  {
   "cell_type": "code",
   "execution_count": null,
   "id": "d01a7227",
   "metadata": {},
   "outputs": [],
   "source": [
    "clusters_df = label_values_df.groupby(['label'])"
   ]
  },
  {
   "cell_type": "markdown",
   "id": "717c8909-3546-44e3-b2b6-cf216fe22c01",
   "metadata": {},
   "source": [
    "#### Player Heights EDA per Cluster"
   ]
  },
  {
   "cell_type": "markdown",
   "id": "0d82c856",
   "metadata": {},
   "source": [
    "Shown below are the numerical summaries of the heights of the NBA players per cluster, namely its mean, median, and standard deviation."
   ]
  },
  {
   "cell_type": "code",
   "execution_count": null,
   "id": "9d9ee198",
   "metadata": {},
   "outputs": [],
   "source": [
    "clusters_df.agg({\"player_height\": [\"mean\", \"median\", \"std\"]}).round(2)"
   ]
  },
  {
   "cell_type": "markdown",
   "id": "6b1dcc55",
   "metadata": {},
   "source": [
    "We also displayed the box plot of each cluster to see how the data is distributed within each cluster."
   ]
  },
  {
   "cell_type": "code",
   "execution_count": null,
   "id": "fe252b09",
   "metadata": {
    "tags": []
   },
   "outputs": [],
   "source": [
    "plt.title(\"Box Plot of Player Heights\")\n",
    "plt.ylabel(\"Player Height\")\n",
    "plt.rcParams[\"figure.figsize\"] = [15, 6]\n",
    "\n",
    "for i, grp in clusters_df:\n",
    "    plt.boxplot(x='player_height', data=grp, positions=[i])\n",
    "\n",
    "plt.xticks([0, 1, 2, 3, 4], ['Cluster 0', 'Cluster 1', 'Cluster 2', 'Cluster 3', 'Cluster 4',])\n",
    "plt.show()"
   ]
  },
  {
   "cell_type": "markdown",
   "id": "8637cbec",
   "metadata": {},
   "source": [
    "The box plot of Cluster 0 shows the heights of the players in this cluster with a mean of 204.80, a median of 205.74, and a standard deviation of 6.05. The overall shape of the this cluster's box plot is negatively skewed, with multiple outliers on the right.\n",
    "\n",
    "The box plot of Cluster 1 shows the heights of the players in this cluster with a mean of 190.05, a median of 190.50, and a standard deviation of 5.47. The overall shape of the this cluster's box plot is nearly symmetrical, with multiple outliers on both sides but mostly on the left.\n",
    "\n",
    "The box plot of Cluster 2 shows the heights of the players in this cluster with a mean of 208.61, a median of 208.28, and a standard deviation of 4.95. The overall shape of the this cluster's box plot is nearly symmetrical, with multiple outliers on both sides but mostly on the right.\n",
    "\n",
    "The box plot of Cluster 3 shows the heights of the players in this cluster with a mean of 205.54, a median of 205.74, and a standard deviation of 5.38. The overall shape of the this cluster's box plot is negatively skewed, with multiple outliers on its right.\n",
    "\n",
    "The box plot of Cluster 4 shows the heights of the players in this cluster with a mean of 192.20, a median of 190.50, and a standard deviation of 6.61. The overall shape of the this cluster's box plot is positively skewed, with a few outliers on its left."
   ]
  },
  {
   "cell_type": "markdown",
   "id": "b86dda0e-e983-4368-86e9-a9fa47a5d398",
   "metadata": {},
   "source": [
    "#### Player Points EDA per Cluster"
   ]
  },
  {
   "cell_type": "markdown",
   "id": "e0e31347",
   "metadata": {},
   "source": [
    "Shown below are the numerical summaries of the points scored the NBA players per cluster, namely its mean, median, and standard deviation."
   ]
  },
  {
   "cell_type": "code",
   "execution_count": null,
   "id": "db067f5e",
   "metadata": {},
   "outputs": [],
   "source": [
    "clusters_df.agg({\"pts\": [\"mean\", \"median\", \"std\"]}).round(2)"
   ]
  },
  {
   "cell_type": "markdown",
   "id": "4be2aa35",
   "metadata": {},
   "source": [
    "We also displayed the box plot of each cluster to see how the data is distributed within each cluster."
   ]
  },
  {
   "cell_type": "code",
   "execution_count": null,
   "id": "5101019e-412b-4448-a1e6-4390141f7aa8",
   "metadata": {},
   "outputs": [],
   "source": [
    "plt.title(\"Box Plot of Player Points\")\n",
    "plt.ylabel(\"Player Points\")\n",
    "plt.rcParams[\"figure.figsize\"] = [15, 6]\n",
    "plt.rcParams[\"figure.autolayout\"] = True\n",
    "\n",
    "for i, grp in label_values_df.groupby('label'):\n",
    "    plt.boxplot(x='pts', data=grp, positions=[i])\n",
    "\n",
    "plt.xticks([0, 1, 2, 3, 4], ['Cluster 0', 'Cluster 1', 'Cluster 2', 'Cluster 3', 'Cluster 4',])\n",
    "plt.show()"
   ]
  },
  {
   "cell_type": "markdown",
   "id": "aa64e43d",
   "metadata": {},
   "source": [
    "The box plot of Cluster 0 shows the points of the players in this cluster with a mean of 3.11, a median of 3.00, and a standard deviation of 1.72. The overall shape of the this cluster's box plot is positively skewed, with an upper whisker longer than its lower whisker and many outliers to its right.\n",
    "\n",
    "The box plot of Cluster 1 shows the points of the players in this cluster with a mean of 6.29, a median of 6.05, and a standard deviation of 3.15. The overall shape of the this cluster's box plot is positively skewed, with an upper whisker longer than its lower whisker and many outliers to its right.\n",
    "\n",
    "The box plot of Cluster 2 shows the points of the players in this cluster with a mean of 16.63, a median of 16.40, and a standard deviation of 4.68. The overall shape of the this cluster's box plot is nearly symmetrical, with one outlier to the left and many outliers to its right.\n",
    "\n",
    "The box plot of Cluster 3 shows the points of the players in this cluster with a mean of 9.06, a median of 8.70, and a standard deviation of 3.06. The overall shape of the this cluster's box plot is nearly symmetrical, with one outlier to the left and many outliers to its right.\n",
    "\n",
    "The box plot of Cluster 4 shows the points of the players in this cluster with a mean of 16.99, a median of 16.50, and a standard deviation of 5.22. The overall shape of the this cluster's box plot is positively skewed, with an upper whisker longer than its lower whisker and many outliers to its right."
   ]
  },
  {
   "cell_type": "markdown",
   "id": "7fc2fec2-e944-40f9-9936-feb728a6dd4e",
   "metadata": {},
   "source": [
    "#### Player Rebounds EDA per Cluster"
   ]
  },
  {
   "cell_type": "markdown",
   "id": "df862f7c",
   "metadata": {},
   "source": [
    "Shown below are the numerical summaries of the rebounds of the NBA players per cluster, namely its mean, median, and standard deviation."
   ]
  },
  {
   "cell_type": "code",
   "execution_count": null,
   "id": "422ed375",
   "metadata": {},
   "outputs": [],
   "source": [
    "clusters_df.agg({\"reb\": [\"mean\", \"median\", \"std\"]}).round(2)"
   ]
  },
  {
   "cell_type": "markdown",
   "id": "daa81912",
   "metadata": {},
   "source": [
    "We also displayed the box plot of each cluster to see how the data is distributed within each cluster."
   ]
  },
  {
   "cell_type": "code",
   "execution_count": null,
   "id": "c93a04f1-8862-416d-b5c5-a057ea3dcf69",
   "metadata": {},
   "outputs": [],
   "source": [
    "plt.title(\"Box Plot of Player Rebounds\")\n",
    "plt.ylabel(\"Player Rebounds\")\n",
    "plt.rcParams[\"figure.figsize\"] = [15, 6]\n",
    "plt.rcParams[\"figure.autolayout\"] = True\n",
    "\n",
    "for i, grp in clusters_df:\n",
    "    plt.boxplot(x='reb', data=grp, positions=[i])\n",
    "\n",
    "plt.xticks([0, 1, 2, 3, 4], ['Cluster 0', 'Cluster 1', 'Cluster 2', 'Cluster 3', 'Cluster 4',])\n",
    "plt.show()"
   ]
  },
  {
   "cell_type": "markdown",
   "id": "def628ad",
   "metadata": {},
   "source": [
    "The box plot of Cluster 0 shows the rebounds of the players in this cluster with a mean of 1.97, a median of 1.9, and a standard deviation of 1.01. The overall shape of the this cluster's box plot is positively skewed, with an upper whisker longer than its lower whisker and a few outliers to its right.\n",
    "\n",
    "The box plot of Cluster 1 shows the rebounds of the players in this cluster with a mean of 1.83, a median of 1.8, and a standard deviation of 0.86. The overall shape of the this cluster's box plot is positively skewed, with an upper whisker slightly longer than its lower whisker and many outliers to its right.\n",
    "\n",
    "The box plot of Cluster 2 shows the rebounds of the players in this cluster with a mean of 8.80, a median of 8.6, and a standard deviation of 2.12. The overall shape of the this cluster's box plot is positively skewed, with an upper whisker slightly longer than its lower whisker and many outliers to its right.\n",
    "\n",
    "The box plot of Cluster 3 shows the rebounds of the players in this cluster with a mean of 4.89, a median of 4.7, and a standard deviation of 1.33. The overall shape of the this cluster's box plot is nearly symmetrical, with many outliers to its right.\n",
    "\n",
    "The box plot of Cluster 4 shows the rebounds of the players in this cluster with a mean of 4.09, a median of 3.8, and a standard deviation of 1.38. The overall shape of the this cluster's box plot is nearly symmetrical, with one outlier to its left and many outliers to its right."
   ]
  },
  {
   "cell_type": "markdown",
   "id": "4ae1fd47-94c5-4644-8b68-06750fdd94c2",
   "metadata": {},
   "source": [
    "#### Player Assists EDA per Cluster"
   ]
  },
  {
   "cell_type": "markdown",
   "id": "0113c4cc",
   "metadata": {},
   "source": [
    "Shown below are the numerical summaries of the assists of the NBA players per cluster, namely its mean, median, and standard deviation."
   ]
  },
  {
   "cell_type": "code",
   "execution_count": null,
   "id": "8974eb27",
   "metadata": {},
   "outputs": [],
   "source": [
    "clusters_df.agg({\"ast\": [\"mean\", \"median\", \"std\"]}).round(2)"
   ]
  },
  {
   "cell_type": "markdown",
   "id": "8b6d4edd",
   "metadata": {},
   "source": [
    "We also displayed the box plot of each cluster to see how the data is distributed within each cluster."
   ]
  },
  {
   "cell_type": "code",
   "execution_count": null,
   "id": "ad589206-3864-4780-bb26-d33ad1747857",
   "metadata": {},
   "outputs": [],
   "source": [
    "plt.title(\"Box Plot of Player Assists\")\n",
    "plt.ylabel(\"Player Assists\")\n",
    "plt.rcParams[\"figure.figsize\"] = [15, 6]\n",
    "plt.rcParams[\"figure.autolayout\"] = True\n",
    "\n",
    "for i, grp in clusters_df:\n",
    "    plt.boxplot(x='ast', data=grp, positions=[i])\n",
    "\n",
    "plt.xticks([0, 1, 2, 3, 4], ['Cluster 0', 'Cluster 1', 'Cluster 2', 'Cluster 3', 'Cluster 4',])\n",
    "plt.show()"
   ]
  },
  {
   "cell_type": "markdown",
   "id": "5a6efb23",
   "metadata": {},
   "source": [
    "The box plot of Cluster 0 shows the assists of the players in this cluster with a mean of 0.49, a median of 0.4, and a standard deviation of 0.37. The overall shape of the this cluster's box plot is positively skewed, with an upper whisker longer than its lower whisker and a few outliers to its right.\n",
    "\n",
    "The box plot of Cluster 1 shows the assists of the players in this cluster with a mean of 2.07, a median of 1.9, and a standard deviation of 1.07. The overall shape of the this cluster's box plot is positively skewed, with with an upper whisker slightly longer than its lower whisker and outliers to its right.\n",
    "\n",
    "The box plot of Cluster 2 shows the assists of the players in this cluster with a mean of 2.34, a median of 2.1, and a standard deviation of 1.15. The overall shape of the this cluster's box plot is positively skewed, with an upper whisker slightly longer than its lower whisker and many outliers to its right.\n",
    "\n",
    "The box plot of Cluster 3 shows the assists of the players in this cluster with a mean of 1.36, a median of 1.2, and a standard deviation of 0.72. The overall shape of the this cluster's box plot is positively skewed, with an upper whisker longer than its lower whisker and many outliers to its right.\n",
    "\n",
    "The box plot of Cluster 4 shows the assists of the players in this cluster with a mean of 5.56, a median of 5.3, and a standard deviation of 1.88. The overall shape of the this cluster's box plot is is positively skewed, with an upper whisker slightly longer than its lower whisker and many outliers to its right."
   ]
  },
  {
   "cell_type": "markdown",
   "id": "69227f1b",
   "metadata": {},
   "source": [
    "# Statistical Inference\n",
    "\n",
    "With the results of the elbow method in determining the number of clusters in the dataset, 5 distinct clusters was found. in this section of the notebook, the group will explore similarities found among clusters within the dataset, whether this be in the cluster shapes or in certain values.\n",
    "\n",
    "Given the similarities in shape of clusters 0, 2, and 3, and clusters 1 and 4, the group further explored how similar these clusters are to one another in terms of the player height, points, rebounds and assists.\n",
    "\n",
    "Aside from this, the group also compared clusters 0 and 1 due to their similarities in terms of player rebounds and compared clusters 2 and 4 due to their similarities in points scored.\n",
    "\n",
    "In doing analyzing these clusters, the group performed 𝑡 -tests to compare two means from unpaired and independent groups. For all hypotheses made in this section of the paper, the significance level used was 5%.\n",
    "\n",
    "A comprehensive overview of all tested hypotheses along with their p-values and corresponding results can be found below."
   ]
  },
  {
   "cell_type": "markdown",
   "id": "06c19013",
   "metadata": {},
   "source": [
    "## Player Height"
   ]
  },
  {
   "cell_type": "markdown",
   "id": "52116382",
   "metadata": {},
   "source": [
    "### Cluster 0 and 1\n",
    "\n",
    "We set up our hypotheses as follows:\n",
    "\n",
    "$H_0$ (null hypothesis): The true difference of the player heights is 0.\n",
    "\n",
    "$H_A$ (alternative hypothesis): The true difference of the player heights is not 0."
   ]
  },
  {
   "cell_type": "code",
   "execution_count": null,
   "id": "0aec0be7",
   "metadata": {},
   "outputs": [],
   "source": [
    "tstat, pvalue = ttest_ind(label_values_df[label_values_df[\"label\"] == 0][\"player_height\"],\n",
    "          label_values_df[label_values_df[\"label\"] == 1][\"player_height\"],\n",
    "          equal_var = False)"
   ]
  },
  {
   "cell_type": "code",
   "execution_count": null,
   "id": "cada7c8e-a1a5-404b-8fbe-648bca350ce3",
   "metadata": {},
   "outputs": [],
   "source": [
    "print('Computed P-Value: ', pvalue)"
   ]
  },
  {
   "cell_type": "code",
   "execution_count": null,
   "id": "93f35b30-aa62-42d8-9a9f-cc9814fa0fa1",
   "metadata": {
    "tags": []
   },
   "outputs": [],
   "source": [
    "if pvalue < 0.05:\n",
    "    print('Null hypothesis is rejected, there is a statistical difference between the two means.')\n",
    "else:\n",
    "    print('We cannot reject the null hypothesis, there is no statistical significance with the difference.')"
   ]
  },
  {
   "cell_type": "markdown",
   "id": "9ff7825d-d3a6-4e34-80eb-eb29f7fe5804",
   "metadata": {},
   "source": [
    "***Based on these results, we can conclude that the mean player heights of Cluster 0 and Cluster 1 are statistically different under a 5% significance level.***"
   ]
  },
  {
   "cell_type": "markdown",
   "id": "59908075-d762-4fcb-8ed1-155ba705e05a",
   "metadata": {},
   "source": [
    "### Cluster 1 and 4\n",
    "\n",
    "We set up our hypotheses as follows:\n",
    "\n",
    "$H_0$ (null hypothesis): The true difference of the player heights is 0.\n",
    "\n",
    "$H_A$ (alternative hypothesis): The true difference of the player heights is not 0."
   ]
  },
  {
   "cell_type": "code",
   "execution_count": null,
   "id": "c3b559f4-e33b-47c6-96d1-36aacd149921",
   "metadata": {},
   "outputs": [],
   "source": [
    "tstat, pvalue = ttest_ind(label_values_df[label_values_df[\"label\"] == 1][\"player_height\"],\n",
    "          label_values_df[label_values_df[\"label\"] == 4][\"player_height\"],\n",
    "          equal_var = False)"
   ]
  },
  {
   "cell_type": "code",
   "execution_count": null,
   "id": "287538be-aa83-4b0e-80c6-0f6074472511",
   "metadata": {},
   "outputs": [],
   "source": [
    "print('Computed P-Value: ', pvalue)"
   ]
  },
  {
   "cell_type": "code",
   "execution_count": null,
   "id": "b5c37de2-3fff-4d9f-be4b-acc30d61485c",
   "metadata": {
    "tags": []
   },
   "outputs": [],
   "source": [
    "if pvalue < 0.05:\n",
    "    print('Null hypothesis is rejected, there is a statistical difference between the two means.')\n",
    "else:\n",
    "    print('We cannot reject the null hypothesis, there is no statistical significance with the difference.')"
   ]
  },
  {
   "cell_type": "markdown",
   "id": "a60179f3-2b00-49f4-b77c-bc97c729c90a",
   "metadata": {},
   "source": [
    "***Based on these results, we can conclude that the mean player heights of Cluster 1 and Cluster 4 are statistically different under a 5% significance level.***"
   ]
  },
  {
   "cell_type": "markdown",
   "id": "3f8cc46d-541d-40e6-9a2f-6cfcc63ffe99",
   "metadata": {},
   "source": [
    "### Cluster 2 and 4\n",
    "\n",
    "We set up our hypotheses as follows:\n",
    "\n",
    "$H_0$ (null hypothesis): The true difference of the player heights is 0.\n",
    "\n",
    "$H_A$ (alternative hypothesis): The true difference of the player heights is not 0."
   ]
  },
  {
   "cell_type": "code",
   "execution_count": null,
   "id": "150bdd4b-aad5-4d1b-8680-538546099849",
   "metadata": {},
   "outputs": [],
   "source": [
    "tstat, pvalue = ttest_ind(label_values_df[label_values_df[\"label\"] == 2][\"player_height\"],\n",
    "          label_values_df[label_values_df[\"label\"] == 4][\"player_height\"],\n",
    "          equal_var = False)"
   ]
  },
  {
   "cell_type": "code",
   "execution_count": null,
   "id": "a914eaad-39a6-490c-a09a-2ecf06e5fe2f",
   "metadata": {},
   "outputs": [],
   "source": [
    "print('Computed P-Value: ', pvalue)"
   ]
  },
  {
   "cell_type": "code",
   "execution_count": null,
   "id": "23907419-f2be-41c1-b53d-e4ff994550aa",
   "metadata": {
    "tags": []
   },
   "outputs": [],
   "source": [
    "if pvalue < 0.05:\n",
    "    print('Null hypothesis is rejected, there is a statistical difference between the two means.')\n",
    "else:\n",
    "    print('We cannot reject the null hypothesis, there is no statistical significance with the difference.')"
   ]
  },
  {
   "cell_type": "markdown",
   "id": "d27e1c29-de94-44f1-929f-b931d1959ba5",
   "metadata": {},
   "source": [
    "***Based on these results, we can conclude that the mean player heights of Cluster 2 and Cluster 4 are statistically different under a 5% significance level.***"
   ]
  },
  {
   "cell_type": "markdown",
   "id": "9d11bb87",
   "metadata": {},
   "source": [
    "### Cluster 0 and 2\n",
    "\n",
    "We set up our hypotheses as follows:\n",
    "\n",
    "$H_0$ (null hypothesis): The true difference of the player heights is 0.\n",
    "\n",
    "$H_A$ (alternative hypothesis): The true difference of the player heights is not 0."
   ]
  },
  {
   "cell_type": "code",
   "execution_count": null,
   "id": "b5256bf3",
   "metadata": {},
   "outputs": [],
   "source": [
    "tstat, pvalue = ttest_ind(label_values_df[label_values_df[\"label\"] == 0][\"player_height\"],\n",
    "          label_values_df[label_values_df[\"label\"] == 2][\"player_height\"],\n",
    "          equal_var = False)"
   ]
  },
  {
   "cell_type": "code",
   "execution_count": null,
   "id": "85b8165d-ed45-4a30-a892-a3277c9c9447",
   "metadata": {},
   "outputs": [],
   "source": [
    "print('Computed P-Value: ', pvalue)"
   ]
  },
  {
   "cell_type": "code",
   "execution_count": null,
   "id": "516bc531-fd80-44f6-a9fa-6f7a2bc5a435",
   "metadata": {
    "tags": []
   },
   "outputs": [],
   "source": [
    "if pvalue < 0.05:\n",
    "    print('Null hypothesis is rejected, there is a statistical difference between the two means.')\n",
    "else:\n",
    "    print('We cannot reject the null hypothesis, there is no statistical significance with the difference.')"
   ]
  },
  {
   "cell_type": "markdown",
   "id": "ad1a14cd-2af9-47f7-9580-5b41131cdcff",
   "metadata": {},
   "source": [
    "***Based on these results, we can conclude that the mean player heights of Cluster 0 and Cluster 2 are statistically different under a 5% significance level.***"
   ]
  },
  {
   "cell_type": "markdown",
   "id": "7159f596",
   "metadata": {
    "tags": []
   },
   "source": [
    "### Cluster 2 and 3\n",
    "\n",
    "We set up our hypotheses as follows:\n",
    "\n",
    "$H_0$ (null hypothesis): The true difference of the player heights is 0.\n",
    "\n",
    "$H_A$ (alternative hypothesis): The true difference of the player heights is not 0."
   ]
  },
  {
   "cell_type": "code",
   "execution_count": null,
   "id": "8c3698c9",
   "metadata": {},
   "outputs": [],
   "source": [
    "tstat, pvalue = ttest_ind(label_values_df[label_values_df[\"label\"] == 2][\"player_height\"],\n",
    "          label_values_df[label_values_df[\"label\"] == 3][\"player_height\"],\n",
    "          equal_var = False)"
   ]
  },
  {
   "cell_type": "code",
   "execution_count": null,
   "id": "3c07da11-1a5d-4134-a4a6-575d8b990fb1",
   "metadata": {},
   "outputs": [],
   "source": [
    "print('Computed P-Value: ', pvalue)"
   ]
  },
  {
   "cell_type": "code",
   "execution_count": null,
   "id": "41cbb302-efcb-479a-b334-a220b86b23ac",
   "metadata": {
    "tags": []
   },
   "outputs": [],
   "source": [
    "if pvalue < 0.05:\n",
    "    print('Null hypothesis is rejected, there is a statistical difference between the two means.')\n",
    "else:\n",
    "    print('We cannot reject the null hypothesis, there is no statistical significance with the difference.')"
   ]
  },
  {
   "cell_type": "markdown",
   "id": "8c68fe53-bc8a-4245-ae65-db6b51223fcf",
   "metadata": {},
   "source": [
    "***Based on these results, we can conclude that the mean player heights of Cluster 2 and Cluster 3 are statistically different under a 5% significance level.***"
   ]
  },
  {
   "cell_type": "markdown",
   "id": "43d0f57b",
   "metadata": {},
   "source": [
    "### Cluster 0 and 3\n",
    "\n",
    "We set up our hypotheses as follows:\n",
    "\n",
    "$H_0$ (null hypothesis): The true difference of the player heights is 0.\n",
    "\n",
    "$H_A$ (alternative hypothesis): The true difference of the player heights is not 0."
   ]
  },
  {
   "cell_type": "code",
   "execution_count": null,
   "id": "db0c2a92",
   "metadata": {},
   "outputs": [],
   "source": [
    "tstat, pvalue = ttest_ind(label_values_df[label_values_df[\"label\"] == 0][\"player_height\"],\n",
    "          label_values_df[label_values_df[\"label\"] == 3][\"player_height\"],\n",
    "          equal_var = False)"
   ]
  },
  {
   "cell_type": "code",
   "execution_count": null,
   "id": "af4ca643-1d47-46bf-a772-8f1c8b44f75f",
   "metadata": {},
   "outputs": [],
   "source": [
    "print('Computed P-Value: ', pvalue)"
   ]
  },
  {
   "cell_type": "code",
   "execution_count": null,
   "id": "46304f9d-ef87-44f3-bae1-a1899a430cc8",
   "metadata": {
    "tags": []
   },
   "outputs": [],
   "source": [
    "if pvalue < 0.05:\n",
    "    print('Null hypothesis is rejected, there is a statistical difference between the two means.')\n",
    "else:\n",
    "    print('We cannot reject the null hypothesis, there is no statistical significance with the difference.')"
   ]
  },
  {
   "cell_type": "markdown",
   "id": "19ffb5ec-9d85-4b70-9854-04254bf0b073",
   "metadata": {},
   "source": [
    "***Based on these results, we can conclude that the mean player heights of Cluster 0 and Cluster 3 are statistically different under a 5% significance level.***"
   ]
  },
  {
   "cell_type": "markdown",
   "id": "474b6a59",
   "metadata": {},
   "source": [
    "## Points"
   ]
  },
  {
   "cell_type": "markdown",
   "id": "14c3a664-d614-4a9a-9519-7aba851463e0",
   "metadata": {},
   "source": [
    "### Cluster 0 and 1\n",
    "\n",
    "We set up our hypotheses as follows:\n",
    "\n",
    "$H_0$ (null hypothesis): The true difference of the points is 0.\n",
    "\n",
    "$H_A$ (alternative hypothesis): The true difference of the points is not 0."
   ]
  },
  {
   "cell_type": "code",
   "execution_count": null,
   "id": "3ea5e5d0-b6a9-4cd8-9de2-2ce595fbe1fc",
   "metadata": {},
   "outputs": [],
   "source": [
    "tstat, pvalue = ttest_ind(label_values_df[label_values_df[\"label\"] == 0][\"pts\"],\n",
    "          label_values_df[label_values_df[\"label\"] == 1][\"pts\"],\n",
    "          equal_var = False)"
   ]
  },
  {
   "cell_type": "code",
   "execution_count": null,
   "id": "9c628281-3813-4d1e-94d5-d9ce9a10de95",
   "metadata": {},
   "outputs": [],
   "source": [
    "print('Computed P-Value: ', pvalue)"
   ]
  },
  {
   "cell_type": "code",
   "execution_count": null,
   "id": "da394a60-1f33-49de-bb07-27ad1d59285e",
   "metadata": {
    "tags": []
   },
   "outputs": [],
   "source": [
    "if pvalue < 0.05:\n",
    "    print('Null hypothesis is rejected, there is a statistical difference between the two means.')\n",
    "else:\n",
    "    print('We cannot reject the null hypothesis, there is no statistical significance with the difference.')"
   ]
  },
  {
   "cell_type": "markdown",
   "id": "27b0f926-95d1-496e-9cdb-aabcba6d45ee",
   "metadata": {},
   "source": [
    "***Based on these results, we can conclude that the mean points of Cluster 0 and Cluster 1 are statistically different under a 5% significance level.***"
   ]
  },
  {
   "cell_type": "markdown",
   "id": "3511e0ad",
   "metadata": {},
   "source": [
    "### Cluster 1 and 4\n",
    "\n",
    "We set up our hypotheses as follows:\n",
    "\n",
    "$H_0$ (null hypothesis): The true difference of the points is 0.\n",
    "\n",
    "$H_A$ (alternative hypothesis): The true difference of the points is not 0."
   ]
  },
  {
   "cell_type": "code",
   "execution_count": null,
   "id": "f23d7d88",
   "metadata": {},
   "outputs": [],
   "source": [
    "tstat, pvalue = ttest_ind(label_values_df[label_values_df[\"label\"] == 1][\"pts\"],\n",
    "          label_values_df[label_values_df[\"label\"] == 4][\"pts\"],\n",
    "          equal_var = False)"
   ]
  },
  {
   "cell_type": "code",
   "execution_count": null,
   "id": "503d1733-f2ae-4982-bb19-de8ebe236f75",
   "metadata": {},
   "outputs": [],
   "source": [
    "print('Computed P-Value: ', pvalue)"
   ]
  },
  {
   "cell_type": "code",
   "execution_count": null,
   "id": "43c45ed6-80d2-4179-a5f0-75db428d74bf",
   "metadata": {
    "tags": []
   },
   "outputs": [],
   "source": [
    "if pvalue < 0.05:\n",
    "    print('Null hypothesis is rejected, there is a statistical difference between the two means.')\n",
    "else:\n",
    "    print('We cannot reject the null hypothesis, there is no statistical significance with the difference.')"
   ]
  },
  {
   "cell_type": "markdown",
   "id": "64cb8371-3bb6-4395-bb93-ffbfccb623fa",
   "metadata": {},
   "source": [
    "***Based on these results, we can conclude that the mean points of Cluster 1 and Cluster 4 are statistically different under a 5% significance level.***"
   ]
  },
  {
   "cell_type": "markdown",
   "id": "ab88c64b-14f4-432a-a677-6113558f0821",
   "metadata": {},
   "source": [
    "### Cluster 2 and 4\n",
    "\n",
    "We set up our hypotheses as follows:\n",
    "\n",
    "$H_0$ (null hypothesis): The true difference of the points is 0.\n",
    "\n",
    "$H_A$ (alternative hypothesis): The true difference of the points is not 0."
   ]
  },
  {
   "cell_type": "code",
   "execution_count": null,
   "id": "0f9b2e06-5044-4661-ac30-99b093f7fae3",
   "metadata": {},
   "outputs": [],
   "source": [
    "tstat, pvalue = ttest_ind(label_values_df[label_values_df[\"label\"] == 2][\"pts\"],\n",
    "          label_values_df[label_values_df[\"label\"] == 4][\"pts\"],\n",
    "          equal_var = False)"
   ]
  },
  {
   "cell_type": "code",
   "execution_count": null,
   "id": "61920660-bdfd-4529-a101-e07edf219262",
   "metadata": {},
   "outputs": [],
   "source": [
    "print('Computed P-Value: ', pvalue)"
   ]
  },
  {
   "cell_type": "code",
   "execution_count": null,
   "id": "a0995237-b388-4941-bb9d-2648696e94e4",
   "metadata": {
    "tags": []
   },
   "outputs": [],
   "source": [
    "if pvalue < 0.05:\n",
    "    print('Null hypothesis is rejected, there is a statistical difference between the two means.')\n",
    "else:\n",
    "    print('We cannot reject the null hypothesis, there is no statistical significance with the difference.')"
   ]
  },
  {
   "cell_type": "markdown",
   "id": "53c86937-393d-40a0-99d9-42f1f083706e",
   "metadata": {},
   "source": [
    "***Based on these results, we can conclude that the mean points of Cluster 2 and Cluster 4 are statistically similar under a 5% significance level.***"
   ]
  },
  {
   "cell_type": "markdown",
   "id": "6a727858",
   "metadata": {},
   "source": [
    "### Cluster 0 and 2"
   ]
  },
  {
   "cell_type": "markdown",
   "id": "298ad93c",
   "metadata": {},
   "source": [
    "We set up our hypotheses as follows:\n",
    "\n",
    "$H_0$ (null hypothesis): The true difference of the points is 0.\n",
    "\n",
    "$H_A$ (alternative hypothesis): The true difference of the points is not 0."
   ]
  },
  {
   "cell_type": "code",
   "execution_count": null,
   "id": "33048f6c",
   "metadata": {},
   "outputs": [],
   "source": [
    "tstat, pvalue = ttest_ind(label_values_df[label_values_df[\"label\"] == 0][\"pts\"],\n",
    "          label_values_df[label_values_df[\"label\"] == 2][\"pts\"],\n",
    "          equal_var = False)"
   ]
  },
  {
   "cell_type": "code",
   "execution_count": null,
   "id": "c0d1559f-77e4-40b0-a6ab-1c49e51f2444",
   "metadata": {},
   "outputs": [],
   "source": [
    "print('Computed P-Value: ', pvalue)"
   ]
  },
  {
   "cell_type": "code",
   "execution_count": null,
   "id": "74b30122-12a0-4416-9b19-56e86643522d",
   "metadata": {
    "tags": []
   },
   "outputs": [],
   "source": [
    "if pvalue < 0.05:\n",
    "    print('Null hypothesis is rejected, there is a statistical difference between the two means.')\n",
    "else:\n",
    "    print('We cannot reject the null hypothesis, there is no statistical significance with the difference.')"
   ]
  },
  {
   "cell_type": "markdown",
   "id": "31df69e1-21f4-4468-8fad-af0899a94990",
   "metadata": {},
   "source": [
    "***Based on these results, we can conclude that the mean points of Cluster 0 and Cluster 2 are statistically different under a 5% significance level.***"
   ]
  },
  {
   "cell_type": "markdown",
   "id": "008cde52",
   "metadata": {},
   "source": [
    "### Cluster 2 and 3\n",
    "\n",
    "We set up our hypotheses as follows:\n",
    "\n",
    "$H_0$ (null hypothesis): The true difference of the points is 0.\n",
    "\n",
    "$H_A$ (alternative hypothesis): The true difference of the points is not 0."
   ]
  },
  {
   "cell_type": "code",
   "execution_count": null,
   "id": "c6dca03b",
   "metadata": {},
   "outputs": [],
   "source": [
    "tstat, pvalue = ttest_ind(label_values_df[label_values_df[\"label\"] == 2][\"pts\"],\n",
    "          label_values_df[label_values_df[\"label\"] == 3][\"pts\"],\n",
    "          equal_var = False)"
   ]
  },
  {
   "cell_type": "code",
   "execution_count": null,
   "id": "6b653732-14f0-42ce-9220-f70eb1fee3d4",
   "metadata": {},
   "outputs": [],
   "source": [
    "print('Computed P-Value: ', pvalue)"
   ]
  },
  {
   "cell_type": "code",
   "execution_count": null,
   "id": "840b6725-30c2-4057-9b24-292586a63b45",
   "metadata": {
    "tags": []
   },
   "outputs": [],
   "source": [
    "if pvalue < 0.05:\n",
    "    print('Null hypothesis is rejected, there is a statistical difference between the two means.')\n",
    "else:\n",
    "    print('We cannot reject the null hypothesis, there is no statistical significance with the difference.')"
   ]
  },
  {
   "cell_type": "markdown",
   "id": "5760408b-39b2-4018-a6dd-dbb87221c628",
   "metadata": {},
   "source": [
    "***Based on these results, we can conclude that the mean points of Cluster 2 and Cluster 3 are statistically different under a 5% significance level.***"
   ]
  },
  {
   "cell_type": "markdown",
   "id": "9533797d",
   "metadata": {},
   "source": [
    "### Cluster 0 and 3\n",
    "\n",
    "We set up our hypotheses as follows:\n",
    "\n",
    "$H_0$ (null hypothesis): The true difference of the points is 0.\n",
    "\n",
    "$H_A$ (alternative hypothesis): The true difference of the points is not 0."
   ]
  },
  {
   "cell_type": "code",
   "execution_count": null,
   "id": "4365b078",
   "metadata": {},
   "outputs": [],
   "source": [
    "tstat, pvalue = ttest_ind(label_values_df[label_values_df[\"label\"] == 0][\"pts\"],\n",
    "          label_values_df[label_values_df[\"label\"] == 3][\"pts\"],\n",
    "          equal_var = False)"
   ]
  },
  {
   "cell_type": "code",
   "execution_count": null,
   "id": "5b26db29-7576-4d4d-b37c-f4c8e54a4790",
   "metadata": {},
   "outputs": [],
   "source": [
    "print('Computed P-Value: ', pvalue)"
   ]
  },
  {
   "cell_type": "code",
   "execution_count": null,
   "id": "998db532-207d-4821-8bec-8279d9152e07",
   "metadata": {
    "tags": []
   },
   "outputs": [],
   "source": [
    "if pvalue < 0.05:\n",
    "    print('Null hypothesis is rejected, there is a statistical difference between the two means.')\n",
    "else:\n",
    "    print('We cannot reject the null hypothesis, there is no statistical significance with the difference.')"
   ]
  },
  {
   "cell_type": "markdown",
   "id": "63aa9bfe-3524-4f5f-9d1f-1c263ffdfe9c",
   "metadata": {},
   "source": [
    "***Based on these results, we can conclude that the mean points of Cluster 0 and Cluster 3 are statistically different under a 5% significance level.***"
   ]
  },
  {
   "cell_type": "markdown",
   "id": "f86d649d-a4d0-44de-b5de-ae00138f05a2",
   "metadata": {},
   "source": [
    "## Rebounds"
   ]
  },
  {
   "cell_type": "markdown",
   "id": "0be8ab26-c471-40b6-896b-40f808e051e2",
   "metadata": {},
   "source": [
    "### Cluster 0 and 1\n",
    "\n",
    "We set up our hypotheses as follows:\n",
    "\n",
    "$H_0$ (null hypothesis): The true difference of the rebounds is 0.\n",
    "\n",
    "$H_A$ (alternative hypothesis): The true difference of the rebounds is not 0."
   ]
  },
  {
   "cell_type": "code",
   "execution_count": null,
   "id": "870b2c64-fd4e-41e0-bfec-6c34f1bd89c0",
   "metadata": {},
   "outputs": [],
   "source": [
    "tstat, pvalue = ttest_ind(label_values_df[label_values_df[\"label\"] == 0][\"reb\"],\n",
    "          label_values_df[label_values_df[\"label\"] == 1][\"reb\"],\n",
    "          equal_var = False)"
   ]
  },
  {
   "cell_type": "code",
   "execution_count": null,
   "id": "9e76f5ac-2e55-42a2-a6ec-2ad2bbe3d62b",
   "metadata": {},
   "outputs": [],
   "source": [
    "print('Computed P-Value: ', pvalue)"
   ]
  },
  {
   "cell_type": "code",
   "execution_count": null,
   "id": "8a4366b6-297d-4832-bdef-d3ec83e669f6",
   "metadata": {
    "tags": []
   },
   "outputs": [],
   "source": [
    "if pvalue < 0.05:\n",
    "    print('Null hypothesis is rejected, there is a statistical difference between the two means.')\n",
    "else:\n",
    "    print('We cannot reject the null hypothesis, there is no statistical significance with the difference.')"
   ]
  },
  {
   "cell_type": "markdown",
   "id": "ebf3a3b5-01c7-48ae-884f-1644a7e950d9",
   "metadata": {},
   "source": [
    "***Based on these results, we can conclude that the mean rebounds of Cluster 0 and Cluster 1 are statistically different under a 5% significance level.***"
   ]
  },
  {
   "cell_type": "markdown",
   "id": "c28230b3-eb0e-433a-b905-467ddb161512",
   "metadata": {},
   "source": [
    "### Cluster 1 and 4\n",
    "\n",
    "We set up our hypotheses as follows:\n",
    "\n",
    "$H_0$ (null hypothesis): The true difference of the rebounds is 0.\n",
    "\n",
    "$H_A$ (alternative hypothesis): The true difference of the rebounds is not 0."
   ]
  },
  {
   "cell_type": "code",
   "execution_count": null,
   "id": "0d65681d-db2e-4478-91a6-26372b7084a0",
   "metadata": {},
   "outputs": [],
   "source": [
    "tstat, pvalue = ttest_ind(label_values_df[label_values_df[\"label\"] == 1][\"reb\"],\n",
    "          label_values_df[label_values_df[\"label\"] == 4][\"reb\"],\n",
    "          equal_var = False)"
   ]
  },
  {
   "cell_type": "code",
   "execution_count": null,
   "id": "9074695e-2a4e-48ef-bd39-c83e4cdfa884",
   "metadata": {},
   "outputs": [],
   "source": [
    "print('Computed P-Value: ', pvalue)"
   ]
  },
  {
   "cell_type": "code",
   "execution_count": null,
   "id": "237f6e0e-a582-472f-a92b-eccdecfc6cd1",
   "metadata": {
    "tags": []
   },
   "outputs": [],
   "source": [
    "if pvalue < 0.05:\n",
    "    print('Null hypothesis is rejected, there is a statistical difference between the two means.')\n",
    "else:\n",
    "    print('We cannot reject the null hypothesis, there is no statistical significance with the difference.')"
   ]
  },
  {
   "cell_type": "markdown",
   "id": "3fee9f7e-9d22-440a-8f75-f2535fe018c2",
   "metadata": {},
   "source": [
    "***Based on these results, we can conclude that the mean rebounds of Cluster 1 and Cluster 4 are statistically different under a 5% significance level.***"
   ]
  },
  {
   "cell_type": "markdown",
   "id": "eb92298e-3f7e-454d-ba41-006edee1070c",
   "metadata": {},
   "source": [
    "### Cluster 2 and 4\n",
    "\n",
    "We set up our hypotheses as follows:\n",
    "\n",
    "$H_0$ (null hypothesis): The true difference of the rebounds is 0.\n",
    "\n",
    "$H_A$ (alternative hypothesis): The true difference of the rebounds is not 0."
   ]
  },
  {
   "cell_type": "code",
   "execution_count": null,
   "id": "2a18c583-03d8-496e-bcb1-15c986cd9f95",
   "metadata": {},
   "outputs": [],
   "source": [
    "tstat, pvalue = ttest_ind(label_values_df[label_values_df[\"label\"] == 1][\"reb\"],\n",
    "          label_values_df[label_values_df[\"label\"] == 4][\"reb\"],\n",
    "          equal_var = False)"
   ]
  },
  {
   "cell_type": "code",
   "execution_count": null,
   "id": "192592f5-a9ad-4983-b44d-17cef5b534df",
   "metadata": {},
   "outputs": [],
   "source": [
    "print('Computed P-Value: ', pvalue)"
   ]
  },
  {
   "cell_type": "code",
   "execution_count": null,
   "id": "0b29caf4-4e35-47e1-85d4-2d0b99493735",
   "metadata": {
    "tags": []
   },
   "outputs": [],
   "source": [
    "if pvalue < 0.05:\n",
    "    print('Null hypothesis is rejected, there is a statistical difference between the two means.')\n",
    "else:\n",
    "    print('We cannot reject the null hypothesis, there is no statistical significance with the difference.')"
   ]
  },
  {
   "cell_type": "markdown",
   "id": "9ab74d60-3ea6-4be6-ba02-d1b780e8571f",
   "metadata": {},
   "source": [
    "***Based on these results, we can conclude that the mean rebounds of Cluster 2 and Cluster 4 are statistically different under a 5% significance level.***"
   ]
  },
  {
   "cell_type": "markdown",
   "id": "0cfcb531-0178-4269-8560-9a7bf1f26cbb",
   "metadata": {},
   "source": [
    "### Cluster 0 and 2"
   ]
  },
  {
   "cell_type": "markdown",
   "id": "db5724f7-ded5-4e8d-81d5-8126214430b2",
   "metadata": {},
   "source": [
    "We set up our hypotheses as follows:\n",
    "\n",
    "$H_0$ (null hypothesis): The true difference of the rebounds is 0.\n",
    "\n",
    "$H_A$ (alternative hypothesis): The true difference of the rebounds is not 0."
   ]
  },
  {
   "cell_type": "code",
   "execution_count": null,
   "id": "9b307037-4cc0-456d-8c36-5ac5f61ca79d",
   "metadata": {},
   "outputs": [],
   "source": [
    "tstat, pvalue = ttest_ind(label_values_df[label_values_df[\"label\"] == 0][\"reb\"],\n",
    "          label_values_df[label_values_df[\"label\"] == 2][\"reb\"],\n",
    "          equal_var = False)"
   ]
  },
  {
   "cell_type": "code",
   "execution_count": null,
   "id": "acf65514-151f-478d-911f-78e070e20858",
   "metadata": {},
   "outputs": [],
   "source": [
    "print('Computed P-Value: ', pvalue)"
   ]
  },
  {
   "cell_type": "code",
   "execution_count": null,
   "id": "9898231d-2181-4425-9566-42ef18bb3165",
   "metadata": {
    "tags": []
   },
   "outputs": [],
   "source": [
    "if pvalue < 0.05:\n",
    "    print('Null hypothesis is rejected, there is a statistical difference between the two means.')\n",
    "else:\n",
    "    print('We cannot reject the null hypothesis, there is no statistical significance with the difference.')"
   ]
  },
  {
   "cell_type": "markdown",
   "id": "ba724d0d-9f51-4e11-a1ad-e47255e80b36",
   "metadata": {},
   "source": [
    "***Based on these results, we can conclude that the mean rebounds of Cluster 0 and Cluster 2 are statistically different under a 5% significance level.***"
   ]
  },
  {
   "cell_type": "markdown",
   "id": "c9a49e21-a917-41dd-8d53-8b7300a39360",
   "metadata": {},
   "source": [
    "### Cluster 2 and 3\n",
    "\n",
    "We set up our hypotheses as follows:\n",
    "\n",
    "$H_0$ (null hypothesis): The true difference of the rebounds is 0.\n",
    "\n",
    "$H_A$ (alternative hypothesis): The true difference of the rebounds is not 0."
   ]
  },
  {
   "cell_type": "code",
   "execution_count": null,
   "id": "3f734062-c986-4b79-920a-1cdf635b6a2e",
   "metadata": {},
   "outputs": [],
   "source": [
    "tstat, pvalue = ttest_ind(label_values_df[label_values_df[\"label\"] == 2][\"reb\"],\n",
    "          label_values_df[label_values_df[\"label\"] == 3][\"reb\"],\n",
    "          equal_var = False)"
   ]
  },
  {
   "cell_type": "code",
   "execution_count": null,
   "id": "a41f4371-52e7-4a29-9fe9-536bb22ecbe7",
   "metadata": {},
   "outputs": [],
   "source": [
    "print('Computed P-Value: ', pvalue)"
   ]
  },
  {
   "cell_type": "code",
   "execution_count": null,
   "id": "5f5dc08f-8ffa-4a19-99a0-28a7f51ea489",
   "metadata": {
    "tags": []
   },
   "outputs": [],
   "source": [
    "if pvalue < 0.05:\n",
    "    print('Null hypothesis is rejected, there is a statistical difference between the two means.')\n",
    "else:\n",
    "    print('We cannot reject the null hypothesis, there is no statistical significance with the difference.')"
   ]
  },
  {
   "cell_type": "markdown",
   "id": "3a3902a0-b971-41a8-9908-bda3dcb7cd51",
   "metadata": {},
   "source": [
    "***Based on these results, we can conclude that the mean rebounds of Cluster 2 and Cluster 3 are statistically different under a 5% significance level.***"
   ]
  },
  {
   "cell_type": "markdown",
   "id": "185a344a-4b65-42bd-bdec-b5d9c02063a5",
   "metadata": {},
   "source": [
    "### Cluster 0 and 3\n",
    "\n",
    "We set up our hypotheses as follows:\n",
    "\n",
    "$H_0$ (null hypothesis): The true difference of the rebounds is 0.\n",
    "\n",
    "$H_A$ (alternative hypothesis): The true difference of the rebounds is not 0."
   ]
  },
  {
   "cell_type": "code",
   "execution_count": null,
   "id": "1d36dbda-b3de-4a24-a063-1fdced978339",
   "metadata": {},
   "outputs": [],
   "source": [
    "tstat, pvalue = ttest_ind(label_values_df[label_values_df[\"label\"] == 0][\"reb\"],\n",
    "          label_values_df[label_values_df[\"label\"] == 3][\"reb\"],\n",
    "          equal_var = False)"
   ]
  },
  {
   "cell_type": "code",
   "execution_count": null,
   "id": "69dc78fc-5b37-4565-97c1-4a8882fdf672",
   "metadata": {},
   "outputs": [],
   "source": [
    "print('Computed P-Value: ', pvalue)"
   ]
  },
  {
   "cell_type": "code",
   "execution_count": null,
   "id": "78b76a89-52bb-473a-b0aa-37d00cab8bf6",
   "metadata": {
    "tags": []
   },
   "outputs": [],
   "source": [
    "if pvalue < 0.05:\n",
    "    print('Null hypothesis is rejected, there is a statistical difference between the two means.')\n",
    "else:\n",
    "    print('We cannot reject the null hypothesis, there is no statistical significance with the difference.')"
   ]
  },
  {
   "cell_type": "markdown",
   "id": "7d33435a-bb65-44b0-8565-5b7161d6e236",
   "metadata": {},
   "source": [
    "***Based on these results, we can conclude that the mean rebounds of Cluster 0 and Cluster 3 are statistically different under a 5% significance level.***"
   ]
  },
  {
   "cell_type": "markdown",
   "id": "97d40244-95cd-4670-aefa-a7a3415c5021",
   "metadata": {},
   "source": [
    "## Assists"
   ]
  },
  {
   "cell_type": "markdown",
   "id": "fd3dae10-e4e8-4762-93cb-bbd04addae31",
   "metadata": {},
   "source": [
    "### Cluster 0 and 1\n",
    "\n",
    "We set up our hypotheses as follows:\n",
    "\n",
    "$H_0$ (null hypothesis): The true difference of the assists is 0.\n",
    "\n",
    "$H_A$ (alternative hypothesis): The true difference of the assists is not 0."
   ]
  },
  {
   "cell_type": "code",
   "execution_count": null,
   "id": "5bb30bfd-766e-4ccc-a1f4-c105163472e2",
   "metadata": {},
   "outputs": [],
   "source": [
    "tstat, pvalue = ttest_ind(label_values_df[label_values_df[\"label\"] == 0][\"ast\"],\n",
    "          label_values_df[label_values_df[\"label\"] == 1][\"ast\"],\n",
    "          equal_var = False)"
   ]
  },
  {
   "cell_type": "code",
   "execution_count": null,
   "id": "8e416cac-bee7-42ee-a6b8-9895421634cc",
   "metadata": {},
   "outputs": [],
   "source": [
    "print('Computed P-Value: ', pvalue)"
   ]
  },
  {
   "cell_type": "code",
   "execution_count": null,
   "id": "afc9dccd-198f-4843-a2bd-dea88bb46b5d",
   "metadata": {
    "tags": []
   },
   "outputs": [],
   "source": [
    "if pvalue < 0.05:\n",
    "    print('Null hypothesis is rejected, there is a statistical difference between the two means.')\n",
    "else:\n",
    "    print('We cannot reject the null hypothesis, there is no statistical significance with the difference.')"
   ]
  },
  {
   "cell_type": "markdown",
   "id": "934414b6-be24-45cc-9b4a-557cf7551c38",
   "metadata": {},
   "source": [
    "***Based on these results, we can conclude that the mean assists of Cluster 0 and Cluster 1 are statistically different under a 5% significance level.***"
   ]
  },
  {
   "cell_type": "markdown",
   "id": "08404d3c-7bda-45e0-9c45-e8829ce8c093",
   "metadata": {},
   "source": [
    "### Cluster 1 and 4\n",
    "\n",
    "We set up our hypotheses as follows:\n",
    "\n",
    "$H_0$ (null hypothesis): The true difference of the assists is 0.\n",
    "\n",
    "$H_A$ (alternative hypothesis): The true difference of the assists is not 0."
   ]
  },
  {
   "cell_type": "code",
   "execution_count": null,
   "id": "b73448dc-ab53-4d4f-8ac9-6b05465a605f",
   "metadata": {},
   "outputs": [],
   "source": [
    "tstat, pvalue = ttest_ind(label_values_df[label_values_df[\"label\"] == 1][\"ast\"],\n",
    "          label_values_df[label_values_df[\"label\"] == 4][\"ast\"],\n",
    "          equal_var = False)"
   ]
  },
  {
   "cell_type": "code",
   "execution_count": null,
   "id": "4c73e79e-661d-4599-8724-3e805c47fb6f",
   "metadata": {},
   "outputs": [],
   "source": [
    "print('Computed P-Value: ', pvalue)"
   ]
  },
  {
   "cell_type": "code",
   "execution_count": null,
   "id": "2fbbc64c-e869-4159-93e6-d93d028d1c8d",
   "metadata": {
    "tags": []
   },
   "outputs": [],
   "source": [
    "if pvalue < 0.05:\n",
    "    print('Null hypothesis is rejected, there is a statistical difference between the two means.')\n",
    "else:\n",
    "    print('We cannot reject the null hypothesis, there is no statistical significance with the difference.')"
   ]
  },
  {
   "cell_type": "markdown",
   "id": "936ba54c-5299-4af6-becf-e686c5d6a5db",
   "metadata": {},
   "source": [
    "***Based on these results, we can conclude that the mean assists of Cluster 1 and Cluster 4 are statistically different under a 5% significance level.***"
   ]
  },
  {
   "cell_type": "markdown",
   "id": "2f4f7751-6ffc-431b-bc1d-9cd9ae23fac1",
   "metadata": {},
   "source": [
    "### Cluster 2 and 4\n",
    "\n",
    "We set up our hypotheses as follows:\n",
    "\n",
    "$H_0$ (null hypothesis): The true difference of the assists is 0.\n",
    "\n",
    "$H_A$ (alternative hypothesis): The true difference of the assists is not 0."
   ]
  },
  {
   "cell_type": "code",
   "execution_count": null,
   "id": "d85b4c9f-3b6f-448f-ae67-ee28053ad0f2",
   "metadata": {},
   "outputs": [],
   "source": [
    "tstat, pvalue = ttest_ind(label_values_df[label_values_df[\"label\"] == 1][\"ast\"],\n",
    "          label_values_df[label_values_df[\"label\"] == 4][\"ast\"],\n",
    "          equal_var = False)"
   ]
  },
  {
   "cell_type": "code",
   "execution_count": null,
   "id": "7f79e66a-f2b8-4997-94ff-1a7e7c817997",
   "metadata": {},
   "outputs": [],
   "source": [
    "print('Computed P-Value: ', pvalue)"
   ]
  },
  {
   "cell_type": "code",
   "execution_count": null,
   "id": "8cd7ad9a-4c1d-41d7-802f-3ebb8fb78cb4",
   "metadata": {
    "tags": []
   },
   "outputs": [],
   "source": [
    "if pvalue < 0.05:\n",
    "    print('Null hypothesis is rejected, there is a statistical difference between the two means.')\n",
    "else:\n",
    "    print('We cannot reject the null hypothesis, there is no statistical significance with the difference.')"
   ]
  },
  {
   "cell_type": "markdown",
   "id": "1844ad37-8d9a-45f9-b402-d6e0d2dbbba1",
   "metadata": {},
   "source": [
    "***Based on these results, we can conclude that the mean assists of Cluster 1 and Cluster 4 are statistically different under a 5% significance level.***"
   ]
  },
  {
   "cell_type": "markdown",
   "id": "bb6e90e2-802f-45b4-ba82-dc8344b91f26",
   "metadata": {},
   "source": [
    "### Cluster 0 and 2"
   ]
  },
  {
   "cell_type": "markdown",
   "id": "7499c666-b216-47c7-b3a2-ec0fbda8377d",
   "metadata": {},
   "source": [
    "We set up our hypotheses as follows:\n",
    "\n",
    "$H_0$ (null hypothesis): The true difference of the assists is 0.\n",
    "\n",
    "$H_A$ (alternative hypothesis): The true difference of the assists is not 0."
   ]
  },
  {
   "cell_type": "code",
   "execution_count": null,
   "id": "4fb3422c-4f30-420f-bd63-0639328ae826",
   "metadata": {},
   "outputs": [],
   "source": [
    "tstat, pvalue = ttest_ind(label_values_df[label_values_df[\"label\"] == 0][\"ast\"],\n",
    "          label_values_df[label_values_df[\"label\"] == 2][\"ast\"],\n",
    "          equal_var = False)"
   ]
  },
  {
   "cell_type": "code",
   "execution_count": null,
   "id": "a0706de0-173f-49f7-b83d-7d8b80a8980b",
   "metadata": {},
   "outputs": [],
   "source": [
    "print('Computed P-Value: ', pvalue)"
   ]
  },
  {
   "cell_type": "code",
   "execution_count": null,
   "id": "d78e737a-fe5a-4ecf-a186-4bac15511ae8",
   "metadata": {
    "tags": []
   },
   "outputs": [],
   "source": [
    "if pvalue < 0.05:\n",
    "    print('Null hypothesis is rejected, there is a statistical difference between the two means.')\n",
    "else:\n",
    "    print('We cannot reject the null hypothesis, there is no statistical significance with the difference.')"
   ]
  },
  {
   "cell_type": "markdown",
   "id": "9973dae3-60d1-4f45-8adf-c254b58fa6f1",
   "metadata": {},
   "source": [
    "***Based on these results, we can conclude that the mean assists of Cluster 0 and Cluster 2 are statistically different under a 5% significance level.***"
   ]
  },
  {
   "cell_type": "markdown",
   "id": "4757c98b-10b3-46b6-b898-eb0a02528194",
   "metadata": {},
   "source": [
    "### Cluster 2 and 3\n",
    "\n",
    "We set up our hypotheses as follows:\n",
    "\n",
    "$H_0$ (null hypothesis): The true difference of the assists is 0.\n",
    "\n",
    "$H_A$ (alternative hypothesis): The true difference of the assists is not 0."
   ]
  },
  {
   "cell_type": "code",
   "execution_count": null,
   "id": "906b3cbd-7045-414f-abcf-3063a1f00286",
   "metadata": {},
   "outputs": [],
   "source": [
    "tstat, pvalue = ttest_ind(label_values_df[label_values_df[\"label\"] == 2][\"ast\"],\n",
    "          label_values_df[label_values_df[\"label\"] == 3][\"ast\"],\n",
    "          equal_var = False)"
   ]
  },
  {
   "cell_type": "code",
   "execution_count": null,
   "id": "57f76633-684f-4cef-883a-ca35235fba9f",
   "metadata": {},
   "outputs": [],
   "source": [
    "print('Computed P-Value: ', pvalue)"
   ]
  },
  {
   "cell_type": "code",
   "execution_count": null,
   "id": "478bd0a8-1075-4d74-8139-e7c32ababb82",
   "metadata": {
    "tags": []
   },
   "outputs": [],
   "source": [
    "if pvalue < 0.05:\n",
    "    print('Null hypothesis is rejected, there is a statistical difference between the two means.')\n",
    "else:\n",
    "    print('We cannot reject the null hypothesis, there is no statistical significance with the difference.')"
   ]
  },
  {
   "cell_type": "markdown",
   "id": "f5270e93-847c-498e-a99c-4ff01e9e73b7",
   "metadata": {},
   "source": [
    "***Based on these results, we can conclude that the mean assists of Cluster 2 and Cluster 3 are statistically different under a 5% significance level.***"
   ]
  },
  {
   "cell_type": "markdown",
   "id": "7a327366-4c13-4bc6-b105-39289c85ddf4",
   "metadata": {},
   "source": [
    "### Cluster 0 and 3\n",
    "\n",
    "We set up our hypotheses as follows:\n",
    "\n",
    "$H_0$ (null hypothesis): The true difference of the assists is 0.\n",
    "\n",
    "$H_A$ (alternative hypothesis): The true difference of the assists is not 0."
   ]
  },
  {
   "cell_type": "code",
   "execution_count": null,
   "id": "940c0b66-a33d-4b00-9d47-72e1c61dbdd0",
   "metadata": {},
   "outputs": [],
   "source": [
    "tstat, pvalue = ttest_ind(label_values_df[label_values_df[\"label\"] == 0][\"ast\"],\n",
    "          label_values_df[label_values_df[\"label\"] == 3][\"ast\"],\n",
    "          equal_var = False)"
   ]
  },
  {
   "cell_type": "code",
   "execution_count": null,
   "id": "685a1f70-08d9-4f4e-99c2-9ed0b45d558e",
   "metadata": {},
   "outputs": [],
   "source": [
    "print('Computed P-Value: ', pvalue)"
   ]
  },
  {
   "cell_type": "code",
   "execution_count": null,
   "id": "cafd2201-fd2e-4804-bb08-3102386da2ea",
   "metadata": {
    "tags": []
   },
   "outputs": [],
   "source": [
    "if pvalue < 0.05:\n",
    "    print('Null hypothesis is rejected, there is a statistical difference between the two means.')\n",
    "else:\n",
    "    print('We cannot reject the null hypothesis, there is no statistical significance with the difference.')"
   ]
  },
  {
   "cell_type": "markdown",
   "id": "0bb2b9de-2ae1-4954-bbc6-a7c06e065366",
   "metadata": {},
   "source": [
    "***Based on these results, we can conclude that the mean assists of Cluster 0 and Cluster 3 are statistically different under a 5% significance level.***"
   ]
  },
  {
   "cell_type": "markdown",
   "id": "53176a82",
   "metadata": {},
   "source": [
    "# Insights and Conclusions"
   ]
  },
  {
   "cell_type": "markdown",
   "id": "8d65b70c-b085-411e-b20f-662e4495ef18",
   "metadata": {},
   "source": [
    "## Number of Clusters\n",
    "\n",
    "Based off the performed elbow method, the group chose a k-means value of 5. This resulted in five unique clusters being generated, with each cluster having unique descriptions."
   ]
  },
  {
   "cell_type": "markdown",
   "id": "8aaa845f-85f3-4aa7-a942-30d09b10f07a",
   "metadata": {},
   "source": [
    "## Cluster Descriptions\n",
    "\n",
    "<!-- Describe each cluster (overview of the characteristics of each cluster -->"
   ]
  },
  {
   "cell_type": "markdown",
   "id": "70a4e80e-68d6-4cd0-a2f8-f114740776c4",
   "metadata": {},
   "source": [
    "### Cluster 0\n",
    "\n",
    "This cluster is characterized by tall players who do not get a lot of points, rebounds, or assists. While Cluster 0 has above average player height, they are quite lackluster as it is the only feature where they stand out. For these reasons, this cluster can be labeled as the **Tall Benchwarmers**."
   ]
  },
  {
   "cell_type": "markdown",
   "id": "bca1616b-d8e7-4329-8e47-52809c94047b",
   "metadata": {},
   "source": [
    "### Cluster 1\n",
    "\n",
    "This cluster is characterized by short players who do a bit of everything. This can be from scoring points, grabbing rebounds, or dishing out assists. While the cluster appears to have moderate to low statistics, this is because players in this cluster generally fulfil a certain role in a team. Players in this cluster can range from three-point shooters, off-the-bench playmakers, or defensive specialists to name a few. The heights in this cluster seldom exceed 200 cm. For these reasons, this cluster can be labeled as the **Short Role Players**."
   ]
  },
  {
   "cell_type": "markdown",
   "id": "f1c8719a-3986-4c96-9a3d-e54b43bb9d9b",
   "metadata": {},
   "source": [
    "### Cluster 2\n",
    "\n",
    "This cluster is characterized by tall players who are great scorers and rebounders. They do get a few assists, but that is not the focus of their game. This cluster has the highest average player height as well as the highest average rebounds. They also have a high amount of points, only behind Cluster 4. These statistics indicate great, above average players in the NBA. For these reasons, this cluster can be labeled as the **Tall Stars**."
   ]
  },
  {
   "cell_type": "markdown",
   "id": "2f31b68a-1849-40eb-824d-f015f1661faa",
   "metadata": {},
   "source": [
    "### Cluster 3\n",
    "\n",
    "This cluster is characterized by tall players who get a moderate amount of points and rebounds, but a low amount of assists. This cluster contains the second highest average player height and rebounds, behind Cluster 2. While not as high as the points or rebounds of Cluster 2 (**Tall Stars**), they are still important to a team as they fulfill a specific role. Players in this cluster range from three-point shooters, rebounders, or defensive specialists to name a few. The heights in this cluster seldom fall behind 200 cm. For these reasons, this cluster can be labeled as the **Tall Role Players**."
   ]
  },
  {
   "cell_type": "markdown",
   "id": "08da2b3e-6835-45d8-a07b-df36e1c3e38a",
   "metadata": {},
   "source": [
    "### Cluster 4\n",
    "\n",
    "This cluster is characterized by players of moderate height who score a high number of points and give a lot of assists. Although they do get rebounds, not all players have a high number of rebounds in this cluster. However, players who do have a high number of rebounds also have a lot of assists in this cluster. For these reasons, this cluster can be labeled as the **All-Around Stars**."
   ]
  },
  {
   "cell_type": "markdown",
   "id": "6d68c946-17bc-4c75-808f-0fccfeacf8cf",
   "metadata": {},
   "source": [
    "## Cluster Similarity Analysis"
   ]
  },
  {
   "cell_type": "markdown",
   "id": "3fe59d12-d7fb-41f1-92e6-0f09705d300f",
   "metadata": {},
   "source": [
    "### Cluster with Similar Shapes Based Off Polar Chart\n",
    "\n",
    "Based off the shapes of the clusters from the polar chart, the following clusters were paired for comparison:\n",
    "- Cluster 0 and Cluster 2\n",
    "- Cluster 2 and Cluster 3\n",
    "- Cluster 0 and Cluster 3\n",
    "- Cluster 1 and Cluster 4\n",
    "    \n",
    "Clusters 0, 2, and 3 were paired with each other as they form an inverted kite shape with a small left side (*feature: assist*).\n",
    "<br>Clusters 1 and 4 were paired with each other as they form an inverted kite shape with somewhat even sides.\n",
    "\n",
    "Comparing the means of the features of each paired clusters using a T-test, the results indicate that for all cluster pairs, all the compared means are statistically different under a 5% significance level.\n",
    "\n",
    "From this, it can be concluded that the paired clusters are statistically different from one another."
   ]
  },
  {
   "cell_type": "markdown",
   "id": "be1f1333-1df7-437c-8f1e-ac70b8e7fe26",
   "metadata": {},
   "source": [
    "### Cluster with Similar Features Based Off Polar Chart\n",
    "\n",
    "Based off the clusters from the polar chart who have features that are not far from each other, the following clusters were paired for comparison:\n",
    "\n",
    "- Cluster 0 and Cluster 1\n",
    "- Cluster 2 and Cluster 4\n",
    "\n",
    "Clusters 0 and 1 were paired with each other as their average rebounds appear to be close, while<br>Clusters 2 and 4 were paired with each others as their average points appear to be close.\n",
    "\n",
    "Comparing the means of the features of each paired clusters using a T-test, the results indicate that for all cluster pairs, all the compared means except one feature are statistically different under a 5% significance level.\n",
    "    \n",
    "The only feature that was not found to be statistically different was the mean points of Cluster 2 and Cluster 4 where it was found to be statistically similar under a 5% significance level.\n",
    "\n",
    "While we can conlude that the paired clusters are mostly statistically different from one another under, Cluster 2 and Cluster 4 was found to have similar mean points (but only the mean points)."
   ]
  },
  {
   "cell_type": "markdown",
   "id": "686af868-dcd9-4e17-9ec7-2c56342e541f",
   "metadata": {},
   "source": [
    "## In-Depth Cluster Analysis\n",
    "\n",
    "The results of the data are quite interesting, but under analysis, realistic. Focusing on Cluster 0 (**Tall Benchwarmers**), this was found to be the largest cluster, composing 31.99% of the total data set. An interesting question to ask would be why is there a label for **Tall Benchwarmers** but not **Short Benchwarmers**? A possible conclusion to this is because teams prioritize drafting tall players over short players. If a team is given a choice to put two players of similar skill into their team, they would opt for whoever is taller if possible. The reason for this is because no matter how much you train, you cannot train to be taller. Although **Short Benchwarmers** do exist, they are not abundant enough to be their own cluster and can be found in the **Short Role Player** cluster.\n",
    "\n",
    "Another interesting result from the data is that there was only one mean that was found to be statistically similar, that being Cluster 2 (**Tall Stars**) and Cluster 4 (**All-Around Stars**). The reason for this can possibly be the fact that these two clusters are usually players who are a team's star player. When a team is a star player, they are usually the first option for scoring on offense. Because **Tall Stars** and **All-Around Stars** are both priority offensive options, this can be a good reason why the mean points are similar."
   ]
  },
  {
   "cell_type": "markdown",
   "id": "46205526-4158-47c1-807c-e6df81ef61f0",
   "metadata": {},
   "source": [
    "## Player Examples per Cluster\n",
    "\n",
    "It is worth noting that the names given may appear in more than one cluster because players can play multiple seasons."
   ]
  },
  {
   "cell_type": "markdown",
   "id": "db961ff6-cd5e-4761-8155-744108b8205c",
   "metadata": {},
   "source": [
    "### Cluster 0\n",
    "**Tall Benchwarmers**\n",
    "- Bol Bol\n",
    "- Brian Scalabrine\n",
    "- Tacko Fall"
   ]
  },
  {
   "cell_type": "markdown",
   "id": "dd663df4-8696-4aa0-b541-97ba1621dd71",
   "metadata": {},
   "source": [
    "### Cluster 1\n",
    "**Short Role Players**\n",
    "- Alex Caruso\n",
    "- Muggsy Bogues\n",
    "- Patrick Beverley"
   ]
  },
  {
   "cell_type": "markdown",
   "id": "d43a636b-cb6a-4171-a524-621fc1072e0f",
   "metadata": {},
   "source": [
    "### Cluster 2\n",
    "**Tall Stars**\n",
    "- Shaquille O'Neal\n",
    "- Dennis Rodman\n",
    "- Yao Ming"
   ]
  },
  {
   "cell_type": "markdown",
   "id": "efb0cef9-52f7-4cb8-a9b0-57ed5cd2e450",
   "metadata": {},
   "source": [
    "### Cluster 3\n",
    "**Tall Role Players**\n",
    "- Javale McGee\n",
    "- Nick Young\n",
    "- Nicolas Batum"
   ]
  },
  {
   "cell_type": "markdown",
   "id": "d8f70d77-548f-4c33-8c39-06b69b2d66eb",
   "metadata": {},
   "source": [
    "### Cluster 4\n",
    "**All-Around Stars**\n",
    "- Stephen Curry\n",
    "- Lebron James\n",
    "- Michael Jordan"
   ]
  },
  {
   "cell_type": "markdown",
   "id": "5ddb7aa0",
   "metadata": {},
   "source": [
    "# Bibliography\n",
    "\n",
    "Akoglu, H. (2018). User's Guide to Correlation Coefficients. *Turkish Journal of Emergency Medicine, 18*(3), 91–93. https://doi.org/10.1016/j.tjem.2018.08.001\n",
    "\n",
    "Cirtautas, J. (2022, August 6). *NBA players*. Kaggle. Retrieved November 20, 2022, from https://www.kaggle.com/datasets/justinas/nba-players-data "
   ]
  }
 ],
 "metadata": {
  "kernelspec": {
   "display_name": "Python 3 (ipykernel)",
   "language": "python",
   "name": "python3"
  },
  "language_info": {
   "codemirror_mode": {
    "name": "ipython",
    "version": 3
   },
   "file_extension": ".py",
   "mimetype": "text/x-python",
   "name": "python",
   "nbconvert_exporter": "python",
   "pygments_lexer": "ipython3",
   "version": "3.9.12"
  }
 },
 "nbformat": 4,
 "nbformat_minor": 5
}
