{
 "cells": [
  {
   "cell_type": "markdown",
   "id": "d24a81b3-2065-4f25-a249-5f4654eec0e6",
   "metadata": {
    "tags": []
   },
   "source": [
    "## MP Phase 1\n",
    "\n",
    "**S11 - Group x**\n",
    "\n",
    "**Submitted By:** <br>\n",
    "&nbsp;&nbsp;&nbsp;&nbsp;**Chua Ching, Janine**<br>\n",
    "&nbsp;&nbsp;&nbsp;&nbsp;**Ileto, Maxine**<br>\n",
    "&nbsp;&nbsp;&nbsp;&nbsp;**Dytoc, Ayisha**<br>\n",
    "&nbsp;&nbsp;&nbsp;&nbsp;**Tan, Jared**"
   ]
  },
  {
   "cell_type": "markdown",
   "id": "eb1852b7-49f8-44a9-b7d2-5780e73b7677",
   "metadata": {},
   "source": [
    "# Introduction"
   ]
  },
  {
   "cell_type": "markdown",
   "id": "33bccee2-ff06-4c72-bc79-c40517885425",
   "metadata": {},
   "source": [
    "## Target Task"
   ]
  },
  {
   "cell_type": "markdown",
   "id": "9db7f9bd-cb70-4fdb-9e34-61a5196346cd",
   "metadata": {
    "tags": []
   },
   "source": [
    "# Dataset Description"
   ]
  },
  {
   "cell_type": "markdown",
   "id": "b62f5aee",
   "metadata": {},
   "source": [
    "## Brief Description"
   ]
  },
  {
   "cell_type": "markdown",
   "id": "ef573226",
   "metadata": {},
   "source": []
  },
  {
   "cell_type": "markdown",
   "id": "3e8560c5",
   "metadata": {},
   "source": [
    "## Data Collection Process\n"
   ]
  },
  {
   "cell_type": "markdown",
   "id": "8b1acdc1",
   "metadata": {},
   "source": [
    "## Dataset Features\n"
   ]
  },
  {
   "cell_type": "markdown",
   "id": "1d51a86c",
   "metadata": {
    "tags": []
   },
   "source": [
    "## Dataset Variables\n",
    "\n",
    "The dataset contains a total of 22 variables (columns). The following are the descriptions of each variable in the dataset:\n",
    "\n",
    "- **`#`**: the index number of the player of when they were added into the dataset"
   ]
  },
  {
   "cell_type": "markdown",
   "id": "f1fbfef4-e806-464b-8196-55004f34ee0f",
   "metadata": {},
   "source": [
    "# List of requirements\n",
    "\n",
    "List all python libraries and modules used"
   ]
  },
  {
   "cell_type": "code",
   "execution_count": null,
   "id": "edd64d00-e65b-46d1-8bdf-bfc4c73958b9",
   "metadata": {},
   "outputs": [],
   "source": [
    "# Python Libraries\n",
    "import numpy as np\n",
    "import pandas as pd"
   ]
  },
  {
   "cell_type": "markdown",
   "id": "4d178f50-5e3b-4c78-94e1-4b6a09791d97",
   "metadata": {},
   "source": [
    "# Data preprocessing and cleaning"
   ]
  },
  {
   "cell_type": "markdown",
   "id": "26a1b380-a049-46e3-9b41-dae599585e32",
   "metadata": {},
   "source": [
    "Check csmodel file for examples"
   ]
  },
  {
   "cell_type": "markdown",
   "id": "6e550a54-1d45-4b35-8b90-28a770713696",
   "metadata": {},
   "source": [
    "Below is a sample of the first 5 rows of the dataset"
   ]
  },
  {
   "cell_type": "code",
   "execution_count": 3,
   "id": "53b344cd-342b-4b68-b231-730f446027bf",
   "metadata": {},
   "outputs": [
    {
     "data": {
      "text/html": [
       "<div>\n",
       "<style scoped>\n",
       "    .dataframe tbody tr th:only-of-type {\n",
       "        vertical-align: middle;\n",
       "    }\n",
       "\n",
       "    .dataframe tbody tr th {\n",
       "        vertical-align: top;\n",
       "    }\n",
       "\n",
       "    .dataframe thead th {\n",
       "        text-align: right;\n",
       "    }\n",
       "</style>\n",
       "<table border=\"1\" class=\"dataframe\">\n",
       "  <thead>\n",
       "    <tr style=\"text-align: right;\">\n",
       "      <th></th>\n",
       "      <th>uuid</th>\n",
       "      <th>current_minute</th>\n",
       "      <th>home_score</th>\n",
       "      <th>away_score</th>\n",
       "      <th>home_yellow_cards</th>\n",
       "      <th>away_yellow_cards</th>\n",
       "      <th>home_red_cards</th>\n",
       "      <th>away_red_cards</th>\n",
       "      <th>home_attacks</th>\n",
       "      <th>away_attacks</th>\n",
       "      <th>...</th>\n",
       "      <th>away_dangerous_attacks</th>\n",
       "      <th>home_corners</th>\n",
       "      <th>away_corners</th>\n",
       "      <th>home_off_target</th>\n",
       "      <th>away_off_target</th>\n",
       "      <th>home_on_target</th>\n",
       "      <th>away_on_target</th>\n",
       "      <th>home_possession</th>\n",
       "      <th>away_possession</th>\n",
       "      <th>final_delta</th>\n",
       "    </tr>\n",
       "  </thead>\n",
       "  <tbody>\n",
       "    <tr>\n",
       "      <th>0</th>\n",
       "      <td>2f9dd904-8d9d-4aa0-a9d9-4e0f3e50d742</td>\n",
       "      <td>94</td>\n",
       "      <td>1</td>\n",
       "      <td>2</td>\n",
       "      <td>0</td>\n",
       "      <td>0</td>\n",
       "      <td>0</td>\n",
       "      <td>0</td>\n",
       "      <td>39</td>\n",
       "      <td>45</td>\n",
       "      <td>...</td>\n",
       "      <td>26</td>\n",
       "      <td>4</td>\n",
       "      <td>1</td>\n",
       "      <td>4</td>\n",
       "      <td>0</td>\n",
       "      <td>4</td>\n",
       "      <td>6</td>\n",
       "      <td>48</td>\n",
       "      <td>52</td>\n",
       "      <td>1</td>\n",
       "    </tr>\n",
       "    <tr>\n",
       "      <th>1</th>\n",
       "      <td>869c1420-9153-4d73-8d79-5db31a8a80a4</td>\n",
       "      <td>91</td>\n",
       "      <td>2</td>\n",
       "      <td>0</td>\n",
       "      <td>0</td>\n",
       "      <td>0</td>\n",
       "      <td>0</td>\n",
       "      <td>0</td>\n",
       "      <td>0</td>\n",
       "      <td>0</td>\n",
       "      <td>...</td>\n",
       "      <td>0</td>\n",
       "      <td>0</td>\n",
       "      <td>0</td>\n",
       "      <td>0</td>\n",
       "      <td>0</td>\n",
       "      <td>0</td>\n",
       "      <td>0</td>\n",
       "      <td>50</td>\n",
       "      <td>50</td>\n",
       "      <td>1</td>\n",
       "    </tr>\n",
       "    <tr>\n",
       "      <th>2</th>\n",
       "      <td>549e25a3-4c93-459d-b115-fb303273c78a</td>\n",
       "      <td>3</td>\n",
       "      <td>0</td>\n",
       "      <td>0</td>\n",
       "      <td>0</td>\n",
       "      <td>0</td>\n",
       "      <td>0</td>\n",
       "      <td>0</td>\n",
       "      <td>3</td>\n",
       "      <td>1</td>\n",
       "      <td>...</td>\n",
       "      <td>0</td>\n",
       "      <td>0</td>\n",
       "      <td>0</td>\n",
       "      <td>0</td>\n",
       "      <td>0</td>\n",
       "      <td>0</td>\n",
       "      <td>0</td>\n",
       "      <td>62</td>\n",
       "      <td>38</td>\n",
       "      <td>4</td>\n",
       "    </tr>\n",
       "    <tr>\n",
       "      <th>3</th>\n",
       "      <td>287b4be5-9163-4e2e-895d-d11052a97410</td>\n",
       "      <td>17</td>\n",
       "      <td>0</td>\n",
       "      <td>0</td>\n",
       "      <td>1</td>\n",
       "      <td>0</td>\n",
       "      <td>0</td>\n",
       "      <td>0</td>\n",
       "      <td>41</td>\n",
       "      <td>46</td>\n",
       "      <td>...</td>\n",
       "      <td>25</td>\n",
       "      <td>1</td>\n",
       "      <td>0</td>\n",
       "      <td>0</td>\n",
       "      <td>2</td>\n",
       "      <td>0</td>\n",
       "      <td>0</td>\n",
       "      <td>55</td>\n",
       "      <td>45</td>\n",
       "      <td>2</td>\n",
       "    </tr>\n",
       "    <tr>\n",
       "      <th>4</th>\n",
       "      <td>a607da6a-d6b2-4652-b7a5-6c8e4b61c2b8</td>\n",
       "      <td>76</td>\n",
       "      <td>1</td>\n",
       "      <td>0</td>\n",
       "      <td>1</td>\n",
       "      <td>0</td>\n",
       "      <td>0</td>\n",
       "      <td>0</td>\n",
       "      <td>69</td>\n",
       "      <td>78</td>\n",
       "      <td>...</td>\n",
       "      <td>46</td>\n",
       "      <td>1</td>\n",
       "      <td>1</td>\n",
       "      <td>0</td>\n",
       "      <td>3</td>\n",
       "      <td>4</td>\n",
       "      <td>4</td>\n",
       "      <td>45</td>\n",
       "      <td>55</td>\n",
       "      <td>0</td>\n",
       "    </tr>\n",
       "  </tbody>\n",
       "</table>\n",
       "<p>5 rows × 21 columns</p>\n",
       "</div>"
      ],
      "text/plain": [
       "                                   uuid  current_minute  home_score  \\\n",
       "0  2f9dd904-8d9d-4aa0-a9d9-4e0f3e50d742              94           1   \n",
       "1  869c1420-9153-4d73-8d79-5db31a8a80a4              91           2   \n",
       "2  549e25a3-4c93-459d-b115-fb303273c78a               3           0   \n",
       "3  287b4be5-9163-4e2e-895d-d11052a97410              17           0   \n",
       "4  a607da6a-d6b2-4652-b7a5-6c8e4b61c2b8              76           1   \n",
       "\n",
       "   away_score  home_yellow_cards  away_yellow_cards  home_red_cards  \\\n",
       "0           2                  0                  0               0   \n",
       "1           0                  0                  0               0   \n",
       "2           0                  0                  0               0   \n",
       "3           0                  1                  0               0   \n",
       "4           0                  1                  0               0   \n",
       "\n",
       "   away_red_cards  home_attacks  away_attacks  ...  away_dangerous_attacks  \\\n",
       "0               0            39            45  ...                      26   \n",
       "1               0             0             0  ...                       0   \n",
       "2               0             3             1  ...                       0   \n",
       "3               0            41            46  ...                      25   \n",
       "4               0            69            78  ...                      46   \n",
       "\n",
       "   home_corners  away_corners  home_off_target  away_off_target  \\\n",
       "0             4             1                4                0   \n",
       "1             0             0                0                0   \n",
       "2             0             0                0                0   \n",
       "3             1             0                0                2   \n",
       "4             1             1                0                3   \n",
       "\n",
       "   home_on_target  away_on_target  home_possession  away_possession  \\\n",
       "0               4               6               48               52   \n",
       "1               0               0               50               50   \n",
       "2               0               0               62               38   \n",
       "3               0               0               55               45   \n",
       "4               4               4               45               55   \n",
       "\n",
       "   final_delta  \n",
       "0            1  \n",
       "1            1  \n",
       "2            4  \n",
       "3            2  \n",
       "4            0  \n",
       "\n",
       "[5 rows x 21 columns]"
      ]
     },
     "execution_count": 3,
     "metadata": {},
     "output_type": "execute_result"
    }
   ],
   "source": [
    "df = pd.read_csv('sports.csv')\n",
    "df.head()"
   ]
  },
  {
   "cell_type": "markdown",
   "id": "8723b796-37ae-4ce7-aa14-2da9d0f2632b",
   "metadata": {},
   "source": [
    "Check if any missing values"
   ]
  },
  {
   "cell_type": "code",
   "execution_count": 4,
   "id": "50ed45c1-190c-473f-9d6e-b76ddaca6c97",
   "metadata": {},
   "outputs": [
    {
     "data": {
      "text/plain": [
       "uuid                      False\n",
       "current_minute            False\n",
       "home_score                False\n",
       "away_score                False\n",
       "home_yellow_cards         False\n",
       "away_yellow_cards         False\n",
       "home_red_cards            False\n",
       "away_red_cards            False\n",
       "home_attacks              False\n",
       "away_attacks              False\n",
       "home_dangerous_attacks    False\n",
       "away_dangerous_attacks    False\n",
       "home_corners              False\n",
       "away_corners              False\n",
       "home_off_target           False\n",
       "away_off_target           False\n",
       "home_on_target            False\n",
       "away_on_target            False\n",
       "home_possession           False\n",
       "away_possession           False\n",
       "final_delta               False\n",
       "dtype: bool"
      ]
     },
     "execution_count": 4,
     "metadata": {},
     "output_type": "execute_result"
    }
   ],
   "source": [
    "df.isnull().any()"
   ]
  },
  {
   "cell_type": "markdown",
   "id": "a46998a9-afe3-423a-a5e8-637b6325cad1",
   "metadata": {},
   "source": [
    "Verify data type"
   ]
  },
  {
   "cell_type": "code",
   "execution_count": 5,
   "id": "521de943-4f72-4ccf-9698-6e0b8d3f597b",
   "metadata": {},
   "outputs": [
    {
     "name": "stdout",
     "output_type": "stream",
     "text": [
      "<class 'pandas.core.frame.DataFrame'>\n",
      "RangeIndex: 7000 entries, 0 to 6999\n",
      "Data columns (total 21 columns):\n",
      " #   Column                  Non-Null Count  Dtype \n",
      "---  ------                  --------------  ----- \n",
      " 0   uuid                    7000 non-null   object\n",
      " 1   current_minute          7000 non-null   int64 \n",
      " 2   home_score              7000 non-null   int64 \n",
      " 3   away_score              7000 non-null   int64 \n",
      " 4   home_yellow_cards       7000 non-null   int64 \n",
      " 5   away_yellow_cards       7000 non-null   int64 \n",
      " 6   home_red_cards          7000 non-null   int64 \n",
      " 7   away_red_cards          7000 non-null   int64 \n",
      " 8   home_attacks            7000 non-null   int64 \n",
      " 9   away_attacks            7000 non-null   int64 \n",
      " 10  home_dangerous_attacks  7000 non-null   int64 \n",
      " 11  away_dangerous_attacks  7000 non-null   int64 \n",
      " 12  home_corners            7000 non-null   int64 \n",
      " 13  away_corners            7000 non-null   int64 \n",
      " 14  home_off_target         7000 non-null   int64 \n",
      " 15  away_off_target         7000 non-null   int64 \n",
      " 16  home_on_target          7000 non-null   int64 \n",
      " 17  away_on_target          7000 non-null   int64 \n",
      " 18  home_possession         7000 non-null   int64 \n",
      " 19  away_possession         7000 non-null   int64 \n",
      " 20  final_delta             7000 non-null   int64 \n",
      "dtypes: int64(20), object(1)\n",
      "memory usage: 1.1+ MB\n"
     ]
    }
   ],
   "source": [
    "df.info()"
   ]
  },
  {
   "cell_type": "markdown",
   "id": "b696af6c-6a12-4e41-8fd6-34c7700f6cf9",
   "metadata": {},
   "source": [
    "Check if there are any default values for integer values"
   ]
  },
  {
   "cell_type": "code",
   "execution_count": 9,
   "id": "6c16f1ba-218d-4382-90e0-d5dc0fcf1a93",
   "metadata": {},
   "outputs": [
    {
     "name": "stdout",
     "output_type": "stream",
     "text": [
      "<class 'pandas.core.frame.DataFrame'>\n",
      "RangeIndex: 7000 entries, 0 to 6999\n",
      "Data columns (total 20 columns):\n",
      " #   Column                  Non-Null Count  Dtype\n",
      "---  ------                  --------------  -----\n",
      " 0   current_minute          7000 non-null   int64\n",
      " 1   home_score              7000 non-null   int64\n",
      " 2   away_score              7000 non-null   int64\n",
      " 3   home_yellow_cards       7000 non-null   int64\n",
      " 4   away_yellow_cards       7000 non-null   int64\n",
      " 5   home_red_cards          7000 non-null   int64\n",
      " 6   away_red_cards          7000 non-null   int64\n",
      " 7   home_attacks            7000 non-null   int64\n",
      " 8   away_attacks            7000 non-null   int64\n",
      " 9   home_dangerous_attacks  7000 non-null   int64\n",
      " 10  away_dangerous_attacks  7000 non-null   int64\n",
      " 11  home_corners            7000 non-null   int64\n",
      " 12  away_corners            7000 non-null   int64\n",
      " 13  home_off_target         7000 non-null   int64\n",
      " 14  away_off_target         7000 non-null   int64\n",
      " 15  home_on_target          7000 non-null   int64\n",
      " 16  away_on_target          7000 non-null   int64\n",
      " 17  home_possession         7000 non-null   int64\n",
      " 18  away_possession         7000 non-null   int64\n",
      " 19  final_delta             7000 non-null   int64\n",
      "dtypes: int64(20)\n",
      "memory usage: 1.1 MB\n"
     ]
    }
   ],
   "source": [
    "df_integer_variables = df.drop('uuid',axis=1)\n",
    "df_integer_variables.info()"
   ]
  },
  {
   "cell_type": "markdown",
   "id": "51f9f462-a6f0-4ac9-8257-8073469672c9",
   "metadata": {},
   "source": [
    "do this by checking if any negative values"
   ]
  },
  {
   "cell_type": "markdown",
   "id": "c873b2e2-6d6f-403a-a1d8-5619393c0b48",
   "metadata": {},
   "source": [
    "# Exploratory Data Analysis"
   ]
  },
  {
   "cell_type": "markdown",
   "id": "4729de0f-c12a-40d0-83dc-3f35bbc8738d",
   "metadata": {},
   "source": [
    "# Model training"
   ]
  },
  {
   "cell_type": "markdown",
   "id": "cb91903b-e170-4327-85cc-42895c0d7978",
   "metadata": {
    "tags": []
   },
   "source": [
    "# Hyperparameter tuning"
   ]
  },
  {
   "cell_type": "markdown",
   "id": "a96a6f36-66af-4c9d-971c-ceae12d13aa6",
   "metadata": {},
   "source": [
    "# Model selection"
   ]
  },
  {
   "cell_type": "markdown",
   "id": "26adcf9a-fb3d-4370-b0f7-f0c74011357d",
   "metadata": {},
   "source": [
    "# Insights and conclusions"
   ]
  },
  {
   "cell_type": "markdown",
   "id": "5ddb7aa0",
   "metadata": {},
   "source": [
    "# Bibliography\n"
   ]
  },
  {
   "cell_type": "markdown",
   "id": "fe82fa77-aeef-40e7-bdd9-70d9fec6ecce",
   "metadata": {},
   "source": []
  }
 ],
 "metadata": {
  "kernelspec": {
   "display_name": "Python 3 (ipykernel)",
   "language": "python",
   "name": "python3"
  },
  "language_info": {
   "codemirror_mode": {
    "name": "ipython",
    "version": 3
   },
   "file_extension": ".py",
   "mimetype": "text/x-python",
   "name": "python",
   "nbconvert_exporter": "python",
   "pygments_lexer": "ipython3",
   "version": "3.9.12"
  }
 },
 "nbformat": 4,
 "nbformat_minor": 5
}
