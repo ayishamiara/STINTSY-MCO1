{
 "cells": [
  {
   "cell_type": "markdown",
   "id": "d24a81b3-2065-4f25-a249-5f4654eec0e6",
   "metadata": {
    "tags": []
   },
   "source": [
    "## MP Phase 1\n",
    "\n",
    "**S11 - Group x**\n",
    "\n",
    "**Submitted By:** <br>\n",
    "&nbsp;&nbsp;&nbsp;&nbsp;**Chua Ching, Janine**<br>\n",
    "&nbsp;&nbsp;&nbsp;&nbsp;**Ileto, Maxine**<br>\n",
    "&nbsp;&nbsp;&nbsp;&nbsp;**Dytoc, Ayisha**<br>\n",
    "&nbsp;&nbsp;&nbsp;&nbsp;**Tan, Jared**"
   ]
  },
  {
   "cell_type": "markdown",
   "id": "eb1852b7-49f8-44a9-b7d2-5780e73b7677",
   "metadata": {},
   "source": [
    "# Introduction"
   ]
  },
  {
   "cell_type": "markdown",
   "id": "33bccee2-ff06-4c72-bc79-c40517885425",
   "metadata": {},
   "source": [
    "## Target Task"
   ]
  },
  {
   "cell_type": "markdown",
   "id": "43e6aebd-3262-41ac-8462-86fba7eede21",
   "metadata": {},
   "source": [
    "In sports, soccer remains to be one of the world's most popular sports. Accurately predicting match results is a pursuit that intrigues both enthusiasts, analysts, and even the casual audience. The dataset under consideration provides a unique opportunity to explore this problem by focusing on the **classification task of determining whether the home team is winning or not given a set of features**.\n",
    "\n",
    "This classification task holds significance for various applications, including live match analysis or strategic decision-making. With this in mind, the classifications to be developed would be the **K-Nearest Neighbors (KNN) model**, **binomial classification**, and **(neural network/naive bayes)**. "
   ]
  },
  {
   "cell_type": "markdown",
   "id": "9db7f9bd-cb70-4fdb-9e34-61a5196346cd",
   "metadata": {
    "tags": []
   },
   "source": [
    "# Dataset Description"
   ]
  },
  {
   "cell_type": "markdown",
   "id": "b62f5aee",
   "metadata": {},
   "source": [
    "## Brief Description"
   ]
  },
  {
   "cell_type": "markdown",
   "id": "ef573226",
   "metadata": {},
   "source": [
    "The dataset comprises 10,000 random snapshots, each representing a single timestamp during a soccer match. These snapshots encompass a range of essential features, offering a glimpse into the ongoing match dynamics. Key attributes for this dataset include the current minute of play, goals scored by each team, yellow and red cards issued, attacks attempted, dangerous attacks attempted, corners awarded, missed shots off target, missed shots on target, and possession percentages for both the home and away teams."
   ]
  },
  {
   "cell_type": "markdown",
   "id": "3e8560c5",
   "metadata": {},
   "source": [
    "## Data Collection Process\n"
   ]
  },
  {
   "cell_type": "markdown",
   "id": "8b1acdc1",
   "metadata": {
    "tags": []
   },
   "source": [
    "## Dataset Features\n",
    "\n",
    "The dataset contains a total of 20 variables (columns). The following are the descriptions of each variable in the dataset:\n",
    "\n",
    "- **`uuid`**: The unique identifier of the snapshot\n",
    "- **`current_minute`**: The current minute of the in-play match. Important: the 15 min half-time break is included, so a match will have a total of 105 min. A current_minute of 70 corresponds to the actual match time of 55.\n",
    "- **`home_score`**: Goals scored by the home team as of this current_minute\n",
    "- **`away_score`**:  Goals scored by the away team as of this current_minute\n",
    "- **`home_yellow_cards`**: Yellow cards given to the home team as of this current_minute\n",
    "- **`away_yellow_cards`**: Yellow cards given to the away team as of this current_minute\n",
    "- **`home_red_cards`**: Red cards given to the home team as of this current_minute\n",
    "- **`away_red_cards`**: Red cards given to the away team as of this current_minute\n",
    "- **`home_attacks`**: Attacks attempted by the home team as of this current_minute\n",
    "- **`away_attacks`**: Attacks attempted by the away team as of this current_minute\n",
    "- **`home_dangerous_attacks`**: Dangerous attacks attempted by the home team as of this current_minute\n",
    "- **`away_dangerous_attacks`**: Dangerous attacks attempted by the away team as of this current_minute\n",
    "- **`home_corners`**: Corners awarded to the home team as of this current_minute\n",
    "- **`away_corners`**: Corners awarded to the away team as of this current_minute\n",
    "- **`home_off_target`**: Shots that didn't have to be cleared by the goalkeeper that were \n",
    "attempted to the home team as of this current_minute\n",
    "- **`away_off_target`**: Shots that didn't have to be cleared by the goalkeeper that were \n",
    "attempted to the away team as of this current_minute\n",
    "- **`home_on_target`**:  Shots that had to be cleared by the goalkeeper that were attempted to \n",
    "the home team as of this current_minute\n",
    "- **`away_on_target`**: Shots that had to be cleared by the goalkeeper that were attempted to \n",
    "the away team as of this current_minute\n",
    "- **`home_possession`**: How much ball possession in % did the home team have until this \n",
    "current_minute\n",
    "- **`away_possession`**: How much ball possession in % did the away team have until this\n",
    "current_minute"
   ]
  },
  {
   "cell_type": "markdown",
   "id": "1d51a86c",
   "metadata": {
    "tags": []
   },
   "source": [
    "## Features to be Used\n",
    "\n",
    "Out of the 20 features in the dataset, 18 seem to be usable as input features for a classification model:\n",
    "\n",
    "1. **`home_score`**\n",
    "2. **`away_score`**\n",
    "3. **`home_yellow_cards`**\n",
    "4. **`away_yellow_cards`**\n",
    "5. **`home_red_cards`**\n",
    "6. **`away_red_cards`**\n",
    "7. **`home_attacks`**\n",
    "8. **`away_attacks`**\n",
    "9. **`home_dangerous_attacks`**\n",
    "10. **`away_dangerous_attacks`**\n",
    "11. **`home_corners`**\n",
    "12. **`away_corners`**\n",
    "13. **`home_off_target`**\n",
    "14. **`away_off_target`**\n",
    "15. **`home_on_target`**\n",
    "16. **`away_on_target`**\n",
    "17. **`home_possession`**\n",
    "18. **`away_possession`**\n",
    "\n",
    "Analyzing the following, it is also possible to consolidate pairs into one feature:\n",
    "1. **`home_is_winning`** - A binary indicator (0 or 1) representing whether the home team is winning or not, comparing the `home_score` and the `away_score`. `score_difference` will not be used as this is too much of a giveaway for if a team is winning or not.\n",
    "2. **`yellow_cards_difference`** - The difference between the home `home_yellow_cards` and the away `away_yellow_cards`.\n",
    "3. **`red_cards_difference`** - The difference between the home `home_red_cards` and the away `away_red_cards`.\n",
    "4. **`attacks_difference`** - The difference between the home `home_attacks` and the away `away_attacks`.\n",
    "5. **`dangerous_attacks_difference`** - The difference between the home `home_dangerous_attacks` and the away `away_dangerous_attacks`.\n",
    "6. **`corners_difference`** - The difference between the home `home_corners` and the away `away_corners`.\n",
    "7. **`off_target_difference`** - The difference between the home `home_off_target` and the away `away_off_target`.\n",
    "8. **`on_target_difference`** - The difference between the home `home_on_target` and the away `away_on_target`.\n",
    "9. **`home_possesion`** - Because `home_possession` and `away_possession` percentages directly mirror the distribution of possesion between the home and away teams during a soccer match, we only need one, `home_possesion` is used as all differences is the difference of the home team to the away team (home statistic minus away statistic).\n",
    "\n",
    "By consolidating these paired features, it can reduce the dimensionality of your dataset. This is particularly useful when dealing with a large number of features, as it can simplify the model. \n",
    "\n",
    "The following features were not included:\n",
    "1. **`uuid`** - While this feature serves as a unique identifier for preprocessing, it won't be used in the machine learning model. It's not an indication of anything and will not be considered for the classification model.\n",
    "2. **`current_minute`** - This feature will be still be used for preprocessing, however it won't be used as an input feature for the machine learning model because there may be a lack of a linear relationship between the minute of play and the outcome of the match. Of course, with a higher minute, stats become higher, but this is tricky as as soccer match dynamics are inherently non-linear and context-dependent. Moreover, this stat is not controlled by either team.\n",
    "3. **`home_score`** - The reason why this feature will not be used is because it will be as good as giving the model the answer. If the `home_score` is greater than the `away_score`, than the home team is obviously winning.\n",
    "4. **`away_score`** - The same as the reasons for **`home_score`**."
   ]
  },
  {
   "cell_type": "markdown",
   "id": "f1fbfef4-e806-464b-8196-55004f34ee0f",
   "metadata": {},
   "source": [
    "# List of requirements\n",
    "\n",
    "List all python libraries and modules used"
   ]
  },
  {
   "cell_type": "code",
   "execution_count": 1,
   "id": "edd64d00-e65b-46d1-8bdf-bfc4c73958b9",
   "metadata": {},
   "outputs": [],
   "source": [
    "# Python Libraries\n",
    "import numpy as np\n",
    "import pandas as pd\n",
    "import matplotlib.pyplot as plt\n",
    "import seaborn as sns"
   ]
  },
  {
   "cell_type": "markdown",
   "id": "4d178f50-5e3b-4c78-94e1-4b6a09791d97",
   "metadata": {
    "tags": []
   },
   "source": [
    "# Data Preprocessing and Cleaning"
   ]
  },
  {
   "cell_type": "markdown",
   "id": "6e550a54-1d45-4b35-8b90-28a770713696",
   "metadata": {
    "tags": []
   },
   "source": [
    "The data used in this project is stored in the `sports.csv` file. This data will be stored in a variable called `df`.\n",
    "\n",
    "Below is a sample of the first 5 rows of the dataset."
   ]
  },
  {
   "cell_type": "code",
   "execution_count": 2,
   "id": "53b344cd-342b-4b68-b231-730f446027bf",
   "metadata": {
    "tags": []
   },
   "outputs": [
    {
     "data": {
      "text/html": [
       "<div>\n",
       "<style scoped>\n",
       "    .dataframe tbody tr th:only-of-type {\n",
       "        vertical-align: middle;\n",
       "    }\n",
       "\n",
       "    .dataframe tbody tr th {\n",
       "        vertical-align: top;\n",
       "    }\n",
       "\n",
       "    .dataframe thead th {\n",
       "        text-align: right;\n",
       "    }\n",
       "</style>\n",
       "<table border=\"1\" class=\"dataframe\">\n",
       "  <thead>\n",
       "    <tr style=\"text-align: right;\">\n",
       "      <th></th>\n",
       "      <th>uuid</th>\n",
       "      <th>current_minute</th>\n",
       "      <th>home_score</th>\n",
       "      <th>away_score</th>\n",
       "      <th>home_yellow_cards</th>\n",
       "      <th>away_yellow_cards</th>\n",
       "      <th>home_red_cards</th>\n",
       "      <th>away_red_cards</th>\n",
       "      <th>home_attacks</th>\n",
       "      <th>away_attacks</th>\n",
       "      <th>...</th>\n",
       "      <th>away_dangerous_attacks</th>\n",
       "      <th>home_corners</th>\n",
       "      <th>away_corners</th>\n",
       "      <th>home_off_target</th>\n",
       "      <th>away_off_target</th>\n",
       "      <th>home_on_target</th>\n",
       "      <th>away_on_target</th>\n",
       "      <th>home_possession</th>\n",
       "      <th>away_possession</th>\n",
       "      <th>final_delta</th>\n",
       "    </tr>\n",
       "  </thead>\n",
       "  <tbody>\n",
       "    <tr>\n",
       "      <th>0</th>\n",
       "      <td>2f9dd904-8d9d-4aa0-a9d9-4e0f3e50d742</td>\n",
       "      <td>94</td>\n",
       "      <td>1</td>\n",
       "      <td>2</td>\n",
       "      <td>0</td>\n",
       "      <td>0</td>\n",
       "      <td>0</td>\n",
       "      <td>0</td>\n",
       "      <td>39</td>\n",
       "      <td>45</td>\n",
       "      <td>...</td>\n",
       "      <td>26</td>\n",
       "      <td>4</td>\n",
       "      <td>1</td>\n",
       "      <td>4</td>\n",
       "      <td>0</td>\n",
       "      <td>4</td>\n",
       "      <td>6</td>\n",
       "      <td>48</td>\n",
       "      <td>52</td>\n",
       "      <td>1</td>\n",
       "    </tr>\n",
       "    <tr>\n",
       "      <th>1</th>\n",
       "      <td>869c1420-9153-4d73-8d79-5db31a8a80a4</td>\n",
       "      <td>91</td>\n",
       "      <td>2</td>\n",
       "      <td>0</td>\n",
       "      <td>0</td>\n",
       "      <td>0</td>\n",
       "      <td>0</td>\n",
       "      <td>0</td>\n",
       "      <td>0</td>\n",
       "      <td>0</td>\n",
       "      <td>...</td>\n",
       "      <td>0</td>\n",
       "      <td>0</td>\n",
       "      <td>0</td>\n",
       "      <td>0</td>\n",
       "      <td>0</td>\n",
       "      <td>0</td>\n",
       "      <td>0</td>\n",
       "      <td>50</td>\n",
       "      <td>50</td>\n",
       "      <td>1</td>\n",
       "    </tr>\n",
       "    <tr>\n",
       "      <th>2</th>\n",
       "      <td>549e25a3-4c93-459d-b115-fb303273c78a</td>\n",
       "      <td>3</td>\n",
       "      <td>0</td>\n",
       "      <td>0</td>\n",
       "      <td>0</td>\n",
       "      <td>0</td>\n",
       "      <td>0</td>\n",
       "      <td>0</td>\n",
       "      <td>3</td>\n",
       "      <td>1</td>\n",
       "      <td>...</td>\n",
       "      <td>0</td>\n",
       "      <td>0</td>\n",
       "      <td>0</td>\n",
       "      <td>0</td>\n",
       "      <td>0</td>\n",
       "      <td>0</td>\n",
       "      <td>0</td>\n",
       "      <td>62</td>\n",
       "      <td>38</td>\n",
       "      <td>4</td>\n",
       "    </tr>\n",
       "    <tr>\n",
       "      <th>3</th>\n",
       "      <td>287b4be5-9163-4e2e-895d-d11052a97410</td>\n",
       "      <td>17</td>\n",
       "      <td>0</td>\n",
       "      <td>0</td>\n",
       "      <td>1</td>\n",
       "      <td>0</td>\n",
       "      <td>0</td>\n",
       "      <td>0</td>\n",
       "      <td>41</td>\n",
       "      <td>46</td>\n",
       "      <td>...</td>\n",
       "      <td>25</td>\n",
       "      <td>1</td>\n",
       "      <td>0</td>\n",
       "      <td>0</td>\n",
       "      <td>2</td>\n",
       "      <td>0</td>\n",
       "      <td>0</td>\n",
       "      <td>55</td>\n",
       "      <td>45</td>\n",
       "      <td>2</td>\n",
       "    </tr>\n",
       "    <tr>\n",
       "      <th>4</th>\n",
       "      <td>a607da6a-d6b2-4652-b7a5-6c8e4b61c2b8</td>\n",
       "      <td>76</td>\n",
       "      <td>1</td>\n",
       "      <td>0</td>\n",
       "      <td>1</td>\n",
       "      <td>0</td>\n",
       "      <td>0</td>\n",
       "      <td>0</td>\n",
       "      <td>69</td>\n",
       "      <td>78</td>\n",
       "      <td>...</td>\n",
       "      <td>46</td>\n",
       "      <td>1</td>\n",
       "      <td>1</td>\n",
       "      <td>0</td>\n",
       "      <td>3</td>\n",
       "      <td>4</td>\n",
       "      <td>4</td>\n",
       "      <td>45</td>\n",
       "      <td>55</td>\n",
       "      <td>0</td>\n",
       "    </tr>\n",
       "  </tbody>\n",
       "</table>\n",
       "<p>5 rows × 21 columns</p>\n",
       "</div>"
      ],
      "text/plain": [
       "                                   uuid  current_minute  home_score  \\\n",
       "0  2f9dd904-8d9d-4aa0-a9d9-4e0f3e50d742              94           1   \n",
       "1  869c1420-9153-4d73-8d79-5db31a8a80a4              91           2   \n",
       "2  549e25a3-4c93-459d-b115-fb303273c78a               3           0   \n",
       "3  287b4be5-9163-4e2e-895d-d11052a97410              17           0   \n",
       "4  a607da6a-d6b2-4652-b7a5-6c8e4b61c2b8              76           1   \n",
       "\n",
       "   away_score  home_yellow_cards  away_yellow_cards  home_red_cards  \\\n",
       "0           2                  0                  0               0   \n",
       "1           0                  0                  0               0   \n",
       "2           0                  0                  0               0   \n",
       "3           0                  1                  0               0   \n",
       "4           0                  1                  0               0   \n",
       "\n",
       "   away_red_cards  home_attacks  away_attacks  ...  away_dangerous_attacks  \\\n",
       "0               0            39            45  ...                      26   \n",
       "1               0             0             0  ...                       0   \n",
       "2               0             3             1  ...                       0   \n",
       "3               0            41            46  ...                      25   \n",
       "4               0            69            78  ...                      46   \n",
       "\n",
       "   home_corners  away_corners  home_off_target  away_off_target  \\\n",
       "0             4             1                4                0   \n",
       "1             0             0                0                0   \n",
       "2             0             0                0                0   \n",
       "3             1             0                0                2   \n",
       "4             1             1                0                3   \n",
       "\n",
       "   home_on_target  away_on_target  home_possession  away_possession  \\\n",
       "0               4               6               48               52   \n",
       "1               0               0               50               50   \n",
       "2               0               0               62               38   \n",
       "3               0               0               55               45   \n",
       "4               4               4               45               55   \n",
       "\n",
       "   final_delta  \n",
       "0            1  \n",
       "1            1  \n",
       "2            4  \n",
       "3            2  \n",
       "4            0  \n",
       "\n",
       "[5 rows x 21 columns]"
      ]
     },
     "execution_count": 2,
     "metadata": {},
     "output_type": "execute_result"
    }
   ],
   "source": [
    "df = pd.read_csv('sports.csv')\n",
    "df.head()"
   ]
  },
  {
   "cell_type": "markdown",
   "id": "ee1cd6fb-723d-4b1f-a0a9-60206f118673",
   "metadata": {},
   "source": [
    "In the following section, Exploratory Data Analysis (EDA), we want to explore which features can affect whether or not the home team is winning. \n",
    "- remove uuid since this is irrelevant to the computation"
   ]
  },
  {
   "cell_type": "code",
   "execution_count": 3,
   "id": "d232f3b8-2d86-41a6-b342-233bf1cc02ba",
   "metadata": {},
   "outputs": [
    {
     "data": {
      "text/html": [
       "<div>\n",
       "<style scoped>\n",
       "    .dataframe tbody tr th:only-of-type {\n",
       "        vertical-align: middle;\n",
       "    }\n",
       "\n",
       "    .dataframe tbody tr th {\n",
       "        vertical-align: top;\n",
       "    }\n",
       "\n",
       "    .dataframe thead th {\n",
       "        text-align: right;\n",
       "    }\n",
       "</style>\n",
       "<table border=\"1\" class=\"dataframe\">\n",
       "  <thead>\n",
       "    <tr style=\"text-align: right;\">\n",
       "      <th></th>\n",
       "      <th>current_minute</th>\n",
       "      <th>home_score</th>\n",
       "      <th>away_score</th>\n",
       "      <th>home_yellow_cards</th>\n",
       "      <th>away_yellow_cards</th>\n",
       "      <th>home_red_cards</th>\n",
       "      <th>away_red_cards</th>\n",
       "      <th>home_attacks</th>\n",
       "      <th>away_attacks</th>\n",
       "      <th>home_dangerous_attacks</th>\n",
       "      <th>away_dangerous_attacks</th>\n",
       "      <th>home_corners</th>\n",
       "      <th>away_corners</th>\n",
       "      <th>home_off_target</th>\n",
       "      <th>away_off_target</th>\n",
       "      <th>home_on_target</th>\n",
       "      <th>away_on_target</th>\n",
       "      <th>home_possession</th>\n",
       "      <th>away_possession</th>\n",
       "      <th>final_delta</th>\n",
       "    </tr>\n",
       "  </thead>\n",
       "  <tbody>\n",
       "    <tr>\n",
       "      <th>0</th>\n",
       "      <td>94</td>\n",
       "      <td>1</td>\n",
       "      <td>2</td>\n",
       "      <td>0</td>\n",
       "      <td>0</td>\n",
       "      <td>0</td>\n",
       "      <td>0</td>\n",
       "      <td>39</td>\n",
       "      <td>45</td>\n",
       "      <td>29</td>\n",
       "      <td>26</td>\n",
       "      <td>4</td>\n",
       "      <td>1</td>\n",
       "      <td>4</td>\n",
       "      <td>0</td>\n",
       "      <td>4</td>\n",
       "      <td>6</td>\n",
       "      <td>48</td>\n",
       "      <td>52</td>\n",
       "      <td>1</td>\n",
       "    </tr>\n",
       "    <tr>\n",
       "      <th>1</th>\n",
       "      <td>91</td>\n",
       "      <td>2</td>\n",
       "      <td>0</td>\n",
       "      <td>0</td>\n",
       "      <td>0</td>\n",
       "      <td>0</td>\n",
       "      <td>0</td>\n",
       "      <td>0</td>\n",
       "      <td>0</td>\n",
       "      <td>0</td>\n",
       "      <td>0</td>\n",
       "      <td>0</td>\n",
       "      <td>0</td>\n",
       "      <td>0</td>\n",
       "      <td>0</td>\n",
       "      <td>0</td>\n",
       "      <td>0</td>\n",
       "      <td>50</td>\n",
       "      <td>50</td>\n",
       "      <td>1</td>\n",
       "    </tr>\n",
       "    <tr>\n",
       "      <th>2</th>\n",
       "      <td>3</td>\n",
       "      <td>0</td>\n",
       "      <td>0</td>\n",
       "      <td>0</td>\n",
       "      <td>0</td>\n",
       "      <td>0</td>\n",
       "      <td>0</td>\n",
       "      <td>3</td>\n",
       "      <td>1</td>\n",
       "      <td>1</td>\n",
       "      <td>0</td>\n",
       "      <td>0</td>\n",
       "      <td>0</td>\n",
       "      <td>0</td>\n",
       "      <td>0</td>\n",
       "      <td>0</td>\n",
       "      <td>0</td>\n",
       "      <td>62</td>\n",
       "      <td>38</td>\n",
       "      <td>4</td>\n",
       "    </tr>\n",
       "    <tr>\n",
       "      <th>3</th>\n",
       "      <td>17</td>\n",
       "      <td>0</td>\n",
       "      <td>0</td>\n",
       "      <td>1</td>\n",
       "      <td>0</td>\n",
       "      <td>0</td>\n",
       "      <td>0</td>\n",
       "      <td>41</td>\n",
       "      <td>46</td>\n",
       "      <td>11</td>\n",
       "      <td>25</td>\n",
       "      <td>1</td>\n",
       "      <td>0</td>\n",
       "      <td>0</td>\n",
       "      <td>2</td>\n",
       "      <td>0</td>\n",
       "      <td>0</td>\n",
       "      <td>55</td>\n",
       "      <td>45</td>\n",
       "      <td>2</td>\n",
       "    </tr>\n",
       "    <tr>\n",
       "      <th>4</th>\n",
       "      <td>76</td>\n",
       "      <td>1</td>\n",
       "      <td>0</td>\n",
       "      <td>1</td>\n",
       "      <td>0</td>\n",
       "      <td>0</td>\n",
       "      <td>0</td>\n",
       "      <td>69</td>\n",
       "      <td>78</td>\n",
       "      <td>21</td>\n",
       "      <td>46</td>\n",
       "      <td>1</td>\n",
       "      <td>1</td>\n",
       "      <td>0</td>\n",
       "      <td>3</td>\n",
       "      <td>4</td>\n",
       "      <td>4</td>\n",
       "      <td>45</td>\n",
       "      <td>55</td>\n",
       "      <td>0</td>\n",
       "    </tr>\n",
       "  </tbody>\n",
       "</table>\n",
       "</div>"
      ],
      "text/plain": [
       "   current_minute  home_score  away_score  home_yellow_cards  \\\n",
       "0              94           1           2                  0   \n",
       "1              91           2           0                  0   \n",
       "2               3           0           0                  0   \n",
       "3              17           0           0                  1   \n",
       "4              76           1           0                  1   \n",
       "\n",
       "   away_yellow_cards  home_red_cards  away_red_cards  home_attacks  \\\n",
       "0                  0               0               0            39   \n",
       "1                  0               0               0             0   \n",
       "2                  0               0               0             3   \n",
       "3                  0               0               0            41   \n",
       "4                  0               0               0            69   \n",
       "\n",
       "   away_attacks  home_dangerous_attacks  away_dangerous_attacks  home_corners  \\\n",
       "0            45                      29                      26             4   \n",
       "1             0                       0                       0             0   \n",
       "2             1                       1                       0             0   \n",
       "3            46                      11                      25             1   \n",
       "4            78                      21                      46             1   \n",
       "\n",
       "   away_corners  home_off_target  away_off_target  home_on_target  \\\n",
       "0             1                4                0               4   \n",
       "1             0                0                0               0   \n",
       "2             0                0                0               0   \n",
       "3             0                0                2               0   \n",
       "4             1                0                3               4   \n",
       "\n",
       "   away_on_target  home_possession  away_possession  final_delta  \n",
       "0               6               48               52            1  \n",
       "1               0               50               50            1  \n",
       "2               0               62               38            4  \n",
       "3               0               55               45            2  \n",
       "4               4               45               55            0  "
      ]
     },
     "execution_count": 3,
     "metadata": {},
     "output_type": "execute_result"
    }
   ],
   "source": [
    "df = df.drop('uuid', axis=1)\n",
    "df.head()"
   ]
  },
  {
   "cell_type": "markdown",
   "id": "8723b796-37ae-4ce7-aa14-2da9d0f2632b",
   "metadata": {},
   "source": [
    "We will now begin cleaning the data.\n",
    "\n",
    "First, we will check if there are any null or missing values."
   ]
  },
  {
   "cell_type": "code",
   "execution_count": 4,
   "id": "50ed45c1-190c-473f-9d6e-b76ddaca6c97",
   "metadata": {},
   "outputs": [
    {
     "data": {
      "text/plain": [
       "current_minute            False\n",
       "home_score                False\n",
       "away_score                False\n",
       "home_yellow_cards         False\n",
       "away_yellow_cards         False\n",
       "home_red_cards            False\n",
       "away_red_cards            False\n",
       "home_attacks              False\n",
       "away_attacks              False\n",
       "home_dangerous_attacks    False\n",
       "away_dangerous_attacks    False\n",
       "home_corners              False\n",
       "away_corners              False\n",
       "home_off_target           False\n",
       "away_off_target           False\n",
       "home_on_target            False\n",
       "away_on_target            False\n",
       "home_possession           False\n",
       "away_possession           False\n",
       "final_delta               False\n",
       "dtype: bool"
      ]
     },
     "execution_count": 4,
     "metadata": {},
     "output_type": "execute_result"
    }
   ],
   "source": [
    "df.isnull().any()"
   ]
  },
  {
   "cell_type": "markdown",
   "id": "23b7d832-e5a8-4b55-863c-e514bd7175d6",
   "metadata": {},
   "source": [
    "Based on the output above, we can see that they are all `False`, indicating that there are no null or missing values."
   ]
  },
  {
   "cell_type": "markdown",
   "id": "a46998a9-afe3-423a-a5e8-637b6325cad1",
   "metadata": {},
   "source": [
    "We will next check if the data types of the variables are consistent."
   ]
  },
  {
   "cell_type": "code",
   "execution_count": 5,
   "id": "521de943-4f72-4ccf-9698-6e0b8d3f597b",
   "metadata": {},
   "outputs": [
    {
     "name": "stdout",
     "output_type": "stream",
     "text": [
      "<class 'pandas.core.frame.DataFrame'>\n",
      "RangeIndex: 7000 entries, 0 to 6999\n",
      "Data columns (total 20 columns):\n",
      " #   Column                  Non-Null Count  Dtype\n",
      "---  ------                  --------------  -----\n",
      " 0   current_minute          7000 non-null   int64\n",
      " 1   home_score              7000 non-null   int64\n",
      " 2   away_score              7000 non-null   int64\n",
      " 3   home_yellow_cards       7000 non-null   int64\n",
      " 4   away_yellow_cards       7000 non-null   int64\n",
      " 5   home_red_cards          7000 non-null   int64\n",
      " 6   away_red_cards          7000 non-null   int64\n",
      " 7   home_attacks            7000 non-null   int64\n",
      " 8   away_attacks            7000 non-null   int64\n",
      " 9   home_dangerous_attacks  7000 non-null   int64\n",
      " 10  away_dangerous_attacks  7000 non-null   int64\n",
      " 11  home_corners            7000 non-null   int64\n",
      " 12  away_corners            7000 non-null   int64\n",
      " 13  home_off_target         7000 non-null   int64\n",
      " 14  away_off_target         7000 non-null   int64\n",
      " 15  home_on_target          7000 non-null   int64\n",
      " 16  away_on_target          7000 non-null   int64\n",
      " 17  home_possession         7000 non-null   int64\n",
      " 18  away_possession         7000 non-null   int64\n",
      " 19  final_delta             7000 non-null   int64\n",
      "dtypes: int64(20)\n",
      "memory usage: 1.1 MB\n"
     ]
    }
   ],
   "source": [
    "df.info()"
   ]
  },
  {
   "cell_type": "markdown",
   "id": "8596eea5-7afd-4442-a771-8c373ca764f3",
   "metadata": {},
   "source": [
    "Based on the output, we can see that all items in the data are non-null and have the integer data type."
   ]
  },
  {
   "cell_type": "markdown",
   "id": "beafad09-3707-470f-b136-b6aef9d15aac",
   "metadata": {},
   "source": [
    "We will now check if there are any default values within the data, which can be indicated by values that go beyond the data range (ex. below the minimum values or above the maximum)"
   ]
  },
  {
   "cell_type": "code",
   "execution_count": 6,
   "id": "5e395b69-85c0-4129-9127-bd20577f1269",
   "metadata": {},
   "outputs": [
    {
     "data": {
      "text/html": [
       "<div>\n",
       "<style scoped>\n",
       "    .dataframe tbody tr th:only-of-type {\n",
       "        vertical-align: middle;\n",
       "    }\n",
       "\n",
       "    .dataframe tbody tr th {\n",
       "        vertical-align: top;\n",
       "    }\n",
       "\n",
       "    .dataframe thead th {\n",
       "        text-align: right;\n",
       "    }\n",
       "</style>\n",
       "<table border=\"1\" class=\"dataframe\">\n",
       "  <thead>\n",
       "    <tr style=\"text-align: right;\">\n",
       "      <th></th>\n",
       "      <th>current_minute</th>\n",
       "      <th>home_score</th>\n",
       "      <th>away_score</th>\n",
       "      <th>home_yellow_cards</th>\n",
       "      <th>away_yellow_cards</th>\n",
       "      <th>home_red_cards</th>\n",
       "      <th>away_red_cards</th>\n",
       "      <th>home_attacks</th>\n",
       "      <th>away_attacks</th>\n",
       "      <th>home_dangerous_attacks</th>\n",
       "      <th>away_dangerous_attacks</th>\n",
       "      <th>home_corners</th>\n",
       "      <th>away_corners</th>\n",
       "      <th>home_off_target</th>\n",
       "      <th>away_off_target</th>\n",
       "      <th>home_on_target</th>\n",
       "      <th>away_on_target</th>\n",
       "      <th>home_possession</th>\n",
       "      <th>away_possession</th>\n",
       "      <th>final_delta</th>\n",
       "    </tr>\n",
       "  </thead>\n",
       "  <tbody>\n",
       "    <tr>\n",
       "      <th>count</th>\n",
       "      <td>7000.000000</td>\n",
       "      <td>7000.000000</td>\n",
       "      <td>7000.000000</td>\n",
       "      <td>7000.000000</td>\n",
       "      <td>7000.000000</td>\n",
       "      <td>7000.000000</td>\n",
       "      <td>7000.000000</td>\n",
       "      <td>7000.000000</td>\n",
       "      <td>7000.000000</td>\n",
       "      <td>7000.000000</td>\n",
       "      <td>7000.000000</td>\n",
       "      <td>7000.000000</td>\n",
       "      <td>7000.000000</td>\n",
       "      <td>7000.000000</td>\n",
       "      <td>7000.000000</td>\n",
       "      <td>7000.000000</td>\n",
       "      <td>7000.000000</td>\n",
       "      <td>7000.000000</td>\n",
       "      <td>7000.000000</td>\n",
       "      <td>7000.000000</td>\n",
       "    </tr>\n",
       "    <tr>\n",
       "      <th>mean</th>\n",
       "      <td>59.491571</td>\n",
       "      <td>0.796000</td>\n",
       "      <td>0.623143</td>\n",
       "      <td>0.522429</td>\n",
       "      <td>0.603143</td>\n",
       "      <td>0.009286</td>\n",
       "      <td>0.015714</td>\n",
       "      <td>46.365429</td>\n",
       "      <td>43.325143</td>\n",
       "      <td>27.611429</td>\n",
       "      <td>24.201286</td>\n",
       "      <td>2.377714</td>\n",
       "      <td>1.994286</td>\n",
       "      <td>3.067857</td>\n",
       "      <td>2.592286</td>\n",
       "      <td>2.172143</td>\n",
       "      <td>1.796000</td>\n",
       "      <td>51.584286</td>\n",
       "      <td>48.412571</td>\n",
       "      <td>1.416857</td>\n",
       "    </tr>\n",
       "    <tr>\n",
       "      <th>std</th>\n",
       "      <td>35.827892</td>\n",
       "      <td>1.070503</td>\n",
       "      <td>0.923248</td>\n",
       "      <td>0.922212</td>\n",
       "      <td>1.018021</td>\n",
       "      <td>0.097399</td>\n",
       "      <td>0.125520</td>\n",
       "      <td>36.004908</td>\n",
       "      <td>33.428276</td>\n",
       "      <td>22.977844</td>\n",
       "      <td>20.457007</td>\n",
       "      <td>2.464647</td>\n",
       "      <td>2.197746</td>\n",
       "      <td>3.157366</td>\n",
       "      <td>2.747621</td>\n",
       "      <td>2.320374</td>\n",
       "      <td>2.026002</td>\n",
       "      <td>10.532584</td>\n",
       "      <td>10.534579</td>\n",
       "      <td>1.419035</td>\n",
       "    </tr>\n",
       "    <tr>\n",
       "      <th>min</th>\n",
       "      <td>-348.000000</td>\n",
       "      <td>0.000000</td>\n",
       "      <td>0.000000</td>\n",
       "      <td>0.000000</td>\n",
       "      <td>0.000000</td>\n",
       "      <td>0.000000</td>\n",
       "      <td>0.000000</td>\n",
       "      <td>0.000000</td>\n",
       "      <td>0.000000</td>\n",
       "      <td>0.000000</td>\n",
       "      <td>0.000000</td>\n",
       "      <td>0.000000</td>\n",
       "      <td>0.000000</td>\n",
       "      <td>0.000000</td>\n",
       "      <td>0.000000</td>\n",
       "      <td>0.000000</td>\n",
       "      <td>0.000000</td>\n",
       "      <td>0.000000</td>\n",
       "      <td>0.000000</td>\n",
       "      <td>-2.000000</td>\n",
       "    </tr>\n",
       "    <tr>\n",
       "      <th>25%</th>\n",
       "      <td>28.000000</td>\n",
       "      <td>0.000000</td>\n",
       "      <td>0.000000</td>\n",
       "      <td>0.000000</td>\n",
       "      <td>0.000000</td>\n",
       "      <td>0.000000</td>\n",
       "      <td>0.000000</td>\n",
       "      <td>15.000000</td>\n",
       "      <td>14.000000</td>\n",
       "      <td>8.000000</td>\n",
       "      <td>7.000000</td>\n",
       "      <td>0.000000</td>\n",
       "      <td>0.000000</td>\n",
       "      <td>0.000000</td>\n",
       "      <td>0.000000</td>\n",
       "      <td>0.000000</td>\n",
       "      <td>0.000000</td>\n",
       "      <td>46.000000</td>\n",
       "      <td>42.000000</td>\n",
       "      <td>0.000000</td>\n",
       "    </tr>\n",
       "    <tr>\n",
       "      <th>50%</th>\n",
       "      <td>70.000000</td>\n",
       "      <td>0.000000</td>\n",
       "      <td>0.000000</td>\n",
       "      <td>0.000000</td>\n",
       "      <td>0.000000</td>\n",
       "      <td>0.000000</td>\n",
       "      <td>0.000000</td>\n",
       "      <td>43.000000</td>\n",
       "      <td>41.000000</td>\n",
       "      <td>25.000000</td>\n",
       "      <td>21.000000</td>\n",
       "      <td>2.000000</td>\n",
       "      <td>1.000000</td>\n",
       "      <td>2.000000</td>\n",
       "      <td>2.000000</td>\n",
       "      <td>2.000000</td>\n",
       "      <td>1.000000</td>\n",
       "      <td>51.000000</td>\n",
       "      <td>49.000000</td>\n",
       "      <td>1.000000</td>\n",
       "    </tr>\n",
       "    <tr>\n",
       "      <th>75%</th>\n",
       "      <td>88.000000</td>\n",
       "      <td>1.000000</td>\n",
       "      <td>1.000000</td>\n",
       "      <td>1.000000</td>\n",
       "      <td>1.000000</td>\n",
       "      <td>0.000000</td>\n",
       "      <td>0.000000</td>\n",
       "      <td>71.000000</td>\n",
       "      <td>67.000000</td>\n",
       "      <td>42.000000</td>\n",
       "      <td>36.000000</td>\n",
       "      <td>4.000000</td>\n",
       "      <td>3.000000</td>\n",
       "      <td>5.000000</td>\n",
       "      <td>4.000000</td>\n",
       "      <td>3.000000</td>\n",
       "      <td>3.000000</td>\n",
       "      <td>58.000000</td>\n",
       "      <td>54.000000</td>\n",
       "      <td>2.000000</td>\n",
       "    </tr>\n",
       "    <tr>\n",
       "      <th>max</th>\n",
       "      <td>583.000000</td>\n",
       "      <td>8.000000</td>\n",
       "      <td>9.000000</td>\n",
       "      <td>8.000000</td>\n",
       "      <td>8.000000</td>\n",
       "      <td>2.000000</td>\n",
       "      <td>2.000000</td>\n",
       "      <td>255.000000</td>\n",
       "      <td>183.000000</td>\n",
       "      <td>134.000000</td>\n",
       "      <td>140.000000</td>\n",
       "      <td>16.000000</td>\n",
       "      <td>18.000000</td>\n",
       "      <td>24.000000</td>\n",
       "      <td>18.000000</td>\n",
       "      <td>22.000000</td>\n",
       "      <td>19.000000</td>\n",
       "      <td>100.000000</td>\n",
       "      <td>100.000000</td>\n",
       "      <td>10.000000</td>\n",
       "    </tr>\n",
       "  </tbody>\n",
       "</table>\n",
       "</div>"
      ],
      "text/plain": [
       "       current_minute   home_score   away_score  home_yellow_cards  \\\n",
       "count     7000.000000  7000.000000  7000.000000        7000.000000   \n",
       "mean        59.491571     0.796000     0.623143           0.522429   \n",
       "std         35.827892     1.070503     0.923248           0.922212   \n",
       "min       -348.000000     0.000000     0.000000           0.000000   \n",
       "25%         28.000000     0.000000     0.000000           0.000000   \n",
       "50%         70.000000     0.000000     0.000000           0.000000   \n",
       "75%         88.000000     1.000000     1.000000           1.000000   \n",
       "max        583.000000     8.000000     9.000000           8.000000   \n",
       "\n",
       "       away_yellow_cards  home_red_cards  away_red_cards  home_attacks  \\\n",
       "count        7000.000000     7000.000000     7000.000000   7000.000000   \n",
       "mean            0.603143        0.009286        0.015714     46.365429   \n",
       "std             1.018021        0.097399        0.125520     36.004908   \n",
       "min             0.000000        0.000000        0.000000      0.000000   \n",
       "25%             0.000000        0.000000        0.000000     15.000000   \n",
       "50%             0.000000        0.000000        0.000000     43.000000   \n",
       "75%             1.000000        0.000000        0.000000     71.000000   \n",
       "max             8.000000        2.000000        2.000000    255.000000   \n",
       "\n",
       "       away_attacks  home_dangerous_attacks  away_dangerous_attacks  \\\n",
       "count   7000.000000             7000.000000             7000.000000   \n",
       "mean      43.325143               27.611429               24.201286   \n",
       "std       33.428276               22.977844               20.457007   \n",
       "min        0.000000                0.000000                0.000000   \n",
       "25%       14.000000                8.000000                7.000000   \n",
       "50%       41.000000               25.000000               21.000000   \n",
       "75%       67.000000               42.000000               36.000000   \n",
       "max      183.000000              134.000000              140.000000   \n",
       "\n",
       "       home_corners  away_corners  home_off_target  away_off_target  \\\n",
       "count   7000.000000   7000.000000      7000.000000      7000.000000   \n",
       "mean       2.377714      1.994286         3.067857         2.592286   \n",
       "std        2.464647      2.197746         3.157366         2.747621   \n",
       "min        0.000000      0.000000         0.000000         0.000000   \n",
       "25%        0.000000      0.000000         0.000000         0.000000   \n",
       "50%        2.000000      1.000000         2.000000         2.000000   \n",
       "75%        4.000000      3.000000         5.000000         4.000000   \n",
       "max       16.000000     18.000000        24.000000        18.000000   \n",
       "\n",
       "       home_on_target  away_on_target  home_possession  away_possession  \\\n",
       "count     7000.000000     7000.000000      7000.000000      7000.000000   \n",
       "mean         2.172143        1.796000        51.584286        48.412571   \n",
       "std          2.320374        2.026002        10.532584        10.534579   \n",
       "min          0.000000        0.000000         0.000000         0.000000   \n",
       "25%          0.000000        0.000000        46.000000        42.000000   \n",
       "50%          2.000000        1.000000        51.000000        49.000000   \n",
       "75%          3.000000        3.000000        58.000000        54.000000   \n",
       "max         22.000000       19.000000       100.000000       100.000000   \n",
       "\n",
       "       final_delta  \n",
       "count  7000.000000  \n",
       "mean      1.416857  \n",
       "std       1.419035  \n",
       "min      -2.000000  \n",
       "25%       0.000000  \n",
       "50%       1.000000  \n",
       "75%       2.000000  \n",
       "max      10.000000  "
      ]
     },
     "execution_count": 6,
     "metadata": {},
     "output_type": "execute_result"
    }
   ],
   "source": [
    "df.describe()"
   ]
  },
  {
   "cell_type": "markdown",
   "id": "c44cc2dc-4e40-412b-acf2-cc25de44b64f",
   "metadata": {},
   "source": [
    "Based on the output above, we can note the following:\n",
    "- The minimum value of **`current_minute`** is a negative value, while the maximum value goes beyond the total match time. \n",
    "- The minimum and maximum values of the remaining features are within the proper range.\n",
    "- `home_possession` and `away_possession` are correctly within 0 and 100"
   ]
  },
  {
   "cell_type": "markdown",
   "id": "38f6fa39-7be2-48e9-a2e1-38c09c1038c6",
   "metadata": {},
   "source": [
    "Since for this project we will be predicting whether the home team is winning or losing, we would ideally want the match to have sufficient data to be able to accurately predict this. If the match has barely begun, there might not be enough data to create an accurate prediction, and this may also skew the training data.\n",
    "\n",
    "With this, we will only use the match data for games that are either from the break time (eg. the middle of the game) or in the game's second half."
   ]
  },
  {
   "cell_type": "code",
   "execution_count": 7,
   "id": "6934ec14-6885-4697-bf9a-f5337b906113",
   "metadata": {},
   "outputs": [
    {
     "data": {
      "text/plain": [
       "count    4112.000000\n",
       "mean       82.137889\n",
       "std        14.433778\n",
       "min        45.000000\n",
       "25%        73.000000\n",
       "50%        83.000000\n",
       "75%        94.000000\n",
       "max       105.000000\n",
       "Name: current_minute, dtype: float64"
      ]
     },
     "execution_count": 7,
     "metadata": {},
     "output_type": "execute_result"
    }
   ],
   "source": [
    "df = df[ df['current_minute'] >= 45 ]\n",
    "df = df[ df['current_minute'] <= 105 ]\n",
    "df['current_minute'].describe()"
   ]
  },
  {
   "cell_type": "code",
   "execution_count": 8,
   "id": "b1a26414-fe15-4218-9b2c-ba5bad142836",
   "metadata": {},
   "outputs": [
    {
     "data": {
      "text/plain": [
       "4112"
      ]
     },
     "execution_count": 8,
     "metadata": {},
     "output_type": "execute_result"
    }
   ],
   "source": [
    "len(df)"
   ]
  },
  {
   "cell_type": "markdown",
   "id": "55ddf8d0-9c27-4c40-9a82-52c81ada807d",
   "metadata": {},
   "source": [
    "As shown, the values for **`current_minute`** are now within the appropriate time range.\n",
    "\n",
    "This now leaves us with 4112 items in the dataset."
   ]
  },
  {
   "cell_type": "markdown",
   "id": "d4a9aa71-1740-462d-a546-7ca92db2b9f8",
   "metadata": {},
   "source": [
    "We will now drop any duplicated data."
   ]
  },
  {
   "cell_type": "code",
   "execution_count": 9,
   "id": "6dcc5c63-ae6e-4d87-bdd3-c1cb53af3454",
   "metadata": {},
   "outputs": [
    {
     "data": {
      "text/plain": [
       "4112"
      ]
     },
     "execution_count": 9,
     "metadata": {},
     "output_type": "execute_result"
    }
   ],
   "source": [
    "df.drop_duplicates()\n",
    "len(df)"
   ]
  },
  {
   "cell_type": "markdown",
   "id": "7a0f6c51-24fd-422b-b43b-64ceeac24941",
   "metadata": {},
   "source": [
    "The number of rows in the dataset did not change, indicating that there were no duplicates."
   ]
  },
  {
   "cell_type": "markdown",
   "id": "1a00c160-025f-4fa4-9177-b5b06551fffa",
   "metadata": {},
   "source": [
    "Lastly, since we are only checking whether or not the home team is winning, we will remove any draw games from the dataset. This is indicated by games where the number of points of the home and away team are equal."
   ]
  },
  {
   "cell_type": "code",
   "execution_count": 10,
   "id": "53a9974a-cd58-4bee-83fc-c60766d2d134",
   "metadata": {},
   "outputs": [
    {
     "data": {
      "text/plain": [
       "2824"
      ]
     },
     "execution_count": 10,
     "metadata": {},
     "output_type": "execute_result"
    }
   ],
   "source": [
    "df = df[ (df['home_score'] != df['away_score']) ]\n",
    "len(df)"
   ]
  },
  {
   "cell_type": "markdown",
   "id": "f901b9c3-4d24-4b4b-8c35-0efab2a946d7",
   "metadata": {},
   "source": [
    "This now leaves us with 2824 items in the dataset."
   ]
  },
  {
   "cell_type": "markdown",
   "id": "321fef29-bc2f-402d-8b85-5538c3f2099d",
   "metadata": {},
   "source": [
    "With the data cleaned, we will now create columns for the extra features that will be used in this project. Since we will need to determine whether or not the home team is winning, we can create an extra variable named **`home_is_winning`**, which will be a boolean variable of whether or not the home team's score is higher than the away team's.\n",
    "\n",
    "As shown in the dataset, a majority of the variables come in pairs, with one corresponding to the home team and the other to the away team. For the remaining features used, we will merge these pairs into a single feature, denoted by the difference of the home team's statistic and the away team's statistic. This will be done to simplify the features used into a single variable, which can make the modelling process easier to perform.\n",
    "\n",
    "Below is an explanation of the extra features that will be added:\n",
    "1. **`yellow_cards_difference`** - The difference between the home `home_yellow_cards` and the away `away_yellow_cards`.\n",
    "2. **`red_cards_difference`** - The difference between the home `home_red_cards` and the away `away_red_cards`.\n",
    "3. **`attacks_difference`** - The difference between the home `home_attacks` and the away `away_attacks`.\n",
    "4. **`dangerous_attacks_difference`** - The difference between the home `home_dangerous_attacks` and the away `away_dangerous_attacks`.\n",
    "5. **`corners_difference`** - The difference between the home `home_corners` and the away `away_corners`.\n",
    "6. **`off_target_difference`** - The difference between the home `home_off_target` and the away `away_off_target`.\n",
    "7. **`on_target_difference`** - The difference between the home `home_on_target` and the away `away_on_target`.\n",
    "8. **`home_possesion`** - Because `home_possession` and `away_possession` percentages directly mirror the distribution of possesion between the home and away teams during a soccer match, we only need one, `home_possesion` is used as all differences is the difference of the home team to the away team (home statistic minus away statistic)."
   ]
  },
  {
   "cell_type": "markdown",
   "id": "d802b452-4207-4045-b13b-6e57d806d85e",
   "metadata": {},
   "source": [
    "We will no longer need the current_minute feature (as explained in the previous section) and final_delta (because it is not explained in the dataset)."
   ]
  },
  {
   "cell_type": "code",
   "execution_count": 11,
   "id": "a172a6d0-d977-4076-a922-e45ae7408cb1",
   "metadata": {},
   "outputs": [],
   "source": [
    "df = df.drop('current_minute', axis=1)\n",
    "df = df.drop('final_delta', axis=1)"
   ]
  },
  {
   "cell_type": "code",
   "execution_count": 12,
   "id": "6ce2fcf1-a28d-4569-9ce2-e7fd4ded61ce",
   "metadata": {},
   "outputs": [
    {
     "data": {
      "text/html": [
       "<div>\n",
       "<style scoped>\n",
       "    .dataframe tbody tr th:only-of-type {\n",
       "        vertical-align: middle;\n",
       "    }\n",
       "\n",
       "    .dataframe tbody tr th {\n",
       "        vertical-align: top;\n",
       "    }\n",
       "\n",
       "    .dataframe thead th {\n",
       "        text-align: right;\n",
       "    }\n",
       "</style>\n",
       "<table border=\"1\" class=\"dataframe\">\n",
       "  <thead>\n",
       "    <tr style=\"text-align: right;\">\n",
       "      <th></th>\n",
       "      <th>home_score</th>\n",
       "      <th>away_score</th>\n",
       "      <th>home_yellow_cards</th>\n",
       "      <th>away_yellow_cards</th>\n",
       "      <th>home_red_cards</th>\n",
       "      <th>away_red_cards</th>\n",
       "      <th>home_attacks</th>\n",
       "      <th>away_attacks</th>\n",
       "      <th>home_dangerous_attacks</th>\n",
       "      <th>away_dangerous_attacks</th>\n",
       "      <th>home_corners</th>\n",
       "      <th>away_corners</th>\n",
       "      <th>home_off_target</th>\n",
       "      <th>away_off_target</th>\n",
       "      <th>home_on_target</th>\n",
       "      <th>away_on_target</th>\n",
       "      <th>home_possession</th>\n",
       "      <th>away_possession</th>\n",
       "      <th>home_is_winning</th>\n",
       "    </tr>\n",
       "  </thead>\n",
       "  <tbody>\n",
       "    <tr>\n",
       "      <th>0</th>\n",
       "      <td>1</td>\n",
       "      <td>2</td>\n",
       "      <td>0</td>\n",
       "      <td>0</td>\n",
       "      <td>0</td>\n",
       "      <td>0</td>\n",
       "      <td>39</td>\n",
       "      <td>45</td>\n",
       "      <td>29</td>\n",
       "      <td>26</td>\n",
       "      <td>4</td>\n",
       "      <td>1</td>\n",
       "      <td>4</td>\n",
       "      <td>0</td>\n",
       "      <td>4</td>\n",
       "      <td>6</td>\n",
       "      <td>48</td>\n",
       "      <td>52</td>\n",
       "      <td>0</td>\n",
       "    </tr>\n",
       "    <tr>\n",
       "      <th>1</th>\n",
       "      <td>2</td>\n",
       "      <td>0</td>\n",
       "      <td>0</td>\n",
       "      <td>0</td>\n",
       "      <td>0</td>\n",
       "      <td>0</td>\n",
       "      <td>0</td>\n",
       "      <td>0</td>\n",
       "      <td>0</td>\n",
       "      <td>0</td>\n",
       "      <td>0</td>\n",
       "      <td>0</td>\n",
       "      <td>0</td>\n",
       "      <td>0</td>\n",
       "      <td>0</td>\n",
       "      <td>0</td>\n",
       "      <td>50</td>\n",
       "      <td>50</td>\n",
       "      <td>1</td>\n",
       "    </tr>\n",
       "    <tr>\n",
       "      <th>4</th>\n",
       "      <td>1</td>\n",
       "      <td>0</td>\n",
       "      <td>1</td>\n",
       "      <td>0</td>\n",
       "      <td>0</td>\n",
       "      <td>0</td>\n",
       "      <td>69</td>\n",
       "      <td>78</td>\n",
       "      <td>21</td>\n",
       "      <td>46</td>\n",
       "      <td>1</td>\n",
       "      <td>1</td>\n",
       "      <td>0</td>\n",
       "      <td>3</td>\n",
       "      <td>4</td>\n",
       "      <td>4</td>\n",
       "      <td>45</td>\n",
       "      <td>55</td>\n",
       "      <td>1</td>\n",
       "    </tr>\n",
       "    <tr>\n",
       "      <th>5</th>\n",
       "      <td>2</td>\n",
       "      <td>0</td>\n",
       "      <td>0</td>\n",
       "      <td>0</td>\n",
       "      <td>0</td>\n",
       "      <td>0</td>\n",
       "      <td>87</td>\n",
       "      <td>72</td>\n",
       "      <td>40</td>\n",
       "      <td>35</td>\n",
       "      <td>3</td>\n",
       "      <td>2</td>\n",
       "      <td>4</td>\n",
       "      <td>4</td>\n",
       "      <td>3</td>\n",
       "      <td>3</td>\n",
       "      <td>50</td>\n",
       "      <td>50</td>\n",
       "      <td>1</td>\n",
       "    </tr>\n",
       "    <tr>\n",
       "      <th>8</th>\n",
       "      <td>0</td>\n",
       "      <td>2</td>\n",
       "      <td>0</td>\n",
       "      <td>0</td>\n",
       "      <td>0</td>\n",
       "      <td>0</td>\n",
       "      <td>27</td>\n",
       "      <td>41</td>\n",
       "      <td>20</td>\n",
       "      <td>31</td>\n",
       "      <td>2</td>\n",
       "      <td>2</td>\n",
       "      <td>1</td>\n",
       "      <td>3</td>\n",
       "      <td>1</td>\n",
       "      <td>4</td>\n",
       "      <td>36</td>\n",
       "      <td>64</td>\n",
       "      <td>0</td>\n",
       "    </tr>\n",
       "  </tbody>\n",
       "</table>\n",
       "</div>"
      ],
      "text/plain": [
       "   home_score  away_score  home_yellow_cards  away_yellow_cards  \\\n",
       "0           1           2                  0                  0   \n",
       "1           2           0                  0                  0   \n",
       "4           1           0                  1                  0   \n",
       "5           2           0                  0                  0   \n",
       "8           0           2                  0                  0   \n",
       "\n",
       "   home_red_cards  away_red_cards  home_attacks  away_attacks  \\\n",
       "0               0               0            39            45   \n",
       "1               0               0             0             0   \n",
       "4               0               0            69            78   \n",
       "5               0               0            87            72   \n",
       "8               0               0            27            41   \n",
       "\n",
       "   home_dangerous_attacks  away_dangerous_attacks  home_corners  away_corners  \\\n",
       "0                      29                      26             4             1   \n",
       "1                       0                       0             0             0   \n",
       "4                      21                      46             1             1   \n",
       "5                      40                      35             3             2   \n",
       "8                      20                      31             2             2   \n",
       "\n",
       "   home_off_target  away_off_target  home_on_target  away_on_target  \\\n",
       "0                4                0               4               6   \n",
       "1                0                0               0               0   \n",
       "4                0                3               4               4   \n",
       "5                4                4               3               3   \n",
       "8                1                3               1               4   \n",
       "\n",
       "   home_possession  away_possession  home_is_winning  \n",
       "0               48               52                0  \n",
       "1               50               50                1  \n",
       "4               45               55                1  \n",
       "5               50               50                1  \n",
       "8               36               64                0  "
      ]
     },
     "execution_count": 12,
     "metadata": {},
     "output_type": "execute_result"
    }
   ],
   "source": [
    "# Add home_is_winning feature\n",
    "create_new_column = lambda row: 1 if (row[\"home_score\"] > row[\"away_score\"]) else 0\n",
    "added_column = df.apply(create_new_column, axis=1)\n",
    "df[\"home_is_winning\"] = added_column\n",
    "df.head()"
   ]
  },
  {
   "cell_type": "markdown",
   "id": "0904382d-6a4e-4bfe-96d3-61acad3c390e",
   "metadata": {},
   "source": [
    "Now that we have used the `home_score` and the `away_score` to create the `home_is_winning` output, then we can remove them (as explained in the previous section)."
   ]
  },
  {
   "cell_type": "code",
   "execution_count": 13,
   "id": "8570f537-3ac5-4cb5-b080-458f63aba8e0",
   "metadata": {},
   "outputs": [],
   "source": [
    "df = df.drop('home_score', axis=1)\n",
    "df = df.drop('away_score', axis=1)"
   ]
  },
  {
   "cell_type": "markdown",
   "id": "5a4e41c1-af43-492b-afbe-4be519c80444",
   "metadata": {},
   "source": [
    "Now, let's replace the original features in the dataset with the paired features identified."
   ]
  },
  {
   "cell_type": "code",
   "execution_count": 14,
   "id": "8969714d-ab1b-4cda-a65b-37274d9d6290",
   "metadata": {},
   "outputs": [],
   "source": [
    "def add_difference_col(df, home_var, away_var, new_var):\n",
    "    # create new column\n",
    "    create_new_column = lambda row: row[home_var] - row[away_var]\n",
    "    added_column = df.apply(create_new_column, axis=1)\n",
    "    # add new column\n",
    "    df[new_var] = added_column\n",
    "\n",
    "    return df"
   ]
  },
  {
   "cell_type": "code",
   "execution_count": 15,
   "id": "4b99b356-b4cb-4a69-bdca-285f78c5fb7b",
   "metadata": {},
   "outputs": [
    {
     "name": "stdout",
     "output_type": "stream",
     "text": [
      "New columns:\n",
      "home_yellow_cards  -  away_yellow_cards  =  yellow_cards_difference\n",
      "home_red_cards  -  away_red_cards  =  red_cards_difference\n",
      "home_attacks  -  away_attacks  =  attacks_difference\n",
      "home_dangerous_attacks  -  away_dangerous_attacks  =  dangerous_attacks_difference\n",
      "home_corners  -  away_corners  =  corners_difference\n",
      "home_off_target  -  away_off_target  =  off_target_difference\n",
      "home_on_target  -  away_on_target  =  on_target_difference\n"
     ]
    },
    {
     "data": {
      "text/html": [
       "<div>\n",
       "<style scoped>\n",
       "    .dataframe tbody tr th:only-of-type {\n",
       "        vertical-align: middle;\n",
       "    }\n",
       "\n",
       "    .dataframe tbody tr th {\n",
       "        vertical-align: top;\n",
       "    }\n",
       "\n",
       "    .dataframe thead th {\n",
       "        text-align: right;\n",
       "    }\n",
       "</style>\n",
       "<table border=\"1\" class=\"dataframe\">\n",
       "  <thead>\n",
       "    <tr style=\"text-align: right;\">\n",
       "      <th></th>\n",
       "      <th>home_yellow_cards</th>\n",
       "      <th>away_yellow_cards</th>\n",
       "      <th>home_red_cards</th>\n",
       "      <th>away_red_cards</th>\n",
       "      <th>home_attacks</th>\n",
       "      <th>away_attacks</th>\n",
       "      <th>home_dangerous_attacks</th>\n",
       "      <th>away_dangerous_attacks</th>\n",
       "      <th>home_corners</th>\n",
       "      <th>away_corners</th>\n",
       "      <th>...</th>\n",
       "      <th>home_possession</th>\n",
       "      <th>away_possession</th>\n",
       "      <th>home_is_winning</th>\n",
       "      <th>yellow_cards_difference</th>\n",
       "      <th>red_cards_difference</th>\n",
       "      <th>attacks_difference</th>\n",
       "      <th>dangerous_attacks_difference</th>\n",
       "      <th>corners_difference</th>\n",
       "      <th>off_target_difference</th>\n",
       "      <th>on_target_difference</th>\n",
       "    </tr>\n",
       "  </thead>\n",
       "  <tbody>\n",
       "    <tr>\n",
       "      <th>0</th>\n",
       "      <td>0</td>\n",
       "      <td>0</td>\n",
       "      <td>0</td>\n",
       "      <td>0</td>\n",
       "      <td>39</td>\n",
       "      <td>45</td>\n",
       "      <td>29</td>\n",
       "      <td>26</td>\n",
       "      <td>4</td>\n",
       "      <td>1</td>\n",
       "      <td>...</td>\n",
       "      <td>48</td>\n",
       "      <td>52</td>\n",
       "      <td>0</td>\n",
       "      <td>0</td>\n",
       "      <td>0</td>\n",
       "      <td>-6</td>\n",
       "      <td>3</td>\n",
       "      <td>3</td>\n",
       "      <td>4</td>\n",
       "      <td>-2</td>\n",
       "    </tr>\n",
       "    <tr>\n",
       "      <th>1</th>\n",
       "      <td>0</td>\n",
       "      <td>0</td>\n",
       "      <td>0</td>\n",
       "      <td>0</td>\n",
       "      <td>0</td>\n",
       "      <td>0</td>\n",
       "      <td>0</td>\n",
       "      <td>0</td>\n",
       "      <td>0</td>\n",
       "      <td>0</td>\n",
       "      <td>...</td>\n",
       "      <td>50</td>\n",
       "      <td>50</td>\n",
       "      <td>1</td>\n",
       "      <td>0</td>\n",
       "      <td>0</td>\n",
       "      <td>0</td>\n",
       "      <td>0</td>\n",
       "      <td>0</td>\n",
       "      <td>0</td>\n",
       "      <td>0</td>\n",
       "    </tr>\n",
       "    <tr>\n",
       "      <th>4</th>\n",
       "      <td>1</td>\n",
       "      <td>0</td>\n",
       "      <td>0</td>\n",
       "      <td>0</td>\n",
       "      <td>69</td>\n",
       "      <td>78</td>\n",
       "      <td>21</td>\n",
       "      <td>46</td>\n",
       "      <td>1</td>\n",
       "      <td>1</td>\n",
       "      <td>...</td>\n",
       "      <td>45</td>\n",
       "      <td>55</td>\n",
       "      <td>1</td>\n",
       "      <td>1</td>\n",
       "      <td>0</td>\n",
       "      <td>-9</td>\n",
       "      <td>-25</td>\n",
       "      <td>0</td>\n",
       "      <td>-3</td>\n",
       "      <td>0</td>\n",
       "    </tr>\n",
       "    <tr>\n",
       "      <th>5</th>\n",
       "      <td>0</td>\n",
       "      <td>0</td>\n",
       "      <td>0</td>\n",
       "      <td>0</td>\n",
       "      <td>87</td>\n",
       "      <td>72</td>\n",
       "      <td>40</td>\n",
       "      <td>35</td>\n",
       "      <td>3</td>\n",
       "      <td>2</td>\n",
       "      <td>...</td>\n",
       "      <td>50</td>\n",
       "      <td>50</td>\n",
       "      <td>1</td>\n",
       "      <td>0</td>\n",
       "      <td>0</td>\n",
       "      <td>15</td>\n",
       "      <td>5</td>\n",
       "      <td>1</td>\n",
       "      <td>0</td>\n",
       "      <td>0</td>\n",
       "    </tr>\n",
       "    <tr>\n",
       "      <th>8</th>\n",
       "      <td>0</td>\n",
       "      <td>0</td>\n",
       "      <td>0</td>\n",
       "      <td>0</td>\n",
       "      <td>27</td>\n",
       "      <td>41</td>\n",
       "      <td>20</td>\n",
       "      <td>31</td>\n",
       "      <td>2</td>\n",
       "      <td>2</td>\n",
       "      <td>...</td>\n",
       "      <td>36</td>\n",
       "      <td>64</td>\n",
       "      <td>0</td>\n",
       "      <td>0</td>\n",
       "      <td>0</td>\n",
       "      <td>-14</td>\n",
       "      <td>-11</td>\n",
       "      <td>0</td>\n",
       "      <td>-2</td>\n",
       "      <td>-3</td>\n",
       "    </tr>\n",
       "  </tbody>\n",
       "</table>\n",
       "<p>5 rows × 24 columns</p>\n",
       "</div>"
      ],
      "text/plain": [
       "   home_yellow_cards  away_yellow_cards  home_red_cards  away_red_cards  \\\n",
       "0                  0                  0               0               0   \n",
       "1                  0                  0               0               0   \n",
       "4                  1                  0               0               0   \n",
       "5                  0                  0               0               0   \n",
       "8                  0                  0               0               0   \n",
       "\n",
       "   home_attacks  away_attacks  home_dangerous_attacks  away_dangerous_attacks  \\\n",
       "0            39            45                      29                      26   \n",
       "1             0             0                       0                       0   \n",
       "4            69            78                      21                      46   \n",
       "5            87            72                      40                      35   \n",
       "8            27            41                      20                      31   \n",
       "\n",
       "   home_corners  away_corners  ...  home_possession  away_possession  \\\n",
       "0             4             1  ...               48               52   \n",
       "1             0             0  ...               50               50   \n",
       "4             1             1  ...               45               55   \n",
       "5             3             2  ...               50               50   \n",
       "8             2             2  ...               36               64   \n",
       "\n",
       "   home_is_winning  yellow_cards_difference  red_cards_difference  \\\n",
       "0                0                        0                     0   \n",
       "1                1                        0                     0   \n",
       "4                1                        1                     0   \n",
       "5                1                        0                     0   \n",
       "8                0                        0                     0   \n",
       "\n",
       "   attacks_difference  dangerous_attacks_difference  corners_difference  \\\n",
       "0                  -6                             3                   3   \n",
       "1                   0                             0                   0   \n",
       "4                  -9                           -25                   0   \n",
       "5                  15                             5                   1   \n",
       "8                 -14                           -11                   0   \n",
       "\n",
       "   off_target_difference  on_target_difference  \n",
       "0                      4                    -2  \n",
       "1                      0                     0  \n",
       "4                     -3                     0  \n",
       "5                      0                     0  \n",
       "8                     -2                    -3  \n",
       "\n",
       "[5 rows x 24 columns]"
      ]
     },
     "execution_count": 15,
     "metadata": {},
     "output_type": "execute_result"
    }
   ],
   "source": [
    "cols = list(df.columns)\n",
    "\n",
    "new_cols = ['yellow_cards_difference',\n",
    "            'red_cards_difference',\n",
    "            'attacks_difference',\n",
    "            'dangerous_attacks_difference',\n",
    "            'corners_difference',\n",
    "            'off_target_difference',\n",
    "            'on_target_difference'\n",
    "           ]\n",
    "\n",
    "print(\"New columns:\")\n",
    "j = 0\n",
    "for i in range(0, len(cols) - 3, 2):\n",
    "    print(f'{cols[i]}  -  {cols[i+1]}  =  {new_cols[j]}')\n",
    "    # add the new columns\n",
    "    df_pair = add_difference_col(df, cols[i], cols[i+1], new_cols[j])\n",
    "    j += 1\n",
    "\n",
    "df_pair.head()"
   ]
  },
  {
   "cell_type": "markdown",
   "id": "9c89db6b-1a05-43f9-a129-7e88f53e67e6",
   "metadata": {},
   "source": [
    "You can now see that the new dataframe has the added columns.\n",
    "\n",
    "You will notice that the `home_possession` and `away_possession` features were not modified. Since these are percentages that, when added, are equal to 100, there is no need to get their difference. With that, we will drop the `away_possession` column."
   ]
  },
  {
   "cell_type": "code",
   "execution_count": 16,
   "id": "b151ea71-97a5-4849-864d-5209f6e16473",
   "metadata": {},
   "outputs": [],
   "source": [
    "# df = df.drop('away_possession', axis=1)"
   ]
  },
  {
   "cell_type": "markdown",
   "id": "e5852768-96f3-40ac-b402-50a7b3e437c1",
   "metadata": {},
   "source": [
    "We will also move the `home_is_winning` feature to the final column so that the data is easier to visualize."
   ]
  },
  {
   "cell_type": "code",
   "execution_count": 17,
   "id": "f3e91d2c-34f5-4f9e-a869-9e67689957fc",
   "metadata": {},
   "outputs": [
    {
     "data": {
      "text/html": [
       "<div>\n",
       "<style scoped>\n",
       "    .dataframe tbody tr th:only-of-type {\n",
       "        vertical-align: middle;\n",
       "    }\n",
       "\n",
       "    .dataframe tbody tr th {\n",
       "        vertical-align: top;\n",
       "    }\n",
       "\n",
       "    .dataframe thead th {\n",
       "        text-align: right;\n",
       "    }\n",
       "</style>\n",
       "<table border=\"1\" class=\"dataframe\">\n",
       "  <thead>\n",
       "    <tr style=\"text-align: right;\">\n",
       "      <th></th>\n",
       "      <th>home_yellow_cards</th>\n",
       "      <th>away_yellow_cards</th>\n",
       "      <th>home_red_cards</th>\n",
       "      <th>away_red_cards</th>\n",
       "      <th>home_attacks</th>\n",
       "      <th>away_attacks</th>\n",
       "      <th>home_dangerous_attacks</th>\n",
       "      <th>away_dangerous_attacks</th>\n",
       "      <th>home_corners</th>\n",
       "      <th>away_corners</th>\n",
       "      <th>...</th>\n",
       "      <th>home_possession</th>\n",
       "      <th>away_possession</th>\n",
       "      <th>yellow_cards_difference</th>\n",
       "      <th>red_cards_difference</th>\n",
       "      <th>attacks_difference</th>\n",
       "      <th>dangerous_attacks_difference</th>\n",
       "      <th>corners_difference</th>\n",
       "      <th>off_target_difference</th>\n",
       "      <th>on_target_difference</th>\n",
       "      <th>home_is_winning</th>\n",
       "    </tr>\n",
       "  </thead>\n",
       "  <tbody>\n",
       "    <tr>\n",
       "      <th>0</th>\n",
       "      <td>0</td>\n",
       "      <td>0</td>\n",
       "      <td>0</td>\n",
       "      <td>0</td>\n",
       "      <td>39</td>\n",
       "      <td>45</td>\n",
       "      <td>29</td>\n",
       "      <td>26</td>\n",
       "      <td>4</td>\n",
       "      <td>1</td>\n",
       "      <td>...</td>\n",
       "      <td>48</td>\n",
       "      <td>52</td>\n",
       "      <td>0</td>\n",
       "      <td>0</td>\n",
       "      <td>-6</td>\n",
       "      <td>3</td>\n",
       "      <td>3</td>\n",
       "      <td>4</td>\n",
       "      <td>-2</td>\n",
       "      <td>0</td>\n",
       "    </tr>\n",
       "    <tr>\n",
       "      <th>1</th>\n",
       "      <td>0</td>\n",
       "      <td>0</td>\n",
       "      <td>0</td>\n",
       "      <td>0</td>\n",
       "      <td>0</td>\n",
       "      <td>0</td>\n",
       "      <td>0</td>\n",
       "      <td>0</td>\n",
       "      <td>0</td>\n",
       "      <td>0</td>\n",
       "      <td>...</td>\n",
       "      <td>50</td>\n",
       "      <td>50</td>\n",
       "      <td>0</td>\n",
       "      <td>0</td>\n",
       "      <td>0</td>\n",
       "      <td>0</td>\n",
       "      <td>0</td>\n",
       "      <td>0</td>\n",
       "      <td>0</td>\n",
       "      <td>1</td>\n",
       "    </tr>\n",
       "    <tr>\n",
       "      <th>4</th>\n",
       "      <td>1</td>\n",
       "      <td>0</td>\n",
       "      <td>0</td>\n",
       "      <td>0</td>\n",
       "      <td>69</td>\n",
       "      <td>78</td>\n",
       "      <td>21</td>\n",
       "      <td>46</td>\n",
       "      <td>1</td>\n",
       "      <td>1</td>\n",
       "      <td>...</td>\n",
       "      <td>45</td>\n",
       "      <td>55</td>\n",
       "      <td>1</td>\n",
       "      <td>0</td>\n",
       "      <td>-9</td>\n",
       "      <td>-25</td>\n",
       "      <td>0</td>\n",
       "      <td>-3</td>\n",
       "      <td>0</td>\n",
       "      <td>1</td>\n",
       "    </tr>\n",
       "    <tr>\n",
       "      <th>5</th>\n",
       "      <td>0</td>\n",
       "      <td>0</td>\n",
       "      <td>0</td>\n",
       "      <td>0</td>\n",
       "      <td>87</td>\n",
       "      <td>72</td>\n",
       "      <td>40</td>\n",
       "      <td>35</td>\n",
       "      <td>3</td>\n",
       "      <td>2</td>\n",
       "      <td>...</td>\n",
       "      <td>50</td>\n",
       "      <td>50</td>\n",
       "      <td>0</td>\n",
       "      <td>0</td>\n",
       "      <td>15</td>\n",
       "      <td>5</td>\n",
       "      <td>1</td>\n",
       "      <td>0</td>\n",
       "      <td>0</td>\n",
       "      <td>1</td>\n",
       "    </tr>\n",
       "    <tr>\n",
       "      <th>8</th>\n",
       "      <td>0</td>\n",
       "      <td>0</td>\n",
       "      <td>0</td>\n",
       "      <td>0</td>\n",
       "      <td>27</td>\n",
       "      <td>41</td>\n",
       "      <td>20</td>\n",
       "      <td>31</td>\n",
       "      <td>2</td>\n",
       "      <td>2</td>\n",
       "      <td>...</td>\n",
       "      <td>36</td>\n",
       "      <td>64</td>\n",
       "      <td>0</td>\n",
       "      <td>0</td>\n",
       "      <td>-14</td>\n",
       "      <td>-11</td>\n",
       "      <td>0</td>\n",
       "      <td>-2</td>\n",
       "      <td>-3</td>\n",
       "      <td>0</td>\n",
       "    </tr>\n",
       "  </tbody>\n",
       "</table>\n",
       "<p>5 rows × 24 columns</p>\n",
       "</div>"
      ],
      "text/plain": [
       "   home_yellow_cards  away_yellow_cards  home_red_cards  away_red_cards  \\\n",
       "0                  0                  0               0               0   \n",
       "1                  0                  0               0               0   \n",
       "4                  1                  0               0               0   \n",
       "5                  0                  0               0               0   \n",
       "8                  0                  0               0               0   \n",
       "\n",
       "   home_attacks  away_attacks  home_dangerous_attacks  away_dangerous_attacks  \\\n",
       "0            39            45                      29                      26   \n",
       "1             0             0                       0                       0   \n",
       "4            69            78                      21                      46   \n",
       "5            87            72                      40                      35   \n",
       "8            27            41                      20                      31   \n",
       "\n",
       "   home_corners  away_corners  ...  home_possession  away_possession  \\\n",
       "0             4             1  ...               48               52   \n",
       "1             0             0  ...               50               50   \n",
       "4             1             1  ...               45               55   \n",
       "5             3             2  ...               50               50   \n",
       "8             2             2  ...               36               64   \n",
       "\n",
       "   yellow_cards_difference  red_cards_difference  attacks_difference  \\\n",
       "0                        0                     0                  -6   \n",
       "1                        0                     0                   0   \n",
       "4                        1                     0                  -9   \n",
       "5                        0                     0                  15   \n",
       "8                        0                     0                 -14   \n",
       "\n",
       "   dangerous_attacks_difference  corners_difference  off_target_difference  \\\n",
       "0                             3                   3                      4   \n",
       "1                             0                   0                      0   \n",
       "4                           -25                   0                     -3   \n",
       "5                             5                   1                      0   \n",
       "8                           -11                   0                     -2   \n",
       "\n",
       "   on_target_difference  home_is_winning  \n",
       "0                    -2                0  \n",
       "1                     0                1  \n",
       "4                     0                1  \n",
       "5                     0                1  \n",
       "8                    -3                0  \n",
       "\n",
       "[5 rows x 24 columns]"
      ]
     },
     "execution_count": 17,
     "metadata": {},
     "output_type": "execute_result"
    }
   ],
   "source": [
    "col = df.pop('home_is_winning')\n",
    "df.insert(len(df.columns), 'home_is_winning', col)\n",
    "df.head()"
   ]
  },
  {
   "cell_type": "markdown",
   "id": "186d7a47-df90-4f6f-ba63-9379d4a4cfe1",
   "metadata": {},
   "source": [
    "We will now normalize the numerical data used in the dataset. We will do this for all variables except for `home_is_winning` since this is the output."
   ]
  },
  {
   "cell_type": "code",
   "execution_count": 18,
   "id": "3e3ac74d-a278-4cd2-9787-cf0b083ac723",
   "metadata": {},
   "outputs": [
    {
     "data": {
      "text/plain": [
       "['home_yellow_cards',\n",
       " 'away_yellow_cards',\n",
       " 'home_red_cards',\n",
       " 'away_red_cards',\n",
       " 'home_attacks',\n",
       " 'away_attacks',\n",
       " 'home_dangerous_attacks',\n",
       " 'away_dangerous_attacks',\n",
       " 'home_corners',\n",
       " 'away_corners',\n",
       " 'home_off_target',\n",
       " 'away_off_target',\n",
       " 'home_on_target',\n",
       " 'away_on_target',\n",
       " 'yellow_cards_difference',\n",
       " 'red_cards_difference',\n",
       " 'attacks_difference',\n",
       " 'dangerous_attacks_difference',\n",
       " 'corners_difference',\n",
       " 'off_target_difference',\n",
       " 'on_target_difference']"
      ]
     },
     "execution_count": 18,
     "metadata": {},
     "output_type": "execute_result"
    }
   ],
   "source": [
    "columns_to_normalize = list(df.columns)\n",
    "columns_to_normalize.remove('home_is_winning')\n",
    "columns_to_normalize.remove('home_possession')\n",
    "columns_to_normalize.remove('away_possession')\n",
    "columns_to_normalize"
   ]
  },
  {
   "cell_type": "code",
   "execution_count": 19,
   "id": "a3189e94-9e61-4d58-8979-5f97cdc00e66",
   "metadata": {},
   "outputs": [
    {
     "data": {
      "text/html": [
       "<div>\n",
       "<style scoped>\n",
       "    .dataframe tbody tr th:only-of-type {\n",
       "        vertical-align: middle;\n",
       "    }\n",
       "\n",
       "    .dataframe tbody tr th {\n",
       "        vertical-align: top;\n",
       "    }\n",
       "\n",
       "    .dataframe thead th {\n",
       "        text-align: right;\n",
       "    }\n",
       "</style>\n",
       "<table border=\"1\" class=\"dataframe\">\n",
       "  <thead>\n",
       "    <tr style=\"text-align: right;\">\n",
       "      <th></th>\n",
       "      <th>home_yellow_cards</th>\n",
       "      <th>away_yellow_cards</th>\n",
       "      <th>home_red_cards</th>\n",
       "      <th>away_red_cards</th>\n",
       "      <th>home_attacks</th>\n",
       "      <th>away_attacks</th>\n",
       "      <th>home_dangerous_attacks</th>\n",
       "      <th>away_dangerous_attacks</th>\n",
       "      <th>home_corners</th>\n",
       "      <th>away_corners</th>\n",
       "      <th>...</th>\n",
       "      <th>home_possession</th>\n",
       "      <th>away_possession</th>\n",
       "      <th>yellow_cards_difference</th>\n",
       "      <th>red_cards_difference</th>\n",
       "      <th>attacks_difference</th>\n",
       "      <th>dangerous_attacks_difference</th>\n",
       "      <th>corners_difference</th>\n",
       "      <th>off_target_difference</th>\n",
       "      <th>on_target_difference</th>\n",
       "      <th>home_is_winning</th>\n",
       "    </tr>\n",
       "  </thead>\n",
       "  <tbody>\n",
       "    <tr>\n",
       "      <th>0</th>\n",
       "      <td>0.000000</td>\n",
       "      <td>0.0</td>\n",
       "      <td>0.0</td>\n",
       "      <td>0.0</td>\n",
       "      <td>0.152941</td>\n",
       "      <td>0.245902</td>\n",
       "      <td>0.219697</td>\n",
       "      <td>0.185714</td>\n",
       "      <td>0.285714</td>\n",
       "      <td>0.055556</td>\n",
       "      <td>...</td>\n",
       "      <td>48</td>\n",
       "      <td>52</td>\n",
       "      <td>0.5</td>\n",
       "      <td>0.333333</td>\n",
       "      <td>0.460251</td>\n",
       "      <td>0.461538</td>\n",
       "      <td>0.65625</td>\n",
       "      <td>0.548387</td>\n",
       "      <td>0.484848</td>\n",
       "      <td>0</td>\n",
       "    </tr>\n",
       "    <tr>\n",
       "      <th>1</th>\n",
       "      <td>0.000000</td>\n",
       "      <td>0.0</td>\n",
       "      <td>0.0</td>\n",
       "      <td>0.0</td>\n",
       "      <td>0.000000</td>\n",
       "      <td>0.000000</td>\n",
       "      <td>0.000000</td>\n",
       "      <td>0.000000</td>\n",
       "      <td>0.000000</td>\n",
       "      <td>0.000000</td>\n",
       "      <td>...</td>\n",
       "      <td>50</td>\n",
       "      <td>50</td>\n",
       "      <td>0.5</td>\n",
       "      <td>0.333333</td>\n",
       "      <td>0.485356</td>\n",
       "      <td>0.443787</td>\n",
       "      <td>0.56250</td>\n",
       "      <td>0.419355</td>\n",
       "      <td>0.545455</td>\n",
       "      <td>1</td>\n",
       "    </tr>\n",
       "    <tr>\n",
       "      <th>4</th>\n",
       "      <td>0.142857</td>\n",
       "      <td>0.0</td>\n",
       "      <td>0.0</td>\n",
       "      <td>0.0</td>\n",
       "      <td>0.270588</td>\n",
       "      <td>0.426230</td>\n",
       "      <td>0.159091</td>\n",
       "      <td>0.328571</td>\n",
       "      <td>0.071429</td>\n",
       "      <td>0.055556</td>\n",
       "      <td>...</td>\n",
       "      <td>45</td>\n",
       "      <td>55</td>\n",
       "      <td>0.6</td>\n",
       "      <td>0.333333</td>\n",
       "      <td>0.447699</td>\n",
       "      <td>0.295858</td>\n",
       "      <td>0.56250</td>\n",
       "      <td>0.322581</td>\n",
       "      <td>0.545455</td>\n",
       "      <td>1</td>\n",
       "    </tr>\n",
       "    <tr>\n",
       "      <th>5</th>\n",
       "      <td>0.000000</td>\n",
       "      <td>0.0</td>\n",
       "      <td>0.0</td>\n",
       "      <td>0.0</td>\n",
       "      <td>0.341176</td>\n",
       "      <td>0.393443</td>\n",
       "      <td>0.303030</td>\n",
       "      <td>0.250000</td>\n",
       "      <td>0.214286</td>\n",
       "      <td>0.111111</td>\n",
       "      <td>...</td>\n",
       "      <td>50</td>\n",
       "      <td>50</td>\n",
       "      <td>0.5</td>\n",
       "      <td>0.333333</td>\n",
       "      <td>0.548117</td>\n",
       "      <td>0.473373</td>\n",
       "      <td>0.59375</td>\n",
       "      <td>0.419355</td>\n",
       "      <td>0.545455</td>\n",
       "      <td>1</td>\n",
       "    </tr>\n",
       "    <tr>\n",
       "      <th>8</th>\n",
       "      <td>0.000000</td>\n",
       "      <td>0.0</td>\n",
       "      <td>0.0</td>\n",
       "      <td>0.0</td>\n",
       "      <td>0.105882</td>\n",
       "      <td>0.224044</td>\n",
       "      <td>0.151515</td>\n",
       "      <td>0.221429</td>\n",
       "      <td>0.142857</td>\n",
       "      <td>0.111111</td>\n",
       "      <td>...</td>\n",
       "      <td>36</td>\n",
       "      <td>64</td>\n",
       "      <td>0.5</td>\n",
       "      <td>0.333333</td>\n",
       "      <td>0.426778</td>\n",
       "      <td>0.378698</td>\n",
       "      <td>0.56250</td>\n",
       "      <td>0.354839</td>\n",
       "      <td>0.454545</td>\n",
       "      <td>0</td>\n",
       "    </tr>\n",
       "  </tbody>\n",
       "</table>\n",
       "<p>5 rows × 24 columns</p>\n",
       "</div>"
      ],
      "text/plain": [
       "   home_yellow_cards  away_yellow_cards  home_red_cards  away_red_cards  \\\n",
       "0           0.000000                0.0             0.0             0.0   \n",
       "1           0.000000                0.0             0.0             0.0   \n",
       "4           0.142857                0.0             0.0             0.0   \n",
       "5           0.000000                0.0             0.0             0.0   \n",
       "8           0.000000                0.0             0.0             0.0   \n",
       "\n",
       "   home_attacks  away_attacks  home_dangerous_attacks  away_dangerous_attacks  \\\n",
       "0      0.152941      0.245902                0.219697                0.185714   \n",
       "1      0.000000      0.000000                0.000000                0.000000   \n",
       "4      0.270588      0.426230                0.159091                0.328571   \n",
       "5      0.341176      0.393443                0.303030                0.250000   \n",
       "8      0.105882      0.224044                0.151515                0.221429   \n",
       "\n",
       "   home_corners  away_corners  ...  home_possession  away_possession  \\\n",
       "0      0.285714      0.055556  ...               48               52   \n",
       "1      0.000000      0.000000  ...               50               50   \n",
       "4      0.071429      0.055556  ...               45               55   \n",
       "5      0.214286      0.111111  ...               50               50   \n",
       "8      0.142857      0.111111  ...               36               64   \n",
       "\n",
       "   yellow_cards_difference  red_cards_difference  attacks_difference  \\\n",
       "0                      0.5              0.333333            0.460251   \n",
       "1                      0.5              0.333333            0.485356   \n",
       "4                      0.6              0.333333            0.447699   \n",
       "5                      0.5              0.333333            0.548117   \n",
       "8                      0.5              0.333333            0.426778   \n",
       "\n",
       "   dangerous_attacks_difference  corners_difference  off_target_difference  \\\n",
       "0                      0.461538             0.65625               0.548387   \n",
       "1                      0.443787             0.56250               0.419355   \n",
       "4                      0.295858             0.56250               0.322581   \n",
       "5                      0.473373             0.59375               0.419355   \n",
       "8                      0.378698             0.56250               0.354839   \n",
       "\n",
       "   on_target_difference  home_is_winning  \n",
       "0              0.484848                0  \n",
       "1              0.545455                1  \n",
       "4              0.545455                1  \n",
       "5              0.545455                1  \n",
       "8              0.454545                0  \n",
       "\n",
       "[5 rows x 24 columns]"
      ]
     },
     "execution_count": 19,
     "metadata": {},
     "output_type": "execute_result"
    }
   ],
   "source": [
    "df[columns_to_normalize] = df[columns_to_normalize].apply(lambda x: (x - x.min()) / (x.max() - x.min()))\n",
    "df.head()"
   ]
  },
  {
   "cell_type": "markdown",
   "id": "a5bbd66c-f56f-40a0-8eb2-44f9b7b23409",
   "metadata": {},
   "source": [
    "Now let's seperate the two datasets for convinience, `df` with the original features and `df_pair` with the paired features."
   ]
  },
  {
   "cell_type": "code",
   "execution_count": 20,
   "id": "2958b104-bc3b-4806-a341-0f89a5623bd4",
   "metadata": {},
   "outputs": [],
   "source": [
    "df_features = [\n",
    "    'home_yellow_cards', 'away_yellow_cards',\n",
    "    'home_red_cards', 'away_red_cards', 'home_attacks', 'away_attacks',\n",
    "    'home_dangerous_attacks', 'away_dangerous_attacks', 'home_corners',\n",
    "    'away_corners', 'home_off_target', 'away_off_target', 'home_on_target',\n",
    "    'away_on_target', 'home_possession', 'away_possession', 'home_is_winning'\n",
    "]\n",
    "\n",
    "df_pair_features = [\n",
    "    'yellow_cards_difference', 'red_cards_difference',\n",
    "    'attacks_difference', 'dangerous_attacks_difference', 'corners_difference',\n",
    "    'off_target_difference', 'on_target_difference', 'home_possession',\n",
    "    'home_is_winning'\n",
    "]\n",
    "\n",
    "\n",
    "df_pair = df[df_pair_features]\n",
    "df = df[df_features]"
   ]
  },
  {
   "cell_type": "code",
   "execution_count": 21,
   "id": "b831e201-d20d-4f8a-b1cc-3e0c2c04f042",
   "metadata": {},
   "outputs": [
    {
     "data": {
      "text/html": [
       "<div>\n",
       "<style scoped>\n",
       "    .dataframe tbody tr th:only-of-type {\n",
       "        vertical-align: middle;\n",
       "    }\n",
       "\n",
       "    .dataframe tbody tr th {\n",
       "        vertical-align: top;\n",
       "    }\n",
       "\n",
       "    .dataframe thead th {\n",
       "        text-align: right;\n",
       "    }\n",
       "</style>\n",
       "<table border=\"1\" class=\"dataframe\">\n",
       "  <thead>\n",
       "    <tr style=\"text-align: right;\">\n",
       "      <th></th>\n",
       "      <th>home_yellow_cards</th>\n",
       "      <th>away_yellow_cards</th>\n",
       "      <th>home_red_cards</th>\n",
       "      <th>away_red_cards</th>\n",
       "      <th>home_attacks</th>\n",
       "      <th>away_attacks</th>\n",
       "      <th>home_dangerous_attacks</th>\n",
       "      <th>away_dangerous_attacks</th>\n",
       "      <th>home_corners</th>\n",
       "      <th>away_corners</th>\n",
       "      <th>home_off_target</th>\n",
       "      <th>away_off_target</th>\n",
       "      <th>home_on_target</th>\n",
       "      <th>away_on_target</th>\n",
       "      <th>home_possession</th>\n",
       "      <th>away_possession</th>\n",
       "      <th>home_is_winning</th>\n",
       "    </tr>\n",
       "  </thead>\n",
       "  <tbody>\n",
       "    <tr>\n",
       "      <th>0</th>\n",
       "      <td>0.000000</td>\n",
       "      <td>0.0</td>\n",
       "      <td>0.0</td>\n",
       "      <td>0.0</td>\n",
       "      <td>0.152941</td>\n",
       "      <td>0.245902</td>\n",
       "      <td>0.219697</td>\n",
       "      <td>0.185714</td>\n",
       "      <td>0.285714</td>\n",
       "      <td>0.055556</td>\n",
       "      <td>0.166667</td>\n",
       "      <td>0.000000</td>\n",
       "      <td>0.181818</td>\n",
       "      <td>0.315789</td>\n",
       "      <td>48</td>\n",
       "      <td>52</td>\n",
       "      <td>0</td>\n",
       "    </tr>\n",
       "    <tr>\n",
       "      <th>1</th>\n",
       "      <td>0.000000</td>\n",
       "      <td>0.0</td>\n",
       "      <td>0.0</td>\n",
       "      <td>0.0</td>\n",
       "      <td>0.000000</td>\n",
       "      <td>0.000000</td>\n",
       "      <td>0.000000</td>\n",
       "      <td>0.000000</td>\n",
       "      <td>0.000000</td>\n",
       "      <td>0.000000</td>\n",
       "      <td>0.000000</td>\n",
       "      <td>0.000000</td>\n",
       "      <td>0.000000</td>\n",
       "      <td>0.000000</td>\n",
       "      <td>50</td>\n",
       "      <td>50</td>\n",
       "      <td>1</td>\n",
       "    </tr>\n",
       "    <tr>\n",
       "      <th>4</th>\n",
       "      <td>0.142857</td>\n",
       "      <td>0.0</td>\n",
       "      <td>0.0</td>\n",
       "      <td>0.0</td>\n",
       "      <td>0.270588</td>\n",
       "      <td>0.426230</td>\n",
       "      <td>0.159091</td>\n",
       "      <td>0.328571</td>\n",
       "      <td>0.071429</td>\n",
       "      <td>0.055556</td>\n",
       "      <td>0.000000</td>\n",
       "      <td>0.166667</td>\n",
       "      <td>0.181818</td>\n",
       "      <td>0.210526</td>\n",
       "      <td>45</td>\n",
       "      <td>55</td>\n",
       "      <td>1</td>\n",
       "    </tr>\n",
       "    <tr>\n",
       "      <th>5</th>\n",
       "      <td>0.000000</td>\n",
       "      <td>0.0</td>\n",
       "      <td>0.0</td>\n",
       "      <td>0.0</td>\n",
       "      <td>0.341176</td>\n",
       "      <td>0.393443</td>\n",
       "      <td>0.303030</td>\n",
       "      <td>0.250000</td>\n",
       "      <td>0.214286</td>\n",
       "      <td>0.111111</td>\n",
       "      <td>0.166667</td>\n",
       "      <td>0.222222</td>\n",
       "      <td>0.136364</td>\n",
       "      <td>0.157895</td>\n",
       "      <td>50</td>\n",
       "      <td>50</td>\n",
       "      <td>1</td>\n",
       "    </tr>\n",
       "    <tr>\n",
       "      <th>8</th>\n",
       "      <td>0.000000</td>\n",
       "      <td>0.0</td>\n",
       "      <td>0.0</td>\n",
       "      <td>0.0</td>\n",
       "      <td>0.105882</td>\n",
       "      <td>0.224044</td>\n",
       "      <td>0.151515</td>\n",
       "      <td>0.221429</td>\n",
       "      <td>0.142857</td>\n",
       "      <td>0.111111</td>\n",
       "      <td>0.041667</td>\n",
       "      <td>0.166667</td>\n",
       "      <td>0.045455</td>\n",
       "      <td>0.210526</td>\n",
       "      <td>36</td>\n",
       "      <td>64</td>\n",
       "      <td>0</td>\n",
       "    </tr>\n",
       "  </tbody>\n",
       "</table>\n",
       "</div>"
      ],
      "text/plain": [
       "   home_yellow_cards  away_yellow_cards  home_red_cards  away_red_cards  \\\n",
       "0           0.000000                0.0             0.0             0.0   \n",
       "1           0.000000                0.0             0.0             0.0   \n",
       "4           0.142857                0.0             0.0             0.0   \n",
       "5           0.000000                0.0             0.0             0.0   \n",
       "8           0.000000                0.0             0.0             0.0   \n",
       "\n",
       "   home_attacks  away_attacks  home_dangerous_attacks  away_dangerous_attacks  \\\n",
       "0      0.152941      0.245902                0.219697                0.185714   \n",
       "1      0.000000      0.000000                0.000000                0.000000   \n",
       "4      0.270588      0.426230                0.159091                0.328571   \n",
       "5      0.341176      0.393443                0.303030                0.250000   \n",
       "8      0.105882      0.224044                0.151515                0.221429   \n",
       "\n",
       "   home_corners  away_corners  home_off_target  away_off_target  \\\n",
       "0      0.285714      0.055556         0.166667         0.000000   \n",
       "1      0.000000      0.000000         0.000000         0.000000   \n",
       "4      0.071429      0.055556         0.000000         0.166667   \n",
       "5      0.214286      0.111111         0.166667         0.222222   \n",
       "8      0.142857      0.111111         0.041667         0.166667   \n",
       "\n",
       "   home_on_target  away_on_target  home_possession  away_possession  \\\n",
       "0        0.181818        0.315789               48               52   \n",
       "1        0.000000        0.000000               50               50   \n",
       "4        0.181818        0.210526               45               55   \n",
       "5        0.136364        0.157895               50               50   \n",
       "8        0.045455        0.210526               36               64   \n",
       "\n",
       "   home_is_winning  \n",
       "0                0  \n",
       "1                1  \n",
       "4                1  \n",
       "5                1  \n",
       "8                0  "
      ]
     },
     "execution_count": 21,
     "metadata": {},
     "output_type": "execute_result"
    }
   ],
   "source": [
    "df.head()"
   ]
  },
  {
   "cell_type": "code",
   "execution_count": 22,
   "id": "d240513f-8066-4eaa-87aa-4ed2f5157129",
   "metadata": {},
   "outputs": [
    {
     "data": {
      "text/html": [
       "<div>\n",
       "<style scoped>\n",
       "    .dataframe tbody tr th:only-of-type {\n",
       "        vertical-align: middle;\n",
       "    }\n",
       "\n",
       "    .dataframe tbody tr th {\n",
       "        vertical-align: top;\n",
       "    }\n",
       "\n",
       "    .dataframe thead th {\n",
       "        text-align: right;\n",
       "    }\n",
       "</style>\n",
       "<table border=\"1\" class=\"dataframe\">\n",
       "  <thead>\n",
       "    <tr style=\"text-align: right;\">\n",
       "      <th></th>\n",
       "      <th>yellow_cards_difference</th>\n",
       "      <th>red_cards_difference</th>\n",
       "      <th>attacks_difference</th>\n",
       "      <th>dangerous_attacks_difference</th>\n",
       "      <th>corners_difference</th>\n",
       "      <th>off_target_difference</th>\n",
       "      <th>on_target_difference</th>\n",
       "      <th>home_possession</th>\n",
       "      <th>home_is_winning</th>\n",
       "    </tr>\n",
       "  </thead>\n",
       "  <tbody>\n",
       "    <tr>\n",
       "      <th>0</th>\n",
       "      <td>0.5</td>\n",
       "      <td>0.333333</td>\n",
       "      <td>0.460251</td>\n",
       "      <td>0.461538</td>\n",
       "      <td>0.65625</td>\n",
       "      <td>0.548387</td>\n",
       "      <td>0.484848</td>\n",
       "      <td>48</td>\n",
       "      <td>0</td>\n",
       "    </tr>\n",
       "    <tr>\n",
       "      <th>1</th>\n",
       "      <td>0.5</td>\n",
       "      <td>0.333333</td>\n",
       "      <td>0.485356</td>\n",
       "      <td>0.443787</td>\n",
       "      <td>0.56250</td>\n",
       "      <td>0.419355</td>\n",
       "      <td>0.545455</td>\n",
       "      <td>50</td>\n",
       "      <td>1</td>\n",
       "    </tr>\n",
       "    <tr>\n",
       "      <th>4</th>\n",
       "      <td>0.6</td>\n",
       "      <td>0.333333</td>\n",
       "      <td>0.447699</td>\n",
       "      <td>0.295858</td>\n",
       "      <td>0.56250</td>\n",
       "      <td>0.322581</td>\n",
       "      <td>0.545455</td>\n",
       "      <td>45</td>\n",
       "      <td>1</td>\n",
       "    </tr>\n",
       "    <tr>\n",
       "      <th>5</th>\n",
       "      <td>0.5</td>\n",
       "      <td>0.333333</td>\n",
       "      <td>0.548117</td>\n",
       "      <td>0.473373</td>\n",
       "      <td>0.59375</td>\n",
       "      <td>0.419355</td>\n",
       "      <td>0.545455</td>\n",
       "      <td>50</td>\n",
       "      <td>1</td>\n",
       "    </tr>\n",
       "    <tr>\n",
       "      <th>8</th>\n",
       "      <td>0.5</td>\n",
       "      <td>0.333333</td>\n",
       "      <td>0.426778</td>\n",
       "      <td>0.378698</td>\n",
       "      <td>0.56250</td>\n",
       "      <td>0.354839</td>\n",
       "      <td>0.454545</td>\n",
       "      <td>36</td>\n",
       "      <td>0</td>\n",
       "    </tr>\n",
       "  </tbody>\n",
       "</table>\n",
       "</div>"
      ],
      "text/plain": [
       "   yellow_cards_difference  red_cards_difference  attacks_difference  \\\n",
       "0                      0.5              0.333333            0.460251   \n",
       "1                      0.5              0.333333            0.485356   \n",
       "4                      0.6              0.333333            0.447699   \n",
       "5                      0.5              0.333333            0.548117   \n",
       "8                      0.5              0.333333            0.426778   \n",
       "\n",
       "   dangerous_attacks_difference  corners_difference  off_target_difference  \\\n",
       "0                      0.461538             0.65625               0.548387   \n",
       "1                      0.443787             0.56250               0.419355   \n",
       "4                      0.295858             0.56250               0.322581   \n",
       "5                      0.473373             0.59375               0.419355   \n",
       "8                      0.378698             0.56250               0.354839   \n",
       "\n",
       "   on_target_difference  home_possession  home_is_winning  \n",
       "0              0.484848               48                0  \n",
       "1              0.545455               50                1  \n",
       "4              0.545455               45                1  \n",
       "5              0.545455               50                1  \n",
       "8              0.454545               36                0  "
      ]
     },
     "execution_count": 22,
     "metadata": {},
     "output_type": "execute_result"
    }
   ],
   "source": [
    "df_pair.head()"
   ]
  },
  {
   "cell_type": "markdown",
   "id": "2b387dd4-ee6b-4e70-a333-ea37b45757c9",
   "metadata": {},
   "source": [
    "Now we have two dataframes, both have been cleaned and normalized, seperated from each other. One contains the dataset's original 18 features, the other with 9 features that have been paired correspondingly."
   ]
  },
  {
   "cell_type": "markdown",
   "id": "c873b2e2-6d6f-403a-a1d8-5619393c0b48",
   "metadata": {},
   "source": [
    "# Exploratory Data Analysis"
   ]
  },
  {
   "cell_type": "markdown",
   "id": "d2c48943-be81-43e5-93bd-c1379aff213c",
   "metadata": {},
   "source": [
    "What is the correlation between different features, especially the selected key features and the target variable (home_is_winning)? Are there any strong correlations between possession percentages (home_possession and away_possession) and the outcome?"
   ]
  },
  {
   "cell_type": "code",
   "execution_count": 23,
   "id": "9918bb06",
   "metadata": {},
   "outputs": [
    {
     "data": {
      "image/png": "[encoded data removed]",
      "text/plain": [
       "<Figure size 864x720 with 2 Axes>"
      ]
     },
     "metadata": {
      "needs_background": "light"
     },
     "output_type": "display_data"
    }
   ],
   "source": [
    "correlation_matrix = df[df_features].corr()\n",
    "plt.figure(figsize=(12, 10))\n",
    "sns.heatmap(correlation_matrix, annot=True, cmap='coolwarm', fmt='.2f')\n",
    "plt.title('Correlation Matrix')\n",
    "plt.show()"
   ]
  },
  {
   "cell_type": "code",
   "execution_count": 24,
   "id": "9190d441-4524-46e4-8054-b400f41df592",
   "metadata": {},
   "outputs": [
    {
     "data": {
      "image/png": "[encoded data removed]",
      "text/plain": [
       "<Figure size 576x432 with 2 Axes>"
      ]
     },
     "metadata": {
      "needs_background": "light"
     },
     "output_type": "display_data"
    }
   ],
   "source": [
    "correlation_matrix = df_pair[df_pair_features].corr()\n",
    "plt.figure(figsize=(8, 6))\n",
    "sns.heatmap(correlation_matrix, annot=True, cmap='coolwarm', fmt='.2f')\n",
    "plt.title('Correlation Matrix')\n",
    "plt.show()"
   ]
  },
  {
   "cell_type": "markdown",
   "id": "99f6d111-3a83-4492-9e24-48da626cae15",
   "metadata": {},
   "source": [
    "A positive correlation of 0.53 between `home_is_winning` and `on_target_difference` indicates that an increase in the difference in on-target attempts is moderately associated with an increased likelihood of the home team winning.\n",
    "\n",
    "A strong negative correlation of -0.79 between `attacks_difference` and `dangerous_attacks_difference` suggests a significant negative relationship. As the difference in total attacks increases, the difference in dangerous attacks tends to decrease, and vice versa.\n",
    "\n",
    "A positive correlation of 0.33 between `attacks_difference` and `on_target_difference` indicates a weak positive relationship. An increase in the difference in total attacks is weakly associated with a slight increase in the difference in on-target attempts.\n",
    "\n",
    "A moderate positive correlation of 0.45 between `dangerous_attacks_difference` and `on_target_difference` suggests a moderate positive relationship. An increase in the difference in dangerous attacks is moderately associated with an increase in the difference in on-target attempts."
   ]
  },
  {
   "cell_type": "markdown",
   "id": "67456e0d",
   "metadata": {},
   "source": [
    "How many matches in the dataset resulted in the home team winning?"
   ]
  },
  {
   "cell_type": "code",
   "execution_count": 25,
   "id": "cfc3e75e",
   "metadata": {},
   "outputs": [
    {
     "data": {
      "image/png": "[encoded data removed]",
      "text/plain": [
       "<Figure size 432x288 with 1 Axes>"
      ]
     },
     "metadata": {
      "needs_background": "light"
     },
     "output_type": "display_data"
    },
    {
     "name": "stdout",
     "output_type": "stream",
     "text": [
      "Is the home team winning?\n",
      " 1    1659\n",
      "0    1165\n",
      "Name: home_is_winning, dtype: int64\n"
     ]
    }
   ],
   "source": [
    "plt.figure(figsize=(6, 4))\n",
    "sns.countplot(x='home_is_winning', data=df, palette='viridis')\n",
    "plt.title('Distribution of Home Winning')\n",
    "plt.xlabel('Home is Winning')\n",
    "plt.ylabel('Frequency')\n",
    "\n",
    "plt.show()\n",
    "\n",
    "print(\"Is the home team winning?\\n\", df['home_is_winning'].value_counts())"
   ]
  },
  {
   "cell_type": "markdown",
   "id": "e59d2777-2953-4adb-96d0-d6aae4f92656",
   "metadata": {},
   "source": [
    "In exploring the distribution of the home team winning, it was found that the home team wins more than the away team, being 494 more wins. This may indicate a class imbalance. However, it is also worth noting that being the Home team has inherent advantages which may not be found in the data such as being more familiar with the playing environment, crowd support, and reduced travel-related fatigue. Therefore, the apparent class imbalance may be a reflection of these inherent advantages rather than a data-related issue. Considering these factors is crucial in interpreting the results accurately and deciding on an appropriate strategy for modeling"
   ]
  },
  {
   "cell_type": "markdown",
   "id": "208bc5b5",
   "metadata": {},
   "source": [
    "How does possession percentage vary between home and away teams, and how does it relate to home team winning?"
   ]
  },
  {
   "cell_type": "code",
   "execution_count": 26,
   "id": "88e9458f-ad6c-4351-aedd-e2952616bcb9",
   "metadata": {},
   "outputs": [
    {
     "data": {
      "image/png": "[encoded data removed]",
      "text/plain": [
       "<Figure size 1296x432 with 3 Axes>"
      ]
     },
     "metadata": {
      "needs_background": "light"
     },
     "output_type": "display_data"
    }
   ],
   "source": [
    "fig, axes = plt.subplots(1, 3, figsize=(18, 6), sharey=True)\n",
    "\n",
    "# Plot for 'attacks_difference'\n",
    "sns.kdeplot(data=df_pair, x='attacks_difference', fill=True, hue='home_is_winning', ax=axes[0], palette={True: 'blue', False: 'red'})\n",
    "axes[0].set_title('Distribution of Attacks Difference')\n",
    "axes[0].set_xlabel('Attacks Difference')\n",
    "axes[0].set_ylabel('Density')\n",
    "axes[0].set_xlim(left=min(df_pair['attacks_difference']), right=max(df_pair['attacks_difference']))\n",
    "axes[0].axvline(x=0.5, color='black', linestyle='--', label='X = 0.5')\n",
    "axes[0].legend()\n",
    "\n",
    "# Plot for 'dangerous_attacks_difference'\n",
    "sns.kdeplot(data=df_pair, x='dangerous_attacks_difference', fill=True, hue='home_is_winning', ax=axes[1], palette={True: 'blue', False: 'red'})\n",
    "axes[1].set_title('Distribution of Dangerous Attacks Difference')\n",
    "axes[1].set_xlabel('Attacks Dangerous Difference')\n",
    "axes[1].set_ylabel('')\n",
    "axes[1].set_xlim(left=min(df_pair['dangerous_attacks_difference']), right=max(df_pair['dangerous_attacks_difference']))\n",
    "axes[1].axvline(x=0.5, color='black', linestyle='--', label='X = 0.5')\n",
    "axes[1].legend()\n",
    "\n",
    "# Plot for 'on_target_difference'\n",
    "sns.kdeplot(data=df_pair, x='on_target_difference', fill=True, hue='home_is_winning', ax=axes[2], palette={True: 'blue', False: 'red'})\n",
    "axes[2].set_title('Distribution of On Target Difference')\n",
    "axes[2].set_xlabel('On Target Difference')\n",
    "axes[2].set_ylabel('')\n",
    "axes[2].set_xlim(left=min(df_pair['on_target_difference']), right=max(df_pair['on_target_difference']))\n",
    "axes[2].axvline(x=0.5, color='black', linestyle='--', label='X = 0.5')\n",
    "axes[2].legend()\n",
    "\n",
    "plt.suptitle('Distribution Analysis with 0.5 Threshold')\n",
    "plt.show()\n"
   ]
  },
  {
   "cell_type": "markdown",
   "id": "83dff042-cc03-43ad-ac9c-fa1c2f6230e1",
   "metadata": {},
   "source": [
    "`Attacks Difference`:\n",
    "The distribution analysis reveals symmetrical triangular curves for both winning and losing instances in attacks_difference, with peaks close to each other on the x-axis, indicating a balanced representation of attack differences. This may indicate that this feature may not be the strongest indicator of winning or losing.\n",
    "\n",
    "`Dangerous Attacks Difference`:\n",
    "The distribution analysis indicates that, on average, the away team tends to execute more dangerous attacks in dangerous_attacks_difference. The peaks are centered around 0.45 on the x-axis, with 0.5 indicating an equal proportion of dangerous attacks between the home and away teams. The leftward shift of the peak suggests that values below 0.5 represent a higher proportion of dangerous attacks by the away team.\n",
    "\n",
    "`On Target Difference`:\n",
    "On_target_difference presents a distinct asymmetry, with a substantial portion of losing instances clustering before x = 0.5, while most winning instances concentrate above x = 0.5. This implies that the home team's advantage in on-target attempts becomes more pronounced when the difference surpasses the 0.5 threshold, serving as a potential influential factor in match outcomes.\n"
   ]
  },
  {
   "cell_type": "markdown",
   "id": "c0f8112b",
   "metadata": {},
   "source": [
    "What is the distribution of the average attacks difference per current minute?"
   ]
  },
  {
   "cell_type": "code",
   "execution_count": null,
   "id": "1d84b6a1",
   "metadata": {},
   "outputs": [],
   "source": [
    "plt.figure(figsize=(12, 6))\n",
    "sns.histplot(x='attacks_difference', data=df, bins=50, edgecolor='w', kde=True)\n",
    "plt.title('Distribution of Average Attacks Difference per Current Minute')\n",
    "plt.xlabel('Average Attacks Difference')\n",
    "plt.ylabel('Frequency')\n",
    "plt.show()"
   ]
  },
  {
   "cell_type": "markdown",
   "id": "2e71a3aa",
   "metadata": {},
   "source": [
    "What is the distribution of the average attacks dangerous difference per current minute?"
   ]
  },
  {
   "cell_type": "code",
   "execution_count": null,
   "id": "84a3d265",
   "metadata": {},
   "outputs": [],
   "source": [
    "plt.figure(figsize=(12, 6))\n",
    "sns.histplot(x='dangerous_attacks_difference', data=df, bins=50, edgecolor='w', kde=True)\n",
    "plt.title('Distribution of Average Attacks Dangerous Difference per Current Minute')\n",
    "plt.xlabel('Average Attacks Dangerous Difference')\n",
    "plt.ylabel('Frequency')\n",
    "plt.show()"
   ]
  },
  {
   "cell_type": "markdown",
   "id": "42b19ff9",
   "metadata": {},
   "source": [
    "What is the distribution of the average on target difference per current minute?"
   ]
  },
  {
   "cell_type": "code",
   "execution_count": null,
   "id": "d5ebca5e",
   "metadata": {},
   "outputs": [],
   "source": [
    "plt.figure(figsize=(12, 6))\n",
    "sns.histplot(x='on_target_difference', data=df, bins=50, edgecolor='w', kde=True)\n",
    "plt.title('Distribution of Average On Target Difference per Current Minute')\n",
    "plt.xlabel('Average On Target Difference')\n",
    "plt.ylabel('Frequency')\n",
    "plt.show()"
   ]
  },
  {
   "cell_type": "markdown",
   "id": "dedc2e00",
   "metadata": {},
   "source": [
    "What are the quartiles, minimum, maximum values displayed, as well as the mean median mode and standard deviation based on the df['attacks_difference','dangerous_attacks_difference','on_target_difference']?"
   ]
  },
  {
   "cell_type": "code",
   "execution_count": null,
   "id": "5b4cb838",
   "metadata": {},
   "outputs": [],
   "source": [
    "summary_stats = df[['attacks_difference', 'dangerous_attacks_difference', 'on_target_difference']].describe()\n",
    "\n",
    "print(\"Summary Statistics:\")\n",
    "summary_stats"
   ]
  },
  {
   "cell_type": "markdown",
   "id": "ee28802a",
   "metadata": {},
   "source": [
    "What is the distribution of the average attacks_difference per current minute when home is winning?"
   ]
  },
  {
   "cell_type": "code",
   "execution_count": null,
   "id": "66d7b51a",
   "metadata": {},
   "outputs": [],
   "source": [
    "plt.figure(figsize=(12, 6))\n",
    "sns.histplot(x='attacks_difference', data=df[df['home_is_winning']], bins=50, edgecolor='w', kde=True)\n",
    "plt.title('Distribution of Average Attacks Difference per Current Minute (Home Winning)')\n",
    "plt.xlabel('Average Attacks Difference')\n",
    "plt.ylabel('Frequency')\n",
    "plt.show()"
   ]
  },
  {
   "cell_type": "markdown",
   "id": "e6c76122",
   "metadata": {},
   "source": [
    "What is the distribution of the average dangerous_attacks_difference per current minute  when home is winning?"
   ]
  },
  {
   "cell_type": "code",
   "execution_count": null,
   "id": "b8f116cf",
   "metadata": {},
   "outputs": [],
   "source": [
    "plt.figure(figsize=(12, 6))\n",
    "sns.histplot(x='dangerous_attacks_difference', data=df[df['home_is_winning']], bins=50, edgecolor='w', kde=True)\n",
    "plt.title('Distribution of Average Attacks Dangerous Difference per Current Minute (Home Winning)')\n",
    "plt.xlabel('Average Attacks Dangerous Difference')\n",
    "plt.ylabel('Frequency')\n",
    "plt.show()"
   ]
  },
  {
   "cell_type": "markdown",
   "id": "ca346641",
   "metadata": {},
   "source": [
    "What is the distribution of the average on_target_difference per current minute  when home is winning?"
   ]
  },
  {
   "cell_type": "code",
   "execution_count": null,
   "id": "cceaaae9",
   "metadata": {},
   "outputs": [],
   "source": [
    "plt.figure(figsize=(12, 6))\n",
    "sns.histplot(x='on_target_difference', data=df[df['home_is_winning']], bins=50, edgecolor='w', kde=True)\n",
    "plt.title('Distribution of Average On Target Difference per Current Minute (Home Winning)')\n",
    "plt.xlabel('Average On Target Difference')\n",
    "plt.ylabel('Frequency')\n",
    "plt.show()"
   ]
  },
  {
   "cell_type": "markdown",
   "id": "67b84976",
   "metadata": {},
   "source": [
    "What are the quartiles, minimum, maximum values displayed, as well as the mean, median, mode, and standard deviation based on `attacks_difference`, `dangerous_attacks_difference`, and `on_target_difference` when home is winning?"
   ]
  },
  {
   "cell_type": "code",
   "execution_count": null,
   "id": "e12c7e10",
   "metadata": {},
   "outputs": [],
   "source": [
    "summary_stats_home_winning = df[df['home_is_winning']][['attacks_difference', 'dangerous_attacks_difference', 'on_target_difference']].describe()\n",
    "\n",
    "print(\"Summary Statistics (Home Winning):\")\n",
    "summary_stats_home_winning"
   ]
  },
  {
   "cell_type": "markdown",
   "id": "0365ba7a",
   "metadata": {},
   "source": [
    "What is the distribution of the average attacks_difference per current minute when home is not winning?"
   ]
  },
  {
   "cell_type": "code",
   "execution_count": null,
   "id": "0f55a692",
   "metadata": {},
   "outputs": [],
   "source": [
    "plt.figure(figsize=(12, 6))\n",
    "sns.histplot(x='attacks_difference', data=df[~df['home_is_winning']], bins=50, edgecolor='w', kde=True)\n",
    "plt.title('Distribution of Average Attacks Difference per Current Minute (Home Not Winning)')\n",
    "plt.xlabel('Average Attacks Difference')\n",
    "plt.ylabel('Frequency')\n",
    "plt.show()"
   ]
  },
  {
   "cell_type": "markdown",
   "id": "262ca83d",
   "metadata": {},
   "source": [
    "What is the distribution of the average dangerous_attacks_difference per current minute  when home is not winning?"
   ]
  },
  {
   "cell_type": "code",
   "execution_count": null,
   "id": "79e81006",
   "metadata": {},
   "outputs": [],
   "source": [
    "plt.figure(figsize=(12, 6))\n",
    "sns.histplot(x='dangerous_attacks_difference', data=df[~df['home_is_winning']], bins=50, edgecolor='w', kde=True)\n",
    "plt.title('Distribution of Average Attacks Dangerous Difference per Current Minute (Home Not Winning)')\n",
    "plt.xlabel('Average Attacks Dangerous Difference')\n",
    "plt.ylabel('Frequency')\n",
    "plt.show()"
   ]
  },
  {
   "cell_type": "markdown",
   "id": "b3c5e99c",
   "metadata": {},
   "source": [
    "What is the distribution of the average on_target_difference per current minute  when home is not winning?"
   ]
  },
  {
   "cell_type": "code",
   "execution_count": null,
   "id": "c103f5fd",
   "metadata": {},
   "outputs": [],
   "source": [
    "plt.figure(figsize=(12, 6))\n",
    "sns.histplot(x='on_target_difference', data=df[~df['home_is_winning']], bins=50, edgecolor='w', kde=True)\n",
    "plt.title('Distribution of Average On Target Difference per Current Minute (Home Not Winning)')\n",
    "plt.xlabel('Average On Target Difference')\n",
    "plt.ylabel('Frequency')\n",
    "plt.show()"
   ]
  },
  {
   "cell_type": "markdown",
   "id": "2e5cd0af",
   "metadata": {},
   "source": [
    "What are the quartiles, minimum, maximum values displayed, as well as the mean median mode and standard deviation based on the `attacks_difference`, `dangerous_attacks_difference`, and `on_target_difference` when home is not winning?"
   ]
  },
  {
   "cell_type": "code",
   "execution_count": null,
   "id": "2e5717bd",
   "metadata": {},
   "outputs": [],
   "source": [
    "summary_stats_not_home_winning = df[~df['home_is_winning']][['attacks_difference', 'dangerous_attacks_difference', 'on_target_difference']].describe()\n",
    "\n",
    "print(\"Summary Statistics (Home Not Winning):\")\n",
    "summary_stats_not_home_winning"
   ]
  },
  {
   "cell_type": "markdown",
   "id": "4729de0f-c12a-40d0-83dc-3f35bbc8738d",
   "metadata": {},
   "source": [
    "# Model training"
   ]
  },
  {
   "cell_type": "markdown",
   "id": "f3bad1f9-5565-4a3e-bfeb-25d9cb037a7f",
   "metadata": {},
   "source": [
    "For this project, we will be exploring 3 types of machine learning models: k-nearest neighbor, binomial classification, and multinomial classification."
   ]
  },
  {
   "cell_type": "markdown",
   "metadata": {},
   "source": [
    "## Post-EDA pre-processing"
   ]
  },
  {
   "cell_type": "markdown",
   "metadata": {},
   "source": [
    "With the EDA completed, there are still some pre-processing steps that need to be performed in order to use the different learning models. The `current_minute` column needs to be dropped, since this is not a feature used in the learning models."
   ]
  },
  {
   "cell_type": "code",
   "execution_count": null,
   "metadata": {},
   "outputs": [],
   "source": [
    "df = df.drop(\"current_minute\", axis=1)"
   ]
  },
  {
   "cell_type": "markdown",
   "metadata": {},
   "source": [
    "We will also separate the data, depending on whether or not the home team is winning."
   ]
  },
  {
   "cell_type": "code",
   "execution_count": null,
   "metadata": {},
   "outputs": [
    {
     "name": "stdout",
     "output_type": "stream",
     "text": [
      "1659\n",
      "1165\n"
     ]
    }
   ],
   "source": [
    "df_win = df[df[\"home_is_winning\"] == True]\n",
    "df_lose = df[df[\"home_is_winning\"] == False]\n",
    "print(len(df_win))\n",
    "print(len(df_lose))"
   ]
  },
  {
   "cell_type": "markdown",
   "metadata": {},
   "source": [
    "As shown, there are 1659 winning games and 1165 losing games."
   ]
  },
  {
   "cell_type": "code",
   "execution_count": null,
   "metadata": {},
   "outputs": [],
   "source": [
    "# We will now separate the labels (y) used in the dataset and move this to a separate dataframe.\n",
    "\n",
    "df_win_y = df_win.pop('home_is_winning')\n",
    "df_lose_y = df_lose.pop('home_is_winning')"
   ]
  },
  {
   "cell_type": "code",
   "execution_count": null,
   "metadata": {},
   "outputs": [
    {
     "data": {
      "text/plain": [
       "1     True\n",
       "4     True\n",
       "5     True\n",
       "11    True\n",
       "14    True\n",
       "Name: home_is_winning, dtype: bool"
      ]
     },
     "metadata": {},
     "output_type": "display_data"
    }
   ],
   "source": [
    "df_win_y.head()"
   ]
  },
  {
   "cell_type": "code",
   "execution_count": null,
   "metadata": {},
   "outputs": [
    {
     "data": {
      "text/plain": [
       "0     False\n",
       "8     False\n",
       "12    False\n",
       "20    False\n",
       "21    False\n",
       "Name: home_is_winning, dtype: bool"
      ]
     },
     "metadata": {},
     "output_type": "display_data"
    }
   ],
   "source": [
    "df_lose_y.head()"
   ]
  },
  {
   "cell_type": "markdown",
   "metadata": {},
   "source": [
    "To further simplify the process of creating the machine learning models, we will also change the True/False into 0/1. The True/False was only kept so that the data would be easier to visualize during the EDA."
   ]
  },
  {
   "cell_type": "code",
   "execution_count": null,
   "metadata": {},
   "outputs": [],
   "source": [
    "df_win_y = df_win_y.astype(int)\n",
    "df_lose_y = df_lose_y.astype(int)"
   ]
  },
  {
   "cell_type": "markdown",
   "metadata": {},
   "source": [
    "We will now convert these into numpy arrays and into the data that will be used for training and testing. \n",
    "\n",
    "80% of the data will be used for training, while the remaining 20% will be used for testing."
   ]
  },
  {
   "cell_type": "code",
   "execution_count": null,
   "metadata": {},
   "outputs": [],
   "source": []
  },
  {
   "cell_type": "code",
   "execution_count": null,
   "metadata": {},
   "outputs": [
    {
     "data": {
      "text/plain": [
       "1327"
      ]
     },
     "metadata": {},
     "output_type": "display_data"
    }
   ],
   "source": [
    "X_train_win = df_win.head(int(.8*len(df_win)))\n",
    "len(X_train_win)"
   ]
  },
  {
   "cell_type": "code",
   "execution_count": null,
   "metadata": {},
   "outputs": [
    {
     "data": {
      "text/plain": [
       "331"
      ]
     },
     "metadata": {},
     "output_type": "display_data"
    }
   ],
   "source": [
    "X_test_win = df_win.tail(int(.2*len(df_win)))\n",
    "len(X_test_win)"
   ]
  },
  {
   "cell_type": "code",
   "execution_count": null,
   "metadata": {},
   "outputs": [
    {
     "data": {
      "text/plain": [
       "1327"
      ]
     },
     "metadata": {},
     "output_type": "display_data"
    }
   ],
   "source": [
    "y_train_win = df_win_y.head(int(.8*len(df_win_y)))\n",
    "len(y_train_win)"
   ]
  },
  {
   "cell_type": "code",
   "execution_count": null,
   "metadata": {},
   "outputs": [
    {
     "data": {
      "text/plain": [
       "331"
      ]
     },
     "metadata": {},
     "output_type": "display_data"
    }
   ],
   "source": [
    "y_test_win = df_win_y.tail(int(.2*len(df_win_y)))\n",
    "len(y_test_win)"
   ]
  },
  {
   "cell_type": "code",
   "execution_count": null,
   "metadata": {},
   "outputs": [],
   "source": [
    "X_train_lose = df_lose.head(int(.8*len(df_lose)))\n",
    "X_test_lose = df_lose.tail(int(.2*len(df_lose)) + 1)\n",
    "y_train_lose = df_lose_y.head(int(.8*len(df_lose_y)))\n",
    "y_test_lose = df_lose_y.tail(int(.2*len(df_lose_y)) + 1)"
   ]
  },
  {
   "cell_type": "code",
   "execution_count": null,
   "metadata": {},
   "outputs": [
    {
     "data": {
      "text/plain": [
       "234"
      ]
     },
     "metadata": {},
     "output_type": "display_data"
    }
   ],
   "source": [
    "len(X_test_lose)"
   ]
  },
  {
   "cell_type": "code",
   "execution_count": null,
   "metadata": {},
   "outputs": [
    {
     "data": {
      "text/plain": [
       "234"
      ]
     },
     "metadata": {},
     "output_type": "display_data"
    }
   ],
   "source": []
  },
  {
   "cell_type": "code",
   "execution_count": null,
   "metadata": {},
   "outputs": [],
   "source": []
  },
  {
   "cell_type": "markdown",
   "metadata": {},
   "source": [
    "We have now verified that the total number of rows stayed the same."
   ]
  },
  {
   "cell_type": "markdown",
   "metadata": {},
   "source": [
    "We will now concatenate together the train and test dataframes."
   ]
  },
  {
   "cell_type": "code",
   "execution_count": null,
   "metadata": {},
   "outputs": [
    {
     "data": {
      "text/plain": [
       "2260"
      ]
     },
     "metadata": {},
     "output_type": "display_data"
    }
   ],
   "source": [
    "X_train = pd.concat([X_train_win, X_train_lose], axis=0)\n",
    "len(X_train)"
   ]
  },
  {
   "cell_type": "code",
   "execution_count": null,
   "metadata": {},
   "outputs": [
    {
     "data": {
      "text/plain": [
       "2260"
      ]
     },
     "metadata": {},
     "output_type": "display_data"
    }
   ],
   "source": [
    "y_train = pd.concat([y_train_win, y_train_lose], axis=0)\n",
    "len(y_train)"
   ]
  },
  {
   "cell_type": "code",
   "execution_count": null,
   "metadata": {},
   "outputs": [
    {
     "data": {
      "text/plain": [
       "565"
      ]
     },
     "metadata": {},
     "output_type": "display_data"
    }
   ],
   "source": [
    "X_test = pd.concat([X_test_win, X_test_lose], axis=0)\n",
    "len(X_test)"
   ]
  },
  {
   "cell_type": "code",
   "execution_count": null,
   "metadata": {},
   "outputs": [
    {
     "data": {
      "text/plain": [
       "565"
      ]
     },
     "metadata": {},
     "output_type": "display_data"
    }
   ],
   "source": [
    "y_test = pd.concat([y_test_win, y_test_lose], axis=0)\n",
    "len(y_test)"
   ]
  },
  {
   "cell_type": "markdown",
   "metadata": {},
   "source": [
    "## K-nearest neighbor"
   ]
  },
  {
   "cell_type": "code",
   "execution_count": null,
   "metadata": {},
   "outputs": [],
   "source": []
  },
  {
   "cell_type": "code",
   "execution_count": null,
   "metadata": {},
   "outputs": [],
   "source": [
    "# convert dataframe to numpy\n",
    "X_train = df.to_numpy()\n",
    "X_train"
   ]
  },
  {
   "cell_type": "code",
   "execution_count": null,
   "metadata": {},
   "outputs": [],
   "source": [
    "X_train_win = df_win.to_numpy()\n",
    "X_train_lose = df_lose.to_numpy()"
   ]
  },
  {
   "cell_type": "code",
   "execution_count": null,
   "metadata": {},
   "outputs": [],
   "source": [
    "plt.plot(X_train_win[:, 3], X_train_win[:, 2], 'bo')\n",
    "plt.plot(X_train_lose[:, 3], X_train_lose[:, 2], 'ro')"
   ]
  },
  {
   "cell_type": "code",
   "execution_count": null,
   "metadata": {},
   "outputs": [],
   "source": [
    "fig = plt.figure(figsize=(12,10))\n",
    "ax = fig.add_subplot(projection='3d')\n",
    "ax.scatter(X_train_win[:, 1], X_train_win[:, 2], X_train_win[:, 3], marker='o')\n",
    "ax.scatter(X_train_lose[:, 1], X_train_lose[:, 2], X_train_lose[:, 3], marker='+')\n",
    "ax.set_xlabel('Attacks difference')\n",
    "ax.set_ylabel('Attacks dangerous difference')\n",
    "ax.set_zlabel('On target difference')\n",
    "plt.show()"
   ]
  },
  {
   "cell_type": "code",
   "execution_count": null,
   "metadata": {},
   "outputs": [],
   "source": [
    "len(X_train_win)"
   ]
  },
  {
   "cell_type": "code",
   "execution_count": null,
   "metadata": {},
   "outputs": [],
   "source": [
    "len(X_train_lose)"
   ]
  },
  {
   "cell_type": "markdown",
   "metadata": {},
   "source": [
    "In figure above, orange symbols are the lose dots and blue are the wins"
   ]
  },
  {
   "cell_type": "markdown",
   "id": "103ea5db-43a6-4150-b622-dc2279fc0086",
   "metadata": {},
   "source": [
    "## K-nearest neighbor"
   ]
  },
  {
   "cell_type": "markdown",
   "id": "27642dde-86d4-4480-927c-d883b6ad75a9",
   "metadata": {},
   "source": [
    "## Binomial classification"
   ]
  },
  {
   "cell_type": "markdown",
   "id": "b6df7057-8015-4aa5-a136-c2054cb300eb",
   "metadata": {},
   "source": [
    "## Multinomial classification"
   ]
  },
  {
   "cell_type": "markdown",
   "id": "cb91903b-e170-4327-85cc-42895c0d7978",
   "metadata": {
    "tags": []
   },
   "source": [
    "# Hyperparameter tuning"
   ]
  },
  {
   "cell_type": "markdown",
   "id": "a96a6f36-66af-4c9d-971c-ceae12d13aa6",
   "metadata": {},
   "source": [
    "# Model selection"
   ]
  },
  {
   "cell_type": "markdown",
   "id": "26adcf9a-fb3d-4370-b0f7-f0c74011357d",
   "metadata": {},
   "source": [
    "# Insights and conclusions"
   ]
  },
  {
   "cell_type": "markdown",
   "id": "5ddb7aa0",
   "metadata": {},
   "source": [
    "# Bibliography\n"
   ]
  },
  {
   "cell_type": "markdown",
   "id": "fe82fa77-aeef-40e7-bdd9-70d9fec6ecce",
   "metadata": {},
   "source": []
  }
 ],
 "metadata": {
  "kernelspec": {
   "display_name": "Python 3 (ipykernel)",
   "language": "python",
   "name": "python3"
  },
  "language_info": {
   "codemirror_mode": {
    "name": "ipython",
    "version": 3
   },
   "file_extension": ".py",
   "mimetype": "text/x-python",
   "name": "python",
   "nbconvert_exporter": "python",
   "pygments_lexer": "ipython3",
   "version": "3.9.12"
  }
 },
 "nbformat": 4,
 "nbformat_minor": 5
}
