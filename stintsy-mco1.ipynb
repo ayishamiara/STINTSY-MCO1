{
 "cells": [
  {
   "cell_type": "markdown",
   "id": "d24a81b3-2065-4f25-a249-5f4654eec0e6",
   "metadata": {
    "tags": []
   },
   "source": [
    "## MP Phase 1\n",
    "\n",
    "**S11 - Group x**\n",
    "\n",
    "**Submitted By:** <br>\n",
    "&nbsp;&nbsp;&nbsp;&nbsp;**Chua Ching, Janine**<br>\n",
    "&nbsp;&nbsp;&nbsp;&nbsp;**Ileto, Maxine**<br>\n",
    "&nbsp;&nbsp;&nbsp;&nbsp;**Dytoc, Ayisha**<br>\n",
    "&nbsp;&nbsp;&nbsp;&nbsp;**Tan, Jared**"
   ]
  },
  {
   "cell_type": "markdown",
   "id": "eb1852b7-49f8-44a9-b7d2-5780e73b7677",
   "metadata": {},
   "source": [
    "# Introduction"
   ]
  },
  {
   "cell_type": "markdown",
   "id": "33bccee2-ff06-4c72-bc79-c40517885425",
   "metadata": {},
   "source": [
    "## Target Task"
   ]
  },
  {
   "cell_type": "markdown",
   "id": "43e6aebd-3262-41ac-8462-86fba7eede21",
   "metadata": {},
   "source": [
    "In sports, soccer remains to be one of the world's most popular sports. Accurately predicting match results is a pursuit that intrigues both enthusiasts, analysts, and even the casual audience. The dataset under consideration provides a unique opportunity to explore this problem by focusing on the **classification task of determining whether the home team is winning or not given a set of features**.\n",
    "\n",
    "This classification task holds significance for various applications, including live match analysis or strategic decision-making. With this in mind, the classifications to be developed would be the **K-Nearest Neighbors (KNN) model**, **binomial classification**, and **(neural network/naive bayes)**. "
   ]
  },
  {
   "cell_type": "markdown",
   "id": "9db7f9bd-cb70-4fdb-9e34-61a5196346cd",
   "metadata": {
    "tags": []
   },
   "source": [
    "# Dataset Description"
   ]
  },
  {
   "cell_type": "markdown",
   "id": "b62f5aee",
   "metadata": {},
   "source": [
    "## Brief Description"
   ]
  },
  {
   "cell_type": "markdown",
   "id": "ef573226",
   "metadata": {},
   "source": [
    "The dataset comprises 10,000 random snapshots, each representing a single timestamp during a soccer match. These snapshots encompass a range of essential features, offering a glimpse into the ongoing match dynamics. Key attributes for this dataset include the current minute of play, goals scored by each team, yellow and red cards issued, attacks attempted, dangerous attacks attempted, corners awarded, missed shots off target, missed shots on target, and possession percentages for both the home and away teams."
   ]
  },
  {
   "cell_type": "markdown",
   "id": "3e8560c5",
   "metadata": {},
   "source": [
    "## Data Collection Process\n"
   ]
  },
  {
   "cell_type": "markdown",
   "id": "8b1acdc1",
   "metadata": {
    "tags": []
   },
   "source": [
    "## Dataset Features\n",
    "\n",
    "The dataset contains a total of 20 variables (columns). The following are the descriptions of each variable in the dataset:\n",
    "\n",
    "- **`uuid`**: The unique identifier of the snapshot\n",
    "- **`current_minute`**: The current minute of the in-play match. Important: the 15 min half-time break is included, so a match will have a total of 105 min. A current_minute of 70 corresponds to the actual match time of 55.\n",
    "- **`home_score`**: Goals scored by the home team as of this current_minute\n",
    "- **`away_score`**:  Goals scored by the away team as of this current_minute\n",
    "- **`home_yellow_cards`**: Yellow cards given to the home team as of this current_minute\n",
    "- **`away_yellow_cards`**: Yellow cards given to the away team as of this current_minute\n",
    "- **`home_red_cards`**: Red cards given to the home team as of this current_minute\n",
    "- **`away_red_cards`**: Red cards given to the away team as of this current_minute\n",
    "- **`home_attacks`**: Attacks attempted by the home team as of this current_minute\n",
    "- **`away_attacks`**: Attacks attempted by the away team as of this current_minute\n",
    "- **`home_dangerous_attacks`**: Dangerous attacks attempted by the home team as of this current_minute\n",
    "- **`away_dangerous_attacks`**: Dangerous attacks attempted by the away team as of this current_minute\n",
    "- **`home_corners`**: Corners awarded to the home team as of this current_minute\n",
    "- **`away_corners`**: Corners awarded to the away team as of this current_minute\n",
    "- **`home_off_target`**: Shots that didn't have to be cleared by the goalkeeper that were \n",
    "attempted to the home team as of this current_minute\n",
    "- **`away_off_target`**: Shots that didn't have to be cleared by the goalkeeper that were \n",
    "attempted to the away team as of this current_minute\n",
    "- **`home_on_target`**:  Shots that had to be cleared by the goalkeeper that were attempted to \n",
    "the home team as of this current_minute\n",
    "- **`away_on_target`**: Shots that had to be cleared by the goalkeeper that were attempted to \n",
    "the away team as of this current_minute\n",
    "- **`home_possession`**: How much ball possession in % did the home team have until this \n",
    "current_minute\n",
    "- **`away_possession`**: How much ball possession in % did the away team have until this\n",
    "current_minute"
   ]
  },
  {
   "cell_type": "markdown",
   "id": "1d51a86c",
   "metadata": {
    "tags": []
   },
   "source": [
    "## Features to be Used\n",
    "\n",
    "Out of the 20 features in the dataset, 18 seem to be usable as input features for a classification model:\n",
    "\n",
    "1. **`home_score`**\n",
    "2. **`away_score`**\n",
    "3. **`home_yellow_cards`**\n",
    "4. **`away_yellow_cards`**\n",
    "5. **`home_red_cards`**\n",
    "6. **`away_red_cards`**\n",
    "7. **`home_attacks`**\n",
    "8. **`away_attacks`**\n",
    "9. **`home_dangerous_attacks`**\n",
    "10. **`away_dangerous_attacks`**\n",
    "11. **`home_corners`**\n",
    "12. **`away_corners`**\n",
    "13. **`home_off_target`**\n",
    "14. **`away_off_target`**\n",
    "15. **`home_on_target`**\n",
    "16. **`away_on_target`**\n",
    "17. **`home_possession`**\n",
    "18. **`away_possession`**\n",
    "\n",
    "Analyzing the following, it is also possible to consolidate pairs into one feature:\n",
    "1. **`home_is_winning`** - A binary indicator (0 or 1) representing whether the home team is winning or not, comparing the `home_score` and the `away_score`. `score_difference` will not be used as this is too much of a giveaway for if a team is winning or not.\n",
    "2. **`yellow_cards_difference`** - The difference between the home `home_yellow_cards` and the away `away_yellow_cards`.\n",
    "3. **`red_cards_difference`** - The difference between the home `home_red_cards` and the away `away_red_cards`.\n",
    "4. **`attacks_difference`** - The difference between the home `home_attacks` and the away `away_attacks`.\n",
    "5. **`dangerous_attacks_difference`** - The difference between the home `home_dangerous_attacks` and the away `away_dangerous_attacks`.\n",
    "6. **`corners_difference`** - The difference between the home `home_corners` and the away `away_corners`.\n",
    "7. **`off_target_difference`** - The difference between the home `home_off_target` and the away `away_off_target`.\n",
    "8. **`on_target_difference`** - The difference between the home `home_on_target` and the away `away_on_target`.\n",
    "9. **`home_possesion`** - Because `home_possession` and `away_possession` percentages directly mirror the distribution of possesion between the home and away teams during a soccer match, we only need one, `home_possesion` is used as all differences is the difference of the home team to the away team (home statistic minus away statistic).\n",
    "\n",
    "By consolidating these paired features, it can reduce the dimensionality of your dataset. This is particularly useful when dealing with a large number of features, as it can simplify the model. \n",
    "\n",
    "The following features were not included:\n",
    "1. **`uuid`** - While this feature serves as a unique identifier for preprocessing, it won't be used in the machine learning model. It's not an indication of anything and will not be considered for the classification model.\n",
    "2. **`current_minute`** - This feature will be still be used for preprocessing, however it won't be used as an input feature for the machine learning model because there may be a lack of a linear relationship between the minute of play and the outcome of the match. Of course, with a higher minute, stats become higher, but this is tricky as as soccer match dynamics are inherently non-linear and context-dependent. Moreover, this stat is not controlled by either team.\n",
    "3. **`home_score`** - The reason why this feature will not be used is because it will be as good as giving the model the answer. If the `home_score` is greater than the `away_score`, than the home team is obviously winning.\n",
    "4. **`away_score`** - The same as the reasons for **`home_score`**."
   ]
  },
  {
   "cell_type": "markdown",
   "id": "f1fbfef4-e806-464b-8196-55004f34ee0f",
   "metadata": {},
   "source": [
    "# List of requirements\n",
    "\n",
    "List all python libraries and modules used"
   ]
  },
  {
   "cell_type": "code",
   "execution_count": 1,
   "id": "edd64d00-e65b-46d1-8bdf-bfc4c73958b9",
   "metadata": {},
   "outputs": [],
   "source": [
    "# Python Libraries\n",
    "import numpy as np\n",
    "import pandas as pd\n",
    "import matplotlib.pyplot as plt\n",
    "import seaborn as sns"
   ]
  },
  {
   "cell_type": "markdown",
   "id": "4d178f50-5e3b-4c78-94e1-4b6a09791d97",
   "metadata": {
    "tags": []
   },
   "source": [
    "# Data Preprocessing and Cleaning"
   ]
  },
  {
   "cell_type": "markdown",
   "id": "6e550a54-1d45-4b35-8b90-28a770713696",
   "metadata": {
    "tags": []
   },
   "source": [
    "The data used in this project is stored in the `sports.csv` file. This data will be stored in a variable called `df`.\n",
    "\n",
    "Below is a sample of the first 5 rows of the dataset."
   ]
  },
  {
   "cell_type": "code",
   "execution_count": 2,
   "id": "53b344cd-342b-4b68-b231-730f446027bf",
   "metadata": {
    "tags": []
   },
   "outputs": [
    {
     "data": {
      "text/html": [
       "<div>\n",
       "<style scoped>\n",
       "    .dataframe tbody tr th:only-of-type {\n",
       "        vertical-align: middle;\n",
       "    }\n",
       "\n",
       "    .dataframe tbody tr th {\n",
       "        vertical-align: top;\n",
       "    }\n",
       "\n",
       "    .dataframe thead th {\n",
       "        text-align: right;\n",
       "    }\n",
       "</style>\n",
       "<table border=\"1\" class=\"dataframe\">\n",
       "  <thead>\n",
       "    <tr style=\"text-align: right;\">\n",
       "      <th></th>\n",
       "      <th>uuid</th>\n",
       "      <th>current_minute</th>\n",
       "      <th>home_score</th>\n",
       "      <th>away_score</th>\n",
       "      <th>home_yellow_cards</th>\n",
       "      <th>away_yellow_cards</th>\n",
       "      <th>home_red_cards</th>\n",
       "      <th>away_red_cards</th>\n",
       "      <th>home_attacks</th>\n",
       "      <th>away_attacks</th>\n",
       "      <th>...</th>\n",
       "      <th>away_dangerous_attacks</th>\n",
       "      <th>home_corners</th>\n",
       "      <th>away_corners</th>\n",
       "      <th>home_off_target</th>\n",
       "      <th>away_off_target</th>\n",
       "      <th>home_on_target</th>\n",
       "      <th>away_on_target</th>\n",
       "      <th>home_possession</th>\n",
       "      <th>away_possession</th>\n",
       "      <th>final_delta</th>\n",
       "    </tr>\n",
       "  </thead>\n",
       "  <tbody>\n",
       "    <tr>\n",
       "      <th>0</th>\n",
       "      <td>2f9dd904-8d9d-4aa0-a9d9-4e0f3e50d742</td>\n",
       "      <td>94</td>\n",
       "      <td>1</td>\n",
       "      <td>2</td>\n",
       "      <td>0</td>\n",
       "      <td>0</td>\n",
       "      <td>0</td>\n",
       "      <td>0</td>\n",
       "      <td>39</td>\n",
       "      <td>45</td>\n",
       "      <td>...</td>\n",
       "      <td>26</td>\n",
       "      <td>4</td>\n",
       "      <td>1</td>\n",
       "      <td>4</td>\n",
       "      <td>0</td>\n",
       "      <td>4</td>\n",
       "      <td>6</td>\n",
       "      <td>48</td>\n",
       "      <td>52</td>\n",
       "      <td>1</td>\n",
       "    </tr>\n",
       "    <tr>\n",
       "      <th>1</th>\n",
       "      <td>869c1420-9153-4d73-8d79-5db31a8a80a4</td>\n",
       "      <td>91</td>\n",
       "      <td>2</td>\n",
       "      <td>0</td>\n",
       "      <td>0</td>\n",
       "      <td>0</td>\n",
       "      <td>0</td>\n",
       "      <td>0</td>\n",
       "      <td>0</td>\n",
       "      <td>0</td>\n",
       "      <td>...</td>\n",
       "      <td>0</td>\n",
       "      <td>0</td>\n",
       "      <td>0</td>\n",
       "      <td>0</td>\n",
       "      <td>0</td>\n",
       "      <td>0</td>\n",
       "      <td>0</td>\n",
       "      <td>50</td>\n",
       "      <td>50</td>\n",
       "      <td>1</td>\n",
       "    </tr>\n",
       "    <tr>\n",
       "      <th>2</th>\n",
       "      <td>549e25a3-4c93-459d-b115-fb303273c78a</td>\n",
       "      <td>3</td>\n",
       "      <td>0</td>\n",
       "      <td>0</td>\n",
       "      <td>0</td>\n",
       "      <td>0</td>\n",
       "      <td>0</td>\n",
       "      <td>0</td>\n",
       "      <td>3</td>\n",
       "      <td>1</td>\n",
       "      <td>...</td>\n",
       "      <td>0</td>\n",
       "      <td>0</td>\n",
       "      <td>0</td>\n",
       "      <td>0</td>\n",
       "      <td>0</td>\n",
       "      <td>0</td>\n",
       "      <td>0</td>\n",
       "      <td>62</td>\n",
       "      <td>38</td>\n",
       "      <td>4</td>\n",
       "    </tr>\n",
       "    <tr>\n",
       "      <th>3</th>\n",
       "      <td>287b4be5-9163-4e2e-895d-d11052a97410</td>\n",
       "      <td>17</td>\n",
       "      <td>0</td>\n",
       "      <td>0</td>\n",
       "      <td>1</td>\n",
       "      <td>0</td>\n",
       "      <td>0</td>\n",
       "      <td>0</td>\n",
       "      <td>41</td>\n",
       "      <td>46</td>\n",
       "      <td>...</td>\n",
       "      <td>25</td>\n",
       "      <td>1</td>\n",
       "      <td>0</td>\n",
       "      <td>0</td>\n",
       "      <td>2</td>\n",
       "      <td>0</td>\n",
       "      <td>0</td>\n",
       "      <td>55</td>\n",
       "      <td>45</td>\n",
       "      <td>2</td>\n",
       "    </tr>\n",
       "    <tr>\n",
       "      <th>4</th>\n",
       "      <td>a607da6a-d6b2-4652-b7a5-6c8e4b61c2b8</td>\n",
       "      <td>76</td>\n",
       "      <td>1</td>\n",
       "      <td>0</td>\n",
       "      <td>1</td>\n",
       "      <td>0</td>\n",
       "      <td>0</td>\n",
       "      <td>0</td>\n",
       "      <td>69</td>\n",
       "      <td>78</td>\n",
       "      <td>...</td>\n",
       "      <td>46</td>\n",
       "      <td>1</td>\n",
       "      <td>1</td>\n",
       "      <td>0</td>\n",
       "      <td>3</td>\n",
       "      <td>4</td>\n",
       "      <td>4</td>\n",
       "      <td>45</td>\n",
       "      <td>55</td>\n",
       "      <td>0</td>\n",
       "    </tr>\n",
       "  </tbody>\n",
       "</table>\n",
       "<p>5 rows × 21 columns</p>\n",
       "</div>"
      ],
      "text/plain": [
       "                                   uuid  current_minute  home_score  \\\n",
       "0  2f9dd904-8d9d-4aa0-a9d9-4e0f3e50d742              94           1   \n",
       "1  869c1420-9153-4d73-8d79-5db31a8a80a4              91           2   \n",
       "2  549e25a3-4c93-459d-b115-fb303273c78a               3           0   \n",
       "3  287b4be5-9163-4e2e-895d-d11052a97410              17           0   \n",
       "4  a607da6a-d6b2-4652-b7a5-6c8e4b61c2b8              76           1   \n",
       "\n",
       "   away_score  home_yellow_cards  away_yellow_cards  home_red_cards  \\\n",
       "0           2                  0                  0               0   \n",
       "1           0                  0                  0               0   \n",
       "2           0                  0                  0               0   \n",
       "3           0                  1                  0               0   \n",
       "4           0                  1                  0               0   \n",
       "\n",
       "   away_red_cards  home_attacks  away_attacks  ...  away_dangerous_attacks  \\\n",
       "0               0            39            45  ...                      26   \n",
       "1               0             0             0  ...                       0   \n",
       "2               0             3             1  ...                       0   \n",
       "3               0            41            46  ...                      25   \n",
       "4               0            69            78  ...                      46   \n",
       "\n",
       "   home_corners  away_corners  home_off_target  away_off_target  \\\n",
       "0             4             1                4                0   \n",
       "1             0             0                0                0   \n",
       "2             0             0                0                0   \n",
       "3             1             0                0                2   \n",
       "4             1             1                0                3   \n",
       "\n",
       "   home_on_target  away_on_target  home_possession  away_possession  \\\n",
       "0               4               6               48               52   \n",
       "1               0               0               50               50   \n",
       "2               0               0               62               38   \n",
       "3               0               0               55               45   \n",
       "4               4               4               45               55   \n",
       "\n",
       "   final_delta  \n",
       "0            1  \n",
       "1            1  \n",
       "2            4  \n",
       "3            2  \n",
       "4            0  \n",
       "\n",
       "[5 rows x 21 columns]"
      ]
     },
     "execution_count": 2,
     "metadata": {},
     "output_type": "execute_result"
    }
   ],
   "source": [
    "df = pd.read_csv('sports.csv')\n",
    "df.head()"
   ]
  },
  {
   "cell_type": "markdown",
   "id": "ee1cd6fb-723d-4b1f-a0a9-60206f118673",
   "metadata": {},
   "source": [
    "In the following section, Exploratory Data Analysis (EDA), we want to explore which features can affect whether or not the home team is winning. \n",
    "- remove uuid since this is irrelevant to the computation"
   ]
  },
  {
   "cell_type": "code",
   "execution_count": 3,
   "id": "d232f3b8-2d86-41a6-b342-233bf1cc02ba",
   "metadata": {},
   "outputs": [
    {
     "data": {
      "text/html": [
       "<div>\n",
       "<style scoped>\n",
       "    .dataframe tbody tr th:only-of-type {\n",
       "        vertical-align: middle;\n",
       "    }\n",
       "\n",
       "    .dataframe tbody tr th {\n",
       "        vertical-align: top;\n",
       "    }\n",
       "\n",
       "    .dataframe thead th {\n",
       "        text-align: right;\n",
       "    }\n",
       "</style>\n",
       "<table border=\"1\" class=\"dataframe\">\n",
       "  <thead>\n",
       "    <tr style=\"text-align: right;\">\n",
       "      <th></th>\n",
       "      <th>current_minute</th>\n",
       "      <th>home_score</th>\n",
       "      <th>away_score</th>\n",
       "      <th>home_yellow_cards</th>\n",
       "      <th>away_yellow_cards</th>\n",
       "      <th>home_red_cards</th>\n",
       "      <th>away_red_cards</th>\n",
       "      <th>home_attacks</th>\n",
       "      <th>away_attacks</th>\n",
       "      <th>home_dangerous_attacks</th>\n",
       "      <th>away_dangerous_attacks</th>\n",
       "      <th>home_corners</th>\n",
       "      <th>away_corners</th>\n",
       "      <th>home_off_target</th>\n",
       "      <th>away_off_target</th>\n",
       "      <th>home_on_target</th>\n",
       "      <th>away_on_target</th>\n",
       "      <th>home_possession</th>\n",
       "      <th>away_possession</th>\n",
       "      <th>final_delta</th>\n",
       "    </tr>\n",
       "  </thead>\n",
       "  <tbody>\n",
       "    <tr>\n",
       "      <th>0</th>\n",
       "      <td>94</td>\n",
       "      <td>1</td>\n",
       "      <td>2</td>\n",
       "      <td>0</td>\n",
       "      <td>0</td>\n",
       "      <td>0</td>\n",
       "      <td>0</td>\n",
       "      <td>39</td>\n",
       "      <td>45</td>\n",
       "      <td>29</td>\n",
       "      <td>26</td>\n",
       "      <td>4</td>\n",
       "      <td>1</td>\n",
       "      <td>4</td>\n",
       "      <td>0</td>\n",
       "      <td>4</td>\n",
       "      <td>6</td>\n",
       "      <td>48</td>\n",
       "      <td>52</td>\n",
       "      <td>1</td>\n",
       "    </tr>\n",
       "    <tr>\n",
       "      <th>1</th>\n",
       "      <td>91</td>\n",
       "      <td>2</td>\n",
       "      <td>0</td>\n",
       "      <td>0</td>\n",
       "      <td>0</td>\n",
       "      <td>0</td>\n",
       "      <td>0</td>\n",
       "      <td>0</td>\n",
       "      <td>0</td>\n",
       "      <td>0</td>\n",
       "      <td>0</td>\n",
       "      <td>0</td>\n",
       "      <td>0</td>\n",
       "      <td>0</td>\n",
       "      <td>0</td>\n",
       "      <td>0</td>\n",
       "      <td>0</td>\n",
       "      <td>50</td>\n",
       "      <td>50</td>\n",
       "      <td>1</td>\n",
       "    </tr>\n",
       "    <tr>\n",
       "      <th>2</th>\n",
       "      <td>3</td>\n",
       "      <td>0</td>\n",
       "      <td>0</td>\n",
       "      <td>0</td>\n",
       "      <td>0</td>\n",
       "      <td>0</td>\n",
       "      <td>0</td>\n",
       "      <td>3</td>\n",
       "      <td>1</td>\n",
       "      <td>1</td>\n",
       "      <td>0</td>\n",
       "      <td>0</td>\n",
       "      <td>0</td>\n",
       "      <td>0</td>\n",
       "      <td>0</td>\n",
       "      <td>0</td>\n",
       "      <td>0</td>\n",
       "      <td>62</td>\n",
       "      <td>38</td>\n",
       "      <td>4</td>\n",
       "    </tr>\n",
       "    <tr>\n",
       "      <th>3</th>\n",
       "      <td>17</td>\n",
       "      <td>0</td>\n",
       "      <td>0</td>\n",
       "      <td>1</td>\n",
       "      <td>0</td>\n",
       "      <td>0</td>\n",
       "      <td>0</td>\n",
       "      <td>41</td>\n",
       "      <td>46</td>\n",
       "      <td>11</td>\n",
       "      <td>25</td>\n",
       "      <td>1</td>\n",
       "      <td>0</td>\n",
       "      <td>0</td>\n",
       "      <td>2</td>\n",
       "      <td>0</td>\n",
       "      <td>0</td>\n",
       "      <td>55</td>\n",
       "      <td>45</td>\n",
       "      <td>2</td>\n",
       "    </tr>\n",
       "    <tr>\n",
       "      <th>4</th>\n",
       "      <td>76</td>\n",
       "      <td>1</td>\n",
       "      <td>0</td>\n",
       "      <td>1</td>\n",
       "      <td>0</td>\n",
       "      <td>0</td>\n",
       "      <td>0</td>\n",
       "      <td>69</td>\n",
       "      <td>78</td>\n",
       "      <td>21</td>\n",
       "      <td>46</td>\n",
       "      <td>1</td>\n",
       "      <td>1</td>\n",
       "      <td>0</td>\n",
       "      <td>3</td>\n",
       "      <td>4</td>\n",
       "      <td>4</td>\n",
       "      <td>45</td>\n",
       "      <td>55</td>\n",
       "      <td>0</td>\n",
       "    </tr>\n",
       "  </tbody>\n",
       "</table>\n",
       "</div>"
      ],
      "text/plain": [
       "   current_minute  home_score  away_score  home_yellow_cards  \\\n",
       "0              94           1           2                  0   \n",
       "1              91           2           0                  0   \n",
       "2               3           0           0                  0   \n",
       "3              17           0           0                  1   \n",
       "4              76           1           0                  1   \n",
       "\n",
       "   away_yellow_cards  home_red_cards  away_red_cards  home_attacks  \\\n",
       "0                  0               0               0            39   \n",
       "1                  0               0               0             0   \n",
       "2                  0               0               0             3   \n",
       "3                  0               0               0            41   \n",
       "4                  0               0               0            69   \n",
       "\n",
       "   away_attacks  home_dangerous_attacks  away_dangerous_attacks  home_corners  \\\n",
       "0            45                      29                      26             4   \n",
       "1             0                       0                       0             0   \n",
       "2             1                       1                       0             0   \n",
       "3            46                      11                      25             1   \n",
       "4            78                      21                      46             1   \n",
       "\n",
       "   away_corners  home_off_target  away_off_target  home_on_target  \\\n",
       "0             1                4                0               4   \n",
       "1             0                0                0               0   \n",
       "2             0                0                0               0   \n",
       "3             0                0                2               0   \n",
       "4             1                0                3               4   \n",
       "\n",
       "   away_on_target  home_possession  away_possession  final_delta  \n",
       "0               6               48               52            1  \n",
       "1               0               50               50            1  \n",
       "2               0               62               38            4  \n",
       "3               0               55               45            2  \n",
       "4               4               45               55            0  "
      ]
     },
     "execution_count": 3,
     "metadata": {},
     "output_type": "execute_result"
    }
   ],
   "source": [
    "df = df.drop('uuid', axis=1)\n",
    "df.head()"
   ]
  },
  {
   "cell_type": "markdown",
   "id": "8723b796-37ae-4ce7-aa14-2da9d0f2632b",
   "metadata": {},
   "source": [
    "We will now begin cleaning the data.\n",
    "\n",
    "First, we will check if there are any null or missing values."
   ]
  },
  {
   "cell_type": "code",
   "execution_count": 4,
   "id": "50ed45c1-190c-473f-9d6e-b76ddaca6c97",
   "metadata": {},
   "outputs": [
    {
     "data": {
      "text/plain": [
       "current_minute            False\n",
       "home_score                False\n",
       "away_score                False\n",
       "home_yellow_cards         False\n",
       "away_yellow_cards         False\n",
       "home_red_cards            False\n",
       "away_red_cards            False\n",
       "home_attacks              False\n",
       "away_attacks              False\n",
       "home_dangerous_attacks    False\n",
       "away_dangerous_attacks    False\n",
       "home_corners              False\n",
       "away_corners              False\n",
       "home_off_target           False\n",
       "away_off_target           False\n",
       "home_on_target            False\n",
       "away_on_target            False\n",
       "home_possession           False\n",
       "away_possession           False\n",
       "final_delta               False\n",
       "dtype: bool"
      ]
     },
     "execution_count": 4,
     "metadata": {},
     "output_type": "execute_result"
    }
   ],
   "source": [
    "df.isnull().any()"
   ]
  },
  {
   "cell_type": "markdown",
   "id": "23b7d832-e5a8-4b55-863c-e514bd7175d6",
   "metadata": {},
   "source": [
    "Based on the output above, we can see that they are all `False`, indicating that there are no null or missing values."
   ]
  },
  {
   "cell_type": "markdown",
   "id": "a46998a9-afe3-423a-a5e8-637b6325cad1",
   "metadata": {},
   "source": [
    "We will next check if the data types of the variables are consistent."
   ]
  },
  {
   "cell_type": "code",
   "execution_count": 5,
   "id": "521de943-4f72-4ccf-9698-6e0b8d3f597b",
   "metadata": {},
   "outputs": [
    {
     "name": "stdout",
     "output_type": "stream",
     "text": [
      "<class 'pandas.core.frame.DataFrame'>\n",
      "RangeIndex: 7000 entries, 0 to 6999\n",
      "Data columns (total 20 columns):\n",
      " #   Column                  Non-Null Count  Dtype\n",
      "---  ------                  --------------  -----\n",
      " 0   current_minute          7000 non-null   int64\n",
      " 1   home_score              7000 non-null   int64\n",
      " 2   away_score              7000 non-null   int64\n",
      " 3   home_yellow_cards       7000 non-null   int64\n",
      " 4   away_yellow_cards       7000 non-null   int64\n",
      " 5   home_red_cards          7000 non-null   int64\n",
      " 6   away_red_cards          7000 non-null   int64\n",
      " 7   home_attacks            7000 non-null   int64\n",
      " 8   away_attacks            7000 non-null   int64\n",
      " 9   home_dangerous_attacks  7000 non-null   int64\n",
      " 10  away_dangerous_attacks  7000 non-null   int64\n",
      " 11  home_corners            7000 non-null   int64\n",
      " 12  away_corners            7000 non-null   int64\n",
      " 13  home_off_target         7000 non-null   int64\n",
      " 14  away_off_target         7000 non-null   int64\n",
      " 15  home_on_target          7000 non-null   int64\n",
      " 16  away_on_target          7000 non-null   int64\n",
      " 17  home_possession         7000 non-null   int64\n",
      " 18  away_possession         7000 non-null   int64\n",
      " 19  final_delta             7000 non-null   int64\n",
      "dtypes: int64(20)\n",
      "memory usage: 1.1 MB\n"
     ]
    }
   ],
   "source": [
    "df.info()"
   ]
  },
  {
   "cell_type": "markdown",
   "id": "8596eea5-7afd-4442-a771-8c373ca764f3",
   "metadata": {},
   "source": [
    "Based on the output, we can see that all items in the data are non-null and have the integer data type."
   ]
  },
  {
   "cell_type": "markdown",
   "id": "beafad09-3707-470f-b136-b6aef9d15aac",
   "metadata": {},
   "source": [
    "We will now check if there are any default values within the data, which can be indicated by values that go beyond the data range (ex. below the minimum values or above the maximum)"
   ]
  },
  {
   "cell_type": "code",
   "execution_count": 6,
   "id": "5e395b69-85c0-4129-9127-bd20577f1269",
   "metadata": {},
   "outputs": [
    {
     "data": {
      "text/html": [
       "<div>\n",
       "<style scoped>\n",
       "    .dataframe tbody tr th:only-of-type {\n",
       "        vertical-align: middle;\n",
       "    }\n",
       "\n",
       "    .dataframe tbody tr th {\n",
       "        vertical-align: top;\n",
       "    }\n",
       "\n",
       "    .dataframe thead th {\n",
       "        text-align: right;\n",
       "    }\n",
       "</style>\n",
       "<table border=\"1\" class=\"dataframe\">\n",
       "  <thead>\n",
       "    <tr style=\"text-align: right;\">\n",
       "      <th></th>\n",
       "      <th>current_minute</th>\n",
       "      <th>home_score</th>\n",
       "      <th>away_score</th>\n",
       "      <th>home_yellow_cards</th>\n",
       "      <th>away_yellow_cards</th>\n",
       "      <th>home_red_cards</th>\n",
       "      <th>away_red_cards</th>\n",
       "      <th>home_attacks</th>\n",
       "      <th>away_attacks</th>\n",
       "      <th>home_dangerous_attacks</th>\n",
       "      <th>away_dangerous_attacks</th>\n",
       "      <th>home_corners</th>\n",
       "      <th>away_corners</th>\n",
       "      <th>home_off_target</th>\n",
       "      <th>away_off_target</th>\n",
       "      <th>home_on_target</th>\n",
       "      <th>away_on_target</th>\n",
       "      <th>home_possession</th>\n",
       "      <th>away_possession</th>\n",
       "      <th>final_delta</th>\n",
       "    </tr>\n",
       "  </thead>\n",
       "  <tbody>\n",
       "    <tr>\n",
       "      <th>count</th>\n",
       "      <td>7000.000000</td>\n",
       "      <td>7000.000000</td>\n",
       "      <td>7000.000000</td>\n",
       "      <td>7000.000000</td>\n",
       "      <td>7000.000000</td>\n",
       "      <td>7000.000000</td>\n",
       "      <td>7000.000000</td>\n",
       "      <td>7000.000000</td>\n",
       "      <td>7000.000000</td>\n",
       "      <td>7000.000000</td>\n",
       "      <td>7000.000000</td>\n",
       "      <td>7000.000000</td>\n",
       "      <td>7000.000000</td>\n",
       "      <td>7000.000000</td>\n",
       "      <td>7000.000000</td>\n",
       "      <td>7000.000000</td>\n",
       "      <td>7000.000000</td>\n",
       "      <td>7000.000000</td>\n",
       "      <td>7000.000000</td>\n",
       "      <td>7000.000000</td>\n",
       "    </tr>\n",
       "    <tr>\n",
       "      <th>mean</th>\n",
       "      <td>59.491571</td>\n",
       "      <td>0.796000</td>\n",
       "      <td>0.623143</td>\n",
       "      <td>0.522429</td>\n",
       "      <td>0.603143</td>\n",
       "      <td>0.009286</td>\n",
       "      <td>0.015714</td>\n",
       "      <td>46.365429</td>\n",
       "      <td>43.325143</td>\n",
       "      <td>27.611429</td>\n",
       "      <td>24.201286</td>\n",
       "      <td>2.377714</td>\n",
       "      <td>1.994286</td>\n",
       "      <td>3.067857</td>\n",
       "      <td>2.592286</td>\n",
       "      <td>2.172143</td>\n",
       "      <td>1.796000</td>\n",
       "      <td>51.584286</td>\n",
       "      <td>48.412571</td>\n",
       "      <td>1.416857</td>\n",
       "    </tr>\n",
       "    <tr>\n",
       "      <th>std</th>\n",
       "      <td>35.827892</td>\n",
       "      <td>1.070503</td>\n",
       "      <td>0.923248</td>\n",
       "      <td>0.922212</td>\n",
       "      <td>1.018021</td>\n",
       "      <td>0.097399</td>\n",
       "      <td>0.125520</td>\n",
       "      <td>36.004908</td>\n",
       "      <td>33.428276</td>\n",
       "      <td>22.977844</td>\n",
       "      <td>20.457007</td>\n",
       "      <td>2.464647</td>\n",
       "      <td>2.197746</td>\n",
       "      <td>3.157366</td>\n",
       "      <td>2.747621</td>\n",
       "      <td>2.320374</td>\n",
       "      <td>2.026002</td>\n",
       "      <td>10.532584</td>\n",
       "      <td>10.534579</td>\n",
       "      <td>1.419035</td>\n",
       "    </tr>\n",
       "    <tr>\n",
       "      <th>min</th>\n",
       "      <td>-348.000000</td>\n",
       "      <td>0.000000</td>\n",
       "      <td>0.000000</td>\n",
       "      <td>0.000000</td>\n",
       "      <td>0.000000</td>\n",
       "      <td>0.000000</td>\n",
       "      <td>0.000000</td>\n",
       "      <td>0.000000</td>\n",
       "      <td>0.000000</td>\n",
       "      <td>0.000000</td>\n",
       "      <td>0.000000</td>\n",
       "      <td>0.000000</td>\n",
       "      <td>0.000000</td>\n",
       "      <td>0.000000</td>\n",
       "      <td>0.000000</td>\n",
       "      <td>0.000000</td>\n",
       "      <td>0.000000</td>\n",
       "      <td>0.000000</td>\n",
       "      <td>0.000000</td>\n",
       "      <td>-2.000000</td>\n",
       "    </tr>\n",
       "    <tr>\n",
       "      <th>25%</th>\n",
       "      <td>28.000000</td>\n",
       "      <td>0.000000</td>\n",
       "      <td>0.000000</td>\n",
       "      <td>0.000000</td>\n",
       "      <td>0.000000</td>\n",
       "      <td>0.000000</td>\n",
       "      <td>0.000000</td>\n",
       "      <td>15.000000</td>\n",
       "      <td>14.000000</td>\n",
       "      <td>8.000000</td>\n",
       "      <td>7.000000</td>\n",
       "      <td>0.000000</td>\n",
       "      <td>0.000000</td>\n",
       "      <td>0.000000</td>\n",
       "      <td>0.000000</td>\n",
       "      <td>0.000000</td>\n",
       "      <td>0.000000</td>\n",
       "      <td>46.000000</td>\n",
       "      <td>42.000000</td>\n",
       "      <td>0.000000</td>\n",
       "    </tr>\n",
       "    <tr>\n",
       "      <th>50%</th>\n",
       "      <td>70.000000</td>\n",
       "      <td>0.000000</td>\n",
       "      <td>0.000000</td>\n",
       "      <td>0.000000</td>\n",
       "      <td>0.000000</td>\n",
       "      <td>0.000000</td>\n",
       "      <td>0.000000</td>\n",
       "      <td>43.000000</td>\n",
       "      <td>41.000000</td>\n",
       "      <td>25.000000</td>\n",
       "      <td>21.000000</td>\n",
       "      <td>2.000000</td>\n",
       "      <td>1.000000</td>\n",
       "      <td>2.000000</td>\n",
       "      <td>2.000000</td>\n",
       "      <td>2.000000</td>\n",
       "      <td>1.000000</td>\n",
       "      <td>51.000000</td>\n",
       "      <td>49.000000</td>\n",
       "      <td>1.000000</td>\n",
       "    </tr>\n",
       "    <tr>\n",
       "      <th>75%</th>\n",
       "      <td>88.000000</td>\n",
       "      <td>1.000000</td>\n",
       "      <td>1.000000</td>\n",
       "      <td>1.000000</td>\n",
       "      <td>1.000000</td>\n",
       "      <td>0.000000</td>\n",
       "      <td>0.000000</td>\n",
       "      <td>71.000000</td>\n",
       "      <td>67.000000</td>\n",
       "      <td>42.000000</td>\n",
       "      <td>36.000000</td>\n",
       "      <td>4.000000</td>\n",
       "      <td>3.000000</td>\n",
       "      <td>5.000000</td>\n",
       "      <td>4.000000</td>\n",
       "      <td>3.000000</td>\n",
       "      <td>3.000000</td>\n",
       "      <td>58.000000</td>\n",
       "      <td>54.000000</td>\n",
       "      <td>2.000000</td>\n",
       "    </tr>\n",
       "    <tr>\n",
       "      <th>max</th>\n",
       "      <td>583.000000</td>\n",
       "      <td>8.000000</td>\n",
       "      <td>9.000000</td>\n",
       "      <td>8.000000</td>\n",
       "      <td>8.000000</td>\n",
       "      <td>2.000000</td>\n",
       "      <td>2.000000</td>\n",
       "      <td>255.000000</td>\n",
       "      <td>183.000000</td>\n",
       "      <td>134.000000</td>\n",
       "      <td>140.000000</td>\n",
       "      <td>16.000000</td>\n",
       "      <td>18.000000</td>\n",
       "      <td>24.000000</td>\n",
       "      <td>18.000000</td>\n",
       "      <td>22.000000</td>\n",
       "      <td>19.000000</td>\n",
       "      <td>100.000000</td>\n",
       "      <td>100.000000</td>\n",
       "      <td>10.000000</td>\n",
       "    </tr>\n",
       "  </tbody>\n",
       "</table>\n",
       "</div>"
      ],
      "text/plain": [
       "       current_minute   home_score   away_score  home_yellow_cards  \\\n",
       "count     7000.000000  7000.000000  7000.000000        7000.000000   \n",
       "mean        59.491571     0.796000     0.623143           0.522429   \n",
       "std         35.827892     1.070503     0.923248           0.922212   \n",
       "min       -348.000000     0.000000     0.000000           0.000000   \n",
       "25%         28.000000     0.000000     0.000000           0.000000   \n",
       "50%         70.000000     0.000000     0.000000           0.000000   \n",
       "75%         88.000000     1.000000     1.000000           1.000000   \n",
       "max        583.000000     8.000000     9.000000           8.000000   \n",
       "\n",
       "       away_yellow_cards  home_red_cards  away_red_cards  home_attacks  \\\n",
       "count        7000.000000     7000.000000     7000.000000   7000.000000   \n",
       "mean            0.603143        0.009286        0.015714     46.365429   \n",
       "std             1.018021        0.097399        0.125520     36.004908   \n",
       "min             0.000000        0.000000        0.000000      0.000000   \n",
       "25%             0.000000        0.000000        0.000000     15.000000   \n",
       "50%             0.000000        0.000000        0.000000     43.000000   \n",
       "75%             1.000000        0.000000        0.000000     71.000000   \n",
       "max             8.000000        2.000000        2.000000    255.000000   \n",
       "\n",
       "       away_attacks  home_dangerous_attacks  away_dangerous_attacks  \\\n",
       "count   7000.000000             7000.000000             7000.000000   \n",
       "mean      43.325143               27.611429               24.201286   \n",
       "std       33.428276               22.977844               20.457007   \n",
       "min        0.000000                0.000000                0.000000   \n",
       "25%       14.000000                8.000000                7.000000   \n",
       "50%       41.000000               25.000000               21.000000   \n",
       "75%       67.000000               42.000000               36.000000   \n",
       "max      183.000000              134.000000              140.000000   \n",
       "\n",
       "       home_corners  away_corners  home_off_target  away_off_target  \\\n",
       "count   7000.000000   7000.000000      7000.000000      7000.000000   \n",
       "mean       2.377714      1.994286         3.067857         2.592286   \n",
       "std        2.464647      2.197746         3.157366         2.747621   \n",
       "min        0.000000      0.000000         0.000000         0.000000   \n",
       "25%        0.000000      0.000000         0.000000         0.000000   \n",
       "50%        2.000000      1.000000         2.000000         2.000000   \n",
       "75%        4.000000      3.000000         5.000000         4.000000   \n",
       "max       16.000000     18.000000        24.000000        18.000000   \n",
       "\n",
       "       home_on_target  away_on_target  home_possession  away_possession  \\\n",
       "count     7000.000000     7000.000000      7000.000000      7000.000000   \n",
       "mean         2.172143        1.796000        51.584286        48.412571   \n",
       "std          2.320374        2.026002        10.532584        10.534579   \n",
       "min          0.000000        0.000000         0.000000         0.000000   \n",
       "25%          0.000000        0.000000        46.000000        42.000000   \n",
       "50%          2.000000        1.000000        51.000000        49.000000   \n",
       "75%          3.000000        3.000000        58.000000        54.000000   \n",
       "max         22.000000       19.000000       100.000000       100.000000   \n",
       "\n",
       "       final_delta  \n",
       "count  7000.000000  \n",
       "mean      1.416857  \n",
       "std       1.419035  \n",
       "min      -2.000000  \n",
       "25%       0.000000  \n",
       "50%       1.000000  \n",
       "75%       2.000000  \n",
       "max      10.000000  "
      ]
     },
     "execution_count": 6,
     "metadata": {},
     "output_type": "execute_result"
    }
   ],
   "source": [
    "df.describe()"
   ]
  },
  {
   "cell_type": "markdown",
   "id": "c44cc2dc-4e40-412b-acf2-cc25de44b64f",
   "metadata": {},
   "source": [
    "Based on the output above, we can note the following:\n",
    "- The minimum value of **`current_minute`** is a negative value, while the maximum value goes beyond the total match time. \n",
    "- The minimum and maximum values of the remaining features are within the proper range.\n",
    "- `home_possession` and `away_possession` are correctly within 0 and 100"
   ]
  },
  {
   "cell_type": "markdown",
   "id": "38f6fa39-7be2-48e9-a2e1-38c09c1038c6",
   "metadata": {},
   "source": [
    "Since for this project we will be predicting whether the home team is winning or losing, we would ideally want the match to have sufficient data to be able to accurately predict this. If the match has barely begun, there might not be enough data to create an accurate prediction, and this may also skew the training data.\n",
    "\n",
    "With this, we will only use the match data for games that are either from the break time (eg. the middle of the game) or in the game's second half."
   ]
  },
  {
   "cell_type": "code",
   "execution_count": 7,
   "id": "6934ec14-6885-4697-bf9a-f5337b906113",
   "metadata": {},
   "outputs": [
    {
     "data": {
      "text/plain": [
       "count    4112.000000\n",
       "mean       82.137889\n",
       "std        14.433778\n",
       "min        45.000000\n",
       "25%        73.000000\n",
       "50%        83.000000\n",
       "75%        94.000000\n",
       "max       105.000000\n",
       "Name: current_minute, dtype: float64"
      ]
     },
     "execution_count": 7,
     "metadata": {},
     "output_type": "execute_result"
    }
   ],
   "source": [
    "df = df[ df['current_minute'] >= 45 ]\n",
    "df = df[ df['current_minute'] <= 105 ]\n",
    "df['current_minute'].describe()"
   ]
  },
  {
   "cell_type": "code",
   "execution_count": 8,
   "id": "b1a26414-fe15-4218-9b2c-ba5bad142836",
   "metadata": {},
   "outputs": [
    {
     "data": {
      "text/plain": [
       "4112"
      ]
     },
     "execution_count": 8,
     "metadata": {},
     "output_type": "execute_result"
    }
   ],
   "source": [
    "len(df)"
   ]
  },
  {
   "cell_type": "markdown",
   "id": "55ddf8d0-9c27-4c40-9a82-52c81ada807d",
   "metadata": {},
   "source": [
    "As shown, the values for **`current_minute`** are now within the appropriate time range.\n",
    "\n",
    "This now leaves us with 4112 items in the dataset."
   ]
  },
  {
   "cell_type": "markdown",
   "id": "d4a9aa71-1740-462d-a546-7ca92db2b9f8",
   "metadata": {},
   "source": [
    "We will now drop any duplicated data."
   ]
  },
  {
   "cell_type": "code",
   "execution_count": 9,
   "id": "6dcc5c63-ae6e-4d87-bdd3-c1cb53af3454",
   "metadata": {},
   "outputs": [
    {
     "data": {
      "text/plain": [
       "4112"
      ]
     },
     "execution_count": 9,
     "metadata": {},
     "output_type": "execute_result"
    }
   ],
   "source": [
    "df.drop_duplicates()\n",
    "len(df)"
   ]
  },
  {
   "cell_type": "markdown",
   "id": "7a0f6c51-24fd-422b-b43b-64ceeac24941",
   "metadata": {},
   "source": [
    "The number of rows in the dataset did not change, indicating that there were no duplicates."
   ]
  },
  {
   "cell_type": "markdown",
   "id": "1a00c160-025f-4fa4-9177-b5b06551fffa",
   "metadata": {},
   "source": [
    "Lastly, since we are only checking whether or not the home team is winning, we will remove any draw games from the dataset. This is indicated by games where the number of points of the home and away team are equal."
   ]
  },
  {
   "cell_type": "code",
   "execution_count": 10,
   "id": "53a9974a-cd58-4bee-83fc-c60766d2d134",
   "metadata": {},
   "outputs": [
    {
     "data": {
      "text/plain": [
       "2824"
      ]
     },
     "execution_count": 10,
     "metadata": {},
     "output_type": "execute_result"
    }
   ],
   "source": [
    "df = df[ (df['home_score'] != df['away_score']) ]\n",
    "len(df)"
   ]
  },
  {
   "cell_type": "markdown",
   "id": "f901b9c3-4d24-4b4b-8c35-0efab2a946d7",
   "metadata": {},
   "source": [
    "This now leaves us with 2824 items in the dataset."
   ]
  },
  {
   "cell_type": "markdown",
   "id": "321fef29-bc2f-402d-8b85-5538c3f2099d",
   "metadata": {},
   "source": [
    "With the data cleaned, we will now create columns for the extra features that will be used in this project. Since we will need to determine whether or not the home team is winning, we can create an extra variable named **`home_is_winning`**, which will be a boolean variable of whether or not the home team's score is higher than the away team's.\n",
    "\n",
    "As shown in the dataset, a majority of the variables come in pairs, with one corresponding to the home team and the other to the away team. For the remaining features used, we will merge these pairs into a single feature, denoted by the difference of the home team's statistic and the away team's statistic. This will be done to simplify the features used into a single variable, which can make the modelling process easier to perform.\n",
    "\n",
    "Below is an explanation of the extra features that will be added:\n",
    "1. **`yellow_cards_difference`** - The difference between the home `home_yellow_cards` and the away `away_yellow_cards`.\n",
    "2. **`red_cards_difference`** - The difference between the home `home_red_cards` and the away `away_red_cards`.\n",
    "3. **`attacks_difference`** - The difference between the home `home_attacks` and the away `away_attacks`.\n",
    "4. **`dangerous_attacks_difference`** - The difference between the home `home_dangerous_attacks` and the away `away_dangerous_attacks`.\n",
    "5. **`corners_difference`** - The difference between the home `home_corners` and the away `away_corners`.\n",
    "6. **`off_target_difference`** - The difference between the home `home_off_target` and the away `away_off_target`.\n",
    "7. **`on_target_difference`** - The difference between the home `home_on_target` and the away `away_on_target`.\n",
    "8. **`home_possesion`** - Because `home_possession` and `away_possession` percentages directly mirror the distribution of possesion between the home and away teams during a soccer match, we only need one, `home_possesion` is used as all differences is the difference of the home team to the away team (home statistic minus away statistic)."
   ]
  },
  {
   "cell_type": "markdown",
   "id": "d802b452-4207-4045-b13b-6e57d806d85e",
   "metadata": {},
   "source": [
    "We will no longer need the current_minute feature (as explained in the previous section) and final_delta (because it is not explained in the dataset)."
   ]
  },
  {
   "cell_type": "code",
   "execution_count": 11,
   "id": "a172a6d0-d977-4076-a922-e45ae7408cb1",
   "metadata": {},
   "outputs": [],
   "source": [
    "df = df.drop('current_minute', axis=1)\n",
    "df = df.drop('final_delta', axis=1)"
   ]
  },
  {
   "cell_type": "code",
   "execution_count": 12,
   "id": "6ce2fcf1-a28d-4569-9ce2-e7fd4ded61ce",
   "metadata": {},
   "outputs": [
    {
     "data": {
      "text/html": [
       "<div>\n",
       "<style scoped>\n",
       "    .dataframe tbody tr th:only-of-type {\n",
       "        vertical-align: middle;\n",
       "    }\n",
       "\n",
       "    .dataframe tbody tr th {\n",
       "        vertical-align: top;\n",
       "    }\n",
       "\n",
       "    .dataframe thead th {\n",
       "        text-align: right;\n",
       "    }\n",
       "</style>\n",
       "<table border=\"1\" class=\"dataframe\">\n",
       "  <thead>\n",
       "    <tr style=\"text-align: right;\">\n",
       "      <th></th>\n",
       "      <th>home_score</th>\n",
       "      <th>away_score</th>\n",
       "      <th>home_yellow_cards</th>\n",
       "      <th>away_yellow_cards</th>\n",
       "      <th>home_red_cards</th>\n",
       "      <th>away_red_cards</th>\n",
       "      <th>home_attacks</th>\n",
       "      <th>away_attacks</th>\n",
       "      <th>home_dangerous_attacks</th>\n",
       "      <th>away_dangerous_attacks</th>\n",
       "      <th>home_corners</th>\n",
       "      <th>away_corners</th>\n",
       "      <th>home_off_target</th>\n",
       "      <th>away_off_target</th>\n",
       "      <th>home_on_target</th>\n",
       "      <th>away_on_target</th>\n",
       "      <th>home_possession</th>\n",
       "      <th>away_possession</th>\n",
       "      <th>home_is_winning</th>\n",
       "    </tr>\n",
       "  </thead>\n",
       "  <tbody>\n",
       "    <tr>\n",
       "      <th>0</th>\n",
       "      <td>1</td>\n",
       "      <td>2</td>\n",
       "      <td>0</td>\n",
       "      <td>0</td>\n",
       "      <td>0</td>\n",
       "      <td>0</td>\n",
       "      <td>39</td>\n",
       "      <td>45</td>\n",
       "      <td>29</td>\n",
       "      <td>26</td>\n",
       "      <td>4</td>\n",
       "      <td>1</td>\n",
       "      <td>4</td>\n",
       "      <td>0</td>\n",
       "      <td>4</td>\n",
       "      <td>6</td>\n",
       "      <td>48</td>\n",
       "      <td>52</td>\n",
       "      <td>0</td>\n",
       "    </tr>\n",
       "    <tr>\n",
       "      <th>1</th>\n",
       "      <td>2</td>\n",
       "      <td>0</td>\n",
       "      <td>0</td>\n",
       "      <td>0</td>\n",
       "      <td>0</td>\n",
       "      <td>0</td>\n",
       "      <td>0</td>\n",
       "      <td>0</td>\n",
       "      <td>0</td>\n",
       "      <td>0</td>\n",
       "      <td>0</td>\n",
       "      <td>0</td>\n",
       "      <td>0</td>\n",
       "      <td>0</td>\n",
       "      <td>0</td>\n",
       "      <td>0</td>\n",
       "      <td>50</td>\n",
       "      <td>50</td>\n",
       "      <td>1</td>\n",
       "    </tr>\n",
       "    <tr>\n",
       "      <th>4</th>\n",
       "      <td>1</td>\n",
       "      <td>0</td>\n",
       "      <td>1</td>\n",
       "      <td>0</td>\n",
       "      <td>0</td>\n",
       "      <td>0</td>\n",
       "      <td>69</td>\n",
       "      <td>78</td>\n",
       "      <td>21</td>\n",
       "      <td>46</td>\n",
       "      <td>1</td>\n",
       "      <td>1</td>\n",
       "      <td>0</td>\n",
       "      <td>3</td>\n",
       "      <td>4</td>\n",
       "      <td>4</td>\n",
       "      <td>45</td>\n",
       "      <td>55</td>\n",
       "      <td>1</td>\n",
       "    </tr>\n",
       "    <tr>\n",
       "      <th>5</th>\n",
       "      <td>2</td>\n",
       "      <td>0</td>\n",
       "      <td>0</td>\n",
       "      <td>0</td>\n",
       "      <td>0</td>\n",
       "      <td>0</td>\n",
       "      <td>87</td>\n",
       "      <td>72</td>\n",
       "      <td>40</td>\n",
       "      <td>35</td>\n",
       "      <td>3</td>\n",
       "      <td>2</td>\n",
       "      <td>4</td>\n",
       "      <td>4</td>\n",
       "      <td>3</td>\n",
       "      <td>3</td>\n",
       "      <td>50</td>\n",
       "      <td>50</td>\n",
       "      <td>1</td>\n",
       "    </tr>\n",
       "    <tr>\n",
       "      <th>8</th>\n",
       "      <td>0</td>\n",
       "      <td>2</td>\n",
       "      <td>0</td>\n",
       "      <td>0</td>\n",
       "      <td>0</td>\n",
       "      <td>0</td>\n",
       "      <td>27</td>\n",
       "      <td>41</td>\n",
       "      <td>20</td>\n",
       "      <td>31</td>\n",
       "      <td>2</td>\n",
       "      <td>2</td>\n",
       "      <td>1</td>\n",
       "      <td>3</td>\n",
       "      <td>1</td>\n",
       "      <td>4</td>\n",
       "      <td>36</td>\n",
       "      <td>64</td>\n",
       "      <td>0</td>\n",
       "    </tr>\n",
       "  </tbody>\n",
       "</table>\n",
       "</div>"
      ],
      "text/plain": [
       "   home_score  away_score  home_yellow_cards  away_yellow_cards  \\\n",
       "0           1           2                  0                  0   \n",
       "1           2           0                  0                  0   \n",
       "4           1           0                  1                  0   \n",
       "5           2           0                  0                  0   \n",
       "8           0           2                  0                  0   \n",
       "\n",
       "   home_red_cards  away_red_cards  home_attacks  away_attacks  \\\n",
       "0               0               0            39            45   \n",
       "1               0               0             0             0   \n",
       "4               0               0            69            78   \n",
       "5               0               0            87            72   \n",
       "8               0               0            27            41   \n",
       "\n",
       "   home_dangerous_attacks  away_dangerous_attacks  home_corners  away_corners  \\\n",
       "0                      29                      26             4             1   \n",
       "1                       0                       0             0             0   \n",
       "4                      21                      46             1             1   \n",
       "5                      40                      35             3             2   \n",
       "8                      20                      31             2             2   \n",
       "\n",
       "   home_off_target  away_off_target  home_on_target  away_on_target  \\\n",
       "0                4                0               4               6   \n",
       "1                0                0               0               0   \n",
       "4                0                3               4               4   \n",
       "5                4                4               3               3   \n",
       "8                1                3               1               4   \n",
       "\n",
       "   home_possession  away_possession  home_is_winning  \n",
       "0               48               52                0  \n",
       "1               50               50                1  \n",
       "4               45               55                1  \n",
       "5               50               50                1  \n",
       "8               36               64                0  "
      ]
     },
     "execution_count": 12,
     "metadata": {},
     "output_type": "execute_result"
    }
   ],
   "source": [
    "# Add home_is_winning feature\n",
    "create_new_column = lambda row: 1 if (row[\"home_score\"] > row[\"away_score\"]) else 0\n",
    "added_column = df.apply(create_new_column, axis=1)\n",
    "df[\"home_is_winning\"] = added_column\n",
    "df.head()"
   ]
  },
  {
   "cell_type": "markdown",
   "id": "0904382d-6a4e-4bfe-96d3-61acad3c390e",
   "metadata": {},
   "source": [
    "Now that we have used the `home_score` and the `away_score` to create the `home_is_winning` output, then we can remove them (as explained in the previous section)."
   ]
  },
  {
   "cell_type": "code",
   "execution_count": 13,
   "id": "8570f537-3ac5-4cb5-b080-458f63aba8e0",
   "metadata": {},
   "outputs": [],
   "source": [
    "df = df.drop('home_score', axis=1)\n",
    "df = df.drop('away_score', axis=1)"
   ]
  },
  {
   "cell_type": "markdown",
   "id": "5a4e41c1-af43-492b-afbe-4be519c80444",
   "metadata": {},
   "source": [
    "Now, let's replace the original features in the dataset with the paired features identified."
   ]
  },
  {
   "cell_type": "code",
   "execution_count": 14,
   "id": "8969714d-ab1b-4cda-a65b-37274d9d6290",
   "metadata": {},
   "outputs": [],
   "source": [
    "def add_difference_col(df, home_var, away_var, new_var):\n",
    "    # create new column\n",
    "    create_new_column = lambda row: row[home_var] - row[away_var]\n",
    "    added_column = df.apply(create_new_column, axis=1)\n",
    "    # add new column\n",
    "    df[new_var] = added_column\n",
    "\n",
    "    return df"
   ]
  },
  {
   "cell_type": "code",
   "execution_count": 15,
   "id": "4b99b356-b4cb-4a69-bdca-285f78c5fb7b",
   "metadata": {},
   "outputs": [
    {
     "name": "stdout",
     "output_type": "stream",
     "text": [
      "New columns:\n",
      "home_yellow_cards  -  away_yellow_cards  =  yellow_cards_difference\n",
      "home_red_cards  -  away_red_cards  =  red_cards_difference\n",
      "home_attacks  -  away_attacks  =  attacks_difference\n",
      "home_dangerous_attacks  -  away_dangerous_attacks  =  dangerous_attacks_difference\n",
      "home_corners  -  away_corners  =  corners_difference\n",
      "home_off_target  -  away_off_target  =  off_target_difference\n",
      "home_on_target  -  away_on_target  =  on_target_difference\n"
     ]
    },
    {
     "data": {
      "text/html": [
       "<div>\n",
       "<style scoped>\n",
       "    .dataframe tbody tr th:only-of-type {\n",
       "        vertical-align: middle;\n",
       "    }\n",
       "\n",
       "    .dataframe tbody tr th {\n",
       "        vertical-align: top;\n",
       "    }\n",
       "\n",
       "    .dataframe thead th {\n",
       "        text-align: right;\n",
       "    }\n",
       "</style>\n",
       "<table border=\"1\" class=\"dataframe\">\n",
       "  <thead>\n",
       "    <tr style=\"text-align: right;\">\n",
       "      <th></th>\n",
       "      <th>home_yellow_cards</th>\n",
       "      <th>away_yellow_cards</th>\n",
       "      <th>home_red_cards</th>\n",
       "      <th>away_red_cards</th>\n",
       "      <th>home_attacks</th>\n",
       "      <th>away_attacks</th>\n",
       "      <th>home_dangerous_attacks</th>\n",
       "      <th>away_dangerous_attacks</th>\n",
       "      <th>home_corners</th>\n",
       "      <th>away_corners</th>\n",
       "      <th>...</th>\n",
       "      <th>home_possession</th>\n",
       "      <th>away_possession</th>\n",
       "      <th>home_is_winning</th>\n",
       "      <th>yellow_cards_difference</th>\n",
       "      <th>red_cards_difference</th>\n",
       "      <th>attacks_difference</th>\n",
       "      <th>dangerous_attacks_difference</th>\n",
       "      <th>corners_difference</th>\n",
       "      <th>off_target_difference</th>\n",
       "      <th>on_target_difference</th>\n",
       "    </tr>\n",
       "  </thead>\n",
       "  <tbody>\n",
       "    <tr>\n",
       "      <th>0</th>\n",
       "      <td>0</td>\n",
       "      <td>0</td>\n",
       "      <td>0</td>\n",
       "      <td>0</td>\n",
       "      <td>39</td>\n",
       "      <td>45</td>\n",
       "      <td>29</td>\n",
       "      <td>26</td>\n",
       "      <td>4</td>\n",
       "      <td>1</td>\n",
       "      <td>...</td>\n",
       "      <td>48</td>\n",
       "      <td>52</td>\n",
       "      <td>0</td>\n",
       "      <td>0</td>\n",
       "      <td>0</td>\n",
       "      <td>-6</td>\n",
       "      <td>3</td>\n",
       "      <td>3</td>\n",
       "      <td>4</td>\n",
       "      <td>-2</td>\n",
       "    </tr>\n",
       "    <tr>\n",
       "      <th>1</th>\n",
       "      <td>0</td>\n",
       "      <td>0</td>\n",
       "      <td>0</td>\n",
       "      <td>0</td>\n",
       "      <td>0</td>\n",
       "      <td>0</td>\n",
       "      <td>0</td>\n",
       "      <td>0</td>\n",
       "      <td>0</td>\n",
       "      <td>0</td>\n",
       "      <td>...</td>\n",
       "      <td>50</td>\n",
       "      <td>50</td>\n",
       "      <td>1</td>\n",
       "      <td>0</td>\n",
       "      <td>0</td>\n",
       "      <td>0</td>\n",
       "      <td>0</td>\n",
       "      <td>0</td>\n",
       "      <td>0</td>\n",
       "      <td>0</td>\n",
       "    </tr>\n",
       "    <tr>\n",
       "      <th>4</th>\n",
       "      <td>1</td>\n",
       "      <td>0</td>\n",
       "      <td>0</td>\n",
       "      <td>0</td>\n",
       "      <td>69</td>\n",
       "      <td>78</td>\n",
       "      <td>21</td>\n",
       "      <td>46</td>\n",
       "      <td>1</td>\n",
       "      <td>1</td>\n",
       "      <td>...</td>\n",
       "      <td>45</td>\n",
       "      <td>55</td>\n",
       "      <td>1</td>\n",
       "      <td>1</td>\n",
       "      <td>0</td>\n",
       "      <td>-9</td>\n",
       "      <td>-25</td>\n",
       "      <td>0</td>\n",
       "      <td>-3</td>\n",
       "      <td>0</td>\n",
       "    </tr>\n",
       "    <tr>\n",
       "      <th>5</th>\n",
       "      <td>0</td>\n",
       "      <td>0</td>\n",
       "      <td>0</td>\n",
       "      <td>0</td>\n",
       "      <td>87</td>\n",
       "      <td>72</td>\n",
       "      <td>40</td>\n",
       "      <td>35</td>\n",
       "      <td>3</td>\n",
       "      <td>2</td>\n",
       "      <td>...</td>\n",
       "      <td>50</td>\n",
       "      <td>50</td>\n",
       "      <td>1</td>\n",
       "      <td>0</td>\n",
       "      <td>0</td>\n",
       "      <td>15</td>\n",
       "      <td>5</td>\n",
       "      <td>1</td>\n",
       "      <td>0</td>\n",
       "      <td>0</td>\n",
       "    </tr>\n",
       "    <tr>\n",
       "      <th>8</th>\n",
       "      <td>0</td>\n",
       "      <td>0</td>\n",
       "      <td>0</td>\n",
       "      <td>0</td>\n",
       "      <td>27</td>\n",
       "      <td>41</td>\n",
       "      <td>20</td>\n",
       "      <td>31</td>\n",
       "      <td>2</td>\n",
       "      <td>2</td>\n",
       "      <td>...</td>\n",
       "      <td>36</td>\n",
       "      <td>64</td>\n",
       "      <td>0</td>\n",
       "      <td>0</td>\n",
       "      <td>0</td>\n",
       "      <td>-14</td>\n",
       "      <td>-11</td>\n",
       "      <td>0</td>\n",
       "      <td>-2</td>\n",
       "      <td>-3</td>\n",
       "    </tr>\n",
       "  </tbody>\n",
       "</table>\n",
       "<p>5 rows × 24 columns</p>\n",
       "</div>"
      ],
      "text/plain": [
       "   home_yellow_cards  away_yellow_cards  home_red_cards  away_red_cards  \\\n",
       "0                  0                  0               0               0   \n",
       "1                  0                  0               0               0   \n",
       "4                  1                  0               0               0   \n",
       "5                  0                  0               0               0   \n",
       "8                  0                  0               0               0   \n",
       "\n",
       "   home_attacks  away_attacks  home_dangerous_attacks  away_dangerous_attacks  \\\n",
       "0            39            45                      29                      26   \n",
       "1             0             0                       0                       0   \n",
       "4            69            78                      21                      46   \n",
       "5            87            72                      40                      35   \n",
       "8            27            41                      20                      31   \n",
       "\n",
       "   home_corners  away_corners  ...  home_possession  away_possession  \\\n",
       "0             4             1  ...               48               52   \n",
       "1             0             0  ...               50               50   \n",
       "4             1             1  ...               45               55   \n",
       "5             3             2  ...               50               50   \n",
       "8             2             2  ...               36               64   \n",
       "\n",
       "   home_is_winning  yellow_cards_difference  red_cards_difference  \\\n",
       "0                0                        0                     0   \n",
       "1                1                        0                     0   \n",
       "4                1                        1                     0   \n",
       "5                1                        0                     0   \n",
       "8                0                        0                     0   \n",
       "\n",
       "   attacks_difference  dangerous_attacks_difference  corners_difference  \\\n",
       "0                  -6                             3                   3   \n",
       "1                   0                             0                   0   \n",
       "4                  -9                           -25                   0   \n",
       "5                  15                             5                   1   \n",
       "8                 -14                           -11                   0   \n",
       "\n",
       "   off_target_difference  on_target_difference  \n",
       "0                      4                    -2  \n",
       "1                      0                     0  \n",
       "4                     -3                     0  \n",
       "5                      0                     0  \n",
       "8                     -2                    -3  \n",
       "\n",
       "[5 rows x 24 columns]"
      ]
     },
     "execution_count": 15,
     "metadata": {},
     "output_type": "execute_result"
    }
   ],
   "source": [
    "cols = list(df.columns)\n",
    "\n",
    "new_cols = ['yellow_cards_difference',\n",
    "            'red_cards_difference',\n",
    "            'attacks_difference',\n",
    "            'dangerous_attacks_difference',\n",
    "            'corners_difference',\n",
    "            'off_target_difference',\n",
    "            'on_target_difference'\n",
    "           ]\n",
    "\n",
    "print(\"New columns:\")\n",
    "j = 0\n",
    "for i in range(0, len(cols) - 3, 2):\n",
    "    print(f'{cols[i]}  -  {cols[i+1]}  =  {new_cols[j]}')\n",
    "    # add the new columns\n",
    "    df_pair = add_difference_col(df, cols[i], cols[i+1], new_cols[j])\n",
    "    j += 1\n",
    "\n",
    "df_pair.head()"
   ]
  },
  {
   "cell_type": "markdown",
   "id": "9c89db6b-1a05-43f9-a129-7e88f53e67e6",
   "metadata": {},
   "source": [
    "You can now see that the new dataframe has the added columns.\n",
    "\n",
    "You will notice that the `home_possession` and `away_possession` features were not modified. Since these are percentages that, when added, are equal to 100, there is no need to get their difference. With that, we will drop the `away_possession` column."
   ]
  },
  {
   "cell_type": "code",
   "execution_count": 16,
   "id": "b151ea71-97a5-4849-864d-5209f6e16473",
   "metadata": {},
   "outputs": [],
   "source": [
    "# df = df.drop('away_possession', axis=1)"
   ]
  },
  {
   "cell_type": "markdown",
   "id": "e5852768-96f3-40ac-b402-50a7b3e437c1",
   "metadata": {},
   "source": [
    "We will also move the `home_is_winning` feature to the final column so that the data is easier to visualize."
   ]
  },
  {
   "cell_type": "code",
   "execution_count": 17,
   "id": "f3e91d2c-34f5-4f9e-a869-9e67689957fc",
   "metadata": {},
   "outputs": [
    {
     "data": {
      "text/html": [
       "<div>\n",
       "<style scoped>\n",
       "    .dataframe tbody tr th:only-of-type {\n",
       "        vertical-align: middle;\n",
       "    }\n",
       "\n",
       "    .dataframe tbody tr th {\n",
       "        vertical-align: top;\n",
       "    }\n",
       "\n",
       "    .dataframe thead th {\n",
       "        text-align: right;\n",
       "    }\n",
       "</style>\n",
       "<table border=\"1\" class=\"dataframe\">\n",
       "  <thead>\n",
       "    <tr style=\"text-align: right;\">\n",
       "      <th></th>\n",
       "      <th>home_yellow_cards</th>\n",
       "      <th>away_yellow_cards</th>\n",
       "      <th>home_red_cards</th>\n",
       "      <th>away_red_cards</th>\n",
       "      <th>home_attacks</th>\n",
       "      <th>away_attacks</th>\n",
       "      <th>home_dangerous_attacks</th>\n",
       "      <th>away_dangerous_attacks</th>\n",
       "      <th>home_corners</th>\n",
       "      <th>away_corners</th>\n",
       "      <th>...</th>\n",
       "      <th>home_possession</th>\n",
       "      <th>away_possession</th>\n",
       "      <th>yellow_cards_difference</th>\n",
       "      <th>red_cards_difference</th>\n",
       "      <th>attacks_difference</th>\n",
       "      <th>dangerous_attacks_difference</th>\n",
       "      <th>corners_difference</th>\n",
       "      <th>off_target_difference</th>\n",
       "      <th>on_target_difference</th>\n",
       "      <th>home_is_winning</th>\n",
       "    </tr>\n",
       "  </thead>\n",
       "  <tbody>\n",
       "    <tr>\n",
       "      <th>0</th>\n",
       "      <td>0</td>\n",
       "      <td>0</td>\n",
       "      <td>0</td>\n",
       "      <td>0</td>\n",
       "      <td>39</td>\n",
       "      <td>45</td>\n",
       "      <td>29</td>\n",
       "      <td>26</td>\n",
       "      <td>4</td>\n",
       "      <td>1</td>\n",
       "      <td>...</td>\n",
       "      <td>48</td>\n",
       "      <td>52</td>\n",
       "      <td>0</td>\n",
       "      <td>0</td>\n",
       "      <td>-6</td>\n",
       "      <td>3</td>\n",
       "      <td>3</td>\n",
       "      <td>4</td>\n",
       "      <td>-2</td>\n",
       "      <td>0</td>\n",
       "    </tr>\n",
       "    <tr>\n",
       "      <th>1</th>\n",
       "      <td>0</td>\n",
       "      <td>0</td>\n",
       "      <td>0</td>\n",
       "      <td>0</td>\n",
       "      <td>0</td>\n",
       "      <td>0</td>\n",
       "      <td>0</td>\n",
       "      <td>0</td>\n",
       "      <td>0</td>\n",
       "      <td>0</td>\n",
       "      <td>...</td>\n",
       "      <td>50</td>\n",
       "      <td>50</td>\n",
       "      <td>0</td>\n",
       "      <td>0</td>\n",
       "      <td>0</td>\n",
       "      <td>0</td>\n",
       "      <td>0</td>\n",
       "      <td>0</td>\n",
       "      <td>0</td>\n",
       "      <td>1</td>\n",
       "    </tr>\n",
       "    <tr>\n",
       "      <th>4</th>\n",
       "      <td>1</td>\n",
       "      <td>0</td>\n",
       "      <td>0</td>\n",
       "      <td>0</td>\n",
       "      <td>69</td>\n",
       "      <td>78</td>\n",
       "      <td>21</td>\n",
       "      <td>46</td>\n",
       "      <td>1</td>\n",
       "      <td>1</td>\n",
       "      <td>...</td>\n",
       "      <td>45</td>\n",
       "      <td>55</td>\n",
       "      <td>1</td>\n",
       "      <td>0</td>\n",
       "      <td>-9</td>\n",
       "      <td>-25</td>\n",
       "      <td>0</td>\n",
       "      <td>-3</td>\n",
       "      <td>0</td>\n",
       "      <td>1</td>\n",
       "    </tr>\n",
       "    <tr>\n",
       "      <th>5</th>\n",
       "      <td>0</td>\n",
       "      <td>0</td>\n",
       "      <td>0</td>\n",
       "      <td>0</td>\n",
       "      <td>87</td>\n",
       "      <td>72</td>\n",
       "      <td>40</td>\n",
       "      <td>35</td>\n",
       "      <td>3</td>\n",
       "      <td>2</td>\n",
       "      <td>...</td>\n",
       "      <td>50</td>\n",
       "      <td>50</td>\n",
       "      <td>0</td>\n",
       "      <td>0</td>\n",
       "      <td>15</td>\n",
       "      <td>5</td>\n",
       "      <td>1</td>\n",
       "      <td>0</td>\n",
       "      <td>0</td>\n",
       "      <td>1</td>\n",
       "    </tr>\n",
       "    <tr>\n",
       "      <th>8</th>\n",
       "      <td>0</td>\n",
       "      <td>0</td>\n",
       "      <td>0</td>\n",
       "      <td>0</td>\n",
       "      <td>27</td>\n",
       "      <td>41</td>\n",
       "      <td>20</td>\n",
       "      <td>31</td>\n",
       "      <td>2</td>\n",
       "      <td>2</td>\n",
       "      <td>...</td>\n",
       "      <td>36</td>\n",
       "      <td>64</td>\n",
       "      <td>0</td>\n",
       "      <td>0</td>\n",
       "      <td>-14</td>\n",
       "      <td>-11</td>\n",
       "      <td>0</td>\n",
       "      <td>-2</td>\n",
       "      <td>-3</td>\n",
       "      <td>0</td>\n",
       "    </tr>\n",
       "  </tbody>\n",
       "</table>\n",
       "<p>5 rows × 24 columns</p>\n",
       "</div>"
      ],
      "text/plain": [
       "   home_yellow_cards  away_yellow_cards  home_red_cards  away_red_cards  \\\n",
       "0                  0                  0               0               0   \n",
       "1                  0                  0               0               0   \n",
       "4                  1                  0               0               0   \n",
       "5                  0                  0               0               0   \n",
       "8                  0                  0               0               0   \n",
       "\n",
       "   home_attacks  away_attacks  home_dangerous_attacks  away_dangerous_attacks  \\\n",
       "0            39            45                      29                      26   \n",
       "1             0             0                       0                       0   \n",
       "4            69            78                      21                      46   \n",
       "5            87            72                      40                      35   \n",
       "8            27            41                      20                      31   \n",
       "\n",
       "   home_corners  away_corners  ...  home_possession  away_possession  \\\n",
       "0             4             1  ...               48               52   \n",
       "1             0             0  ...               50               50   \n",
       "4             1             1  ...               45               55   \n",
       "5             3             2  ...               50               50   \n",
       "8             2             2  ...               36               64   \n",
       "\n",
       "   yellow_cards_difference  red_cards_difference  attacks_difference  \\\n",
       "0                        0                     0                  -6   \n",
       "1                        0                     0                   0   \n",
       "4                        1                     0                  -9   \n",
       "5                        0                     0                  15   \n",
       "8                        0                     0                 -14   \n",
       "\n",
       "   dangerous_attacks_difference  corners_difference  off_target_difference  \\\n",
       "0                             3                   3                      4   \n",
       "1                             0                   0                      0   \n",
       "4                           -25                   0                     -3   \n",
       "5                             5                   1                      0   \n",
       "8                           -11                   0                     -2   \n",
       "\n",
       "   on_target_difference  home_is_winning  \n",
       "0                    -2                0  \n",
       "1                     0                1  \n",
       "4                     0                1  \n",
       "5                     0                1  \n",
       "8                    -3                0  \n",
       "\n",
       "[5 rows x 24 columns]"
      ]
     },
     "execution_count": 17,
     "metadata": {},
     "output_type": "execute_result"
    }
   ],
   "source": [
    "col = df.pop('home_is_winning')\n",
    "df.insert(len(df.columns), 'home_is_winning', col)\n",
    "df.head()"
   ]
  },
  {
   "cell_type": "markdown",
   "id": "186d7a47-df90-4f6f-ba63-9379d4a4cfe1",
   "metadata": {},
   "source": [
    "We will now normalize the numerical data used in the dataset. We will do this for all variables except for `home_is_winning` since this is the output."
   ]
  },
  {
   "cell_type": "code",
   "execution_count": 18,
   "id": "3e3ac74d-a278-4cd2-9787-cf0b083ac723",
   "metadata": {},
   "outputs": [
    {
     "data": {
      "text/plain": [
       "['home_yellow_cards',\n",
       " 'away_yellow_cards',\n",
       " 'home_red_cards',\n",
       " 'away_red_cards',\n",
       " 'home_attacks',\n",
       " 'away_attacks',\n",
       " 'home_dangerous_attacks',\n",
       " 'away_dangerous_attacks',\n",
       " 'home_corners',\n",
       " 'away_corners',\n",
       " 'home_off_target',\n",
       " 'away_off_target',\n",
       " 'home_on_target',\n",
       " 'away_on_target',\n",
       " 'yellow_cards_difference',\n",
       " 'red_cards_difference',\n",
       " 'attacks_difference',\n",
       " 'dangerous_attacks_difference',\n",
       " 'corners_difference',\n",
       " 'off_target_difference',\n",
       " 'on_target_difference']"
      ]
     },
     "execution_count": 18,
     "metadata": {},
     "output_type": "execute_result"
    }
   ],
   "source": [
    "columns_to_normalize = list(df.columns)\n",
    "columns_to_normalize.remove('home_is_winning')\n",
    "columns_to_normalize.remove('home_possession')\n",
    "columns_to_normalize.remove('away_possession')\n",
    "columns_to_normalize"
   ]
  },
  {
   "cell_type": "code",
   "execution_count": 19,
   "id": "a3189e94-9e61-4d58-8979-5f97cdc00e66",
   "metadata": {},
   "outputs": [
    {
     "data": {
      "text/html": [
       "<div>\n",
       "<style scoped>\n",
       "    .dataframe tbody tr th:only-of-type {\n",
       "        vertical-align: middle;\n",
       "    }\n",
       "\n",
       "    .dataframe tbody tr th {\n",
       "        vertical-align: top;\n",
       "    }\n",
       "\n",
       "    .dataframe thead th {\n",
       "        text-align: right;\n",
       "    }\n",
       "</style>\n",
       "<table border=\"1\" class=\"dataframe\">\n",
       "  <thead>\n",
       "    <tr style=\"text-align: right;\">\n",
       "      <th></th>\n",
       "      <th>home_yellow_cards</th>\n",
       "      <th>away_yellow_cards</th>\n",
       "      <th>home_red_cards</th>\n",
       "      <th>away_red_cards</th>\n",
       "      <th>home_attacks</th>\n",
       "      <th>away_attacks</th>\n",
       "      <th>home_dangerous_attacks</th>\n",
       "      <th>away_dangerous_attacks</th>\n",
       "      <th>home_corners</th>\n",
       "      <th>away_corners</th>\n",
       "      <th>...</th>\n",
       "      <th>home_possession</th>\n",
       "      <th>away_possession</th>\n",
       "      <th>yellow_cards_difference</th>\n",
       "      <th>red_cards_difference</th>\n",
       "      <th>attacks_difference</th>\n",
       "      <th>dangerous_attacks_difference</th>\n",
       "      <th>corners_difference</th>\n",
       "      <th>off_target_difference</th>\n",
       "      <th>on_target_difference</th>\n",
       "      <th>home_is_winning</th>\n",
       "    </tr>\n",
       "  </thead>\n",
       "  <tbody>\n",
       "    <tr>\n",
       "      <th>0</th>\n",
       "      <td>0.000000</td>\n",
       "      <td>0.0</td>\n",
       "      <td>0.0</td>\n",
       "      <td>0.0</td>\n",
       "      <td>0.152941</td>\n",
       "      <td>0.245902</td>\n",
       "      <td>0.219697</td>\n",
       "      <td>0.185714</td>\n",
       "      <td>0.285714</td>\n",
       "      <td>0.055556</td>\n",
       "      <td>...</td>\n",
       "      <td>48</td>\n",
       "      <td>52</td>\n",
       "      <td>0.5</td>\n",
       "      <td>0.333333</td>\n",
       "      <td>0.460251</td>\n",
       "      <td>0.461538</td>\n",
       "      <td>0.65625</td>\n",
       "      <td>0.548387</td>\n",
       "      <td>0.484848</td>\n",
       "      <td>0</td>\n",
       "    </tr>\n",
       "    <tr>\n",
       "      <th>1</th>\n",
       "      <td>0.000000</td>\n",
       "      <td>0.0</td>\n",
       "      <td>0.0</td>\n",
       "      <td>0.0</td>\n",
       "      <td>0.000000</td>\n",
       "      <td>0.000000</td>\n",
       "      <td>0.000000</td>\n",
       "      <td>0.000000</td>\n",
       "      <td>0.000000</td>\n",
       "      <td>0.000000</td>\n",
       "      <td>...</td>\n",
       "      <td>50</td>\n",
       "      <td>50</td>\n",
       "      <td>0.5</td>\n",
       "      <td>0.333333</td>\n",
       "      <td>0.485356</td>\n",
       "      <td>0.443787</td>\n",
       "      <td>0.56250</td>\n",
       "      <td>0.419355</td>\n",
       "      <td>0.545455</td>\n",
       "      <td>1</td>\n",
       "    </tr>\n",
       "    <tr>\n",
       "      <th>4</th>\n",
       "      <td>0.142857</td>\n",
       "      <td>0.0</td>\n",
       "      <td>0.0</td>\n",
       "      <td>0.0</td>\n",
       "      <td>0.270588</td>\n",
       "      <td>0.426230</td>\n",
       "      <td>0.159091</td>\n",
       "      <td>0.328571</td>\n",
       "      <td>0.071429</td>\n",
       "      <td>0.055556</td>\n",
       "      <td>...</td>\n",
       "      <td>45</td>\n",
       "      <td>55</td>\n",
       "      <td>0.6</td>\n",
       "      <td>0.333333</td>\n",
       "      <td>0.447699</td>\n",
       "      <td>0.295858</td>\n",
       "      <td>0.56250</td>\n",
       "      <td>0.322581</td>\n",
       "      <td>0.545455</td>\n",
       "      <td>1</td>\n",
       "    </tr>\n",
       "    <tr>\n",
       "      <th>5</th>\n",
       "      <td>0.000000</td>\n",
       "      <td>0.0</td>\n",
       "      <td>0.0</td>\n",
       "      <td>0.0</td>\n",
       "      <td>0.341176</td>\n",
       "      <td>0.393443</td>\n",
       "      <td>0.303030</td>\n",
       "      <td>0.250000</td>\n",
       "      <td>0.214286</td>\n",
       "      <td>0.111111</td>\n",
       "      <td>...</td>\n",
       "      <td>50</td>\n",
       "      <td>50</td>\n",
       "      <td>0.5</td>\n",
       "      <td>0.333333</td>\n",
       "      <td>0.548117</td>\n",
       "      <td>0.473373</td>\n",
       "      <td>0.59375</td>\n",
       "      <td>0.419355</td>\n",
       "      <td>0.545455</td>\n",
       "      <td>1</td>\n",
       "    </tr>\n",
       "    <tr>\n",
       "      <th>8</th>\n",
       "      <td>0.000000</td>\n",
       "      <td>0.0</td>\n",
       "      <td>0.0</td>\n",
       "      <td>0.0</td>\n",
       "      <td>0.105882</td>\n",
       "      <td>0.224044</td>\n",
       "      <td>0.151515</td>\n",
       "      <td>0.221429</td>\n",
       "      <td>0.142857</td>\n",
       "      <td>0.111111</td>\n",
       "      <td>...</td>\n",
       "      <td>36</td>\n",
       "      <td>64</td>\n",
       "      <td>0.5</td>\n",
       "      <td>0.333333</td>\n",
       "      <td>0.426778</td>\n",
       "      <td>0.378698</td>\n",
       "      <td>0.56250</td>\n",
       "      <td>0.354839</td>\n",
       "      <td>0.454545</td>\n",
       "      <td>0</td>\n",
       "    </tr>\n",
       "  </tbody>\n",
       "</table>\n",
       "<p>5 rows × 24 columns</p>\n",
       "</div>"
      ],
      "text/plain": [
       "   home_yellow_cards  away_yellow_cards  home_red_cards  away_red_cards  \\\n",
       "0           0.000000                0.0             0.0             0.0   \n",
       "1           0.000000                0.0             0.0             0.0   \n",
       "4           0.142857                0.0             0.0             0.0   \n",
       "5           0.000000                0.0             0.0             0.0   \n",
       "8           0.000000                0.0             0.0             0.0   \n",
       "\n",
       "   home_attacks  away_attacks  home_dangerous_attacks  away_dangerous_attacks  \\\n",
       "0      0.152941      0.245902                0.219697                0.185714   \n",
       "1      0.000000      0.000000                0.000000                0.000000   \n",
       "4      0.270588      0.426230                0.159091                0.328571   \n",
       "5      0.341176      0.393443                0.303030                0.250000   \n",
       "8      0.105882      0.224044                0.151515                0.221429   \n",
       "\n",
       "   home_corners  away_corners  ...  home_possession  away_possession  \\\n",
       "0      0.285714      0.055556  ...               48               52   \n",
       "1      0.000000      0.000000  ...               50               50   \n",
       "4      0.071429      0.055556  ...               45               55   \n",
       "5      0.214286      0.111111  ...               50               50   \n",
       "8      0.142857      0.111111  ...               36               64   \n",
       "\n",
       "   yellow_cards_difference  red_cards_difference  attacks_difference  \\\n",
       "0                      0.5              0.333333            0.460251   \n",
       "1                      0.5              0.333333            0.485356   \n",
       "4                      0.6              0.333333            0.447699   \n",
       "5                      0.5              0.333333            0.548117   \n",
       "8                      0.5              0.333333            0.426778   \n",
       "\n",
       "   dangerous_attacks_difference  corners_difference  off_target_difference  \\\n",
       "0                      0.461538             0.65625               0.548387   \n",
       "1                      0.443787             0.56250               0.419355   \n",
       "4                      0.295858             0.56250               0.322581   \n",
       "5                      0.473373             0.59375               0.419355   \n",
       "8                      0.378698             0.56250               0.354839   \n",
       "\n",
       "   on_target_difference  home_is_winning  \n",
       "0              0.484848                0  \n",
       "1              0.545455                1  \n",
       "4              0.545455                1  \n",
       "5              0.545455                1  \n",
       "8              0.454545                0  \n",
       "\n",
       "[5 rows x 24 columns]"
      ]
     },
     "execution_count": 19,
     "metadata": {},
     "output_type": "execute_result"
    }
   ],
   "source": [
    "df[columns_to_normalize] = df[columns_to_normalize].apply(lambda x: (x - x.min()) / (x.max() - x.min()))\n",
    "df.head()"
   ]
  },
  {
   "cell_type": "markdown",
   "id": "a5bbd66c-f56f-40a0-8eb2-44f9b7b23409",
   "metadata": {},
   "source": [
    "Now let's seperate the two datasets for convinience, `df` with the original features and `df_pair` with the paired features."
   ]
  },
  {
   "cell_type": "code",
   "execution_count": 20,
   "id": "2958b104-bc3b-4806-a341-0f89a5623bd4",
   "metadata": {},
   "outputs": [],
   "source": [
    "df_features = [\n",
    "    'home_yellow_cards', 'away_yellow_cards',\n",
    "    'home_red_cards', 'away_red_cards', 'home_attacks', 'away_attacks',\n",
    "    'home_dangerous_attacks', 'away_dangerous_attacks', 'home_corners',\n",
    "    'away_corners', 'home_off_target', 'away_off_target', 'home_on_target',\n",
    "    'away_on_target', 'home_possession', 'away_possession', 'home_is_winning'\n",
    "]\n",
    "\n",
    "df_pair_features = [\n",
    "    'yellow_cards_difference', 'red_cards_difference',\n",
    "    'attacks_difference', 'dangerous_attacks_difference', 'corners_difference',\n",
    "    'off_target_difference', 'on_target_difference', 'home_possession',\n",
    "    'home_is_winning'\n",
    "]\n",
    "\n",
    "\n",
    "df_pair = df[df_pair_features]\n",
    "df = df[df_features]"
   ]
  },
  {
   "cell_type": "code",
   "execution_count": 21,
   "id": "b831e201-d20d-4f8a-b1cc-3e0c2c04f042",
   "metadata": {},
   "outputs": [
    {
     "data": {
      "text/html": [
       "<div>\n",
       "<style scoped>\n",
       "    .dataframe tbody tr th:only-of-type {\n",
       "        vertical-align: middle;\n",
       "    }\n",
       "\n",
       "    .dataframe tbody tr th {\n",
       "        vertical-align: top;\n",
       "    }\n",
       "\n",
       "    .dataframe thead th {\n",
       "        text-align: right;\n",
       "    }\n",
       "</style>\n",
       "<table border=\"1\" class=\"dataframe\">\n",
       "  <thead>\n",
       "    <tr style=\"text-align: right;\">\n",
       "      <th></th>\n",
       "      <th>home_yellow_cards</th>\n",
       "      <th>away_yellow_cards</th>\n",
       "      <th>home_red_cards</th>\n",
       "      <th>away_red_cards</th>\n",
       "      <th>home_attacks</th>\n",
       "      <th>away_attacks</th>\n",
       "      <th>home_dangerous_attacks</th>\n",
       "      <th>away_dangerous_attacks</th>\n",
       "      <th>home_corners</th>\n",
       "      <th>away_corners</th>\n",
       "      <th>home_off_target</th>\n",
       "      <th>away_off_target</th>\n",
       "      <th>home_on_target</th>\n",
       "      <th>away_on_target</th>\n",
       "      <th>home_possession</th>\n",
       "      <th>away_possession</th>\n",
       "      <th>home_is_winning</th>\n",
       "    </tr>\n",
       "  </thead>\n",
       "  <tbody>\n",
       "    <tr>\n",
       "      <th>0</th>\n",
       "      <td>0.000000</td>\n",
       "      <td>0.0</td>\n",
       "      <td>0.0</td>\n",
       "      <td>0.0</td>\n",
       "      <td>0.152941</td>\n",
       "      <td>0.245902</td>\n",
       "      <td>0.219697</td>\n",
       "      <td>0.185714</td>\n",
       "      <td>0.285714</td>\n",
       "      <td>0.055556</td>\n",
       "      <td>0.166667</td>\n",
       "      <td>0.000000</td>\n",
       "      <td>0.181818</td>\n",
       "      <td>0.315789</td>\n",
       "      <td>48</td>\n",
       "      <td>52</td>\n",
       "      <td>0</td>\n",
       "    </tr>\n",
       "    <tr>\n",
       "      <th>1</th>\n",
       "      <td>0.000000</td>\n",
       "      <td>0.0</td>\n",
       "      <td>0.0</td>\n",
       "      <td>0.0</td>\n",
       "      <td>0.000000</td>\n",
       "      <td>0.000000</td>\n",
       "      <td>0.000000</td>\n",
       "      <td>0.000000</td>\n",
       "      <td>0.000000</td>\n",
       "      <td>0.000000</td>\n",
       "      <td>0.000000</td>\n",
       "      <td>0.000000</td>\n",
       "      <td>0.000000</td>\n",
       "      <td>0.000000</td>\n",
       "      <td>50</td>\n",
       "      <td>50</td>\n",
       "      <td>1</td>\n",
       "    </tr>\n",
       "    <tr>\n",
       "      <th>4</th>\n",
       "      <td>0.142857</td>\n",
       "      <td>0.0</td>\n",
       "      <td>0.0</td>\n",
       "      <td>0.0</td>\n",
       "      <td>0.270588</td>\n",
       "      <td>0.426230</td>\n",
       "      <td>0.159091</td>\n",
       "      <td>0.328571</td>\n",
       "      <td>0.071429</td>\n",
       "      <td>0.055556</td>\n",
       "      <td>0.000000</td>\n",
       "      <td>0.166667</td>\n",
       "      <td>0.181818</td>\n",
       "      <td>0.210526</td>\n",
       "      <td>45</td>\n",
       "      <td>55</td>\n",
       "      <td>1</td>\n",
       "    </tr>\n",
       "    <tr>\n",
       "      <th>5</th>\n",
       "      <td>0.000000</td>\n",
       "      <td>0.0</td>\n",
       "      <td>0.0</td>\n",
       "      <td>0.0</td>\n",
       "      <td>0.341176</td>\n",
       "      <td>0.393443</td>\n",
       "      <td>0.303030</td>\n",
       "      <td>0.250000</td>\n",
       "      <td>0.214286</td>\n",
       "      <td>0.111111</td>\n",
       "      <td>0.166667</td>\n",
       "      <td>0.222222</td>\n",
       "      <td>0.136364</td>\n",
       "      <td>0.157895</td>\n",
       "      <td>50</td>\n",
       "      <td>50</td>\n",
       "      <td>1</td>\n",
       "    </tr>\n",
       "    <tr>\n",
       "      <th>8</th>\n",
       "      <td>0.000000</td>\n",
       "      <td>0.0</td>\n",
       "      <td>0.0</td>\n",
       "      <td>0.0</td>\n",
       "      <td>0.105882</td>\n",
       "      <td>0.224044</td>\n",
       "      <td>0.151515</td>\n",
       "      <td>0.221429</td>\n",
       "      <td>0.142857</td>\n",
       "      <td>0.111111</td>\n",
       "      <td>0.041667</td>\n",
       "      <td>0.166667</td>\n",
       "      <td>0.045455</td>\n",
       "      <td>0.210526</td>\n",
       "      <td>36</td>\n",
       "      <td>64</td>\n",
       "      <td>0</td>\n",
       "    </tr>\n",
       "  </tbody>\n",
       "</table>\n",
       "</div>"
      ],
      "text/plain": [
       "   home_yellow_cards  away_yellow_cards  home_red_cards  away_red_cards  \\\n",
       "0           0.000000                0.0             0.0             0.0   \n",
       "1           0.000000                0.0             0.0             0.0   \n",
       "4           0.142857                0.0             0.0             0.0   \n",
       "5           0.000000                0.0             0.0             0.0   \n",
       "8           0.000000                0.0             0.0             0.0   \n",
       "\n",
       "   home_attacks  away_attacks  home_dangerous_attacks  away_dangerous_attacks  \\\n",
       "0      0.152941      0.245902                0.219697                0.185714   \n",
       "1      0.000000      0.000000                0.000000                0.000000   \n",
       "4      0.270588      0.426230                0.159091                0.328571   \n",
       "5      0.341176      0.393443                0.303030                0.250000   \n",
       "8      0.105882      0.224044                0.151515                0.221429   \n",
       "\n",
       "   home_corners  away_corners  home_off_target  away_off_target  \\\n",
       "0      0.285714      0.055556         0.166667         0.000000   \n",
       "1      0.000000      0.000000         0.000000         0.000000   \n",
       "4      0.071429      0.055556         0.000000         0.166667   \n",
       "5      0.214286      0.111111         0.166667         0.222222   \n",
       "8      0.142857      0.111111         0.041667         0.166667   \n",
       "\n",
       "   home_on_target  away_on_target  home_possession  away_possession  \\\n",
       "0        0.181818        0.315789               48               52   \n",
       "1        0.000000        0.000000               50               50   \n",
       "4        0.181818        0.210526               45               55   \n",
       "5        0.136364        0.157895               50               50   \n",
       "8        0.045455        0.210526               36               64   \n",
       "\n",
       "   home_is_winning  \n",
       "0                0  \n",
       "1                1  \n",
       "4                1  \n",
       "5                1  \n",
       "8                0  "
      ]
     },
     "execution_count": 21,
     "metadata": {},
     "output_type": "execute_result"
    }
   ],
   "source": [
    "df.head()"
   ]
  },
  {
   "cell_type": "code",
   "execution_count": 22,
   "id": "d240513f-8066-4eaa-87aa-4ed2f5157129",
   "metadata": {},
   "outputs": [
    {
     "data": {
      "text/html": [
       "<div>\n",
       "<style scoped>\n",
       "    .dataframe tbody tr th:only-of-type {\n",
       "        vertical-align: middle;\n",
       "    }\n",
       "\n",
       "    .dataframe tbody tr th {\n",
       "        vertical-align: top;\n",
       "    }\n",
       "\n",
       "    .dataframe thead th {\n",
       "        text-align: right;\n",
       "    }\n",
       "</style>\n",
       "<table border=\"1\" class=\"dataframe\">\n",
       "  <thead>\n",
       "    <tr style=\"text-align: right;\">\n",
       "      <th></th>\n",
       "      <th>yellow_cards_difference</th>\n",
       "      <th>red_cards_difference</th>\n",
       "      <th>attacks_difference</th>\n",
       "      <th>dangerous_attacks_difference</th>\n",
       "      <th>corners_difference</th>\n",
       "      <th>off_target_difference</th>\n",
       "      <th>on_target_difference</th>\n",
       "      <th>home_possession</th>\n",
       "      <th>home_is_winning</th>\n",
       "    </tr>\n",
       "  </thead>\n",
       "  <tbody>\n",
       "    <tr>\n",
       "      <th>0</th>\n",
       "      <td>0.5</td>\n",
       "      <td>0.333333</td>\n",
       "      <td>0.460251</td>\n",
       "      <td>0.461538</td>\n",
       "      <td>0.65625</td>\n",
       "      <td>0.548387</td>\n",
       "      <td>0.484848</td>\n",
       "      <td>48</td>\n",
       "      <td>0</td>\n",
       "    </tr>\n",
       "    <tr>\n",
       "      <th>1</th>\n",
       "      <td>0.5</td>\n",
       "      <td>0.333333</td>\n",
       "      <td>0.485356</td>\n",
       "      <td>0.443787</td>\n",
       "      <td>0.56250</td>\n",
       "      <td>0.419355</td>\n",
       "      <td>0.545455</td>\n",
       "      <td>50</td>\n",
       "      <td>1</td>\n",
       "    </tr>\n",
       "    <tr>\n",
       "      <th>4</th>\n",
       "      <td>0.6</td>\n",
       "      <td>0.333333</td>\n",
       "      <td>0.447699</td>\n",
       "      <td>0.295858</td>\n",
       "      <td>0.56250</td>\n",
       "      <td>0.322581</td>\n",
       "      <td>0.545455</td>\n",
       "      <td>45</td>\n",
       "      <td>1</td>\n",
       "    </tr>\n",
       "    <tr>\n",
       "      <th>5</th>\n",
       "      <td>0.5</td>\n",
       "      <td>0.333333</td>\n",
       "      <td>0.548117</td>\n",
       "      <td>0.473373</td>\n",
       "      <td>0.59375</td>\n",
       "      <td>0.419355</td>\n",
       "      <td>0.545455</td>\n",
       "      <td>50</td>\n",
       "      <td>1</td>\n",
       "    </tr>\n",
       "    <tr>\n",
       "      <th>8</th>\n",
       "      <td>0.5</td>\n",
       "      <td>0.333333</td>\n",
       "      <td>0.426778</td>\n",
       "      <td>0.378698</td>\n",
       "      <td>0.56250</td>\n",
       "      <td>0.354839</td>\n",
       "      <td>0.454545</td>\n",
       "      <td>36</td>\n",
       "      <td>0</td>\n",
       "    </tr>\n",
       "  </tbody>\n",
       "</table>\n",
       "</div>"
      ],
      "text/plain": [
       "   yellow_cards_difference  red_cards_difference  attacks_difference  \\\n",
       "0                      0.5              0.333333            0.460251   \n",
       "1                      0.5              0.333333            0.485356   \n",
       "4                      0.6              0.333333            0.447699   \n",
       "5                      0.5              0.333333            0.548117   \n",
       "8                      0.5              0.333333            0.426778   \n",
       "\n",
       "   dangerous_attacks_difference  corners_difference  off_target_difference  \\\n",
       "0                      0.461538             0.65625               0.548387   \n",
       "1                      0.443787             0.56250               0.419355   \n",
       "4                      0.295858             0.56250               0.322581   \n",
       "5                      0.473373             0.59375               0.419355   \n",
       "8                      0.378698             0.56250               0.354839   \n",
       "\n",
       "   on_target_difference  home_possession  home_is_winning  \n",
       "0              0.484848               48                0  \n",
       "1              0.545455               50                1  \n",
       "4              0.545455               45                1  \n",
       "5              0.545455               50                1  \n",
       "8              0.454545               36                0  "
      ]
     },
     "execution_count": 22,
     "metadata": {},
     "output_type": "execute_result"
    }
   ],
   "source": [
    "df_pair.head()"
   ]
  },
  {
   "cell_type": "markdown",
   "id": "2b387dd4-ee6b-4e70-a333-ea37b45757c9",
   "metadata": {},
   "source": [
    "Now we have two dataframes, both have been cleaned and normalized, seperated from each other. One contains the dataset's original 18 features, the other with 9 features that have been paired correspondingly."
   ]
  },
  {
   "cell_type": "markdown",
   "id": "c873b2e2-6d6f-403a-a1d8-5619393c0b48",
   "metadata": {},
   "source": [
    "# Exploratory Data Analysis"
   ]
  },
  {
   "cell_type": "markdown",
   "id": "d2c48943-be81-43e5-93bd-c1379aff213c",
   "metadata": {},
   "source": [
    "What is the correlation between different features, especially the selected key features and the target variable (home_is_winning)? Are there any strong correlations between possession percentages (home_possession and away_possession) and the outcome?"
   ]
  },
  {
   "cell_type": "code",
   "execution_count": 23,
   "id": "9918bb06",
   "metadata": {},
   "outputs": [
    {
     "data": {
      "image/png": "[encoded data removed]",
      "text/plain": [
       "<Figure size 1200x1000 with 2 Axes>"
      ]
     },
     "metadata": {},
     "output_type": "display_data"
    }
   ],
   "source": [
    "correlation_matrix = df[df_features].corr()\n",
    "plt.figure(figsize=(12, 10))\n",
    "sns.heatmap(correlation_matrix, annot=True, cmap='coolwarm', fmt='.2f')\n",
    "plt.title('Correlation Matrix')\n",
    "plt.show()"
   ]
  },
  {
   "cell_type": "code",
   "execution_count": 24,
   "id": "9190d441-4524-46e4-8054-b400f41df592",
   "metadata": {},
   "outputs": [
    {
     "data": {
      "image/png": "[encoded data removed]",
      "text/plain": [
       "<Figure size 800x600 with 2 Axes>"
      ]
     },
     "metadata": {},
     "output_type": "display_data"
    }
   ],
   "source": [
    "correlation_matrix = df_pair[df_pair_features].corr()\n",
    "plt.figure(figsize=(8, 6))\n",
    "sns.heatmap(correlation_matrix, annot=True, cmap='coolwarm', fmt='.2f')\n",
    "plt.title('Correlation Matrix')\n",
    "plt.show()"
   ]
  },
  {
   "cell_type": "markdown",
   "id": "99f6d111-3a83-4492-9e24-48da626cae15",
   "metadata": {},
   "source": [
    "A positive correlation of 0.53 between `home_is_winning` and `on_target_difference` indicates that an increase in the difference in on-target attempts is moderately associated with an increased likelihood of the home team winning.\n",
    "\n",
    "A strong negative correlation of -0.79 between `attacks_difference` and `dangerous_attacks_difference` suggests a significant negative relationship. As the difference in total attacks increases, the difference in dangerous attacks tends to decrease, and vice versa.\n",
    "\n",
    "A positive correlation of 0.33 between `attacks_difference` and `on_target_difference` indicates a weak positive relationship. An increase in the difference in total attacks is weakly associated with a slight increase in the difference in on-target attempts.\n",
    "\n",
    "A moderate positive correlation of 0.45 between `dangerous_attacks_difference` and `on_target_difference` suggests a moderate positive relationship. An increase in the difference in dangerous attacks is moderately associated with an increase in the difference in on-target attempts."
   ]
  },
  {
   "cell_type": "markdown",
   "id": "67456e0d",
   "metadata": {},
   "source": [
    "How many matches in the dataset resulted in the home team winning?"
   ]
  },
  {
   "cell_type": "code",
   "execution_count": 25,
   "id": "cfc3e75e",
   "metadata": {},
   "outputs": [
    {
     "data": {
      "image/png": "[encoded data removed]",
      "text/plain": [
       "<Figure size 600x400 with 1 Axes>"
      ]
     },
     "metadata": {},
     "output_type": "display_data"
    },
    {
     "name": "stdout",
     "output_type": "stream",
     "text": [
      "Is the home team winning?\n",
      " home_is_winning\n",
      "1    1659\n",
      "0    1165\n",
      "Name: count, dtype: int64\n"
     ]
    }
   ],
   "source": [
    "plt.figure(figsize=(6, 4))\n",
    "sns.countplot(x='home_is_winning', data=df, palette='viridis')\n",
    "plt.title('Distribution of Home Winning')\n",
    "plt.xlabel('Home is Winning')\n",
    "plt.ylabel('Frequency')\n",
    "\n",
    "plt.show()\n",
    "\n",
    "print(\"Is the home team winning?\\n\", df['home_is_winning'].value_counts())"
   ]
  },
  {
   "cell_type": "markdown",
   "id": "e59d2777-2953-4adb-96d0-d6aae4f92656",
   "metadata": {},
   "source": [
    "In exploring the distribution of the home team winning, it was found that the home team wins more than the away team, being 494 more wins. This may indicate a class imbalance. However, it is also worth noting that being the Home team has inherent advantages which may not be found in the data such as being more familiar with the playing environment, crowd support, and reduced travel-related fatigue. Therefore, the apparent class imbalance may be a reflection of these inherent advantages rather than a data-related issue. Considering these factors is crucial in interpreting the results accurately and deciding on an appropriate strategy for modeling"
   ]
  },
  {
   "cell_type": "markdown",
   "id": "208bc5b5",
   "metadata": {},
   "source": [
    "How does possession percentage vary between home and away teams, and how does it relate to home team winning?"
   ]
  },
  {
   "cell_type": "code",
   "execution_count": 26,
   "id": "88e9458f-ad6c-4351-aedd-e2952616bcb9",
   "metadata": {},
   "outputs": [
    {
     "data": {
      "image/png": "[encoded data removed]",
      "text/plain": [
       "<Figure size 1800x600 with 3 Axes>"
      ]
     },
     "metadata": {},
     "output_type": "display_data"
    }
   ],
   "source": [
    "fig, axes = plt.subplots(1, 3, figsize=(18, 6), sharey=True)\n",
    "\n",
    "# Plot for 'attacks_difference'\n",
    "sns.kdeplot(data=df_pair, x='attacks_difference', fill=True, hue='home_is_winning', ax=axes[0], palette={True: 'blue', False: 'red'})\n",
    "axes[0].set_title('Distribution of Attacks Difference')\n",
    "axes[0].set_xlabel('Attacks Difference')\n",
    "axes[0].set_ylabel('Density')\n",
    "axes[0].set_xlim(left=min(df_pair['attacks_difference']), right=max(df_pair['attacks_difference']))\n",
    "axes[0].axvline(x=0.5, color='black', linestyle='--', label='X = 0.5')\n",
    "axes[0].legend()\n",
    "\n",
    "# Plot for 'dangerous_attacks_difference'\n",
    "sns.kdeplot(data=df_pair, x='dangerous_attacks_difference', fill=True, hue='home_is_winning', ax=axes[1], palette={True: 'blue', False: 'red'})\n",
    "axes[1].set_title('Distribution of Dangerous Attacks Difference')\n",
    "axes[1].set_xlabel('Attacks Dangerous Difference')\n",
    "axes[1].set_ylabel('')\n",
    "axes[1].set_xlim(left=min(df_pair['dangerous_attacks_difference']), right=max(df_pair['dangerous_attacks_difference']))\n",
    "axes[1].axvline(x=0.5, color='black', linestyle='--', label='X = 0.5')\n",
    "axes[1].legend()\n",
    "\n",
    "# Plot for 'on_target_difference'\n",
    "sns.kdeplot(data=df_pair, x='on_target_difference', fill=True, hue='home_is_winning', ax=axes[2], palette={True: 'blue', False: 'red'})\n",
    "axes[2].set_title('Distribution of On Target Difference')\n",
    "axes[2].set_xlabel('On Target Difference')\n",
    "axes[2].set_ylabel('')\n",
    "axes[2].set_xlim(left=min(df_pair['on_target_difference']), right=max(df_pair['on_target_difference']))\n",
    "axes[2].axvline(x=0.5, color='black', linestyle='--', label='X = 0.5')\n",
    "axes[2].legend()\n",
    "\n",
    "plt.suptitle('Distribution Analysis with 0.5 Threshold')\n",
    "plt.show()\n"
   ]
  },
  {
   "cell_type": "markdown",
   "id": "83dff042-cc03-43ad-ac9c-fa1c2f6230e1",
   "metadata": {},
   "source": [
    "`Attacks Difference`:\n",
    "The distribution analysis reveals symmetrical triangular curves for both winning and losing instances in attacks_difference, with peaks close to each other on the x-axis, indicating a balanced representation of attack differences. This may indicate that this feature may not be the strongest indicator of winning or losing.\n",
    "\n",
    "`Dangerous Attacks Difference`:\n",
    "The distribution analysis indicates that, on average, the away team tends to execute more dangerous attacks in dangerous_attacks_difference. The peaks are centered around 0.45 on the x-axis, with 0.5 indicating an equal proportion of dangerous attacks between the home and away teams. The leftward shift of the peak suggests that values below 0.5 represent a higher proportion of dangerous attacks by the away team.\n",
    "\n",
    "`On Target Difference`:\n",
    "On_target_difference presents a distinct asymmetry, with a substantial portion of losing instances clustering before x = 0.5, while most winning instances concentrate above x = 0.5. This implies that the home team's advantage in on-target attempts becomes more pronounced when the difference surpasses the 0.5 threshold, serving as a potential influential factor in match outcomes.\n"
   ]
  },
  {
   "cell_type": "markdown",
   "id": "c0f8112b",
   "metadata": {},
   "source": [
    "What is the distribution of the average attacks difference per current minute?"
   ]
  },
  {
   "cell_type": "code",
   "execution_count": 27,
   "id": "1d84b6a1",
   "metadata": {},
   "outputs": [],
   "source": [
    "\n",
    "# plt.figure(figsize=(12, 6))\n",
    "# sns.histplot(x='attacks_difference', data=df, bins=50, edgecolor='w', kde=True)\n",
    "# plt.title('Distribution of Average Attacks Difference per Current Minute')\n",
    "# plt.xlabel('Average Attacks Difference')\n",
    "# plt.ylabel('Frequency')\n",
    "# plt.show()"
   ]
  },
  {
   "cell_type": "markdown",
   "id": "2e71a3aa",
   "metadata": {},
   "source": [
    "What is the distribution of the average attacks dangerous difference per current minute?"
   ]
  },
  {
   "cell_type": "code",
   "execution_count": 28,
   "id": "84a3d265",
   "metadata": {},
   "outputs": [],
   "source": [
    "# plt.figure(figsize=(12, 6))\n",
    "# sns.histplot(x='dangerous_attacks_difference', data=df, bins=50, edgecolor='w', kde=True)\n",
    "# plt.title('Distribution of Average Attacks Dangerous Difference per Current Minute')\n",
    "# plt.xlabel('Average Attacks Dangerous Difference')\n",
    "# plt.ylabel('Frequency')\n",
    "# plt.show()"
   ]
  },
  {
   "cell_type": "markdown",
   "id": "42b19ff9",
   "metadata": {},
   "source": [
    "What is the distribution of the average on target difference per current minute?"
   ]
  },
  {
   "cell_type": "code",
   "execution_count": 29,
   "id": "d5ebca5e",
   "metadata": {},
   "outputs": [],
   "source": [
    "# plt.figure(figsize=(12, 6))\n",
    "# sns.histplot(x='on_target_difference', data=df, bins=50, edgecolor='w', kde=True)\n",
    "# plt.title('Distribution of Average On Target Difference per Current Minute')\n",
    "# plt.xlabel('Average On Target Difference')\n",
    "# plt.ylabel('Frequency')\n",
    "# plt.show()"
   ]
  },
  {
   "cell_type": "markdown",
   "id": "dedc2e00",
   "metadata": {},
   "source": [
    "What are the quartiles, minimum, maximum values displayed, as well as the mean median mode and standard deviation based on the df['attacks_difference','dangerous_attacks_difference','on_target_difference']?"
   ]
  },
  {
   "cell_type": "code",
   "execution_count": 30,
   "id": "5b4cb838",
   "metadata": {},
   "outputs": [],
   "source": [
    "# summary_stats = df[['attacks_difference', 'dangerous_attacks_difference', 'on_target_difference']].describe()\n",
    "\n",
    "# print(\"Summary Statistics:\")\n",
    "# summary_stats"
   ]
  },
  {
   "cell_type": "markdown",
   "id": "ee28802a",
   "metadata": {},
   "source": [
    "What is the distribution of the average attacks_difference per current minute when home is winning?"
   ]
  },
  {
   "cell_type": "code",
   "execution_count": 31,
   "id": "66d7b51a",
   "metadata": {},
   "outputs": [],
   "source": [
    "# plt.figure(figsize=(12, 6))\n",
    "# sns.histplot(x='attacks_difference', data=df[df['home_is_winning']], bins=50, edgecolor='w', kde=True)\n",
    "# plt.title('Distribution of Average Attacks Difference per Current Minute (Home Winning)')\n",
    "# plt.xlabel('Average Attacks Difference')\n",
    "# plt.ylabel('Frequency')\n",
    "# plt.show()"
   ]
  },
  {
   "cell_type": "markdown",
   "id": "e6c76122",
   "metadata": {},
   "source": [
    "What is the distribution of the average dangerous_attacks_difference per current minute  when home is winning?"
   ]
  },
  {
   "cell_type": "code",
   "execution_count": 32,
   "id": "b8f116cf",
   "metadata": {},
   "outputs": [],
   "source": [
    "# plt.figure(figsize=(12, 6))\n",
    "# sns.histplot(x='dangerous_attacks_difference', data=df[df['home_is_winning']], bins=50, edgecolor='w', kde=True)\n",
    "# plt.title('Distribution of Average Attacks Dangerous Difference per Current Minute (Home Winning)')\n",
    "# plt.xlabel('Average Attacks Dangerous Difference')\n",
    "# plt.ylabel('Frequency')\n",
    "# plt.show()"
   ]
  },
  {
   "cell_type": "markdown",
   "id": "ca346641",
   "metadata": {},
   "source": [
    "What is the distribution of the average on_target_difference per current minute  when home is winning?"
   ]
  },
  {
   "cell_type": "code",
   "execution_count": 33,
   "id": "cceaaae9",
   "metadata": {},
   "outputs": [],
   "source": [
    "# plt.figure(figsize=(12, 6))\n",
    "# sns.histplot(x='on_target_difference', data=df[df['home_is_winning']], bins=50, edgecolor='w', kde=True)\n",
    "# plt.title('Distribution of Average On Target Difference per Current Minute (Home Winning)')\n",
    "# plt.xlabel('Average On Target Difference')\n",
    "# plt.ylabel('Frequency')\n",
    "# plt.show()"
   ]
  },
  {
   "cell_type": "markdown",
   "id": "67b84976",
   "metadata": {},
   "source": [
    "What are the quartiles, minimum, maximum values displayed, as well as the mean, median, mode, and standard deviation based on `attacks_difference`, `dangerous_attacks_difference`, and `on_target_difference` when home is winning?"
   ]
  },
  {
   "cell_type": "code",
   "execution_count": 34,
   "id": "e12c7e10",
   "metadata": {},
   "outputs": [],
   "source": [
    "# summary_stats_home_winning = df[df['home_is_winning']][['attacks_difference', 'dangerous_attacks_difference', 'on_target_difference']].describe()\n",
    "\n",
    "# print(\"Summary Statistics (Home Winning):\")\n",
    "# summary_stats_home_winning"
   ]
  },
  {
   "cell_type": "markdown",
   "id": "0365ba7a",
   "metadata": {},
   "source": [
    "What is the distribution of the average attacks_difference per current minute when home is not winning?"
   ]
  },
  {
   "cell_type": "code",
   "execution_count": 35,
   "id": "0f55a692",
   "metadata": {},
   "outputs": [],
   "source": [
    "# plt.figure(figsize=(12, 6))\n",
    "# sns.histplot(x='attacks_difference', data=df[~df['home_is_winning']], bins=50, edgecolor='w', kde=True)\n",
    "# plt.title('Distribution of Average Attacks Difference per Current Minute (Home Not Winning)')\n",
    "# plt.xlabel('Average Attacks Difference')\n",
    "# plt.ylabel('Frequency')\n",
    "# plt.show()"
   ]
  },
  {
   "cell_type": "markdown",
   "id": "262ca83d",
   "metadata": {},
   "source": [
    "What is the distribution of the average dangerous_attacks_difference per current minute  when home is not winning?"
   ]
  },
  {
   "cell_type": "code",
   "execution_count": 36,
   "id": "79e81006",
   "metadata": {},
   "outputs": [],
   "source": [
    "# plt.figure(figsize=(12, 6))\n",
    "# sns.histplot(x='dangerous_attacks_difference', data=df[~df['home_is_winning']], bins=50, edgecolor='w', kde=True)\n",
    "# plt.title('Distribution of Average Attacks Dangerous Difference per Current Minute (Home Not Winning)')\n",
    "# plt.xlabel('Average Attacks Dangerous Difference')\n",
    "# plt.ylabel('Frequency')\n",
    "# plt.show()"
   ]
  },
  {
   "cell_type": "markdown",
   "id": "b3c5e99c",
   "metadata": {},
   "source": [
    "What is the distribution of the average on_target_difference per current minute  when home is not winning?"
   ]
  },
  {
   "cell_type": "code",
   "execution_count": 37,
   "id": "c103f5fd",
   "metadata": {},
   "outputs": [],
   "source": [
    "# plt.figure(figsize=(12, 6))\n",
    "# sns.histplot(x='on_target_difference', data=df[~df['home_is_winning']], bins=50, edgecolor='w', kde=True)\n",
    "# plt.title('Distribution of Average On Target Difference per Current Minute (Home Not Winning)')\n",
    "# plt.xlabel('Average On Target Difference')\n",
    "# plt.ylabel('Frequency')\n",
    "# plt.show()"
   ]
  },
  {
   "cell_type": "markdown",
   "id": "2e5cd0af",
   "metadata": {},
   "source": [
    "What are the quartiles, minimum, maximum values displayed, as well as the mean median mode and standard deviation based on the `attacks_difference`, `dangerous_attacks_difference`, and `on_target_difference` when home is not winning?"
   ]
  },
  {
   "cell_type": "code",
   "execution_count": 38,
   "id": "2e5717bd",
   "metadata": {},
   "outputs": [],
   "source": [
    "# summary_stats_not_home_winning = df[~df['home_is_winning']][['attacks_difference', 'dangerous_attacks_difference', 'on_target_difference']].describe()\n",
    "\n",
    "# print(\"Summary Statistics (Home Not Winning):\")\n",
    "# summary_stats_not_home_winning"
   ]
  },
  {
   "cell_type": "markdown",
   "id": "4729de0f-c12a-40d0-83dc-3f35bbc8738d",
   "metadata": {},
   "source": [
    "# Model training"
   ]
  },
  {
   "cell_type": "markdown",
   "id": "f3bad1f9-5565-4a3e-bfeb-25d9cb037a7f",
   "metadata": {},
   "source": [
    "For this project, we will be exploring 3 types of machine learning models: k-nearest neighbor, binomial classification, and multinomial classification."
   ]
  },
  {
   "cell_type": "markdown",
   "metadata": {},
   "source": [
    "## Post-EDA pre-processing"
   ]
  },
  {
   "cell_type": "markdown",
   "metadata": {},
   "source": [
    "With the EDA completed, there are still some pre-processing steps that need to be performed in order to use the different learning models. The `current_minute` column needs to be dropped, since this is not a feature used in the learning models."
   ]
  },
  {
   "cell_type": "markdown",
   "metadata": {},
   "source": [
    "We will also separate the data, depending on whether or not the home team is winning."
   ]
  },
  {
   "cell_type": "code",
   "execution_count": 39,
   "metadata": {},
   "outputs": [
    {
     "name": "stdout",
     "output_type": "stream",
     "text": [
      "1659\n",
      "1165\n"
     ]
    }
   ],
   "source": [
    "df_win = df[df[\"home_is_winning\"] == True]\n",
    "df_lose = df[df[\"home_is_winning\"] == False]\n",
    "print(len(df_win))\n",
    "print(len(df_lose))"
   ]
  },
  {
   "cell_type": "markdown",
   "metadata": {},
   "source": [
    "As shown, there are 1659 winning games and 1165 losing games."
   ]
  },
  {
   "cell_type": "code",
   "execution_count": 40,
   "metadata": {},
   "outputs": [],
   "source": [
    "# We will now separate the labels (y) used in the dataset and move this to a separate dataframe.\n",
    "\n",
    "df_win_y = df_win.pop('home_is_winning')\n",
    "df_lose_y = df_lose.pop('home_is_winning')"
   ]
  },
  {
   "cell_type": "code",
   "execution_count": 41,
   "metadata": {},
   "outputs": [
    {
     "data": {
      "text/plain": [
       "1     1\n",
       "4     1\n",
       "5     1\n",
       "11    1\n",
       "14    1\n",
       "Name: home_is_winning, dtype: int64"
      ]
     },
     "execution_count": 41,
     "metadata": {},
     "output_type": "execute_result"
    }
   ],
   "source": [
    "df_win_y.head()"
   ]
  },
  {
   "cell_type": "code",
   "execution_count": 42,
   "metadata": {},
   "outputs": [
    {
     "data": {
      "text/plain": [
       "0     0\n",
       "8     0\n",
       "12    0\n",
       "20    0\n",
       "21    0\n",
       "Name: home_is_winning, dtype: int64"
      ]
     },
     "execution_count": 42,
     "metadata": {},
     "output_type": "execute_result"
    }
   ],
   "source": [
    "df_lose_y.head()"
   ]
  },
  {
   "cell_type": "markdown",
   "metadata": {},
   "source": [
    "To further simplify the process of creating the machine learning models, we will also change the True/False into 0/1. The True/False was only kept so that the data would be easier to visualize during the EDA."
   ]
  },
  {
   "cell_type": "code",
   "execution_count": 43,
   "metadata": {},
   "outputs": [],
   "source": [
    "df_win_y = df_win_y.astype(int)\n",
    "df_lose_y = df_lose_y.astype(int)"
   ]
  },
  {
   "cell_type": "markdown",
   "metadata": {},
   "source": [
    "We will now convert these into numpy arrays and into the data that will be used for training and testing. \n",
    "\n",
    "70% of the data will be used for training, while the remaining 30% will be used for testing."
   ]
  },
  {
   "cell_type": "code",
   "execution_count": 44,
   "metadata": {},
   "outputs": [
    {
     "data": {
      "text/html": [
       "<div>\n",
       "<style scoped>\n",
       "    .dataframe tbody tr th:only-of-type {\n",
       "        vertical-align: middle;\n",
       "    }\n",
       "\n",
       "    .dataframe tbody tr th {\n",
       "        vertical-align: top;\n",
       "    }\n",
       "\n",
       "    .dataframe thead th {\n",
       "        text-align: right;\n",
       "    }\n",
       "</style>\n",
       "<table border=\"1\" class=\"dataframe\">\n",
       "  <thead>\n",
       "    <tr style=\"text-align: right;\">\n",
       "      <th></th>\n",
       "      <th>home_yellow_cards</th>\n",
       "      <th>away_yellow_cards</th>\n",
       "      <th>home_red_cards</th>\n",
       "      <th>away_red_cards</th>\n",
       "      <th>home_attacks</th>\n",
       "      <th>away_attacks</th>\n",
       "      <th>home_dangerous_attacks</th>\n",
       "      <th>away_dangerous_attacks</th>\n",
       "      <th>home_corners</th>\n",
       "      <th>away_corners</th>\n",
       "      <th>home_off_target</th>\n",
       "      <th>away_off_target</th>\n",
       "      <th>home_on_target</th>\n",
       "      <th>away_on_target</th>\n",
       "      <th>home_possession</th>\n",
       "      <th>away_possession</th>\n",
       "      <th>home_is_winning</th>\n",
       "    </tr>\n",
       "  </thead>\n",
       "  <tbody>\n",
       "    <tr>\n",
       "      <th>0</th>\n",
       "      <td>0.000000</td>\n",
       "      <td>0.000</td>\n",
       "      <td>0.0</td>\n",
       "      <td>0.0</td>\n",
       "      <td>0.152941</td>\n",
       "      <td>0.245902</td>\n",
       "      <td>0.219697</td>\n",
       "      <td>0.185714</td>\n",
       "      <td>0.285714</td>\n",
       "      <td>0.055556</td>\n",
       "      <td>0.166667</td>\n",
       "      <td>0.000000</td>\n",
       "      <td>0.181818</td>\n",
       "      <td>0.315789</td>\n",
       "      <td>48</td>\n",
       "      <td>52</td>\n",
       "      <td>0</td>\n",
       "    </tr>\n",
       "    <tr>\n",
       "      <th>1</th>\n",
       "      <td>0.000000</td>\n",
       "      <td>0.000</td>\n",
       "      <td>0.0</td>\n",
       "      <td>0.0</td>\n",
       "      <td>0.000000</td>\n",
       "      <td>0.000000</td>\n",
       "      <td>0.000000</td>\n",
       "      <td>0.000000</td>\n",
       "      <td>0.000000</td>\n",
       "      <td>0.000000</td>\n",
       "      <td>0.000000</td>\n",
       "      <td>0.000000</td>\n",
       "      <td>0.000000</td>\n",
       "      <td>0.000000</td>\n",
       "      <td>50</td>\n",
       "      <td>50</td>\n",
       "      <td>1</td>\n",
       "    </tr>\n",
       "    <tr>\n",
       "      <th>4</th>\n",
       "      <td>0.142857</td>\n",
       "      <td>0.000</td>\n",
       "      <td>0.0</td>\n",
       "      <td>0.0</td>\n",
       "      <td>0.270588</td>\n",
       "      <td>0.426230</td>\n",
       "      <td>0.159091</td>\n",
       "      <td>0.328571</td>\n",
       "      <td>0.071429</td>\n",
       "      <td>0.055556</td>\n",
       "      <td>0.000000</td>\n",
       "      <td>0.166667</td>\n",
       "      <td>0.181818</td>\n",
       "      <td>0.210526</td>\n",
       "      <td>45</td>\n",
       "      <td>55</td>\n",
       "      <td>1</td>\n",
       "    </tr>\n",
       "    <tr>\n",
       "      <th>5</th>\n",
       "      <td>0.000000</td>\n",
       "      <td>0.000</td>\n",
       "      <td>0.0</td>\n",
       "      <td>0.0</td>\n",
       "      <td>0.341176</td>\n",
       "      <td>0.393443</td>\n",
       "      <td>0.303030</td>\n",
       "      <td>0.250000</td>\n",
       "      <td>0.214286</td>\n",
       "      <td>0.111111</td>\n",
       "      <td>0.166667</td>\n",
       "      <td>0.222222</td>\n",
       "      <td>0.136364</td>\n",
       "      <td>0.157895</td>\n",
       "      <td>50</td>\n",
       "      <td>50</td>\n",
       "      <td>1</td>\n",
       "    </tr>\n",
       "    <tr>\n",
       "      <th>8</th>\n",
       "      <td>0.000000</td>\n",
       "      <td>0.000</td>\n",
       "      <td>0.0</td>\n",
       "      <td>0.0</td>\n",
       "      <td>0.105882</td>\n",
       "      <td>0.224044</td>\n",
       "      <td>0.151515</td>\n",
       "      <td>0.221429</td>\n",
       "      <td>0.142857</td>\n",
       "      <td>0.111111</td>\n",
       "      <td>0.041667</td>\n",
       "      <td>0.166667</td>\n",
       "      <td>0.045455</td>\n",
       "      <td>0.210526</td>\n",
       "      <td>36</td>\n",
       "      <td>64</td>\n",
       "      <td>0</td>\n",
       "    </tr>\n",
       "    <tr>\n",
       "      <th>...</th>\n",
       "      <td>...</td>\n",
       "      <td>...</td>\n",
       "      <td>...</td>\n",
       "      <td>...</td>\n",
       "      <td>...</td>\n",
       "      <td>...</td>\n",
       "      <td>...</td>\n",
       "      <td>...</td>\n",
       "      <td>...</td>\n",
       "      <td>...</td>\n",
       "      <td>...</td>\n",
       "      <td>...</td>\n",
       "      <td>...</td>\n",
       "      <td>...</td>\n",
       "      <td>...</td>\n",
       "      <td>...</td>\n",
       "      <td>...</td>\n",
       "    </tr>\n",
       "    <tr>\n",
       "      <th>6992</th>\n",
       "      <td>0.000000</td>\n",
       "      <td>0.125</td>\n",
       "      <td>0.0</td>\n",
       "      <td>0.0</td>\n",
       "      <td>0.415686</td>\n",
       "      <td>0.415301</td>\n",
       "      <td>0.522727</td>\n",
       "      <td>0.200000</td>\n",
       "      <td>0.214286</td>\n",
       "      <td>0.000000</td>\n",
       "      <td>0.291667</td>\n",
       "      <td>0.333333</td>\n",
       "      <td>0.363636</td>\n",
       "      <td>0.000000</td>\n",
       "      <td>60</td>\n",
       "      <td>40</td>\n",
       "      <td>1</td>\n",
       "    </tr>\n",
       "    <tr>\n",
       "      <th>6994</th>\n",
       "      <td>0.142857</td>\n",
       "      <td>0.250</td>\n",
       "      <td>0.0</td>\n",
       "      <td>0.0</td>\n",
       "      <td>0.309804</td>\n",
       "      <td>0.333333</td>\n",
       "      <td>0.462121</td>\n",
       "      <td>0.250000</td>\n",
       "      <td>0.285714</td>\n",
       "      <td>0.222222</td>\n",
       "      <td>0.125000</td>\n",
       "      <td>0.055556</td>\n",
       "      <td>0.136364</td>\n",
       "      <td>0.157895</td>\n",
       "      <td>53</td>\n",
       "      <td>47</td>\n",
       "      <td>1</td>\n",
       "    </tr>\n",
       "    <tr>\n",
       "      <th>6996</th>\n",
       "      <td>0.000000</td>\n",
       "      <td>0.125</td>\n",
       "      <td>0.0</td>\n",
       "      <td>0.0</td>\n",
       "      <td>0.000000</td>\n",
       "      <td>0.000000</td>\n",
       "      <td>0.000000</td>\n",
       "      <td>0.000000</td>\n",
       "      <td>0.000000</td>\n",
       "      <td>0.000000</td>\n",
       "      <td>0.000000</td>\n",
       "      <td>0.000000</td>\n",
       "      <td>0.000000</td>\n",
       "      <td>0.000000</td>\n",
       "      <td>50</td>\n",
       "      <td>50</td>\n",
       "      <td>1</td>\n",
       "    </tr>\n",
       "    <tr>\n",
       "      <th>6997</th>\n",
       "      <td>0.000000</td>\n",
       "      <td>0.000</td>\n",
       "      <td>0.0</td>\n",
       "      <td>0.0</td>\n",
       "      <td>0.278431</td>\n",
       "      <td>0.327869</td>\n",
       "      <td>0.553030</td>\n",
       "      <td>0.285714</td>\n",
       "      <td>0.500000</td>\n",
       "      <td>0.000000</td>\n",
       "      <td>0.208333</td>\n",
       "      <td>0.277778</td>\n",
       "      <td>0.318182</td>\n",
       "      <td>0.000000</td>\n",
       "      <td>61</td>\n",
       "      <td>39</td>\n",
       "      <td>1</td>\n",
       "    </tr>\n",
       "    <tr>\n",
       "      <th>6998</th>\n",
       "      <td>0.000000</td>\n",
       "      <td>0.000</td>\n",
       "      <td>0.0</td>\n",
       "      <td>0.0</td>\n",
       "      <td>0.333333</td>\n",
       "      <td>0.360656</td>\n",
       "      <td>0.348485</td>\n",
       "      <td>0.142857</td>\n",
       "      <td>0.214286</td>\n",
       "      <td>0.000000</td>\n",
       "      <td>0.166667</td>\n",
       "      <td>0.055556</td>\n",
       "      <td>0.090909</td>\n",
       "      <td>0.052632</td>\n",
       "      <td>52</td>\n",
       "      <td>48</td>\n",
       "      <td>1</td>\n",
       "    </tr>\n",
       "  </tbody>\n",
       "</table>\n",
       "<p>2824 rows × 17 columns</p>\n",
       "</div>"
      ],
      "text/plain": [
       "      home_yellow_cards  away_yellow_cards  home_red_cards  away_red_cards  \\\n",
       "0              0.000000              0.000             0.0             0.0   \n",
       "1              0.000000              0.000             0.0             0.0   \n",
       "4              0.142857              0.000             0.0             0.0   \n",
       "5              0.000000              0.000             0.0             0.0   \n",
       "8              0.000000              0.000             0.0             0.0   \n",
       "...                 ...                ...             ...             ...   \n",
       "6992           0.000000              0.125             0.0             0.0   \n",
       "6994           0.142857              0.250             0.0             0.0   \n",
       "6996           0.000000              0.125             0.0             0.0   \n",
       "6997           0.000000              0.000             0.0             0.0   \n",
       "6998           0.000000              0.000             0.0             0.0   \n",
       "\n",
       "      home_attacks  away_attacks  home_dangerous_attacks  \\\n",
       "0         0.152941      0.245902                0.219697   \n",
       "1         0.000000      0.000000                0.000000   \n",
       "4         0.270588      0.426230                0.159091   \n",
       "5         0.341176      0.393443                0.303030   \n",
       "8         0.105882      0.224044                0.151515   \n",
       "...            ...           ...                     ...   \n",
       "6992      0.415686      0.415301                0.522727   \n",
       "6994      0.309804      0.333333                0.462121   \n",
       "6996      0.000000      0.000000                0.000000   \n",
       "6997      0.278431      0.327869                0.553030   \n",
       "6998      0.333333      0.360656                0.348485   \n",
       "\n",
       "      away_dangerous_attacks  home_corners  away_corners  home_off_target  \\\n",
       "0                   0.185714      0.285714      0.055556         0.166667   \n",
       "1                   0.000000      0.000000      0.000000         0.000000   \n",
       "4                   0.328571      0.071429      0.055556         0.000000   \n",
       "5                   0.250000      0.214286      0.111111         0.166667   \n",
       "8                   0.221429      0.142857      0.111111         0.041667   \n",
       "...                      ...           ...           ...              ...   \n",
       "6992                0.200000      0.214286      0.000000         0.291667   \n",
       "6994                0.250000      0.285714      0.222222         0.125000   \n",
       "6996                0.000000      0.000000      0.000000         0.000000   \n",
       "6997                0.285714      0.500000      0.000000         0.208333   \n",
       "6998                0.142857      0.214286      0.000000         0.166667   \n",
       "\n",
       "      away_off_target  home_on_target  away_on_target  home_possession  \\\n",
       "0            0.000000        0.181818        0.315789               48   \n",
       "1            0.000000        0.000000        0.000000               50   \n",
       "4            0.166667        0.181818        0.210526               45   \n",
       "5            0.222222        0.136364        0.157895               50   \n",
       "8            0.166667        0.045455        0.210526               36   \n",
       "...               ...             ...             ...              ...   \n",
       "6992         0.333333        0.363636        0.000000               60   \n",
       "6994         0.055556        0.136364        0.157895               53   \n",
       "6996         0.000000        0.000000        0.000000               50   \n",
       "6997         0.277778        0.318182        0.000000               61   \n",
       "6998         0.055556        0.090909        0.052632               52   \n",
       "\n",
       "      away_possession  home_is_winning  \n",
       "0                  52                0  \n",
       "1                  50                1  \n",
       "4                  55                1  \n",
       "5                  50                1  \n",
       "8                  64                0  \n",
       "...               ...              ...  \n",
       "6992               40                1  \n",
       "6994               47                1  \n",
       "6996               50                1  \n",
       "6997               39                1  \n",
       "6998               48                1  \n",
       "\n",
       "[2824 rows x 17 columns]"
      ]
     },
     "execution_count": 44,
     "metadata": {},
     "output_type": "execute_result"
    }
   ],
   "source": [
    "df"
   ]
  },
  {
   "cell_type": "code",
   "execution_count": 45,
   "metadata": {},
   "outputs": [],
   "source": [
    "from sklearn.model_selection import train_test_split"
   ]
  },
  {
   "cell_type": "code",
   "execution_count": 46,
   "metadata": {},
   "outputs": [
    {
     "name": "stdout",
     "output_type": "stream",
     "text": [
      "X shape:  (2824, 16)\n",
      "y shape:  (2824,)\n",
      "Training data shape:  (2259, 16)\n",
      "Training labels shape:  (2259,)\n",
      "Test data shape:  (565, 16)\n",
      "Test labels shape:  (565,)\n"
     ]
    }
   ],
   "source": [
    "X_df = df.values[:,:-1]\n",
    "y_df = df.values[:,-1]\n",
    "print(\"X shape: \", X_df.shape)\n",
    "print(\"y shape: \", y_df.shape)\n",
    "\n",
    "X_train_val_df, X_test_df, y_train_val_df, y_test_df = train_test_split(X_df, y_df, stratify = y_df, test_size = 0.2, random_state = 42)\n",
    "print('Training data shape: ', X_train_val_df.shape)\n",
    "print('Training labels shape: ', y_train_val_df.shape)\n",
    "print('Test data shape: ', X_test_df.shape)\n",
    "print('Test labels shape: ', y_test_df.shape)"
   ]
  },
  {
   "cell_type": "code",
   "execution_count": 47,
   "metadata": {},
   "outputs": [
    {
     "name": "stdout",
     "output_type": "stream",
     "text": [
      "Training data shape:  (1694, 16)\n",
      "Training labels shape:  (1694,)\n",
      "Test data shape:  (565, 16)\n",
      "Test labels shape:  (565,)\n"
     ]
    }
   ],
   "source": [
    "X_train_df, X_val_df, y_train_df, y_val_df = train_test_split(X_train_val_df, y_train_val_df, stratify = y_train_val_df, test_size = 0.25, random_state = 42)\n",
    "print('Training data shape: ', X_train_df.shape)\n",
    "print('Training labels shape: ', y_train_df.shape)\n",
    "print('Test data shape: ', X_test_df.shape)\n",
    "print('Test labels shape: ', y_test_df.shape)"
   ]
  },
  {
   "cell_type": "code",
   "execution_count": 48,
   "metadata": {},
   "outputs": [
    {
     "name": "stdout",
     "output_type": "stream",
     "text": [
      "X shape:  (2824, 8)\n",
      "y shape:  (2824,)\n",
      "Training data shape:  (2259, 16)\n",
      "Training labels shape:  (2259,)\n",
      "Test data shape:  (565, 16)\n",
      "Test labels shape:  (565,)\n"
     ]
    }
   ],
   "source": [
    "X_df_pair = df_pair.values[:,:-1]\n",
    "y_df_pair = df_pair.values[:,-1]\n",
    "print(\"X shape: \", X_df_pair.shape)\n",
    "print(\"y shape: \", y_df_pair.shape)\n",
    "\n",
    "X_train_val_df_pair, X_test_df_pair, y_train_val_df_pair, y_test_df_pair = train_test_split(X_df_pair, y_df_pair, stratify = y_df_pair, test_size = 0.2, random_state = 42)\n",
    "print('Training data shape: ', X_train_val_df.shape)\n",
    "print('Training labels shape: ', y_train_val_df.shape)\n",
    "print('Test data shape: ', X_test_df.shape)\n",
    "print('Test labels shape: ', y_test_df.shape)"
   ]
  },
  {
   "cell_type": "code",
   "execution_count": 49,
   "metadata": {},
   "outputs": [
    {
     "name": "stdout",
     "output_type": "stream",
     "text": [
      "Training data shape:  (1694, 8)\n",
      "Training labels shape:  (1694,)\n",
      "Test data shape:  (565, 8)\n",
      "Test labels shape:  (565,)\n"
     ]
    }
   ],
   "source": [
    "X_train_df_pair, X_val_df_pair, y_train_df_pair, y_val_df_pair = train_test_split(X_train_val_df_pair, y_train_val_df_pair, stratify = y_train_val_df_pair, test_size = 0.25, random_state = 42)\n",
    "print('Training data shape: ', X_train_df_pair.shape)\n",
    "print('Training labels shape: ', y_train_df_pair.shape)\n",
    "print('Test data shape: ', X_test_df_pair.shape)\n",
    "print('Test labels shape: ', y_test_df_pair.shape)"
   ]
  },
  {
   "cell_type": "markdown",
   "metadata": {},
   "source": [
    "## K-nearest neighbor"
   ]
  },
  {
   "cell_type": "code",
   "execution_count": 50,
   "metadata": {},
   "outputs": [],
   "source": [
    "from sklearn.neighbors import KNeighborsClassifier"
   ]
  },
  {
   "cell_type": "code",
   "execution_count": 51,
   "metadata": {},
   "outputs": [],
   "source": [
    "knnModel = KNeighborsClassifier()"
   ]
  },
  {
   "cell_type": "code",
   "execution_count": 52,
   "metadata": {},
   "outputs": [
    {
     "data": {
      "text/html": [
       "<style>#sk-container-id-1 {color: black;}#sk-container-id-1 pre{padding: 0;}#sk-container-id-1 div.sk-toggleable {background-color: white;}#sk-container-id-1 label.sk-toggleable__label {cursor: pointer;display: block;width: 100%;margin-bottom: 0;padding: 0.3em;box-sizing: border-box;text-align: center;}#sk-container-id-1 label.sk-toggleable__label-arrow:before {content: \"▸\";float: left;margin-right: 0.25em;color: #696969;}#sk-container-id-1 label.sk-toggleable__label-arrow:hover:before {color: black;}#sk-container-id-1 div.sk-estimator:hover label.sk-toggleable__label-arrow:before {color: black;}#sk-container-id-1 div.sk-toggleable__content {max-height: 0;max-width: 0;overflow: hidden;text-align: left;background-color: #f0f8ff;}#sk-container-id-1 div.sk-toggleable__content pre {margin: 0.2em;color: black;border-radius: 0.25em;background-color: #f0f8ff;}#sk-container-id-1 input.sk-toggleable__control:checked~div.sk-toggleable__content {max-height: 200px;max-width: 100%;overflow: auto;}#sk-container-id-1 input.sk-toggleable__control:checked~label.sk-toggleable__label-arrow:before {content: \"▾\";}#sk-container-id-1 div.sk-estimator input.sk-toggleable__control:checked~label.sk-toggleable__label {background-color: #d4ebff;}#sk-container-id-1 div.sk-label input.sk-toggleable__control:checked~label.sk-toggleable__label {background-color: #d4ebff;}#sk-container-id-1 input.sk-hidden--visually {border: 0;clip: rect(1px 1px 1px 1px);clip: rect(1px, 1px, 1px, 1px);height: 1px;margin: -1px;overflow: hidden;padding: 0;position: absolute;width: 1px;}#sk-container-id-1 div.sk-estimator {font-family: monospace;background-color: #f0f8ff;border: 1px dotted black;border-radius: 0.25em;box-sizing: border-box;margin-bottom: 0.5em;}#sk-container-id-1 div.sk-estimator:hover {background-color: #d4ebff;}#sk-container-id-1 div.sk-parallel-item::after {content: \"\";width: 100%;border-bottom: 1px solid gray;flex-grow: 1;}#sk-container-id-1 div.sk-label:hover label.sk-toggleable__label {background-color: #d4ebff;}#sk-container-id-1 div.sk-serial::before {content: \"\";position: absolute;border-left: 1px solid gray;box-sizing: border-box;top: 0;bottom: 0;left: 50%;z-index: 0;}#sk-container-id-1 div.sk-serial {display: flex;flex-direction: column;align-items: center;background-color: white;padding-right: 0.2em;padding-left: 0.2em;position: relative;}#sk-container-id-1 div.sk-item {position: relative;z-index: 1;}#sk-container-id-1 div.sk-parallel {display: flex;align-items: stretch;justify-content: center;background-color: white;position: relative;}#sk-container-id-1 div.sk-item::before, #sk-container-id-1 div.sk-parallel-item::before {content: \"\";position: absolute;border-left: 1px solid gray;box-sizing: border-box;top: 0;bottom: 0;left: 50%;z-index: -1;}#sk-container-id-1 div.sk-parallel-item {display: flex;flex-direction: column;z-index: 1;position: relative;background-color: white;}#sk-container-id-1 div.sk-parallel-item:first-child::after {align-self: flex-end;width: 50%;}#sk-container-id-1 div.sk-parallel-item:last-child::after {align-self: flex-start;width: 50%;}#sk-container-id-1 div.sk-parallel-item:only-child::after {width: 0;}#sk-container-id-1 div.sk-dashed-wrapped {border: 1px dashed gray;margin: 0 0.4em 0.5em 0.4em;box-sizing: border-box;padding-bottom: 0.4em;background-color: white;}#sk-container-id-1 div.sk-label label {font-family: monospace;font-weight: bold;display: inline-block;line-height: 1.2em;}#sk-container-id-1 div.sk-label-container {text-align: center;}#sk-container-id-1 div.sk-container {/* jupyter's `normalize.less` sets `[hidden] { display: none; }` but bootstrap.min.css set `[hidden] { display: none !important; }` so we also need the `!important` here to be able to override the default hidden behavior on the sphinx rendered scikit-learn.org. See: https://github.com/scikit-learn/scikit-learn/issues/21755 */display: inline-block !important;position: relative;}#sk-container-id-1 div.sk-text-repr-fallback {display: none;}</style><div id=\"sk-container-id-1\" class=\"sk-top-container\"><div class=\"sk-text-repr-fallback\"><pre>KNeighborsClassifier()</pre><b>In a Jupyter environment, please rerun this cell to show the HTML representation or trust the notebook. <br />On GitHub, the HTML representation is unable to render, please try loading this page with nbviewer.org.</b></div><div class=\"sk-container\" hidden><div class=\"sk-item\"><div class=\"sk-estimator sk-toggleable\"><input class=\"sk-toggleable__control sk-hidden--visually\" id=\"sk-estimator-id-1\" type=\"checkbox\" checked><label for=\"sk-estimator-id-1\" class=\"sk-toggleable__label sk-toggleable__label-arrow\">KNeighborsClassifier</label><div class=\"sk-toggleable__content\"><pre>KNeighborsClassifier()</pre></div></div></div></div></div>"
      ],
      "text/plain": [
       "KNeighborsClassifier()"
      ]
     },
     "execution_count": 52,
     "metadata": {},
     "output_type": "execute_result"
    }
   ],
   "source": [
    "knnModel.fit(X_train_df, y_train_df)"
   ]
  },
  {
   "cell_type": "code",
   "execution_count": 53,
   "metadata": {},
   "outputs": [
    {
     "data": {
      "text/plain": [
       "array([1., 1., 1., 1., 1., 1., 1., 1., 1., 1., 1., 1., 1., 0., 0., 0., 1.,\n",
       "       1., 0., 1., 0., 1., 0., 1., 1., 1., 1., 0., 0., 0., 0., 1., 1., 1.,\n",
       "       1., 1., 1., 0., 1., 0., 1., 1., 1., 0., 0., 1., 1., 1., 1., 0., 0.,\n",
       "       1., 1., 0., 0., 1., 0., 1., 0., 1., 1., 1., 1., 0., 1., 0., 1., 0.,\n",
       "       1., 1., 1., 1., 1., 0., 1., 1., 0., 0., 1., 1., 1., 1., 1., 1., 1.,\n",
       "       1., 1., 1., 1., 0., 0., 1., 0., 1., 0., 0., 1., 1., 0., 1., 0., 1.,\n",
       "       1., 0., 0., 1., 0., 0., 1., 1., 1., 1., 1., 0., 1., 1., 1., 0., 1.,\n",
       "       0., 0., 1., 1., 1., 1., 1., 0., 1., 0., 1., 1., 1., 0., 1., 1., 1.,\n",
       "       0., 1., 1., 1., 0., 0., 1., 1., 1., 0., 0., 0., 0., 0., 1., 1., 1.,\n",
       "       0., 0., 0., 1., 1., 1., 0., 1., 1., 0., 1., 1., 1., 1., 0., 1., 1.,\n",
       "       0., 1., 0., 0., 0., 1., 1., 0., 1., 1., 1., 1., 1., 1., 1., 1., 1.,\n",
       "       1., 1., 0., 1., 1., 0., 1., 1., 1., 0., 1., 0., 1., 1., 0., 1., 1.,\n",
       "       1., 1., 0., 1., 1., 0., 1., 1., 1., 1., 1., 1., 1., 0., 1., 1., 1.,\n",
       "       0., 1., 1., 0., 1., 0., 0., 0., 1., 0., 1., 1., 1., 1., 1., 0., 0.,\n",
       "       1., 1., 0., 1., 1., 1., 1., 1., 1., 1., 1., 1., 1., 0., 0., 1., 0.,\n",
       "       1., 1., 1., 1., 1., 1., 0., 0., 0., 1., 1., 1., 0., 1., 1., 1., 1.,\n",
       "       1., 1., 0., 1., 1., 1., 1., 0., 0., 0., 0., 1., 1., 0., 1., 0., 0.,\n",
       "       1., 1., 0., 1., 1., 1., 1., 0., 1., 1., 1., 1., 1., 1., 1., 1., 1.,\n",
       "       1., 0., 0., 1., 0., 1., 1., 1., 1., 1., 1., 0., 0., 1., 1., 0., 1.,\n",
       "       1., 0., 0., 1., 0., 1., 1., 1., 0., 0., 1., 0., 0., 1., 1., 1., 1.,\n",
       "       0., 0., 1., 0., 0., 1., 1., 0., 1., 1., 1., 1., 1., 1., 1., 1., 1.,\n",
       "       1., 1., 0., 1., 1., 0., 1., 1., 0., 1., 1., 0., 1., 1., 0., 1., 1.,\n",
       "       0., 1., 1., 0., 1., 0., 1., 0., 1., 1., 0., 0., 1., 0., 1., 1., 1.,\n",
       "       0., 1., 1., 0., 0., 1., 1., 1., 0., 1., 0., 1., 1., 1., 1., 1., 1.,\n",
       "       1., 1., 0., 1., 1., 1., 1., 1., 1., 1., 0., 1., 0., 1., 0., 1., 0.,\n",
       "       1., 1., 1., 1., 1., 0., 1., 0., 0., 1., 1., 1., 1., 1., 1., 1., 1.,\n",
       "       0., 1., 1., 1., 0., 0., 0., 1., 0., 1., 1., 1., 1., 1., 0., 1., 0.,\n",
       "       1., 1., 0., 1., 1., 0., 1., 0., 1., 0., 1., 1., 1., 1., 1., 0., 1.,\n",
       "       0., 0., 1., 1., 1., 1., 0., 0., 1., 1., 1., 1., 0., 1., 1., 1., 1.,\n",
       "       0., 1., 0., 1., 1., 1., 1., 1., 1., 0., 0., 1., 0., 1., 1., 0., 0.,\n",
       "       0., 1., 0., 0., 1., 1., 0., 0., 1., 1., 0., 1., 0., 0., 1., 1., 1.,\n",
       "       1., 1., 1., 1., 1., 0., 1., 0., 1., 1., 1., 1., 0., 0., 1., 0., 0.,\n",
       "       1., 0., 1., 0., 1., 1., 1., 0., 1., 1., 1., 1., 1., 1., 1., 1., 0.,\n",
       "       0., 1., 1., 1.])"
      ]
     },
     "execution_count": 53,
     "metadata": {},
     "output_type": "execute_result"
    }
   ],
   "source": [
    "knnModel.predict(X_test_df)"
   ]
  },
  {
   "cell_type": "code",
   "execution_count": 54,
   "metadata": {},
   "outputs": [],
   "source": [
    "from sklearn.model_selection import cross_val_predict, cross_val_score\n",
    "from sklearn.metrics import accuracy_score, classification_report"
   ]
  },
  {
   "cell_type": "code",
   "execution_count": 55,
   "metadata": {},
   "outputs": [],
   "source": [
    "predictions = cross_val_predict(knnModel.fit(X_train_val_df, y_train_val_df), X_df, y_df, cv=10)"
   ]
  },
  {
   "cell_type": "code",
   "execution_count": 56,
   "metadata": {},
   "outputs": [
    {
     "name": "stdout",
     "output_type": "stream",
     "text": [
      "0.6278328611898017\n",
      "              precision    recall  f1-score   support\n",
      "\n",
      "         0.0       0.56      0.43      0.49      1165\n",
      "         1.0       0.66      0.77      0.71      1659\n",
      "\n",
      "    accuracy                           0.63      2824\n",
      "   macro avg       0.61      0.60      0.60      2824\n",
      "weighted avg       0.62      0.63      0.62      2824\n",
      "\n"
     ]
    }
   ],
   "source": [
    "print(accuracy_score(y_df, predictions))\n",
    "print(classification_report(y_df, predictions))"
   ]
  },
  {
   "cell_type": "code",
   "execution_count": 57,
   "metadata": {},
   "outputs": [
    {
     "name": "stdout",
     "output_type": "stream",
     "text": [
      "Scores per fold :\n",
      "[0.6360424  0.63957597 0.6360424  0.63250883 0.57092199 0.65248227\n",
      " 0.65957447 0.64184397 0.61347518 0.59574468]\n",
      "Average accuracy : 0.6278212164498911\n"
     ]
    }
   ],
   "source": [
    "scores = cross_val_score(knnModel.fit(X_train_val_df, y_train_val_df), X_df, y_df, cv=10)\n",
    "print(\"Scores per fold :\\n\" + str(scores))\n",
    "print(\"Average accuracy : \" + str(np.sum(scores) / len(scores)))"
   ]
  },
  {
   "cell_type": "code",
   "execution_count": 58,
   "metadata": {},
   "outputs": [],
   "source": [
    "k_folds = 5"
   ]
  },
  {
   "cell_type": "code",
   "execution_count": 59,
   "metadata": {},
   "outputs": [],
   "source": [
    "k_choices = [1, 3, 5, 8, 10, 12, 15, 20]"
   ]
  },
  {
   "cell_type": "code",
   "execution_count": 60,
   "metadata": {},
   "outputs": [],
   "source": [
    "scores = np.zeros((len(k_choices), k_folds))"
   ]
  },
  {
   "cell_type": "code",
   "execution_count": 61,
   "metadata": {},
   "outputs": [
    {
     "name": "stdout",
     "output_type": "stream",
     "text": [
      "k is : 1\n",
      "[0.57079646 0.59734513 0.57743363 0.61725664 0.6075388 ]\n",
      "k is : 3\n",
      "[0.61725664 0.59955752 0.56415929 0.61061947 0.60310421]\n",
      "k is : 5\n",
      "[0.61946903 0.66371681 0.58185841 0.6039823  0.61197339]\n",
      "k is : 8\n",
      "[0.5840708  0.70353982 0.57964602 0.5840708  0.59423503]\n",
      "k is : 10\n",
      "[0.59070796 0.67920354 0.61504425 0.62168142 0.60532151]\n",
      "k is : 12\n",
      "[0.62831858 0.65929204 0.63495575 0.63053097 0.58758315]\n",
      "k is : 15\n",
      "[0.59292035 0.65707965 0.63274336 0.62168142 0.63192905]\n",
      "k is : 20\n",
      "[0.60840708 0.60840708 0.59955752 0.62389381 0.61419069]\n"
     ]
    }
   ],
   "source": [
    "for i in range(len(k_choices)):\n",
    "    print(\"k is : \" + str(k_choices[i]))\n",
    "    knnModel = KNeighborsClassifier(n_neighbors=k_choices[i])\n",
    "    scores[i] = cross_val_score(knnModel, X_train_val_df, y_train_val_df, cv=k_folds)\n",
    "    print(scores[i])\n",
    "    pass"
   ]
  },
  {
   "cell_type": "code",
   "execution_count": 62,
   "metadata": {},
   "outputs": [
    {
     "data": {
      "image/png": "[encoded data removed]",
      "text/plain": [
       "<Figure size 640x480 with 1 Axes>"
      ]
     },
     "metadata": {},
     "output_type": "display_data"
    }
   ],
   "source": [
    "def plot_scatter(scores):\n",
    "    for i in range(len(scores)):\n",
    "        x=[k_choices[i]] * 5\n",
    "        plt.scatter(x, scores[i])\n",
    "        \n",
    "plot_scatter(scores)"
   ]
  },
  {
   "cell_type": "code",
   "execution_count": 63,
   "metadata": {},
   "outputs": [],
   "source": [
    "avg_scores = np.mean(scores,axis=1)"
   ]
  },
  {
   "cell_type": "code",
   "execution_count": 64,
   "metadata": {},
   "outputs": [],
   "source": [
    "stddev_scores = np.std(scores, axis=1)"
   ]
  },
  {
   "cell_type": "code",
   "execution_count": 65,
   "metadata": {},
   "outputs": [
    {
     "data": {
      "text/plain": [
       "Text(0, 0.5, 'Cross-validation accuracy')"
      ]
     },
     "execution_count": 65,
     "metadata": {},
     "output_type": "execute_result"
    },
    {
     "data": {
      "image/png": "[encoded data removed]",
      "text/plain": [
       "<Figure size 640x480 with 1 Axes>"
      ]
     },
     "metadata": {},
     "output_type": "display_data"
    }
   ],
   "source": [
    "plot_scatter(scores)\n",
    "\n",
    "plt.errorbar(k_choices, avg_scores, yerr=stddev_scores)\n",
    "plt.title('Cross-validation on k')\n",
    "plt.xlabel('k')\n",
    "plt.ylabel('Cross-validation accuracy')"
   ]
  },
  {
   "cell_type": "code",
   "execution_count": 66,
   "metadata": {},
   "outputs": [],
   "source": [
    "neighbors = 13\n",
    "knnModel = KNeighborsClassifier(neighbors)"
   ]
  },
  {
   "cell_type": "code",
   "execution_count": 67,
   "metadata": {},
   "outputs": [
    {
     "data": {
      "text/html": [
       "<style>#sk-container-id-2 {color: black;}#sk-container-id-2 pre{padding: 0;}#sk-container-id-2 div.sk-toggleable {background-color: white;}#sk-container-id-2 label.sk-toggleable__label {cursor: pointer;display: block;width: 100%;margin-bottom: 0;padding: 0.3em;box-sizing: border-box;text-align: center;}#sk-container-id-2 label.sk-toggleable__label-arrow:before {content: \"▸\";float: left;margin-right: 0.25em;color: #696969;}#sk-container-id-2 label.sk-toggleable__label-arrow:hover:before {color: black;}#sk-container-id-2 div.sk-estimator:hover label.sk-toggleable__label-arrow:before {color: black;}#sk-container-id-2 div.sk-toggleable__content {max-height: 0;max-width: 0;overflow: hidden;text-align: left;background-color: #f0f8ff;}#sk-container-id-2 div.sk-toggleable__content pre {margin: 0.2em;color: black;border-radius: 0.25em;background-color: #f0f8ff;}#sk-container-id-2 input.sk-toggleable__control:checked~div.sk-toggleable__content {max-height: 200px;max-width: 100%;overflow: auto;}#sk-container-id-2 input.sk-toggleable__control:checked~label.sk-toggleable__label-arrow:before {content: \"▾\";}#sk-container-id-2 div.sk-estimator input.sk-toggleable__control:checked~label.sk-toggleable__label {background-color: #d4ebff;}#sk-container-id-2 div.sk-label input.sk-toggleable__control:checked~label.sk-toggleable__label {background-color: #d4ebff;}#sk-container-id-2 input.sk-hidden--visually {border: 0;clip: rect(1px 1px 1px 1px);clip: rect(1px, 1px, 1px, 1px);height: 1px;margin: -1px;overflow: hidden;padding: 0;position: absolute;width: 1px;}#sk-container-id-2 div.sk-estimator {font-family: monospace;background-color: #f0f8ff;border: 1px dotted black;border-radius: 0.25em;box-sizing: border-box;margin-bottom: 0.5em;}#sk-container-id-2 div.sk-estimator:hover {background-color: #d4ebff;}#sk-container-id-2 div.sk-parallel-item::after {content: \"\";width: 100%;border-bottom: 1px solid gray;flex-grow: 1;}#sk-container-id-2 div.sk-label:hover label.sk-toggleable__label {background-color: #d4ebff;}#sk-container-id-2 div.sk-serial::before {content: \"\";position: absolute;border-left: 1px solid gray;box-sizing: border-box;top: 0;bottom: 0;left: 50%;z-index: 0;}#sk-container-id-2 div.sk-serial {display: flex;flex-direction: column;align-items: center;background-color: white;padding-right: 0.2em;padding-left: 0.2em;position: relative;}#sk-container-id-2 div.sk-item {position: relative;z-index: 1;}#sk-container-id-2 div.sk-parallel {display: flex;align-items: stretch;justify-content: center;background-color: white;position: relative;}#sk-container-id-2 div.sk-item::before, #sk-container-id-2 div.sk-parallel-item::before {content: \"\";position: absolute;border-left: 1px solid gray;box-sizing: border-box;top: 0;bottom: 0;left: 50%;z-index: -1;}#sk-container-id-2 div.sk-parallel-item {display: flex;flex-direction: column;z-index: 1;position: relative;background-color: white;}#sk-container-id-2 div.sk-parallel-item:first-child::after {align-self: flex-end;width: 50%;}#sk-container-id-2 div.sk-parallel-item:last-child::after {align-self: flex-start;width: 50%;}#sk-container-id-2 div.sk-parallel-item:only-child::after {width: 0;}#sk-container-id-2 div.sk-dashed-wrapped {border: 1px dashed gray;margin: 0 0.4em 0.5em 0.4em;box-sizing: border-box;padding-bottom: 0.4em;background-color: white;}#sk-container-id-2 div.sk-label label {font-family: monospace;font-weight: bold;display: inline-block;line-height: 1.2em;}#sk-container-id-2 div.sk-label-container {text-align: center;}#sk-container-id-2 div.sk-container {/* jupyter's `normalize.less` sets `[hidden] { display: none; }` but bootstrap.min.css set `[hidden] { display: none !important; }` so we also need the `!important` here to be able to override the default hidden behavior on the sphinx rendered scikit-learn.org. See: https://github.com/scikit-learn/scikit-learn/issues/21755 */display: inline-block !important;position: relative;}#sk-container-id-2 div.sk-text-repr-fallback {display: none;}</style><div id=\"sk-container-id-2\" class=\"sk-top-container\"><div class=\"sk-text-repr-fallback\"><pre>KNeighborsClassifier(n_neighbors=13)</pre><b>In a Jupyter environment, please rerun this cell to show the HTML representation or trust the notebook. <br />On GitHub, the HTML representation is unable to render, please try loading this page with nbviewer.org.</b></div><div class=\"sk-container\" hidden><div class=\"sk-item\"><div class=\"sk-estimator sk-toggleable\"><input class=\"sk-toggleable__control sk-hidden--visually\" id=\"sk-estimator-id-2\" type=\"checkbox\" checked><label for=\"sk-estimator-id-2\" class=\"sk-toggleable__label sk-toggleable__label-arrow\">KNeighborsClassifier</label><div class=\"sk-toggleable__content\"><pre>KNeighborsClassifier(n_neighbors=13)</pre></div></div></div></div></div>"
      ],
      "text/plain": [
       "KNeighborsClassifier(n_neighbors=13)"
      ]
     },
     "execution_count": 67,
     "metadata": {},
     "output_type": "execute_result"
    }
   ],
   "source": [
    "knnModel.fit(X_train_df, y_train_df)"
   ]
  },
  {
   "cell_type": "code",
   "execution_count": 68,
   "metadata": {},
   "outputs": [
    {
     "data": {
      "text/plain": [
       "array([1., 1., 1., 1., 0., 1., 1., 1., 1., 1., 1., 1., 0., 1., 0., 0., 1.,\n",
       "       1., 1., 1., 1., 1., 1., 1., 0., 1., 1., 1., 1., 1., 1., 1., 1., 1.,\n",
       "       1., 1., 1., 1., 1., 0., 1., 1., 0., 0., 0., 1., 1., 1., 1., 0., 0.,\n",
       "       1., 1., 0., 1., 1., 0., 0., 1., 0., 1., 0., 1., 0., 1., 0., 1., 0.,\n",
       "       1., 1., 1., 1., 0., 1., 0., 0., 0., 0., 1., 1., 1., 1., 1., 1., 1.,\n",
       "       1., 1., 1., 1., 0., 1., 1., 0., 1., 0., 0., 1., 1., 0., 1., 1., 1.,\n",
       "       1., 0., 0., 1., 0., 1., 0., 1., 0., 1., 1., 0., 1., 1., 1., 0., 1.,\n",
       "       0., 0., 1., 1., 1., 1., 1., 1., 1., 1., 1., 1., 1., 1., 1., 1., 1.,\n",
       "       1., 1., 1., 0., 1., 1., 1., 1., 1., 0., 0., 1., 1., 0., 1., 1., 0.,\n",
       "       0., 0., 1., 0., 1., 1., 0., 1., 1., 0., 1., 1., 1., 1., 0., 1., 1.,\n",
       "       0., 1., 0., 0., 1., 1., 1., 1., 1., 1., 1., 1., 1., 1., 1., 1., 1.,\n",
       "       1., 1., 0., 1., 0., 0., 1., 1., 0., 0., 1., 0., 1., 1., 1., 1., 1.,\n",
       "       1., 1., 1., 0., 1., 0., 1., 1., 1., 1., 1., 1., 0., 1., 1., 1., 1.,\n",
       "       1., 0., 1., 0., 1., 1., 0., 0., 1., 0., 1., 1., 1., 1., 1., 1., 1.,\n",
       "       1., 1., 0., 1., 1., 1., 1., 1., 1., 1., 1., 1., 1., 0., 1., 1., 0.,\n",
       "       1., 1., 1., 0., 1., 1., 0., 0., 0., 1., 1., 1., 0., 1., 1., 0., 1.,\n",
       "       1., 1., 0., 1., 1., 1., 1., 0., 0., 0., 0., 1., 1., 1., 1., 1., 1.,\n",
       "       1., 1., 0., 1., 1., 1., 0., 0., 1., 1., 1., 1., 1., 1., 1., 1., 1.,\n",
       "       1., 0., 1., 1., 0., 1., 1., 0., 1., 0., 1., 1., 0., 1., 1., 0., 1.,\n",
       "       1., 0., 0., 1., 0., 1., 1., 1., 1., 0., 1., 1., 0., 1., 1., 1., 1.,\n",
       "       0., 1., 1., 0., 0., 1., 1., 0., 1., 1., 1., 1., 1., 0., 1., 1., 1.,\n",
       "       1., 1., 1., 1., 1., 0., 1., 1., 1., 1., 0., 0., 1., 1., 0., 1., 1.,\n",
       "       1., 0., 1., 1., 1., 0., 1., 1., 1., 1., 1., 0., 1., 0., 1., 1., 1.,\n",
       "       1., 1., 1., 0., 1., 1., 1., 1., 1., 1., 0., 1., 1., 1., 1., 1., 1.,\n",
       "       1., 1., 0., 1., 1., 1., 1., 1., 1., 1., 0., 1., 0., 0., 0., 1., 1.,\n",
       "       1., 1., 1., 1., 1., 0., 1., 0., 1., 1., 1., 1., 0., 1., 0., 1., 1.,\n",
       "       0., 1., 1., 1., 0., 1., 0., 1., 0., 1., 1., 1., 1., 1., 1., 1., 1.,\n",
       "       1., 1., 0., 0., 1., 1., 1., 0., 1., 1., 1., 1., 1., 1., 0., 0., 1.,\n",
       "       0., 0., 1., 1., 0., 1., 0., 1., 1., 1., 1., 1., 0., 0., 1., 1., 1.,\n",
       "       0., 1., 1., 1., 1., 1., 1., 1., 1., 1., 0., 1., 0., 0., 1., 1., 0.,\n",
       "       1., 0., 0., 0., 1., 1., 0., 0., 1., 1., 1., 1., 1., 0., 1., 1., 1.,\n",
       "       1., 1., 1., 1., 1., 0., 1., 1., 1., 1., 1., 1., 1., 1., 1., 0., 1.,\n",
       "       0., 0., 1., 0., 0., 1., 1., 0., 0., 0., 1., 1., 1., 1., 1., 1., 0.,\n",
       "       1., 1., 1., 1.])"
      ]
     },
     "execution_count": 68,
     "metadata": {},
     "output_type": "execute_result"
    }
   ],
   "source": [
    "y_predicted = knnModel.predict(X_test_df)\n",
    "y_predicted"
   ]
  },
  {
   "cell_type": "code",
   "execution_count": 69,
   "metadata": {},
   "outputs": [
    {
     "name": "stdout",
     "output_type": "stream",
     "text": [
      "0.6230088495575221\n",
      "              precision    recall  f1-score   support\n",
      "\n",
      "           0       0.56      0.37      0.45       233\n",
      "           1       0.64      0.80      0.71       332\n",
      "\n",
      "    accuracy                           0.62       565\n",
      "   macro avg       0.60      0.59      0.58       565\n",
      "weighted avg       0.61      0.62      0.60       565\n",
      "\n"
     ]
    }
   ],
   "source": [
    "classes = [\"0\", \"1\"]\n",
    "print(accuracy_score(y_test_df, y_predicted))\n",
    "print(classification_report(y_test_df, y_predicted, target_names=classes))\n",
    "\n",
    "num_correct = np.sum(y_test_df==y_predicted)\n",
    "accuracy = num_correct/len(y_test_df)"
   ]
  },
  {
   "cell_type": "markdown",
   "metadata": {},
   "source": [
    "-----"
   ]
  },
  {
   "cell_type": "code",
   "execution_count": 70,
   "metadata": {},
   "outputs": [],
   "source": [
    "knnModel = KNeighborsClassifier()"
   ]
  },
  {
   "cell_type": "code",
   "execution_count": 71,
   "metadata": {},
   "outputs": [
    {
     "data": {
      "text/html": [
       "<style>#sk-container-id-3 {color: black;}#sk-container-id-3 pre{padding: 0;}#sk-container-id-3 div.sk-toggleable {background-color: white;}#sk-container-id-3 label.sk-toggleable__label {cursor: pointer;display: block;width: 100%;margin-bottom: 0;padding: 0.3em;box-sizing: border-box;text-align: center;}#sk-container-id-3 label.sk-toggleable__label-arrow:before {content: \"▸\";float: left;margin-right: 0.25em;color: #696969;}#sk-container-id-3 label.sk-toggleable__label-arrow:hover:before {color: black;}#sk-container-id-3 div.sk-estimator:hover label.sk-toggleable__label-arrow:before {color: black;}#sk-container-id-3 div.sk-toggleable__content {max-height: 0;max-width: 0;overflow: hidden;text-align: left;background-color: #f0f8ff;}#sk-container-id-3 div.sk-toggleable__content pre {margin: 0.2em;color: black;border-radius: 0.25em;background-color: #f0f8ff;}#sk-container-id-3 input.sk-toggleable__control:checked~div.sk-toggleable__content {max-height: 200px;max-width: 100%;overflow: auto;}#sk-container-id-3 input.sk-toggleable__control:checked~label.sk-toggleable__label-arrow:before {content: \"▾\";}#sk-container-id-3 div.sk-estimator input.sk-toggleable__control:checked~label.sk-toggleable__label {background-color: #d4ebff;}#sk-container-id-3 div.sk-label input.sk-toggleable__control:checked~label.sk-toggleable__label {background-color: #d4ebff;}#sk-container-id-3 input.sk-hidden--visually {border: 0;clip: rect(1px 1px 1px 1px);clip: rect(1px, 1px, 1px, 1px);height: 1px;margin: -1px;overflow: hidden;padding: 0;position: absolute;width: 1px;}#sk-container-id-3 div.sk-estimator {font-family: monospace;background-color: #f0f8ff;border: 1px dotted black;border-radius: 0.25em;box-sizing: border-box;margin-bottom: 0.5em;}#sk-container-id-3 div.sk-estimator:hover {background-color: #d4ebff;}#sk-container-id-3 div.sk-parallel-item::after {content: \"\";width: 100%;border-bottom: 1px solid gray;flex-grow: 1;}#sk-container-id-3 div.sk-label:hover label.sk-toggleable__label {background-color: #d4ebff;}#sk-container-id-3 div.sk-serial::before {content: \"\";position: absolute;border-left: 1px solid gray;box-sizing: border-box;top: 0;bottom: 0;left: 50%;z-index: 0;}#sk-container-id-3 div.sk-serial {display: flex;flex-direction: column;align-items: center;background-color: white;padding-right: 0.2em;padding-left: 0.2em;position: relative;}#sk-container-id-3 div.sk-item {position: relative;z-index: 1;}#sk-container-id-3 div.sk-parallel {display: flex;align-items: stretch;justify-content: center;background-color: white;position: relative;}#sk-container-id-3 div.sk-item::before, #sk-container-id-3 div.sk-parallel-item::before {content: \"\";position: absolute;border-left: 1px solid gray;box-sizing: border-box;top: 0;bottom: 0;left: 50%;z-index: -1;}#sk-container-id-3 div.sk-parallel-item {display: flex;flex-direction: column;z-index: 1;position: relative;background-color: white;}#sk-container-id-3 div.sk-parallel-item:first-child::after {align-self: flex-end;width: 50%;}#sk-container-id-3 div.sk-parallel-item:last-child::after {align-self: flex-start;width: 50%;}#sk-container-id-3 div.sk-parallel-item:only-child::after {width: 0;}#sk-container-id-3 div.sk-dashed-wrapped {border: 1px dashed gray;margin: 0 0.4em 0.5em 0.4em;box-sizing: border-box;padding-bottom: 0.4em;background-color: white;}#sk-container-id-3 div.sk-label label {font-family: monospace;font-weight: bold;display: inline-block;line-height: 1.2em;}#sk-container-id-3 div.sk-label-container {text-align: center;}#sk-container-id-3 div.sk-container {/* jupyter's `normalize.less` sets `[hidden] { display: none; }` but bootstrap.min.css set `[hidden] { display: none !important; }` so we also need the `!important` here to be able to override the default hidden behavior on the sphinx rendered scikit-learn.org. See: https://github.com/scikit-learn/scikit-learn/issues/21755 */display: inline-block !important;position: relative;}#sk-container-id-3 div.sk-text-repr-fallback {display: none;}</style><div id=\"sk-container-id-3\" class=\"sk-top-container\"><div class=\"sk-text-repr-fallback\"><pre>KNeighborsClassifier()</pre><b>In a Jupyter environment, please rerun this cell to show the HTML representation or trust the notebook. <br />On GitHub, the HTML representation is unable to render, please try loading this page with nbviewer.org.</b></div><div class=\"sk-container\" hidden><div class=\"sk-item\"><div class=\"sk-estimator sk-toggleable\"><input class=\"sk-toggleable__control sk-hidden--visually\" id=\"sk-estimator-id-3\" type=\"checkbox\" checked><label for=\"sk-estimator-id-3\" class=\"sk-toggleable__label sk-toggleable__label-arrow\">KNeighborsClassifier</label><div class=\"sk-toggleable__content\"><pre>KNeighborsClassifier()</pre></div></div></div></div></div>"
      ],
      "text/plain": [
       "KNeighborsClassifier()"
      ]
     },
     "execution_count": 71,
     "metadata": {},
     "output_type": "execute_result"
    }
   ],
   "source": [
    "knnModel.fit(X_train_df_pair, y_train_df_pair)"
   ]
  },
  {
   "cell_type": "code",
   "execution_count": 72,
   "metadata": {},
   "outputs": [
    {
     "data": {
      "text/plain": [
       "array([0., 0., 1., 1., 1., 1., 1., 1., 1., 1., 1., 1., 1., 0., 1., 0., 1.,\n",
       "       0., 0., 0., 0., 1., 1., 1., 0., 0., 1., 1., 1., 0., 1., 1., 1., 1.,\n",
       "       0., 1., 1., 1., 1., 0., 1., 1., 1., 0., 0., 1., 1., 0., 1., 1., 0.,\n",
       "       1., 1., 0., 0., 1., 1., 1., 1., 1., 1., 1., 1., 0., 0., 0., 1., 0.,\n",
       "       1., 1., 1., 1., 0., 1., 0., 1., 0., 0., 1., 1., 1., 1., 1., 1., 1.,\n",
       "       1., 1., 0., 1., 0., 1., 1., 0., 1., 1., 1., 0., 1., 0., 1., 0., 1.,\n",
       "       1., 1., 0., 1., 0., 1., 0., 1., 1., 1., 1., 0., 1., 0., 1., 0., 1.,\n",
       "       0., 1., 1., 1., 1., 1., 1., 0., 0., 0., 1., 1., 1., 1., 1., 1., 1.,\n",
       "       1., 0., 0., 0., 0., 1., 1., 1., 1., 1., 0., 1., 0., 0., 1., 1., 1.,\n",
       "       0., 1., 0., 1., 1., 1., 0., 1., 0., 1., 1., 1., 1., 1., 0., 1., 1.,\n",
       "       0., 1., 0., 0., 0., 1., 1., 1., 0., 1., 0., 1., 1., 1., 1., 1., 1.,\n",
       "       1., 1., 0., 1., 0., 0., 1., 1., 1., 1., 0., 0., 0., 1., 0., 1., 1.,\n",
       "       1., 0., 1., 1., 1., 0., 1., 0., 1., 0., 1., 1., 1., 1., 1., 1., 1.,\n",
       "       0., 1., 0., 0., 1., 0., 1., 0., 1., 1., 1., 1., 1., 1., 1., 1., 1.,\n",
       "       1., 1., 1., 1., 1., 1., 1., 1., 0., 1., 1., 0., 0., 0., 1., 1., 0.,\n",
       "       1., 0., 0., 0., 1., 0., 1., 0., 1., 0., 1., 1., 0., 0., 1., 1., 1.,\n",
       "       1., 1., 0., 0., 1., 1., 1., 0., 1., 1., 0., 1., 1., 1., 0., 0., 1.,\n",
       "       1., 1., 1., 1., 1., 1., 1., 0., 1., 1., 1., 1., 1., 1., 1., 1., 1.,\n",
       "       1., 0., 0., 1., 0., 1., 1., 1., 1., 1., 1., 1., 1., 1., 1., 1., 1.,\n",
       "       1., 0., 0., 1., 0., 1., 1., 1., 0., 1., 1., 0., 0., 1., 0., 1., 1.,\n",
       "       0., 1., 1., 0., 0., 1., 1., 0., 1., 1., 0., 1., 1., 1., 1., 1., 1.,\n",
       "       1., 1., 0., 0., 1., 0., 1., 0., 0., 0., 1., 0., 1., 1., 1., 1., 1.,\n",
       "       0., 0., 1., 0., 0., 1., 1., 1., 1., 1., 0., 0., 1., 0., 1., 1., 1.,\n",
       "       0., 1., 0., 0., 1., 1., 1., 1., 1., 1., 0., 1., 1., 1., 1., 1., 0.,\n",
       "       1., 1., 1., 1., 1., 1., 1., 1., 0., 1., 1., 1., 0., 1., 0., 1., 0.,\n",
       "       1., 1., 1., 1., 0., 1., 0., 1., 1., 1., 1., 1., 1., 1., 1., 1., 1.,\n",
       "       1., 0., 1., 1., 1., 1., 1., 1., 0., 1., 1., 1., 1., 0., 1., 1., 1.,\n",
       "       1., 1., 0., 1., 1., 1., 1., 1., 0., 0., 1., 1., 1., 1., 1., 0., 1.,\n",
       "       0., 1., 1., 1., 1., 1., 0., 1., 1., 1., 1., 1., 0., 1., 1., 0., 1.,\n",
       "       0., 1., 0., 1., 1., 1., 1., 1., 1., 1., 0., 1., 0., 1., 1., 1., 0.,\n",
       "       1., 1., 0., 0., 1., 1., 0., 0., 1., 1., 1., 1., 1., 0., 1., 1., 0.,\n",
       "       1., 0., 1., 1., 1., 1., 0., 0., 1., 1., 1., 1., 0., 0., 1., 0., 1.,\n",
       "       1., 0., 1., 0., 1., 1., 1., 0., 0., 1., 1., 1., 1., 1., 1., 1., 0.,\n",
       "       0., 1., 1., 1.])"
      ]
     },
     "execution_count": 72,
     "metadata": {},
     "output_type": "execute_result"
    }
   ],
   "source": [
    "knnModel.predict(X_test_df_pair)"
   ]
  },
  {
   "cell_type": "code",
   "execution_count": 73,
   "metadata": {},
   "outputs": [],
   "source": [
    "from sklearn.model_selection import cross_val_predict, cross_val_score\n",
    "from sklearn.metrics import accuracy_score, classification_report"
   ]
  },
  {
   "cell_type": "code",
   "execution_count": 74,
   "metadata": {},
   "outputs": [],
   "source": [
    "predictions = cross_val_predict(knnModel.fit(X_train_val_df_pair, y_train_val_df_pair), X_df_pair, y_df_pair, cv=10)"
   ]
  },
  {
   "cell_type": "code",
   "execution_count": 75,
   "metadata": {},
   "outputs": [
    {
     "name": "stdout",
     "output_type": "stream",
     "text": [
      "0.6770538243626062\n",
      "              precision    recall  f1-score   support\n",
      "\n",
      "         0.0       0.64      0.50      0.56      1165\n",
      "         1.0       0.69      0.80      0.75      1659\n",
      "\n",
      "    accuracy                           0.68      2824\n",
      "   macro avg       0.67      0.65      0.65      2824\n",
      "weighted avg       0.67      0.68      0.67      2824\n",
      "\n"
     ]
    }
   ],
   "source": [
    "print(accuracy_score(y_df_pair, predictions))\n",
    "print(classification_report(y_df_pair, predictions))"
   ]
  },
  {
   "cell_type": "code",
   "execution_count": 76,
   "metadata": {},
   "outputs": [
    {
     "name": "stdout",
     "output_type": "stream",
     "text": [
      "Scores per fold :\n",
      "[0.67137809 0.70318021 0.72438163 0.66431095 0.60638298 0.67021277\n",
      " 0.69148936 0.71631206 0.70212766 0.62056738]\n",
      "Average accuracy : 0.6770343081973786\n"
     ]
    }
   ],
   "source": [
    "scores = cross_val_score(knnModel.fit(X_train_val_df_pair, y_train_val_df_pair), X_df_pair, y_df_pair, cv=10)\n",
    "print(\"Scores per fold :\\n\" + str(scores))\n",
    "print(\"Average accuracy : \" + str(np.sum(scores) / len(scores)))"
   ]
  },
  {
   "cell_type": "code",
   "execution_count": 77,
   "metadata": {},
   "outputs": [],
   "source": [
    "k_folds = 5"
   ]
  },
  {
   "cell_type": "code",
   "execution_count": 78,
   "metadata": {},
   "outputs": [],
   "source": [
    "k_choices = [1, 3, 5, 8, 10, 12, 15, 20]"
   ]
  },
  {
   "cell_type": "code",
   "execution_count": 79,
   "metadata": {},
   "outputs": [],
   "source": [
    "scores = np.zeros((len(k_choices), k_folds))"
   ]
  },
  {
   "cell_type": "code",
   "execution_count": 80,
   "metadata": {},
   "outputs": [
    {
     "name": "stdout",
     "output_type": "stream",
     "text": [
      "k is : 1\n",
      "[0.61725664 0.72345133 0.64380531 0.61946903 0.63636364]\n",
      "k is : 3\n",
      "[0.62610619 0.67256637 0.62610619 0.65265487 0.63192905]\n",
      "k is : 5\n",
      "[0.63938053 0.69026549 0.64159292 0.68584071 0.654102  ]\n",
      "k is : 8\n",
      "[0.65044248 0.67699115 0.63938053 0.67920354 0.64966741]\n",
      "k is : 10\n",
      "[0.64380531 0.69911504 0.65265487 0.66814159 0.64079823]\n",
      "k is : 12\n",
      "[0.63495575 0.69026549 0.66150442 0.65929204 0.64745011]\n",
      "k is : 15\n",
      "[0.62389381 0.69690265 0.65265487 0.65929204 0.65631929]\n",
      "k is : 20\n",
      "[0.64823009 0.68362832 0.63053097 0.65929204 0.654102  ]\n"
     ]
    }
   ],
   "source": [
    "for i in range(len(k_choices)):\n",
    "    print(\"k is : \" + str(k_choices[i]))\n",
    "    knnModel = KNeighborsClassifier(n_neighbors=k_choices[i])\n",
    "    scores[i] = cross_val_score(knnModel, X_train_val_df_pair, y_train_val_df_pair, cv=k_folds)\n",
    "    print(scores[i])\n",
    "    pass"
   ]
  },
  {
   "cell_type": "code",
   "execution_count": 81,
   "metadata": {},
   "outputs": [
    {
     "data": {
      "image/png": "[encoded data removed]",
      "text/plain": [
       "<Figure size 640x480 with 1 Axes>"
      ]
     },
     "metadata": {},
     "output_type": "display_data"
    }
   ],
   "source": [
    "def plot_scatter(scores):\n",
    "    for i in range(len(scores)):\n",
    "        x=[k_choices[i]] * 5\n",
    "        plt.scatter(x, scores[i])\n",
    "        \n",
    "plot_scatter(scores)"
   ]
  },
  {
   "cell_type": "code",
   "execution_count": 82,
   "metadata": {},
   "outputs": [],
   "source": [
    "avg_scores = np.mean(scores,axis=1)"
   ]
  },
  {
   "cell_type": "code",
   "execution_count": 83,
   "metadata": {},
   "outputs": [],
   "source": [
    "stddev_scores = np.std(scores, axis=1)"
   ]
  },
  {
   "cell_type": "code",
   "execution_count": 84,
   "metadata": {},
   "outputs": [
    {
     "data": {
      "text/plain": [
       "Text(0, 0.5, 'Cross-validation accuracy')"
      ]
     },
     "execution_count": 84,
     "metadata": {},
     "output_type": "execute_result"
    },
    {
     "data": {
      "image/png": "[encoded data removed]",
      "text/plain": [
       "<Figure size 640x480 with 1 Axes>"
      ]
     },
     "metadata": {},
     "output_type": "display_data"
    }
   ],
   "source": [
    "plot_scatter(scores)\n",
    "\n",
    "plt.errorbar(k_choices, avg_scores, yerr=stddev_scores)\n",
    "plt.title('Cross-validation on k')\n",
    "plt.xlabel('k')\n",
    "plt.ylabel('Cross-validation accuracy')"
   ]
  },
  {
   "cell_type": "code",
   "execution_count": 85,
   "metadata": {},
   "outputs": [],
   "source": [
    "neighbors = 5\n",
    "knnModel = KNeighborsClassifier(neighbors)"
   ]
  },
  {
   "cell_type": "code",
   "execution_count": 86,
   "metadata": {},
   "outputs": [
    {
     "data": {
      "text/html": [
       "<style>#sk-container-id-4 {color: black;}#sk-container-id-4 pre{padding: 0;}#sk-container-id-4 div.sk-toggleable {background-color: white;}#sk-container-id-4 label.sk-toggleable__label {cursor: pointer;display: block;width: 100%;margin-bottom: 0;padding: 0.3em;box-sizing: border-box;text-align: center;}#sk-container-id-4 label.sk-toggleable__label-arrow:before {content: \"▸\";float: left;margin-right: 0.25em;color: #696969;}#sk-container-id-4 label.sk-toggleable__label-arrow:hover:before {color: black;}#sk-container-id-4 div.sk-estimator:hover label.sk-toggleable__label-arrow:before {color: black;}#sk-container-id-4 div.sk-toggleable__content {max-height: 0;max-width: 0;overflow: hidden;text-align: left;background-color: #f0f8ff;}#sk-container-id-4 div.sk-toggleable__content pre {margin: 0.2em;color: black;border-radius: 0.25em;background-color: #f0f8ff;}#sk-container-id-4 input.sk-toggleable__control:checked~div.sk-toggleable__content {max-height: 200px;max-width: 100%;overflow: auto;}#sk-container-id-4 input.sk-toggleable__control:checked~label.sk-toggleable__label-arrow:before {content: \"▾\";}#sk-container-id-4 div.sk-estimator input.sk-toggleable__control:checked~label.sk-toggleable__label {background-color: #d4ebff;}#sk-container-id-4 div.sk-label input.sk-toggleable__control:checked~label.sk-toggleable__label {background-color: #d4ebff;}#sk-container-id-4 input.sk-hidden--visually {border: 0;clip: rect(1px 1px 1px 1px);clip: rect(1px, 1px, 1px, 1px);height: 1px;margin: -1px;overflow: hidden;padding: 0;position: absolute;width: 1px;}#sk-container-id-4 div.sk-estimator {font-family: monospace;background-color: #f0f8ff;border: 1px dotted black;border-radius: 0.25em;box-sizing: border-box;margin-bottom: 0.5em;}#sk-container-id-4 div.sk-estimator:hover {background-color: #d4ebff;}#sk-container-id-4 div.sk-parallel-item::after {content: \"\";width: 100%;border-bottom: 1px solid gray;flex-grow: 1;}#sk-container-id-4 div.sk-label:hover label.sk-toggleable__label {background-color: #d4ebff;}#sk-container-id-4 div.sk-serial::before {content: \"\";position: absolute;border-left: 1px solid gray;box-sizing: border-box;top: 0;bottom: 0;left: 50%;z-index: 0;}#sk-container-id-4 div.sk-serial {display: flex;flex-direction: column;align-items: center;background-color: white;padding-right: 0.2em;padding-left: 0.2em;position: relative;}#sk-container-id-4 div.sk-item {position: relative;z-index: 1;}#sk-container-id-4 div.sk-parallel {display: flex;align-items: stretch;justify-content: center;background-color: white;position: relative;}#sk-container-id-4 div.sk-item::before, #sk-container-id-4 div.sk-parallel-item::before {content: \"\";position: absolute;border-left: 1px solid gray;box-sizing: border-box;top: 0;bottom: 0;left: 50%;z-index: -1;}#sk-container-id-4 div.sk-parallel-item {display: flex;flex-direction: column;z-index: 1;position: relative;background-color: white;}#sk-container-id-4 div.sk-parallel-item:first-child::after {align-self: flex-end;width: 50%;}#sk-container-id-4 div.sk-parallel-item:last-child::after {align-self: flex-start;width: 50%;}#sk-container-id-4 div.sk-parallel-item:only-child::after {width: 0;}#sk-container-id-4 div.sk-dashed-wrapped {border: 1px dashed gray;margin: 0 0.4em 0.5em 0.4em;box-sizing: border-box;padding-bottom: 0.4em;background-color: white;}#sk-container-id-4 div.sk-label label {font-family: monospace;font-weight: bold;display: inline-block;line-height: 1.2em;}#sk-container-id-4 div.sk-label-container {text-align: center;}#sk-container-id-4 div.sk-container {/* jupyter's `normalize.less` sets `[hidden] { display: none; }` but bootstrap.min.css set `[hidden] { display: none !important; }` so we also need the `!important` here to be able to override the default hidden behavior on the sphinx rendered scikit-learn.org. See: https://github.com/scikit-learn/scikit-learn/issues/21755 */display: inline-block !important;position: relative;}#sk-container-id-4 div.sk-text-repr-fallback {display: none;}</style><div id=\"sk-container-id-4\" class=\"sk-top-container\"><div class=\"sk-text-repr-fallback\"><pre>KNeighborsClassifier()</pre><b>In a Jupyter environment, please rerun this cell to show the HTML representation or trust the notebook. <br />On GitHub, the HTML representation is unable to render, please try loading this page with nbviewer.org.</b></div><div class=\"sk-container\" hidden><div class=\"sk-item\"><div class=\"sk-estimator sk-toggleable\"><input class=\"sk-toggleable__control sk-hidden--visually\" id=\"sk-estimator-id-4\" type=\"checkbox\" checked><label for=\"sk-estimator-id-4\" class=\"sk-toggleable__label sk-toggleable__label-arrow\">KNeighborsClassifier</label><div class=\"sk-toggleable__content\"><pre>KNeighborsClassifier()</pre></div></div></div></div></div>"
      ],
      "text/plain": [
       "KNeighborsClassifier()"
      ]
     },
     "execution_count": 86,
     "metadata": {},
     "output_type": "execute_result"
    }
   ],
   "source": [
    "knnModel.fit(X_train_df_pair, y_train_df_pair)"
   ]
  },
  {
   "cell_type": "code",
   "execution_count": 87,
   "metadata": {},
   "outputs": [
    {
     "data": {
      "text/plain": [
       "array([0., 0., 1., 1., 1., 1., 1., 1., 1., 1., 1., 1., 1., 0., 1., 0., 1.,\n",
       "       0., 0., 0., 0., 1., 1., 1., 0., 0., 1., 1., 1., 0., 1., 1., 1., 1.,\n",
       "       0., 1., 1., 1., 1., 0., 1., 1., 1., 0., 0., 1., 1., 0., 1., 1., 0.,\n",
       "       1., 1., 0., 0., 1., 1., 1., 1., 1., 1., 1., 1., 0., 0., 0., 1., 0.,\n",
       "       1., 1., 1., 1., 0., 1., 0., 1., 0., 0., 1., 1., 1., 1., 1., 1., 1.,\n",
       "       1., 1., 0., 1., 0., 1., 1., 0., 1., 1., 1., 0., 1., 0., 1., 0., 1.,\n",
       "       1., 1., 0., 1., 0., 1., 0., 1., 1., 1., 1., 0., 1., 0., 1., 0., 1.,\n",
       "       0., 1., 1., 1., 1., 1., 1., 0., 0., 0., 1., 1., 1., 1., 1., 1., 1.,\n",
       "       1., 0., 0., 0., 0., 1., 1., 1., 1., 1., 0., 1., 0., 0., 1., 1., 1.,\n",
       "       0., 1., 0., 1., 1., 1., 0., 1., 0., 1., 1., 1., 1., 1., 0., 1., 1.,\n",
       "       0., 1., 0., 0., 0., 1., 1., 1., 0., 1., 0., 1., 1., 1., 1., 1., 1.,\n",
       "       1., 1., 0., 1., 0., 0., 1., 1., 1., 1., 0., 0., 0., 1., 0., 1., 1.,\n",
       "       1., 0., 1., 1., 1., 0., 1., 0., 1., 0., 1., 1., 1., 1., 1., 1., 1.,\n",
       "       0., 1., 0., 0., 1., 0., 1., 0., 1., 1., 1., 1., 1., 1., 1., 1., 1.,\n",
       "       1., 1., 1., 1., 1., 1., 1., 1., 0., 1., 1., 0., 0., 0., 1., 1., 0.,\n",
       "       1., 0., 0., 0., 1., 0., 1., 0., 1., 0., 1., 1., 0., 0., 1., 1., 1.,\n",
       "       1., 1., 0., 0., 1., 1., 1., 0., 1., 1., 0., 1., 1., 1., 0., 0., 1.,\n",
       "       1., 1., 1., 1., 1., 1., 1., 0., 1., 1., 1., 1., 1., 1., 1., 1., 1.,\n",
       "       1., 0., 0., 1., 0., 1., 1., 1., 1., 1., 1., 1., 1., 1., 1., 1., 1.,\n",
       "       1., 0., 0., 1., 0., 1., 1., 1., 0., 1., 1., 0., 0., 1., 0., 1., 1.,\n",
       "       0., 1., 1., 0., 0., 1., 1., 0., 1., 1., 0., 1., 1., 1., 1., 1., 1.,\n",
       "       1., 1., 0., 0., 1., 0., 1., 0., 0., 0., 1., 0., 1., 1., 1., 1., 1.,\n",
       "       0., 0., 1., 0., 0., 1., 1., 1., 1., 1., 0., 0., 1., 0., 1., 1., 1.,\n",
       "       0., 1., 0., 0., 1., 1., 1., 1., 1., 1., 0., 1., 1., 1., 1., 1., 0.,\n",
       "       1., 1., 1., 1., 1., 1., 1., 1., 0., 1., 1., 1., 0., 1., 0., 1., 0.,\n",
       "       1., 1., 1., 1., 0., 1., 0., 1., 1., 1., 1., 1., 1., 1., 1., 1., 1.,\n",
       "       1., 0., 1., 1., 1., 1., 1., 1., 0., 1., 1., 1., 1., 0., 1., 1., 1.,\n",
       "       1., 1., 0., 1., 1., 1., 1., 1., 0., 0., 1., 1., 1., 1., 1., 0., 1.,\n",
       "       0., 1., 1., 1., 1., 1., 0., 1., 1., 1., 1., 1., 0., 1., 1., 0., 1.,\n",
       "       0., 1., 0., 1., 1., 1., 1., 1., 1., 1., 0., 1., 0., 1., 1., 1., 0.,\n",
       "       1., 1., 0., 0., 1., 1., 0., 0., 1., 1., 1., 1., 1., 0., 1., 1., 0.,\n",
       "       1., 0., 1., 1., 1., 1., 0., 0., 1., 1., 1., 1., 0., 0., 1., 0., 1.,\n",
       "       1., 0., 1., 0., 1., 1., 1., 0., 0., 1., 1., 1., 1., 1., 1., 1., 0.,\n",
       "       0., 1., 1., 1.])"
      ]
     },
     "execution_count": 87,
     "metadata": {},
     "output_type": "execute_result"
    }
   ],
   "source": [
    "y_predicted = knnModel.predict(X_test_df_pair)\n",
    "y_predicted"
   ]
  },
  {
   "cell_type": "code",
   "execution_count": 88,
   "metadata": {},
   "outputs": [
    {
     "name": "stdout",
     "output_type": "stream",
     "text": [
      "0.6707964601769911\n",
      "              precision    recall  f1-score   support\n",
      "\n",
      "           0       0.64      0.47      0.54       233\n",
      "           1       0.69      0.81      0.74       332\n",
      "\n",
      "    accuracy                           0.67       565\n",
      "   macro avg       0.66      0.64      0.64       565\n",
      "weighted avg       0.67      0.67      0.66       565\n",
      "\n"
     ]
    }
   ],
   "source": [
    "classes = [\"0\", \"1\"]\n",
    "print(accuracy_score(y_test_df_pair, y_predicted))\n",
    "print(classification_report(y_test_df_pair, y_predicted, target_names=classes))\n",
    "\n",
    "num_correct = np.sum(y_test_df_pair==y_predicted)\n",
    "accuracy = num_correct/len(y_test_df_pair)"
   ]
  },
  {
   "cell_type": "markdown",
   "id": "27642dde-86d4-4480-927c-d883b6ad75a9",
   "metadata": {},
   "source": [
    "## Binomial classification"
   ]
  },
  {
   "cell_type": "code",
   "execution_count": null,
   "metadata": {},
   "outputs": [],
   "source": []
  },
  {
   "cell_type": "markdown",
   "id": "b6df7057-8015-4aa5-a136-c2054cb300eb",
   "metadata": {},
   "source": [
    "## Naive Bayes"
   ]
  },
  {
   "cell_type": "code",
   "execution_count": 115,
   "metadata": {},
   "outputs": [],
   "source": [
    "from sklearn.naive_bayes import GaussianNB\n",
    "from sklearn.model_selection import GridSearchCV"
   ]
  },
  {
   "cell_type": "code",
   "execution_count": 116,
   "metadata": {},
   "outputs": [],
   "source": [
    "nbModel = GaussianNB()"
   ]
  },
  {
   "cell_type": "code",
   "execution_count": 124,
   "metadata": {},
   "outputs": [
    {
     "data": {
      "text/html": [
       "<style>#sk-container-id-11 {color: black;}#sk-container-id-11 pre{padding: 0;}#sk-container-id-11 div.sk-toggleable {background-color: white;}#sk-container-id-11 label.sk-toggleable__label {cursor: pointer;display: block;width: 100%;margin-bottom: 0;padding: 0.3em;box-sizing: border-box;text-align: center;}#sk-container-id-11 label.sk-toggleable__label-arrow:before {content: \"▸\";float: left;margin-right: 0.25em;color: #696969;}#sk-container-id-11 label.sk-toggleable__label-arrow:hover:before {color: black;}#sk-container-id-11 div.sk-estimator:hover label.sk-toggleable__label-arrow:before {color: black;}#sk-container-id-11 div.sk-toggleable__content {max-height: 0;max-width: 0;overflow: hidden;text-align: left;background-color: #f0f8ff;}#sk-container-id-11 div.sk-toggleable__content pre {margin: 0.2em;color: black;border-radius: 0.25em;background-color: #f0f8ff;}#sk-container-id-11 input.sk-toggleable__control:checked~div.sk-toggleable__content {max-height: 200px;max-width: 100%;overflow: auto;}#sk-container-id-11 input.sk-toggleable__control:checked~label.sk-toggleable__label-arrow:before {content: \"▾\";}#sk-container-id-11 div.sk-estimator input.sk-toggleable__control:checked~label.sk-toggleable__label {background-color: #d4ebff;}#sk-container-id-11 div.sk-label input.sk-toggleable__control:checked~label.sk-toggleable__label {background-color: #d4ebff;}#sk-container-id-11 input.sk-hidden--visually {border: 0;clip: rect(1px 1px 1px 1px);clip: rect(1px, 1px, 1px, 1px);height: 1px;margin: -1px;overflow: hidden;padding: 0;position: absolute;width: 1px;}#sk-container-id-11 div.sk-estimator {font-family: monospace;background-color: #f0f8ff;border: 1px dotted black;border-radius: 0.25em;box-sizing: border-box;margin-bottom: 0.5em;}#sk-container-id-11 div.sk-estimator:hover {background-color: #d4ebff;}#sk-container-id-11 div.sk-parallel-item::after {content: \"\";width: 100%;border-bottom: 1px solid gray;flex-grow: 1;}#sk-container-id-11 div.sk-label:hover label.sk-toggleable__label {background-color: #d4ebff;}#sk-container-id-11 div.sk-serial::before {content: \"\";position: absolute;border-left: 1px solid gray;box-sizing: border-box;top: 0;bottom: 0;left: 50%;z-index: 0;}#sk-container-id-11 div.sk-serial {display: flex;flex-direction: column;align-items: center;background-color: white;padding-right: 0.2em;padding-left: 0.2em;position: relative;}#sk-container-id-11 div.sk-item {position: relative;z-index: 1;}#sk-container-id-11 div.sk-parallel {display: flex;align-items: stretch;justify-content: center;background-color: white;position: relative;}#sk-container-id-11 div.sk-item::before, #sk-container-id-11 div.sk-parallel-item::before {content: \"\";position: absolute;border-left: 1px solid gray;box-sizing: border-box;top: 0;bottom: 0;left: 50%;z-index: -1;}#sk-container-id-11 div.sk-parallel-item {display: flex;flex-direction: column;z-index: 1;position: relative;background-color: white;}#sk-container-id-11 div.sk-parallel-item:first-child::after {align-self: flex-end;width: 50%;}#sk-container-id-11 div.sk-parallel-item:last-child::after {align-self: flex-start;width: 50%;}#sk-container-id-11 div.sk-parallel-item:only-child::after {width: 0;}#sk-container-id-11 div.sk-dashed-wrapped {border: 1px dashed gray;margin: 0 0.4em 0.5em 0.4em;box-sizing: border-box;padding-bottom: 0.4em;background-color: white;}#sk-container-id-11 div.sk-label label {font-family: monospace;font-weight: bold;display: inline-block;line-height: 1.2em;}#sk-container-id-11 div.sk-label-container {text-align: center;}#sk-container-id-11 div.sk-container {/* jupyter's `normalize.less` sets `[hidden] { display: none; }` but bootstrap.min.css set `[hidden] { display: none !important; }` so we also need the `!important` here to be able to override the default hidden behavior on the sphinx rendered scikit-learn.org. See: https://github.com/scikit-learn/scikit-learn/issues/21755 */display: inline-block !important;position: relative;}#sk-container-id-11 div.sk-text-repr-fallback {display: none;}</style><div id=\"sk-container-id-11\" class=\"sk-top-container\"><div class=\"sk-text-repr-fallback\"><pre>GaussianNB()</pre><b>In a Jupyter environment, please rerun this cell to show the HTML representation or trust the notebook. <br />On GitHub, the HTML representation is unable to render, please try loading this page with nbviewer.org.</b></div><div class=\"sk-container\" hidden><div class=\"sk-item\"><div class=\"sk-estimator sk-toggleable\"><input class=\"sk-toggleable__control sk-hidden--visually\" id=\"sk-estimator-id-15\" type=\"checkbox\" checked><label for=\"sk-estimator-id-15\" class=\"sk-toggleable__label sk-toggleable__label-arrow\">GaussianNB</label><div class=\"sk-toggleable__content\"><pre>GaussianNB()</pre></div></div></div></div></div>"
      ],
      "text/plain": [
       "GaussianNB()"
      ]
     },
     "execution_count": 124,
     "metadata": {},
     "output_type": "execute_result"
    }
   ],
   "source": [
    "nbModel.fit(X_train_df, y_train_df)"
   ]
  },
  {
   "cell_type": "code",
   "execution_count": 125,
   "metadata": {},
   "outputs": [
    {
     "data": {
      "text/plain": [
       "array([1., 1., 0., ..., 0., 1., 1.])"
      ]
     },
     "execution_count": 125,
     "metadata": {},
     "output_type": "execute_result"
    }
   ],
   "source": [
    "predictions = nbModel.predict(X_train_df)\n",
    "\n",
    "predictions"
   ]
  },
  {
   "cell_type": "code",
   "execution_count": 127,
   "metadata": {},
   "outputs": [
    {
     "name": "stdout",
     "output_type": "stream",
     "text": [
      "Training accuracy: 65.70%\n"
     ]
    }
   ],
   "source": [
    "training_accuracy = accuracy_score(predictions, y_train_df) * 100\n",
    "print(\"Training accuracy: {:.2f}%\".format(training_accuracy))"
   ]
  },
  {
   "cell_type": "code",
   "execution_count": 117,
   "metadata": {},
   "outputs": [],
   "source": [
    "param_grid = {'var_smoothing': [1e-10, 1e-9, 1e-8, 1e-7, 1e-6]}"
   ]
  },
  {
   "cell_type": "code",
   "execution_count": 118,
   "metadata": {},
   "outputs": [
    {
     "data": {
      "text/html": [
       "<style>#sk-container-id-10 {color: black;}#sk-container-id-10 pre{padding: 0;}#sk-container-id-10 div.sk-toggleable {background-color: white;}#sk-container-id-10 label.sk-toggleable__label {cursor: pointer;display: block;width: 100%;margin-bottom: 0;padding: 0.3em;box-sizing: border-box;text-align: center;}#sk-container-id-10 label.sk-toggleable__label-arrow:before {content: \"▸\";float: left;margin-right: 0.25em;color: #696969;}#sk-container-id-10 label.sk-toggleable__label-arrow:hover:before {color: black;}#sk-container-id-10 div.sk-estimator:hover label.sk-toggleable__label-arrow:before {color: black;}#sk-container-id-10 div.sk-toggleable__content {max-height: 0;max-width: 0;overflow: hidden;text-align: left;background-color: #f0f8ff;}#sk-container-id-10 div.sk-toggleable__content pre {margin: 0.2em;color: black;border-radius: 0.25em;background-color: #f0f8ff;}#sk-container-id-10 input.sk-toggleable__control:checked~div.sk-toggleable__content {max-height: 200px;max-width: 100%;overflow: auto;}#sk-container-id-10 input.sk-toggleable__control:checked~label.sk-toggleable__label-arrow:before {content: \"▾\";}#sk-container-id-10 div.sk-estimator input.sk-toggleable__control:checked~label.sk-toggleable__label {background-color: #d4ebff;}#sk-container-id-10 div.sk-label input.sk-toggleable__control:checked~label.sk-toggleable__label {background-color: #d4ebff;}#sk-container-id-10 input.sk-hidden--visually {border: 0;clip: rect(1px 1px 1px 1px);clip: rect(1px, 1px, 1px, 1px);height: 1px;margin: -1px;overflow: hidden;padding: 0;position: absolute;width: 1px;}#sk-container-id-10 div.sk-estimator {font-family: monospace;background-color: #f0f8ff;border: 1px dotted black;border-radius: 0.25em;box-sizing: border-box;margin-bottom: 0.5em;}#sk-container-id-10 div.sk-estimator:hover {background-color: #d4ebff;}#sk-container-id-10 div.sk-parallel-item::after {content: \"\";width: 100%;border-bottom: 1px solid gray;flex-grow: 1;}#sk-container-id-10 div.sk-label:hover label.sk-toggleable__label {background-color: #d4ebff;}#sk-container-id-10 div.sk-serial::before {content: \"\";position: absolute;border-left: 1px solid gray;box-sizing: border-box;top: 0;bottom: 0;left: 50%;z-index: 0;}#sk-container-id-10 div.sk-serial {display: flex;flex-direction: column;align-items: center;background-color: white;padding-right: 0.2em;padding-left: 0.2em;position: relative;}#sk-container-id-10 div.sk-item {position: relative;z-index: 1;}#sk-container-id-10 div.sk-parallel {display: flex;align-items: stretch;justify-content: center;background-color: white;position: relative;}#sk-container-id-10 div.sk-item::before, #sk-container-id-10 div.sk-parallel-item::before {content: \"\";position: absolute;border-left: 1px solid gray;box-sizing: border-box;top: 0;bottom: 0;left: 50%;z-index: -1;}#sk-container-id-10 div.sk-parallel-item {display: flex;flex-direction: column;z-index: 1;position: relative;background-color: white;}#sk-container-id-10 div.sk-parallel-item:first-child::after {align-self: flex-end;width: 50%;}#sk-container-id-10 div.sk-parallel-item:last-child::after {align-self: flex-start;width: 50%;}#sk-container-id-10 div.sk-parallel-item:only-child::after {width: 0;}#sk-container-id-10 div.sk-dashed-wrapped {border: 1px dashed gray;margin: 0 0.4em 0.5em 0.4em;box-sizing: border-box;padding-bottom: 0.4em;background-color: white;}#sk-container-id-10 div.sk-label label {font-family: monospace;font-weight: bold;display: inline-block;line-height: 1.2em;}#sk-container-id-10 div.sk-label-container {text-align: center;}#sk-container-id-10 div.sk-container {/* jupyter's `normalize.less` sets `[hidden] { display: none; }` but bootstrap.min.css set `[hidden] { display: none !important; }` so we also need the `!important` here to be able to override the default hidden behavior on the sphinx rendered scikit-learn.org. See: https://github.com/scikit-learn/scikit-learn/issues/21755 */display: inline-block !important;position: relative;}#sk-container-id-10 div.sk-text-repr-fallback {display: none;}</style><div id=\"sk-container-id-10\" class=\"sk-top-container\"><div class=\"sk-text-repr-fallback\"><pre>GridSearchCV(cv=5, estimator=GaussianNB(),\n",
       "             param_grid={&#x27;var_smoothing&#x27;: [1e-10, 1e-09, 1e-08, 1e-07, 1e-06]},\n",
       "             scoring=&#x27;accuracy&#x27;)</pre><b>In a Jupyter environment, please rerun this cell to show the HTML representation or trust the notebook. <br />On GitHub, the HTML representation is unable to render, please try loading this page with nbviewer.org.</b></div><div class=\"sk-container\" hidden><div class=\"sk-item sk-dashed-wrapped\"><div class=\"sk-label-container\"><div class=\"sk-label sk-toggleable\"><input class=\"sk-toggleable__control sk-hidden--visually\" id=\"sk-estimator-id-12\" type=\"checkbox\" ><label for=\"sk-estimator-id-12\" class=\"sk-toggleable__label sk-toggleable__label-arrow\">GridSearchCV</label><div class=\"sk-toggleable__content\"><pre>GridSearchCV(cv=5, estimator=GaussianNB(),\n",
       "             param_grid={&#x27;var_smoothing&#x27;: [1e-10, 1e-09, 1e-08, 1e-07, 1e-06]},\n",
       "             scoring=&#x27;accuracy&#x27;)</pre></div></div></div><div class=\"sk-parallel\"><div class=\"sk-parallel-item\"><div class=\"sk-item\"><div class=\"sk-label-container\"><div class=\"sk-label sk-toggleable\"><input class=\"sk-toggleable__control sk-hidden--visually\" id=\"sk-estimator-id-13\" type=\"checkbox\" ><label for=\"sk-estimator-id-13\" class=\"sk-toggleable__label sk-toggleable__label-arrow\">estimator: GaussianNB</label><div class=\"sk-toggleable__content\"><pre>GaussianNB()</pre></div></div></div><div class=\"sk-serial\"><div class=\"sk-item\"><div class=\"sk-estimator sk-toggleable\"><input class=\"sk-toggleable__control sk-hidden--visually\" id=\"sk-estimator-id-14\" type=\"checkbox\" ><label for=\"sk-estimator-id-14\" class=\"sk-toggleable__label sk-toggleable__label-arrow\">GaussianNB</label><div class=\"sk-toggleable__content\"><pre>GaussianNB()</pre></div></div></div></div></div></div></div></div></div></div>"
      ],
      "text/plain": [
       "GridSearchCV(cv=5, estimator=GaussianNB(),\n",
       "             param_grid={'var_smoothing': [1e-10, 1e-09, 1e-08, 1e-07, 1e-06]},\n",
       "             scoring='accuracy')"
      ]
     },
     "execution_count": 118,
     "metadata": {},
     "output_type": "execute_result"
    }
   ],
   "source": [
    "grid_search = GridSearchCV(nbModel, param_grid, cv=5, scoring='accuracy')\n",
    "grid_search.fit(X_train_df, y_train_df)"
   ]
  },
  {
   "cell_type": "code",
   "execution_count": 120,
   "metadata": {},
   "outputs": [],
   "source": [
    "best_var_smoothing = grid_search.best_params_['var_smoothing']"
   ]
  },
  {
   "cell_type": "code",
   "execution_count": 122,
   "metadata": {},
   "outputs": [],
   "source": [
    "best_nb_model = grid_search.best_estimator_\n",
    "predictions_train = best_nb_model.predict(X_test_df)"
   ]
  },
  {
   "cell_type": "code",
   "execution_count": 123,
   "metadata": {},
   "outputs": [
    {
     "name": "stdout",
     "output_type": "stream",
     "text": [
      "Training accuracy: 65.70%\n"
     ]
    }
   ],
   "source": [
    "training_accuracy = accuracy_score(predictions_train, y_train_df) * 100\n",
    "print(\"Training accuracy: {:.2f}%\".format(training_accuracy))"
   ]
  },
  {
   "cell_type": "markdown",
   "metadata": {},
   "source": [
    "----"
   ]
  },
  {
   "cell_type": "code",
   "execution_count": null,
   "metadata": {},
   "outputs": [],
   "source": [
    "nbModel = GaussianNB()"
   ]
  },
  {
   "cell_type": "code",
   "execution_count": null,
   "metadata": {},
   "outputs": [
    {
     "data": {
      "text/html": [
       "<style>#sk-container-id-9 {color: black;}#sk-container-id-9 pre{padding: 0;}#sk-container-id-9 div.sk-toggleable {background-color: white;}#sk-container-id-9 label.sk-toggleable__label {cursor: pointer;display: block;width: 100%;margin-bottom: 0;padding: 0.3em;box-sizing: border-box;text-align: center;}#sk-container-id-9 label.sk-toggleable__label-arrow:before {content: \"▸\";float: left;margin-right: 0.25em;color: #696969;}#sk-container-id-9 label.sk-toggleable__label-arrow:hover:before {color: black;}#sk-container-id-9 div.sk-estimator:hover label.sk-toggleable__label-arrow:before {color: black;}#sk-container-id-9 div.sk-toggleable__content {max-height: 0;max-width: 0;overflow: hidden;text-align: left;background-color: #f0f8ff;}#sk-container-id-9 div.sk-toggleable__content pre {margin: 0.2em;color: black;border-radius: 0.25em;background-color: #f0f8ff;}#sk-container-id-9 input.sk-toggleable__control:checked~div.sk-toggleable__content {max-height: 200px;max-width: 100%;overflow: auto;}#sk-container-id-9 input.sk-toggleable__control:checked~label.sk-toggleable__label-arrow:before {content: \"▾\";}#sk-container-id-9 div.sk-estimator input.sk-toggleable__control:checked~label.sk-toggleable__label {background-color: #d4ebff;}#sk-container-id-9 div.sk-label input.sk-toggleable__control:checked~label.sk-toggleable__label {background-color: #d4ebff;}#sk-container-id-9 input.sk-hidden--visually {border: 0;clip: rect(1px 1px 1px 1px);clip: rect(1px, 1px, 1px, 1px);height: 1px;margin: -1px;overflow: hidden;padding: 0;position: absolute;width: 1px;}#sk-container-id-9 div.sk-estimator {font-family: monospace;background-color: #f0f8ff;border: 1px dotted black;border-radius: 0.25em;box-sizing: border-box;margin-bottom: 0.5em;}#sk-container-id-9 div.sk-estimator:hover {background-color: #d4ebff;}#sk-container-id-9 div.sk-parallel-item::after {content: \"\";width: 100%;border-bottom: 1px solid gray;flex-grow: 1;}#sk-container-id-9 div.sk-label:hover label.sk-toggleable__label {background-color: #d4ebff;}#sk-container-id-9 div.sk-serial::before {content: \"\";position: absolute;border-left: 1px solid gray;box-sizing: border-box;top: 0;bottom: 0;left: 50%;z-index: 0;}#sk-container-id-9 div.sk-serial {display: flex;flex-direction: column;align-items: center;background-color: white;padding-right: 0.2em;padding-left: 0.2em;position: relative;}#sk-container-id-9 div.sk-item {position: relative;z-index: 1;}#sk-container-id-9 div.sk-parallel {display: flex;align-items: stretch;justify-content: center;background-color: white;position: relative;}#sk-container-id-9 div.sk-item::before, #sk-container-id-9 div.sk-parallel-item::before {content: \"\";position: absolute;border-left: 1px solid gray;box-sizing: border-box;top: 0;bottom: 0;left: 50%;z-index: -1;}#sk-container-id-9 div.sk-parallel-item {display: flex;flex-direction: column;z-index: 1;position: relative;background-color: white;}#sk-container-id-9 div.sk-parallel-item:first-child::after {align-self: flex-end;width: 50%;}#sk-container-id-9 div.sk-parallel-item:last-child::after {align-self: flex-start;width: 50%;}#sk-container-id-9 div.sk-parallel-item:only-child::after {width: 0;}#sk-container-id-9 div.sk-dashed-wrapped {border: 1px dashed gray;margin: 0 0.4em 0.5em 0.4em;box-sizing: border-box;padding-bottom: 0.4em;background-color: white;}#sk-container-id-9 div.sk-label label {font-family: monospace;font-weight: bold;display: inline-block;line-height: 1.2em;}#sk-container-id-9 div.sk-label-container {text-align: center;}#sk-container-id-9 div.sk-container {/* jupyter's `normalize.less` sets `[hidden] { display: none; }` but bootstrap.min.css set `[hidden] { display: none !important; }` so we also need the `!important` here to be able to override the default hidden behavior on the sphinx rendered scikit-learn.org. See: https://github.com/scikit-learn/scikit-learn/issues/21755 */display: inline-block !important;position: relative;}#sk-container-id-9 div.sk-text-repr-fallback {display: none;}</style><div id=\"sk-container-id-9\" class=\"sk-top-container\"><div class=\"sk-text-repr-fallback\"><pre>GaussianNB()</pre><b>In a Jupyter environment, please rerun this cell to show the HTML representation or trust the notebook. <br />On GitHub, the HTML representation is unable to render, please try loading this page with nbviewer.org.</b></div><div class=\"sk-container\" hidden><div class=\"sk-item\"><div class=\"sk-estimator sk-toggleable\"><input class=\"sk-toggleable__control sk-hidden--visually\" id=\"sk-estimator-id-11\" type=\"checkbox\" checked><label for=\"sk-estimator-id-11\" class=\"sk-toggleable__label sk-toggleable__label-arrow\">GaussianNB</label><div class=\"sk-toggleable__content\"><pre>GaussianNB()</pre></div></div></div></div></div>"
      ],
      "text/plain": [
       "GaussianNB()"
      ]
     },
     "execution_count": 111,
     "metadata": {},
     "output_type": "execute_result"
    }
   ],
   "source": [
    "nbModel.fit(X_train_df_pair, y_train_df_pair)"
   ]
  },
  {
   "cell_type": "code",
   "execution_count": null,
   "metadata": {},
   "outputs": [
    {
     "data": {
      "text/plain": [
       "array([1., 1., 0., ..., 1., 1., 1.])"
      ]
     },
     "execution_count": 112,
     "metadata": {},
     "output_type": "execute_result"
    }
   ],
   "source": [
    "predictions = nbModel.predict(X_train_df_pair)\n",
    "\n",
    "predictions"
   ]
  },
  {
   "cell_type": "code",
   "execution_count": null,
   "metadata": {},
   "outputs": [
    {
     "name": "stdout",
     "output_type": "stream",
     "text": [
      "Training accuracy:  69.71664698937427 %\n"
     ]
    }
   ],
   "source": [
    "print(\"Training accuracy: \", accuracy_score(predictions, y_train_df_pair)*100, \"%\")"
   ]
  },
  {
   "cell_type": "markdown",
   "id": "cb91903b-e170-4327-85cc-42895c0d7978",
   "metadata": {
    "tags": []
   },
   "source": [
    "# Hyperparameter tuning"
   ]
  },
  {
   "cell_type": "markdown",
   "id": "a96a6f36-66af-4c9d-971c-ceae12d13aa6",
   "metadata": {},
   "source": [
    "# Model selection"
   ]
  },
  {
   "cell_type": "markdown",
   "id": "26adcf9a-fb3d-4370-b0f7-f0c74011357d",
   "metadata": {},
   "source": [
    "# Insights and conclusions"
   ]
  },
  {
   "cell_type": "markdown",
   "id": "5ddb7aa0",
   "metadata": {},
   "source": [
    "# Bibliography\n"
   ]
  }
 ],
 "metadata": {
  "kernelspec": {
   "display_name": "Python 3 (ipykernel)",
   "language": "python",
   "name": "python3"
  },
  "language_info": {
   "codemirror_mode": {
    "name": "ipython",
    "version": 3
   },
   "file_extension": ".py",
   "mimetype": "text/x-python",
   "name": "python",
   "nbconvert_exporter": "python",
   "pygments_lexer": "ipython3",
   "version": "3.11.5"
  }
 },
 "nbformat": 4,
 "nbformat_minor": 5
}
