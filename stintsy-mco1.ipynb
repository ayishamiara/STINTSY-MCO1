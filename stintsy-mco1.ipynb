{
 "cells": [
  {
   "cell_type": "markdown",
   "id": "d24a81b3-2065-4f25-a249-5f4654eec0e6",
   "metadata": {
    "tags": []
   },
   "source": [
    "## MP Phase 1\n",
    "\n",
    "**S11 - Group x**\n",
    "\n",
    "**Submitted By:** <br>\n",
    "&nbsp;&nbsp;&nbsp;&nbsp;**Chua Ching, Janine**<br>\n",
    "&nbsp;&nbsp;&nbsp;&nbsp;**Ileto, Maxine**<br>\n",
    "&nbsp;&nbsp;&nbsp;&nbsp;**Dytoc, Ayisha**<br>\n",
    "&nbsp;&nbsp;&nbsp;&nbsp;**Tan, Jared**"
   ]
  },
  {
   "cell_type": "markdown",
   "id": "eb1852b7-49f8-44a9-b7d2-5780e73b7677",
   "metadata": {},
   "source": [
    "# Introduction"
   ]
  },
  {
   "cell_type": "markdown",
   "id": "33bccee2-ff06-4c72-bc79-c40517885425",
   "metadata": {},
   "source": [
    "## Target Task"
   ]
  },
  {
   "cell_type": "markdown",
   "id": "43e6aebd-3262-41ac-8462-86fba7eede21",
   "metadata": {},
   "source": [
    "In sports, soccer remains to be one of the world's most popular sports. Accurately predicting match results is a pursuit that intrigues both enthusiasts, analysts, and even the casual audience. The dataset under consideration provides a unique opportunity to explore this problem by focusing on the **classification task of determining whether the home team is winning or not given a set of features**.\n",
    "\n",
    "This classification task holds significance for various applications, including live match analysis or strategic decision-making. With this in mind, the classifications to be developed would be the **K-Nearest Neighbors (KNN) model**, **binomial classification**, and **naive bayes**. "
   ]
  },
  {
   "cell_type": "markdown",
   "id": "9db7f9bd-cb70-4fdb-9e34-61a5196346cd",
   "metadata": {
    "tags": []
   },
   "source": [
    "# Dataset Description"
   ]
  },
  {
   "cell_type": "markdown",
   "id": "b62f5aee",
   "metadata": {},
   "source": [
    "## Brief Description"
   ]
  },
  {
   "cell_type": "markdown",
   "id": "ef573226",
   "metadata": {},
   "source": [
    "The dataset comprises 10,000 random snapshots, each representing a single timestamp during a soccer match. These snapshots encompass a range of essential features, offering a glimpse into the ongoing match dynamics. Key attributes for this dataset include the current minute of play, goals scored by each team, yellow and red cards issued, attacks attempted, dangerous attacks attempted, corners awarded, missed shots off target, missed shots on target, and possession percentages for both the home and away teams."
   ]
  },
  {
   "cell_type": "markdown",
   "id": "3e8560c5",
   "metadata": {},
   "source": [
    "## Data Collection Process\n"
   ]
  },
  {
   "cell_type": "markdown",
   "id": "8b1acdc1",
   "metadata": {
    "tags": []
   },
   "source": [
    "## Dataset Features\n",
    "\n",
    "The dataset contains a total of 20 variables (columns). The following are the descriptions of each variable in the dataset:\n",
    "\n",
    "- **`uuid`**: The unique identifier of the snapshot\n",
    "- **`current_minute`**: The current minute of the in-play match. Important: the 15 min half-time break is included, so a match will have a total of 105 min. A current_minute of 70 corresponds to the actual match time of 55.\n",
    "- **`home_score`**: Goals scored by the home team as of this current_minute\n",
    "- **`away_score`**:  Goals scored by the away team as of this current_minute\n",
    "- **`home_yellow_cards`**: Yellow cards given to the home team as of this current_minute\n",
    "- **`away_yellow_cards`**: Yellow cards given to the away team as of this current_minute\n",
    "- **`home_red_cards`**: Red cards given to the home team as of this current_minute\n",
    "- **`away_red_cards`**: Red cards given to the away team as of this current_minute\n",
    "- **`home_attacks`**: Attacks attempted by the home team as of this current_minute\n",
    "- **`away_attacks`**: Attacks attempted by the away team as of this current_minute\n",
    "- **`home_dangerous_attacks`**: Dangerous attacks attempted by the home team as of this current_minute\n",
    "- **`away_dangerous_attacks`**: Dangerous attacks attempted by the away team as of this current_minute\n",
    "- **`home_corners`**: Corners awarded to the home team as of this current_minute\n",
    "- **`away_corners`**: Corners awarded to the away team as of this current_minute\n",
    "- **`home_off_target`**: Shots that didn't have to be cleared by the goalkeeper that were \n",
    "attempted to the home team as of this current_minute\n",
    "- **`away_off_target`**: Shots that didn't have to be cleared by the goalkeeper that were \n",
    "attempted to the away team as of this current_minute\n",
    "- **`home_on_target`**:  Shots that had to be cleared by the goalkeeper that were attempted to \n",
    "the home team as of this current_minute\n",
    "- **`away_on_target`**: Shots that had to be cleared by the goalkeeper that were attempted to \n",
    "the away team as of this current_minute\n",
    "- **`home_possession`**: How much ball possession in % did the home team have until this \n",
    "current_minute\n",
    "- **`away_possession`**: How much ball possession in % did the away team have until this\n",
    "current_minute"
   ]
  },
  {
   "cell_type": "markdown",
   "id": "1d51a86c",
   "metadata": {
    "tags": []
   },
   "source": [
    "## Features to be Used\n",
    "\n",
    "Out of the 20 features in the dataset, 18 seem to be usable as input features for a classification model:\n",
    "\n",
    "1. **`home_score`**\n",
    "2. **`away_score`**\n",
    "3. **`home_yellow_cards`**\n",
    "4. **`away_yellow_cards`**\n",
    "5. **`home_red_cards`**\n",
    "6. **`away_red_cards`**\n",
    "7. **`home_attacks`**\n",
    "8. **`away_attacks`**\n",
    "9. **`home_dangerous_attacks`**\n",
    "10. **`away_dangerous_attacks`**\n",
    "11. **`home_corners`**\n",
    "12. **`away_corners`**\n",
    "13. **`home_off_target`**\n",
    "14. **`away_off_target`**\n",
    "15. **`home_on_target`**\n",
    "16. **`away_on_target`**\n",
    "17. **`home_possession`**\n",
    "18. **`away_possession`**\n",
    "\n",
    "Analyzing the following, it is also possible to consolidate pairs into one feature:\n",
    "1. **`home_is_winning`** - A binary indicator (0 or 1) representing whether the home team is winning or not, comparing the `home_score` and the `away_score`. `score_difference` will not be used as this is too much of a giveaway for if a team is winning or not.\n",
    "2. **`yellow_cards_difference`** - The difference between the home `home_yellow_cards` and the away `away_yellow_cards`.\n",
    "3. **`red_cards_difference`** - The difference between the home `home_red_cards` and the away `away_red_cards`.\n",
    "4. **`attacks_difference`** - The difference between the home `home_attacks` and the away `away_attacks`.\n",
    "5. **`dangerous_attacks_difference`** - The difference between the home `home_dangerous_attacks` and the away `away_dangerous_attacks`.\n",
    "6. **`corners_difference`** - The difference between the home `home_corners` and the away `away_corners`.\n",
    "7. **`off_target_difference`** - The difference between the home `home_off_target` and the away `away_off_target`.\n",
    "8. **`on_target_difference`** - The difference between the home `home_on_target` and the away `away_on_target`.\n",
    "9. **`home_possesion`** - Because `home_possession` and `away_possession` percentages directly mirror the distribution of possesion between the home and away teams during a soccer match, we only need one, `home_possesion` is used as all differences is the difference of the home team to the away team (home statistic minus away statistic).\n",
    "\n",
    "By consolidating these paired features, it can reduce the dimensionality of your dataset. This is particularly useful when dealing with a large number of features, as it can simplify the model. \n",
    "\n",
    "The following features were not included:\n",
    "1. **`uuid`** - While this feature serves as a unique identifier for preprocessing, it won't be used in the machine learning model. It's not an indication of anything and will not be considered for the classification model.\n",
    "2. **`current_minute`** - This feature will be still be used for preprocessing, however it won't be used as an input feature for the machine learning model because there may be a lack of a linear relationship between the minute of play and the outcome of the match. Of course, with a higher minute, stats become higher, but this is tricky as as soccer match dynamics are inherently non-linear and context-dependent. Moreover, this stat is not controlled by either team.\n",
    "3. **`home_score`** - The reason why this feature will not be used is because it will be as good as giving the model the answer. If the `home_score` is greater than the `away_score`, than the home team is obviously winning.\n",
    "4. **`away_score`** - The same as the reasons for **`home_score`**."
   ]
  },
  {
   "cell_type": "markdown",
   "id": "f1fbfef4-e806-464b-8196-55004f34ee0f",
   "metadata": {},
   "source": [
    "# List of requirements\n",
    "\n",
    "List all python libraries and modules used"
   ]
  },
  {
   "cell_type": "code",
   "execution_count": 1,
   "id": "edd64d00-e65b-46d1-8bdf-bfc4c73958b9",
   "metadata": {},
   "outputs": [],
   "source": [
    "# Python Libraries\n",
    "import numpy as np\n",
    "import pandas as pd\n",
    "import matplotlib.pyplot as plt\n",
    "import seaborn as sns"
   ]
  },
  {
   "cell_type": "markdown",
   "id": "4d178f50-5e3b-4c78-94e1-4b6a09791d97",
   "metadata": {
    "tags": []
   },
   "source": [
    "# Data Preprocessing and Cleaning"
   ]
  },
  {
   "cell_type": "markdown",
   "id": "6e550a54-1d45-4b35-8b90-28a770713696",
   "metadata": {
    "tags": []
   },
   "source": [
    "The data used in this project is stored in the `sports.csv` file. This data will be stored in a variable called `df`.\n",
    "\n",
    "Below is a sample of the first 5 rows of the dataset."
   ]
  },
  {
   "cell_type": "code",
   "execution_count": 2,
   "id": "53b344cd-342b-4b68-b231-730f446027bf",
   "metadata": {
    "tags": []
   },
   "outputs": [
    {
     "data": {
      "text/html": [
       "<div>\n",
       "<style scoped>\n",
       "    .dataframe tbody tr th:only-of-type {\n",
       "        vertical-align: middle;\n",
       "    }\n",
       "\n",
       "    .dataframe tbody tr th {\n",
       "        vertical-align: top;\n",
       "    }\n",
       "\n",
       "    .dataframe thead th {\n",
       "        text-align: right;\n",
       "    }\n",
       "</style>\n",
       "<table border=\"1\" class=\"dataframe\">\n",
       "  <thead>\n",
       "    <tr style=\"text-align: right;\">\n",
       "      <th></th>\n",
       "      <th>uuid</th>\n",
       "      <th>current_minute</th>\n",
       "      <th>home_score</th>\n",
       "      <th>away_score</th>\n",
       "      <th>home_yellow_cards</th>\n",
       "      <th>away_yellow_cards</th>\n",
       "      <th>home_red_cards</th>\n",
       "      <th>away_red_cards</th>\n",
       "      <th>home_attacks</th>\n",
       "      <th>away_attacks</th>\n",
       "      <th>...</th>\n",
       "      <th>away_dangerous_attacks</th>\n",
       "      <th>home_corners</th>\n",
       "      <th>away_corners</th>\n",
       "      <th>home_off_target</th>\n",
       "      <th>away_off_target</th>\n",
       "      <th>home_on_target</th>\n",
       "      <th>away_on_target</th>\n",
       "      <th>home_possession</th>\n",
       "      <th>away_possession</th>\n",
       "      <th>final_delta</th>\n",
       "    </tr>\n",
       "  </thead>\n",
       "  <tbody>\n",
       "    <tr>\n",
       "      <th>0</th>\n",
       "      <td>2f9dd904-8d9d-4aa0-a9d9-4e0f3e50d742</td>\n",
       "      <td>94</td>\n",
       "      <td>1</td>\n",
       "      <td>2</td>\n",
       "      <td>0</td>\n",
       "      <td>0</td>\n",
       "      <td>0</td>\n",
       "      <td>0</td>\n",
       "      <td>39</td>\n",
       "      <td>45</td>\n",
       "      <td>...</td>\n",
       "      <td>26</td>\n",
       "      <td>4</td>\n",
       "      <td>1</td>\n",
       "      <td>4</td>\n",
       "      <td>0</td>\n",
       "      <td>4</td>\n",
       "      <td>6</td>\n",
       "      <td>48</td>\n",
       "      <td>52</td>\n",
       "      <td>1</td>\n",
       "    </tr>\n",
       "    <tr>\n",
       "      <th>1</th>\n",
       "      <td>869c1420-9153-4d73-8d79-5db31a8a80a4</td>\n",
       "      <td>91</td>\n",
       "      <td>2</td>\n",
       "      <td>0</td>\n",
       "      <td>0</td>\n",
       "      <td>0</td>\n",
       "      <td>0</td>\n",
       "      <td>0</td>\n",
       "      <td>0</td>\n",
       "      <td>0</td>\n",
       "      <td>...</td>\n",
       "      <td>0</td>\n",
       "      <td>0</td>\n",
       "      <td>0</td>\n",
       "      <td>0</td>\n",
       "      <td>0</td>\n",
       "      <td>0</td>\n",
       "      <td>0</td>\n",
       "      <td>50</td>\n",
       "      <td>50</td>\n",
       "      <td>1</td>\n",
       "    </tr>\n",
       "    <tr>\n",
       "      <th>2</th>\n",
       "      <td>549e25a3-4c93-459d-b115-fb303273c78a</td>\n",
       "      <td>3</td>\n",
       "      <td>0</td>\n",
       "      <td>0</td>\n",
       "      <td>0</td>\n",
       "      <td>0</td>\n",
       "      <td>0</td>\n",
       "      <td>0</td>\n",
       "      <td>3</td>\n",
       "      <td>1</td>\n",
       "      <td>...</td>\n",
       "      <td>0</td>\n",
       "      <td>0</td>\n",
       "      <td>0</td>\n",
       "      <td>0</td>\n",
       "      <td>0</td>\n",
       "      <td>0</td>\n",
       "      <td>0</td>\n",
       "      <td>62</td>\n",
       "      <td>38</td>\n",
       "      <td>4</td>\n",
       "    </tr>\n",
       "    <tr>\n",
       "      <th>3</th>\n",
       "      <td>287b4be5-9163-4e2e-895d-d11052a97410</td>\n",
       "      <td>17</td>\n",
       "      <td>0</td>\n",
       "      <td>0</td>\n",
       "      <td>1</td>\n",
       "      <td>0</td>\n",
       "      <td>0</td>\n",
       "      <td>0</td>\n",
       "      <td>41</td>\n",
       "      <td>46</td>\n",
       "      <td>...</td>\n",
       "      <td>25</td>\n",
       "      <td>1</td>\n",
       "      <td>0</td>\n",
       "      <td>0</td>\n",
       "      <td>2</td>\n",
       "      <td>0</td>\n",
       "      <td>0</td>\n",
       "      <td>55</td>\n",
       "      <td>45</td>\n",
       "      <td>2</td>\n",
       "    </tr>\n",
       "    <tr>\n",
       "      <th>4</th>\n",
       "      <td>a607da6a-d6b2-4652-b7a5-6c8e4b61c2b8</td>\n",
       "      <td>76</td>\n",
       "      <td>1</td>\n",
       "      <td>0</td>\n",
       "      <td>1</td>\n",
       "      <td>0</td>\n",
       "      <td>0</td>\n",
       "      <td>0</td>\n",
       "      <td>69</td>\n",
       "      <td>78</td>\n",
       "      <td>...</td>\n",
       "      <td>46</td>\n",
       "      <td>1</td>\n",
       "      <td>1</td>\n",
       "      <td>0</td>\n",
       "      <td>3</td>\n",
       "      <td>4</td>\n",
       "      <td>4</td>\n",
       "      <td>45</td>\n",
       "      <td>55</td>\n",
       "      <td>0</td>\n",
       "    </tr>\n",
       "  </tbody>\n",
       "</table>\n",
       "<p>5 rows × 21 columns</p>\n",
       "</div>"
      ],
      "text/plain": [
       "                                   uuid  current_minute  home_score  \\\n",
       "0  2f9dd904-8d9d-4aa0-a9d9-4e0f3e50d742              94           1   \n",
       "1  869c1420-9153-4d73-8d79-5db31a8a80a4              91           2   \n",
       "2  549e25a3-4c93-459d-b115-fb303273c78a               3           0   \n",
       "3  287b4be5-9163-4e2e-895d-d11052a97410              17           0   \n",
       "4  a607da6a-d6b2-4652-b7a5-6c8e4b61c2b8              76           1   \n",
       "\n",
       "   away_score  home_yellow_cards  away_yellow_cards  home_red_cards  \\\n",
       "0           2                  0                  0               0   \n",
       "1           0                  0                  0               0   \n",
       "2           0                  0                  0               0   \n",
       "3           0                  1                  0               0   \n",
       "4           0                  1                  0               0   \n",
       "\n",
       "   away_red_cards  home_attacks  away_attacks  ...  away_dangerous_attacks  \\\n",
       "0               0            39            45  ...                      26   \n",
       "1               0             0             0  ...                       0   \n",
       "2               0             3             1  ...                       0   \n",
       "3               0            41            46  ...                      25   \n",
       "4               0            69            78  ...                      46   \n",
       "\n",
       "   home_corners  away_corners  home_off_target  away_off_target  \\\n",
       "0             4             1                4                0   \n",
       "1             0             0                0                0   \n",
       "2             0             0                0                0   \n",
       "3             1             0                0                2   \n",
       "4             1             1                0                3   \n",
       "\n",
       "   home_on_target  away_on_target  home_possession  away_possession  \\\n",
       "0               4               6               48               52   \n",
       "1               0               0               50               50   \n",
       "2               0               0               62               38   \n",
       "3               0               0               55               45   \n",
       "4               4               4               45               55   \n",
       "\n",
       "   final_delta  \n",
       "0            1  \n",
       "1            1  \n",
       "2            4  \n",
       "3            2  \n",
       "4            0  \n",
       "\n",
       "[5 rows x 21 columns]"
      ]
     },
     "execution_count": 2,
     "metadata": {},
     "output_type": "execute_result"
    }
   ],
   "source": [
    "df = pd.read_csv('sports.csv')\n",
    "df.head()"
   ]
  },
  {
   "cell_type": "markdown",
   "id": "ee1cd6fb-723d-4b1f-a0a9-60206f118673",
   "metadata": {},
   "source": [
    "In the following section, Exploratory Data Analysis (EDA), we want to explore which features can affect whether or not the home team is winning. \n",
    "- remove uuid since this is irrelevant to the computation"
   ]
  },
  {
   "cell_type": "code",
   "execution_count": 3,
   "id": "d232f3b8-2d86-41a6-b342-233bf1cc02ba",
   "metadata": {},
   "outputs": [
    {
     "data": {
      "text/html": [
       "<div>\n",
       "<style scoped>\n",
       "    .dataframe tbody tr th:only-of-type {\n",
       "        vertical-align: middle;\n",
       "    }\n",
       "\n",
       "    .dataframe tbody tr th {\n",
       "        vertical-align: top;\n",
       "    }\n",
       "\n",
       "    .dataframe thead th {\n",
       "        text-align: right;\n",
       "    }\n",
       "</style>\n",
       "<table border=\"1\" class=\"dataframe\">\n",
       "  <thead>\n",
       "    <tr style=\"text-align: right;\">\n",
       "      <th></th>\n",
       "      <th>current_minute</th>\n",
       "      <th>home_score</th>\n",
       "      <th>away_score</th>\n",
       "      <th>home_yellow_cards</th>\n",
       "      <th>away_yellow_cards</th>\n",
       "      <th>home_red_cards</th>\n",
       "      <th>away_red_cards</th>\n",
       "      <th>home_attacks</th>\n",
       "      <th>away_attacks</th>\n",
       "      <th>home_dangerous_attacks</th>\n",
       "      <th>away_dangerous_attacks</th>\n",
       "      <th>home_corners</th>\n",
       "      <th>away_corners</th>\n",
       "      <th>home_off_target</th>\n",
       "      <th>away_off_target</th>\n",
       "      <th>home_on_target</th>\n",
       "      <th>away_on_target</th>\n",
       "      <th>home_possession</th>\n",
       "      <th>away_possession</th>\n",
       "      <th>final_delta</th>\n",
       "    </tr>\n",
       "  </thead>\n",
       "  <tbody>\n",
       "    <tr>\n",
       "      <th>0</th>\n",
       "      <td>94</td>\n",
       "      <td>1</td>\n",
       "      <td>2</td>\n",
       "      <td>0</td>\n",
       "      <td>0</td>\n",
       "      <td>0</td>\n",
       "      <td>0</td>\n",
       "      <td>39</td>\n",
       "      <td>45</td>\n",
       "      <td>29</td>\n",
       "      <td>26</td>\n",
       "      <td>4</td>\n",
       "      <td>1</td>\n",
       "      <td>4</td>\n",
       "      <td>0</td>\n",
       "      <td>4</td>\n",
       "      <td>6</td>\n",
       "      <td>48</td>\n",
       "      <td>52</td>\n",
       "      <td>1</td>\n",
       "    </tr>\n",
       "    <tr>\n",
       "      <th>1</th>\n",
       "      <td>91</td>\n",
       "      <td>2</td>\n",
       "      <td>0</td>\n",
       "      <td>0</td>\n",
       "      <td>0</td>\n",
       "      <td>0</td>\n",
       "      <td>0</td>\n",
       "      <td>0</td>\n",
       "      <td>0</td>\n",
       "      <td>0</td>\n",
       "      <td>0</td>\n",
       "      <td>0</td>\n",
       "      <td>0</td>\n",
       "      <td>0</td>\n",
       "      <td>0</td>\n",
       "      <td>0</td>\n",
       "      <td>0</td>\n",
       "      <td>50</td>\n",
       "      <td>50</td>\n",
       "      <td>1</td>\n",
       "    </tr>\n",
       "    <tr>\n",
       "      <th>2</th>\n",
       "      <td>3</td>\n",
       "      <td>0</td>\n",
       "      <td>0</td>\n",
       "      <td>0</td>\n",
       "      <td>0</td>\n",
       "      <td>0</td>\n",
       "      <td>0</td>\n",
       "      <td>3</td>\n",
       "      <td>1</td>\n",
       "      <td>1</td>\n",
       "      <td>0</td>\n",
       "      <td>0</td>\n",
       "      <td>0</td>\n",
       "      <td>0</td>\n",
       "      <td>0</td>\n",
       "      <td>0</td>\n",
       "      <td>0</td>\n",
       "      <td>62</td>\n",
       "      <td>38</td>\n",
       "      <td>4</td>\n",
       "    </tr>\n",
       "    <tr>\n",
       "      <th>3</th>\n",
       "      <td>17</td>\n",
       "      <td>0</td>\n",
       "      <td>0</td>\n",
       "      <td>1</td>\n",
       "      <td>0</td>\n",
       "      <td>0</td>\n",
       "      <td>0</td>\n",
       "      <td>41</td>\n",
       "      <td>46</td>\n",
       "      <td>11</td>\n",
       "      <td>25</td>\n",
       "      <td>1</td>\n",
       "      <td>0</td>\n",
       "      <td>0</td>\n",
       "      <td>2</td>\n",
       "      <td>0</td>\n",
       "      <td>0</td>\n",
       "      <td>55</td>\n",
       "      <td>45</td>\n",
       "      <td>2</td>\n",
       "    </tr>\n",
       "    <tr>\n",
       "      <th>4</th>\n",
       "      <td>76</td>\n",
       "      <td>1</td>\n",
       "      <td>0</td>\n",
       "      <td>1</td>\n",
       "      <td>0</td>\n",
       "      <td>0</td>\n",
       "      <td>0</td>\n",
       "      <td>69</td>\n",
       "      <td>78</td>\n",
       "      <td>21</td>\n",
       "      <td>46</td>\n",
       "      <td>1</td>\n",
       "      <td>1</td>\n",
       "      <td>0</td>\n",
       "      <td>3</td>\n",
       "      <td>4</td>\n",
       "      <td>4</td>\n",
       "      <td>45</td>\n",
       "      <td>55</td>\n",
       "      <td>0</td>\n",
       "    </tr>\n",
       "  </tbody>\n",
       "</table>\n",
       "</div>"
      ],
      "text/plain": [
       "   current_minute  home_score  away_score  home_yellow_cards  \\\n",
       "0              94           1           2                  0   \n",
       "1              91           2           0                  0   \n",
       "2               3           0           0                  0   \n",
       "3              17           0           0                  1   \n",
       "4              76           1           0                  1   \n",
       "\n",
       "   away_yellow_cards  home_red_cards  away_red_cards  home_attacks  \\\n",
       "0                  0               0               0            39   \n",
       "1                  0               0               0             0   \n",
       "2                  0               0               0             3   \n",
       "3                  0               0               0            41   \n",
       "4                  0               0               0            69   \n",
       "\n",
       "   away_attacks  home_dangerous_attacks  away_dangerous_attacks  home_corners  \\\n",
       "0            45                      29                      26             4   \n",
       "1             0                       0                       0             0   \n",
       "2             1                       1                       0             0   \n",
       "3            46                      11                      25             1   \n",
       "4            78                      21                      46             1   \n",
       "\n",
       "   away_corners  home_off_target  away_off_target  home_on_target  \\\n",
       "0             1                4                0               4   \n",
       "1             0                0                0               0   \n",
       "2             0                0                0               0   \n",
       "3             0                0                2               0   \n",
       "4             1                0                3               4   \n",
       "\n",
       "   away_on_target  home_possession  away_possession  final_delta  \n",
       "0               6               48               52            1  \n",
       "1               0               50               50            1  \n",
       "2               0               62               38            4  \n",
       "3               0               55               45            2  \n",
       "4               4               45               55            0  "
      ]
     },
     "execution_count": 3,
     "metadata": {},
     "output_type": "execute_result"
    }
   ],
   "source": [
    "df = df.drop('uuid', axis=1)\n",
    "df.head()"
   ]
  },
  {
   "cell_type": "markdown",
   "id": "8723b796-37ae-4ce7-aa14-2da9d0f2632b",
   "metadata": {},
   "source": [
    "We will now begin cleaning the data.\n",
    "\n",
    "First, we will check if there are any null or missing values."
   ]
  },
  {
   "cell_type": "code",
   "execution_count": 4,
   "id": "50ed45c1-190c-473f-9d6e-b76ddaca6c97",
   "metadata": {},
   "outputs": [
    {
     "data": {
      "text/plain": [
       "current_minute            False\n",
       "home_score                False\n",
       "away_score                False\n",
       "home_yellow_cards         False\n",
       "away_yellow_cards         False\n",
       "home_red_cards            False\n",
       "away_red_cards            False\n",
       "home_attacks              False\n",
       "away_attacks              False\n",
       "home_dangerous_attacks    False\n",
       "away_dangerous_attacks    False\n",
       "home_corners              False\n",
       "away_corners              False\n",
       "home_off_target           False\n",
       "away_off_target           False\n",
       "home_on_target            False\n",
       "away_on_target            False\n",
       "home_possession           False\n",
       "away_possession           False\n",
       "final_delta               False\n",
       "dtype: bool"
      ]
     },
     "execution_count": 4,
     "metadata": {},
     "output_type": "execute_result"
    }
   ],
   "source": [
    "df.isnull().any()"
   ]
  },
  {
   "cell_type": "markdown",
   "id": "23b7d832-e5a8-4b55-863c-e514bd7175d6",
   "metadata": {},
   "source": [
    "Based on the output above, we can see that they are all `False`, indicating that there are no null or missing values."
   ]
  },
  {
   "cell_type": "markdown",
   "id": "a46998a9-afe3-423a-a5e8-637b6325cad1",
   "metadata": {},
   "source": [
    "We will next check if the data types of the variables are consistent."
   ]
  },
  {
   "cell_type": "code",
   "execution_count": 5,
   "id": "521de943-4f72-4ccf-9698-6e0b8d3f597b",
   "metadata": {},
   "outputs": [
    {
     "name": "stdout",
     "output_type": "stream",
     "text": [
      "<class 'pandas.core.frame.DataFrame'>\n",
      "RangeIndex: 7000 entries, 0 to 6999\n",
      "Data columns (total 20 columns):\n",
      " #   Column                  Non-Null Count  Dtype\n",
      "---  ------                  --------------  -----\n",
      " 0   current_minute          7000 non-null   int64\n",
      " 1   home_score              7000 non-null   int64\n",
      " 2   away_score              7000 non-null   int64\n",
      " 3   home_yellow_cards       7000 non-null   int64\n",
      " 4   away_yellow_cards       7000 non-null   int64\n",
      " 5   home_red_cards          7000 non-null   int64\n",
      " 6   away_red_cards          7000 non-null   int64\n",
      " 7   home_attacks            7000 non-null   int64\n",
      " 8   away_attacks            7000 non-null   int64\n",
      " 9   home_dangerous_attacks  7000 non-null   int64\n",
      " 10  away_dangerous_attacks  7000 non-null   int64\n",
      " 11  home_corners            7000 non-null   int64\n",
      " 12  away_corners            7000 non-null   int64\n",
      " 13  home_off_target         7000 non-null   int64\n",
      " 14  away_off_target         7000 non-null   int64\n",
      " 15  home_on_target          7000 non-null   int64\n",
      " 16  away_on_target          7000 non-null   int64\n",
      " 17  home_possession         7000 non-null   int64\n",
      " 18  away_possession         7000 non-null   int64\n",
      " 19  final_delta             7000 non-null   int64\n",
      "dtypes: int64(20)\n",
      "memory usage: 1.1 MB\n"
     ]
    }
   ],
   "source": [
    "df.info()"
   ]
  },
  {
   "cell_type": "markdown",
   "id": "8596eea5-7afd-4442-a771-8c373ca764f3",
   "metadata": {},
   "source": [
    "Based on the output, we can see that all items in the data are non-null and have the integer data type."
   ]
  },
  {
   "cell_type": "markdown",
   "id": "beafad09-3707-470f-b136-b6aef9d15aac",
   "metadata": {},
   "source": [
    "We will now check if there are any default values within the data, which can be indicated by values that go beyond the data range (ex. below the minimum values or above the maximum)"
   ]
  },
  {
   "cell_type": "code",
   "execution_count": 6,
   "id": "5e395b69-85c0-4129-9127-bd20577f1269",
   "metadata": {},
   "outputs": [
    {
     "data": {
      "text/html": [
       "<div>\n",
       "<style scoped>\n",
       "    .dataframe tbody tr th:only-of-type {\n",
       "        vertical-align: middle;\n",
       "    }\n",
       "\n",
       "    .dataframe tbody tr th {\n",
       "        vertical-align: top;\n",
       "    }\n",
       "\n",
       "    .dataframe thead th {\n",
       "        text-align: right;\n",
       "    }\n",
       "</style>\n",
       "<table border=\"1\" class=\"dataframe\">\n",
       "  <thead>\n",
       "    <tr style=\"text-align: right;\">\n",
       "      <th></th>\n",
       "      <th>current_minute</th>\n",
       "      <th>home_score</th>\n",
       "      <th>away_score</th>\n",
       "      <th>home_yellow_cards</th>\n",
       "      <th>away_yellow_cards</th>\n",
       "      <th>home_red_cards</th>\n",
       "      <th>away_red_cards</th>\n",
       "      <th>home_attacks</th>\n",
       "      <th>away_attacks</th>\n",
       "      <th>home_dangerous_attacks</th>\n",
       "      <th>away_dangerous_attacks</th>\n",
       "      <th>home_corners</th>\n",
       "      <th>away_corners</th>\n",
       "      <th>home_off_target</th>\n",
       "      <th>away_off_target</th>\n",
       "      <th>home_on_target</th>\n",
       "      <th>away_on_target</th>\n",
       "      <th>home_possession</th>\n",
       "      <th>away_possession</th>\n",
       "      <th>final_delta</th>\n",
       "    </tr>\n",
       "  </thead>\n",
       "  <tbody>\n",
       "    <tr>\n",
       "      <th>count</th>\n",
       "      <td>7000.000000</td>\n",
       "      <td>7000.000000</td>\n",
       "      <td>7000.000000</td>\n",
       "      <td>7000.000000</td>\n",
       "      <td>7000.000000</td>\n",
       "      <td>7000.000000</td>\n",
       "      <td>7000.000000</td>\n",
       "      <td>7000.000000</td>\n",
       "      <td>7000.000000</td>\n",
       "      <td>7000.000000</td>\n",
       "      <td>7000.000000</td>\n",
       "      <td>7000.000000</td>\n",
       "      <td>7000.000000</td>\n",
       "      <td>7000.000000</td>\n",
       "      <td>7000.000000</td>\n",
       "      <td>7000.000000</td>\n",
       "      <td>7000.000000</td>\n",
       "      <td>7000.000000</td>\n",
       "      <td>7000.000000</td>\n",
       "      <td>7000.000000</td>\n",
       "    </tr>\n",
       "    <tr>\n",
       "      <th>mean</th>\n",
       "      <td>59.491571</td>\n",
       "      <td>0.796000</td>\n",
       "      <td>0.623143</td>\n",
       "      <td>0.522429</td>\n",
       "      <td>0.603143</td>\n",
       "      <td>0.009286</td>\n",
       "      <td>0.015714</td>\n",
       "      <td>46.365429</td>\n",
       "      <td>43.325143</td>\n",
       "      <td>27.611429</td>\n",
       "      <td>24.201286</td>\n",
       "      <td>2.377714</td>\n",
       "      <td>1.994286</td>\n",
       "      <td>3.067857</td>\n",
       "      <td>2.592286</td>\n",
       "      <td>2.172143</td>\n",
       "      <td>1.796000</td>\n",
       "      <td>51.584286</td>\n",
       "      <td>48.412571</td>\n",
       "      <td>1.416857</td>\n",
       "    </tr>\n",
       "    <tr>\n",
       "      <th>std</th>\n",
       "      <td>35.827892</td>\n",
       "      <td>1.070503</td>\n",
       "      <td>0.923248</td>\n",
       "      <td>0.922212</td>\n",
       "      <td>1.018021</td>\n",
       "      <td>0.097399</td>\n",
       "      <td>0.125520</td>\n",
       "      <td>36.004908</td>\n",
       "      <td>33.428276</td>\n",
       "      <td>22.977844</td>\n",
       "      <td>20.457007</td>\n",
       "      <td>2.464647</td>\n",
       "      <td>2.197746</td>\n",
       "      <td>3.157366</td>\n",
       "      <td>2.747621</td>\n",
       "      <td>2.320374</td>\n",
       "      <td>2.026002</td>\n",
       "      <td>10.532584</td>\n",
       "      <td>10.534579</td>\n",
       "      <td>1.419035</td>\n",
       "    </tr>\n",
       "    <tr>\n",
       "      <th>min</th>\n",
       "      <td>-348.000000</td>\n",
       "      <td>0.000000</td>\n",
       "      <td>0.000000</td>\n",
       "      <td>0.000000</td>\n",
       "      <td>0.000000</td>\n",
       "      <td>0.000000</td>\n",
       "      <td>0.000000</td>\n",
       "      <td>0.000000</td>\n",
       "      <td>0.000000</td>\n",
       "      <td>0.000000</td>\n",
       "      <td>0.000000</td>\n",
       "      <td>0.000000</td>\n",
       "      <td>0.000000</td>\n",
       "      <td>0.000000</td>\n",
       "      <td>0.000000</td>\n",
       "      <td>0.000000</td>\n",
       "      <td>0.000000</td>\n",
       "      <td>0.000000</td>\n",
       "      <td>0.000000</td>\n",
       "      <td>-2.000000</td>\n",
       "    </tr>\n",
       "    <tr>\n",
       "      <th>25%</th>\n",
       "      <td>28.000000</td>\n",
       "      <td>0.000000</td>\n",
       "      <td>0.000000</td>\n",
       "      <td>0.000000</td>\n",
       "      <td>0.000000</td>\n",
       "      <td>0.000000</td>\n",
       "      <td>0.000000</td>\n",
       "      <td>15.000000</td>\n",
       "      <td>14.000000</td>\n",
       "      <td>8.000000</td>\n",
       "      <td>7.000000</td>\n",
       "      <td>0.000000</td>\n",
       "      <td>0.000000</td>\n",
       "      <td>0.000000</td>\n",
       "      <td>0.000000</td>\n",
       "      <td>0.000000</td>\n",
       "      <td>0.000000</td>\n",
       "      <td>46.000000</td>\n",
       "      <td>42.000000</td>\n",
       "      <td>0.000000</td>\n",
       "    </tr>\n",
       "    <tr>\n",
       "      <th>50%</th>\n",
       "      <td>70.000000</td>\n",
       "      <td>0.000000</td>\n",
       "      <td>0.000000</td>\n",
       "      <td>0.000000</td>\n",
       "      <td>0.000000</td>\n",
       "      <td>0.000000</td>\n",
       "      <td>0.000000</td>\n",
       "      <td>43.000000</td>\n",
       "      <td>41.000000</td>\n",
       "      <td>25.000000</td>\n",
       "      <td>21.000000</td>\n",
       "      <td>2.000000</td>\n",
       "      <td>1.000000</td>\n",
       "      <td>2.000000</td>\n",
       "      <td>2.000000</td>\n",
       "      <td>2.000000</td>\n",
       "      <td>1.000000</td>\n",
       "      <td>51.000000</td>\n",
       "      <td>49.000000</td>\n",
       "      <td>1.000000</td>\n",
       "    </tr>\n",
       "    <tr>\n",
       "      <th>75%</th>\n",
       "      <td>88.000000</td>\n",
       "      <td>1.000000</td>\n",
       "      <td>1.000000</td>\n",
       "      <td>1.000000</td>\n",
       "      <td>1.000000</td>\n",
       "      <td>0.000000</td>\n",
       "      <td>0.000000</td>\n",
       "      <td>71.000000</td>\n",
       "      <td>67.000000</td>\n",
       "      <td>42.000000</td>\n",
       "      <td>36.000000</td>\n",
       "      <td>4.000000</td>\n",
       "      <td>3.000000</td>\n",
       "      <td>5.000000</td>\n",
       "      <td>4.000000</td>\n",
       "      <td>3.000000</td>\n",
       "      <td>3.000000</td>\n",
       "      <td>58.000000</td>\n",
       "      <td>54.000000</td>\n",
       "      <td>2.000000</td>\n",
       "    </tr>\n",
       "    <tr>\n",
       "      <th>max</th>\n",
       "      <td>583.000000</td>\n",
       "      <td>8.000000</td>\n",
       "      <td>9.000000</td>\n",
       "      <td>8.000000</td>\n",
       "      <td>8.000000</td>\n",
       "      <td>2.000000</td>\n",
       "      <td>2.000000</td>\n",
       "      <td>255.000000</td>\n",
       "      <td>183.000000</td>\n",
       "      <td>134.000000</td>\n",
       "      <td>140.000000</td>\n",
       "      <td>16.000000</td>\n",
       "      <td>18.000000</td>\n",
       "      <td>24.000000</td>\n",
       "      <td>18.000000</td>\n",
       "      <td>22.000000</td>\n",
       "      <td>19.000000</td>\n",
       "      <td>100.000000</td>\n",
       "      <td>100.000000</td>\n",
       "      <td>10.000000</td>\n",
       "    </tr>\n",
       "  </tbody>\n",
       "</table>\n",
       "</div>"
      ],
      "text/plain": [
       "       current_minute   home_score   away_score  home_yellow_cards  \\\n",
       "count     7000.000000  7000.000000  7000.000000        7000.000000   \n",
       "mean        59.491571     0.796000     0.623143           0.522429   \n",
       "std         35.827892     1.070503     0.923248           0.922212   \n",
       "min       -348.000000     0.000000     0.000000           0.000000   \n",
       "25%         28.000000     0.000000     0.000000           0.000000   \n",
       "50%         70.000000     0.000000     0.000000           0.000000   \n",
       "75%         88.000000     1.000000     1.000000           1.000000   \n",
       "max        583.000000     8.000000     9.000000           8.000000   \n",
       "\n",
       "       away_yellow_cards  home_red_cards  away_red_cards  home_attacks  \\\n",
       "count        7000.000000     7000.000000     7000.000000   7000.000000   \n",
       "mean            0.603143        0.009286        0.015714     46.365429   \n",
       "std             1.018021        0.097399        0.125520     36.004908   \n",
       "min             0.000000        0.000000        0.000000      0.000000   \n",
       "25%             0.000000        0.000000        0.000000     15.000000   \n",
       "50%             0.000000        0.000000        0.000000     43.000000   \n",
       "75%             1.000000        0.000000        0.000000     71.000000   \n",
       "max             8.000000        2.000000        2.000000    255.000000   \n",
       "\n",
       "       away_attacks  home_dangerous_attacks  away_dangerous_attacks  \\\n",
       "count   7000.000000             7000.000000             7000.000000   \n",
       "mean      43.325143               27.611429               24.201286   \n",
       "std       33.428276               22.977844               20.457007   \n",
       "min        0.000000                0.000000                0.000000   \n",
       "25%       14.000000                8.000000                7.000000   \n",
       "50%       41.000000               25.000000               21.000000   \n",
       "75%       67.000000               42.000000               36.000000   \n",
       "max      183.000000              134.000000              140.000000   \n",
       "\n",
       "       home_corners  away_corners  home_off_target  away_off_target  \\\n",
       "count   7000.000000   7000.000000      7000.000000      7000.000000   \n",
       "mean       2.377714      1.994286         3.067857         2.592286   \n",
       "std        2.464647      2.197746         3.157366         2.747621   \n",
       "min        0.000000      0.000000         0.000000         0.000000   \n",
       "25%        0.000000      0.000000         0.000000         0.000000   \n",
       "50%        2.000000      1.000000         2.000000         2.000000   \n",
       "75%        4.000000      3.000000         5.000000         4.000000   \n",
       "max       16.000000     18.000000        24.000000        18.000000   \n",
       "\n",
       "       home_on_target  away_on_target  home_possession  away_possession  \\\n",
       "count     7000.000000     7000.000000      7000.000000      7000.000000   \n",
       "mean         2.172143        1.796000        51.584286        48.412571   \n",
       "std          2.320374        2.026002        10.532584        10.534579   \n",
       "min          0.000000        0.000000         0.000000         0.000000   \n",
       "25%          0.000000        0.000000        46.000000        42.000000   \n",
       "50%          2.000000        1.000000        51.000000        49.000000   \n",
       "75%          3.000000        3.000000        58.000000        54.000000   \n",
       "max         22.000000       19.000000       100.000000       100.000000   \n",
       "\n",
       "       final_delta  \n",
       "count  7000.000000  \n",
       "mean      1.416857  \n",
       "std       1.419035  \n",
       "min      -2.000000  \n",
       "25%       0.000000  \n",
       "50%       1.000000  \n",
       "75%       2.000000  \n",
       "max      10.000000  "
      ]
     },
     "execution_count": 6,
     "metadata": {},
     "output_type": "execute_result"
    }
   ],
   "source": [
    "df.describe()"
   ]
  },
  {
   "cell_type": "markdown",
   "id": "c44cc2dc-4e40-412b-acf2-cc25de44b64f",
   "metadata": {},
   "source": [
    "Based on the output above, we can note the following:\n",
    "- The minimum value of **`current_minute`** is a negative value, while the maximum value goes beyond the total match time. \n",
    "- The minimum and maximum values of the remaining features are within the proper range.\n",
    "- `home_possession` and `away_possession` are correctly within 0 and 100"
   ]
  },
  {
   "cell_type": "markdown",
   "id": "38f6fa39-7be2-48e9-a2e1-38c09c1038c6",
   "metadata": {},
   "source": [
    "Since for this project we will be predicting whether the home team is winning or losing, we would ideally want the match to have sufficient data to be able to accurately predict this. If the match has barely begun, there might not be enough data to create an accurate prediction, and this may also skew the training data.\n",
    "\n",
    "With this, we will only use the match data for games that are either from the break time (eg. the middle of the game) or in the game's second half."
   ]
  },
  {
   "cell_type": "code",
   "execution_count": 7,
   "id": "6934ec14-6885-4697-bf9a-f5337b906113",
   "metadata": {},
   "outputs": [
    {
     "data": {
      "text/plain": [
       "count    4112.000000\n",
       "mean       82.137889\n",
       "std        14.433778\n",
       "min        45.000000\n",
       "25%        73.000000\n",
       "50%        83.000000\n",
       "75%        94.000000\n",
       "max       105.000000\n",
       "Name: current_minute, dtype: float64"
      ]
     },
     "execution_count": 7,
     "metadata": {},
     "output_type": "execute_result"
    }
   ],
   "source": [
    "df = df[ df['current_minute'] >= 45 ]\n",
    "df = df[ df['current_minute'] <= 105 ]\n",
    "df['current_minute'].describe()"
   ]
  },
  {
   "cell_type": "code",
   "execution_count": 8,
   "id": "b1a26414-fe15-4218-9b2c-ba5bad142836",
   "metadata": {},
   "outputs": [
    {
     "data": {
      "text/plain": [
       "4112"
      ]
     },
     "execution_count": 8,
     "metadata": {},
     "output_type": "execute_result"
    }
   ],
   "source": [
    "len(df)"
   ]
  },
  {
   "cell_type": "markdown",
   "id": "55ddf8d0-9c27-4c40-9a82-52c81ada807d",
   "metadata": {},
   "source": [
    "As shown, the values for **`current_minute`** are now within the appropriate time range.\n",
    "\n",
    "This now leaves us with 4112 items in the dataset."
   ]
  },
  {
   "cell_type": "markdown",
   "id": "d4a9aa71-1740-462d-a546-7ca92db2b9f8",
   "metadata": {},
   "source": [
    "We will now drop any duplicated data."
   ]
  },
  {
   "cell_type": "code",
   "execution_count": 9,
   "id": "6dcc5c63-ae6e-4d87-bdd3-c1cb53af3454",
   "metadata": {},
   "outputs": [
    {
     "data": {
      "text/plain": [
       "4112"
      ]
     },
     "execution_count": 9,
     "metadata": {},
     "output_type": "execute_result"
    }
   ],
   "source": [
    "df.drop_duplicates()\n",
    "len(df)"
   ]
  },
  {
   "cell_type": "markdown",
   "id": "7a0f6c51-24fd-422b-b43b-64ceeac24941",
   "metadata": {},
   "source": [
    "The number of rows in the dataset did not change, indicating that there were no duplicates."
   ]
  },
  {
   "cell_type": "markdown",
   "id": "1a00c160-025f-4fa4-9177-b5b06551fffa",
   "metadata": {},
   "source": [
    "Lastly, since we are only checking whether or not the home team is winning, we will remove any draw games from the dataset. This is indicated by games where the number of points of the home and away team are equal."
   ]
  },
  {
   "cell_type": "code",
   "execution_count": 10,
   "id": "53a9974a-cd58-4bee-83fc-c60766d2d134",
   "metadata": {},
   "outputs": [
    {
     "data": {
      "text/plain": [
       "2824"
      ]
     },
     "execution_count": 10,
     "metadata": {},
     "output_type": "execute_result"
    }
   ],
   "source": [
    "df = df[ (df['home_score'] != df['away_score']) ]\n",
    "len(df)"
   ]
  },
  {
   "cell_type": "markdown",
   "id": "f901b9c3-4d24-4b4b-8c35-0efab2a946d7",
   "metadata": {},
   "source": [
    "This now leaves us with 2824 items in the dataset."
   ]
  },
  {
   "cell_type": "markdown",
   "id": "321fef29-bc2f-402d-8b85-5538c3f2099d",
   "metadata": {},
   "source": [
    "With the data cleaned, we will now create columns for the extra features that will be used in this project. Since we will need to determine whether or not the home team is winning, we can create an extra variable named **`home_is_winning`**, which will be a boolean variable of whether or not the home team's score is higher than the away team's.\n",
    "\n",
    "As shown in the dataset, a majority of the variables come in pairs, with one corresponding to the home team and the other to the away team. For the remaining features used, we will merge these pairs into a single feature, denoted by the difference of the home team's statistic and the away team's statistic. This will be done to simplify the features used into a single variable, which can make the modelling process easier to perform.\n",
    "\n",
    "Below is an explanation of the extra features that will be added:\n",
    "1. **`yellow_cards_difference`** - The difference between the home `home_yellow_cards` and the away `away_yellow_cards`.\n",
    "2. **`red_cards_difference`** - The difference between the home `home_red_cards` and the away `away_red_cards`.\n",
    "3. **`attacks_difference`** - The difference between the home `home_attacks` and the away `away_attacks`.\n",
    "4. **`dangerous_attacks_difference`** - The difference between the home `home_dangerous_attacks` and the away `away_dangerous_attacks`.\n",
    "5. **`corners_difference`** - The difference between the home `home_corners` and the away `away_corners`.\n",
    "6. **`off_target_difference`** - The difference between the home `home_off_target` and the away `away_off_target`.\n",
    "7. **`on_target_difference`** - The difference between the home `home_on_target` and the away `away_on_target`.\n",
    "8. **`home_possesion`** - Because `home_possession` and `away_possession` percentages directly mirror the distribution of possesion between the home and away teams during a soccer match, we only need one, `home_possesion` is used as all differences is the difference of the home team to the away team (home statistic minus away statistic)."
   ]
  },
  {
   "cell_type": "markdown",
   "id": "d802b452-4207-4045-b13b-6e57d806d85e",
   "metadata": {},
   "source": [
    "We will no longer need the current_minute feature (as explained in the previous section) and final_delta (because it is not explained in the dataset)."
   ]
  },
  {
   "cell_type": "code",
   "execution_count": 11,
   "id": "a172a6d0-d977-4076-a922-e45ae7408cb1",
   "metadata": {},
   "outputs": [],
   "source": [
    "df = df.drop('current_minute', axis=1)\n",
    "df = df.drop('final_delta', axis=1)"
   ]
  },
  {
   "cell_type": "code",
   "execution_count": 12,
   "id": "6ce2fcf1-a28d-4569-9ce2-e7fd4ded61ce",
   "metadata": {},
   "outputs": [
    {
     "data": {
      "text/html": [
       "<div>\n",
       "<style scoped>\n",
       "    .dataframe tbody tr th:only-of-type {\n",
       "        vertical-align: middle;\n",
       "    }\n",
       "\n",
       "    .dataframe tbody tr th {\n",
       "        vertical-align: top;\n",
       "    }\n",
       "\n",
       "    .dataframe thead th {\n",
       "        text-align: right;\n",
       "    }\n",
       "</style>\n",
       "<table border=\"1\" class=\"dataframe\">\n",
       "  <thead>\n",
       "    <tr style=\"text-align: right;\">\n",
       "      <th></th>\n",
       "      <th>home_score</th>\n",
       "      <th>away_score</th>\n",
       "      <th>home_yellow_cards</th>\n",
       "      <th>away_yellow_cards</th>\n",
       "      <th>home_red_cards</th>\n",
       "      <th>away_red_cards</th>\n",
       "      <th>home_attacks</th>\n",
       "      <th>away_attacks</th>\n",
       "      <th>home_dangerous_attacks</th>\n",
       "      <th>away_dangerous_attacks</th>\n",
       "      <th>home_corners</th>\n",
       "      <th>away_corners</th>\n",
       "      <th>home_off_target</th>\n",
       "      <th>away_off_target</th>\n",
       "      <th>home_on_target</th>\n",
       "      <th>away_on_target</th>\n",
       "      <th>home_possession</th>\n",
       "      <th>away_possession</th>\n",
       "      <th>home_is_winning</th>\n",
       "    </tr>\n",
       "  </thead>\n",
       "  <tbody>\n",
       "    <tr>\n",
       "      <th>0</th>\n",
       "      <td>1</td>\n",
       "      <td>2</td>\n",
       "      <td>0</td>\n",
       "      <td>0</td>\n",
       "      <td>0</td>\n",
       "      <td>0</td>\n",
       "      <td>39</td>\n",
       "      <td>45</td>\n",
       "      <td>29</td>\n",
       "      <td>26</td>\n",
       "      <td>4</td>\n",
       "      <td>1</td>\n",
       "      <td>4</td>\n",
       "      <td>0</td>\n",
       "      <td>4</td>\n",
       "      <td>6</td>\n",
       "      <td>48</td>\n",
       "      <td>52</td>\n",
       "      <td>0</td>\n",
       "    </tr>\n",
       "    <tr>\n",
       "      <th>1</th>\n",
       "      <td>2</td>\n",
       "      <td>0</td>\n",
       "      <td>0</td>\n",
       "      <td>0</td>\n",
       "      <td>0</td>\n",
       "      <td>0</td>\n",
       "      <td>0</td>\n",
       "      <td>0</td>\n",
       "      <td>0</td>\n",
       "      <td>0</td>\n",
       "      <td>0</td>\n",
       "      <td>0</td>\n",
       "      <td>0</td>\n",
       "      <td>0</td>\n",
       "      <td>0</td>\n",
       "      <td>0</td>\n",
       "      <td>50</td>\n",
       "      <td>50</td>\n",
       "      <td>1</td>\n",
       "    </tr>\n",
       "    <tr>\n",
       "      <th>4</th>\n",
       "      <td>1</td>\n",
       "      <td>0</td>\n",
       "      <td>1</td>\n",
       "      <td>0</td>\n",
       "      <td>0</td>\n",
       "      <td>0</td>\n",
       "      <td>69</td>\n",
       "      <td>78</td>\n",
       "      <td>21</td>\n",
       "      <td>46</td>\n",
       "      <td>1</td>\n",
       "      <td>1</td>\n",
       "      <td>0</td>\n",
       "      <td>3</td>\n",
       "      <td>4</td>\n",
       "      <td>4</td>\n",
       "      <td>45</td>\n",
       "      <td>55</td>\n",
       "      <td>1</td>\n",
       "    </tr>\n",
       "    <tr>\n",
       "      <th>5</th>\n",
       "      <td>2</td>\n",
       "      <td>0</td>\n",
       "      <td>0</td>\n",
       "      <td>0</td>\n",
       "      <td>0</td>\n",
       "      <td>0</td>\n",
       "      <td>87</td>\n",
       "      <td>72</td>\n",
       "      <td>40</td>\n",
       "      <td>35</td>\n",
       "      <td>3</td>\n",
       "      <td>2</td>\n",
       "      <td>4</td>\n",
       "      <td>4</td>\n",
       "      <td>3</td>\n",
       "      <td>3</td>\n",
       "      <td>50</td>\n",
       "      <td>50</td>\n",
       "      <td>1</td>\n",
       "    </tr>\n",
       "    <tr>\n",
       "      <th>8</th>\n",
       "      <td>0</td>\n",
       "      <td>2</td>\n",
       "      <td>0</td>\n",
       "      <td>0</td>\n",
       "      <td>0</td>\n",
       "      <td>0</td>\n",
       "      <td>27</td>\n",
       "      <td>41</td>\n",
       "      <td>20</td>\n",
       "      <td>31</td>\n",
       "      <td>2</td>\n",
       "      <td>2</td>\n",
       "      <td>1</td>\n",
       "      <td>3</td>\n",
       "      <td>1</td>\n",
       "      <td>4</td>\n",
       "      <td>36</td>\n",
       "      <td>64</td>\n",
       "      <td>0</td>\n",
       "    </tr>\n",
       "  </tbody>\n",
       "</table>\n",
       "</div>"
      ],
      "text/plain": [
       "   home_score  away_score  home_yellow_cards  away_yellow_cards  \\\n",
       "0           1           2                  0                  0   \n",
       "1           2           0                  0                  0   \n",
       "4           1           0                  1                  0   \n",
       "5           2           0                  0                  0   \n",
       "8           0           2                  0                  0   \n",
       "\n",
       "   home_red_cards  away_red_cards  home_attacks  away_attacks  \\\n",
       "0               0               0            39            45   \n",
       "1               0               0             0             0   \n",
       "4               0               0            69            78   \n",
       "5               0               0            87            72   \n",
       "8               0               0            27            41   \n",
       "\n",
       "   home_dangerous_attacks  away_dangerous_attacks  home_corners  away_corners  \\\n",
       "0                      29                      26             4             1   \n",
       "1                       0                       0             0             0   \n",
       "4                      21                      46             1             1   \n",
       "5                      40                      35             3             2   \n",
       "8                      20                      31             2             2   \n",
       "\n",
       "   home_off_target  away_off_target  home_on_target  away_on_target  \\\n",
       "0                4                0               4               6   \n",
       "1                0                0               0               0   \n",
       "4                0                3               4               4   \n",
       "5                4                4               3               3   \n",
       "8                1                3               1               4   \n",
       "\n",
       "   home_possession  away_possession  home_is_winning  \n",
       "0               48               52                0  \n",
       "1               50               50                1  \n",
       "4               45               55                1  \n",
       "5               50               50                1  \n",
       "8               36               64                0  "
      ]
     },
     "execution_count": 12,
     "metadata": {},
     "output_type": "execute_result"
    }
   ],
   "source": [
    "# Add home_is_winning feature\n",
    "create_new_column = lambda row: 1 if (row[\"home_score\"] > row[\"away_score\"]) else 0\n",
    "added_column = df.apply(create_new_column, axis=1)\n",
    "df[\"home_is_winning\"] = added_column\n",
    "df.head()"
   ]
  },
  {
   "cell_type": "markdown",
   "id": "0904382d-6a4e-4bfe-96d3-61acad3c390e",
   "metadata": {},
   "source": [
    "Now that we have used the `home_score` and the `away_score` to create the `home_is_winning` output, then we can remove them (as explained in the previous section)."
   ]
  },
  {
   "cell_type": "code",
   "execution_count": 13,
   "id": "8570f537-3ac5-4cb5-b080-458f63aba8e0",
   "metadata": {},
   "outputs": [],
   "source": [
    "df = df.drop('home_score', axis=1)\n",
    "df = df.drop('away_score', axis=1)"
   ]
  },
  {
   "cell_type": "markdown",
   "id": "5a4e41c1-af43-492b-afbe-4be519c80444",
   "metadata": {},
   "source": [
    "Now, let's replace the original features in the dataset with the paired features identified."
   ]
  },
  {
   "cell_type": "code",
   "execution_count": 14,
   "id": "8969714d-ab1b-4cda-a65b-37274d9d6290",
   "metadata": {},
   "outputs": [],
   "source": [
    "def add_difference_col(df, home_var, away_var, new_var):\n",
    "    # create new column\n",
    "    create_new_column = lambda row: row[home_var] - row[away_var]\n",
    "    added_column = df.apply(create_new_column, axis=1)\n",
    "    # add new column\n",
    "    df[new_var] = added_column\n",
    "\n",
    "    return df"
   ]
  },
  {
   "cell_type": "code",
   "execution_count": 15,
   "id": "4b99b356-b4cb-4a69-bdca-285f78c5fb7b",
   "metadata": {},
   "outputs": [
    {
     "name": "stdout",
     "output_type": "stream",
     "text": [
      "New columns:\n",
      "home_yellow_cards  -  away_yellow_cards  =  yellow_cards_difference\n",
      "home_red_cards  -  away_red_cards  =  red_cards_difference\n",
      "home_attacks  -  away_attacks  =  attacks_difference\n",
      "home_dangerous_attacks  -  away_dangerous_attacks  =  dangerous_attacks_difference\n",
      "home_corners  -  away_corners  =  corners_difference\n",
      "home_off_target  -  away_off_target  =  off_target_difference\n",
      "home_on_target  -  away_on_target  =  on_target_difference\n"
     ]
    },
    {
     "data": {
      "text/html": [
       "<div>\n",
       "<style scoped>\n",
       "    .dataframe tbody tr th:only-of-type {\n",
       "        vertical-align: middle;\n",
       "    }\n",
       "\n",
       "    .dataframe tbody tr th {\n",
       "        vertical-align: top;\n",
       "    }\n",
       "\n",
       "    .dataframe thead th {\n",
       "        text-align: right;\n",
       "    }\n",
       "</style>\n",
       "<table border=\"1\" class=\"dataframe\">\n",
       "  <thead>\n",
       "    <tr style=\"text-align: right;\">\n",
       "      <th></th>\n",
       "      <th>home_yellow_cards</th>\n",
       "      <th>away_yellow_cards</th>\n",
       "      <th>home_red_cards</th>\n",
       "      <th>away_red_cards</th>\n",
       "      <th>home_attacks</th>\n",
       "      <th>away_attacks</th>\n",
       "      <th>home_dangerous_attacks</th>\n",
       "      <th>away_dangerous_attacks</th>\n",
       "      <th>home_corners</th>\n",
       "      <th>away_corners</th>\n",
       "      <th>...</th>\n",
       "      <th>home_possession</th>\n",
       "      <th>away_possession</th>\n",
       "      <th>home_is_winning</th>\n",
       "      <th>yellow_cards_difference</th>\n",
       "      <th>red_cards_difference</th>\n",
       "      <th>attacks_difference</th>\n",
       "      <th>dangerous_attacks_difference</th>\n",
       "      <th>corners_difference</th>\n",
       "      <th>off_target_difference</th>\n",
       "      <th>on_target_difference</th>\n",
       "    </tr>\n",
       "  </thead>\n",
       "  <tbody>\n",
       "    <tr>\n",
       "      <th>0</th>\n",
       "      <td>0</td>\n",
       "      <td>0</td>\n",
       "      <td>0</td>\n",
       "      <td>0</td>\n",
       "      <td>39</td>\n",
       "      <td>45</td>\n",
       "      <td>29</td>\n",
       "      <td>26</td>\n",
       "      <td>4</td>\n",
       "      <td>1</td>\n",
       "      <td>...</td>\n",
       "      <td>48</td>\n",
       "      <td>52</td>\n",
       "      <td>0</td>\n",
       "      <td>0</td>\n",
       "      <td>0</td>\n",
       "      <td>-6</td>\n",
       "      <td>3</td>\n",
       "      <td>3</td>\n",
       "      <td>4</td>\n",
       "      <td>-2</td>\n",
       "    </tr>\n",
       "    <tr>\n",
       "      <th>1</th>\n",
       "      <td>0</td>\n",
       "      <td>0</td>\n",
       "      <td>0</td>\n",
       "      <td>0</td>\n",
       "      <td>0</td>\n",
       "      <td>0</td>\n",
       "      <td>0</td>\n",
       "      <td>0</td>\n",
       "      <td>0</td>\n",
       "      <td>0</td>\n",
       "      <td>...</td>\n",
       "      <td>50</td>\n",
       "      <td>50</td>\n",
       "      <td>1</td>\n",
       "      <td>0</td>\n",
       "      <td>0</td>\n",
       "      <td>0</td>\n",
       "      <td>0</td>\n",
       "      <td>0</td>\n",
       "      <td>0</td>\n",
       "      <td>0</td>\n",
       "    </tr>\n",
       "    <tr>\n",
       "      <th>4</th>\n",
       "      <td>1</td>\n",
       "      <td>0</td>\n",
       "      <td>0</td>\n",
       "      <td>0</td>\n",
       "      <td>69</td>\n",
       "      <td>78</td>\n",
       "      <td>21</td>\n",
       "      <td>46</td>\n",
       "      <td>1</td>\n",
       "      <td>1</td>\n",
       "      <td>...</td>\n",
       "      <td>45</td>\n",
       "      <td>55</td>\n",
       "      <td>1</td>\n",
       "      <td>1</td>\n",
       "      <td>0</td>\n",
       "      <td>-9</td>\n",
       "      <td>-25</td>\n",
       "      <td>0</td>\n",
       "      <td>-3</td>\n",
       "      <td>0</td>\n",
       "    </tr>\n",
       "    <tr>\n",
       "      <th>5</th>\n",
       "      <td>0</td>\n",
       "      <td>0</td>\n",
       "      <td>0</td>\n",
       "      <td>0</td>\n",
       "      <td>87</td>\n",
       "      <td>72</td>\n",
       "      <td>40</td>\n",
       "      <td>35</td>\n",
       "      <td>3</td>\n",
       "      <td>2</td>\n",
       "      <td>...</td>\n",
       "      <td>50</td>\n",
       "      <td>50</td>\n",
       "      <td>1</td>\n",
       "      <td>0</td>\n",
       "      <td>0</td>\n",
       "      <td>15</td>\n",
       "      <td>5</td>\n",
       "      <td>1</td>\n",
       "      <td>0</td>\n",
       "      <td>0</td>\n",
       "    </tr>\n",
       "    <tr>\n",
       "      <th>8</th>\n",
       "      <td>0</td>\n",
       "      <td>0</td>\n",
       "      <td>0</td>\n",
       "      <td>0</td>\n",
       "      <td>27</td>\n",
       "      <td>41</td>\n",
       "      <td>20</td>\n",
       "      <td>31</td>\n",
       "      <td>2</td>\n",
       "      <td>2</td>\n",
       "      <td>...</td>\n",
       "      <td>36</td>\n",
       "      <td>64</td>\n",
       "      <td>0</td>\n",
       "      <td>0</td>\n",
       "      <td>0</td>\n",
       "      <td>-14</td>\n",
       "      <td>-11</td>\n",
       "      <td>0</td>\n",
       "      <td>-2</td>\n",
       "      <td>-3</td>\n",
       "    </tr>\n",
       "  </tbody>\n",
       "</table>\n",
       "<p>5 rows × 24 columns</p>\n",
       "</div>"
      ],
      "text/plain": [
       "   home_yellow_cards  away_yellow_cards  home_red_cards  away_red_cards  \\\n",
       "0                  0                  0               0               0   \n",
       "1                  0                  0               0               0   \n",
       "4                  1                  0               0               0   \n",
       "5                  0                  0               0               0   \n",
       "8                  0                  0               0               0   \n",
       "\n",
       "   home_attacks  away_attacks  home_dangerous_attacks  away_dangerous_attacks  \\\n",
       "0            39            45                      29                      26   \n",
       "1             0             0                       0                       0   \n",
       "4            69            78                      21                      46   \n",
       "5            87            72                      40                      35   \n",
       "8            27            41                      20                      31   \n",
       "\n",
       "   home_corners  away_corners  ...  home_possession  away_possession  \\\n",
       "0             4             1  ...               48               52   \n",
       "1             0             0  ...               50               50   \n",
       "4             1             1  ...               45               55   \n",
       "5             3             2  ...               50               50   \n",
       "8             2             2  ...               36               64   \n",
       "\n",
       "   home_is_winning  yellow_cards_difference  red_cards_difference  \\\n",
       "0                0                        0                     0   \n",
       "1                1                        0                     0   \n",
       "4                1                        1                     0   \n",
       "5                1                        0                     0   \n",
       "8                0                        0                     0   \n",
       "\n",
       "   attacks_difference  dangerous_attacks_difference  corners_difference  \\\n",
       "0                  -6                             3                   3   \n",
       "1                   0                             0                   0   \n",
       "4                  -9                           -25                   0   \n",
       "5                  15                             5                   1   \n",
       "8                 -14                           -11                   0   \n",
       "\n",
       "   off_target_difference  on_target_difference  \n",
       "0                      4                    -2  \n",
       "1                      0                     0  \n",
       "4                     -3                     0  \n",
       "5                      0                     0  \n",
       "8                     -2                    -3  \n",
       "\n",
       "[5 rows x 24 columns]"
      ]
     },
     "execution_count": 15,
     "metadata": {},
     "output_type": "execute_result"
    }
   ],
   "source": [
    "cols = list(df.columns)\n",
    "\n",
    "new_cols = ['yellow_cards_difference',\n",
    "            'red_cards_difference',\n",
    "            'attacks_difference',\n",
    "            'dangerous_attacks_difference',\n",
    "            'corners_difference',\n",
    "            'off_target_difference',\n",
    "            'on_target_difference'\n",
    "           ]\n",
    "\n",
    "print(\"New columns:\")\n",
    "j = 0\n",
    "for i in range(0, len(cols) - 3, 2):\n",
    "    print(f'{cols[i]}  -  {cols[i+1]}  =  {new_cols[j]}')\n",
    "    # add the new columns\n",
    "    df_pair = add_difference_col(df, cols[i], cols[i+1], new_cols[j])\n",
    "    j += 1\n",
    "\n",
    "df_pair.head()"
   ]
  },
  {
   "cell_type": "markdown",
   "id": "9c89db6b-1a05-43f9-a129-7e88f53e67e6",
   "metadata": {},
   "source": [
    "You can now see that the new dataframe has the added columns.\n",
    "\n",
    "You will notice that the `home_possession` and `away_possession` features were not modified. Since these are percentages that, when added, are equal to 100, there is no need to get their difference. With that, we will drop the `away_possession` column."
   ]
  },
  {
   "cell_type": "code",
   "execution_count": 16,
   "id": "b151ea71-97a5-4849-864d-5209f6e16473",
   "metadata": {},
   "outputs": [],
   "source": [
    "# df = df.drop('away_possession', axis=1)"
   ]
  },
  {
   "cell_type": "markdown",
   "id": "e5852768-96f3-40ac-b402-50a7b3e437c1",
   "metadata": {},
   "source": [
    "We will also move the `home_is_winning` feature to the final column so that the data is easier to visualize."
   ]
  },
  {
   "cell_type": "code",
   "execution_count": 17,
   "id": "f3e91d2c-34f5-4f9e-a869-9e67689957fc",
   "metadata": {},
   "outputs": [
    {
     "data": {
      "text/html": [
       "<div>\n",
       "<style scoped>\n",
       "    .dataframe tbody tr th:only-of-type {\n",
       "        vertical-align: middle;\n",
       "    }\n",
       "\n",
       "    .dataframe tbody tr th {\n",
       "        vertical-align: top;\n",
       "    }\n",
       "\n",
       "    .dataframe thead th {\n",
       "        text-align: right;\n",
       "    }\n",
       "</style>\n",
       "<table border=\"1\" class=\"dataframe\">\n",
       "  <thead>\n",
       "    <tr style=\"text-align: right;\">\n",
       "      <th></th>\n",
       "      <th>home_yellow_cards</th>\n",
       "      <th>away_yellow_cards</th>\n",
       "      <th>home_red_cards</th>\n",
       "      <th>away_red_cards</th>\n",
       "      <th>home_attacks</th>\n",
       "      <th>away_attacks</th>\n",
       "      <th>home_dangerous_attacks</th>\n",
       "      <th>away_dangerous_attacks</th>\n",
       "      <th>home_corners</th>\n",
       "      <th>away_corners</th>\n",
       "      <th>...</th>\n",
       "      <th>home_possession</th>\n",
       "      <th>away_possession</th>\n",
       "      <th>yellow_cards_difference</th>\n",
       "      <th>red_cards_difference</th>\n",
       "      <th>attacks_difference</th>\n",
       "      <th>dangerous_attacks_difference</th>\n",
       "      <th>corners_difference</th>\n",
       "      <th>off_target_difference</th>\n",
       "      <th>on_target_difference</th>\n",
       "      <th>home_is_winning</th>\n",
       "    </tr>\n",
       "  </thead>\n",
       "  <tbody>\n",
       "    <tr>\n",
       "      <th>0</th>\n",
       "      <td>0</td>\n",
       "      <td>0</td>\n",
       "      <td>0</td>\n",
       "      <td>0</td>\n",
       "      <td>39</td>\n",
       "      <td>45</td>\n",
       "      <td>29</td>\n",
       "      <td>26</td>\n",
       "      <td>4</td>\n",
       "      <td>1</td>\n",
       "      <td>...</td>\n",
       "      <td>48</td>\n",
       "      <td>52</td>\n",
       "      <td>0</td>\n",
       "      <td>0</td>\n",
       "      <td>-6</td>\n",
       "      <td>3</td>\n",
       "      <td>3</td>\n",
       "      <td>4</td>\n",
       "      <td>-2</td>\n",
       "      <td>0</td>\n",
       "    </tr>\n",
       "    <tr>\n",
       "      <th>1</th>\n",
       "      <td>0</td>\n",
       "      <td>0</td>\n",
       "      <td>0</td>\n",
       "      <td>0</td>\n",
       "      <td>0</td>\n",
       "      <td>0</td>\n",
       "      <td>0</td>\n",
       "      <td>0</td>\n",
       "      <td>0</td>\n",
       "      <td>0</td>\n",
       "      <td>...</td>\n",
       "      <td>50</td>\n",
       "      <td>50</td>\n",
       "      <td>0</td>\n",
       "      <td>0</td>\n",
       "      <td>0</td>\n",
       "      <td>0</td>\n",
       "      <td>0</td>\n",
       "      <td>0</td>\n",
       "      <td>0</td>\n",
       "      <td>1</td>\n",
       "    </tr>\n",
       "    <tr>\n",
       "      <th>4</th>\n",
       "      <td>1</td>\n",
       "      <td>0</td>\n",
       "      <td>0</td>\n",
       "      <td>0</td>\n",
       "      <td>69</td>\n",
       "      <td>78</td>\n",
       "      <td>21</td>\n",
       "      <td>46</td>\n",
       "      <td>1</td>\n",
       "      <td>1</td>\n",
       "      <td>...</td>\n",
       "      <td>45</td>\n",
       "      <td>55</td>\n",
       "      <td>1</td>\n",
       "      <td>0</td>\n",
       "      <td>-9</td>\n",
       "      <td>-25</td>\n",
       "      <td>0</td>\n",
       "      <td>-3</td>\n",
       "      <td>0</td>\n",
       "      <td>1</td>\n",
       "    </tr>\n",
       "    <tr>\n",
       "      <th>5</th>\n",
       "      <td>0</td>\n",
       "      <td>0</td>\n",
       "      <td>0</td>\n",
       "      <td>0</td>\n",
       "      <td>87</td>\n",
       "      <td>72</td>\n",
       "      <td>40</td>\n",
       "      <td>35</td>\n",
       "      <td>3</td>\n",
       "      <td>2</td>\n",
       "      <td>...</td>\n",
       "      <td>50</td>\n",
       "      <td>50</td>\n",
       "      <td>0</td>\n",
       "      <td>0</td>\n",
       "      <td>15</td>\n",
       "      <td>5</td>\n",
       "      <td>1</td>\n",
       "      <td>0</td>\n",
       "      <td>0</td>\n",
       "      <td>1</td>\n",
       "    </tr>\n",
       "    <tr>\n",
       "      <th>8</th>\n",
       "      <td>0</td>\n",
       "      <td>0</td>\n",
       "      <td>0</td>\n",
       "      <td>0</td>\n",
       "      <td>27</td>\n",
       "      <td>41</td>\n",
       "      <td>20</td>\n",
       "      <td>31</td>\n",
       "      <td>2</td>\n",
       "      <td>2</td>\n",
       "      <td>...</td>\n",
       "      <td>36</td>\n",
       "      <td>64</td>\n",
       "      <td>0</td>\n",
       "      <td>0</td>\n",
       "      <td>-14</td>\n",
       "      <td>-11</td>\n",
       "      <td>0</td>\n",
       "      <td>-2</td>\n",
       "      <td>-3</td>\n",
       "      <td>0</td>\n",
       "    </tr>\n",
       "  </tbody>\n",
       "</table>\n",
       "<p>5 rows × 24 columns</p>\n",
       "</div>"
      ],
      "text/plain": [
       "   home_yellow_cards  away_yellow_cards  home_red_cards  away_red_cards  \\\n",
       "0                  0                  0               0               0   \n",
       "1                  0                  0               0               0   \n",
       "4                  1                  0               0               0   \n",
       "5                  0                  0               0               0   \n",
       "8                  0                  0               0               0   \n",
       "\n",
       "   home_attacks  away_attacks  home_dangerous_attacks  away_dangerous_attacks  \\\n",
       "0            39            45                      29                      26   \n",
       "1             0             0                       0                       0   \n",
       "4            69            78                      21                      46   \n",
       "5            87            72                      40                      35   \n",
       "8            27            41                      20                      31   \n",
       "\n",
       "   home_corners  away_corners  ...  home_possession  away_possession  \\\n",
       "0             4             1  ...               48               52   \n",
       "1             0             0  ...               50               50   \n",
       "4             1             1  ...               45               55   \n",
       "5             3             2  ...               50               50   \n",
       "8             2             2  ...               36               64   \n",
       "\n",
       "   yellow_cards_difference  red_cards_difference  attacks_difference  \\\n",
       "0                        0                     0                  -6   \n",
       "1                        0                     0                   0   \n",
       "4                        1                     0                  -9   \n",
       "5                        0                     0                  15   \n",
       "8                        0                     0                 -14   \n",
       "\n",
       "   dangerous_attacks_difference  corners_difference  off_target_difference  \\\n",
       "0                             3                   3                      4   \n",
       "1                             0                   0                      0   \n",
       "4                           -25                   0                     -3   \n",
       "5                             5                   1                      0   \n",
       "8                           -11                   0                     -2   \n",
       "\n",
       "   on_target_difference  home_is_winning  \n",
       "0                    -2                0  \n",
       "1                     0                1  \n",
       "4                     0                1  \n",
       "5                     0                1  \n",
       "8                    -3                0  \n",
       "\n",
       "[5 rows x 24 columns]"
      ]
     },
     "execution_count": 17,
     "metadata": {},
     "output_type": "execute_result"
    }
   ],
   "source": [
    "col = df.pop('home_is_winning')\n",
    "df.insert(len(df.columns), 'home_is_winning', col)\n",
    "df.head()"
   ]
  },
  {
   "cell_type": "markdown",
   "id": "186d7a47-df90-4f6f-ba63-9379d4a4cfe1",
   "metadata": {},
   "source": [
    "We will now normalize the numerical data used in the dataset. We will do this for all variables except for `home_is_winning` since this is the output."
   ]
  },
  {
   "cell_type": "code",
   "execution_count": 18,
   "id": "3e3ac74d-a278-4cd2-9787-cf0b083ac723",
   "metadata": {},
   "outputs": [
    {
     "data": {
      "text/plain": [
       "['home_yellow_cards',\n",
       " 'away_yellow_cards',\n",
       " 'home_red_cards',\n",
       " 'away_red_cards',\n",
       " 'home_attacks',\n",
       " 'away_attacks',\n",
       " 'home_dangerous_attacks',\n",
       " 'away_dangerous_attacks',\n",
       " 'home_corners',\n",
       " 'away_corners',\n",
       " 'home_off_target',\n",
       " 'away_off_target',\n",
       " 'home_on_target',\n",
       " 'away_on_target',\n",
       " 'yellow_cards_difference',\n",
       " 'red_cards_difference',\n",
       " 'attacks_difference',\n",
       " 'dangerous_attacks_difference',\n",
       " 'corners_difference',\n",
       " 'off_target_difference',\n",
       " 'on_target_difference']"
      ]
     },
     "execution_count": 18,
     "metadata": {},
     "output_type": "execute_result"
    }
   ],
   "source": [
    "columns_to_normalize = list(df.columns)\n",
    "columns_to_normalize.remove('home_is_winning')\n",
    "columns_to_normalize.remove('home_possession')\n",
    "columns_to_normalize.remove('away_possession')\n",
    "columns_to_normalize"
   ]
  },
  {
   "cell_type": "code",
   "execution_count": 19,
   "id": "a3189e94-9e61-4d58-8979-5f97cdc00e66",
   "metadata": {},
   "outputs": [
    {
     "data": {
      "text/html": [
       "<div>\n",
       "<style scoped>\n",
       "    .dataframe tbody tr th:only-of-type {\n",
       "        vertical-align: middle;\n",
       "    }\n",
       "\n",
       "    .dataframe tbody tr th {\n",
       "        vertical-align: top;\n",
       "    }\n",
       "\n",
       "    .dataframe thead th {\n",
       "        text-align: right;\n",
       "    }\n",
       "</style>\n",
       "<table border=\"1\" class=\"dataframe\">\n",
       "  <thead>\n",
       "    <tr style=\"text-align: right;\">\n",
       "      <th></th>\n",
       "      <th>home_yellow_cards</th>\n",
       "      <th>away_yellow_cards</th>\n",
       "      <th>home_red_cards</th>\n",
       "      <th>away_red_cards</th>\n",
       "      <th>home_attacks</th>\n",
       "      <th>away_attacks</th>\n",
       "      <th>home_dangerous_attacks</th>\n",
       "      <th>away_dangerous_attacks</th>\n",
       "      <th>home_corners</th>\n",
       "      <th>away_corners</th>\n",
       "      <th>...</th>\n",
       "      <th>home_possession</th>\n",
       "      <th>away_possession</th>\n",
       "      <th>yellow_cards_difference</th>\n",
       "      <th>red_cards_difference</th>\n",
       "      <th>attacks_difference</th>\n",
       "      <th>dangerous_attacks_difference</th>\n",
       "      <th>corners_difference</th>\n",
       "      <th>off_target_difference</th>\n",
       "      <th>on_target_difference</th>\n",
       "      <th>home_is_winning</th>\n",
       "    </tr>\n",
       "  </thead>\n",
       "  <tbody>\n",
       "    <tr>\n",
       "      <th>0</th>\n",
       "      <td>0.000000</td>\n",
       "      <td>0.0</td>\n",
       "      <td>0.0</td>\n",
       "      <td>0.0</td>\n",
       "      <td>0.152941</td>\n",
       "      <td>0.245902</td>\n",
       "      <td>0.219697</td>\n",
       "      <td>0.185714</td>\n",
       "      <td>0.285714</td>\n",
       "      <td>0.055556</td>\n",
       "      <td>...</td>\n",
       "      <td>48</td>\n",
       "      <td>52</td>\n",
       "      <td>0.5</td>\n",
       "      <td>0.333333</td>\n",
       "      <td>0.460251</td>\n",
       "      <td>0.461538</td>\n",
       "      <td>0.65625</td>\n",
       "      <td>0.548387</td>\n",
       "      <td>0.484848</td>\n",
       "      <td>0</td>\n",
       "    </tr>\n",
       "    <tr>\n",
       "      <th>1</th>\n",
       "      <td>0.000000</td>\n",
       "      <td>0.0</td>\n",
       "      <td>0.0</td>\n",
       "      <td>0.0</td>\n",
       "      <td>0.000000</td>\n",
       "      <td>0.000000</td>\n",
       "      <td>0.000000</td>\n",
       "      <td>0.000000</td>\n",
       "      <td>0.000000</td>\n",
       "      <td>0.000000</td>\n",
       "      <td>...</td>\n",
       "      <td>50</td>\n",
       "      <td>50</td>\n",
       "      <td>0.5</td>\n",
       "      <td>0.333333</td>\n",
       "      <td>0.485356</td>\n",
       "      <td>0.443787</td>\n",
       "      <td>0.56250</td>\n",
       "      <td>0.419355</td>\n",
       "      <td>0.545455</td>\n",
       "      <td>1</td>\n",
       "    </tr>\n",
       "    <tr>\n",
       "      <th>4</th>\n",
       "      <td>0.142857</td>\n",
       "      <td>0.0</td>\n",
       "      <td>0.0</td>\n",
       "      <td>0.0</td>\n",
       "      <td>0.270588</td>\n",
       "      <td>0.426230</td>\n",
       "      <td>0.159091</td>\n",
       "      <td>0.328571</td>\n",
       "      <td>0.071429</td>\n",
       "      <td>0.055556</td>\n",
       "      <td>...</td>\n",
       "      <td>45</td>\n",
       "      <td>55</td>\n",
       "      <td>0.6</td>\n",
       "      <td>0.333333</td>\n",
       "      <td>0.447699</td>\n",
       "      <td>0.295858</td>\n",
       "      <td>0.56250</td>\n",
       "      <td>0.322581</td>\n",
       "      <td>0.545455</td>\n",
       "      <td>1</td>\n",
       "    </tr>\n",
       "    <tr>\n",
       "      <th>5</th>\n",
       "      <td>0.000000</td>\n",
       "      <td>0.0</td>\n",
       "      <td>0.0</td>\n",
       "      <td>0.0</td>\n",
       "      <td>0.341176</td>\n",
       "      <td>0.393443</td>\n",
       "      <td>0.303030</td>\n",
       "      <td>0.250000</td>\n",
       "      <td>0.214286</td>\n",
       "      <td>0.111111</td>\n",
       "      <td>...</td>\n",
       "      <td>50</td>\n",
       "      <td>50</td>\n",
       "      <td>0.5</td>\n",
       "      <td>0.333333</td>\n",
       "      <td>0.548117</td>\n",
       "      <td>0.473373</td>\n",
       "      <td>0.59375</td>\n",
       "      <td>0.419355</td>\n",
       "      <td>0.545455</td>\n",
       "      <td>1</td>\n",
       "    </tr>\n",
       "    <tr>\n",
       "      <th>8</th>\n",
       "      <td>0.000000</td>\n",
       "      <td>0.0</td>\n",
       "      <td>0.0</td>\n",
       "      <td>0.0</td>\n",
       "      <td>0.105882</td>\n",
       "      <td>0.224044</td>\n",
       "      <td>0.151515</td>\n",
       "      <td>0.221429</td>\n",
       "      <td>0.142857</td>\n",
       "      <td>0.111111</td>\n",
       "      <td>...</td>\n",
       "      <td>36</td>\n",
       "      <td>64</td>\n",
       "      <td>0.5</td>\n",
       "      <td>0.333333</td>\n",
       "      <td>0.426778</td>\n",
       "      <td>0.378698</td>\n",
       "      <td>0.56250</td>\n",
       "      <td>0.354839</td>\n",
       "      <td>0.454545</td>\n",
       "      <td>0</td>\n",
       "    </tr>\n",
       "  </tbody>\n",
       "</table>\n",
       "<p>5 rows × 24 columns</p>\n",
       "</div>"
      ],
      "text/plain": [
       "   home_yellow_cards  away_yellow_cards  home_red_cards  away_red_cards  \\\n",
       "0           0.000000                0.0             0.0             0.0   \n",
       "1           0.000000                0.0             0.0             0.0   \n",
       "4           0.142857                0.0             0.0             0.0   \n",
       "5           0.000000                0.0             0.0             0.0   \n",
       "8           0.000000                0.0             0.0             0.0   \n",
       "\n",
       "   home_attacks  away_attacks  home_dangerous_attacks  away_dangerous_attacks  \\\n",
       "0      0.152941      0.245902                0.219697                0.185714   \n",
       "1      0.000000      0.000000                0.000000                0.000000   \n",
       "4      0.270588      0.426230                0.159091                0.328571   \n",
       "5      0.341176      0.393443                0.303030                0.250000   \n",
       "8      0.105882      0.224044                0.151515                0.221429   \n",
       "\n",
       "   home_corners  away_corners  ...  home_possession  away_possession  \\\n",
       "0      0.285714      0.055556  ...               48               52   \n",
       "1      0.000000      0.000000  ...               50               50   \n",
       "4      0.071429      0.055556  ...               45               55   \n",
       "5      0.214286      0.111111  ...               50               50   \n",
       "8      0.142857      0.111111  ...               36               64   \n",
       "\n",
       "   yellow_cards_difference  red_cards_difference  attacks_difference  \\\n",
       "0                      0.5              0.333333            0.460251   \n",
       "1                      0.5              0.333333            0.485356   \n",
       "4                      0.6              0.333333            0.447699   \n",
       "5                      0.5              0.333333            0.548117   \n",
       "8                      0.5              0.333333            0.426778   \n",
       "\n",
       "   dangerous_attacks_difference  corners_difference  off_target_difference  \\\n",
       "0                      0.461538             0.65625               0.548387   \n",
       "1                      0.443787             0.56250               0.419355   \n",
       "4                      0.295858             0.56250               0.322581   \n",
       "5                      0.473373             0.59375               0.419355   \n",
       "8                      0.378698             0.56250               0.354839   \n",
       "\n",
       "   on_target_difference  home_is_winning  \n",
       "0              0.484848                0  \n",
       "1              0.545455                1  \n",
       "4              0.545455                1  \n",
       "5              0.545455                1  \n",
       "8              0.454545                0  \n",
       "\n",
       "[5 rows x 24 columns]"
      ]
     },
     "execution_count": 19,
     "metadata": {},
     "output_type": "execute_result"
    }
   ],
   "source": [
    "df[columns_to_normalize] = df[columns_to_normalize].apply(lambda x: (x - x.min()) / (x.max() - x.min()))\n",
    "df.head()"
   ]
  },
  {
   "cell_type": "markdown",
   "id": "a5bbd66c-f56f-40a0-8eb2-44f9b7b23409",
   "metadata": {},
   "source": [
    "Now let's seperate the two datasets for convinience, `df` with the original features and `df_pair` with the paired features."
   ]
  },
  {
   "cell_type": "code",
   "execution_count": 20,
   "id": "2958b104-bc3b-4806-a341-0f89a5623bd4",
   "metadata": {},
   "outputs": [],
   "source": [
    "df_features = [\n",
    "    'home_yellow_cards', 'away_yellow_cards',\n",
    "    'home_red_cards', 'away_red_cards', 'home_attacks', 'away_attacks',\n",
    "    'home_dangerous_attacks', 'away_dangerous_attacks', 'home_corners',\n",
    "    'away_corners', 'home_off_target', 'away_off_target', 'home_on_target',\n",
    "    'away_on_target', 'home_possession', 'away_possession', 'home_is_winning'\n",
    "]\n",
    "\n",
    "df_pair_features = [\n",
    "    'yellow_cards_difference', 'red_cards_difference',\n",
    "    'attacks_difference', 'dangerous_attacks_difference', 'corners_difference',\n",
    "    'off_target_difference', 'on_target_difference', 'home_possession',\n",
    "    'home_is_winning'\n",
    "]\n",
    "\n",
    "\n",
    "df_pair = df[df_pair_features]\n",
    "df = df[df_features]"
   ]
  },
  {
   "cell_type": "code",
   "execution_count": 21,
   "id": "b831e201-d20d-4f8a-b1cc-3e0c2c04f042",
   "metadata": {},
   "outputs": [
    {
     "data": {
      "text/html": [
       "<div>\n",
       "<style scoped>\n",
       "    .dataframe tbody tr th:only-of-type {\n",
       "        vertical-align: middle;\n",
       "    }\n",
       "\n",
       "    .dataframe tbody tr th {\n",
       "        vertical-align: top;\n",
       "    }\n",
       "\n",
       "    .dataframe thead th {\n",
       "        text-align: right;\n",
       "    }\n",
       "</style>\n",
       "<table border=\"1\" class=\"dataframe\">\n",
       "  <thead>\n",
       "    <tr style=\"text-align: right;\">\n",
       "      <th></th>\n",
       "      <th>home_yellow_cards</th>\n",
       "      <th>away_yellow_cards</th>\n",
       "      <th>home_red_cards</th>\n",
       "      <th>away_red_cards</th>\n",
       "      <th>home_attacks</th>\n",
       "      <th>away_attacks</th>\n",
       "      <th>home_dangerous_attacks</th>\n",
       "      <th>away_dangerous_attacks</th>\n",
       "      <th>home_corners</th>\n",
       "      <th>away_corners</th>\n",
       "      <th>home_off_target</th>\n",
       "      <th>away_off_target</th>\n",
       "      <th>home_on_target</th>\n",
       "      <th>away_on_target</th>\n",
       "      <th>home_possession</th>\n",
       "      <th>away_possession</th>\n",
       "      <th>home_is_winning</th>\n",
       "    </tr>\n",
       "  </thead>\n",
       "  <tbody>\n",
       "    <tr>\n",
       "      <th>0</th>\n",
       "      <td>0.000000</td>\n",
       "      <td>0.0</td>\n",
       "      <td>0.0</td>\n",
       "      <td>0.0</td>\n",
       "      <td>0.152941</td>\n",
       "      <td>0.245902</td>\n",
       "      <td>0.219697</td>\n",
       "      <td>0.185714</td>\n",
       "      <td>0.285714</td>\n",
       "      <td>0.055556</td>\n",
       "      <td>0.166667</td>\n",
       "      <td>0.000000</td>\n",
       "      <td>0.181818</td>\n",
       "      <td>0.315789</td>\n",
       "      <td>48</td>\n",
       "      <td>52</td>\n",
       "      <td>0</td>\n",
       "    </tr>\n",
       "    <tr>\n",
       "      <th>1</th>\n",
       "      <td>0.000000</td>\n",
       "      <td>0.0</td>\n",
       "      <td>0.0</td>\n",
       "      <td>0.0</td>\n",
       "      <td>0.000000</td>\n",
       "      <td>0.000000</td>\n",
       "      <td>0.000000</td>\n",
       "      <td>0.000000</td>\n",
       "      <td>0.000000</td>\n",
       "      <td>0.000000</td>\n",
       "      <td>0.000000</td>\n",
       "      <td>0.000000</td>\n",
       "      <td>0.000000</td>\n",
       "      <td>0.000000</td>\n",
       "      <td>50</td>\n",
       "      <td>50</td>\n",
       "      <td>1</td>\n",
       "    </tr>\n",
       "    <tr>\n",
       "      <th>4</th>\n",
       "      <td>0.142857</td>\n",
       "      <td>0.0</td>\n",
       "      <td>0.0</td>\n",
       "      <td>0.0</td>\n",
       "      <td>0.270588</td>\n",
       "      <td>0.426230</td>\n",
       "      <td>0.159091</td>\n",
       "      <td>0.328571</td>\n",
       "      <td>0.071429</td>\n",
       "      <td>0.055556</td>\n",
       "      <td>0.000000</td>\n",
       "      <td>0.166667</td>\n",
       "      <td>0.181818</td>\n",
       "      <td>0.210526</td>\n",
       "      <td>45</td>\n",
       "      <td>55</td>\n",
       "      <td>1</td>\n",
       "    </tr>\n",
       "    <tr>\n",
       "      <th>5</th>\n",
       "      <td>0.000000</td>\n",
       "      <td>0.0</td>\n",
       "      <td>0.0</td>\n",
       "      <td>0.0</td>\n",
       "      <td>0.341176</td>\n",
       "      <td>0.393443</td>\n",
       "      <td>0.303030</td>\n",
       "      <td>0.250000</td>\n",
       "      <td>0.214286</td>\n",
       "      <td>0.111111</td>\n",
       "      <td>0.166667</td>\n",
       "      <td>0.222222</td>\n",
       "      <td>0.136364</td>\n",
       "      <td>0.157895</td>\n",
       "      <td>50</td>\n",
       "      <td>50</td>\n",
       "      <td>1</td>\n",
       "    </tr>\n",
       "    <tr>\n",
       "      <th>8</th>\n",
       "      <td>0.000000</td>\n",
       "      <td>0.0</td>\n",
       "      <td>0.0</td>\n",
       "      <td>0.0</td>\n",
       "      <td>0.105882</td>\n",
       "      <td>0.224044</td>\n",
       "      <td>0.151515</td>\n",
       "      <td>0.221429</td>\n",
       "      <td>0.142857</td>\n",
       "      <td>0.111111</td>\n",
       "      <td>0.041667</td>\n",
       "      <td>0.166667</td>\n",
       "      <td>0.045455</td>\n",
       "      <td>0.210526</td>\n",
       "      <td>36</td>\n",
       "      <td>64</td>\n",
       "      <td>0</td>\n",
       "    </tr>\n",
       "  </tbody>\n",
       "</table>\n",
       "</div>"
      ],
      "text/plain": [
       "   home_yellow_cards  away_yellow_cards  home_red_cards  away_red_cards  \\\n",
       "0           0.000000                0.0             0.0             0.0   \n",
       "1           0.000000                0.0             0.0             0.0   \n",
       "4           0.142857                0.0             0.0             0.0   \n",
       "5           0.000000                0.0             0.0             0.0   \n",
       "8           0.000000                0.0             0.0             0.0   \n",
       "\n",
       "   home_attacks  away_attacks  home_dangerous_attacks  away_dangerous_attacks  \\\n",
       "0      0.152941      0.245902                0.219697                0.185714   \n",
       "1      0.000000      0.000000                0.000000                0.000000   \n",
       "4      0.270588      0.426230                0.159091                0.328571   \n",
       "5      0.341176      0.393443                0.303030                0.250000   \n",
       "8      0.105882      0.224044                0.151515                0.221429   \n",
       "\n",
       "   home_corners  away_corners  home_off_target  away_off_target  \\\n",
       "0      0.285714      0.055556         0.166667         0.000000   \n",
       "1      0.000000      0.000000         0.000000         0.000000   \n",
       "4      0.071429      0.055556         0.000000         0.166667   \n",
       "5      0.214286      0.111111         0.166667         0.222222   \n",
       "8      0.142857      0.111111         0.041667         0.166667   \n",
       "\n",
       "   home_on_target  away_on_target  home_possession  away_possession  \\\n",
       "0        0.181818        0.315789               48               52   \n",
       "1        0.000000        0.000000               50               50   \n",
       "4        0.181818        0.210526               45               55   \n",
       "5        0.136364        0.157895               50               50   \n",
       "8        0.045455        0.210526               36               64   \n",
       "\n",
       "   home_is_winning  \n",
       "0                0  \n",
       "1                1  \n",
       "4                1  \n",
       "5                1  \n",
       "8                0  "
      ]
     },
     "execution_count": 21,
     "metadata": {},
     "output_type": "execute_result"
    }
   ],
   "source": [
    "df.head()"
   ]
  },
  {
   "cell_type": "code",
   "execution_count": 22,
   "id": "d240513f-8066-4eaa-87aa-4ed2f5157129",
   "metadata": {},
   "outputs": [
    {
     "data": {
      "text/html": [
       "<div>\n",
       "<style scoped>\n",
       "    .dataframe tbody tr th:only-of-type {\n",
       "        vertical-align: middle;\n",
       "    }\n",
       "\n",
       "    .dataframe tbody tr th {\n",
       "        vertical-align: top;\n",
       "    }\n",
       "\n",
       "    .dataframe thead th {\n",
       "        text-align: right;\n",
       "    }\n",
       "</style>\n",
       "<table border=\"1\" class=\"dataframe\">\n",
       "  <thead>\n",
       "    <tr style=\"text-align: right;\">\n",
       "      <th></th>\n",
       "      <th>yellow_cards_difference</th>\n",
       "      <th>red_cards_difference</th>\n",
       "      <th>attacks_difference</th>\n",
       "      <th>dangerous_attacks_difference</th>\n",
       "      <th>corners_difference</th>\n",
       "      <th>off_target_difference</th>\n",
       "      <th>on_target_difference</th>\n",
       "      <th>home_possession</th>\n",
       "      <th>home_is_winning</th>\n",
       "    </tr>\n",
       "  </thead>\n",
       "  <tbody>\n",
       "    <tr>\n",
       "      <th>0</th>\n",
       "      <td>0.5</td>\n",
       "      <td>0.333333</td>\n",
       "      <td>0.460251</td>\n",
       "      <td>0.461538</td>\n",
       "      <td>0.65625</td>\n",
       "      <td>0.548387</td>\n",
       "      <td>0.484848</td>\n",
       "      <td>48</td>\n",
       "      <td>0</td>\n",
       "    </tr>\n",
       "    <tr>\n",
       "      <th>1</th>\n",
       "      <td>0.5</td>\n",
       "      <td>0.333333</td>\n",
       "      <td>0.485356</td>\n",
       "      <td>0.443787</td>\n",
       "      <td>0.56250</td>\n",
       "      <td>0.419355</td>\n",
       "      <td>0.545455</td>\n",
       "      <td>50</td>\n",
       "      <td>1</td>\n",
       "    </tr>\n",
       "    <tr>\n",
       "      <th>4</th>\n",
       "      <td>0.6</td>\n",
       "      <td>0.333333</td>\n",
       "      <td>0.447699</td>\n",
       "      <td>0.295858</td>\n",
       "      <td>0.56250</td>\n",
       "      <td>0.322581</td>\n",
       "      <td>0.545455</td>\n",
       "      <td>45</td>\n",
       "      <td>1</td>\n",
       "    </tr>\n",
       "    <tr>\n",
       "      <th>5</th>\n",
       "      <td>0.5</td>\n",
       "      <td>0.333333</td>\n",
       "      <td>0.548117</td>\n",
       "      <td>0.473373</td>\n",
       "      <td>0.59375</td>\n",
       "      <td>0.419355</td>\n",
       "      <td>0.545455</td>\n",
       "      <td>50</td>\n",
       "      <td>1</td>\n",
       "    </tr>\n",
       "    <tr>\n",
       "      <th>8</th>\n",
       "      <td>0.5</td>\n",
       "      <td>0.333333</td>\n",
       "      <td>0.426778</td>\n",
       "      <td>0.378698</td>\n",
       "      <td>0.56250</td>\n",
       "      <td>0.354839</td>\n",
       "      <td>0.454545</td>\n",
       "      <td>36</td>\n",
       "      <td>0</td>\n",
       "    </tr>\n",
       "  </tbody>\n",
       "</table>\n",
       "</div>"
      ],
      "text/plain": [
       "   yellow_cards_difference  red_cards_difference  attacks_difference  \\\n",
       "0                      0.5              0.333333            0.460251   \n",
       "1                      0.5              0.333333            0.485356   \n",
       "4                      0.6              0.333333            0.447699   \n",
       "5                      0.5              0.333333            0.548117   \n",
       "8                      0.5              0.333333            0.426778   \n",
       "\n",
       "   dangerous_attacks_difference  corners_difference  off_target_difference  \\\n",
       "0                      0.461538             0.65625               0.548387   \n",
       "1                      0.443787             0.56250               0.419355   \n",
       "4                      0.295858             0.56250               0.322581   \n",
       "5                      0.473373             0.59375               0.419355   \n",
       "8                      0.378698             0.56250               0.354839   \n",
       "\n",
       "   on_target_difference  home_possession  home_is_winning  \n",
       "0              0.484848               48                0  \n",
       "1              0.545455               50                1  \n",
       "4              0.545455               45                1  \n",
       "5              0.545455               50                1  \n",
       "8              0.454545               36                0  "
      ]
     },
     "execution_count": 22,
     "metadata": {},
     "output_type": "execute_result"
    }
   ],
   "source": [
    "df_pair.head()"
   ]
  },
  {
   "cell_type": "markdown",
   "id": "2b387dd4-ee6b-4e70-a333-ea37b45757c9",
   "metadata": {},
   "source": [
    "Now we have two dataframes, both have been cleaned and normalized, seperated from each other. One contains the dataset's original 18 features, the other with 9 features that have been paired correspondingly."
   ]
  },
  {
   "cell_type": "markdown",
   "id": "c873b2e2-6d6f-403a-a1d8-5619393c0b48",
   "metadata": {},
   "source": [
    "# Exploratory Data Analysis"
   ]
  },
  {
   "cell_type": "markdown",
   "id": "d2c48943-be81-43e5-93bd-c1379aff213c",
   "metadata": {},
   "source": [
    "#### 1. What is the correlation between different features, especially the selected key features and the target variable (home_is_winning)? Are there any strong correlations between possession percentages (home_possession and away_possession) and the outcome?"
   ]
  },
  {
   "cell_type": "markdown",
   "metadata": {},
   "source": [
    "For the  first exploratory question, we wanted to determine the correlation between the different features in the dataset. \n",
    "\n",
    "We used a correlation matrix which shows the correlation coefficients between features in the dataset. \n",
    "The features included in the correlation matrix were the following: `home_yellow_cards`, `away_yellow_cards`, `home_red_cards`, `away_red_cards`, `home_attacks`, `away_attacks`, `home_dangerous_attacks`, `away_dangerous_attacks`, `home_corners`, `away_corners`, `home_off_target`, `away_off_target`, `home_on_target`, `away_on_target`, `home_possession`,  `away_possession`,  and `home_is_winning`.\n",
    "\n",
    "The rows and columns of the correlation matrix represent the features, and the cells display the correlations between each pair of features. \n",
    "\n",
    "In order to visualize the correlations further, a heatmap was incorporated into the correlation matrix. The colors of the heatmap represent the correlation coefficients. The intensity of the colors in the visualization signify the strength of the correlations. Furthermore, the colors that are in blue are have negative correlations, while the colors that are in red have positive correlations."
   ]
  },
  {
   "cell_type": "code",
   "execution_count": 23,
   "id": "9918bb06",
   "metadata": {},
   "outputs": [
    {
     "data": {
      "image/png": "[encoded data removed]",
      "text/plain": [
       "<Figure size 864x720 with 2 Axes>"
      ]
     },
     "metadata": {
      "needs_background": "light"
     },
     "output_type": "display_data"
    }
   ],
   "source": [
    "correlation_matrix = df[df_features].corr()\n",
    "plt.figure(figsize=(12, 10))\n",
    "sns.heatmap(correlation_matrix, annot=True, cmap='coolwarm', fmt='.2f')\n",
    "plt.title('Correlation Matrix')\n",
    "plt.show()"
   ]
  },
  {
   "cell_type": "markdown",
   "metadata": {},
   "source": [
    "Based on the correlation matrix above, we can observe that almost all of the correlation coefficients are low especially with the target variable `home_is_winning`. These low correlation coefficients suggest that the features in the dataset have weak linear relationships with each other and may not necessarily affect the `home_is_winning`. There is also a perfect negative relationship between `home_possession`,  `away_possession`, this means that any increase in one of these would correspond to a decrease in the other in a consistent ratio."
   ]
  },
  {
   "cell_type": "markdown",
   "metadata": {},
   "source": [
    "We used a correlation matrix with a heatmap as well for the paired features. The features included in the correlation matrix were the following:  `yellow_cards_difference`, `red_cards_difference`, `attacks_difference`,`dangerous_attacks_difference`,`corners_difference`, `off_target_difference`, `on_target_difference`, `home_possession`, and `home_is_winning`."
   ]
  },
  {
   "cell_type": "code",
   "execution_count": 24,
   "id": "9190d441-4524-46e4-8054-b400f41df592",
   "metadata": {},
   "outputs": [
    {
     "data": {
      "image/png": "[encoded data removed]",
      "text/plain": [
       "<Figure size 576x432 with 2 Axes>"
      ]
     },
     "metadata": {
      "needs_background": "light"
     },
     "output_type": "display_data"
    }
   ],
   "source": [
    "correlation_matrix = df_pair[df_pair_features].corr()\n",
    "plt.figure(figsize=(8, 6))\n",
    "sns.heatmap(correlation_matrix, annot=True, cmap='coolwarm', fmt='.2f')\n",
    "plt.title('Correlation Matrix')\n",
    "plt.show()"
   ]
  },
  {
   "cell_type": "markdown",
   "id": "99f6d111-3a83-4492-9e24-48da626cae15",
   "metadata": {},
   "source": [
    "A positive correlation of 0.53 between `home_is_winning` and `on_target_difference` indicates that an increase in the difference in on-target attempts is moderately associated with an increased likelihood of the home team winning.\n",
    "\n",
    "A strong negative correlation of -0.79 between `attacks_difference` and `dangerous_attacks_difference` suggests a significant negative relationship. As the difference in total attacks increases, the difference in dangerous attacks tends to decrease, and vice versa.\n",
    "\n",
    "A positive correlation of 0.33 between `attacks_difference` and `on_target_difference` indicates a weak positive relationship. An increase in the difference in total attacks is weakly associated with a slight increase in the difference in on-target attempts.\n",
    "\n",
    "A moderate positive correlation of 0.45 between `dangerous_attacks_difference` and `on_target_difference` suggests a moderate positive relationship. An increase in the difference in dangerous attacks is moderately associated with an increase in the difference in on-target attempts."
   ]
  },
  {
   "cell_type": "markdown",
   "id": "67456e0d",
   "metadata": {},
   "source": [
    "#### 2. How many matches in the dataset resulted in the home team winning?"
   ]
  },
  {
   "cell_type": "markdown",
   "metadata": {},
   "source": [
    "For the second exploratory question, we wanted to determine how many matches resulted in the home team winning. \n",
    "\n",
    "We used a bar graph which is useful in comparing different groups. In this case, we compared the amount of matches that were won when the `home_is_winning` was 0 and 1. The 0 represents that the away team was winning while 1 represents that the home team was winning."
   ]
  },
  {
   "cell_type": "code",
   "execution_count": 25,
   "id": "cfc3e75e",
   "metadata": {},
   "outputs": [
    {
     "data": {
      "image/png": "[encoded data removed]",
      "text/plain": [
       "<Figure size 432x288 with 1 Axes>"
      ]
     },
     "metadata": {
      "needs_background": "light"
     },
     "output_type": "display_data"
    },
    {
     "name": "stdout",
     "output_type": "stream",
     "text": [
      "Is the home team winning?\n",
      " 1    1659\n",
      "0    1165\n",
      "Name: home_is_winning, dtype: int64\n"
     ]
    }
   ],
   "source": [
    "plt.figure(figsize=(6, 4))\n",
    "sns.countplot(x='home_is_winning', data=df, palette='viridis')\n",
    "plt.title('Distribution of Home Winning')\n",
    "plt.xlabel('Home is Winning')\n",
    "plt.ylabel('Frequency')\n",
    "\n",
    "plt.show()\n",
    "\n",
    "print(\"Is the home team winning?\\n\", df['home_is_winning'].value_counts())"
   ]
  },
  {
   "cell_type": "markdown",
   "id": "e59d2777-2953-4adb-96d0-d6aae4f92656",
   "metadata": {},
   "source": [
    "In exploring the distribution of the home team winning, it was found that the home team wins more than the away team, being 494 more wins. This may indicate a class imbalance. However, it is also worth noting that being the Home team has inherent advantages which may not be found in the data such as being more familiar with the playing environment, crowd support, and reduced travel-related fatigue. Therefore, the apparent class imbalance may be a reflection of these inherent advantages rather than a data-related issue. Considering these factors is crucial in interpreting the results accurately and deciding on an appropriate strategy for modeling"
   ]
  },
  {
   "cell_type": "markdown",
   "id": "208bc5b5",
   "metadata": {},
   "source": [
    "#### 3. How does possession percentage vary between home and away teams, and how does it relate to home team winning?"
   ]
  },
  {
   "cell_type": "markdown",
   "metadata": {},
   "source": [
    "For the third exploratory question, we wanted to determine how the possession of the soccer ball differ between the two teams which are the home and away. We also wanted to determine if having possession of the soccer ball would relate to the home team winning. \n",
    "\n",
    "We used a Kernel Density Estimation (KDE) plot which shows the distribution of the different features. The x-axis represents the values of the features. On the other hand, the y-axis indicates the probability density estimate of observing data points at specific values along the x-axis. The features that were plotted were the following: `attacks_difference`, `dangerous_attacks_difference`, and `on_target_difference`. "
   ]
  },
  {
   "cell_type": "code",
   "execution_count": 26,
   "id": "88e9458f-ad6c-4351-aedd-e2952616bcb9",
   "metadata": {},
   "outputs": [
    {
     "data": {
      "image/png": "[encoded data removed]",
      "text/plain": [
       "<Figure size 1296x432 with 3 Axes>"
      ]
     },
     "metadata": {
      "needs_background": "light"
     },
     "output_type": "display_data"
    }
   ],
   "source": [
    "fig, axes = plt.subplots(1, 3, figsize=(18, 6), sharey=True)\n",
    "\n",
    "# Plot for 'attacks_difference'\n",
    "sns.kdeplot(data=df_pair, x='attacks_difference', fill=True, hue='home_is_winning', ax=axes[0], palette={True: 'blue', False: 'red'})\n",
    "axes[0].set_title('Distribution of Attacks Difference')\n",
    "axes[0].set_xlabel('Attacks Difference')\n",
    "axes[0].set_ylabel('Density')\n",
    "axes[0].set_xlim(left=min(df_pair['attacks_difference']), right=max(df_pair['attacks_difference']))\n",
    "axes[0].axvline(x=0.5, color='black', linestyle='--', label='X = 0.5')\n",
    "axes[0].legend()\n",
    "\n",
    "# Plot for 'dangerous_attacks_difference'\n",
    "sns.kdeplot(data=df_pair, x='dangerous_attacks_difference', fill=True, hue='home_is_winning', ax=axes[1], palette={True: 'blue', False: 'red'})\n",
    "axes[1].set_title('Distribution of Dangerous Attacks Difference')\n",
    "axes[1].set_xlabel('Attacks Dangerous Difference')\n",
    "axes[1].set_ylabel('')\n",
    "axes[1].set_xlim(left=min(df_pair['dangerous_attacks_difference']), right=max(df_pair['dangerous_attacks_difference']))\n",
    "axes[1].axvline(x=0.5, color='black', linestyle='--', label='X = 0.5')\n",
    "axes[1].legend()\n",
    "\n",
    "# Plot for 'on_target_difference'\n",
    "sns.kdeplot(data=df_pair, x='on_target_difference', fill=True, hue='home_is_winning', ax=axes[2], palette={True: 'blue', False: 'red'})\n",
    "axes[2].set_title('Distribution of On Target Difference')\n",
    "axes[2].set_xlabel('On Target Difference')\n",
    "axes[2].set_ylabel('')\n",
    "axes[2].set_xlim(left=min(df_pair['on_target_difference']), right=max(df_pair['on_target_difference']))\n",
    "axes[2].axvline(x=0.5, color='black', linestyle='--', label='X = 0.5')\n",
    "axes[2].legend()\n",
    "\n",
    "plt.suptitle('Distribution Analysis')\n",
    "plt.show()\n"
   ]
  },
  {
   "cell_type": "markdown",
   "id": "83dff042-cc03-43ad-ac9c-fa1c2f6230e1",
   "metadata": {},
   "source": [
    "For the first KDE plot (leftmost), the distribution analysis reveals symmetrical triangular curves for both winning and losing instances in `attacks_difference`, with peaks close to each other on the x-axis, indicating a balanced representation of attack differences. This may indicate that this feature may not be the strongest indicator of winning or losing.\n",
    "\n",
    "For the second KDE plot (center), the distribution analysis indicates that, on average, the away team tends to execute more dangerous attacks in `dangerous_attacks_difference`. The peaks are centered around 0.45 on the x-axis, with 0.5 indicating an equal proportion of dangerous attacks between the home and away teams. The leftward shift of the peak suggests that values below 0.5 represent a higher proportion of dangerous attacks by the away team.\n",
    "\n",
    "For the third KDE plot (rightmost), `on_target_difference` presents a distinct asymmetry, with a substantial portion of losing instances clustering before x = 0.5, while most winning instances concentrate above x = 0.5. This implies that the home team's advantage in on-target attempts becomes more pronounced when the difference surpasses the 0.5 threshold, serving as a potential influential factor in match outcomes.\n"
   ]
  },
  {
   "cell_type": "markdown",
   "id": "4729de0f-c12a-40d0-83dc-3f35bbc8738d",
   "metadata": {},
   "source": [
    "# Model training"
   ]
  },
  {
   "cell_type": "markdown",
   "id": "f3bad1f9-5565-4a3e-bfeb-25d9cb037a7f",
   "metadata": {},
   "source": [
    "For this project, we will be exploring 3 types of machine learning models: k-nearest neighbor, binomial classification, and naive bayes."
   ]
  },
  {
   "cell_type": "markdown",
   "id": "bc871e96",
   "metadata": {
    "jp-MarkdownHeadingCollapsed": true,
    "tags": []
   },
   "source": [
    "## Post-EDA pre-processing"
   ]
  },
  {
   "cell_type": "markdown",
   "id": "bcf38cc3",
   "metadata": {},
   "source": [
    "With the EDA completed, there are still some pre-processing steps that need to be performed in order to use the different learning models. The `current_minute` column needs to be dropped, since this is not a feature used in the learning models."
   ]
  },
  {
   "cell_type": "markdown",
   "id": "ee30f1b2",
   "metadata": {},
   "source": [
    "We will also separate the data, depending on whether or not the home team is winning."
   ]
  },
  {
   "cell_type": "code",
   "execution_count": 39,
   "id": "24b9cb36",
   "metadata": {},
   "outputs": [
    {
     "name": "stdout",
     "output_type": "stream",
     "text": [
      "1659\n",
      "1165\n"
     ]
    }
   ],
   "source": [
    "df_win = df[df[\"home_is_winning\"] == True]\n",
    "df_lose = df[df[\"home_is_winning\"] == False]\n",
    "print(len(df_win))\n",
    "print(len(df_lose))"
   ]
  },
  {
   "cell_type": "markdown",
   "id": "8c1ae694",
   "metadata": {},
   "source": [
    "As shown, there are 1659 winning games and 1165 losing games."
   ]
  },
  {
   "cell_type": "code",
   "execution_count": 40,
   "id": "1889f8f0",
   "metadata": {},
   "outputs": [],
   "source": [
    "# We will now separate the labels (y) used in the dataset and move this to a separate dataframe.\n",
    "\n",
    "df_win_y = df_win.pop('home_is_winning')\n",
    "df_lose_y = df_lose.pop('home_is_winning')"
   ]
  },
  {
   "cell_type": "code",
   "execution_count": 41,
   "id": "1286ba51",
   "metadata": {},
   "outputs": [
    {
     "data": {
      "text/plain": [
       "1     1\n",
       "4     1\n",
       "5     1\n",
       "11    1\n",
       "14    1\n",
       "Name: home_is_winning, dtype: int64"
      ]
     },
     "execution_count": 41,
     "metadata": {},
     "output_type": "execute_result"
    }
   ],
   "source": [
    "df_win_y.head()"
   ]
  },
  {
   "cell_type": "code",
   "execution_count": 42,
   "id": "fccd15a2",
   "metadata": {},
   "outputs": [
    {
     "data": {
      "text/plain": [
       "0     0\n",
       "8     0\n",
       "12    0\n",
       "20    0\n",
       "21    0\n",
       "Name: home_is_winning, dtype: int64"
      ]
     },
     "execution_count": 42,
     "metadata": {},
     "output_type": "execute_result"
    }
   ],
   "source": [
    "df_lose_y.head()"
   ]
  },
  {
   "cell_type": "markdown",
   "id": "14bfe8c2",
   "metadata": {},
   "source": [
    "To further simplify the process of creating the machine learning models, we will also change the True/False into 0/1. The True/False was only kept so that the data would be easier to visualize during the EDA."
   ]
  },
  {
   "cell_type": "code",
   "execution_count": 43,
   "id": "ed5f94b9",
   "metadata": {},
   "outputs": [],
   "source": [
    "df_win_y = df_win_y.astype(int)\n",
    "df_lose_y = df_lose_y.astype(int)"
   ]
  },
  {
   "cell_type": "markdown",
   "id": "b4004a02",
   "metadata": {},
   "source": [
    "We will now convert these into numpy arrays and into the data that will be used for training and testing. \n",
    "\n",
    "70% of the data will be used for training, while the remaining 30% will be used for testing."
   ]
  },
  {
   "cell_type": "code",
   "execution_count": 44,
   "id": "db758124",
   "metadata": {},
   "outputs": [
    {
     "data": {
      "text/html": [
       "<div>\n",
       "<style scoped>\n",
       "    .dataframe tbody tr th:only-of-type {\n",
       "        vertical-align: middle;\n",
       "    }\n",
       "\n",
       "    .dataframe tbody tr th {\n",
       "        vertical-align: top;\n",
       "    }\n",
       "\n",
       "    .dataframe thead th {\n",
       "        text-align: right;\n",
       "    }\n",
       "</style>\n",
       "<table border=\"1\" class=\"dataframe\">\n",
       "  <thead>\n",
       "    <tr style=\"text-align: right;\">\n",
       "      <th></th>\n",
       "      <th>home_yellow_cards</th>\n",
       "      <th>away_yellow_cards</th>\n",
       "      <th>home_red_cards</th>\n",
       "      <th>away_red_cards</th>\n",
       "      <th>home_attacks</th>\n",
       "      <th>away_attacks</th>\n",
       "      <th>home_dangerous_attacks</th>\n",
       "      <th>away_dangerous_attacks</th>\n",
       "      <th>home_corners</th>\n",
       "      <th>away_corners</th>\n",
       "      <th>home_off_target</th>\n",
       "      <th>away_off_target</th>\n",
       "      <th>home_on_target</th>\n",
       "      <th>away_on_target</th>\n",
       "      <th>home_possession</th>\n",
       "      <th>away_possession</th>\n",
       "      <th>home_is_winning</th>\n",
       "    </tr>\n",
       "  </thead>\n",
       "  <tbody>\n",
       "    <tr>\n",
       "      <th>0</th>\n",
       "      <td>0.000000</td>\n",
       "      <td>0.000</td>\n",
       "      <td>0.0</td>\n",
       "      <td>0.0</td>\n",
       "      <td>0.152941</td>\n",
       "      <td>0.245902</td>\n",
       "      <td>0.219697</td>\n",
       "      <td>0.185714</td>\n",
       "      <td>0.285714</td>\n",
       "      <td>0.055556</td>\n",
       "      <td>0.166667</td>\n",
       "      <td>0.000000</td>\n",
       "      <td>0.181818</td>\n",
       "      <td>0.315789</td>\n",
       "      <td>48</td>\n",
       "      <td>52</td>\n",
       "      <td>0</td>\n",
       "    </tr>\n",
       "    <tr>\n",
       "      <th>1</th>\n",
       "      <td>0.000000</td>\n",
       "      <td>0.000</td>\n",
       "      <td>0.0</td>\n",
       "      <td>0.0</td>\n",
       "      <td>0.000000</td>\n",
       "      <td>0.000000</td>\n",
       "      <td>0.000000</td>\n",
       "      <td>0.000000</td>\n",
       "      <td>0.000000</td>\n",
       "      <td>0.000000</td>\n",
       "      <td>0.000000</td>\n",
       "      <td>0.000000</td>\n",
       "      <td>0.000000</td>\n",
       "      <td>0.000000</td>\n",
       "      <td>50</td>\n",
       "      <td>50</td>\n",
       "      <td>1</td>\n",
       "    </tr>\n",
       "    <tr>\n",
       "      <th>4</th>\n",
       "      <td>0.142857</td>\n",
       "      <td>0.000</td>\n",
       "      <td>0.0</td>\n",
       "      <td>0.0</td>\n",
       "      <td>0.270588</td>\n",
       "      <td>0.426230</td>\n",
       "      <td>0.159091</td>\n",
       "      <td>0.328571</td>\n",
       "      <td>0.071429</td>\n",
       "      <td>0.055556</td>\n",
       "      <td>0.000000</td>\n",
       "      <td>0.166667</td>\n",
       "      <td>0.181818</td>\n",
       "      <td>0.210526</td>\n",
       "      <td>45</td>\n",
       "      <td>55</td>\n",
       "      <td>1</td>\n",
       "    </tr>\n",
       "    <tr>\n",
       "      <th>5</th>\n",
       "      <td>0.000000</td>\n",
       "      <td>0.000</td>\n",
       "      <td>0.0</td>\n",
       "      <td>0.0</td>\n",
       "      <td>0.341176</td>\n",
       "      <td>0.393443</td>\n",
       "      <td>0.303030</td>\n",
       "      <td>0.250000</td>\n",
       "      <td>0.214286</td>\n",
       "      <td>0.111111</td>\n",
       "      <td>0.166667</td>\n",
       "      <td>0.222222</td>\n",
       "      <td>0.136364</td>\n",
       "      <td>0.157895</td>\n",
       "      <td>50</td>\n",
       "      <td>50</td>\n",
       "      <td>1</td>\n",
       "    </tr>\n",
       "    <tr>\n",
       "      <th>8</th>\n",
       "      <td>0.000000</td>\n",
       "      <td>0.000</td>\n",
       "      <td>0.0</td>\n",
       "      <td>0.0</td>\n",
       "      <td>0.105882</td>\n",
       "      <td>0.224044</td>\n",
       "      <td>0.151515</td>\n",
       "      <td>0.221429</td>\n",
       "      <td>0.142857</td>\n",
       "      <td>0.111111</td>\n",
       "      <td>0.041667</td>\n",
       "      <td>0.166667</td>\n",
       "      <td>0.045455</td>\n",
       "      <td>0.210526</td>\n",
       "      <td>36</td>\n",
       "      <td>64</td>\n",
       "      <td>0</td>\n",
       "    </tr>\n",
       "    <tr>\n",
       "      <th>...</th>\n",
       "      <td>...</td>\n",
       "      <td>...</td>\n",
       "      <td>...</td>\n",
       "      <td>...</td>\n",
       "      <td>...</td>\n",
       "      <td>...</td>\n",
       "      <td>...</td>\n",
       "      <td>...</td>\n",
       "      <td>...</td>\n",
       "      <td>...</td>\n",
       "      <td>...</td>\n",
       "      <td>...</td>\n",
       "      <td>...</td>\n",
       "      <td>...</td>\n",
       "      <td>...</td>\n",
       "      <td>...</td>\n",
       "      <td>...</td>\n",
       "    </tr>\n",
       "    <tr>\n",
       "      <th>6992</th>\n",
       "      <td>0.000000</td>\n",
       "      <td>0.125</td>\n",
       "      <td>0.0</td>\n",
       "      <td>0.0</td>\n",
       "      <td>0.415686</td>\n",
       "      <td>0.415301</td>\n",
       "      <td>0.522727</td>\n",
       "      <td>0.200000</td>\n",
       "      <td>0.214286</td>\n",
       "      <td>0.000000</td>\n",
       "      <td>0.291667</td>\n",
       "      <td>0.333333</td>\n",
       "      <td>0.363636</td>\n",
       "      <td>0.000000</td>\n",
       "      <td>60</td>\n",
       "      <td>40</td>\n",
       "      <td>1</td>\n",
       "    </tr>\n",
       "    <tr>\n",
       "      <th>6994</th>\n",
       "      <td>0.142857</td>\n",
       "      <td>0.250</td>\n",
       "      <td>0.0</td>\n",
       "      <td>0.0</td>\n",
       "      <td>0.309804</td>\n",
       "      <td>0.333333</td>\n",
       "      <td>0.462121</td>\n",
       "      <td>0.250000</td>\n",
       "      <td>0.285714</td>\n",
       "      <td>0.222222</td>\n",
       "      <td>0.125000</td>\n",
       "      <td>0.055556</td>\n",
       "      <td>0.136364</td>\n",
       "      <td>0.157895</td>\n",
       "      <td>53</td>\n",
       "      <td>47</td>\n",
       "      <td>1</td>\n",
       "    </tr>\n",
       "    <tr>\n",
       "      <th>6996</th>\n",
       "      <td>0.000000</td>\n",
       "      <td>0.125</td>\n",
       "      <td>0.0</td>\n",
       "      <td>0.0</td>\n",
       "      <td>0.000000</td>\n",
       "      <td>0.000000</td>\n",
       "      <td>0.000000</td>\n",
       "      <td>0.000000</td>\n",
       "      <td>0.000000</td>\n",
       "      <td>0.000000</td>\n",
       "      <td>0.000000</td>\n",
       "      <td>0.000000</td>\n",
       "      <td>0.000000</td>\n",
       "      <td>0.000000</td>\n",
       "      <td>50</td>\n",
       "      <td>50</td>\n",
       "      <td>1</td>\n",
       "    </tr>\n",
       "    <tr>\n",
       "      <th>6997</th>\n",
       "      <td>0.000000</td>\n",
       "      <td>0.000</td>\n",
       "      <td>0.0</td>\n",
       "      <td>0.0</td>\n",
       "      <td>0.278431</td>\n",
       "      <td>0.327869</td>\n",
       "      <td>0.553030</td>\n",
       "      <td>0.285714</td>\n",
       "      <td>0.500000</td>\n",
       "      <td>0.000000</td>\n",
       "      <td>0.208333</td>\n",
       "      <td>0.277778</td>\n",
       "      <td>0.318182</td>\n",
       "      <td>0.000000</td>\n",
       "      <td>61</td>\n",
       "      <td>39</td>\n",
       "      <td>1</td>\n",
       "    </tr>\n",
       "    <tr>\n",
       "      <th>6998</th>\n",
       "      <td>0.000000</td>\n",
       "      <td>0.000</td>\n",
       "      <td>0.0</td>\n",
       "      <td>0.0</td>\n",
       "      <td>0.333333</td>\n",
       "      <td>0.360656</td>\n",
       "      <td>0.348485</td>\n",
       "      <td>0.142857</td>\n",
       "      <td>0.214286</td>\n",
       "      <td>0.000000</td>\n",
       "      <td>0.166667</td>\n",
       "      <td>0.055556</td>\n",
       "      <td>0.090909</td>\n",
       "      <td>0.052632</td>\n",
       "      <td>52</td>\n",
       "      <td>48</td>\n",
       "      <td>1</td>\n",
       "    </tr>\n",
       "  </tbody>\n",
       "</table>\n",
       "<p>2824 rows × 17 columns</p>\n",
       "</div>"
      ],
      "text/plain": [
       "      home_yellow_cards  away_yellow_cards  home_red_cards  away_red_cards  \\\n",
       "0              0.000000              0.000             0.0             0.0   \n",
       "1              0.000000              0.000             0.0             0.0   \n",
       "4              0.142857              0.000             0.0             0.0   \n",
       "5              0.000000              0.000             0.0             0.0   \n",
       "8              0.000000              0.000             0.0             0.0   \n",
       "...                 ...                ...             ...             ...   \n",
       "6992           0.000000              0.125             0.0             0.0   \n",
       "6994           0.142857              0.250             0.0             0.0   \n",
       "6996           0.000000              0.125             0.0             0.0   \n",
       "6997           0.000000              0.000             0.0             0.0   \n",
       "6998           0.000000              0.000             0.0             0.0   \n",
       "\n",
       "      home_attacks  away_attacks  home_dangerous_attacks  \\\n",
       "0         0.152941      0.245902                0.219697   \n",
       "1         0.000000      0.000000                0.000000   \n",
       "4         0.270588      0.426230                0.159091   \n",
       "5         0.341176      0.393443                0.303030   \n",
       "8         0.105882      0.224044                0.151515   \n",
       "...            ...           ...                     ...   \n",
       "6992      0.415686      0.415301                0.522727   \n",
       "6994      0.309804      0.333333                0.462121   \n",
       "6996      0.000000      0.000000                0.000000   \n",
       "6997      0.278431      0.327869                0.553030   \n",
       "6998      0.333333      0.360656                0.348485   \n",
       "\n",
       "      away_dangerous_attacks  home_corners  away_corners  home_off_target  \\\n",
       "0                   0.185714      0.285714      0.055556         0.166667   \n",
       "1                   0.000000      0.000000      0.000000         0.000000   \n",
       "4                   0.328571      0.071429      0.055556         0.000000   \n",
       "5                   0.250000      0.214286      0.111111         0.166667   \n",
       "8                   0.221429      0.142857      0.111111         0.041667   \n",
       "...                      ...           ...           ...              ...   \n",
       "6992                0.200000      0.214286      0.000000         0.291667   \n",
       "6994                0.250000      0.285714      0.222222         0.125000   \n",
       "6996                0.000000      0.000000      0.000000         0.000000   \n",
       "6997                0.285714      0.500000      0.000000         0.208333   \n",
       "6998                0.142857      0.214286      0.000000         0.166667   \n",
       "\n",
       "      away_off_target  home_on_target  away_on_target  home_possession  \\\n",
       "0            0.000000        0.181818        0.315789               48   \n",
       "1            0.000000        0.000000        0.000000               50   \n",
       "4            0.166667        0.181818        0.210526               45   \n",
       "5            0.222222        0.136364        0.157895               50   \n",
       "8            0.166667        0.045455        0.210526               36   \n",
       "...               ...             ...             ...              ...   \n",
       "6992         0.333333        0.363636        0.000000               60   \n",
       "6994         0.055556        0.136364        0.157895               53   \n",
       "6996         0.000000        0.000000        0.000000               50   \n",
       "6997         0.277778        0.318182        0.000000               61   \n",
       "6998         0.055556        0.090909        0.052632               52   \n",
       "\n",
       "      away_possession  home_is_winning  \n",
       "0                  52                0  \n",
       "1                  50                1  \n",
       "4                  55                1  \n",
       "5                  50                1  \n",
       "8                  64                0  \n",
       "...               ...              ...  \n",
       "6992               40                1  \n",
       "6994               47                1  \n",
       "6996               50                1  \n",
       "6997               39                1  \n",
       "6998               48                1  \n",
       "\n",
       "[2824 rows x 17 columns]"
      ]
     },
     "execution_count": 44,
     "metadata": {},
     "output_type": "execute_result"
    }
   ],
   "source": [
    "df"
   ]
  },
  {
   "cell_type": "code",
   "execution_count": 45,
   "id": "374cdd13",
   "metadata": {},
   "outputs": [],
   "source": [
    "from sklearn.model_selection import train_test_split"
   ]
  },
  {
   "cell_type": "code",
   "execution_count": 46,
   "id": "e3da0867",
   "metadata": {},
   "outputs": [
    {
     "name": "stdout",
     "output_type": "stream",
     "text": [
      "X shape:  (2824, 16)\n",
      "y shape:  (2824,)\n",
      "Training data shape:  (2259, 16)\n",
      "Training labels shape:  (2259,)\n",
      "Test data shape:  (565, 16)\n",
      "Test labels shape:  (565,)\n"
     ]
    }
   ],
   "source": [
    "X_df = df.values[:,:-1]\n",
    "y_df = df.values[:,-1]\n",
    "print(\"X shape: \", X_df.shape)\n",
    "print(\"y shape: \", y_df.shape)\n",
    "\n",
    "X_train_val_df, X_test_df, y_train_val_df, y_test_df = train_test_split(X_df, y_df, stratify = y_df, test_size = 0.2, random_state = 42)\n",
    "print('Training data shape: ', X_train_val_df.shape)\n",
    "print('Training labels shape: ', y_train_val_df.shape)\n",
    "print('Test data shape: ', X_test_df.shape)\n",
    "print('Test labels shape: ', y_test_df.shape)"
   ]
  },
  {
   "cell_type": "code",
   "execution_count": 47,
   "id": "39570c53",
   "metadata": {},
   "outputs": [
    {
     "name": "stdout",
     "output_type": "stream",
     "text": [
      "Training data shape:  (1694, 16)\n",
      "Training labels shape:  (1694,)\n",
      "Test data shape:  (565, 16)\n",
      "Test labels shape:  (565,)\n"
     ]
    }
   ],
   "source": [
    "X_train_df, X_val_df, y_train_df, y_val_df = train_test_split(X_train_val_df, y_train_val_df, stratify = y_train_val_df, test_size = 0.25, random_state = 42)\n",
    "print('Training data shape: ', X_train_df.shape)\n",
    "print('Training labels shape: ', y_train_df.shape)\n",
    "print('Test data shape: ', X_test_df.shape)\n",
    "print('Test labels shape: ', y_test_df.shape)"
   ]
  },
  {
   "cell_type": "code",
   "execution_count": 48,
   "id": "78ee8925",
   "metadata": {},
   "outputs": [
    {
     "name": "stdout",
     "output_type": "stream",
     "text": [
      "X shape:  (2824, 8)\n",
      "y shape:  (2824,)\n",
      "Training data shape:  (2259, 16)\n",
      "Training labels shape:  (2259,)\n",
      "Test data shape:  (565, 16)\n",
      "Test labels shape:  (565,)\n"
     ]
    }
   ],
   "source": [
    "X_df_pair = df_pair.values[:,:-1]\n",
    "y_df_pair = df_pair.values[:,-1]\n",
    "print(\"X shape: \", X_df_pair.shape)\n",
    "print(\"y shape: \", y_df_pair.shape)\n",
    "\n",
    "X_train_val_df_pair, X_test_df_pair, y_train_val_df_pair, y_test_df_pair = train_test_split(X_df_pair, y_df_pair, stratify = y_df_pair, test_size = 0.2, random_state = 42)\n",
    "print('Training data shape: ', X_train_val_df.shape)\n",
    "print('Training labels shape: ', y_train_val_df.shape)\n",
    "print('Test data shape: ', X_test_df.shape)\n",
    "print('Test labels shape: ', y_test_df.shape)"
   ]
  },
  {
   "cell_type": "code",
   "execution_count": 49,
   "id": "d4e82a39",
   "metadata": {},
   "outputs": [
    {
     "name": "stdout",
     "output_type": "stream",
     "text": [
      "Training data shape:  (1694, 8)\n",
      "Training labels shape:  (1694,)\n",
      "Test data shape:  (565, 8)\n",
      "Test labels shape:  (565,)\n"
     ]
    }
   ],
   "source": [
    "X_train_df_pair, X_val_df_pair, y_train_df_pair, y_val_df_pair = train_test_split(X_train_val_df_pair, y_train_val_df_pair, stratify = y_train_val_df_pair, test_size = 0.25, random_state = 42)\n",
    "print('Training data shape: ', X_train_df_pair.shape)\n",
    "print('Training labels shape: ', y_train_df_pair.shape)\n",
    "print('Test data shape: ', X_test_df_pair.shape)\n",
    "print('Test labels shape: ', y_test_df_pair.shape)"
   ]
  },
  {
   "cell_type": "markdown",
   "id": "c88d89b4",
   "metadata": {},
   "source": [
    "## K-nearest neighbor"
   ]
  },
  {
   "cell_type": "code",
   "execution_count": 50,
   "id": "469d74a8",
   "metadata": {},
   "outputs": [],
   "source": [
    "from sklearn.neighbors import KNeighborsClassifier"
   ]
  },
  {
   "cell_type": "code",
   "execution_count": 51,
   "id": "da902095",
   "metadata": {},
   "outputs": [],
   "source": [
    "knnModel = KNeighborsClassifier()"
   ]
  },
  {
   "cell_type": "code",
   "execution_count": 52,
   "id": "bd549973",
   "metadata": {},
   "outputs": [
    {
     "data": {
      "text/html": [
       "<style>#sk-container-id-1 {color: black;}#sk-container-id-1 pre{padding: 0;}#sk-container-id-1 div.sk-toggleable {background-color: white;}#sk-container-id-1 label.sk-toggleable__label {cursor: pointer;display: block;width: 100%;margin-bottom: 0;padding: 0.3em;box-sizing: border-box;text-align: center;}#sk-container-id-1 label.sk-toggleable__label-arrow:before {content: \"▸\";float: left;margin-right: 0.25em;color: #696969;}#sk-container-id-1 label.sk-toggleable__label-arrow:hover:before {color: black;}#sk-container-id-1 div.sk-estimator:hover label.sk-toggleable__label-arrow:before {color: black;}#sk-container-id-1 div.sk-toggleable__content {max-height: 0;max-width: 0;overflow: hidden;text-align: left;background-color: #f0f8ff;}#sk-container-id-1 div.sk-toggleable__content pre {margin: 0.2em;color: black;border-radius: 0.25em;background-color: #f0f8ff;}#sk-container-id-1 input.sk-toggleable__control:checked~div.sk-toggleable__content {max-height: 200px;max-width: 100%;overflow: auto;}#sk-container-id-1 input.sk-toggleable__control:checked~label.sk-toggleable__label-arrow:before {content: \"▾\";}#sk-container-id-1 div.sk-estimator input.sk-toggleable__control:checked~label.sk-toggleable__label {background-color: #d4ebff;}#sk-container-id-1 div.sk-label input.sk-toggleable__control:checked~label.sk-toggleable__label {background-color: #d4ebff;}#sk-container-id-1 input.sk-hidden--visually {border: 0;clip: rect(1px 1px 1px 1px);clip: rect(1px, 1px, 1px, 1px);height: 1px;margin: -1px;overflow: hidden;padding: 0;position: absolute;width: 1px;}#sk-container-id-1 div.sk-estimator {font-family: monospace;background-color: #f0f8ff;border: 1px dotted black;border-radius: 0.25em;box-sizing: border-box;margin-bottom: 0.5em;}#sk-container-id-1 div.sk-estimator:hover {background-color: #d4ebff;}#sk-container-id-1 div.sk-parallel-item::after {content: \"\";width: 100%;border-bottom: 1px solid gray;flex-grow: 1;}#sk-container-id-1 div.sk-label:hover label.sk-toggleable__label {background-color: #d4ebff;}#sk-container-id-1 div.sk-serial::before {content: \"\";position: absolute;border-left: 1px solid gray;box-sizing: border-box;top: 0;bottom: 0;left: 50%;z-index: 0;}#sk-container-id-1 div.sk-serial {display: flex;flex-direction: column;align-items: center;background-color: white;padding-right: 0.2em;padding-left: 0.2em;position: relative;}#sk-container-id-1 div.sk-item {position: relative;z-index: 1;}#sk-container-id-1 div.sk-parallel {display: flex;align-items: stretch;justify-content: center;background-color: white;position: relative;}#sk-container-id-1 div.sk-item::before, #sk-container-id-1 div.sk-parallel-item::before {content: \"\";position: absolute;border-left: 1px solid gray;box-sizing: border-box;top: 0;bottom: 0;left: 50%;z-index: -1;}#sk-container-id-1 div.sk-parallel-item {display: flex;flex-direction: column;z-index: 1;position: relative;background-color: white;}#sk-container-id-1 div.sk-parallel-item:first-child::after {align-self: flex-end;width: 50%;}#sk-container-id-1 div.sk-parallel-item:last-child::after {align-self: flex-start;width: 50%;}#sk-container-id-1 div.sk-parallel-item:only-child::after {width: 0;}#sk-container-id-1 div.sk-dashed-wrapped {border: 1px dashed gray;margin: 0 0.4em 0.5em 0.4em;box-sizing: border-box;padding-bottom: 0.4em;background-color: white;}#sk-container-id-1 div.sk-label label {font-family: monospace;font-weight: bold;display: inline-block;line-height: 1.2em;}#sk-container-id-1 div.sk-label-container {text-align: center;}#sk-container-id-1 div.sk-container {/* jupyter's `normalize.less` sets `[hidden] { display: none; }` but bootstrap.min.css set `[hidden] { display: none !important; }` so we also need the `!important` here to be able to override the default hidden behavior on the sphinx rendered scikit-learn.org. See: https://github.com/scikit-learn/scikit-learn/issues/21755 */display: inline-block !important;position: relative;}#sk-container-id-1 div.sk-text-repr-fallback {display: none;}</style><div id=\"sk-container-id-1\" class=\"sk-top-container\"><div class=\"sk-text-repr-fallback\"><pre>KNeighborsClassifier()</pre><b>In a Jupyter environment, please rerun this cell to show the HTML representation or trust the notebook. <br />On GitHub, the HTML representation is unable to render, please try loading this page with nbviewer.org.</b></div><div class=\"sk-container\" hidden><div class=\"sk-item\"><div class=\"sk-estimator sk-toggleable\"><input class=\"sk-toggleable__control sk-hidden--visually\" id=\"sk-estimator-id-1\" type=\"checkbox\" checked><label for=\"sk-estimator-id-1\" class=\"sk-toggleable__label sk-toggleable__label-arrow\">KNeighborsClassifier</label><div class=\"sk-toggleable__content\"><pre>KNeighborsClassifier()</pre></div></div></div></div></div>"
      ],
      "text/plain": [
       "KNeighborsClassifier()"
      ]
     },
     "execution_count": 52,
     "metadata": {},
     "output_type": "execute_result"
    }
   ],
   "source": [
    "knnModel.fit(X_train_df, y_train_df)"
   ]
  },
  {
   "cell_type": "code",
   "execution_count": 53,
   "id": "314589ac",
   "metadata": {
    "tags": []
   },
   "outputs": [
    {
     "data": {
      "text/plain": [
       "array([1., 1., 1., 1., 1., 1., 1., 1., 1., 1., 1., 1., 1., 0., 0., 0., 1.,\n",
       "       1., 0., 1., 0., 1., 0., 1., 1., 1., 1., 0., 0., 0., 0., 1., 1., 1.,\n",
       "       1., 1., 1., 0., 1., 0., 1., 1., 1., 0., 0., 1., 1., 1., 1., 0., 0.,\n",
       "       1., 1., 0., 0., 1., 0., 1., 0., 1., 1., 1., 1., 0., 1., 0., 1., 0.,\n",
       "       1., 1., 1., 1., 1., 0., 1., 1., 0., 0., 1., 1., 1., 1., 1., 1., 1.,\n",
       "       1., 1., 1., 1., 0., 0., 1., 0., 1., 0., 0., 1., 1., 0., 1., 0., 1.,\n",
       "       1., 0., 0., 1., 0., 0., 1., 1., 1., 1., 1., 0., 1., 1., 1., 0., 1.,\n",
       "       0., 0., 1., 1., 1., 1., 1., 0., 1., 0., 1., 1., 1., 0., 1., 1., 1.,\n",
       "       0., 1., 1., 1., 0., 0., 1., 1., 1., 0., 0., 0., 0., 0., 1., 1., 1.,\n",
       "       0., 0., 0., 1., 1., 1., 0., 1., 1., 0., 1., 1., 1., 1., 0., 1., 1.,\n",
       "       0., 1., 0., 0., 0., 1., 1., 0., 1., 1., 1., 1., 1., 1., 1., 1., 1.,\n",
       "       1., 1., 0., 1., 1., 0., 1., 1., 1., 0., 1., 0., 1., 1., 0., 1., 1.,\n",
       "       1., 1., 0., 1., 1., 0., 1., 1., 1., 1., 1., 1., 1., 0., 1., 1., 1.,\n",
       "       0., 1., 1., 0., 1., 0., 0., 0., 1., 0., 1., 1., 1., 1., 1., 0., 0.,\n",
       "       1., 1., 0., 1., 1., 1., 1., 1., 1., 1., 1., 1., 1., 0., 0., 1., 0.,\n",
       "       1., 1., 1., 1., 1., 1., 0., 0., 0., 1., 1., 1., 0., 1., 1., 1., 1.,\n",
       "       1., 1., 0., 1., 1., 1., 1., 0., 0., 0., 0., 1., 1., 0., 1., 0., 0.,\n",
       "       1., 1., 0., 1., 1., 1., 1., 0., 1., 1., 1., 1., 1., 1., 1., 1., 1.,\n",
       "       1., 0., 0., 1., 0., 1., 1., 0., 1., 1., 1., 0., 0., 1., 1., 0., 1.,\n",
       "       1., 0., 0., 1., 0., 1., 1., 1., 0., 0., 1., 0., 0., 1., 1., 1., 1.,\n",
       "       0., 0., 1., 0., 0., 1., 1., 0., 1., 1., 1., 1., 1., 1., 1., 1., 1.,\n",
       "       1., 1., 0., 1., 1., 0., 1., 1., 0., 1., 1., 0., 1., 1., 0., 1., 1.,\n",
       "       0., 1., 1., 0., 1., 0., 1., 0., 1., 1., 0., 0., 1., 0., 1., 1., 1.,\n",
       "       0., 1., 1., 0., 0., 1., 1., 1., 0., 1., 0., 1., 1., 1., 1., 1., 1.,\n",
       "       1., 1., 0., 1., 1., 1., 1., 1., 1., 1., 0., 1., 0., 1., 0., 1., 0.,\n",
       "       1., 1., 1., 1., 1., 0., 1., 0., 0., 1., 1., 1., 1., 1., 1., 1., 1.,\n",
       "       0., 1., 1., 1., 0., 0., 0., 1., 0., 1., 1., 1., 1., 1., 0., 1., 0.,\n",
       "       1., 1., 0., 1., 1., 0., 1., 0., 1., 0., 1., 1., 1., 1., 1., 0., 1.,\n",
       "       0., 0., 1., 1., 1., 1., 0., 0., 1., 1., 1., 1., 0., 1., 1., 1., 1.,\n",
       "       0., 1., 0., 1., 1., 1., 1., 1., 1., 0., 0., 1., 0., 0., 1., 0., 0.,\n",
       "       0., 1., 0., 0., 1., 1., 0., 0., 1., 1., 0., 1., 0., 0., 1., 1., 1.,\n",
       "       1., 1., 1., 1., 1., 0., 1., 0., 1., 1., 1., 1., 0., 0., 1., 0., 0.,\n",
       "       1., 0., 1., 0., 1., 1., 1., 0., 1., 1., 1., 1., 1., 1., 1., 1., 0.,\n",
       "       0., 1., 1., 1.])"
      ]
     },
     "execution_count": 53,
     "metadata": {},
     "output_type": "execute_result"
    }
   ],
   "source": [
    "knnModel.predict(X_test_df)"
   ]
  },
  {
   "cell_type": "code",
   "execution_count": 54,
   "id": "6894e86d",
   "metadata": {},
   "outputs": [],
   "source": [
    "from sklearn.model_selection import cross_val_predict, cross_val_score\n",
    "from sklearn.metrics import accuracy_score, classification_report"
   ]
  },
  {
   "cell_type": "code",
   "execution_count": 55,
   "id": "559fdb33",
   "metadata": {},
   "outputs": [],
   "source": [
    "predictions = cross_val_predict(knnModel.fit(X_train_val_df, y_train_val_df), X_df, y_df, cv=10)"
   ]
  },
  {
   "cell_type": "code",
   "execution_count": 56,
   "id": "d4f877ec",
   "metadata": {},
   "outputs": [
    {
     "name": "stdout",
     "output_type": "stream",
     "text": [
      "Test accuracy: 62.61%\n",
      "              precision    recall  f1-score   support\n",
      "\n",
      "         0.0       0.56      0.43      0.49      1165\n",
      "         1.0       0.66      0.76      0.71      1659\n",
      "\n",
      "    accuracy                           0.63      2824\n",
      "   macro avg       0.61      0.60      0.60      2824\n",
      "weighted avg       0.62      0.63      0.62      2824\n",
      "\n"
     ]
    }
   ],
   "source": [
    "print(\"Test accuracy: {:.2f}%\".format(accuracy_score(y_df, predictions) * 100))\n",
    "print(classification_report(y_df, predictions))"
   ]
  },
  {
   "cell_type": "code",
   "execution_count": 57,
   "id": "99a7da20",
   "metadata": {},
   "outputs": [
    {
     "name": "stdout",
     "output_type": "stream",
     "text": [
      "Scores per fold:\n",
      "[0.6360424  0.63250883 0.6360424  0.62897527 0.56737589 0.65248227\n",
      " 0.65602837 0.64184397 0.61347518 0.59574468]\n",
      "Average accuracy:  62.61%\n"
     ]
    }
   ],
   "source": [
    "scores = cross_val_score(knnModel.fit(X_train_val_df, y_train_val_df), X_df, y_df, cv=10)\n",
    "print(\"Scores per fold:\\n\" + str(scores))\n",
    "print(\"Average accuracy:  {:.2f}%\".format((np.sum(scores) / len(scores) * 100)))"
   ]
  },
  {
   "cell_type": "code",
   "execution_count": 58,
   "id": "87ffd838",
   "metadata": {},
   "outputs": [],
   "source": [
    "k_folds = 5"
   ]
  },
  {
   "cell_type": "code",
   "execution_count": 59,
   "id": "b02b3cd8",
   "metadata": {},
   "outputs": [],
   "source": [
    "k_choices = [1, 3, 5, 8, 10, 12, 15, 20]"
   ]
  },
  {
   "cell_type": "code",
   "execution_count": 60,
   "id": "566c5b65",
   "metadata": {},
   "outputs": [],
   "source": [
    "scores = np.zeros((len(k_choices), k_folds))"
   ]
  },
  {
   "cell_type": "code",
   "execution_count": 61,
   "id": "af603476",
   "metadata": {},
   "outputs": [
    {
     "name": "stdout",
     "output_type": "stream",
     "text": [
      "k is : 1\n",
      "[0.57079646 0.59734513 0.57743363 0.61725664 0.6075388 ]\n",
      "k is : 3\n",
      "[0.61946903 0.59955752 0.56415929 0.61061947 0.60310421]\n",
      "k is : 5\n",
      "[0.61725664 0.6659292  0.58185841 0.6039823  0.61197339]\n",
      "k is : 8\n",
      "[0.58185841 0.70132743 0.57964602 0.57964602 0.59201774]\n",
      "k is : 10\n",
      "[0.59070796 0.67920354 0.61504425 0.62168142 0.60310421]\n",
      "k is : 12\n",
      "[0.62831858 0.65929204 0.63716814 0.63053097 0.58758315]\n",
      "k is : 15\n",
      "[0.59292035 0.65707965 0.63274336 0.62168142 0.63192905]\n",
      "k is : 20\n",
      "[0.60840708 0.63053097 0.6039823  0.62389381 0.61419069]\n"
     ]
    }
   ],
   "source": [
    "for i in range(len(k_choices)):\n",
    "    print(\"k is : \" + str(k_choices[i]))\n",
    "    knnModel = KNeighborsClassifier(n_neighbors=k_choices[i])\n",
    "    scores[i] = cross_val_score(knnModel, X_train_val_df, y_train_val_df, cv=k_folds)\n",
    "    print(scores[i])\n",
    "    pass"
   ]
  },
  {
   "cell_type": "code",
   "execution_count": 62,
   "id": "46954d8b",
   "metadata": {},
   "outputs": [
    {
     "data": {
      "image/png": "[encoded data removed]",
      "text/plain": [
       "<Figure size 432x288 with 1 Axes>"
      ]
     },
     "metadata": {
      "needs_background": "light"
     },
     "output_type": "display_data"
    }
   ],
   "source": [
    "def plot_scatter(scores):\n",
    "    for i in range(len(scores)):\n",
    "        x=[k_choices[i]] * 5\n",
    "        plt.scatter(x, scores[i])\n",
    "        \n",
    "plot_scatter(scores)"
   ]
  },
  {
   "cell_type": "code",
   "execution_count": 63,
   "id": "a8f31048",
   "metadata": {},
   "outputs": [],
   "source": [
    "avg_scores = np.mean(scores,axis=1)"
   ]
  },
  {
   "cell_type": "code",
   "execution_count": 64,
   "id": "a8de2deb",
   "metadata": {},
   "outputs": [],
   "source": [
    "stddev_scores = np.std(scores, axis=1)"
   ]
  },
  {
   "cell_type": "code",
   "execution_count": 65,
   "id": "981fb820",
   "metadata": {},
   "outputs": [
    {
     "data": {
      "text/plain": [
       "Text(0, 0.5, 'Cross-validation accuracy')"
      ]
     },
     "execution_count": 65,
     "metadata": {},
     "output_type": "execute_result"
    },
    {
     "data": {
      "image/png": "[encoded data removed]",
      "text/plain": [
       "<Figure size 432x288 with 1 Axes>"
      ]
     },
     "metadata": {
      "needs_background": "light"
     },
     "output_type": "display_data"
    }
   ],
   "source": [
    "plot_scatter(scores)\n",
    "\n",
    "plt.errorbar(k_choices, avg_scores, yerr=stddev_scores)\n",
    "plt.title('Cross-validation on k')\n",
    "plt.xlabel('k')\n",
    "plt.ylabel('Cross-validation accuracy')"
   ]
  },
  {
   "cell_type": "code",
   "execution_count": 66,
   "id": "a56f115f",
   "metadata": {},
   "outputs": [],
   "source": [
    "neighbors = 13\n",
    "knnModel = KNeighborsClassifier(neighbors)"
   ]
  },
  {
   "cell_type": "code",
   "execution_count": 67,
   "id": "af7bc67c",
   "metadata": {},
   "outputs": [
    {
     "data": {
      "text/html": [
       "<style>#sk-container-id-2 {color: black;}#sk-container-id-2 pre{padding: 0;}#sk-container-id-2 div.sk-toggleable {background-color: white;}#sk-container-id-2 label.sk-toggleable__label {cursor: pointer;display: block;width: 100%;margin-bottom: 0;padding: 0.3em;box-sizing: border-box;text-align: center;}#sk-container-id-2 label.sk-toggleable__label-arrow:before {content: \"▸\";float: left;margin-right: 0.25em;color: #696969;}#sk-container-id-2 label.sk-toggleable__label-arrow:hover:before {color: black;}#sk-container-id-2 div.sk-estimator:hover label.sk-toggleable__label-arrow:before {color: black;}#sk-container-id-2 div.sk-toggleable__content {max-height: 0;max-width: 0;overflow: hidden;text-align: left;background-color: #f0f8ff;}#sk-container-id-2 div.sk-toggleable__content pre {margin: 0.2em;color: black;border-radius: 0.25em;background-color: #f0f8ff;}#sk-container-id-2 input.sk-toggleable__control:checked~div.sk-toggleable__content {max-height: 200px;max-width: 100%;overflow: auto;}#sk-container-id-2 input.sk-toggleable__control:checked~label.sk-toggleable__label-arrow:before {content: \"▾\";}#sk-container-id-2 div.sk-estimator input.sk-toggleable__control:checked~label.sk-toggleable__label {background-color: #d4ebff;}#sk-container-id-2 div.sk-label input.sk-toggleable__control:checked~label.sk-toggleable__label {background-color: #d4ebff;}#sk-container-id-2 input.sk-hidden--visually {border: 0;clip: rect(1px 1px 1px 1px);clip: rect(1px, 1px, 1px, 1px);height: 1px;margin: -1px;overflow: hidden;padding: 0;position: absolute;width: 1px;}#sk-container-id-2 div.sk-estimator {font-family: monospace;background-color: #f0f8ff;border: 1px dotted black;border-radius: 0.25em;box-sizing: border-box;margin-bottom: 0.5em;}#sk-container-id-2 div.sk-estimator:hover {background-color: #d4ebff;}#sk-container-id-2 div.sk-parallel-item::after {content: \"\";width: 100%;border-bottom: 1px solid gray;flex-grow: 1;}#sk-container-id-2 div.sk-label:hover label.sk-toggleable__label {background-color: #d4ebff;}#sk-container-id-2 div.sk-serial::before {content: \"\";position: absolute;border-left: 1px solid gray;box-sizing: border-box;top: 0;bottom: 0;left: 50%;z-index: 0;}#sk-container-id-2 div.sk-serial {display: flex;flex-direction: column;align-items: center;background-color: white;padding-right: 0.2em;padding-left: 0.2em;position: relative;}#sk-container-id-2 div.sk-item {position: relative;z-index: 1;}#sk-container-id-2 div.sk-parallel {display: flex;align-items: stretch;justify-content: center;background-color: white;position: relative;}#sk-container-id-2 div.sk-item::before, #sk-container-id-2 div.sk-parallel-item::before {content: \"\";position: absolute;border-left: 1px solid gray;box-sizing: border-box;top: 0;bottom: 0;left: 50%;z-index: -1;}#sk-container-id-2 div.sk-parallel-item {display: flex;flex-direction: column;z-index: 1;position: relative;background-color: white;}#sk-container-id-2 div.sk-parallel-item:first-child::after {align-self: flex-end;width: 50%;}#sk-container-id-2 div.sk-parallel-item:last-child::after {align-self: flex-start;width: 50%;}#sk-container-id-2 div.sk-parallel-item:only-child::after {width: 0;}#sk-container-id-2 div.sk-dashed-wrapped {border: 1px dashed gray;margin: 0 0.4em 0.5em 0.4em;box-sizing: border-box;padding-bottom: 0.4em;background-color: white;}#sk-container-id-2 div.sk-label label {font-family: monospace;font-weight: bold;display: inline-block;line-height: 1.2em;}#sk-container-id-2 div.sk-label-container {text-align: center;}#sk-container-id-2 div.sk-container {/* jupyter's `normalize.less` sets `[hidden] { display: none; }` but bootstrap.min.css set `[hidden] { display: none !important; }` so we also need the `!important` here to be able to override the default hidden behavior on the sphinx rendered scikit-learn.org. See: https://github.com/scikit-learn/scikit-learn/issues/21755 */display: inline-block !important;position: relative;}#sk-container-id-2 div.sk-text-repr-fallback {display: none;}</style><div id=\"sk-container-id-2\" class=\"sk-top-container\"><div class=\"sk-text-repr-fallback\"><pre>KNeighborsClassifier(n_neighbors=13)</pre><b>In a Jupyter environment, please rerun this cell to show the HTML representation or trust the notebook. <br />On GitHub, the HTML representation is unable to render, please try loading this page with nbviewer.org.</b></div><div class=\"sk-container\" hidden><div class=\"sk-item\"><div class=\"sk-estimator sk-toggleable\"><input class=\"sk-toggleable__control sk-hidden--visually\" id=\"sk-estimator-id-2\" type=\"checkbox\" checked><label for=\"sk-estimator-id-2\" class=\"sk-toggleable__label sk-toggleable__label-arrow\">KNeighborsClassifier</label><div class=\"sk-toggleable__content\"><pre>KNeighborsClassifier(n_neighbors=13)</pre></div></div></div></div></div>"
      ],
      "text/plain": [
       "KNeighborsClassifier(n_neighbors=13)"
      ]
     },
     "execution_count": 67,
     "metadata": {},
     "output_type": "execute_result"
    }
   ],
   "source": [
    "knnModel.fit(X_train_df, y_train_df)"
   ]
  },
  {
   "cell_type": "code",
   "execution_count": 68,
   "id": "6322e25f",
   "metadata": {
    "tags": []
   },
   "outputs": [
    {
     "data": {
      "text/plain": [
       "array([1., 1., 1., 1., 0., 1., 1., 1., 1., 1., 1., 1., 0., 1., 0., 0., 1.,\n",
       "       1., 1., 1., 1., 1., 1., 1., 0., 1., 1., 1., 1., 1., 1., 1., 1., 1.,\n",
       "       1., 1., 1., 1., 1., 0., 1., 1., 0., 0., 0., 1., 1., 1., 1., 0., 0.,\n",
       "       1., 1., 0., 1., 1., 0., 0., 1., 0., 1., 0., 1., 0., 1., 0., 1., 0.,\n",
       "       1., 1., 1., 1., 0., 1., 0., 0., 0., 0., 1., 1., 1., 1., 1., 1., 1.,\n",
       "       1., 1., 1., 1., 0., 1., 1., 0., 1., 0., 0., 1., 1., 0., 1., 1., 1.,\n",
       "       1., 0., 0., 1., 0., 1., 0., 1., 0., 1., 1., 0., 1., 1., 1., 0., 1.,\n",
       "       0., 0., 1., 1., 1., 1., 1., 1., 1., 1., 1., 1., 1., 1., 1., 1., 1.,\n",
       "       1., 1., 1., 0., 1., 1., 1., 1., 1., 0., 0., 1., 1., 0., 1., 1., 0.,\n",
       "       0., 0., 1., 0., 1., 1., 0., 1., 1., 0., 1., 1., 1., 1., 0., 1., 1.,\n",
       "       0., 1., 0., 0., 1., 1., 1., 1., 1., 1., 1., 1., 1., 1., 1., 1., 1.,\n",
       "       1., 1., 0., 1., 0., 0., 1., 1., 0., 0., 1., 0., 1., 1., 1., 1., 1.,\n",
       "       1., 1., 1., 0., 1., 0., 1., 1., 1., 1., 1., 1., 0., 1., 1., 1., 1.,\n",
       "       1., 0., 1., 0., 1., 1., 0., 0., 1., 0., 1., 1., 1., 1., 1., 1., 1.,\n",
       "       1., 1., 0., 1., 1., 1., 1., 1., 1., 1., 1., 1., 1., 0., 1., 1., 0.,\n",
       "       1., 1., 1., 0., 1., 1., 0., 0., 0., 1., 1., 1., 0., 1., 1., 0., 1.,\n",
       "       1., 1., 0., 1., 1., 1., 1., 0., 0., 0., 0., 1., 1., 1., 1., 1., 1.,\n",
       "       1., 1., 0., 1., 1., 1., 0., 0., 1., 1., 1., 1., 1., 1., 1., 1., 1.,\n",
       "       1., 0., 1., 1., 0., 1., 1., 0., 1., 0., 1., 1., 0., 1., 1., 0., 1.,\n",
       "       1., 0., 0., 1., 0., 1., 1., 1., 1., 0., 1., 1., 0., 1., 1., 1., 1.,\n",
       "       0., 1., 1., 0., 0., 1., 1., 0., 1., 1., 1., 1., 1., 0., 1., 1., 1.,\n",
       "       1., 1., 1., 1., 1., 0., 1., 1., 1., 1., 0., 0., 1., 1., 0., 1., 1.,\n",
       "       1., 0., 1., 1., 1., 0., 1., 1., 1., 1., 1., 0., 1., 0., 1., 1., 1.,\n",
       "       1., 1., 1., 0., 1., 1., 1., 1., 1., 1., 0., 1., 1., 1., 1., 1., 1.,\n",
       "       1., 1., 0., 1., 1., 1., 1., 1., 1., 1., 0., 1., 0., 0., 0., 1., 1.,\n",
       "       1., 1., 1., 1., 1., 0., 1., 0., 1., 1., 1., 1., 0., 1., 0., 1., 1.,\n",
       "       0., 1., 1., 1., 0., 1., 0., 1., 0., 1., 1., 1., 1., 1., 1., 1., 1.,\n",
       "       1., 1., 0., 0., 1., 1., 1., 0., 1., 1., 1., 1., 1., 1., 0., 0., 1.,\n",
       "       0., 0., 1., 1., 0., 1., 0., 1., 1., 1., 1., 1., 0., 0., 1., 1., 1.,\n",
       "       0., 1., 1., 1., 1., 1., 1., 1., 1., 1., 0., 1., 0., 0., 1., 1., 0.,\n",
       "       1., 0., 0., 0., 1., 1., 0., 0., 1., 1., 1., 1., 1., 0., 1., 1., 1.,\n",
       "       1., 1., 1., 1., 1., 0., 1., 1., 1., 1., 1., 1., 1., 1., 1., 0., 1.,\n",
       "       0., 0., 1., 0., 0., 1., 1., 0., 0., 0., 1., 1., 1., 1., 1., 1., 0.,\n",
       "       1., 1., 1., 1.])"
      ]
     },
     "execution_count": 68,
     "metadata": {},
     "output_type": "execute_result"
    }
   ],
   "source": [
    "y_predicted = knnModel.predict(X_test_df)\n",
    "y_predicted"
   ]
  },
  {
   "cell_type": "code",
   "execution_count": 69,
   "id": "d664d27b",
   "metadata": {},
   "outputs": [
    {
     "name": "stdout",
     "output_type": "stream",
     "text": [
      "Test accuracy with best k value: 62.61%\n",
      "              precision    recall  f1-score   support\n",
      "\n",
      "           0       0.56      0.37      0.45       233\n",
      "           1       0.64      0.80      0.71       332\n",
      "\n",
      "    accuracy                           0.62       565\n",
      "   macro avg       0.60      0.59      0.58       565\n",
      "weighted avg       0.61      0.62      0.60       565\n",
      "\n"
     ]
    }
   ],
   "source": [
    "classes = [\"0\", \"1\"]\n",
    "print(\"Test accuracy with best k value: {:.2f}%\".format(accuracy_score(y_df_pair, predictions) * 100))\n",
    "print(classification_report(y_test_df, y_predicted, target_names=classes))\n",
    "\n",
    "num_correct = np.sum(y_test_df==y_predicted)\n",
    "accuracy = num_correct/len(y_test_df)"
   ]
  },
  {
   "cell_type": "markdown",
   "id": "ab12c5eb",
   "metadata": {},
   "source": [
    "-----"
   ]
  },
  {
   "cell_type": "code",
   "execution_count": 70,
   "id": "742132eb",
   "metadata": {},
   "outputs": [],
   "source": [
    "knnModel = KNeighborsClassifier()"
   ]
  },
  {
   "cell_type": "code",
   "execution_count": 71,
   "id": "de6952ea",
   "metadata": {},
   "outputs": [
    {
     "data": {
      "text/html": [
       "<style>#sk-container-id-3 {color: black;}#sk-container-id-3 pre{padding: 0;}#sk-container-id-3 div.sk-toggleable {background-color: white;}#sk-container-id-3 label.sk-toggleable__label {cursor: pointer;display: block;width: 100%;margin-bottom: 0;padding: 0.3em;box-sizing: border-box;text-align: center;}#sk-container-id-3 label.sk-toggleable__label-arrow:before {content: \"▸\";float: left;margin-right: 0.25em;color: #696969;}#sk-container-id-3 label.sk-toggleable__label-arrow:hover:before {color: black;}#sk-container-id-3 div.sk-estimator:hover label.sk-toggleable__label-arrow:before {color: black;}#sk-container-id-3 div.sk-toggleable__content {max-height: 0;max-width: 0;overflow: hidden;text-align: left;background-color: #f0f8ff;}#sk-container-id-3 div.sk-toggleable__content pre {margin: 0.2em;color: black;border-radius: 0.25em;background-color: #f0f8ff;}#sk-container-id-3 input.sk-toggleable__control:checked~div.sk-toggleable__content {max-height: 200px;max-width: 100%;overflow: auto;}#sk-container-id-3 input.sk-toggleable__control:checked~label.sk-toggleable__label-arrow:before {content: \"▾\";}#sk-container-id-3 div.sk-estimator input.sk-toggleable__control:checked~label.sk-toggleable__label {background-color: #d4ebff;}#sk-container-id-3 div.sk-label input.sk-toggleable__control:checked~label.sk-toggleable__label {background-color: #d4ebff;}#sk-container-id-3 input.sk-hidden--visually {border: 0;clip: rect(1px 1px 1px 1px);clip: rect(1px, 1px, 1px, 1px);height: 1px;margin: -1px;overflow: hidden;padding: 0;position: absolute;width: 1px;}#sk-container-id-3 div.sk-estimator {font-family: monospace;background-color: #f0f8ff;border: 1px dotted black;border-radius: 0.25em;box-sizing: border-box;margin-bottom: 0.5em;}#sk-container-id-3 div.sk-estimator:hover {background-color: #d4ebff;}#sk-container-id-3 div.sk-parallel-item::after {content: \"\";width: 100%;border-bottom: 1px solid gray;flex-grow: 1;}#sk-container-id-3 div.sk-label:hover label.sk-toggleable__label {background-color: #d4ebff;}#sk-container-id-3 div.sk-serial::before {content: \"\";position: absolute;border-left: 1px solid gray;box-sizing: border-box;top: 0;bottom: 0;left: 50%;z-index: 0;}#sk-container-id-3 div.sk-serial {display: flex;flex-direction: column;align-items: center;background-color: white;padding-right: 0.2em;padding-left: 0.2em;position: relative;}#sk-container-id-3 div.sk-item {position: relative;z-index: 1;}#sk-container-id-3 div.sk-parallel {display: flex;align-items: stretch;justify-content: center;background-color: white;position: relative;}#sk-container-id-3 div.sk-item::before, #sk-container-id-3 div.sk-parallel-item::before {content: \"\";position: absolute;border-left: 1px solid gray;box-sizing: border-box;top: 0;bottom: 0;left: 50%;z-index: -1;}#sk-container-id-3 div.sk-parallel-item {display: flex;flex-direction: column;z-index: 1;position: relative;background-color: white;}#sk-container-id-3 div.sk-parallel-item:first-child::after {align-self: flex-end;width: 50%;}#sk-container-id-3 div.sk-parallel-item:last-child::after {align-self: flex-start;width: 50%;}#sk-container-id-3 div.sk-parallel-item:only-child::after {width: 0;}#sk-container-id-3 div.sk-dashed-wrapped {border: 1px dashed gray;margin: 0 0.4em 0.5em 0.4em;box-sizing: border-box;padding-bottom: 0.4em;background-color: white;}#sk-container-id-3 div.sk-label label {font-family: monospace;font-weight: bold;display: inline-block;line-height: 1.2em;}#sk-container-id-3 div.sk-label-container {text-align: center;}#sk-container-id-3 div.sk-container {/* jupyter's `normalize.less` sets `[hidden] { display: none; }` but bootstrap.min.css set `[hidden] { display: none !important; }` so we also need the `!important` here to be able to override the default hidden behavior on the sphinx rendered scikit-learn.org. See: https://github.com/scikit-learn/scikit-learn/issues/21755 */display: inline-block !important;position: relative;}#sk-container-id-3 div.sk-text-repr-fallback {display: none;}</style><div id=\"sk-container-id-3\" class=\"sk-top-container\"><div class=\"sk-text-repr-fallback\"><pre>KNeighborsClassifier()</pre><b>In a Jupyter environment, please rerun this cell to show the HTML representation or trust the notebook. <br />On GitHub, the HTML representation is unable to render, please try loading this page with nbviewer.org.</b></div><div class=\"sk-container\" hidden><div class=\"sk-item\"><div class=\"sk-estimator sk-toggleable\"><input class=\"sk-toggleable__control sk-hidden--visually\" id=\"sk-estimator-id-3\" type=\"checkbox\" checked><label for=\"sk-estimator-id-3\" class=\"sk-toggleable__label sk-toggleable__label-arrow\">KNeighborsClassifier</label><div class=\"sk-toggleable__content\"><pre>KNeighborsClassifier()</pre></div></div></div></div></div>"
      ],
      "text/plain": [
       "KNeighborsClassifier()"
      ]
     },
     "execution_count": 71,
     "metadata": {},
     "output_type": "execute_result"
    }
   ],
   "source": [
    "knnModel.fit(X_train_df_pair, y_train_df_pair)"
   ]
  },
  {
   "cell_type": "code",
   "execution_count": 72,
   "id": "24bb8293",
   "metadata": {
    "tags": []
   },
   "outputs": [
    {
     "data": {
      "text/plain": [
       "array([0., 0., 1., 1., 1., 1., 1., 1., 1., 1., 1., 1., 1., 0., 1., 0., 1.,\n",
       "       0., 0., 0., 0., 1., 1., 1., 0., 0., 1., 1., 1., 0., 1., 1., 1., 1.,\n",
       "       0., 1., 1., 1., 1., 0., 1., 1., 1., 0., 0., 1., 1., 0., 1., 1., 0.,\n",
       "       1., 1., 0., 0., 1., 1., 1., 1., 1., 1., 1., 1., 0., 0., 0., 1., 0.,\n",
       "       1., 1., 1., 1., 0., 1., 0., 1., 0., 0., 1., 1., 1., 1., 1., 1., 1.,\n",
       "       1., 1., 0., 1., 0., 1., 1., 0., 1., 1., 1., 0., 1., 0., 1., 0., 1.,\n",
       "       1., 1., 0., 1., 0., 1., 0., 1., 1., 1., 1., 0., 1., 0., 1., 0., 1.,\n",
       "       0., 1., 1., 1., 1., 1., 1., 0., 0., 0., 1., 1., 1., 1., 1., 1., 1.,\n",
       "       1., 0., 0., 0., 0., 1., 1., 1., 1., 1., 0., 1., 0., 0., 1., 1., 1.,\n",
       "       0., 1., 0., 1., 1., 1., 0., 1., 0., 1., 1., 1., 1., 1., 0., 1., 1.,\n",
       "       0., 1., 0., 0., 0., 1., 1., 1., 0., 1., 0., 1., 1., 1., 1., 1., 1.,\n",
       "       1., 1., 0., 1., 0., 0., 1., 1., 1., 1., 0., 0., 0., 1., 0., 1., 1.,\n",
       "       1., 0., 1., 1., 1., 0., 1., 0., 1., 0., 1., 1., 1., 1., 1., 1., 1.,\n",
       "       0., 1., 0., 0., 1., 0., 1., 0., 1., 1., 1., 1., 1., 1., 1., 1., 1.,\n",
       "       1., 1., 1., 1., 1., 1., 1., 1., 0., 1., 1., 0., 0., 0., 1., 1., 0.,\n",
       "       1., 0., 0., 0., 1., 0., 1., 0., 1., 0., 1., 1., 0., 0., 1., 1., 1.,\n",
       "       1., 1., 0., 0., 1., 1., 1., 0., 1., 1., 0., 1., 1., 1., 0., 0., 1.,\n",
       "       1., 1., 1., 1., 1., 1., 1., 0., 1., 1., 1., 1., 1., 1., 1., 1., 1.,\n",
       "       1., 0., 0., 1., 0., 1., 1., 1., 1., 1., 1., 1., 1., 1., 1., 1., 1.,\n",
       "       1., 0., 0., 1., 0., 1., 1., 1., 0., 1., 1., 0., 0., 1., 0., 1., 1.,\n",
       "       0., 1., 1., 0., 0., 1., 1., 0., 1., 1., 0., 1., 1., 1., 1., 1., 1.,\n",
       "       1., 1., 0., 0., 1., 0., 1., 0., 0., 0., 1., 0., 1., 1., 1., 1., 1.,\n",
       "       0., 0., 1., 0., 0., 1., 1., 1., 1., 1., 0., 0., 1., 0., 1., 1., 1.,\n",
       "       0., 1., 0., 0., 1., 1., 1., 1., 1., 1., 0., 1., 1., 1., 1., 1., 0.,\n",
       "       1., 1., 1., 1., 1., 1., 1., 1., 0., 1., 1., 1., 0., 1., 0., 1., 0.,\n",
       "       1., 1., 1., 1., 0., 1., 0., 1., 1., 1., 1., 1., 1., 1., 1., 1., 1.,\n",
       "       1., 0., 1., 1., 1., 1., 1., 1., 0., 1., 1., 1., 1., 0., 1., 1., 1.,\n",
       "       1., 1., 0., 1., 1., 1., 1., 1., 0., 0., 1., 1., 1., 1., 1., 0., 1.,\n",
       "       0., 1., 1., 1., 1., 1., 0., 1., 1., 1., 1., 1., 0., 1., 1., 0., 1.,\n",
       "       0., 1., 0., 1., 1., 1., 1., 1., 1., 1., 0., 1., 0., 1., 1., 1., 0.,\n",
       "       1., 1., 0., 0., 1., 1., 0., 0., 1., 1., 1., 1., 1., 0., 1., 1., 0.,\n",
       "       1., 0., 1., 1., 1., 1., 0., 0., 1., 1., 1., 1., 0., 0., 1., 0., 1.,\n",
       "       1., 0., 1., 0., 1., 1., 1., 0., 0., 1., 1., 1., 1., 1., 1., 1., 0.,\n",
       "       0., 1., 1., 1.])"
      ]
     },
     "execution_count": 72,
     "metadata": {},
     "output_type": "execute_result"
    }
   ],
   "source": [
    "knnModel.predict(X_test_df_pair)"
   ]
  },
  {
   "cell_type": "code",
   "execution_count": 73,
   "id": "ab2b518f",
   "metadata": {},
   "outputs": [],
   "source": [
    "from sklearn.model_selection import cross_val_predict, cross_val_score\n",
    "from sklearn.metrics import accuracy_score, classification_report"
   ]
  },
  {
   "cell_type": "code",
   "execution_count": 74,
   "id": "23530625",
   "metadata": {},
   "outputs": [],
   "source": [
    "predictions = cross_val_predict(knnModel.fit(X_train_val_df_pair, y_train_val_df_pair), X_df_pair, y_df_pair, cv=10)"
   ]
  },
  {
   "cell_type": "code",
   "execution_count": 75,
   "id": "446d0f66",
   "metadata": {},
   "outputs": [
    {
     "name": "stdout",
     "output_type": "stream",
     "text": [
      "Test accuracy: 67.71%\n",
      "              precision    recall  f1-score   support\n",
      "\n",
      "         0.0       0.64      0.50      0.56      1165\n",
      "         1.0       0.69      0.80      0.75      1659\n",
      "\n",
      "    accuracy                           0.68      2824\n",
      "   macro avg       0.67      0.65      0.65      2824\n",
      "weighted avg       0.67      0.68      0.67      2824\n",
      "\n"
     ]
    }
   ],
   "source": [
    "print(\"Test accuracy: {:.2f}%\".format(accuracy_score(y_df_pair, predictions) * 100))\n",
    "print(classification_report(y_df_pair, predictions))"
   ]
  },
  {
   "cell_type": "code",
   "execution_count": 76,
   "id": "2642ab3e",
   "metadata": {},
   "outputs": [
    {
     "name": "stdout",
     "output_type": "stream",
     "text": [
      "Scores per fold :\n",
      "[0.67137809 0.70318021 0.72438163 0.66431095 0.60638298 0.67021277\n",
      " 0.69148936 0.71631206 0.70212766 0.62056738]\n",
      "Average accuracy :  67.70%\n"
     ]
    }
   ],
   "source": [
    "scores = cross_val_score(knnModel.fit(X_train_val_df_pair, y_train_val_df_pair), X_df_pair, y_df_pair, cv=10)\n",
    "print(\"Scores per fold :\\n\" + str(scores))\n",
    "print(\"Average accuracy :  {:.2f}%\".format((np.sum(scores) / len(scores) * 100)))"
   ]
  },
  {
   "cell_type": "code",
   "execution_count": 77,
   "id": "4ed14997",
   "metadata": {},
   "outputs": [],
   "source": [
    "k_folds = 5"
   ]
  },
  {
   "cell_type": "code",
   "execution_count": 78,
   "id": "89aa9855",
   "metadata": {},
   "outputs": [],
   "source": [
    "k_choices = [1, 3, 5, 8, 10, 12, 15, 20]"
   ]
  },
  {
   "cell_type": "code",
   "execution_count": 79,
   "id": "8c9eeff1",
   "metadata": {},
   "outputs": [],
   "source": [
    "scores = np.zeros((len(k_choices), k_folds))"
   ]
  },
  {
   "cell_type": "code",
   "execution_count": 80,
   "id": "232e5646",
   "metadata": {
    "tags": []
   },
   "outputs": [
    {
     "name": "stdout",
     "output_type": "stream",
     "text": [
      "k is : 1\n",
      "[0.61725664 0.72345133 0.64380531 0.61946903 0.63636364]\n",
      "k is : 3\n",
      "[0.62610619 0.67256637 0.62610619 0.65265487 0.63192905]\n",
      "k is : 5\n",
      "[0.63938053 0.69026549 0.64159292 0.68584071 0.654102  ]\n",
      "k is : 8\n",
      "[0.65044248 0.67699115 0.63938053 0.67920354 0.64966741]\n",
      "k is : 10\n",
      "[0.64380531 0.69911504 0.65265487 0.66814159 0.64079823]\n",
      "k is : 12\n",
      "[0.63495575 0.69026549 0.66150442 0.65929204 0.64745011]\n",
      "k is : 15\n",
      "[0.62389381 0.69690265 0.65265487 0.65929204 0.65631929]\n",
      "k is : 20\n",
      "[0.64823009 0.68362832 0.63053097 0.65929204 0.654102  ]\n"
     ]
    }
   ],
   "source": [
    "for i in range(len(k_choices)):\n",
    "    print(\"k is : \" + str(k_choices[i]))\n",
    "    knnModel = KNeighborsClassifier(n_neighbors=k_choices[i])\n",
    "    scores[i] = cross_val_score(knnModel, X_train_val_df_pair, y_train_val_df_pair, cv=k_folds)\n",
    "    print(scores[i])\n",
    "    pass"
   ]
  },
  {
   "cell_type": "code",
   "execution_count": 81,
   "id": "fa5a8055",
   "metadata": {},
   "outputs": [
    {
     "data": {
      "image/png": "[encoded data removed]",
      "text/plain": [
       "<Figure size 432x288 with 1 Axes>"
      ]
     },
     "metadata": {
      "needs_background": "light"
     },
     "output_type": "display_data"
    }
   ],
   "source": [
    "def plot_scatter(scores):\n",
    "    for i in range(len(scores)):\n",
    "        x=[k_choices[i]] * 5\n",
    "        plt.scatter(x, scores[i])\n",
    "        \n",
    "plot_scatter(scores)"
   ]
  },
  {
   "cell_type": "code",
   "execution_count": 82,
   "id": "bb3a8715",
   "metadata": {},
   "outputs": [],
   "source": [
    "avg_scores = np.mean(scores,axis=1)"
   ]
  },
  {
   "cell_type": "code",
   "execution_count": 83,
   "id": "11b644be",
   "metadata": {},
   "outputs": [],
   "source": [
    "stddev_scores = np.std(scores, axis=1)"
   ]
  },
  {
   "cell_type": "code",
   "execution_count": 84,
   "id": "476207b0",
   "metadata": {},
   "outputs": [
    {
     "data": {
      "text/plain": [
       "Text(0, 0.5, 'Cross-validation accuracy')"
      ]
     },
     "execution_count": 84,
     "metadata": {},
     "output_type": "execute_result"
    },
    {
     "data": {
      "image/png": "[encoded data removed]",
      "text/plain": [
       "<Figure size 432x288 with 1 Axes>"
      ]
     },
     "metadata": {
      "needs_background": "light"
     },
     "output_type": "display_data"
    }
   ],
   "source": [
    "plot_scatter(scores)\n",
    "\n",
    "plt.errorbar(k_choices, avg_scores, yerr=stddev_scores)\n",
    "plt.title('Cross-validation on k')\n",
    "plt.xlabel('k')\n",
    "plt.ylabel('Cross-validation accuracy')"
   ]
  },
  {
   "cell_type": "code",
   "execution_count": 85,
   "id": "c0663307",
   "metadata": {},
   "outputs": [],
   "source": [
    "neighbors = 5\n",
    "knnModel = KNeighborsClassifier(neighbors)"
   ]
  },
  {
   "cell_type": "code",
   "execution_count": 86,
   "id": "dd741a10",
   "metadata": {},
   "outputs": [
    {
     "data": {
      "text/html": [
       "<style>#sk-container-id-4 {color: black;}#sk-container-id-4 pre{padding: 0;}#sk-container-id-4 div.sk-toggleable {background-color: white;}#sk-container-id-4 label.sk-toggleable__label {cursor: pointer;display: block;width: 100%;margin-bottom: 0;padding: 0.3em;box-sizing: border-box;text-align: center;}#sk-container-id-4 label.sk-toggleable__label-arrow:before {content: \"▸\";float: left;margin-right: 0.25em;color: #696969;}#sk-container-id-4 label.sk-toggleable__label-arrow:hover:before {color: black;}#sk-container-id-4 div.sk-estimator:hover label.sk-toggleable__label-arrow:before {color: black;}#sk-container-id-4 div.sk-toggleable__content {max-height: 0;max-width: 0;overflow: hidden;text-align: left;background-color: #f0f8ff;}#sk-container-id-4 div.sk-toggleable__content pre {margin: 0.2em;color: black;border-radius: 0.25em;background-color: #f0f8ff;}#sk-container-id-4 input.sk-toggleable__control:checked~div.sk-toggleable__content {max-height: 200px;max-width: 100%;overflow: auto;}#sk-container-id-4 input.sk-toggleable__control:checked~label.sk-toggleable__label-arrow:before {content: \"▾\";}#sk-container-id-4 div.sk-estimator input.sk-toggleable__control:checked~label.sk-toggleable__label {background-color: #d4ebff;}#sk-container-id-4 div.sk-label input.sk-toggleable__control:checked~label.sk-toggleable__label {background-color: #d4ebff;}#sk-container-id-4 input.sk-hidden--visually {border: 0;clip: rect(1px 1px 1px 1px);clip: rect(1px, 1px, 1px, 1px);height: 1px;margin: -1px;overflow: hidden;padding: 0;position: absolute;width: 1px;}#sk-container-id-4 div.sk-estimator {font-family: monospace;background-color: #f0f8ff;border: 1px dotted black;border-radius: 0.25em;box-sizing: border-box;margin-bottom: 0.5em;}#sk-container-id-4 div.sk-estimator:hover {background-color: #d4ebff;}#sk-container-id-4 div.sk-parallel-item::after {content: \"\";width: 100%;border-bottom: 1px solid gray;flex-grow: 1;}#sk-container-id-4 div.sk-label:hover label.sk-toggleable__label {background-color: #d4ebff;}#sk-container-id-4 div.sk-serial::before {content: \"\";position: absolute;border-left: 1px solid gray;box-sizing: border-box;top: 0;bottom: 0;left: 50%;z-index: 0;}#sk-container-id-4 div.sk-serial {display: flex;flex-direction: column;align-items: center;background-color: white;padding-right: 0.2em;padding-left: 0.2em;position: relative;}#sk-container-id-4 div.sk-item {position: relative;z-index: 1;}#sk-container-id-4 div.sk-parallel {display: flex;align-items: stretch;justify-content: center;background-color: white;position: relative;}#sk-container-id-4 div.sk-item::before, #sk-container-id-4 div.sk-parallel-item::before {content: \"\";position: absolute;border-left: 1px solid gray;box-sizing: border-box;top: 0;bottom: 0;left: 50%;z-index: -1;}#sk-container-id-4 div.sk-parallel-item {display: flex;flex-direction: column;z-index: 1;position: relative;background-color: white;}#sk-container-id-4 div.sk-parallel-item:first-child::after {align-self: flex-end;width: 50%;}#sk-container-id-4 div.sk-parallel-item:last-child::after {align-self: flex-start;width: 50%;}#sk-container-id-4 div.sk-parallel-item:only-child::after {width: 0;}#sk-container-id-4 div.sk-dashed-wrapped {border: 1px dashed gray;margin: 0 0.4em 0.5em 0.4em;box-sizing: border-box;padding-bottom: 0.4em;background-color: white;}#sk-container-id-4 div.sk-label label {font-family: monospace;font-weight: bold;display: inline-block;line-height: 1.2em;}#sk-container-id-4 div.sk-label-container {text-align: center;}#sk-container-id-4 div.sk-container {/* jupyter's `normalize.less` sets `[hidden] { display: none; }` but bootstrap.min.css set `[hidden] { display: none !important; }` so we also need the `!important` here to be able to override the default hidden behavior on the sphinx rendered scikit-learn.org. See: https://github.com/scikit-learn/scikit-learn/issues/21755 */display: inline-block !important;position: relative;}#sk-container-id-4 div.sk-text-repr-fallback {display: none;}</style><div id=\"sk-container-id-4\" class=\"sk-top-container\"><div class=\"sk-text-repr-fallback\"><pre>KNeighborsClassifier()</pre><b>In a Jupyter environment, please rerun this cell to show the HTML representation or trust the notebook. <br />On GitHub, the HTML representation is unable to render, please try loading this page with nbviewer.org.</b></div><div class=\"sk-container\" hidden><div class=\"sk-item\"><div class=\"sk-estimator sk-toggleable\"><input class=\"sk-toggleable__control sk-hidden--visually\" id=\"sk-estimator-id-4\" type=\"checkbox\" checked><label for=\"sk-estimator-id-4\" class=\"sk-toggleable__label sk-toggleable__label-arrow\">KNeighborsClassifier</label><div class=\"sk-toggleable__content\"><pre>KNeighborsClassifier()</pre></div></div></div></div></div>"
      ],
      "text/plain": [
       "KNeighborsClassifier()"
      ]
     },
     "execution_count": 86,
     "metadata": {},
     "output_type": "execute_result"
    }
   ],
   "source": [
    "knnModel.fit(X_train_df_pair, y_train_df_pair)"
   ]
  },
  {
   "cell_type": "code",
   "execution_count": 87,
   "id": "68d72fc3",
   "metadata": {
    "tags": []
   },
   "outputs": [
    {
     "data": {
      "text/plain": [
       "array([0., 0., 1., 1., 1., 1., 1., 1., 1., 1., 1., 1., 1., 0., 1., 0., 1.,\n",
       "       0., 0., 0., 0., 1., 1., 1., 0., 0., 1., 1., 1., 0., 1., 1., 1., 1.,\n",
       "       0., 1., 1., 1., 1., 0., 1., 1., 1., 0., 0., 1., 1., 0., 1., 1., 0.,\n",
       "       1., 1., 0., 0., 1., 1., 1., 1., 1., 1., 1., 1., 0., 0., 0., 1., 0.,\n",
       "       1., 1., 1., 1., 0., 1., 0., 1., 0., 0., 1., 1., 1., 1., 1., 1., 1.,\n",
       "       1., 1., 0., 1., 0., 1., 1., 0., 1., 1., 1., 0., 1., 0., 1., 0., 1.,\n",
       "       1., 1., 0., 1., 0., 1., 0., 1., 1., 1., 1., 0., 1., 0., 1., 0., 1.,\n",
       "       0., 1., 1., 1., 1., 1., 1., 0., 0., 0., 1., 1., 1., 1., 1., 1., 1.,\n",
       "       1., 0., 0., 0., 0., 1., 1., 1., 1., 1., 0., 1., 0., 0., 1., 1., 1.,\n",
       "       0., 1., 0., 1., 1., 1., 0., 1., 0., 1., 1., 1., 1., 1., 0., 1., 1.,\n",
       "       0., 1., 0., 0., 0., 1., 1., 1., 0., 1., 0., 1., 1., 1., 1., 1., 1.,\n",
       "       1., 1., 0., 1., 0., 0., 1., 1., 1., 1., 0., 0., 0., 1., 0., 1., 1.,\n",
       "       1., 0., 1., 1., 1., 0., 1., 0., 1., 0., 1., 1., 1., 1., 1., 1., 1.,\n",
       "       0., 1., 0., 0., 1., 0., 1., 0., 1., 1., 1., 1., 1., 1., 1., 1., 1.,\n",
       "       1., 1., 1., 1., 1., 1., 1., 1., 0., 1., 1., 0., 0., 0., 1., 1., 0.,\n",
       "       1., 0., 0., 0., 1., 0., 1., 0., 1., 0., 1., 1., 0., 0., 1., 1., 1.,\n",
       "       1., 1., 0., 0., 1., 1., 1., 0., 1., 1., 0., 1., 1., 1., 0., 0., 1.,\n",
       "       1., 1., 1., 1., 1., 1., 1., 0., 1., 1., 1., 1., 1., 1., 1., 1., 1.,\n",
       "       1., 0., 0., 1., 0., 1., 1., 1., 1., 1., 1., 1., 1., 1., 1., 1., 1.,\n",
       "       1., 0., 0., 1., 0., 1., 1., 1., 0., 1., 1., 0., 0., 1., 0., 1., 1.,\n",
       "       0., 1., 1., 0., 0., 1., 1., 0., 1., 1., 0., 1., 1., 1., 1., 1., 1.,\n",
       "       1., 1., 0., 0., 1., 0., 1., 0., 0., 0., 1., 0., 1., 1., 1., 1., 1.,\n",
       "       0., 0., 1., 0., 0., 1., 1., 1., 1., 1., 0., 0., 1., 0., 1., 1., 1.,\n",
       "       0., 1., 0., 0., 1., 1., 1., 1., 1., 1., 0., 1., 1., 1., 1., 1., 0.,\n",
       "       1., 1., 1., 1., 1., 1., 1., 1., 0., 1., 1., 1., 0., 1., 0., 1., 0.,\n",
       "       1., 1., 1., 1., 0., 1., 0., 1., 1., 1., 1., 1., 1., 1., 1., 1., 1.,\n",
       "       1., 0., 1., 1., 1., 1., 1., 1., 0., 1., 1., 1., 1., 0., 1., 1., 1.,\n",
       "       1., 1., 0., 1., 1., 1., 1., 1., 0., 0., 1., 1., 1., 1., 1., 0., 1.,\n",
       "       0., 1., 1., 1., 1., 1., 0., 1., 1., 1., 1., 1., 0., 1., 1., 0., 1.,\n",
       "       0., 1., 0., 1., 1., 1., 1., 1., 1., 1., 0., 1., 0., 1., 1., 1., 0.,\n",
       "       1., 1., 0., 0., 1., 1., 0., 0., 1., 1., 1., 1., 1., 0., 1., 1., 0.,\n",
       "       1., 0., 1., 1., 1., 1., 0., 0., 1., 1., 1., 1., 0., 0., 1., 0., 1.,\n",
       "       1., 0., 1., 0., 1., 1., 1., 0., 0., 1., 1., 1., 1., 1., 1., 1., 0.,\n",
       "       0., 1., 1., 1.])"
      ]
     },
     "execution_count": 87,
     "metadata": {},
     "output_type": "execute_result"
    }
   ],
   "source": [
    "y_predicted = knnModel.predict(X_test_df_pair)\n",
    "y_predicted"
   ]
  },
  {
   "cell_type": "code",
   "execution_count": 88,
   "id": "6a89f987",
   "metadata": {},
   "outputs": [
    {
     "name": "stdout",
     "output_type": "stream",
     "text": [
      "Test accuracy with best k value: 67.71%\n",
      "              precision    recall  f1-score   support\n",
      "\n",
      "         0.0       0.64      0.50      0.56      1165\n",
      "         1.0       0.69      0.80      0.75      1659\n",
      "\n",
      "    accuracy                           0.68      2824\n",
      "   macro avg       0.67      0.65      0.65      2824\n",
      "weighted avg       0.67      0.68      0.67      2824\n",
      "\n"
     ]
    }
   ],
   "source": [
    "classes = [\"0\", \"1\"]\n",
    "print(\"Test accuracy with best k value: {:.2f}%\".format(accuracy_score(y_df_pair, predictions) * 100))\n",
    "print(classification_report(y_df_pair, predictions))\n",
    "\n",
    "num_correct = np.sum(y_test_df_pair==y_predicted)\n",
    "accuracy = num_correct/len(y_test_df_pair)"
   ]
  },
  {
   "cell_type": "markdown",
   "id": "f4e0dd18-1943-49d9-a19c-57d52119d1b7",
   "metadata": {},
   "source": [
    "-----"
   ]
  },
  {
   "cell_type": "markdown",
   "id": "f835f6c0-c4d5-479b-9ab7-56a93bca4f70",
   "metadata": {},
   "source": [
    "Test accuracy with best k value for the regular dataframe: 62.61%<br>\n",
    "Test accuracy with best k value for the paired dataframe: 67.71%"
   ]
  },
  {
   "cell_type": "markdown",
   "id": "27642dde-86d4-4480-927c-d883b6ad75a9",
   "metadata": {},
   "source": [
    "## Binomial classification"
   ]
  },
  {
   "cell_type": "code",
   "execution_count": 89,
   "id": "e4650f68",
   "metadata": {
    "tags": []
   },
   "outputs": [],
   "source": [
    "from sklearn.linear_model import SGDClassifier\n",
    "from sklearn.model_selection import GridSearchCV"
   ]
  },
  {
   "cell_type": "code",
   "execution_count": 90,
   "id": "d324f560-5fe4-46e3-97fd-79a9fd3ad95c",
   "metadata": {},
   "outputs": [],
   "source": [
    "# Hyperparemeters\n",
    "param_grid = {\n",
    "    'loss': ['log_loss'],\n",
    "    'alpha': [0.0001, 0.001, 0.01, 0.1],\n",
    "    'penalty': ['l2', 'l1', 'elasticnet'],\n",
    "    'learning_rate': ['constant', 'optimal', 'invscaling', 'adaptive'],\n",
    "    'eta0': [0.01, 0.1, 0.5],\n",
    "    'max_iter': [200, 300, 400],\n",
    "}"
   ]
  },
  {
   "cell_type": "code",
   "execution_count": 91,
   "id": "40855e08-db24-418a-8c7a-e8ef4f139180",
   "metadata": {
    "tags": []
   },
   "outputs": [],
   "source": [
    "# Search for the best hyperparemeters\n",
    "sgd_classifier = SGDClassifier(random_state=42)\n",
    "grid_search = GridSearchCV(estimator=sgd_classifier, param_grid=param_grid, scoring='accuracy', cv=5)\n",
    "grid_search.fit(X_train_df, y_train_df)\n",
    "best_params = grid_search.best_params_"
   ]
  },
  {
   "cell_type": "code",
   "execution_count": 92,
   "id": "8f44a810-3171-41a8-8660-b5bf59901ba9",
   "metadata": {
    "collapsed": true,
    "jupyter": {
     "outputs_hidden": true
    },
    "tags": []
   },
   "outputs": [
    {
     "name": "stdout",
     "output_type": "stream",
     "text": [
      "Validation accuracy for hyperparameters {'alpha': 0.0001, 'eta0': 0.01, 'learning_rate': 'constant', 'loss': 'log_loss', 'max_iter': 200, 'penalty': 'l2'}: 52.19%\n",
      "Validation accuracy for hyperparameters {'alpha': 0.0001, 'eta0': 0.01, 'learning_rate': 'constant', 'loss': 'log_loss', 'max_iter': 200, 'penalty': 'l1'}: 50.36%\n",
      "Validation accuracy for hyperparameters {'alpha': 0.0001, 'eta0': 0.01, 'learning_rate': 'constant', 'loss': 'log_loss', 'max_iter': 200, 'penalty': 'elasticnet'}: 50.24%\n",
      "Validation accuracy for hyperparameters {'alpha': 0.0001, 'eta0': 0.01, 'learning_rate': 'constant', 'loss': 'log_loss', 'max_iter': 300, 'penalty': 'l2'}: 52.19%\n",
      "Validation accuracy for hyperparameters {'alpha': 0.0001, 'eta0': 0.01, 'learning_rate': 'constant', 'loss': 'log_loss', 'max_iter': 300, 'penalty': 'l1'}: 50.36%\n",
      "Validation accuracy for hyperparameters {'alpha': 0.0001, 'eta0': 0.01, 'learning_rate': 'constant', 'loss': 'log_loss', 'max_iter': 300, 'penalty': 'elasticnet'}: 50.24%\n",
      "Validation accuracy for hyperparameters {'alpha': 0.0001, 'eta0': 0.01, 'learning_rate': 'constant', 'loss': 'log_loss', 'max_iter': 400, 'penalty': 'l2'}: 52.19%\n",
      "Validation accuracy for hyperparameters {'alpha': 0.0001, 'eta0': 0.01, 'learning_rate': 'constant', 'loss': 'log_loss', 'max_iter': 400, 'penalty': 'l1'}: 50.36%\n",
      "Validation accuracy for hyperparameters {'alpha': 0.0001, 'eta0': 0.01, 'learning_rate': 'constant', 'loss': 'log_loss', 'max_iter': 400, 'penalty': 'elasticnet'}: 50.24%\n",
      "Validation accuracy for hyperparameters {'alpha': 0.0001, 'eta0': 0.01, 'learning_rate': 'optimal', 'loss': 'log_loss', 'max_iter': 200, 'penalty': 'l2'}: 53.55%\n",
      "Validation accuracy for hyperparameters {'alpha': 0.0001, 'eta0': 0.01, 'learning_rate': 'optimal', 'loss': 'log_loss', 'max_iter': 200, 'penalty': 'l1'}: 57.38%\n",
      "Validation accuracy for hyperparameters {'alpha': 0.0001, 'eta0': 0.01, 'learning_rate': 'optimal', 'loss': 'log_loss', 'max_iter': 200, 'penalty': 'elasticnet'}: 55.20%\n",
      "Validation accuracy for hyperparameters {'alpha': 0.0001, 'eta0': 0.01, 'learning_rate': 'optimal', 'loss': 'log_loss', 'max_iter': 300, 'penalty': 'l2'}: 53.55%\n",
      "Validation accuracy for hyperparameters {'alpha': 0.0001, 'eta0': 0.01, 'learning_rate': 'optimal', 'loss': 'log_loss', 'max_iter': 300, 'penalty': 'l1'}: 57.38%\n",
      "Validation accuracy for hyperparameters {'alpha': 0.0001, 'eta0': 0.01, 'learning_rate': 'optimal', 'loss': 'log_loss', 'max_iter': 300, 'penalty': 'elasticnet'}: 55.20%\n",
      "Validation accuracy for hyperparameters {'alpha': 0.0001, 'eta0': 0.01, 'learning_rate': 'optimal', 'loss': 'log_loss', 'max_iter': 400, 'penalty': 'l2'}: 53.55%\n",
      "Validation accuracy for hyperparameters {'alpha': 0.0001, 'eta0': 0.01, 'learning_rate': 'optimal', 'loss': 'log_loss', 'max_iter': 400, 'penalty': 'l1'}: 57.38%\n",
      "Validation accuracy for hyperparameters {'alpha': 0.0001, 'eta0': 0.01, 'learning_rate': 'optimal', 'loss': 'log_loss', 'max_iter': 400, 'penalty': 'elasticnet'}: 55.20%\n",
      "Validation accuracy for hyperparameters {'alpha': 0.0001, 'eta0': 0.01, 'learning_rate': 'invscaling', 'loss': 'log_loss', 'max_iter': 200, 'penalty': 'l2'}: 58.32%\n",
      "Validation accuracy for hyperparameters {'alpha': 0.0001, 'eta0': 0.01, 'learning_rate': 'invscaling', 'loss': 'log_loss', 'max_iter': 200, 'penalty': 'l1'}: 58.44%\n",
      "Validation accuracy for hyperparameters {'alpha': 0.0001, 'eta0': 0.01, 'learning_rate': 'invscaling', 'loss': 'log_loss', 'max_iter': 200, 'penalty': 'elasticnet'}: 58.32%\n",
      "Validation accuracy for hyperparameters {'alpha': 0.0001, 'eta0': 0.01, 'learning_rate': 'invscaling', 'loss': 'log_loss', 'max_iter': 300, 'penalty': 'l2'}: 58.32%\n",
      "Validation accuracy for hyperparameters {'alpha': 0.0001, 'eta0': 0.01, 'learning_rate': 'invscaling', 'loss': 'log_loss', 'max_iter': 300, 'penalty': 'l1'}: 58.44%\n",
      "Validation accuracy for hyperparameters {'alpha': 0.0001, 'eta0': 0.01, 'learning_rate': 'invscaling', 'loss': 'log_loss', 'max_iter': 300, 'penalty': 'elasticnet'}: 58.32%\n",
      "Validation accuracy for hyperparameters {'alpha': 0.0001, 'eta0': 0.01, 'learning_rate': 'invscaling', 'loss': 'log_loss', 'max_iter': 400, 'penalty': 'l2'}: 58.32%\n",
      "Validation accuracy for hyperparameters {'alpha': 0.0001, 'eta0': 0.01, 'learning_rate': 'invscaling', 'loss': 'log_loss', 'max_iter': 400, 'penalty': 'l1'}: 58.44%\n",
      "Validation accuracy for hyperparameters {'alpha': 0.0001, 'eta0': 0.01, 'learning_rate': 'invscaling', 'loss': 'log_loss', 'max_iter': 400, 'penalty': 'elasticnet'}: 58.32%\n",
      "Validation accuracy for hyperparameters {'alpha': 0.0001, 'eta0': 0.01, 'learning_rate': 'adaptive', 'loss': 'log_loss', 'max_iter': 200, 'penalty': 'l2'}: 71.60%\n",
      "Validation accuracy for hyperparameters {'alpha': 0.0001, 'eta0': 0.01, 'learning_rate': 'adaptive', 'loss': 'log_loss', 'max_iter': 200, 'penalty': 'l1'}: 70.42%\n",
      "Validation accuracy for hyperparameters {'alpha': 0.0001, 'eta0': 0.01, 'learning_rate': 'adaptive', 'loss': 'log_loss', 'max_iter': 200, 'penalty': 'elasticnet'}: 69.66%\n",
      "Validation accuracy for hyperparameters {'alpha': 0.0001, 'eta0': 0.01, 'learning_rate': 'adaptive', 'loss': 'log_loss', 'max_iter': 300, 'penalty': 'l2'}: 71.60%\n",
      "Validation accuracy for hyperparameters {'alpha': 0.0001, 'eta0': 0.01, 'learning_rate': 'adaptive', 'loss': 'log_loss', 'max_iter': 300, 'penalty': 'l1'}: 70.42%\n",
      "Validation accuracy for hyperparameters {'alpha': 0.0001, 'eta0': 0.01, 'learning_rate': 'adaptive', 'loss': 'log_loss', 'max_iter': 300, 'penalty': 'elasticnet'}: 69.66%\n",
      "Validation accuracy for hyperparameters {'alpha': 0.0001, 'eta0': 0.01, 'learning_rate': 'adaptive', 'loss': 'log_loss', 'max_iter': 400, 'penalty': 'l2'}: 71.60%\n",
      "Validation accuracy for hyperparameters {'alpha': 0.0001, 'eta0': 0.01, 'learning_rate': 'adaptive', 'loss': 'log_loss', 'max_iter': 400, 'penalty': 'l1'}: 70.42%\n",
      "Validation accuracy for hyperparameters {'alpha': 0.0001, 'eta0': 0.01, 'learning_rate': 'adaptive', 'loss': 'log_loss', 'max_iter': 400, 'penalty': 'elasticnet'}: 69.66%\n",
      "Validation accuracy for hyperparameters {'alpha': 0.0001, 'eta0': 0.1, 'learning_rate': 'constant', 'loss': 'log_loss', 'max_iter': 200, 'penalty': 'l2'}: 52.96%\n",
      "Validation accuracy for hyperparameters {'alpha': 0.0001, 'eta0': 0.1, 'learning_rate': 'constant', 'loss': 'log_loss', 'max_iter': 200, 'penalty': 'l1'}: 53.31%\n",
      "Validation accuracy for hyperparameters {'alpha': 0.0001, 'eta0': 0.1, 'learning_rate': 'constant', 'loss': 'log_loss', 'max_iter': 200, 'penalty': 'elasticnet'}: 51.83%\n",
      "Validation accuracy for hyperparameters {'alpha': 0.0001, 'eta0': 0.1, 'learning_rate': 'constant', 'loss': 'log_loss', 'max_iter': 300, 'penalty': 'l2'}: 52.96%\n",
      "Validation accuracy for hyperparameters {'alpha': 0.0001, 'eta0': 0.1, 'learning_rate': 'constant', 'loss': 'log_loss', 'max_iter': 300, 'penalty': 'l1'}: 53.31%\n",
      "Validation accuracy for hyperparameters {'alpha': 0.0001, 'eta0': 0.1, 'learning_rate': 'constant', 'loss': 'log_loss', 'max_iter': 300, 'penalty': 'elasticnet'}: 51.83%\n",
      "Validation accuracy for hyperparameters {'alpha': 0.0001, 'eta0': 0.1, 'learning_rate': 'constant', 'loss': 'log_loss', 'max_iter': 400, 'penalty': 'l2'}: 52.96%\n",
      "Validation accuracy for hyperparameters {'alpha': 0.0001, 'eta0': 0.1, 'learning_rate': 'constant', 'loss': 'log_loss', 'max_iter': 400, 'penalty': 'l1'}: 53.31%\n",
      "Validation accuracy for hyperparameters {'alpha': 0.0001, 'eta0': 0.1, 'learning_rate': 'constant', 'loss': 'log_loss', 'max_iter': 400, 'penalty': 'elasticnet'}: 51.83%\n",
      "Validation accuracy for hyperparameters {'alpha': 0.0001, 'eta0': 0.1, 'learning_rate': 'optimal', 'loss': 'log_loss', 'max_iter': 200, 'penalty': 'l2'}: 53.55%\n",
      "Validation accuracy for hyperparameters {'alpha': 0.0001, 'eta0': 0.1, 'learning_rate': 'optimal', 'loss': 'log_loss', 'max_iter': 200, 'penalty': 'l1'}: 57.38%\n",
      "Validation accuracy for hyperparameters {'alpha': 0.0001, 'eta0': 0.1, 'learning_rate': 'optimal', 'loss': 'log_loss', 'max_iter': 200, 'penalty': 'elasticnet'}: 55.20%\n",
      "Validation accuracy for hyperparameters {'alpha': 0.0001, 'eta0': 0.1, 'learning_rate': 'optimal', 'loss': 'log_loss', 'max_iter': 300, 'penalty': 'l2'}: 53.55%\n",
      "Validation accuracy for hyperparameters {'alpha': 0.0001, 'eta0': 0.1, 'learning_rate': 'optimal', 'loss': 'log_loss', 'max_iter': 300, 'penalty': 'l1'}: 57.38%\n",
      "Validation accuracy for hyperparameters {'alpha': 0.0001, 'eta0': 0.1, 'learning_rate': 'optimal', 'loss': 'log_loss', 'max_iter': 300, 'penalty': 'elasticnet'}: 55.20%\n",
      "Validation accuracy for hyperparameters {'alpha': 0.0001, 'eta0': 0.1, 'learning_rate': 'optimal', 'loss': 'log_loss', 'max_iter': 400, 'penalty': 'l2'}: 53.55%\n",
      "Validation accuracy for hyperparameters {'alpha': 0.0001, 'eta0': 0.1, 'learning_rate': 'optimal', 'loss': 'log_loss', 'max_iter': 400, 'penalty': 'l1'}: 57.38%\n",
      "Validation accuracy for hyperparameters {'alpha': 0.0001, 'eta0': 0.1, 'learning_rate': 'optimal', 'loss': 'log_loss', 'max_iter': 400, 'penalty': 'elasticnet'}: 55.20%\n",
      "Validation accuracy for hyperparameters {'alpha': 0.0001, 'eta0': 0.1, 'learning_rate': 'invscaling', 'loss': 'log_loss', 'max_iter': 200, 'penalty': 'l2'}: 52.13%\n",
      "Validation accuracy for hyperparameters {'alpha': 0.0001, 'eta0': 0.1, 'learning_rate': 'invscaling', 'loss': 'log_loss', 'max_iter': 200, 'penalty': 'l1'}: 55.55%\n",
      "Validation accuracy for hyperparameters {'alpha': 0.0001, 'eta0': 0.1, 'learning_rate': 'invscaling', 'loss': 'log_loss', 'max_iter': 200, 'penalty': 'elasticnet'}: 52.13%\n",
      "Validation accuracy for hyperparameters {'alpha': 0.0001, 'eta0': 0.1, 'learning_rate': 'invscaling', 'loss': 'log_loss', 'max_iter': 300, 'penalty': 'l2'}: 52.13%\n",
      "Validation accuracy for hyperparameters {'alpha': 0.0001, 'eta0': 0.1, 'learning_rate': 'invscaling', 'loss': 'log_loss', 'max_iter': 300, 'penalty': 'l1'}: 55.55%\n",
      "Validation accuracy for hyperparameters {'alpha': 0.0001, 'eta0': 0.1, 'learning_rate': 'invscaling', 'loss': 'log_loss', 'max_iter': 300, 'penalty': 'elasticnet'}: 52.13%\n",
      "Validation accuracy for hyperparameters {'alpha': 0.0001, 'eta0': 0.1, 'learning_rate': 'invscaling', 'loss': 'log_loss', 'max_iter': 400, 'penalty': 'l2'}: 52.13%\n",
      "Validation accuracy for hyperparameters {'alpha': 0.0001, 'eta0': 0.1, 'learning_rate': 'invscaling', 'loss': 'log_loss', 'max_iter': 400, 'penalty': 'l1'}: 55.55%\n",
      "Validation accuracy for hyperparameters {'alpha': 0.0001, 'eta0': 0.1, 'learning_rate': 'invscaling', 'loss': 'log_loss', 'max_iter': 400, 'penalty': 'elasticnet'}: 52.13%\n",
      "Validation accuracy for hyperparameters {'alpha': 0.0001, 'eta0': 0.1, 'learning_rate': 'adaptive', 'loss': 'log_loss', 'max_iter': 200, 'penalty': 'l2'}: 72.49%\n",
      "Validation accuracy for hyperparameters {'alpha': 0.0001, 'eta0': 0.1, 'learning_rate': 'adaptive', 'loss': 'log_loss', 'max_iter': 200, 'penalty': 'l1'}: 72.78%\n",
      "Validation accuracy for hyperparameters {'alpha': 0.0001, 'eta0': 0.1, 'learning_rate': 'adaptive', 'loss': 'log_loss', 'max_iter': 200, 'penalty': 'elasticnet'}: 72.61%\n",
      "Validation accuracy for hyperparameters {'alpha': 0.0001, 'eta0': 0.1, 'learning_rate': 'adaptive', 'loss': 'log_loss', 'max_iter': 300, 'penalty': 'l2'}: 72.49%\n",
      "Validation accuracy for hyperparameters {'alpha': 0.0001, 'eta0': 0.1, 'learning_rate': 'adaptive', 'loss': 'log_loss', 'max_iter': 300, 'penalty': 'l1'}: 72.78%\n",
      "Validation accuracy for hyperparameters {'alpha': 0.0001, 'eta0': 0.1, 'learning_rate': 'adaptive', 'loss': 'log_loss', 'max_iter': 300, 'penalty': 'elasticnet'}: 72.61%\n",
      "Validation accuracy for hyperparameters {'alpha': 0.0001, 'eta0': 0.1, 'learning_rate': 'adaptive', 'loss': 'log_loss', 'max_iter': 400, 'penalty': 'l2'}: 72.49%\n",
      "Validation accuracy for hyperparameters {'alpha': 0.0001, 'eta0': 0.1, 'learning_rate': 'adaptive', 'loss': 'log_loss', 'max_iter': 400, 'penalty': 'l1'}: 72.78%\n",
      "Validation accuracy for hyperparameters {'alpha': 0.0001, 'eta0': 0.1, 'learning_rate': 'adaptive', 'loss': 'log_loss', 'max_iter': 400, 'penalty': 'elasticnet'}: 72.61%\n",
      "Validation accuracy for hyperparameters {'alpha': 0.0001, 'eta0': 0.5, 'learning_rate': 'constant', 'loss': 'log_loss', 'max_iter': 200, 'penalty': 'l2'}: 48.88%\n",
      "Validation accuracy for hyperparameters {'alpha': 0.0001, 'eta0': 0.5, 'learning_rate': 'constant', 'loss': 'log_loss', 'max_iter': 200, 'penalty': 'l1'}: 50.06%\n",
      "Validation accuracy for hyperparameters {'alpha': 0.0001, 'eta0': 0.5, 'learning_rate': 'constant', 'loss': 'log_loss', 'max_iter': 200, 'penalty': 'elasticnet'}: 49.89%\n",
      "Validation accuracy for hyperparameters {'alpha': 0.0001, 'eta0': 0.5, 'learning_rate': 'constant', 'loss': 'log_loss', 'max_iter': 300, 'penalty': 'l2'}: 48.88%\n",
      "Validation accuracy for hyperparameters {'alpha': 0.0001, 'eta0': 0.5, 'learning_rate': 'constant', 'loss': 'log_loss', 'max_iter': 300, 'penalty': 'l1'}: 50.06%\n",
      "Validation accuracy for hyperparameters {'alpha': 0.0001, 'eta0': 0.5, 'learning_rate': 'constant', 'loss': 'log_loss', 'max_iter': 300, 'penalty': 'elasticnet'}: 49.89%\n",
      "Validation accuracy for hyperparameters {'alpha': 0.0001, 'eta0': 0.5, 'learning_rate': 'constant', 'loss': 'log_loss', 'max_iter': 400, 'penalty': 'l2'}: 48.88%\n",
      "Validation accuracy for hyperparameters {'alpha': 0.0001, 'eta0': 0.5, 'learning_rate': 'constant', 'loss': 'log_loss', 'max_iter': 400, 'penalty': 'l1'}: 50.06%\n",
      "Validation accuracy for hyperparameters {'alpha': 0.0001, 'eta0': 0.5, 'learning_rate': 'constant', 'loss': 'log_loss', 'max_iter': 400, 'penalty': 'elasticnet'}: 49.89%\n",
      "Validation accuracy for hyperparameters {'alpha': 0.0001, 'eta0': 0.5, 'learning_rate': 'optimal', 'loss': 'log_loss', 'max_iter': 200, 'penalty': 'l2'}: 53.55%\n",
      "Validation accuracy for hyperparameters {'alpha': 0.0001, 'eta0': 0.5, 'learning_rate': 'optimal', 'loss': 'log_loss', 'max_iter': 200, 'penalty': 'l1'}: 57.38%\n",
      "Validation accuracy for hyperparameters {'alpha': 0.0001, 'eta0': 0.5, 'learning_rate': 'optimal', 'loss': 'log_loss', 'max_iter': 200, 'penalty': 'elasticnet'}: 55.20%\n",
      "Validation accuracy for hyperparameters {'alpha': 0.0001, 'eta0': 0.5, 'learning_rate': 'optimal', 'loss': 'log_loss', 'max_iter': 300, 'penalty': 'l2'}: 53.55%\n",
      "Validation accuracy for hyperparameters {'alpha': 0.0001, 'eta0': 0.5, 'learning_rate': 'optimal', 'loss': 'log_loss', 'max_iter': 300, 'penalty': 'l1'}: 57.38%\n",
      "Validation accuracy for hyperparameters {'alpha': 0.0001, 'eta0': 0.5, 'learning_rate': 'optimal', 'loss': 'log_loss', 'max_iter': 300, 'penalty': 'elasticnet'}: 55.20%\n",
      "Validation accuracy for hyperparameters {'alpha': 0.0001, 'eta0': 0.5, 'learning_rate': 'optimal', 'loss': 'log_loss', 'max_iter': 400, 'penalty': 'l2'}: 53.55%\n",
      "Validation accuracy for hyperparameters {'alpha': 0.0001, 'eta0': 0.5, 'learning_rate': 'optimal', 'loss': 'log_loss', 'max_iter': 400, 'penalty': 'l1'}: 57.38%\n",
      "Validation accuracy for hyperparameters {'alpha': 0.0001, 'eta0': 0.5, 'learning_rate': 'optimal', 'loss': 'log_loss', 'max_iter': 400, 'penalty': 'elasticnet'}: 55.20%\n",
      "Validation accuracy for hyperparameters {'alpha': 0.0001, 'eta0': 0.5, 'learning_rate': 'invscaling', 'loss': 'log_loss', 'max_iter': 200, 'penalty': 'l2'}: 48.40%\n",
      "Validation accuracy for hyperparameters {'alpha': 0.0001, 'eta0': 0.5, 'learning_rate': 'invscaling', 'loss': 'log_loss', 'max_iter': 200, 'penalty': 'l1'}: 58.03%\n",
      "Validation accuracy for hyperparameters {'alpha': 0.0001, 'eta0': 0.5, 'learning_rate': 'invscaling', 'loss': 'log_loss', 'max_iter': 200, 'penalty': 'elasticnet'}: 54.54%\n",
      "Validation accuracy for hyperparameters {'alpha': 0.0001, 'eta0': 0.5, 'learning_rate': 'invscaling', 'loss': 'log_loss', 'max_iter': 300, 'penalty': 'l2'}: 48.40%\n",
      "Validation accuracy for hyperparameters {'alpha': 0.0001, 'eta0': 0.5, 'learning_rate': 'invscaling', 'loss': 'log_loss', 'max_iter': 300, 'penalty': 'l1'}: 58.03%\n",
      "Validation accuracy for hyperparameters {'alpha': 0.0001, 'eta0': 0.5, 'learning_rate': 'invscaling', 'loss': 'log_loss', 'max_iter': 300, 'penalty': 'elasticnet'}: 54.54%\n",
      "Validation accuracy for hyperparameters {'alpha': 0.0001, 'eta0': 0.5, 'learning_rate': 'invscaling', 'loss': 'log_loss', 'max_iter': 400, 'penalty': 'l2'}: 48.40%\n",
      "Validation accuracy for hyperparameters {'alpha': 0.0001, 'eta0': 0.5, 'learning_rate': 'invscaling', 'loss': 'log_loss', 'max_iter': 400, 'penalty': 'l1'}: 58.03%\n",
      "Validation accuracy for hyperparameters {'alpha': 0.0001, 'eta0': 0.5, 'learning_rate': 'invscaling', 'loss': 'log_loss', 'max_iter': 400, 'penalty': 'elasticnet'}: 54.54%\n",
      "Validation accuracy for hyperparameters {'alpha': 0.0001, 'eta0': 0.5, 'learning_rate': 'adaptive', 'loss': 'log_loss', 'max_iter': 200, 'penalty': 'l2'}: 73.14%\n",
      "Validation accuracy for hyperparameters {'alpha': 0.0001, 'eta0': 0.5, 'learning_rate': 'adaptive', 'loss': 'log_loss', 'max_iter': 200, 'penalty': 'l1'}: 73.67%\n",
      "Validation accuracy for hyperparameters {'alpha': 0.0001, 'eta0': 0.5, 'learning_rate': 'adaptive', 'loss': 'log_loss', 'max_iter': 200, 'penalty': 'elasticnet'}: 72.55%\n",
      "Validation accuracy for hyperparameters {'alpha': 0.0001, 'eta0': 0.5, 'learning_rate': 'adaptive', 'loss': 'log_loss', 'max_iter': 300, 'penalty': 'l2'}: 73.14%\n",
      "Validation accuracy for hyperparameters {'alpha': 0.0001, 'eta0': 0.5, 'learning_rate': 'adaptive', 'loss': 'log_loss', 'max_iter': 300, 'penalty': 'l1'}: 73.67%\n",
      "Validation accuracy for hyperparameters {'alpha': 0.0001, 'eta0': 0.5, 'learning_rate': 'adaptive', 'loss': 'log_loss', 'max_iter': 300, 'penalty': 'elasticnet'}: 72.55%\n",
      "Validation accuracy for hyperparameters {'alpha': 0.0001, 'eta0': 0.5, 'learning_rate': 'adaptive', 'loss': 'log_loss', 'max_iter': 400, 'penalty': 'l2'}: 73.14%\n",
      "Validation accuracy for hyperparameters {'alpha': 0.0001, 'eta0': 0.5, 'learning_rate': 'adaptive', 'loss': 'log_loss', 'max_iter': 400, 'penalty': 'l1'}: 73.67%\n",
      "Validation accuracy for hyperparameters {'alpha': 0.0001, 'eta0': 0.5, 'learning_rate': 'adaptive', 'loss': 'log_loss', 'max_iter': 400, 'penalty': 'elasticnet'}: 72.55%\n",
      "Validation accuracy for hyperparameters {'alpha': 0.001, 'eta0': 0.01, 'learning_rate': 'constant', 'loss': 'log_loss', 'max_iter': 200, 'penalty': 'l2'}: 50.12%\n",
      "Validation accuracy for hyperparameters {'alpha': 0.001, 'eta0': 0.01, 'learning_rate': 'constant', 'loss': 'log_loss', 'max_iter': 200, 'penalty': 'l1'}: 55.90%\n",
      "Validation accuracy for hyperparameters {'alpha': 0.001, 'eta0': 0.01, 'learning_rate': 'constant', 'loss': 'log_loss', 'max_iter': 200, 'penalty': 'elasticnet'}: 49.71%\n",
      "Validation accuracy for hyperparameters {'alpha': 0.001, 'eta0': 0.01, 'learning_rate': 'constant', 'loss': 'log_loss', 'max_iter': 300, 'penalty': 'l2'}: 50.12%\n",
      "Validation accuracy for hyperparameters {'alpha': 0.001, 'eta0': 0.01, 'learning_rate': 'constant', 'loss': 'log_loss', 'max_iter': 300, 'penalty': 'l1'}: 55.90%\n",
      "Validation accuracy for hyperparameters {'alpha': 0.001, 'eta0': 0.01, 'learning_rate': 'constant', 'loss': 'log_loss', 'max_iter': 300, 'penalty': 'elasticnet'}: 49.71%\n",
      "Validation accuracy for hyperparameters {'alpha': 0.001, 'eta0': 0.01, 'learning_rate': 'constant', 'loss': 'log_loss', 'max_iter': 400, 'penalty': 'l2'}: 50.12%\n",
      "Validation accuracy for hyperparameters {'alpha': 0.001, 'eta0': 0.01, 'learning_rate': 'constant', 'loss': 'log_loss', 'max_iter': 400, 'penalty': 'l1'}: 55.90%\n",
      "Validation accuracy for hyperparameters {'alpha': 0.001, 'eta0': 0.01, 'learning_rate': 'constant', 'loss': 'log_loss', 'max_iter': 400, 'penalty': 'elasticnet'}: 49.71%\n",
      "Validation accuracy for hyperparameters {'alpha': 0.001, 'eta0': 0.01, 'learning_rate': 'optimal', 'loss': 'log_loss', 'max_iter': 200, 'penalty': 'l2'}: 55.14%\n",
      "Validation accuracy for hyperparameters {'alpha': 0.001, 'eta0': 0.01, 'learning_rate': 'optimal', 'loss': 'log_loss', 'max_iter': 200, 'penalty': 'l1'}: 64.46%\n",
      "Validation accuracy for hyperparameters {'alpha': 0.001, 'eta0': 0.01, 'learning_rate': 'optimal', 'loss': 'log_loss', 'max_iter': 200, 'penalty': 'elasticnet'}: 63.17%\n",
      "Validation accuracy for hyperparameters {'alpha': 0.001, 'eta0': 0.01, 'learning_rate': 'optimal', 'loss': 'log_loss', 'max_iter': 300, 'penalty': 'l2'}: 55.14%\n",
      "Validation accuracy for hyperparameters {'alpha': 0.001, 'eta0': 0.01, 'learning_rate': 'optimal', 'loss': 'log_loss', 'max_iter': 300, 'penalty': 'l1'}: 64.46%\n",
      "Validation accuracy for hyperparameters {'alpha': 0.001, 'eta0': 0.01, 'learning_rate': 'optimal', 'loss': 'log_loss', 'max_iter': 300, 'penalty': 'elasticnet'}: 63.17%\n",
      "Validation accuracy for hyperparameters {'alpha': 0.001, 'eta0': 0.01, 'learning_rate': 'optimal', 'loss': 'log_loss', 'max_iter': 400, 'penalty': 'l2'}: 55.14%\n",
      "Validation accuracy for hyperparameters {'alpha': 0.001, 'eta0': 0.01, 'learning_rate': 'optimal', 'loss': 'log_loss', 'max_iter': 400, 'penalty': 'l1'}: 64.46%\n",
      "Validation accuracy for hyperparameters {'alpha': 0.001, 'eta0': 0.01, 'learning_rate': 'optimal', 'loss': 'log_loss', 'max_iter': 400, 'penalty': 'elasticnet'}: 63.17%\n",
      "Validation accuracy for hyperparameters {'alpha': 0.001, 'eta0': 0.01, 'learning_rate': 'invscaling', 'loss': 'log_loss', 'max_iter': 200, 'penalty': 'l2'}: 58.32%\n",
      "Validation accuracy for hyperparameters {'alpha': 0.001, 'eta0': 0.01, 'learning_rate': 'invscaling', 'loss': 'log_loss', 'max_iter': 200, 'penalty': 'l1'}: 58.21%\n",
      "Validation accuracy for hyperparameters {'alpha': 0.001, 'eta0': 0.01, 'learning_rate': 'invscaling', 'loss': 'log_loss', 'max_iter': 200, 'penalty': 'elasticnet'}: 58.44%\n",
      "Validation accuracy for hyperparameters {'alpha': 0.001, 'eta0': 0.01, 'learning_rate': 'invscaling', 'loss': 'log_loss', 'max_iter': 300, 'penalty': 'l2'}: 58.32%\n",
      "Validation accuracy for hyperparameters {'alpha': 0.001, 'eta0': 0.01, 'learning_rate': 'invscaling', 'loss': 'log_loss', 'max_iter': 300, 'penalty': 'l1'}: 58.21%\n",
      "Validation accuracy for hyperparameters {'alpha': 0.001, 'eta0': 0.01, 'learning_rate': 'invscaling', 'loss': 'log_loss', 'max_iter': 300, 'penalty': 'elasticnet'}: 58.44%\n",
      "Validation accuracy for hyperparameters {'alpha': 0.001, 'eta0': 0.01, 'learning_rate': 'invscaling', 'loss': 'log_loss', 'max_iter': 400, 'penalty': 'l2'}: 58.32%\n",
      "Validation accuracy for hyperparameters {'alpha': 0.001, 'eta0': 0.01, 'learning_rate': 'invscaling', 'loss': 'log_loss', 'max_iter': 400, 'penalty': 'l1'}: 58.21%\n",
      "Validation accuracy for hyperparameters {'alpha': 0.001, 'eta0': 0.01, 'learning_rate': 'invscaling', 'loss': 'log_loss', 'max_iter': 400, 'penalty': 'elasticnet'}: 58.44%\n",
      "Validation accuracy for hyperparameters {'alpha': 0.001, 'eta0': 0.01, 'learning_rate': 'adaptive', 'loss': 'log_loss', 'max_iter': 200, 'penalty': 'l2'}: 70.07%\n",
      "Validation accuracy for hyperparameters {'alpha': 0.001, 'eta0': 0.01, 'learning_rate': 'adaptive', 'loss': 'log_loss', 'max_iter': 200, 'penalty': 'l1'}: 74.20%\n",
      "Validation accuracy for hyperparameters {'alpha': 0.001, 'eta0': 0.01, 'learning_rate': 'adaptive', 'loss': 'log_loss', 'max_iter': 200, 'penalty': 'elasticnet'}: 69.77%\n",
      "Validation accuracy for hyperparameters {'alpha': 0.001, 'eta0': 0.01, 'learning_rate': 'adaptive', 'loss': 'log_loss', 'max_iter': 300, 'penalty': 'l2'}: 70.07%\n",
      "Validation accuracy for hyperparameters {'alpha': 0.001, 'eta0': 0.01, 'learning_rate': 'adaptive', 'loss': 'log_loss', 'max_iter': 300, 'penalty': 'l1'}: 74.20%\n",
      "Validation accuracy for hyperparameters {'alpha': 0.001, 'eta0': 0.01, 'learning_rate': 'adaptive', 'loss': 'log_loss', 'max_iter': 300, 'penalty': 'elasticnet'}: 69.77%\n",
      "Validation accuracy for hyperparameters {'alpha': 0.001, 'eta0': 0.01, 'learning_rate': 'adaptive', 'loss': 'log_loss', 'max_iter': 400, 'penalty': 'l2'}: 70.07%\n",
      "Validation accuracy for hyperparameters {'alpha': 0.001, 'eta0': 0.01, 'learning_rate': 'adaptive', 'loss': 'log_loss', 'max_iter': 400, 'penalty': 'l1'}: 74.20%\n",
      "Validation accuracy for hyperparameters {'alpha': 0.001, 'eta0': 0.01, 'learning_rate': 'adaptive', 'loss': 'log_loss', 'max_iter': 400, 'penalty': 'elasticnet'}: 69.77%\n",
      "Validation accuracy for hyperparameters {'alpha': 0.001, 'eta0': 0.1, 'learning_rate': 'constant', 'loss': 'log_loss', 'max_iter': 200, 'penalty': 'l2'}: 49.12%\n",
      "Validation accuracy for hyperparameters {'alpha': 0.001, 'eta0': 0.1, 'learning_rate': 'constant', 'loss': 'log_loss', 'max_iter': 200, 'penalty': 'l1'}: 52.96%\n",
      "Validation accuracy for hyperparameters {'alpha': 0.001, 'eta0': 0.1, 'learning_rate': 'constant', 'loss': 'log_loss', 'max_iter': 200, 'penalty': 'elasticnet'}: 53.13%\n",
      "Validation accuracy for hyperparameters {'alpha': 0.001, 'eta0': 0.1, 'learning_rate': 'constant', 'loss': 'log_loss', 'max_iter': 300, 'penalty': 'l2'}: 49.12%\n",
      "Validation accuracy for hyperparameters {'alpha': 0.001, 'eta0': 0.1, 'learning_rate': 'constant', 'loss': 'log_loss', 'max_iter': 300, 'penalty': 'l1'}: 52.96%\n",
      "Validation accuracy for hyperparameters {'alpha': 0.001, 'eta0': 0.1, 'learning_rate': 'constant', 'loss': 'log_loss', 'max_iter': 300, 'penalty': 'elasticnet'}: 53.13%\n",
      "Validation accuracy for hyperparameters {'alpha': 0.001, 'eta0': 0.1, 'learning_rate': 'constant', 'loss': 'log_loss', 'max_iter': 400, 'penalty': 'l2'}: 49.12%\n",
      "Validation accuracy for hyperparameters {'alpha': 0.001, 'eta0': 0.1, 'learning_rate': 'constant', 'loss': 'log_loss', 'max_iter': 400, 'penalty': 'l1'}: 52.96%\n",
      "Validation accuracy for hyperparameters {'alpha': 0.001, 'eta0': 0.1, 'learning_rate': 'constant', 'loss': 'log_loss', 'max_iter': 400, 'penalty': 'elasticnet'}: 53.13%\n",
      "Validation accuracy for hyperparameters {'alpha': 0.001, 'eta0': 0.1, 'learning_rate': 'optimal', 'loss': 'log_loss', 'max_iter': 200, 'penalty': 'l2'}: 55.14%\n",
      "Validation accuracy for hyperparameters {'alpha': 0.001, 'eta0': 0.1, 'learning_rate': 'optimal', 'loss': 'log_loss', 'max_iter': 200, 'penalty': 'l1'}: 64.46%\n",
      "Validation accuracy for hyperparameters {'alpha': 0.001, 'eta0': 0.1, 'learning_rate': 'optimal', 'loss': 'log_loss', 'max_iter': 200, 'penalty': 'elasticnet'}: 63.17%\n",
      "Validation accuracy for hyperparameters {'alpha': 0.001, 'eta0': 0.1, 'learning_rate': 'optimal', 'loss': 'log_loss', 'max_iter': 300, 'penalty': 'l2'}: 55.14%\n",
      "Validation accuracy for hyperparameters {'alpha': 0.001, 'eta0': 0.1, 'learning_rate': 'optimal', 'loss': 'log_loss', 'max_iter': 300, 'penalty': 'l1'}: 64.46%\n",
      "Validation accuracy for hyperparameters {'alpha': 0.001, 'eta0': 0.1, 'learning_rate': 'optimal', 'loss': 'log_loss', 'max_iter': 300, 'penalty': 'elasticnet'}: 63.17%\n",
      "Validation accuracy for hyperparameters {'alpha': 0.001, 'eta0': 0.1, 'learning_rate': 'optimal', 'loss': 'log_loss', 'max_iter': 400, 'penalty': 'l2'}: 55.14%\n",
      "Validation accuracy for hyperparameters {'alpha': 0.001, 'eta0': 0.1, 'learning_rate': 'optimal', 'loss': 'log_loss', 'max_iter': 400, 'penalty': 'l1'}: 64.46%\n",
      "Validation accuracy for hyperparameters {'alpha': 0.001, 'eta0': 0.1, 'learning_rate': 'optimal', 'loss': 'log_loss', 'max_iter': 400, 'penalty': 'elasticnet'}: 63.17%\n",
      "Validation accuracy for hyperparameters {'alpha': 0.001, 'eta0': 0.1, 'learning_rate': 'invscaling', 'loss': 'log_loss', 'max_iter': 200, 'penalty': 'l2'}: 53.43%\n",
      "Validation accuracy for hyperparameters {'alpha': 0.001, 'eta0': 0.1, 'learning_rate': 'invscaling', 'loss': 'log_loss', 'max_iter': 200, 'penalty': 'l1'}: 57.50%\n",
      "Validation accuracy for hyperparameters {'alpha': 0.001, 'eta0': 0.1, 'learning_rate': 'invscaling', 'loss': 'log_loss', 'max_iter': 200, 'penalty': 'elasticnet'}: 52.00%\n",
      "Validation accuracy for hyperparameters {'alpha': 0.001, 'eta0': 0.1, 'learning_rate': 'invscaling', 'loss': 'log_loss', 'max_iter': 300, 'penalty': 'l2'}: 53.43%\n",
      "Validation accuracy for hyperparameters {'alpha': 0.001, 'eta0': 0.1, 'learning_rate': 'invscaling', 'loss': 'log_loss', 'max_iter': 300, 'penalty': 'l1'}: 57.50%\n",
      "Validation accuracy for hyperparameters {'alpha': 0.001, 'eta0': 0.1, 'learning_rate': 'invscaling', 'loss': 'log_loss', 'max_iter': 300, 'penalty': 'elasticnet'}: 52.00%\n",
      "Validation accuracy for hyperparameters {'alpha': 0.001, 'eta0': 0.1, 'learning_rate': 'invscaling', 'loss': 'log_loss', 'max_iter': 400, 'penalty': 'l2'}: 53.43%\n",
      "Validation accuracy for hyperparameters {'alpha': 0.001, 'eta0': 0.1, 'learning_rate': 'invscaling', 'loss': 'log_loss', 'max_iter': 400, 'penalty': 'l1'}: 57.50%\n",
      "Validation accuracy for hyperparameters {'alpha': 0.001, 'eta0': 0.1, 'learning_rate': 'invscaling', 'loss': 'log_loss', 'max_iter': 400, 'penalty': 'elasticnet'}: 52.00%\n",
      "Validation accuracy for hyperparameters {'alpha': 0.001, 'eta0': 0.1, 'learning_rate': 'adaptive', 'loss': 'log_loss', 'max_iter': 200, 'penalty': 'l2'}: 73.67%\n",
      "Validation accuracy for hyperparameters {'alpha': 0.001, 'eta0': 0.1, 'learning_rate': 'adaptive', 'loss': 'log_loss', 'max_iter': 200, 'penalty': 'l1'}: 75.26%\n",
      "Validation accuracy for hyperparameters {'alpha': 0.001, 'eta0': 0.1, 'learning_rate': 'adaptive', 'loss': 'log_loss', 'max_iter': 200, 'penalty': 'elasticnet'}: 74.50%\n",
      "Validation accuracy for hyperparameters {'alpha': 0.001, 'eta0': 0.1, 'learning_rate': 'adaptive', 'loss': 'log_loss', 'max_iter': 300, 'penalty': 'l2'}: 73.67%\n",
      "Validation accuracy for hyperparameters {'alpha': 0.001, 'eta0': 0.1, 'learning_rate': 'adaptive', 'loss': 'log_loss', 'max_iter': 300, 'penalty': 'l1'}: 75.26%\n",
      "Validation accuracy for hyperparameters {'alpha': 0.001, 'eta0': 0.1, 'learning_rate': 'adaptive', 'loss': 'log_loss', 'max_iter': 300, 'penalty': 'elasticnet'}: 74.50%\n",
      "Validation accuracy for hyperparameters {'alpha': 0.001, 'eta0': 0.1, 'learning_rate': 'adaptive', 'loss': 'log_loss', 'max_iter': 400, 'penalty': 'l2'}: 73.67%\n",
      "Validation accuracy for hyperparameters {'alpha': 0.001, 'eta0': 0.1, 'learning_rate': 'adaptive', 'loss': 'log_loss', 'max_iter': 400, 'penalty': 'l1'}: 75.26%\n",
      "Validation accuracy for hyperparameters {'alpha': 0.001, 'eta0': 0.1, 'learning_rate': 'adaptive', 'loss': 'log_loss', 'max_iter': 400, 'penalty': 'elasticnet'}: 74.50%\n",
      "Validation accuracy for hyperparameters {'alpha': 0.001, 'eta0': 0.5, 'learning_rate': 'constant', 'loss': 'log_loss', 'max_iter': 200, 'penalty': 'l2'}: 47.65%\n",
      "Validation accuracy for hyperparameters {'alpha': 0.001, 'eta0': 0.5, 'learning_rate': 'constant', 'loss': 'log_loss', 'max_iter': 200, 'penalty': 'l1'}: 56.02%\n",
      "Validation accuracy for hyperparameters {'alpha': 0.001, 'eta0': 0.5, 'learning_rate': 'constant', 'loss': 'log_loss', 'max_iter': 200, 'penalty': 'elasticnet'}: 49.18%\n",
      "Validation accuracy for hyperparameters {'alpha': 0.001, 'eta0': 0.5, 'learning_rate': 'constant', 'loss': 'log_loss', 'max_iter': 300, 'penalty': 'l2'}: 47.65%\n",
      "Validation accuracy for hyperparameters {'alpha': 0.001, 'eta0': 0.5, 'learning_rate': 'constant', 'loss': 'log_loss', 'max_iter': 300, 'penalty': 'l1'}: 56.02%\n",
      "Validation accuracy for hyperparameters {'alpha': 0.001, 'eta0': 0.5, 'learning_rate': 'constant', 'loss': 'log_loss', 'max_iter': 300, 'penalty': 'elasticnet'}: 49.18%\n",
      "Validation accuracy for hyperparameters {'alpha': 0.001, 'eta0': 0.5, 'learning_rate': 'constant', 'loss': 'log_loss', 'max_iter': 400, 'penalty': 'l2'}: 47.65%\n",
      "Validation accuracy for hyperparameters {'alpha': 0.001, 'eta0': 0.5, 'learning_rate': 'constant', 'loss': 'log_loss', 'max_iter': 400, 'penalty': 'l1'}: 56.02%\n",
      "Validation accuracy for hyperparameters {'alpha': 0.001, 'eta0': 0.5, 'learning_rate': 'constant', 'loss': 'log_loss', 'max_iter': 400, 'penalty': 'elasticnet'}: 49.18%\n",
      "Validation accuracy for hyperparameters {'alpha': 0.001, 'eta0': 0.5, 'learning_rate': 'optimal', 'loss': 'log_loss', 'max_iter': 200, 'penalty': 'l2'}: 55.14%\n",
      "Validation accuracy for hyperparameters {'alpha': 0.001, 'eta0': 0.5, 'learning_rate': 'optimal', 'loss': 'log_loss', 'max_iter': 200, 'penalty': 'l1'}: 64.46%\n",
      "Validation accuracy for hyperparameters {'alpha': 0.001, 'eta0': 0.5, 'learning_rate': 'optimal', 'loss': 'log_loss', 'max_iter': 200, 'penalty': 'elasticnet'}: 63.17%\n",
      "Validation accuracy for hyperparameters {'alpha': 0.001, 'eta0': 0.5, 'learning_rate': 'optimal', 'loss': 'log_loss', 'max_iter': 300, 'penalty': 'l2'}: 55.14%\n",
      "Validation accuracy for hyperparameters {'alpha': 0.001, 'eta0': 0.5, 'learning_rate': 'optimal', 'loss': 'log_loss', 'max_iter': 300, 'penalty': 'l1'}: 64.46%\n",
      "Validation accuracy for hyperparameters {'alpha': 0.001, 'eta0': 0.5, 'learning_rate': 'optimal', 'loss': 'log_loss', 'max_iter': 300, 'penalty': 'elasticnet'}: 63.17%\n",
      "Validation accuracy for hyperparameters {'alpha': 0.001, 'eta0': 0.5, 'learning_rate': 'optimal', 'loss': 'log_loss', 'max_iter': 400, 'penalty': 'l2'}: 55.14%\n",
      "Validation accuracy for hyperparameters {'alpha': 0.001, 'eta0': 0.5, 'learning_rate': 'optimal', 'loss': 'log_loss', 'max_iter': 400, 'penalty': 'l1'}: 64.46%\n",
      "Validation accuracy for hyperparameters {'alpha': 0.001, 'eta0': 0.5, 'learning_rate': 'optimal', 'loss': 'log_loss', 'max_iter': 400, 'penalty': 'elasticnet'}: 63.17%\n",
      "Validation accuracy for hyperparameters {'alpha': 0.001, 'eta0': 0.5, 'learning_rate': 'invscaling', 'loss': 'log_loss', 'max_iter': 200, 'penalty': 'l2'}: 48.28%\n",
      "Validation accuracy for hyperparameters {'alpha': 0.001, 'eta0': 0.5, 'learning_rate': 'invscaling', 'loss': 'log_loss', 'max_iter': 200, 'penalty': 'l1'}: 59.56%\n",
      "Validation accuracy for hyperparameters {'alpha': 0.001, 'eta0': 0.5, 'learning_rate': 'invscaling', 'loss': 'log_loss', 'max_iter': 200, 'penalty': 'elasticnet'}: 62.22%\n",
      "Validation accuracy for hyperparameters {'alpha': 0.001, 'eta0': 0.5, 'learning_rate': 'invscaling', 'loss': 'log_loss', 'max_iter': 300, 'penalty': 'l2'}: 48.28%\n",
      "Validation accuracy for hyperparameters {'alpha': 0.001, 'eta0': 0.5, 'learning_rate': 'invscaling', 'loss': 'log_loss', 'max_iter': 300, 'penalty': 'l1'}: 59.56%\n",
      "Validation accuracy for hyperparameters {'alpha': 0.001, 'eta0': 0.5, 'learning_rate': 'invscaling', 'loss': 'log_loss', 'max_iter': 300, 'penalty': 'elasticnet'}: 62.22%\n",
      "Validation accuracy for hyperparameters {'alpha': 0.001, 'eta0': 0.5, 'learning_rate': 'invscaling', 'loss': 'log_loss', 'max_iter': 400, 'penalty': 'l2'}: 48.28%\n",
      "Validation accuracy for hyperparameters {'alpha': 0.001, 'eta0': 0.5, 'learning_rate': 'invscaling', 'loss': 'log_loss', 'max_iter': 400, 'penalty': 'l1'}: 59.56%\n",
      "Validation accuracy for hyperparameters {'alpha': 0.001, 'eta0': 0.5, 'learning_rate': 'invscaling', 'loss': 'log_loss', 'max_iter': 400, 'penalty': 'elasticnet'}: 62.22%\n",
      "Validation accuracy for hyperparameters {'alpha': 0.001, 'eta0': 0.5, 'learning_rate': 'adaptive', 'loss': 'log_loss', 'max_iter': 200, 'penalty': 'l2'}: 73.26%\n",
      "Validation accuracy for hyperparameters {'alpha': 0.001, 'eta0': 0.5, 'learning_rate': 'adaptive', 'loss': 'log_loss', 'max_iter': 200, 'penalty': 'l1'}: 75.91%\n",
      "Validation accuracy for hyperparameters {'alpha': 0.001, 'eta0': 0.5, 'learning_rate': 'adaptive', 'loss': 'log_loss', 'max_iter': 200, 'penalty': 'elasticnet'}: 75.26%\n",
      "Validation accuracy for hyperparameters {'alpha': 0.001, 'eta0': 0.5, 'learning_rate': 'adaptive', 'loss': 'log_loss', 'max_iter': 300, 'penalty': 'l2'}: 73.26%\n",
      "Validation accuracy for hyperparameters {'alpha': 0.001, 'eta0': 0.5, 'learning_rate': 'adaptive', 'loss': 'log_loss', 'max_iter': 300, 'penalty': 'l1'}: 75.91%\n",
      "Validation accuracy for hyperparameters {'alpha': 0.001, 'eta0': 0.5, 'learning_rate': 'adaptive', 'loss': 'log_loss', 'max_iter': 300, 'penalty': 'elasticnet'}: 75.26%\n",
      "Validation accuracy for hyperparameters {'alpha': 0.001, 'eta0': 0.5, 'learning_rate': 'adaptive', 'loss': 'log_loss', 'max_iter': 400, 'penalty': 'l2'}: 73.26%\n",
      "Validation accuracy for hyperparameters {'alpha': 0.001, 'eta0': 0.5, 'learning_rate': 'adaptive', 'loss': 'log_loss', 'max_iter': 400, 'penalty': 'l1'}: 75.91%\n",
      "Validation accuracy for hyperparameters {'alpha': 0.001, 'eta0': 0.5, 'learning_rate': 'adaptive', 'loss': 'log_loss', 'max_iter': 400, 'penalty': 'elasticnet'}: 75.26%\n",
      "Validation accuracy for hyperparameters {'alpha': 0.01, 'eta0': 0.01, 'learning_rate': 'constant', 'loss': 'log_loss', 'max_iter': 200, 'penalty': 'l2'}: 55.37%\n",
      "Validation accuracy for hyperparameters {'alpha': 0.01, 'eta0': 0.01, 'learning_rate': 'constant', 'loss': 'log_loss', 'max_iter': 200, 'penalty': 'l1'}: 54.19%\n",
      "Validation accuracy for hyperparameters {'alpha': 0.01, 'eta0': 0.01, 'learning_rate': 'constant', 'loss': 'log_loss', 'max_iter': 200, 'penalty': 'elasticnet'}: 52.31%\n",
      "Validation accuracy for hyperparameters {'alpha': 0.01, 'eta0': 0.01, 'learning_rate': 'constant', 'loss': 'log_loss', 'max_iter': 300, 'penalty': 'l2'}: 55.37%\n",
      "Validation accuracy for hyperparameters {'alpha': 0.01, 'eta0': 0.01, 'learning_rate': 'constant', 'loss': 'log_loss', 'max_iter': 300, 'penalty': 'l1'}: 54.19%\n",
      "Validation accuracy for hyperparameters {'alpha': 0.01, 'eta0': 0.01, 'learning_rate': 'constant', 'loss': 'log_loss', 'max_iter': 300, 'penalty': 'elasticnet'}: 52.31%\n",
      "Validation accuracy for hyperparameters {'alpha': 0.01, 'eta0': 0.01, 'learning_rate': 'constant', 'loss': 'log_loss', 'max_iter': 400, 'penalty': 'l2'}: 55.37%\n",
      "Validation accuracy for hyperparameters {'alpha': 0.01, 'eta0': 0.01, 'learning_rate': 'constant', 'loss': 'log_loss', 'max_iter': 400, 'penalty': 'l1'}: 54.19%\n",
      "Validation accuracy for hyperparameters {'alpha': 0.01, 'eta0': 0.01, 'learning_rate': 'constant', 'loss': 'log_loss', 'max_iter': 400, 'penalty': 'elasticnet'}: 52.31%\n",
      "Validation accuracy for hyperparameters {'alpha': 0.01, 'eta0': 0.01, 'learning_rate': 'optimal', 'loss': 'log_loss', 'max_iter': 200, 'penalty': 'l2'}: 53.06%\n",
      "Validation accuracy for hyperparameters {'alpha': 0.01, 'eta0': 0.01, 'learning_rate': 'optimal', 'loss': 'log_loss', 'max_iter': 200, 'penalty': 'l1'}: 66.36%\n",
      "Validation accuracy for hyperparameters {'alpha': 0.01, 'eta0': 0.01, 'learning_rate': 'optimal', 'loss': 'log_loss', 'max_iter': 200, 'penalty': 'elasticnet'}: 57.62%\n",
      "Validation accuracy for hyperparameters {'alpha': 0.01, 'eta0': 0.01, 'learning_rate': 'optimal', 'loss': 'log_loss', 'max_iter': 300, 'penalty': 'l2'}: 53.06%\n",
      "Validation accuracy for hyperparameters {'alpha': 0.01, 'eta0': 0.01, 'learning_rate': 'optimal', 'loss': 'log_loss', 'max_iter': 300, 'penalty': 'l1'}: 66.36%\n",
      "Validation accuracy for hyperparameters {'alpha': 0.01, 'eta0': 0.01, 'learning_rate': 'optimal', 'loss': 'log_loss', 'max_iter': 300, 'penalty': 'elasticnet'}: 57.62%\n",
      "Validation accuracy for hyperparameters {'alpha': 0.01, 'eta0': 0.01, 'learning_rate': 'optimal', 'loss': 'log_loss', 'max_iter': 400, 'penalty': 'l2'}: 53.06%\n",
      "Validation accuracy for hyperparameters {'alpha': 0.01, 'eta0': 0.01, 'learning_rate': 'optimal', 'loss': 'log_loss', 'max_iter': 400, 'penalty': 'l1'}: 66.36%\n",
      "Validation accuracy for hyperparameters {'alpha': 0.01, 'eta0': 0.01, 'learning_rate': 'optimal', 'loss': 'log_loss', 'max_iter': 400, 'penalty': 'elasticnet'}: 57.62%\n",
      "Validation accuracy for hyperparameters {'alpha': 0.01, 'eta0': 0.01, 'learning_rate': 'invscaling', 'loss': 'log_loss', 'max_iter': 200, 'penalty': 'l2'}: 58.32%\n",
      "Validation accuracy for hyperparameters {'alpha': 0.01, 'eta0': 0.01, 'learning_rate': 'invscaling', 'loss': 'log_loss', 'max_iter': 200, 'penalty': 'l1'}: 57.91%\n",
      "Validation accuracy for hyperparameters {'alpha': 0.01, 'eta0': 0.01, 'learning_rate': 'invscaling', 'loss': 'log_loss', 'max_iter': 200, 'penalty': 'elasticnet'}: 58.09%\n",
      "Validation accuracy for hyperparameters {'alpha': 0.01, 'eta0': 0.01, 'learning_rate': 'invscaling', 'loss': 'log_loss', 'max_iter': 300, 'penalty': 'l2'}: 58.32%\n",
      "Validation accuracy for hyperparameters {'alpha': 0.01, 'eta0': 0.01, 'learning_rate': 'invscaling', 'loss': 'log_loss', 'max_iter': 300, 'penalty': 'l1'}: 57.91%\n",
      "Validation accuracy for hyperparameters {'alpha': 0.01, 'eta0': 0.01, 'learning_rate': 'invscaling', 'loss': 'log_loss', 'max_iter': 300, 'penalty': 'elasticnet'}: 58.09%\n",
      "Validation accuracy for hyperparameters {'alpha': 0.01, 'eta0': 0.01, 'learning_rate': 'invscaling', 'loss': 'log_loss', 'max_iter': 400, 'penalty': 'l2'}: 58.32%\n",
      "Validation accuracy for hyperparameters {'alpha': 0.01, 'eta0': 0.01, 'learning_rate': 'invscaling', 'loss': 'log_loss', 'max_iter': 400, 'penalty': 'l1'}: 57.91%\n",
      "Validation accuracy for hyperparameters {'alpha': 0.01, 'eta0': 0.01, 'learning_rate': 'invscaling', 'loss': 'log_loss', 'max_iter': 400, 'penalty': 'elasticnet'}: 58.09%\n",
      "Validation accuracy for hyperparameters {'alpha': 0.01, 'eta0': 0.01, 'learning_rate': 'adaptive', 'loss': 'log_loss', 'max_iter': 200, 'penalty': 'l2'}: 65.64%\n",
      "Validation accuracy for hyperparameters {'alpha': 0.01, 'eta0': 0.01, 'learning_rate': 'adaptive', 'loss': 'log_loss', 'max_iter': 200, 'penalty': 'l1'}: 66.94%\n",
      "Validation accuracy for hyperparameters {'alpha': 0.01, 'eta0': 0.01, 'learning_rate': 'adaptive', 'loss': 'log_loss', 'max_iter': 200, 'penalty': 'elasticnet'}: 66.71%\n",
      "Validation accuracy for hyperparameters {'alpha': 0.01, 'eta0': 0.01, 'learning_rate': 'adaptive', 'loss': 'log_loss', 'max_iter': 300, 'penalty': 'l2'}: 65.64%\n",
      "Validation accuracy for hyperparameters {'alpha': 0.01, 'eta0': 0.01, 'learning_rate': 'adaptive', 'loss': 'log_loss', 'max_iter': 300, 'penalty': 'l1'}: 66.94%\n",
      "Validation accuracy for hyperparameters {'alpha': 0.01, 'eta0': 0.01, 'learning_rate': 'adaptive', 'loss': 'log_loss', 'max_iter': 300, 'penalty': 'elasticnet'}: 66.71%\n",
      "Validation accuracy for hyperparameters {'alpha': 0.01, 'eta0': 0.01, 'learning_rate': 'adaptive', 'loss': 'log_loss', 'max_iter': 400, 'penalty': 'l2'}: 65.64%\n",
      "Validation accuracy for hyperparameters {'alpha': 0.01, 'eta0': 0.01, 'learning_rate': 'adaptive', 'loss': 'log_loss', 'max_iter': 400, 'penalty': 'l1'}: 66.94%\n",
      "Validation accuracy for hyperparameters {'alpha': 0.01, 'eta0': 0.01, 'learning_rate': 'adaptive', 'loss': 'log_loss', 'max_iter': 400, 'penalty': 'elasticnet'}: 66.71%\n",
      "Validation accuracy for hyperparameters {'alpha': 0.01, 'eta0': 0.1, 'learning_rate': 'constant', 'loss': 'log_loss', 'max_iter': 200, 'penalty': 'l2'}: 46.76%\n",
      "Validation accuracy for hyperparameters {'alpha': 0.01, 'eta0': 0.1, 'learning_rate': 'constant', 'loss': 'log_loss', 'max_iter': 200, 'penalty': 'l1'}: 64.59%\n",
      "Validation accuracy for hyperparameters {'alpha': 0.01, 'eta0': 0.1, 'learning_rate': 'constant', 'loss': 'log_loss', 'max_iter': 200, 'penalty': 'elasticnet'}: 53.07%\n",
      "Validation accuracy for hyperparameters {'alpha': 0.01, 'eta0': 0.1, 'learning_rate': 'constant', 'loss': 'log_loss', 'max_iter': 300, 'penalty': 'l2'}: 46.76%\n",
      "Validation accuracy for hyperparameters {'alpha': 0.01, 'eta0': 0.1, 'learning_rate': 'constant', 'loss': 'log_loss', 'max_iter': 300, 'penalty': 'l1'}: 64.59%\n",
      "Validation accuracy for hyperparameters {'alpha': 0.01, 'eta0': 0.1, 'learning_rate': 'constant', 'loss': 'log_loss', 'max_iter': 300, 'penalty': 'elasticnet'}: 53.07%\n",
      "Validation accuracy for hyperparameters {'alpha': 0.01, 'eta0': 0.1, 'learning_rate': 'constant', 'loss': 'log_loss', 'max_iter': 400, 'penalty': 'l2'}: 46.76%\n",
      "Validation accuracy for hyperparameters {'alpha': 0.01, 'eta0': 0.1, 'learning_rate': 'constant', 'loss': 'log_loss', 'max_iter': 400, 'penalty': 'l1'}: 64.59%\n",
      "Validation accuracy for hyperparameters {'alpha': 0.01, 'eta0': 0.1, 'learning_rate': 'constant', 'loss': 'log_loss', 'max_iter': 400, 'penalty': 'elasticnet'}: 53.07%\n",
      "Validation accuracy for hyperparameters {'alpha': 0.01, 'eta0': 0.1, 'learning_rate': 'optimal', 'loss': 'log_loss', 'max_iter': 200, 'penalty': 'l2'}: 53.06%\n",
      "Validation accuracy for hyperparameters {'alpha': 0.01, 'eta0': 0.1, 'learning_rate': 'optimal', 'loss': 'log_loss', 'max_iter': 200, 'penalty': 'l1'}: 66.36%\n",
      "Validation accuracy for hyperparameters {'alpha': 0.01, 'eta0': 0.1, 'learning_rate': 'optimal', 'loss': 'log_loss', 'max_iter': 200, 'penalty': 'elasticnet'}: 57.62%\n",
      "Validation accuracy for hyperparameters {'alpha': 0.01, 'eta0': 0.1, 'learning_rate': 'optimal', 'loss': 'log_loss', 'max_iter': 300, 'penalty': 'l2'}: 53.06%\n",
      "Validation accuracy for hyperparameters {'alpha': 0.01, 'eta0': 0.1, 'learning_rate': 'optimal', 'loss': 'log_loss', 'max_iter': 300, 'penalty': 'l1'}: 66.36%\n",
      "Validation accuracy for hyperparameters {'alpha': 0.01, 'eta0': 0.1, 'learning_rate': 'optimal', 'loss': 'log_loss', 'max_iter': 300, 'penalty': 'elasticnet'}: 57.62%\n",
      "Validation accuracy for hyperparameters {'alpha': 0.01, 'eta0': 0.1, 'learning_rate': 'optimal', 'loss': 'log_loss', 'max_iter': 400, 'penalty': 'l2'}: 53.06%\n",
      "Validation accuracy for hyperparameters {'alpha': 0.01, 'eta0': 0.1, 'learning_rate': 'optimal', 'loss': 'log_loss', 'max_iter': 400, 'penalty': 'l1'}: 66.36%\n",
      "Validation accuracy for hyperparameters {'alpha': 0.01, 'eta0': 0.1, 'learning_rate': 'optimal', 'loss': 'log_loss', 'max_iter': 400, 'penalty': 'elasticnet'}: 57.62%\n",
      "Validation accuracy for hyperparameters {'alpha': 0.01, 'eta0': 0.1, 'learning_rate': 'invscaling', 'loss': 'log_loss', 'max_iter': 200, 'penalty': 'l2'}: 53.14%\n",
      "Validation accuracy for hyperparameters {'alpha': 0.01, 'eta0': 0.1, 'learning_rate': 'invscaling', 'loss': 'log_loss', 'max_iter': 200, 'penalty': 'l1'}: 61.80%\n",
      "Validation accuracy for hyperparameters {'alpha': 0.01, 'eta0': 0.1, 'learning_rate': 'invscaling', 'loss': 'log_loss', 'max_iter': 200, 'penalty': 'elasticnet'}: 59.39%\n",
      "Validation accuracy for hyperparameters {'alpha': 0.01, 'eta0': 0.1, 'learning_rate': 'invscaling', 'loss': 'log_loss', 'max_iter': 300, 'penalty': 'l2'}: 53.14%\n",
      "Validation accuracy for hyperparameters {'alpha': 0.01, 'eta0': 0.1, 'learning_rate': 'invscaling', 'loss': 'log_loss', 'max_iter': 300, 'penalty': 'l1'}: 61.80%\n",
      "Validation accuracy for hyperparameters {'alpha': 0.01, 'eta0': 0.1, 'learning_rate': 'invscaling', 'loss': 'log_loss', 'max_iter': 300, 'penalty': 'elasticnet'}: 59.39%\n",
      "Validation accuracy for hyperparameters {'alpha': 0.01, 'eta0': 0.1, 'learning_rate': 'invscaling', 'loss': 'log_loss', 'max_iter': 400, 'penalty': 'l2'}: 53.14%\n",
      "Validation accuracy for hyperparameters {'alpha': 0.01, 'eta0': 0.1, 'learning_rate': 'invscaling', 'loss': 'log_loss', 'max_iter': 400, 'penalty': 'l1'}: 61.80%\n",
      "Validation accuracy for hyperparameters {'alpha': 0.01, 'eta0': 0.1, 'learning_rate': 'invscaling', 'loss': 'log_loss', 'max_iter': 400, 'penalty': 'elasticnet'}: 59.39%\n",
      "Validation accuracy for hyperparameters {'alpha': 0.01, 'eta0': 0.1, 'learning_rate': 'adaptive', 'loss': 'log_loss', 'max_iter': 200, 'penalty': 'l2'}: 66.59%\n",
      "Validation accuracy for hyperparameters {'alpha': 0.01, 'eta0': 0.1, 'learning_rate': 'adaptive', 'loss': 'log_loss', 'max_iter': 200, 'penalty': 'l1'}: 75.38%\n",
      "Validation accuracy for hyperparameters {'alpha': 0.01, 'eta0': 0.1, 'learning_rate': 'adaptive', 'loss': 'log_loss', 'max_iter': 200, 'penalty': 'elasticnet'}: 67.65%\n",
      "Validation accuracy for hyperparameters {'alpha': 0.01, 'eta0': 0.1, 'learning_rate': 'adaptive', 'loss': 'log_loss', 'max_iter': 300, 'penalty': 'l2'}: 66.59%\n",
      "Validation accuracy for hyperparameters {'alpha': 0.01, 'eta0': 0.1, 'learning_rate': 'adaptive', 'loss': 'log_loss', 'max_iter': 300, 'penalty': 'l1'}: 75.38%\n",
      "Validation accuracy for hyperparameters {'alpha': 0.01, 'eta0': 0.1, 'learning_rate': 'adaptive', 'loss': 'log_loss', 'max_iter': 300, 'penalty': 'elasticnet'}: 67.65%\n",
      "Validation accuracy for hyperparameters {'alpha': 0.01, 'eta0': 0.1, 'learning_rate': 'adaptive', 'loss': 'log_loss', 'max_iter': 400, 'penalty': 'l2'}: 66.59%\n",
      "Validation accuracy for hyperparameters {'alpha': 0.01, 'eta0': 0.1, 'learning_rate': 'adaptive', 'loss': 'log_loss', 'max_iter': 400, 'penalty': 'l1'}: 75.38%\n",
      "Validation accuracy for hyperparameters {'alpha': 0.01, 'eta0': 0.1, 'learning_rate': 'adaptive', 'loss': 'log_loss', 'max_iter': 400, 'penalty': 'elasticnet'}: 67.65%\n",
      "Validation accuracy for hyperparameters {'alpha': 0.01, 'eta0': 0.5, 'learning_rate': 'constant', 'loss': 'log_loss', 'max_iter': 200, 'penalty': 'l2'}: 52.78%\n",
      "Validation accuracy for hyperparameters {'alpha': 0.01, 'eta0': 0.5, 'learning_rate': 'constant', 'loss': 'log_loss', 'max_iter': 200, 'penalty': 'l1'}: 55.21%\n",
      "Validation accuracy for hyperparameters {'alpha': 0.01, 'eta0': 0.5, 'learning_rate': 'constant', 'loss': 'log_loss', 'max_iter': 200, 'penalty': 'elasticnet'}: 55.43%\n",
      "Validation accuracy for hyperparameters {'alpha': 0.01, 'eta0': 0.5, 'learning_rate': 'constant', 'loss': 'log_loss', 'max_iter': 300, 'penalty': 'l2'}: 52.78%\n",
      "Validation accuracy for hyperparameters {'alpha': 0.01, 'eta0': 0.5, 'learning_rate': 'constant', 'loss': 'log_loss', 'max_iter': 300, 'penalty': 'l1'}: 55.21%\n",
      "Validation accuracy for hyperparameters {'alpha': 0.01, 'eta0': 0.5, 'learning_rate': 'constant', 'loss': 'log_loss', 'max_iter': 300, 'penalty': 'elasticnet'}: 55.43%\n",
      "Validation accuracy for hyperparameters {'alpha': 0.01, 'eta0': 0.5, 'learning_rate': 'constant', 'loss': 'log_loss', 'max_iter': 400, 'penalty': 'l2'}: 52.78%\n",
      "Validation accuracy for hyperparameters {'alpha': 0.01, 'eta0': 0.5, 'learning_rate': 'constant', 'loss': 'log_loss', 'max_iter': 400, 'penalty': 'l1'}: 55.21%\n",
      "Validation accuracy for hyperparameters {'alpha': 0.01, 'eta0': 0.5, 'learning_rate': 'constant', 'loss': 'log_loss', 'max_iter': 400, 'penalty': 'elasticnet'}: 55.43%\n",
      "Validation accuracy for hyperparameters {'alpha': 0.01, 'eta0': 0.5, 'learning_rate': 'optimal', 'loss': 'log_loss', 'max_iter': 200, 'penalty': 'l2'}: 53.06%\n",
      "Validation accuracy for hyperparameters {'alpha': 0.01, 'eta0': 0.5, 'learning_rate': 'optimal', 'loss': 'log_loss', 'max_iter': 200, 'penalty': 'l1'}: 66.36%\n",
      "Validation accuracy for hyperparameters {'alpha': 0.01, 'eta0': 0.5, 'learning_rate': 'optimal', 'loss': 'log_loss', 'max_iter': 200, 'penalty': 'elasticnet'}: 57.62%\n",
      "Validation accuracy for hyperparameters {'alpha': 0.01, 'eta0': 0.5, 'learning_rate': 'optimal', 'loss': 'log_loss', 'max_iter': 300, 'penalty': 'l2'}: 53.06%\n",
      "Validation accuracy for hyperparameters {'alpha': 0.01, 'eta0': 0.5, 'learning_rate': 'optimal', 'loss': 'log_loss', 'max_iter': 300, 'penalty': 'l1'}: 66.36%\n",
      "Validation accuracy for hyperparameters {'alpha': 0.01, 'eta0': 0.5, 'learning_rate': 'optimal', 'loss': 'log_loss', 'max_iter': 300, 'penalty': 'elasticnet'}: 57.62%\n",
      "Validation accuracy for hyperparameters {'alpha': 0.01, 'eta0': 0.5, 'learning_rate': 'optimal', 'loss': 'log_loss', 'max_iter': 400, 'penalty': 'l2'}: 53.06%\n",
      "Validation accuracy for hyperparameters {'alpha': 0.01, 'eta0': 0.5, 'learning_rate': 'optimal', 'loss': 'log_loss', 'max_iter': 400, 'penalty': 'l1'}: 66.36%\n",
      "Validation accuracy for hyperparameters {'alpha': 0.01, 'eta0': 0.5, 'learning_rate': 'optimal', 'loss': 'log_loss', 'max_iter': 400, 'penalty': 'elasticnet'}: 57.62%\n",
      "Validation accuracy for hyperparameters {'alpha': 0.01, 'eta0': 0.5, 'learning_rate': 'invscaling', 'loss': 'log_loss', 'max_iter': 200, 'penalty': 'l2'}: 48.28%\n",
      "Validation accuracy for hyperparameters {'alpha': 0.01, 'eta0': 0.5, 'learning_rate': 'invscaling', 'loss': 'log_loss', 'max_iter': 200, 'penalty': 'l1'}: 66.29%\n",
      "Validation accuracy for hyperparameters {'alpha': 0.01, 'eta0': 0.5, 'learning_rate': 'invscaling', 'loss': 'log_loss', 'max_iter': 200, 'penalty': 'elasticnet'}: 69.36%\n",
      "Validation accuracy for hyperparameters {'alpha': 0.01, 'eta0': 0.5, 'learning_rate': 'invscaling', 'loss': 'log_loss', 'max_iter': 300, 'penalty': 'l2'}: 48.28%\n",
      "Validation accuracy for hyperparameters {'alpha': 0.01, 'eta0': 0.5, 'learning_rate': 'invscaling', 'loss': 'log_loss', 'max_iter': 300, 'penalty': 'l1'}: 66.29%\n",
      "Validation accuracy for hyperparameters {'alpha': 0.01, 'eta0': 0.5, 'learning_rate': 'invscaling', 'loss': 'log_loss', 'max_iter': 300, 'penalty': 'elasticnet'}: 69.36%\n",
      "Validation accuracy for hyperparameters {'alpha': 0.01, 'eta0': 0.5, 'learning_rate': 'invscaling', 'loss': 'log_loss', 'max_iter': 400, 'penalty': 'l2'}: 48.28%\n",
      "Validation accuracy for hyperparameters {'alpha': 0.01, 'eta0': 0.5, 'learning_rate': 'invscaling', 'loss': 'log_loss', 'max_iter': 400, 'penalty': 'l1'}: 66.29%\n",
      "Validation accuracy for hyperparameters {'alpha': 0.01, 'eta0': 0.5, 'learning_rate': 'invscaling', 'loss': 'log_loss', 'max_iter': 400, 'penalty': 'elasticnet'}: 69.36%\n",
      "Validation accuracy for hyperparameters {'alpha': 0.01, 'eta0': 0.5, 'learning_rate': 'adaptive', 'loss': 'log_loss', 'max_iter': 200, 'penalty': 'l2'}: 66.59%\n",
      "Validation accuracy for hyperparameters {'alpha': 0.01, 'eta0': 0.5, 'learning_rate': 'adaptive', 'loss': 'log_loss', 'max_iter': 200, 'penalty': 'l1'}: 75.86%\n",
      "Validation accuracy for hyperparameters {'alpha': 0.01, 'eta0': 0.5, 'learning_rate': 'adaptive', 'loss': 'log_loss', 'max_iter': 200, 'penalty': 'elasticnet'}: 67.18%\n",
      "Validation accuracy for hyperparameters {'alpha': 0.01, 'eta0': 0.5, 'learning_rate': 'adaptive', 'loss': 'log_loss', 'max_iter': 300, 'penalty': 'l2'}: 66.59%\n",
      "Validation accuracy for hyperparameters {'alpha': 0.01, 'eta0': 0.5, 'learning_rate': 'adaptive', 'loss': 'log_loss', 'max_iter': 300, 'penalty': 'l1'}: 75.86%\n",
      "Validation accuracy for hyperparameters {'alpha': 0.01, 'eta0': 0.5, 'learning_rate': 'adaptive', 'loss': 'log_loss', 'max_iter': 300, 'penalty': 'elasticnet'}: 67.18%\n",
      "Validation accuracy for hyperparameters {'alpha': 0.01, 'eta0': 0.5, 'learning_rate': 'adaptive', 'loss': 'log_loss', 'max_iter': 400, 'penalty': 'l2'}: 66.59%\n",
      "Validation accuracy for hyperparameters {'alpha': 0.01, 'eta0': 0.5, 'learning_rate': 'adaptive', 'loss': 'log_loss', 'max_iter': 400, 'penalty': 'l1'}: 75.86%\n",
      "Validation accuracy for hyperparameters {'alpha': 0.01, 'eta0': 0.5, 'learning_rate': 'adaptive', 'loss': 'log_loss', 'max_iter': 400, 'penalty': 'elasticnet'}: 67.18%\n",
      "Validation accuracy for hyperparameters {'alpha': 0.1, 'eta0': 0.01, 'learning_rate': 'constant', 'loss': 'log_loss', 'max_iter': 200, 'penalty': 'l2'}: 51.13%\n",
      "Validation accuracy for hyperparameters {'alpha': 0.1, 'eta0': 0.01, 'learning_rate': 'constant', 'loss': 'log_loss', 'max_iter': 200, 'penalty': 'l1'}: 48.83%\n",
      "Validation accuracy for hyperparameters {'alpha': 0.1, 'eta0': 0.01, 'learning_rate': 'constant', 'loss': 'log_loss', 'max_iter': 200, 'penalty': 'elasticnet'}: 52.13%\n",
      "Validation accuracy for hyperparameters {'alpha': 0.1, 'eta0': 0.01, 'learning_rate': 'constant', 'loss': 'log_loss', 'max_iter': 300, 'penalty': 'l2'}: 51.13%\n",
      "Validation accuracy for hyperparameters {'alpha': 0.1, 'eta0': 0.01, 'learning_rate': 'constant', 'loss': 'log_loss', 'max_iter': 300, 'penalty': 'l1'}: 48.83%\n",
      "Validation accuracy for hyperparameters {'alpha': 0.1, 'eta0': 0.01, 'learning_rate': 'constant', 'loss': 'log_loss', 'max_iter': 300, 'penalty': 'elasticnet'}: 52.13%\n",
      "Validation accuracy for hyperparameters {'alpha': 0.1, 'eta0': 0.01, 'learning_rate': 'constant', 'loss': 'log_loss', 'max_iter': 400, 'penalty': 'l2'}: 51.13%\n",
      "Validation accuracy for hyperparameters {'alpha': 0.1, 'eta0': 0.01, 'learning_rate': 'constant', 'loss': 'log_loss', 'max_iter': 400, 'penalty': 'l1'}: 48.83%\n",
      "Validation accuracy for hyperparameters {'alpha': 0.1, 'eta0': 0.01, 'learning_rate': 'constant', 'loss': 'log_loss', 'max_iter': 400, 'penalty': 'elasticnet'}: 52.13%\n",
      "Validation accuracy for hyperparameters {'alpha': 0.1, 'eta0': 0.01, 'learning_rate': 'optimal', 'loss': 'log_loss', 'max_iter': 200, 'penalty': 'l2'}: 55.55%\n",
      "Validation accuracy for hyperparameters {'alpha': 0.1, 'eta0': 0.01, 'learning_rate': 'optimal', 'loss': 'log_loss', 'max_iter': 200, 'penalty': 'l1'}: 55.60%\n",
      "Validation accuracy for hyperparameters {'alpha': 0.1, 'eta0': 0.01, 'learning_rate': 'optimal', 'loss': 'log_loss', 'max_iter': 200, 'penalty': 'elasticnet'}: 55.42%\n",
      "Validation accuracy for hyperparameters {'alpha': 0.1, 'eta0': 0.01, 'learning_rate': 'optimal', 'loss': 'log_loss', 'max_iter': 300, 'penalty': 'l2'}: 55.55%\n",
      "Validation accuracy for hyperparameters {'alpha': 0.1, 'eta0': 0.01, 'learning_rate': 'optimal', 'loss': 'log_loss', 'max_iter': 300, 'penalty': 'l1'}: 55.60%\n",
      "Validation accuracy for hyperparameters {'alpha': 0.1, 'eta0': 0.01, 'learning_rate': 'optimal', 'loss': 'log_loss', 'max_iter': 300, 'penalty': 'elasticnet'}: 55.42%\n",
      "Validation accuracy for hyperparameters {'alpha': 0.1, 'eta0': 0.01, 'learning_rate': 'optimal', 'loss': 'log_loss', 'max_iter': 400, 'penalty': 'l2'}: 55.55%\n",
      "Validation accuracy for hyperparameters {'alpha': 0.1, 'eta0': 0.01, 'learning_rate': 'optimal', 'loss': 'log_loss', 'max_iter': 400, 'penalty': 'l1'}: 55.60%\n",
      "Validation accuracy for hyperparameters {'alpha': 0.1, 'eta0': 0.01, 'learning_rate': 'optimal', 'loss': 'log_loss', 'max_iter': 400, 'penalty': 'elasticnet'}: 55.42%\n",
      "Validation accuracy for hyperparameters {'alpha': 0.1, 'eta0': 0.01, 'learning_rate': 'invscaling', 'loss': 'log_loss', 'max_iter': 200, 'penalty': 'l2'}: 58.21%\n",
      "Validation accuracy for hyperparameters {'alpha': 0.1, 'eta0': 0.01, 'learning_rate': 'invscaling', 'loss': 'log_loss', 'max_iter': 200, 'penalty': 'l1'}: 57.68%\n",
      "Validation accuracy for hyperparameters {'alpha': 0.1, 'eta0': 0.01, 'learning_rate': 'invscaling', 'loss': 'log_loss', 'max_iter': 200, 'penalty': 'elasticnet'}: 57.68%\n",
      "Validation accuracy for hyperparameters {'alpha': 0.1, 'eta0': 0.01, 'learning_rate': 'invscaling', 'loss': 'log_loss', 'max_iter': 300, 'penalty': 'l2'}: 58.21%\n",
      "Validation accuracy for hyperparameters {'alpha': 0.1, 'eta0': 0.01, 'learning_rate': 'invscaling', 'loss': 'log_loss', 'max_iter': 300, 'penalty': 'l1'}: 57.68%\n",
      "Validation accuracy for hyperparameters {'alpha': 0.1, 'eta0': 0.01, 'learning_rate': 'invscaling', 'loss': 'log_loss', 'max_iter': 300, 'penalty': 'elasticnet'}: 57.68%\n",
      "Validation accuracy for hyperparameters {'alpha': 0.1, 'eta0': 0.01, 'learning_rate': 'invscaling', 'loss': 'log_loss', 'max_iter': 400, 'penalty': 'l2'}: 58.21%\n",
      "Validation accuracy for hyperparameters {'alpha': 0.1, 'eta0': 0.01, 'learning_rate': 'invscaling', 'loss': 'log_loss', 'max_iter': 400, 'penalty': 'l1'}: 57.68%\n",
      "Validation accuracy for hyperparameters {'alpha': 0.1, 'eta0': 0.01, 'learning_rate': 'invscaling', 'loss': 'log_loss', 'max_iter': 400, 'penalty': 'elasticnet'}: 57.68%\n",
      "Validation accuracy for hyperparameters {'alpha': 0.1, 'eta0': 0.01, 'learning_rate': 'adaptive', 'loss': 'log_loss', 'max_iter': 200, 'penalty': 'l2'}: 60.92%\n",
      "Validation accuracy for hyperparameters {'alpha': 0.1, 'eta0': 0.01, 'learning_rate': 'adaptive', 'loss': 'log_loss', 'max_iter': 200, 'penalty': 'l1'}: 59.62%\n",
      "Validation accuracy for hyperparameters {'alpha': 0.1, 'eta0': 0.01, 'learning_rate': 'adaptive', 'loss': 'log_loss', 'max_iter': 200, 'penalty': 'elasticnet'}: 59.98%\n",
      "Validation accuracy for hyperparameters {'alpha': 0.1, 'eta0': 0.01, 'learning_rate': 'adaptive', 'loss': 'log_loss', 'max_iter': 300, 'penalty': 'l2'}: 60.92%\n",
      "Validation accuracy for hyperparameters {'alpha': 0.1, 'eta0': 0.01, 'learning_rate': 'adaptive', 'loss': 'log_loss', 'max_iter': 300, 'penalty': 'l1'}: 59.62%\n",
      "Validation accuracy for hyperparameters {'alpha': 0.1, 'eta0': 0.01, 'learning_rate': 'adaptive', 'loss': 'log_loss', 'max_iter': 300, 'penalty': 'elasticnet'}: 59.98%\n",
      "Validation accuracy for hyperparameters {'alpha': 0.1, 'eta0': 0.01, 'learning_rate': 'adaptive', 'loss': 'log_loss', 'max_iter': 400, 'penalty': 'l2'}: 60.92%\n",
      "Validation accuracy for hyperparameters {'alpha': 0.1, 'eta0': 0.01, 'learning_rate': 'adaptive', 'loss': 'log_loss', 'max_iter': 400, 'penalty': 'l1'}: 59.62%\n",
      "Validation accuracy for hyperparameters {'alpha': 0.1, 'eta0': 0.01, 'learning_rate': 'adaptive', 'loss': 'log_loss', 'max_iter': 400, 'penalty': 'elasticnet'}: 59.98%\n",
      "Validation accuracy for hyperparameters {'alpha': 0.1, 'eta0': 0.1, 'learning_rate': 'constant', 'loss': 'log_loss', 'max_iter': 200, 'penalty': 'l2'}: 49.12%\n",
      "Validation accuracy for hyperparameters {'alpha': 0.1, 'eta0': 0.1, 'learning_rate': 'constant', 'loss': 'log_loss', 'max_iter': 200, 'penalty': 'l1'}: 58.68%\n",
      "Validation accuracy for hyperparameters {'alpha': 0.1, 'eta0': 0.1, 'learning_rate': 'constant', 'loss': 'log_loss', 'max_iter': 200, 'penalty': 'elasticnet'}: 55.91%\n",
      "Validation accuracy for hyperparameters {'alpha': 0.1, 'eta0': 0.1, 'learning_rate': 'constant', 'loss': 'log_loss', 'max_iter': 300, 'penalty': 'l2'}: 49.12%\n",
      "Validation accuracy for hyperparameters {'alpha': 0.1, 'eta0': 0.1, 'learning_rate': 'constant', 'loss': 'log_loss', 'max_iter': 300, 'penalty': 'l1'}: 58.68%\n",
      "Validation accuracy for hyperparameters {'alpha': 0.1, 'eta0': 0.1, 'learning_rate': 'constant', 'loss': 'log_loss', 'max_iter': 300, 'penalty': 'elasticnet'}: 55.91%\n",
      "Validation accuracy for hyperparameters {'alpha': 0.1, 'eta0': 0.1, 'learning_rate': 'constant', 'loss': 'log_loss', 'max_iter': 400, 'penalty': 'l2'}: 49.12%\n",
      "Validation accuracy for hyperparameters {'alpha': 0.1, 'eta0': 0.1, 'learning_rate': 'constant', 'loss': 'log_loss', 'max_iter': 400, 'penalty': 'l1'}: 58.68%\n",
      "Validation accuracy for hyperparameters {'alpha': 0.1, 'eta0': 0.1, 'learning_rate': 'constant', 'loss': 'log_loss', 'max_iter': 400, 'penalty': 'elasticnet'}: 55.91%\n",
      "Validation accuracy for hyperparameters {'alpha': 0.1, 'eta0': 0.1, 'learning_rate': 'optimal', 'loss': 'log_loss', 'max_iter': 200, 'penalty': 'l2'}: 55.55%\n",
      "Validation accuracy for hyperparameters {'alpha': 0.1, 'eta0': 0.1, 'learning_rate': 'optimal', 'loss': 'log_loss', 'max_iter': 200, 'penalty': 'l1'}: 55.60%\n",
      "Validation accuracy for hyperparameters {'alpha': 0.1, 'eta0': 0.1, 'learning_rate': 'optimal', 'loss': 'log_loss', 'max_iter': 200, 'penalty': 'elasticnet'}: 55.42%\n",
      "Validation accuracy for hyperparameters {'alpha': 0.1, 'eta0': 0.1, 'learning_rate': 'optimal', 'loss': 'log_loss', 'max_iter': 300, 'penalty': 'l2'}: 55.55%\n",
      "Validation accuracy for hyperparameters {'alpha': 0.1, 'eta0': 0.1, 'learning_rate': 'optimal', 'loss': 'log_loss', 'max_iter': 300, 'penalty': 'l1'}: 55.60%\n",
      "Validation accuracy for hyperparameters {'alpha': 0.1, 'eta0': 0.1, 'learning_rate': 'optimal', 'loss': 'log_loss', 'max_iter': 300, 'penalty': 'elasticnet'}: 55.42%\n",
      "Validation accuracy for hyperparameters {'alpha': 0.1, 'eta0': 0.1, 'learning_rate': 'optimal', 'loss': 'log_loss', 'max_iter': 400, 'penalty': 'l2'}: 55.55%\n",
      "Validation accuracy for hyperparameters {'alpha': 0.1, 'eta0': 0.1, 'learning_rate': 'optimal', 'loss': 'log_loss', 'max_iter': 400, 'penalty': 'l1'}: 55.60%\n",
      "Validation accuracy for hyperparameters {'alpha': 0.1, 'eta0': 0.1, 'learning_rate': 'optimal', 'loss': 'log_loss', 'max_iter': 400, 'penalty': 'elasticnet'}: 55.42%\n",
      "Validation accuracy for hyperparameters {'alpha': 0.1, 'eta0': 0.1, 'learning_rate': 'invscaling', 'loss': 'log_loss', 'max_iter': 200, 'penalty': 'l2'}: 52.72%\n",
      "Validation accuracy for hyperparameters {'alpha': 0.1, 'eta0': 0.1, 'learning_rate': 'invscaling', 'loss': 'log_loss', 'max_iter': 200, 'penalty': 'l1'}: 58.74%\n",
      "Validation accuracy for hyperparameters {'alpha': 0.1, 'eta0': 0.1, 'learning_rate': 'invscaling', 'loss': 'log_loss', 'max_iter': 200, 'penalty': 'elasticnet'}: 59.62%\n",
      "Validation accuracy for hyperparameters {'alpha': 0.1, 'eta0': 0.1, 'learning_rate': 'invscaling', 'loss': 'log_loss', 'max_iter': 300, 'penalty': 'l2'}: 52.72%\n",
      "Validation accuracy for hyperparameters {'alpha': 0.1, 'eta0': 0.1, 'learning_rate': 'invscaling', 'loss': 'log_loss', 'max_iter': 300, 'penalty': 'l1'}: 58.74%\n",
      "Validation accuracy for hyperparameters {'alpha': 0.1, 'eta0': 0.1, 'learning_rate': 'invscaling', 'loss': 'log_loss', 'max_iter': 300, 'penalty': 'elasticnet'}: 59.62%\n",
      "Validation accuracy for hyperparameters {'alpha': 0.1, 'eta0': 0.1, 'learning_rate': 'invscaling', 'loss': 'log_loss', 'max_iter': 400, 'penalty': 'l2'}: 52.72%\n",
      "Validation accuracy for hyperparameters {'alpha': 0.1, 'eta0': 0.1, 'learning_rate': 'invscaling', 'loss': 'log_loss', 'max_iter': 400, 'penalty': 'l1'}: 58.74%\n",
      "Validation accuracy for hyperparameters {'alpha': 0.1, 'eta0': 0.1, 'learning_rate': 'invscaling', 'loss': 'log_loss', 'max_iter': 400, 'penalty': 'elasticnet'}: 59.62%\n",
      "Validation accuracy for hyperparameters {'alpha': 0.1, 'eta0': 0.1, 'learning_rate': 'adaptive', 'loss': 'log_loss', 'max_iter': 200, 'penalty': 'l2'}: 60.80%\n",
      "Validation accuracy for hyperparameters {'alpha': 0.1, 'eta0': 0.1, 'learning_rate': 'adaptive', 'loss': 'log_loss', 'max_iter': 200, 'penalty': 'l1'}: 59.56%\n",
      "Validation accuracy for hyperparameters {'alpha': 0.1, 'eta0': 0.1, 'learning_rate': 'adaptive', 'loss': 'log_loss', 'max_iter': 200, 'penalty': 'elasticnet'}: 60.15%\n",
      "Validation accuracy for hyperparameters {'alpha': 0.1, 'eta0': 0.1, 'learning_rate': 'adaptive', 'loss': 'log_loss', 'max_iter': 300, 'penalty': 'l2'}: 60.80%\n",
      "Validation accuracy for hyperparameters {'alpha': 0.1, 'eta0': 0.1, 'learning_rate': 'adaptive', 'loss': 'log_loss', 'max_iter': 300, 'penalty': 'l1'}: 59.56%\n",
      "Validation accuracy for hyperparameters {'alpha': 0.1, 'eta0': 0.1, 'learning_rate': 'adaptive', 'loss': 'log_loss', 'max_iter': 300, 'penalty': 'elasticnet'}: 60.15%\n",
      "Validation accuracy for hyperparameters {'alpha': 0.1, 'eta0': 0.1, 'learning_rate': 'adaptive', 'loss': 'log_loss', 'max_iter': 400, 'penalty': 'l2'}: 60.80%\n",
      "Validation accuracy for hyperparameters {'alpha': 0.1, 'eta0': 0.1, 'learning_rate': 'adaptive', 'loss': 'log_loss', 'max_iter': 400, 'penalty': 'l1'}: 59.56%\n",
      "Validation accuracy for hyperparameters {'alpha': 0.1, 'eta0': 0.1, 'learning_rate': 'adaptive', 'loss': 'log_loss', 'max_iter': 400, 'penalty': 'elasticnet'}: 60.15%\n",
      "Validation accuracy for hyperparameters {'alpha': 0.1, 'eta0': 0.5, 'learning_rate': 'constant', 'loss': 'log_loss', 'max_iter': 200, 'penalty': 'l2'}: 44.81%\n",
      "Validation accuracy for hyperparameters {'alpha': 0.1, 'eta0': 0.5, 'learning_rate': 'constant', 'loss': 'log_loss', 'max_iter': 200, 'penalty': 'l1'}: 55.61%\n",
      "Validation accuracy for hyperparameters {'alpha': 0.1, 'eta0': 0.5, 'learning_rate': 'constant', 'loss': 'log_loss', 'max_iter': 200, 'penalty': 'elasticnet'}: 55.26%\n",
      "Validation accuracy for hyperparameters {'alpha': 0.1, 'eta0': 0.5, 'learning_rate': 'constant', 'loss': 'log_loss', 'max_iter': 300, 'penalty': 'l2'}: 44.81%\n",
      "Validation accuracy for hyperparameters {'alpha': 0.1, 'eta0': 0.5, 'learning_rate': 'constant', 'loss': 'log_loss', 'max_iter': 300, 'penalty': 'l1'}: 55.61%\n",
      "Validation accuracy for hyperparameters {'alpha': 0.1, 'eta0': 0.5, 'learning_rate': 'constant', 'loss': 'log_loss', 'max_iter': 300, 'penalty': 'elasticnet'}: 55.26%\n",
      "Validation accuracy for hyperparameters {'alpha': 0.1, 'eta0': 0.5, 'learning_rate': 'constant', 'loss': 'log_loss', 'max_iter': 400, 'penalty': 'l2'}: 44.81%\n",
      "Validation accuracy for hyperparameters {'alpha': 0.1, 'eta0': 0.5, 'learning_rate': 'constant', 'loss': 'log_loss', 'max_iter': 400, 'penalty': 'l1'}: 55.61%\n",
      "Validation accuracy for hyperparameters {'alpha': 0.1, 'eta0': 0.5, 'learning_rate': 'constant', 'loss': 'log_loss', 'max_iter': 400, 'penalty': 'elasticnet'}: 55.26%\n",
      "Validation accuracy for hyperparameters {'alpha': 0.1, 'eta0': 0.5, 'learning_rate': 'optimal', 'loss': 'log_loss', 'max_iter': 200, 'penalty': 'l2'}: 55.55%\n",
      "Validation accuracy for hyperparameters {'alpha': 0.1, 'eta0': 0.5, 'learning_rate': 'optimal', 'loss': 'log_loss', 'max_iter': 200, 'penalty': 'l1'}: 55.60%\n",
      "Validation accuracy for hyperparameters {'alpha': 0.1, 'eta0': 0.5, 'learning_rate': 'optimal', 'loss': 'log_loss', 'max_iter': 200, 'penalty': 'elasticnet'}: 55.42%\n",
      "Validation accuracy for hyperparameters {'alpha': 0.1, 'eta0': 0.5, 'learning_rate': 'optimal', 'loss': 'log_loss', 'max_iter': 300, 'penalty': 'l2'}: 55.55%\n",
      "Validation accuracy for hyperparameters {'alpha': 0.1, 'eta0': 0.5, 'learning_rate': 'optimal', 'loss': 'log_loss', 'max_iter': 300, 'penalty': 'l1'}: 55.60%\n",
      "Validation accuracy for hyperparameters {'alpha': 0.1, 'eta0': 0.5, 'learning_rate': 'optimal', 'loss': 'log_loss', 'max_iter': 300, 'penalty': 'elasticnet'}: 55.42%\n",
      "Validation accuracy for hyperparameters {'alpha': 0.1, 'eta0': 0.5, 'learning_rate': 'optimal', 'loss': 'log_loss', 'max_iter': 400, 'penalty': 'l2'}: 55.55%\n",
      "Validation accuracy for hyperparameters {'alpha': 0.1, 'eta0': 0.5, 'learning_rate': 'optimal', 'loss': 'log_loss', 'max_iter': 400, 'penalty': 'l1'}: 55.60%\n",
      "Validation accuracy for hyperparameters {'alpha': 0.1, 'eta0': 0.5, 'learning_rate': 'optimal', 'loss': 'log_loss', 'max_iter': 400, 'penalty': 'elasticnet'}: 55.42%\n",
      "Validation accuracy for hyperparameters {'alpha': 0.1, 'eta0': 0.5, 'learning_rate': 'invscaling', 'loss': 'log_loss', 'max_iter': 200, 'penalty': 'l2'}: 48.22%\n",
      "Validation accuracy for hyperparameters {'alpha': 0.1, 'eta0': 0.5, 'learning_rate': 'invscaling', 'loss': 'log_loss', 'max_iter': 200, 'penalty': 'l1'}: 55.26%\n",
      "Validation accuracy for hyperparameters {'alpha': 0.1, 'eta0': 0.5, 'learning_rate': 'invscaling', 'loss': 'log_loss', 'max_iter': 200, 'penalty': 'elasticnet'}: 52.19%\n",
      "Validation accuracy for hyperparameters {'alpha': 0.1, 'eta0': 0.5, 'learning_rate': 'invscaling', 'loss': 'log_loss', 'max_iter': 300, 'penalty': 'l2'}: 48.22%\n",
      "Validation accuracy for hyperparameters {'alpha': 0.1, 'eta0': 0.5, 'learning_rate': 'invscaling', 'loss': 'log_loss', 'max_iter': 300, 'penalty': 'l1'}: 55.26%\n",
      "Validation accuracy for hyperparameters {'alpha': 0.1, 'eta0': 0.5, 'learning_rate': 'invscaling', 'loss': 'log_loss', 'max_iter': 300, 'penalty': 'elasticnet'}: 52.19%\n",
      "Validation accuracy for hyperparameters {'alpha': 0.1, 'eta0': 0.5, 'learning_rate': 'invscaling', 'loss': 'log_loss', 'max_iter': 400, 'penalty': 'l2'}: 48.22%\n",
      "Validation accuracy for hyperparameters {'alpha': 0.1, 'eta0': 0.5, 'learning_rate': 'invscaling', 'loss': 'log_loss', 'max_iter': 400, 'penalty': 'l1'}: 55.26%\n",
      "Validation accuracy for hyperparameters {'alpha': 0.1, 'eta0': 0.5, 'learning_rate': 'invscaling', 'loss': 'log_loss', 'max_iter': 400, 'penalty': 'elasticnet'}: 52.19%\n",
      "Validation accuracy for hyperparameters {'alpha': 0.1, 'eta0': 0.5, 'learning_rate': 'adaptive', 'loss': 'log_loss', 'max_iter': 200, 'penalty': 'l2'}: 60.74%\n",
      "Validation accuracy for hyperparameters {'alpha': 0.1, 'eta0': 0.5, 'learning_rate': 'adaptive', 'loss': 'log_loss', 'max_iter': 200, 'penalty': 'l1'}: 59.33%\n",
      "Validation accuracy for hyperparameters {'alpha': 0.1, 'eta0': 0.5, 'learning_rate': 'adaptive', 'loss': 'log_loss', 'max_iter': 200, 'penalty': 'elasticnet'}: 59.98%\n",
      "Validation accuracy for hyperparameters {'alpha': 0.1, 'eta0': 0.5, 'learning_rate': 'adaptive', 'loss': 'log_loss', 'max_iter': 300, 'penalty': 'l2'}: 60.74%\n",
      "Validation accuracy for hyperparameters {'alpha': 0.1, 'eta0': 0.5, 'learning_rate': 'adaptive', 'loss': 'log_loss', 'max_iter': 300, 'penalty': 'l1'}: 59.33%\n",
      "Validation accuracy for hyperparameters {'alpha': 0.1, 'eta0': 0.5, 'learning_rate': 'adaptive', 'loss': 'log_loss', 'max_iter': 300, 'penalty': 'elasticnet'}: 59.98%\n",
      "Validation accuracy for hyperparameters {'alpha': 0.1, 'eta0': 0.5, 'learning_rate': 'adaptive', 'loss': 'log_loss', 'max_iter': 400, 'penalty': 'l2'}: 60.74%\n",
      "Validation accuracy for hyperparameters {'alpha': 0.1, 'eta0': 0.5, 'learning_rate': 'adaptive', 'loss': 'log_loss', 'max_iter': 400, 'penalty': 'l1'}: 59.33%\n",
      "Validation accuracy for hyperparameters {'alpha': 0.1, 'eta0': 0.5, 'learning_rate': 'adaptive', 'loss': 'log_loss', 'max_iter': 400, 'penalty': 'elasticnet'}: 59.98%\n"
     ]
    }
   ],
   "source": [
    "# Hyperparemeter performance\n",
    "for i in range(len(grid_search.cv_results_['params'])):\n",
    "    params = grid_search.cv_results_['params'][i]\n",
    "    val_accuracy = grid_search.cv_results_['mean_test_score'][i]\n",
    "    print(\"Validation accuracy for hyperparameters {}: {:.2f}%\".format(params, val_accuracy * 100))"
   ]
  },
  {
   "cell_type": "code",
   "execution_count": 93,
   "id": "f08a299f-f216-4292-90c3-fa1055398796",
   "metadata": {},
   "outputs": [
    {
     "data": {
      "text/html": [
       "<style>#sk-container-id-5 {color: black;}#sk-container-id-5 pre{padding: 0;}#sk-container-id-5 div.sk-toggleable {background-color: white;}#sk-container-id-5 label.sk-toggleable__label {cursor: pointer;display: block;width: 100%;margin-bottom: 0;padding: 0.3em;box-sizing: border-box;text-align: center;}#sk-container-id-5 label.sk-toggleable__label-arrow:before {content: \"▸\";float: left;margin-right: 0.25em;color: #696969;}#sk-container-id-5 label.sk-toggleable__label-arrow:hover:before {color: black;}#sk-container-id-5 div.sk-estimator:hover label.sk-toggleable__label-arrow:before {color: black;}#sk-container-id-5 div.sk-toggleable__content {max-height: 0;max-width: 0;overflow: hidden;text-align: left;background-color: #f0f8ff;}#sk-container-id-5 div.sk-toggleable__content pre {margin: 0.2em;color: black;border-radius: 0.25em;background-color: #f0f8ff;}#sk-container-id-5 input.sk-toggleable__control:checked~div.sk-toggleable__content {max-height: 200px;max-width: 100%;overflow: auto;}#sk-container-id-5 input.sk-toggleable__control:checked~label.sk-toggleable__label-arrow:before {content: \"▾\";}#sk-container-id-5 div.sk-estimator input.sk-toggleable__control:checked~label.sk-toggleable__label {background-color: #d4ebff;}#sk-container-id-5 div.sk-label input.sk-toggleable__control:checked~label.sk-toggleable__label {background-color: #d4ebff;}#sk-container-id-5 input.sk-hidden--visually {border: 0;clip: rect(1px 1px 1px 1px);clip: rect(1px, 1px, 1px, 1px);height: 1px;margin: -1px;overflow: hidden;padding: 0;position: absolute;width: 1px;}#sk-container-id-5 div.sk-estimator {font-family: monospace;background-color: #f0f8ff;border: 1px dotted black;border-radius: 0.25em;box-sizing: border-box;margin-bottom: 0.5em;}#sk-container-id-5 div.sk-estimator:hover {background-color: #d4ebff;}#sk-container-id-5 div.sk-parallel-item::after {content: \"\";width: 100%;border-bottom: 1px solid gray;flex-grow: 1;}#sk-container-id-5 div.sk-label:hover label.sk-toggleable__label {background-color: #d4ebff;}#sk-container-id-5 div.sk-serial::before {content: \"\";position: absolute;border-left: 1px solid gray;box-sizing: border-box;top: 0;bottom: 0;left: 50%;z-index: 0;}#sk-container-id-5 div.sk-serial {display: flex;flex-direction: column;align-items: center;background-color: white;padding-right: 0.2em;padding-left: 0.2em;position: relative;}#sk-container-id-5 div.sk-item {position: relative;z-index: 1;}#sk-container-id-5 div.sk-parallel {display: flex;align-items: stretch;justify-content: center;background-color: white;position: relative;}#sk-container-id-5 div.sk-item::before, #sk-container-id-5 div.sk-parallel-item::before {content: \"\";position: absolute;border-left: 1px solid gray;box-sizing: border-box;top: 0;bottom: 0;left: 50%;z-index: -1;}#sk-container-id-5 div.sk-parallel-item {display: flex;flex-direction: column;z-index: 1;position: relative;background-color: white;}#sk-container-id-5 div.sk-parallel-item:first-child::after {align-self: flex-end;width: 50%;}#sk-container-id-5 div.sk-parallel-item:last-child::after {align-self: flex-start;width: 50%;}#sk-container-id-5 div.sk-parallel-item:only-child::after {width: 0;}#sk-container-id-5 div.sk-dashed-wrapped {border: 1px dashed gray;margin: 0 0.4em 0.5em 0.4em;box-sizing: border-box;padding-bottom: 0.4em;background-color: white;}#sk-container-id-5 div.sk-label label {font-family: monospace;font-weight: bold;display: inline-block;line-height: 1.2em;}#sk-container-id-5 div.sk-label-container {text-align: center;}#sk-container-id-5 div.sk-container {/* jupyter's `normalize.less` sets `[hidden] { display: none; }` but bootstrap.min.css set `[hidden] { display: none !important; }` so we also need the `!important` here to be able to override the default hidden behavior on the sphinx rendered scikit-learn.org. See: https://github.com/scikit-learn/scikit-learn/issues/21755 */display: inline-block !important;position: relative;}#sk-container-id-5 div.sk-text-repr-fallback {display: none;}</style><div id=\"sk-container-id-5\" class=\"sk-top-container\"><div class=\"sk-text-repr-fallback\"><pre>SGDClassifier(alpha=0.001, eta0=0.5, learning_rate=&#x27;adaptive&#x27;, loss=&#x27;log_loss&#x27;,\n",
       "              max_iter=200, penalty=&#x27;l1&#x27;, random_state=42)</pre><b>In a Jupyter environment, please rerun this cell to show the HTML representation or trust the notebook. <br />On GitHub, the HTML representation is unable to render, please try loading this page with nbviewer.org.</b></div><div class=\"sk-container\" hidden><div class=\"sk-item\"><div class=\"sk-estimator sk-toggleable\"><input class=\"sk-toggleable__control sk-hidden--visually\" id=\"sk-estimator-id-5\" type=\"checkbox\" checked><label for=\"sk-estimator-id-5\" class=\"sk-toggleable__label sk-toggleable__label-arrow\">SGDClassifier</label><div class=\"sk-toggleable__content\"><pre>SGDClassifier(alpha=0.001, eta0=0.5, learning_rate=&#x27;adaptive&#x27;, loss=&#x27;log_loss&#x27;,\n",
       "              max_iter=200, penalty=&#x27;l1&#x27;, random_state=42)</pre></div></div></div></div></div>"
      ],
      "text/plain": [
       "SGDClassifier(alpha=0.001, eta0=0.5, learning_rate='adaptive', loss='log_loss',\n",
       "              max_iter=200, penalty='l1', random_state=42)"
      ]
     },
     "execution_count": 93,
     "metadata": {},
     "output_type": "execute_result"
    }
   ],
   "source": [
    "# Fit model with the best hyperparameters\n",
    "final_model = SGDClassifier(random_state=42, **best_params)\n",
    "final_model.fit(X_train_df, y_train_df)"
   ]
  },
  {
   "cell_type": "code",
   "execution_count": 94,
   "id": "29b8a28b-a567-4148-bdaa-c3752500f000",
   "metadata": {},
   "outputs": [
    {
     "name": "stdout",
     "output_type": "stream",
     "text": [
      "Test accuracy with best hyperparameters: 76.11%\n",
      "              precision    recall  f1-score   support\n",
      "\n",
      "         0.0       0.72      0.70      0.71       233\n",
      "         1.0       0.79      0.81      0.80       332\n",
      "\n",
      "    accuracy                           0.76       565\n",
      "   macro avg       0.75      0.75      0.75       565\n",
      "weighted avg       0.76      0.76      0.76       565\n",
      "\n"
     ]
    }
   ],
   "source": [
    "# Test model accuracy\n",
    "predictions_test = final_model.predict(X_test_df)\n",
    "val_accuracy = accuracy_score(predictions_test, y_test_df)\n",
    "print(\"Test accuracy with best hyperparameters: {:.2f}%\".format(val_accuracy * 100))\n",
    "print(classification_report(y_test_df, predictions_test))"
   ]
  },
  {
   "cell_type": "code",
   "execution_count": 95,
   "id": "a95d543c-e66d-4861-88b1-9778e6fe8cf5",
   "metadata": {},
   "outputs": [
    {
     "name": "stdout",
     "output_type": "stream",
     "text": [
      "Validation accuracy with best hyperparameters: 75.40%\n",
      "              precision    recall  f1-score   support\n",
      "\n",
      "         0.0       0.71      0.68      0.70       233\n",
      "         1.0       0.78      0.80      0.79       332\n",
      "\n",
      "    accuracy                           0.75       565\n",
      "   macro avg       0.75      0.74      0.74       565\n",
      "weighted avg       0.75      0.75      0.75       565\n",
      "\n"
     ]
    }
   ],
   "source": [
    "# Validation model accuracy\n",
    "predictions_val = final_model.predict(X_val_df)\n",
    "val_accuracy = accuracy_score(predictions_val, y_val_df)\n",
    "print(\"Validation accuracy with best hyperparameters: {:.2f}%\".format(val_accuracy * 100))\n",
    "print(classification_report(y_val_df, predictions_val))"
   ]
  },
  {
   "cell_type": "code",
   "execution_count": 96,
   "id": "2204a3d3-6e61-4580-9e04-4ad91745e288",
   "metadata": {},
   "outputs": [
    {
     "name": "stdout",
     "output_type": "stream",
     "text": [
      "Best Hyperparameters:\n",
      "{'alpha': 0.001, 'eta0': 0.5, 'learning_rate': 'adaptive', 'loss': 'log_loss', 'max_iter': 200, 'penalty': 'l1'}\n"
     ]
    }
   ],
   "source": [
    "print(\"Best Hyperparameters:\")\n",
    "print(best_params)"
   ]
  },
  {
   "cell_type": "markdown",
   "id": "067a15f2-a3c1-44ea-b1ba-3ef142739bfe",
   "metadata": {},
   "source": [
    "-----"
   ]
  },
  {
   "cell_type": "code",
   "execution_count": 97,
   "id": "c09fb28e-a65a-4337-b5ad-acc203057784",
   "metadata": {},
   "outputs": [],
   "source": [
    "param_grid = {\n",
    "    'loss': ['log_loss'],\n",
    "    'alpha': [0.0001, 0.001, 0.01, 0.1],\n",
    "    'penalty': ['l2', 'l1', 'elasticnet'],\n",
    "    'learning_rate': ['constant', 'optimal', 'invscaling', 'adaptive'],\n",
    "    'eta0': [0.01, 0.1, 0.5],\n",
    "    'max_iter': [200, 300, 400],\n",
    "}"
   ]
  },
  {
   "cell_type": "code",
   "execution_count": 98,
   "id": "bb458695-556c-430b-a77b-c4c69023356e",
   "metadata": {
    "tags": []
   },
   "outputs": [],
   "source": [
    "sgd_classifier = SGDClassifier(random_state=42)\n",
    "grid_search = GridSearchCV(estimator=sgd_classifier, param_grid=param_grid, scoring='accuracy', cv=5)\n",
    "grid_search.fit(X_train_df_pair, y_train_df_pair)\n",
    "best_params = grid_search.best_params_"
   ]
  },
  {
   "cell_type": "code",
   "execution_count": 99,
   "id": "8cb62cda-4936-444f-b79f-b15bc289c17c",
   "metadata": {
    "collapsed": true,
    "jupyter": {
     "outputs_hidden": true
    },
    "tags": []
   },
   "outputs": [
    {
     "name": "stdout",
     "output_type": "stream",
     "text": [
      "Validation accuracy for hyperparameters {'alpha': 0.0001, 'eta0': 0.01, 'learning_rate': 'constant', 'loss': 'log_loss', 'max_iter': 200, 'penalty': 'l2'}: 48.29%\n",
      "Validation accuracy for hyperparameters {'alpha': 0.0001, 'eta0': 0.01, 'learning_rate': 'constant', 'loss': 'log_loss', 'max_iter': 200, 'penalty': 'l1'}: 51.78%\n",
      "Validation accuracy for hyperparameters {'alpha': 0.0001, 'eta0': 0.01, 'learning_rate': 'constant', 'loss': 'log_loss', 'max_iter': 200, 'penalty': 'elasticnet'}: 44.81%\n",
      "Validation accuracy for hyperparameters {'alpha': 0.0001, 'eta0': 0.01, 'learning_rate': 'constant', 'loss': 'log_loss', 'max_iter': 300, 'penalty': 'l2'}: 48.29%\n",
      "Validation accuracy for hyperparameters {'alpha': 0.0001, 'eta0': 0.01, 'learning_rate': 'constant', 'loss': 'log_loss', 'max_iter': 300, 'penalty': 'l1'}: 51.78%\n",
      "Validation accuracy for hyperparameters {'alpha': 0.0001, 'eta0': 0.01, 'learning_rate': 'constant', 'loss': 'log_loss', 'max_iter': 300, 'penalty': 'elasticnet'}: 44.81%\n",
      "Validation accuracy for hyperparameters {'alpha': 0.0001, 'eta0': 0.01, 'learning_rate': 'constant', 'loss': 'log_loss', 'max_iter': 400, 'penalty': 'l2'}: 48.29%\n",
      "Validation accuracy for hyperparameters {'alpha': 0.0001, 'eta0': 0.01, 'learning_rate': 'constant', 'loss': 'log_loss', 'max_iter': 400, 'penalty': 'l1'}: 51.78%\n",
      "Validation accuracy for hyperparameters {'alpha': 0.0001, 'eta0': 0.01, 'learning_rate': 'constant', 'loss': 'log_loss', 'max_iter': 400, 'penalty': 'elasticnet'}: 44.81%\n",
      "Validation accuracy for hyperparameters {'alpha': 0.0001, 'eta0': 0.01, 'learning_rate': 'optimal', 'loss': 'log_loss', 'max_iter': 200, 'penalty': 'l2'}: 54.55%\n",
      "Validation accuracy for hyperparameters {'alpha': 0.0001, 'eta0': 0.01, 'learning_rate': 'optimal', 'loss': 'log_loss', 'max_iter': 200, 'penalty': 'l1'}: 72.49%\n",
      "Validation accuracy for hyperparameters {'alpha': 0.0001, 'eta0': 0.01, 'learning_rate': 'optimal', 'loss': 'log_loss', 'max_iter': 200, 'penalty': 'elasticnet'}: 56.19%\n",
      "Validation accuracy for hyperparameters {'alpha': 0.0001, 'eta0': 0.01, 'learning_rate': 'optimal', 'loss': 'log_loss', 'max_iter': 300, 'penalty': 'l2'}: 54.55%\n",
      "Validation accuracy for hyperparameters {'alpha': 0.0001, 'eta0': 0.01, 'learning_rate': 'optimal', 'loss': 'log_loss', 'max_iter': 300, 'penalty': 'l1'}: 72.49%\n",
      "Validation accuracy for hyperparameters {'alpha': 0.0001, 'eta0': 0.01, 'learning_rate': 'optimal', 'loss': 'log_loss', 'max_iter': 300, 'penalty': 'elasticnet'}: 56.19%\n",
      "Validation accuracy for hyperparameters {'alpha': 0.0001, 'eta0': 0.01, 'learning_rate': 'optimal', 'loss': 'log_loss', 'max_iter': 400, 'penalty': 'l2'}: 54.55%\n",
      "Validation accuracy for hyperparameters {'alpha': 0.0001, 'eta0': 0.01, 'learning_rate': 'optimal', 'loss': 'log_loss', 'max_iter': 400, 'penalty': 'l1'}: 72.49%\n",
      "Validation accuracy for hyperparameters {'alpha': 0.0001, 'eta0': 0.01, 'learning_rate': 'optimal', 'loss': 'log_loss', 'max_iter': 400, 'penalty': 'elasticnet'}: 56.19%\n",
      "Validation accuracy for hyperparameters {'alpha': 0.0001, 'eta0': 0.01, 'learning_rate': 'invscaling', 'loss': 'log_loss', 'max_iter': 200, 'penalty': 'l2'}: 58.74%\n",
      "Validation accuracy for hyperparameters {'alpha': 0.0001, 'eta0': 0.01, 'learning_rate': 'invscaling', 'loss': 'log_loss', 'max_iter': 200, 'penalty': 'l1'}: 58.74%\n",
      "Validation accuracy for hyperparameters {'alpha': 0.0001, 'eta0': 0.01, 'learning_rate': 'invscaling', 'loss': 'log_loss', 'max_iter': 200, 'penalty': 'elasticnet'}: 58.74%\n",
      "Validation accuracy for hyperparameters {'alpha': 0.0001, 'eta0': 0.01, 'learning_rate': 'invscaling', 'loss': 'log_loss', 'max_iter': 300, 'penalty': 'l2'}: 58.74%\n",
      "Validation accuracy for hyperparameters {'alpha': 0.0001, 'eta0': 0.01, 'learning_rate': 'invscaling', 'loss': 'log_loss', 'max_iter': 300, 'penalty': 'l1'}: 58.74%\n",
      "Validation accuracy for hyperparameters {'alpha': 0.0001, 'eta0': 0.01, 'learning_rate': 'invscaling', 'loss': 'log_loss', 'max_iter': 300, 'penalty': 'elasticnet'}: 58.74%\n",
      "Validation accuracy for hyperparameters {'alpha': 0.0001, 'eta0': 0.01, 'learning_rate': 'invscaling', 'loss': 'log_loss', 'max_iter': 400, 'penalty': 'l2'}: 58.74%\n",
      "Validation accuracy for hyperparameters {'alpha': 0.0001, 'eta0': 0.01, 'learning_rate': 'invscaling', 'loss': 'log_loss', 'max_iter': 400, 'penalty': 'l1'}: 58.74%\n",
      "Validation accuracy for hyperparameters {'alpha': 0.0001, 'eta0': 0.01, 'learning_rate': 'invscaling', 'loss': 'log_loss', 'max_iter': 400, 'penalty': 'elasticnet'}: 58.74%\n",
      "Validation accuracy for hyperparameters {'alpha': 0.0001, 'eta0': 0.01, 'learning_rate': 'adaptive', 'loss': 'log_loss', 'max_iter': 200, 'penalty': 'l2'}: 67.47%\n",
      "Validation accuracy for hyperparameters {'alpha': 0.0001, 'eta0': 0.01, 'learning_rate': 'adaptive', 'loss': 'log_loss', 'max_iter': 200, 'penalty': 'l1'}: 69.95%\n",
      "Validation accuracy for hyperparameters {'alpha': 0.0001, 'eta0': 0.01, 'learning_rate': 'adaptive', 'loss': 'log_loss', 'max_iter': 200, 'penalty': 'elasticnet'}: 68.71%\n",
      "Validation accuracy for hyperparameters {'alpha': 0.0001, 'eta0': 0.01, 'learning_rate': 'adaptive', 'loss': 'log_loss', 'max_iter': 300, 'penalty': 'l2'}: 67.47%\n",
      "Validation accuracy for hyperparameters {'alpha': 0.0001, 'eta0': 0.01, 'learning_rate': 'adaptive', 'loss': 'log_loss', 'max_iter': 300, 'penalty': 'l1'}: 69.95%\n",
      "Validation accuracy for hyperparameters {'alpha': 0.0001, 'eta0': 0.01, 'learning_rate': 'adaptive', 'loss': 'log_loss', 'max_iter': 300, 'penalty': 'elasticnet'}: 68.71%\n",
      "Validation accuracy for hyperparameters {'alpha': 0.0001, 'eta0': 0.01, 'learning_rate': 'adaptive', 'loss': 'log_loss', 'max_iter': 400, 'penalty': 'l2'}: 67.47%\n",
      "Validation accuracy for hyperparameters {'alpha': 0.0001, 'eta0': 0.01, 'learning_rate': 'adaptive', 'loss': 'log_loss', 'max_iter': 400, 'penalty': 'l1'}: 69.95%\n",
      "Validation accuracy for hyperparameters {'alpha': 0.0001, 'eta0': 0.01, 'learning_rate': 'adaptive', 'loss': 'log_loss', 'max_iter': 400, 'penalty': 'elasticnet'}: 68.71%\n",
      "Validation accuracy for hyperparameters {'alpha': 0.0001, 'eta0': 0.1, 'learning_rate': 'constant', 'loss': 'log_loss', 'max_iter': 200, 'penalty': 'l2'}: 44.81%\n",
      "Validation accuracy for hyperparameters {'alpha': 0.0001, 'eta0': 0.1, 'learning_rate': 'constant', 'loss': 'log_loss', 'max_iter': 200, 'penalty': 'l1'}: 48.29%\n",
      "Validation accuracy for hyperparameters {'alpha': 0.0001, 'eta0': 0.1, 'learning_rate': 'constant', 'loss': 'log_loss', 'max_iter': 200, 'penalty': 'elasticnet'}: 44.81%\n",
      "Validation accuracy for hyperparameters {'alpha': 0.0001, 'eta0': 0.1, 'learning_rate': 'constant', 'loss': 'log_loss', 'max_iter': 300, 'penalty': 'l2'}: 44.81%\n",
      "Validation accuracy for hyperparameters {'alpha': 0.0001, 'eta0': 0.1, 'learning_rate': 'constant', 'loss': 'log_loss', 'max_iter': 300, 'penalty': 'l1'}: 48.29%\n",
      "Validation accuracy for hyperparameters {'alpha': 0.0001, 'eta0': 0.1, 'learning_rate': 'constant', 'loss': 'log_loss', 'max_iter': 300, 'penalty': 'elasticnet'}: 44.81%\n",
      "Validation accuracy for hyperparameters {'alpha': 0.0001, 'eta0': 0.1, 'learning_rate': 'constant', 'loss': 'log_loss', 'max_iter': 400, 'penalty': 'l2'}: 44.81%\n",
      "Validation accuracy for hyperparameters {'alpha': 0.0001, 'eta0': 0.1, 'learning_rate': 'constant', 'loss': 'log_loss', 'max_iter': 400, 'penalty': 'l1'}: 48.29%\n",
      "Validation accuracy for hyperparameters {'alpha': 0.0001, 'eta0': 0.1, 'learning_rate': 'constant', 'loss': 'log_loss', 'max_iter': 400, 'penalty': 'elasticnet'}: 44.81%\n",
      "Validation accuracy for hyperparameters {'alpha': 0.0001, 'eta0': 0.1, 'learning_rate': 'optimal', 'loss': 'log_loss', 'max_iter': 200, 'penalty': 'l2'}: 54.55%\n",
      "Validation accuracy for hyperparameters {'alpha': 0.0001, 'eta0': 0.1, 'learning_rate': 'optimal', 'loss': 'log_loss', 'max_iter': 200, 'penalty': 'l1'}: 72.49%\n",
      "Validation accuracy for hyperparameters {'alpha': 0.0001, 'eta0': 0.1, 'learning_rate': 'optimal', 'loss': 'log_loss', 'max_iter': 200, 'penalty': 'elasticnet'}: 56.19%\n",
      "Validation accuracy for hyperparameters {'alpha': 0.0001, 'eta0': 0.1, 'learning_rate': 'optimal', 'loss': 'log_loss', 'max_iter': 300, 'penalty': 'l2'}: 54.55%\n",
      "Validation accuracy for hyperparameters {'alpha': 0.0001, 'eta0': 0.1, 'learning_rate': 'optimal', 'loss': 'log_loss', 'max_iter': 300, 'penalty': 'l1'}: 72.49%\n",
      "Validation accuracy for hyperparameters {'alpha': 0.0001, 'eta0': 0.1, 'learning_rate': 'optimal', 'loss': 'log_loss', 'max_iter': 300, 'penalty': 'elasticnet'}: 56.19%\n",
      "Validation accuracy for hyperparameters {'alpha': 0.0001, 'eta0': 0.1, 'learning_rate': 'optimal', 'loss': 'log_loss', 'max_iter': 400, 'penalty': 'l2'}: 54.55%\n",
      "Validation accuracy for hyperparameters {'alpha': 0.0001, 'eta0': 0.1, 'learning_rate': 'optimal', 'loss': 'log_loss', 'max_iter': 400, 'penalty': 'l1'}: 72.49%\n",
      "Validation accuracy for hyperparameters {'alpha': 0.0001, 'eta0': 0.1, 'learning_rate': 'optimal', 'loss': 'log_loss', 'max_iter': 400, 'penalty': 'elasticnet'}: 56.19%\n",
      "Validation accuracy for hyperparameters {'alpha': 0.0001, 'eta0': 0.1, 'learning_rate': 'invscaling', 'loss': 'log_loss', 'max_iter': 200, 'penalty': 'l2'}: 55.37%\n",
      "Validation accuracy for hyperparameters {'alpha': 0.0001, 'eta0': 0.1, 'learning_rate': 'invscaling', 'loss': 'log_loss', 'max_iter': 200, 'penalty': 'l1'}: 55.37%\n",
      "Validation accuracy for hyperparameters {'alpha': 0.0001, 'eta0': 0.1, 'learning_rate': 'invscaling', 'loss': 'log_loss', 'max_iter': 200, 'penalty': 'elasticnet'}: 55.31%\n",
      "Validation accuracy for hyperparameters {'alpha': 0.0001, 'eta0': 0.1, 'learning_rate': 'invscaling', 'loss': 'log_loss', 'max_iter': 300, 'penalty': 'l2'}: 55.37%\n",
      "Validation accuracy for hyperparameters {'alpha': 0.0001, 'eta0': 0.1, 'learning_rate': 'invscaling', 'loss': 'log_loss', 'max_iter': 300, 'penalty': 'l1'}: 55.37%\n",
      "Validation accuracy for hyperparameters {'alpha': 0.0001, 'eta0': 0.1, 'learning_rate': 'invscaling', 'loss': 'log_loss', 'max_iter': 300, 'penalty': 'elasticnet'}: 55.31%\n",
      "Validation accuracy for hyperparameters {'alpha': 0.0001, 'eta0': 0.1, 'learning_rate': 'invscaling', 'loss': 'log_loss', 'max_iter': 400, 'penalty': 'l2'}: 55.37%\n",
      "Validation accuracy for hyperparameters {'alpha': 0.0001, 'eta0': 0.1, 'learning_rate': 'invscaling', 'loss': 'log_loss', 'max_iter': 400, 'penalty': 'l1'}: 55.37%\n",
      "Validation accuracy for hyperparameters {'alpha': 0.0001, 'eta0': 0.1, 'learning_rate': 'invscaling', 'loss': 'log_loss', 'max_iter': 400, 'penalty': 'elasticnet'}: 55.31%\n",
      "Validation accuracy for hyperparameters {'alpha': 0.0001, 'eta0': 0.1, 'learning_rate': 'adaptive', 'loss': 'log_loss', 'max_iter': 200, 'penalty': 'l2'}: 72.08%\n",
      "Validation accuracy for hyperparameters {'alpha': 0.0001, 'eta0': 0.1, 'learning_rate': 'adaptive', 'loss': 'log_loss', 'max_iter': 200, 'penalty': 'l1'}: 73.44%\n",
      "Validation accuracy for hyperparameters {'alpha': 0.0001, 'eta0': 0.1, 'learning_rate': 'adaptive', 'loss': 'log_loss', 'max_iter': 200, 'penalty': 'elasticnet'}: 72.37%\n",
      "Validation accuracy for hyperparameters {'alpha': 0.0001, 'eta0': 0.1, 'learning_rate': 'adaptive', 'loss': 'log_loss', 'max_iter': 300, 'penalty': 'l2'}: 72.08%\n",
      "Validation accuracy for hyperparameters {'alpha': 0.0001, 'eta0': 0.1, 'learning_rate': 'adaptive', 'loss': 'log_loss', 'max_iter': 300, 'penalty': 'l1'}: 73.44%\n",
      "Validation accuracy for hyperparameters {'alpha': 0.0001, 'eta0': 0.1, 'learning_rate': 'adaptive', 'loss': 'log_loss', 'max_iter': 300, 'penalty': 'elasticnet'}: 72.37%\n",
      "Validation accuracy for hyperparameters {'alpha': 0.0001, 'eta0': 0.1, 'learning_rate': 'adaptive', 'loss': 'log_loss', 'max_iter': 400, 'penalty': 'l2'}: 72.08%\n",
      "Validation accuracy for hyperparameters {'alpha': 0.0001, 'eta0': 0.1, 'learning_rate': 'adaptive', 'loss': 'log_loss', 'max_iter': 400, 'penalty': 'l1'}: 73.44%\n",
      "Validation accuracy for hyperparameters {'alpha': 0.0001, 'eta0': 0.1, 'learning_rate': 'adaptive', 'loss': 'log_loss', 'max_iter': 400, 'penalty': 'elasticnet'}: 72.37%\n",
      "Validation accuracy for hyperparameters {'alpha': 0.0001, 'eta0': 0.5, 'learning_rate': 'constant', 'loss': 'log_loss', 'max_iter': 200, 'penalty': 'l2'}: 44.81%\n",
      "Validation accuracy for hyperparameters {'alpha': 0.0001, 'eta0': 0.5, 'learning_rate': 'constant', 'loss': 'log_loss', 'max_iter': 200, 'penalty': 'l1'}: 45.93%\n",
      "Validation accuracy for hyperparameters {'alpha': 0.0001, 'eta0': 0.5, 'learning_rate': 'constant', 'loss': 'log_loss', 'max_iter': 200, 'penalty': 'elasticnet'}: 44.81%\n",
      "Validation accuracy for hyperparameters {'alpha': 0.0001, 'eta0': 0.5, 'learning_rate': 'constant', 'loss': 'log_loss', 'max_iter': 300, 'penalty': 'l2'}: 44.81%\n",
      "Validation accuracy for hyperparameters {'alpha': 0.0001, 'eta0': 0.5, 'learning_rate': 'constant', 'loss': 'log_loss', 'max_iter': 300, 'penalty': 'l1'}: 45.93%\n",
      "Validation accuracy for hyperparameters {'alpha': 0.0001, 'eta0': 0.5, 'learning_rate': 'constant', 'loss': 'log_loss', 'max_iter': 300, 'penalty': 'elasticnet'}: 44.81%\n",
      "Validation accuracy for hyperparameters {'alpha': 0.0001, 'eta0': 0.5, 'learning_rate': 'constant', 'loss': 'log_loss', 'max_iter': 400, 'penalty': 'l2'}: 44.81%\n",
      "Validation accuracy for hyperparameters {'alpha': 0.0001, 'eta0': 0.5, 'learning_rate': 'constant', 'loss': 'log_loss', 'max_iter': 400, 'penalty': 'l1'}: 45.93%\n",
      "Validation accuracy for hyperparameters {'alpha': 0.0001, 'eta0': 0.5, 'learning_rate': 'constant', 'loss': 'log_loss', 'max_iter': 400, 'penalty': 'elasticnet'}: 44.81%\n",
      "Validation accuracy for hyperparameters {'alpha': 0.0001, 'eta0': 0.5, 'learning_rate': 'optimal', 'loss': 'log_loss', 'max_iter': 200, 'penalty': 'l2'}: 54.55%\n",
      "Validation accuracy for hyperparameters {'alpha': 0.0001, 'eta0': 0.5, 'learning_rate': 'optimal', 'loss': 'log_loss', 'max_iter': 200, 'penalty': 'l1'}: 72.49%\n",
      "Validation accuracy for hyperparameters {'alpha': 0.0001, 'eta0': 0.5, 'learning_rate': 'optimal', 'loss': 'log_loss', 'max_iter': 200, 'penalty': 'elasticnet'}: 56.19%\n",
      "Validation accuracy for hyperparameters {'alpha': 0.0001, 'eta0': 0.5, 'learning_rate': 'optimal', 'loss': 'log_loss', 'max_iter': 300, 'penalty': 'l2'}: 54.55%\n",
      "Validation accuracy for hyperparameters {'alpha': 0.0001, 'eta0': 0.5, 'learning_rate': 'optimal', 'loss': 'log_loss', 'max_iter': 300, 'penalty': 'l1'}: 72.49%\n",
      "Validation accuracy for hyperparameters {'alpha': 0.0001, 'eta0': 0.5, 'learning_rate': 'optimal', 'loss': 'log_loss', 'max_iter': 300, 'penalty': 'elasticnet'}: 56.19%\n",
      "Validation accuracy for hyperparameters {'alpha': 0.0001, 'eta0': 0.5, 'learning_rate': 'optimal', 'loss': 'log_loss', 'max_iter': 400, 'penalty': 'l2'}: 54.55%\n",
      "Validation accuracy for hyperparameters {'alpha': 0.0001, 'eta0': 0.5, 'learning_rate': 'optimal', 'loss': 'log_loss', 'max_iter': 400, 'penalty': 'l1'}: 72.49%\n",
      "Validation accuracy for hyperparameters {'alpha': 0.0001, 'eta0': 0.5, 'learning_rate': 'optimal', 'loss': 'log_loss', 'max_iter': 400, 'penalty': 'elasticnet'}: 56.19%\n",
      "Validation accuracy for hyperparameters {'alpha': 0.0001, 'eta0': 0.5, 'learning_rate': 'invscaling', 'loss': 'log_loss', 'max_iter': 200, 'penalty': 'l2'}: 50.54%\n",
      "Validation accuracy for hyperparameters {'alpha': 0.0001, 'eta0': 0.5, 'learning_rate': 'invscaling', 'loss': 'log_loss', 'max_iter': 200, 'penalty': 'l1'}: 58.27%\n",
      "Validation accuracy for hyperparameters {'alpha': 0.0001, 'eta0': 0.5, 'learning_rate': 'invscaling', 'loss': 'log_loss', 'max_iter': 200, 'penalty': 'elasticnet'}: 53.31%\n",
      "Validation accuracy for hyperparameters {'alpha': 0.0001, 'eta0': 0.5, 'learning_rate': 'invscaling', 'loss': 'log_loss', 'max_iter': 300, 'penalty': 'l2'}: 50.54%\n",
      "Validation accuracy for hyperparameters {'alpha': 0.0001, 'eta0': 0.5, 'learning_rate': 'invscaling', 'loss': 'log_loss', 'max_iter': 300, 'penalty': 'l1'}: 58.27%\n",
      "Validation accuracy for hyperparameters {'alpha': 0.0001, 'eta0': 0.5, 'learning_rate': 'invscaling', 'loss': 'log_loss', 'max_iter': 300, 'penalty': 'elasticnet'}: 53.31%\n",
      "Validation accuracy for hyperparameters {'alpha': 0.0001, 'eta0': 0.5, 'learning_rate': 'invscaling', 'loss': 'log_loss', 'max_iter': 400, 'penalty': 'l2'}: 50.54%\n",
      "Validation accuracy for hyperparameters {'alpha': 0.0001, 'eta0': 0.5, 'learning_rate': 'invscaling', 'loss': 'log_loss', 'max_iter': 400, 'penalty': 'l1'}: 58.27%\n",
      "Validation accuracy for hyperparameters {'alpha': 0.0001, 'eta0': 0.5, 'learning_rate': 'invscaling', 'loss': 'log_loss', 'max_iter': 400, 'penalty': 'elasticnet'}: 53.31%\n",
      "Validation accuracy for hyperparameters {'alpha': 0.0001, 'eta0': 0.5, 'learning_rate': 'adaptive', 'loss': 'log_loss', 'max_iter': 200, 'penalty': 'l2'}: 70.54%\n",
      "Validation accuracy for hyperparameters {'alpha': 0.0001, 'eta0': 0.5, 'learning_rate': 'adaptive', 'loss': 'log_loss', 'max_iter': 200, 'penalty': 'l1'}: 73.26%\n",
      "Validation accuracy for hyperparameters {'alpha': 0.0001, 'eta0': 0.5, 'learning_rate': 'adaptive', 'loss': 'log_loss', 'max_iter': 200, 'penalty': 'elasticnet'}: 70.54%\n",
      "Validation accuracy for hyperparameters {'alpha': 0.0001, 'eta0': 0.5, 'learning_rate': 'adaptive', 'loss': 'log_loss', 'max_iter': 300, 'penalty': 'l2'}: 70.54%\n",
      "Validation accuracy for hyperparameters {'alpha': 0.0001, 'eta0': 0.5, 'learning_rate': 'adaptive', 'loss': 'log_loss', 'max_iter': 300, 'penalty': 'l1'}: 73.26%\n",
      "Validation accuracy for hyperparameters {'alpha': 0.0001, 'eta0': 0.5, 'learning_rate': 'adaptive', 'loss': 'log_loss', 'max_iter': 300, 'penalty': 'elasticnet'}: 70.54%\n",
      "Validation accuracy for hyperparameters {'alpha': 0.0001, 'eta0': 0.5, 'learning_rate': 'adaptive', 'loss': 'log_loss', 'max_iter': 400, 'penalty': 'l2'}: 70.54%\n",
      "Validation accuracy for hyperparameters {'alpha': 0.0001, 'eta0': 0.5, 'learning_rate': 'adaptive', 'loss': 'log_loss', 'max_iter': 400, 'penalty': 'l1'}: 73.26%\n",
      "Validation accuracy for hyperparameters {'alpha': 0.0001, 'eta0': 0.5, 'learning_rate': 'adaptive', 'loss': 'log_loss', 'max_iter': 400, 'penalty': 'elasticnet'}: 70.54%\n",
      "Validation accuracy for hyperparameters {'alpha': 0.001, 'eta0': 0.01, 'learning_rate': 'constant', 'loss': 'log_loss', 'max_iter': 200, 'penalty': 'l2'}: 48.29%\n",
      "Validation accuracy for hyperparameters {'alpha': 0.001, 'eta0': 0.01, 'learning_rate': 'constant', 'loss': 'log_loss', 'max_iter': 200, 'penalty': 'l1'}: 55.48%\n",
      "Validation accuracy for hyperparameters {'alpha': 0.001, 'eta0': 0.01, 'learning_rate': 'constant', 'loss': 'log_loss', 'max_iter': 200, 'penalty': 'elasticnet'}: 55.31%\n",
      "Validation accuracy for hyperparameters {'alpha': 0.001, 'eta0': 0.01, 'learning_rate': 'constant', 'loss': 'log_loss', 'max_iter': 300, 'penalty': 'l2'}: 48.29%\n",
      "Validation accuracy for hyperparameters {'alpha': 0.001, 'eta0': 0.01, 'learning_rate': 'constant', 'loss': 'log_loss', 'max_iter': 300, 'penalty': 'l1'}: 55.48%\n",
      "Validation accuracy for hyperparameters {'alpha': 0.001, 'eta0': 0.01, 'learning_rate': 'constant', 'loss': 'log_loss', 'max_iter': 300, 'penalty': 'elasticnet'}: 55.31%\n",
      "Validation accuracy for hyperparameters {'alpha': 0.001, 'eta0': 0.01, 'learning_rate': 'constant', 'loss': 'log_loss', 'max_iter': 400, 'penalty': 'l2'}: 48.29%\n",
      "Validation accuracy for hyperparameters {'alpha': 0.001, 'eta0': 0.01, 'learning_rate': 'constant', 'loss': 'log_loss', 'max_iter': 400, 'penalty': 'l1'}: 55.48%\n",
      "Validation accuracy for hyperparameters {'alpha': 0.001, 'eta0': 0.01, 'learning_rate': 'constant', 'loss': 'log_loss', 'max_iter': 400, 'penalty': 'elasticnet'}: 55.31%\n",
      "Validation accuracy for hyperparameters {'alpha': 0.001, 'eta0': 0.01, 'learning_rate': 'optimal', 'loss': 'log_loss', 'max_iter': 200, 'penalty': 'l2'}: 52.25%\n",
      "Validation accuracy for hyperparameters {'alpha': 0.001, 'eta0': 0.01, 'learning_rate': 'optimal', 'loss': 'log_loss', 'max_iter': 200, 'penalty': 'l1'}: 73.44%\n",
      "Validation accuracy for hyperparameters {'alpha': 0.001, 'eta0': 0.01, 'learning_rate': 'optimal', 'loss': 'log_loss', 'max_iter': 200, 'penalty': 'elasticnet'}: 58.68%\n",
      "Validation accuracy for hyperparameters {'alpha': 0.001, 'eta0': 0.01, 'learning_rate': 'optimal', 'loss': 'log_loss', 'max_iter': 300, 'penalty': 'l2'}: 52.25%\n",
      "Validation accuracy for hyperparameters {'alpha': 0.001, 'eta0': 0.01, 'learning_rate': 'optimal', 'loss': 'log_loss', 'max_iter': 300, 'penalty': 'l1'}: 73.44%\n",
      "Validation accuracy for hyperparameters {'alpha': 0.001, 'eta0': 0.01, 'learning_rate': 'optimal', 'loss': 'log_loss', 'max_iter': 300, 'penalty': 'elasticnet'}: 58.68%\n",
      "Validation accuracy for hyperparameters {'alpha': 0.001, 'eta0': 0.01, 'learning_rate': 'optimal', 'loss': 'log_loss', 'max_iter': 400, 'penalty': 'l2'}: 52.25%\n",
      "Validation accuracy for hyperparameters {'alpha': 0.001, 'eta0': 0.01, 'learning_rate': 'optimal', 'loss': 'log_loss', 'max_iter': 400, 'penalty': 'l1'}: 73.44%\n",
      "Validation accuracy for hyperparameters {'alpha': 0.001, 'eta0': 0.01, 'learning_rate': 'optimal', 'loss': 'log_loss', 'max_iter': 400, 'penalty': 'elasticnet'}: 58.68%\n",
      "Validation accuracy for hyperparameters {'alpha': 0.001, 'eta0': 0.01, 'learning_rate': 'invscaling', 'loss': 'log_loss', 'max_iter': 200, 'penalty': 'l2'}: 58.74%\n",
      "Validation accuracy for hyperparameters {'alpha': 0.001, 'eta0': 0.01, 'learning_rate': 'invscaling', 'loss': 'log_loss', 'max_iter': 200, 'penalty': 'l1'}: 56.85%\n",
      "Validation accuracy for hyperparameters {'alpha': 0.001, 'eta0': 0.01, 'learning_rate': 'invscaling', 'loss': 'log_loss', 'max_iter': 200, 'penalty': 'elasticnet'}: 58.74%\n",
      "Validation accuracy for hyperparameters {'alpha': 0.001, 'eta0': 0.01, 'learning_rate': 'invscaling', 'loss': 'log_loss', 'max_iter': 300, 'penalty': 'l2'}: 58.74%\n",
      "Validation accuracy for hyperparameters {'alpha': 0.001, 'eta0': 0.01, 'learning_rate': 'invscaling', 'loss': 'log_loss', 'max_iter': 300, 'penalty': 'l1'}: 56.85%\n",
      "Validation accuracy for hyperparameters {'alpha': 0.001, 'eta0': 0.01, 'learning_rate': 'invscaling', 'loss': 'log_loss', 'max_iter': 300, 'penalty': 'elasticnet'}: 58.74%\n",
      "Validation accuracy for hyperparameters {'alpha': 0.001, 'eta0': 0.01, 'learning_rate': 'invscaling', 'loss': 'log_loss', 'max_iter': 400, 'penalty': 'l2'}: 58.74%\n",
      "Validation accuracy for hyperparameters {'alpha': 0.001, 'eta0': 0.01, 'learning_rate': 'invscaling', 'loss': 'log_loss', 'max_iter': 400, 'penalty': 'l1'}: 56.85%\n",
      "Validation accuracy for hyperparameters {'alpha': 0.001, 'eta0': 0.01, 'learning_rate': 'invscaling', 'loss': 'log_loss', 'max_iter': 400, 'penalty': 'elasticnet'}: 58.74%\n",
      "Validation accuracy for hyperparameters {'alpha': 0.001, 'eta0': 0.01, 'learning_rate': 'adaptive', 'loss': 'log_loss', 'max_iter': 200, 'penalty': 'l2'}: 67.41%\n",
      "Validation accuracy for hyperparameters {'alpha': 0.001, 'eta0': 0.01, 'learning_rate': 'adaptive', 'loss': 'log_loss', 'max_iter': 200, 'penalty': 'l1'}: 73.44%\n",
      "Validation accuracy for hyperparameters {'alpha': 0.001, 'eta0': 0.01, 'learning_rate': 'adaptive', 'loss': 'log_loss', 'max_iter': 200, 'penalty': 'elasticnet'}: 69.66%\n",
      "Validation accuracy for hyperparameters {'alpha': 0.001, 'eta0': 0.01, 'learning_rate': 'adaptive', 'loss': 'log_loss', 'max_iter': 300, 'penalty': 'l2'}: 67.41%\n",
      "Validation accuracy for hyperparameters {'alpha': 0.001, 'eta0': 0.01, 'learning_rate': 'adaptive', 'loss': 'log_loss', 'max_iter': 300, 'penalty': 'l1'}: 73.44%\n",
      "Validation accuracy for hyperparameters {'alpha': 0.001, 'eta0': 0.01, 'learning_rate': 'adaptive', 'loss': 'log_loss', 'max_iter': 300, 'penalty': 'elasticnet'}: 69.66%\n",
      "Validation accuracy for hyperparameters {'alpha': 0.001, 'eta0': 0.01, 'learning_rate': 'adaptive', 'loss': 'log_loss', 'max_iter': 400, 'penalty': 'l2'}: 67.41%\n",
      "Validation accuracy for hyperparameters {'alpha': 0.001, 'eta0': 0.01, 'learning_rate': 'adaptive', 'loss': 'log_loss', 'max_iter': 400, 'penalty': 'l1'}: 73.44%\n",
      "Validation accuracy for hyperparameters {'alpha': 0.001, 'eta0': 0.01, 'learning_rate': 'adaptive', 'loss': 'log_loss', 'max_iter': 400, 'penalty': 'elasticnet'}: 69.66%\n",
      "Validation accuracy for hyperparameters {'alpha': 0.001, 'eta0': 0.1, 'learning_rate': 'constant', 'loss': 'log_loss', 'max_iter': 200, 'penalty': 'l2'}: 51.78%\n",
      "Validation accuracy for hyperparameters {'alpha': 0.001, 'eta0': 0.1, 'learning_rate': 'constant', 'loss': 'log_loss', 'max_iter': 200, 'penalty': 'l1'}: 50.25%\n",
      "Validation accuracy for hyperparameters {'alpha': 0.001, 'eta0': 0.1, 'learning_rate': 'constant', 'loss': 'log_loss', 'max_iter': 200, 'penalty': 'elasticnet'}: 51.78%\n",
      "Validation accuracy for hyperparameters {'alpha': 0.001, 'eta0': 0.1, 'learning_rate': 'constant', 'loss': 'log_loss', 'max_iter': 300, 'penalty': 'l2'}: 51.78%\n",
      "Validation accuracy for hyperparameters {'alpha': 0.001, 'eta0': 0.1, 'learning_rate': 'constant', 'loss': 'log_loss', 'max_iter': 300, 'penalty': 'l1'}: 50.25%\n",
      "Validation accuracy for hyperparameters {'alpha': 0.001, 'eta0': 0.1, 'learning_rate': 'constant', 'loss': 'log_loss', 'max_iter': 300, 'penalty': 'elasticnet'}: 51.78%\n",
      "Validation accuracy for hyperparameters {'alpha': 0.001, 'eta0': 0.1, 'learning_rate': 'constant', 'loss': 'log_loss', 'max_iter': 400, 'penalty': 'l2'}: 51.78%\n",
      "Validation accuracy for hyperparameters {'alpha': 0.001, 'eta0': 0.1, 'learning_rate': 'constant', 'loss': 'log_loss', 'max_iter': 400, 'penalty': 'l1'}: 50.25%\n",
      "Validation accuracy for hyperparameters {'alpha': 0.001, 'eta0': 0.1, 'learning_rate': 'constant', 'loss': 'log_loss', 'max_iter': 400, 'penalty': 'elasticnet'}: 51.78%\n",
      "Validation accuracy for hyperparameters {'alpha': 0.001, 'eta0': 0.1, 'learning_rate': 'optimal', 'loss': 'log_loss', 'max_iter': 200, 'penalty': 'l2'}: 52.25%\n",
      "Validation accuracy for hyperparameters {'alpha': 0.001, 'eta0': 0.1, 'learning_rate': 'optimal', 'loss': 'log_loss', 'max_iter': 200, 'penalty': 'l1'}: 73.44%\n",
      "Validation accuracy for hyperparameters {'alpha': 0.001, 'eta0': 0.1, 'learning_rate': 'optimal', 'loss': 'log_loss', 'max_iter': 200, 'penalty': 'elasticnet'}: 58.68%\n",
      "Validation accuracy for hyperparameters {'alpha': 0.001, 'eta0': 0.1, 'learning_rate': 'optimal', 'loss': 'log_loss', 'max_iter': 300, 'penalty': 'l2'}: 52.25%\n",
      "Validation accuracy for hyperparameters {'alpha': 0.001, 'eta0': 0.1, 'learning_rate': 'optimal', 'loss': 'log_loss', 'max_iter': 300, 'penalty': 'l1'}: 73.44%\n",
      "Validation accuracy for hyperparameters {'alpha': 0.001, 'eta0': 0.1, 'learning_rate': 'optimal', 'loss': 'log_loss', 'max_iter': 300, 'penalty': 'elasticnet'}: 58.68%\n",
      "Validation accuracy for hyperparameters {'alpha': 0.001, 'eta0': 0.1, 'learning_rate': 'optimal', 'loss': 'log_loss', 'max_iter': 400, 'penalty': 'l2'}: 52.25%\n",
      "Validation accuracy for hyperparameters {'alpha': 0.001, 'eta0': 0.1, 'learning_rate': 'optimal', 'loss': 'log_loss', 'max_iter': 400, 'penalty': 'l1'}: 73.44%\n",
      "Validation accuracy for hyperparameters {'alpha': 0.001, 'eta0': 0.1, 'learning_rate': 'optimal', 'loss': 'log_loss', 'max_iter': 400, 'penalty': 'elasticnet'}: 58.68%\n",
      "Validation accuracy for hyperparameters {'alpha': 0.001, 'eta0': 0.1, 'learning_rate': 'invscaling', 'loss': 'log_loss', 'max_iter': 200, 'penalty': 'l2'}: 55.37%\n",
      "Validation accuracy for hyperparameters {'alpha': 0.001, 'eta0': 0.1, 'learning_rate': 'invscaling', 'loss': 'log_loss', 'max_iter': 200, 'penalty': 'l1'}: 60.27%\n",
      "Validation accuracy for hyperparameters {'alpha': 0.001, 'eta0': 0.1, 'learning_rate': 'invscaling', 'loss': 'log_loss', 'max_iter': 200, 'penalty': 'elasticnet'}: 51.83%\n",
      "Validation accuracy for hyperparameters {'alpha': 0.001, 'eta0': 0.1, 'learning_rate': 'invscaling', 'loss': 'log_loss', 'max_iter': 300, 'penalty': 'l2'}: 55.37%\n",
      "Validation accuracy for hyperparameters {'alpha': 0.001, 'eta0': 0.1, 'learning_rate': 'invscaling', 'loss': 'log_loss', 'max_iter': 300, 'penalty': 'l1'}: 60.27%\n",
      "Validation accuracy for hyperparameters {'alpha': 0.001, 'eta0': 0.1, 'learning_rate': 'invscaling', 'loss': 'log_loss', 'max_iter': 300, 'penalty': 'elasticnet'}: 51.83%\n",
      "Validation accuracy for hyperparameters {'alpha': 0.001, 'eta0': 0.1, 'learning_rate': 'invscaling', 'loss': 'log_loss', 'max_iter': 400, 'penalty': 'l2'}: 55.37%\n",
      "Validation accuracy for hyperparameters {'alpha': 0.001, 'eta0': 0.1, 'learning_rate': 'invscaling', 'loss': 'log_loss', 'max_iter': 400, 'penalty': 'l1'}: 60.27%\n",
      "Validation accuracy for hyperparameters {'alpha': 0.001, 'eta0': 0.1, 'learning_rate': 'invscaling', 'loss': 'log_loss', 'max_iter': 400, 'penalty': 'elasticnet'}: 51.83%\n",
      "Validation accuracy for hyperparameters {'alpha': 0.001, 'eta0': 0.1, 'learning_rate': 'adaptive', 'loss': 'log_loss', 'max_iter': 200, 'penalty': 'l2'}: 67.41%\n",
      "Validation accuracy for hyperparameters {'alpha': 0.001, 'eta0': 0.1, 'learning_rate': 'adaptive', 'loss': 'log_loss', 'max_iter': 200, 'penalty': 'l1'}: 76.86%\n",
      "Validation accuracy for hyperparameters {'alpha': 0.001, 'eta0': 0.1, 'learning_rate': 'adaptive', 'loss': 'log_loss', 'max_iter': 200, 'penalty': 'elasticnet'}: 65.59%\n",
      "Validation accuracy for hyperparameters {'alpha': 0.001, 'eta0': 0.1, 'learning_rate': 'adaptive', 'loss': 'log_loss', 'max_iter': 300, 'penalty': 'l2'}: 67.41%\n",
      "Validation accuracy for hyperparameters {'alpha': 0.001, 'eta0': 0.1, 'learning_rate': 'adaptive', 'loss': 'log_loss', 'max_iter': 300, 'penalty': 'l1'}: 76.86%\n",
      "Validation accuracy for hyperparameters {'alpha': 0.001, 'eta0': 0.1, 'learning_rate': 'adaptive', 'loss': 'log_loss', 'max_iter': 300, 'penalty': 'elasticnet'}: 65.59%\n",
      "Validation accuracy for hyperparameters {'alpha': 0.001, 'eta0': 0.1, 'learning_rate': 'adaptive', 'loss': 'log_loss', 'max_iter': 400, 'penalty': 'l2'}: 67.41%\n",
      "Validation accuracy for hyperparameters {'alpha': 0.001, 'eta0': 0.1, 'learning_rate': 'adaptive', 'loss': 'log_loss', 'max_iter': 400, 'penalty': 'l1'}: 76.86%\n",
      "Validation accuracy for hyperparameters {'alpha': 0.001, 'eta0': 0.1, 'learning_rate': 'adaptive', 'loss': 'log_loss', 'max_iter': 400, 'penalty': 'elasticnet'}: 65.59%\n",
      "Validation accuracy for hyperparameters {'alpha': 0.001, 'eta0': 0.5, 'learning_rate': 'constant', 'loss': 'log_loss', 'max_iter': 200, 'penalty': 'l2'}: 48.29%\n",
      "Validation accuracy for hyperparameters {'alpha': 0.001, 'eta0': 0.5, 'learning_rate': 'constant', 'loss': 'log_loss', 'max_iter': 200, 'penalty': 'l1'}: 44.74%\n",
      "Validation accuracy for hyperparameters {'alpha': 0.001, 'eta0': 0.5, 'learning_rate': 'constant', 'loss': 'log_loss', 'max_iter': 200, 'penalty': 'elasticnet'}: 48.29%\n",
      "Validation accuracy for hyperparameters {'alpha': 0.001, 'eta0': 0.5, 'learning_rate': 'constant', 'loss': 'log_loss', 'max_iter': 300, 'penalty': 'l2'}: 48.29%\n",
      "Validation accuracy for hyperparameters {'alpha': 0.001, 'eta0': 0.5, 'learning_rate': 'constant', 'loss': 'log_loss', 'max_iter': 300, 'penalty': 'l1'}: 44.74%\n",
      "Validation accuracy for hyperparameters {'alpha': 0.001, 'eta0': 0.5, 'learning_rate': 'constant', 'loss': 'log_loss', 'max_iter': 300, 'penalty': 'elasticnet'}: 48.29%\n",
      "Validation accuracy for hyperparameters {'alpha': 0.001, 'eta0': 0.5, 'learning_rate': 'constant', 'loss': 'log_loss', 'max_iter': 400, 'penalty': 'l2'}: 48.29%\n",
      "Validation accuracy for hyperparameters {'alpha': 0.001, 'eta0': 0.5, 'learning_rate': 'constant', 'loss': 'log_loss', 'max_iter': 400, 'penalty': 'l1'}: 44.74%\n",
      "Validation accuracy for hyperparameters {'alpha': 0.001, 'eta0': 0.5, 'learning_rate': 'constant', 'loss': 'log_loss', 'max_iter': 400, 'penalty': 'elasticnet'}: 48.29%\n",
      "Validation accuracy for hyperparameters {'alpha': 0.001, 'eta0': 0.5, 'learning_rate': 'optimal', 'loss': 'log_loss', 'max_iter': 200, 'penalty': 'l2'}: 52.25%\n",
      "Validation accuracy for hyperparameters {'alpha': 0.001, 'eta0': 0.5, 'learning_rate': 'optimal', 'loss': 'log_loss', 'max_iter': 200, 'penalty': 'l1'}: 73.44%\n",
      "Validation accuracy for hyperparameters {'alpha': 0.001, 'eta0': 0.5, 'learning_rate': 'optimal', 'loss': 'log_loss', 'max_iter': 200, 'penalty': 'elasticnet'}: 58.68%\n",
      "Validation accuracy for hyperparameters {'alpha': 0.001, 'eta0': 0.5, 'learning_rate': 'optimal', 'loss': 'log_loss', 'max_iter': 300, 'penalty': 'l2'}: 52.25%\n",
      "Validation accuracy for hyperparameters {'alpha': 0.001, 'eta0': 0.5, 'learning_rate': 'optimal', 'loss': 'log_loss', 'max_iter': 300, 'penalty': 'l1'}: 73.44%\n",
      "Validation accuracy for hyperparameters {'alpha': 0.001, 'eta0': 0.5, 'learning_rate': 'optimal', 'loss': 'log_loss', 'max_iter': 300, 'penalty': 'elasticnet'}: 58.68%\n",
      "Validation accuracy for hyperparameters {'alpha': 0.001, 'eta0': 0.5, 'learning_rate': 'optimal', 'loss': 'log_loss', 'max_iter': 400, 'penalty': 'l2'}: 52.25%\n",
      "Validation accuracy for hyperparameters {'alpha': 0.001, 'eta0': 0.5, 'learning_rate': 'optimal', 'loss': 'log_loss', 'max_iter': 400, 'penalty': 'l1'}: 73.44%\n",
      "Validation accuracy for hyperparameters {'alpha': 0.001, 'eta0': 0.5, 'learning_rate': 'optimal', 'loss': 'log_loss', 'max_iter': 400, 'penalty': 'elasticnet'}: 58.68%\n",
      "Validation accuracy for hyperparameters {'alpha': 0.001, 'eta0': 0.5, 'learning_rate': 'invscaling', 'loss': 'log_loss', 'max_iter': 200, 'penalty': 'l2'}: 49.95%\n",
      "Validation accuracy for hyperparameters {'alpha': 0.001, 'eta0': 0.5, 'learning_rate': 'invscaling', 'loss': 'log_loss', 'max_iter': 200, 'penalty': 'l1'}: 65.12%\n",
      "Validation accuracy for hyperparameters {'alpha': 0.001, 'eta0': 0.5, 'learning_rate': 'invscaling', 'loss': 'log_loss', 'max_iter': 200, 'penalty': 'elasticnet'}: 63.52%\n",
      "Validation accuracy for hyperparameters {'alpha': 0.001, 'eta0': 0.5, 'learning_rate': 'invscaling', 'loss': 'log_loss', 'max_iter': 300, 'penalty': 'l2'}: 49.95%\n",
      "Validation accuracy for hyperparameters {'alpha': 0.001, 'eta0': 0.5, 'learning_rate': 'invscaling', 'loss': 'log_loss', 'max_iter': 300, 'penalty': 'l1'}: 65.12%\n",
      "Validation accuracy for hyperparameters {'alpha': 0.001, 'eta0': 0.5, 'learning_rate': 'invscaling', 'loss': 'log_loss', 'max_iter': 300, 'penalty': 'elasticnet'}: 63.52%\n",
      "Validation accuracy for hyperparameters {'alpha': 0.001, 'eta0': 0.5, 'learning_rate': 'invscaling', 'loss': 'log_loss', 'max_iter': 400, 'penalty': 'l2'}: 49.95%\n",
      "Validation accuracy for hyperparameters {'alpha': 0.001, 'eta0': 0.5, 'learning_rate': 'invscaling', 'loss': 'log_loss', 'max_iter': 400, 'penalty': 'l1'}: 65.12%\n",
      "Validation accuracy for hyperparameters {'alpha': 0.001, 'eta0': 0.5, 'learning_rate': 'invscaling', 'loss': 'log_loss', 'max_iter': 400, 'penalty': 'elasticnet'}: 63.52%\n",
      "Validation accuracy for hyperparameters {'alpha': 0.001, 'eta0': 0.5, 'learning_rate': 'adaptive', 'loss': 'log_loss', 'max_iter': 200, 'penalty': 'l2'}: 59.68%\n",
      "Validation accuracy for hyperparameters {'alpha': 0.001, 'eta0': 0.5, 'learning_rate': 'adaptive', 'loss': 'log_loss', 'max_iter': 200, 'penalty': 'l1'}: 76.57%\n",
      "Validation accuracy for hyperparameters {'alpha': 0.001, 'eta0': 0.5, 'learning_rate': 'adaptive', 'loss': 'log_loss', 'max_iter': 200, 'penalty': 'elasticnet'}: 59.27%\n",
      "Validation accuracy for hyperparameters {'alpha': 0.001, 'eta0': 0.5, 'learning_rate': 'adaptive', 'loss': 'log_loss', 'max_iter': 300, 'penalty': 'l2'}: 59.68%\n",
      "Validation accuracy for hyperparameters {'alpha': 0.001, 'eta0': 0.5, 'learning_rate': 'adaptive', 'loss': 'log_loss', 'max_iter': 300, 'penalty': 'l1'}: 76.57%\n",
      "Validation accuracy for hyperparameters {'alpha': 0.001, 'eta0': 0.5, 'learning_rate': 'adaptive', 'loss': 'log_loss', 'max_iter': 300, 'penalty': 'elasticnet'}: 59.27%\n",
      "Validation accuracy for hyperparameters {'alpha': 0.001, 'eta0': 0.5, 'learning_rate': 'adaptive', 'loss': 'log_loss', 'max_iter': 400, 'penalty': 'l2'}: 59.68%\n",
      "Validation accuracy for hyperparameters {'alpha': 0.001, 'eta0': 0.5, 'learning_rate': 'adaptive', 'loss': 'log_loss', 'max_iter': 400, 'penalty': 'l1'}: 76.57%\n",
      "Validation accuracy for hyperparameters {'alpha': 0.001, 'eta0': 0.5, 'learning_rate': 'adaptive', 'loss': 'log_loss', 'max_iter': 400, 'penalty': 'elasticnet'}: 59.27%\n",
      "Validation accuracy for hyperparameters {'alpha': 0.01, 'eta0': 0.01, 'learning_rate': 'constant', 'loss': 'log_loss', 'max_iter': 200, 'penalty': 'l2'}: 44.81%\n",
      "Validation accuracy for hyperparameters {'alpha': 0.01, 'eta0': 0.01, 'learning_rate': 'constant', 'loss': 'log_loss', 'max_iter': 200, 'penalty': 'l1'}: 45.10%\n",
      "Validation accuracy for hyperparameters {'alpha': 0.01, 'eta0': 0.01, 'learning_rate': 'constant', 'loss': 'log_loss', 'max_iter': 200, 'penalty': 'elasticnet'}: 48.22%\n",
      "Validation accuracy for hyperparameters {'alpha': 0.01, 'eta0': 0.01, 'learning_rate': 'constant', 'loss': 'log_loss', 'max_iter': 300, 'penalty': 'l2'}: 44.81%\n",
      "Validation accuracy for hyperparameters {'alpha': 0.01, 'eta0': 0.01, 'learning_rate': 'constant', 'loss': 'log_loss', 'max_iter': 300, 'penalty': 'l1'}: 45.10%\n",
      "Validation accuracy for hyperparameters {'alpha': 0.01, 'eta0': 0.01, 'learning_rate': 'constant', 'loss': 'log_loss', 'max_iter': 300, 'penalty': 'elasticnet'}: 48.22%\n",
      "Validation accuracy for hyperparameters {'alpha': 0.01, 'eta0': 0.01, 'learning_rate': 'constant', 'loss': 'log_loss', 'max_iter': 400, 'penalty': 'l2'}: 44.81%\n",
      "Validation accuracy for hyperparameters {'alpha': 0.01, 'eta0': 0.01, 'learning_rate': 'constant', 'loss': 'log_loss', 'max_iter': 400, 'penalty': 'l1'}: 45.10%\n",
      "Validation accuracy for hyperparameters {'alpha': 0.01, 'eta0': 0.01, 'learning_rate': 'constant', 'loss': 'log_loss', 'max_iter': 400, 'penalty': 'elasticnet'}: 48.22%\n",
      "Validation accuracy for hyperparameters {'alpha': 0.01, 'eta0': 0.01, 'learning_rate': 'optimal', 'loss': 'log_loss', 'max_iter': 200, 'penalty': 'l2'}: 53.31%\n",
      "Validation accuracy for hyperparameters {'alpha': 0.01, 'eta0': 0.01, 'learning_rate': 'optimal', 'loss': 'log_loss', 'max_iter': 200, 'penalty': 'l1'}: 54.79%\n",
      "Validation accuracy for hyperparameters {'alpha': 0.01, 'eta0': 0.01, 'learning_rate': 'optimal', 'loss': 'log_loss', 'max_iter': 200, 'penalty': 'elasticnet'}: 52.96%\n",
      "Validation accuracy for hyperparameters {'alpha': 0.01, 'eta0': 0.01, 'learning_rate': 'optimal', 'loss': 'log_loss', 'max_iter': 300, 'penalty': 'l2'}: 53.31%\n",
      "Validation accuracy for hyperparameters {'alpha': 0.01, 'eta0': 0.01, 'learning_rate': 'optimal', 'loss': 'log_loss', 'max_iter': 300, 'penalty': 'l1'}: 54.79%\n",
      "Validation accuracy for hyperparameters {'alpha': 0.01, 'eta0': 0.01, 'learning_rate': 'optimal', 'loss': 'log_loss', 'max_iter': 300, 'penalty': 'elasticnet'}: 52.96%\n",
      "Validation accuracy for hyperparameters {'alpha': 0.01, 'eta0': 0.01, 'learning_rate': 'optimal', 'loss': 'log_loss', 'max_iter': 400, 'penalty': 'l2'}: 53.31%\n",
      "Validation accuracy for hyperparameters {'alpha': 0.01, 'eta0': 0.01, 'learning_rate': 'optimal', 'loss': 'log_loss', 'max_iter': 400, 'penalty': 'l1'}: 54.79%\n",
      "Validation accuracy for hyperparameters {'alpha': 0.01, 'eta0': 0.01, 'learning_rate': 'optimal', 'loss': 'log_loss', 'max_iter': 400, 'penalty': 'elasticnet'}: 52.96%\n",
      "Validation accuracy for hyperparameters {'alpha': 0.01, 'eta0': 0.01, 'learning_rate': 'invscaling', 'loss': 'log_loss', 'max_iter': 200, 'penalty': 'l2'}: 58.74%\n",
      "Validation accuracy for hyperparameters {'alpha': 0.01, 'eta0': 0.01, 'learning_rate': 'invscaling', 'loss': 'log_loss', 'max_iter': 200, 'penalty': 'l1'}: 56.79%\n",
      "Validation accuracy for hyperparameters {'alpha': 0.01, 'eta0': 0.01, 'learning_rate': 'invscaling', 'loss': 'log_loss', 'max_iter': 200, 'penalty': 'elasticnet'}: 58.74%\n",
      "Validation accuracy for hyperparameters {'alpha': 0.01, 'eta0': 0.01, 'learning_rate': 'invscaling', 'loss': 'log_loss', 'max_iter': 300, 'penalty': 'l2'}: 58.74%\n",
      "Validation accuracy for hyperparameters {'alpha': 0.01, 'eta0': 0.01, 'learning_rate': 'invscaling', 'loss': 'log_loss', 'max_iter': 300, 'penalty': 'l1'}: 56.79%\n",
      "Validation accuracy for hyperparameters {'alpha': 0.01, 'eta0': 0.01, 'learning_rate': 'invscaling', 'loss': 'log_loss', 'max_iter': 300, 'penalty': 'elasticnet'}: 58.74%\n",
      "Validation accuracy for hyperparameters {'alpha': 0.01, 'eta0': 0.01, 'learning_rate': 'invscaling', 'loss': 'log_loss', 'max_iter': 400, 'penalty': 'l2'}: 58.74%\n",
      "Validation accuracy for hyperparameters {'alpha': 0.01, 'eta0': 0.01, 'learning_rate': 'invscaling', 'loss': 'log_loss', 'max_iter': 400, 'penalty': 'l1'}: 56.79%\n",
      "Validation accuracy for hyperparameters {'alpha': 0.01, 'eta0': 0.01, 'learning_rate': 'invscaling', 'loss': 'log_loss', 'max_iter': 400, 'penalty': 'elasticnet'}: 58.74%\n",
      "Validation accuracy for hyperparameters {'alpha': 0.01, 'eta0': 0.01, 'learning_rate': 'adaptive', 'loss': 'log_loss', 'max_iter': 200, 'penalty': 'l2'}: 64.58%\n",
      "Validation accuracy for hyperparameters {'alpha': 0.01, 'eta0': 0.01, 'learning_rate': 'adaptive', 'loss': 'log_loss', 'max_iter': 200, 'penalty': 'l1'}: 63.46%\n",
      "Validation accuracy for hyperparameters {'alpha': 0.01, 'eta0': 0.01, 'learning_rate': 'adaptive', 'loss': 'log_loss', 'max_iter': 200, 'penalty': 'elasticnet'}: 64.17%\n",
      "Validation accuracy for hyperparameters {'alpha': 0.01, 'eta0': 0.01, 'learning_rate': 'adaptive', 'loss': 'log_loss', 'max_iter': 300, 'penalty': 'l2'}: 64.58%\n",
      "Validation accuracy for hyperparameters {'alpha': 0.01, 'eta0': 0.01, 'learning_rate': 'adaptive', 'loss': 'log_loss', 'max_iter': 300, 'penalty': 'l1'}: 63.46%\n",
      "Validation accuracy for hyperparameters {'alpha': 0.01, 'eta0': 0.01, 'learning_rate': 'adaptive', 'loss': 'log_loss', 'max_iter': 300, 'penalty': 'elasticnet'}: 64.17%\n",
      "Validation accuracy for hyperparameters {'alpha': 0.01, 'eta0': 0.01, 'learning_rate': 'adaptive', 'loss': 'log_loss', 'max_iter': 400, 'penalty': 'l2'}: 64.58%\n",
      "Validation accuracy for hyperparameters {'alpha': 0.01, 'eta0': 0.01, 'learning_rate': 'adaptive', 'loss': 'log_loss', 'max_iter': 400, 'penalty': 'l1'}: 63.46%\n",
      "Validation accuracy for hyperparameters {'alpha': 0.01, 'eta0': 0.01, 'learning_rate': 'adaptive', 'loss': 'log_loss', 'max_iter': 400, 'penalty': 'elasticnet'}: 64.17%\n",
      "Validation accuracy for hyperparameters {'alpha': 0.01, 'eta0': 0.1, 'learning_rate': 'constant', 'loss': 'log_loss', 'max_iter': 200, 'penalty': 'l2'}: 48.29%\n",
      "Validation accuracy for hyperparameters {'alpha': 0.01, 'eta0': 0.1, 'learning_rate': 'constant', 'loss': 'log_loss', 'max_iter': 200, 'penalty': 'l1'}: 49.89%\n",
      "Validation accuracy for hyperparameters {'alpha': 0.01, 'eta0': 0.1, 'learning_rate': 'constant', 'loss': 'log_loss', 'max_iter': 200, 'penalty': 'elasticnet'}: 41.26%\n",
      "Validation accuracy for hyperparameters {'alpha': 0.01, 'eta0': 0.1, 'learning_rate': 'constant', 'loss': 'log_loss', 'max_iter': 300, 'penalty': 'l2'}: 48.29%\n",
      "Validation accuracy for hyperparameters {'alpha': 0.01, 'eta0': 0.1, 'learning_rate': 'constant', 'loss': 'log_loss', 'max_iter': 300, 'penalty': 'l1'}: 49.89%\n",
      "Validation accuracy for hyperparameters {'alpha': 0.01, 'eta0': 0.1, 'learning_rate': 'constant', 'loss': 'log_loss', 'max_iter': 300, 'penalty': 'elasticnet'}: 41.26%\n",
      "Validation accuracy for hyperparameters {'alpha': 0.01, 'eta0': 0.1, 'learning_rate': 'constant', 'loss': 'log_loss', 'max_iter': 400, 'penalty': 'l2'}: 48.29%\n",
      "Validation accuracy for hyperparameters {'alpha': 0.01, 'eta0': 0.1, 'learning_rate': 'constant', 'loss': 'log_loss', 'max_iter': 400, 'penalty': 'l1'}: 49.89%\n",
      "Validation accuracy for hyperparameters {'alpha': 0.01, 'eta0': 0.1, 'learning_rate': 'constant', 'loss': 'log_loss', 'max_iter': 400, 'penalty': 'elasticnet'}: 41.26%\n",
      "Validation accuracy for hyperparameters {'alpha': 0.01, 'eta0': 0.1, 'learning_rate': 'optimal', 'loss': 'log_loss', 'max_iter': 200, 'penalty': 'l2'}: 53.31%\n",
      "Validation accuracy for hyperparameters {'alpha': 0.01, 'eta0': 0.1, 'learning_rate': 'optimal', 'loss': 'log_loss', 'max_iter': 200, 'penalty': 'l1'}: 54.79%\n",
      "Validation accuracy for hyperparameters {'alpha': 0.01, 'eta0': 0.1, 'learning_rate': 'optimal', 'loss': 'log_loss', 'max_iter': 200, 'penalty': 'elasticnet'}: 52.96%\n",
      "Validation accuracy for hyperparameters {'alpha': 0.01, 'eta0': 0.1, 'learning_rate': 'optimal', 'loss': 'log_loss', 'max_iter': 300, 'penalty': 'l2'}: 53.31%\n",
      "Validation accuracy for hyperparameters {'alpha': 0.01, 'eta0': 0.1, 'learning_rate': 'optimal', 'loss': 'log_loss', 'max_iter': 300, 'penalty': 'l1'}: 54.79%\n",
      "Validation accuracy for hyperparameters {'alpha': 0.01, 'eta0': 0.1, 'learning_rate': 'optimal', 'loss': 'log_loss', 'max_iter': 300, 'penalty': 'elasticnet'}: 52.96%\n",
      "Validation accuracy for hyperparameters {'alpha': 0.01, 'eta0': 0.1, 'learning_rate': 'optimal', 'loss': 'log_loss', 'max_iter': 400, 'penalty': 'l2'}: 53.31%\n",
      "Validation accuracy for hyperparameters {'alpha': 0.01, 'eta0': 0.1, 'learning_rate': 'optimal', 'loss': 'log_loss', 'max_iter': 400, 'penalty': 'l1'}: 54.79%\n",
      "Validation accuracy for hyperparameters {'alpha': 0.01, 'eta0': 0.1, 'learning_rate': 'optimal', 'loss': 'log_loss', 'max_iter': 400, 'penalty': 'elasticnet'}: 52.96%\n",
      "Validation accuracy for hyperparameters {'alpha': 0.01, 'eta0': 0.1, 'learning_rate': 'invscaling', 'loss': 'log_loss', 'max_iter': 200, 'penalty': 'l2'}: 58.91%\n",
      "Validation accuracy for hyperparameters {'alpha': 0.01, 'eta0': 0.1, 'learning_rate': 'invscaling', 'loss': 'log_loss', 'max_iter': 200, 'penalty': 'l1'}: 56.97%\n",
      "Validation accuracy for hyperparameters {'alpha': 0.01, 'eta0': 0.1, 'learning_rate': 'invscaling', 'loss': 'log_loss', 'max_iter': 200, 'penalty': 'elasticnet'}: 57.62%\n",
      "Validation accuracy for hyperparameters {'alpha': 0.01, 'eta0': 0.1, 'learning_rate': 'invscaling', 'loss': 'log_loss', 'max_iter': 300, 'penalty': 'l2'}: 58.91%\n",
      "Validation accuracy for hyperparameters {'alpha': 0.01, 'eta0': 0.1, 'learning_rate': 'invscaling', 'loss': 'log_loss', 'max_iter': 300, 'penalty': 'l1'}: 56.97%\n",
      "Validation accuracy for hyperparameters {'alpha': 0.01, 'eta0': 0.1, 'learning_rate': 'invscaling', 'loss': 'log_loss', 'max_iter': 300, 'penalty': 'elasticnet'}: 57.62%\n",
      "Validation accuracy for hyperparameters {'alpha': 0.01, 'eta0': 0.1, 'learning_rate': 'invscaling', 'loss': 'log_loss', 'max_iter': 400, 'penalty': 'l2'}: 58.91%\n",
      "Validation accuracy for hyperparameters {'alpha': 0.01, 'eta0': 0.1, 'learning_rate': 'invscaling', 'loss': 'log_loss', 'max_iter': 400, 'penalty': 'l1'}: 56.97%\n",
      "Validation accuracy for hyperparameters {'alpha': 0.01, 'eta0': 0.1, 'learning_rate': 'invscaling', 'loss': 'log_loss', 'max_iter': 400, 'penalty': 'elasticnet'}: 57.62%\n",
      "Validation accuracy for hyperparameters {'alpha': 0.01, 'eta0': 0.1, 'learning_rate': 'adaptive', 'loss': 'log_loss', 'max_iter': 200, 'penalty': 'l2'}: 57.79%\n",
      "Validation accuracy for hyperparameters {'alpha': 0.01, 'eta0': 0.1, 'learning_rate': 'adaptive', 'loss': 'log_loss', 'max_iter': 200, 'penalty': 'l1'}: 70.84%\n",
      "Validation accuracy for hyperparameters {'alpha': 0.01, 'eta0': 0.1, 'learning_rate': 'adaptive', 'loss': 'log_loss', 'max_iter': 200, 'penalty': 'elasticnet'}: 55.61%\n",
      "Validation accuracy for hyperparameters {'alpha': 0.01, 'eta0': 0.1, 'learning_rate': 'adaptive', 'loss': 'log_loss', 'max_iter': 300, 'penalty': 'l2'}: 57.79%\n",
      "Validation accuracy for hyperparameters {'alpha': 0.01, 'eta0': 0.1, 'learning_rate': 'adaptive', 'loss': 'log_loss', 'max_iter': 300, 'penalty': 'l1'}: 70.84%\n",
      "Validation accuracy for hyperparameters {'alpha': 0.01, 'eta0': 0.1, 'learning_rate': 'adaptive', 'loss': 'log_loss', 'max_iter': 300, 'penalty': 'elasticnet'}: 55.61%\n",
      "Validation accuracy for hyperparameters {'alpha': 0.01, 'eta0': 0.1, 'learning_rate': 'adaptive', 'loss': 'log_loss', 'max_iter': 400, 'penalty': 'l2'}: 57.79%\n",
      "Validation accuracy for hyperparameters {'alpha': 0.01, 'eta0': 0.1, 'learning_rate': 'adaptive', 'loss': 'log_loss', 'max_iter': 400, 'penalty': 'l1'}: 70.84%\n",
      "Validation accuracy for hyperparameters {'alpha': 0.01, 'eta0': 0.1, 'learning_rate': 'adaptive', 'loss': 'log_loss', 'max_iter': 400, 'penalty': 'elasticnet'}: 55.61%\n",
      "Validation accuracy for hyperparameters {'alpha': 0.01, 'eta0': 0.5, 'learning_rate': 'constant', 'loss': 'log_loss', 'max_iter': 200, 'penalty': 'l2'}: 48.29%\n",
      "Validation accuracy for hyperparameters {'alpha': 0.01, 'eta0': 0.5, 'learning_rate': 'constant', 'loss': 'log_loss', 'max_iter': 200, 'penalty': 'l1'}: 44.87%\n",
      "Validation accuracy for hyperparameters {'alpha': 0.01, 'eta0': 0.5, 'learning_rate': 'constant', 'loss': 'log_loss', 'max_iter': 200, 'penalty': 'elasticnet'}: 44.74%\n",
      "Validation accuracy for hyperparameters {'alpha': 0.01, 'eta0': 0.5, 'learning_rate': 'constant', 'loss': 'log_loss', 'max_iter': 300, 'penalty': 'l2'}: 48.29%\n",
      "Validation accuracy for hyperparameters {'alpha': 0.01, 'eta0': 0.5, 'learning_rate': 'constant', 'loss': 'log_loss', 'max_iter': 300, 'penalty': 'l1'}: 44.87%\n",
      "Validation accuracy for hyperparameters {'alpha': 0.01, 'eta0': 0.5, 'learning_rate': 'constant', 'loss': 'log_loss', 'max_iter': 300, 'penalty': 'elasticnet'}: 44.74%\n",
      "Validation accuracy for hyperparameters {'alpha': 0.01, 'eta0': 0.5, 'learning_rate': 'constant', 'loss': 'log_loss', 'max_iter': 400, 'penalty': 'l2'}: 48.29%\n",
      "Validation accuracy for hyperparameters {'alpha': 0.01, 'eta0': 0.5, 'learning_rate': 'constant', 'loss': 'log_loss', 'max_iter': 400, 'penalty': 'l1'}: 44.87%\n",
      "Validation accuracy for hyperparameters {'alpha': 0.01, 'eta0': 0.5, 'learning_rate': 'constant', 'loss': 'log_loss', 'max_iter': 400, 'penalty': 'elasticnet'}: 44.74%\n",
      "Validation accuracy for hyperparameters {'alpha': 0.01, 'eta0': 0.5, 'learning_rate': 'optimal', 'loss': 'log_loss', 'max_iter': 200, 'penalty': 'l2'}: 53.31%\n",
      "Validation accuracy for hyperparameters {'alpha': 0.01, 'eta0': 0.5, 'learning_rate': 'optimal', 'loss': 'log_loss', 'max_iter': 200, 'penalty': 'l1'}: 54.79%\n",
      "Validation accuracy for hyperparameters {'alpha': 0.01, 'eta0': 0.5, 'learning_rate': 'optimal', 'loss': 'log_loss', 'max_iter': 200, 'penalty': 'elasticnet'}: 52.96%\n",
      "Validation accuracy for hyperparameters {'alpha': 0.01, 'eta0': 0.5, 'learning_rate': 'optimal', 'loss': 'log_loss', 'max_iter': 300, 'penalty': 'l2'}: 53.31%\n",
      "Validation accuracy for hyperparameters {'alpha': 0.01, 'eta0': 0.5, 'learning_rate': 'optimal', 'loss': 'log_loss', 'max_iter': 300, 'penalty': 'l1'}: 54.79%\n",
      "Validation accuracy for hyperparameters {'alpha': 0.01, 'eta0': 0.5, 'learning_rate': 'optimal', 'loss': 'log_loss', 'max_iter': 300, 'penalty': 'elasticnet'}: 52.96%\n",
      "Validation accuracy for hyperparameters {'alpha': 0.01, 'eta0': 0.5, 'learning_rate': 'optimal', 'loss': 'log_loss', 'max_iter': 400, 'penalty': 'l2'}: 53.31%\n",
      "Validation accuracy for hyperparameters {'alpha': 0.01, 'eta0': 0.5, 'learning_rate': 'optimal', 'loss': 'log_loss', 'max_iter': 400, 'penalty': 'l1'}: 54.79%\n",
      "Validation accuracy for hyperparameters {'alpha': 0.01, 'eta0': 0.5, 'learning_rate': 'optimal', 'loss': 'log_loss', 'max_iter': 400, 'penalty': 'elasticnet'}: 52.96%\n",
      "Validation accuracy for hyperparameters {'alpha': 0.01, 'eta0': 0.5, 'learning_rate': 'invscaling', 'loss': 'log_loss', 'max_iter': 200, 'penalty': 'l2'}: 52.60%\n",
      "Validation accuracy for hyperparameters {'alpha': 0.01, 'eta0': 0.5, 'learning_rate': 'invscaling', 'loss': 'log_loss', 'max_iter': 200, 'penalty': 'l1'}: 57.49%\n",
      "Validation accuracy for hyperparameters {'alpha': 0.01, 'eta0': 0.5, 'learning_rate': 'invscaling', 'loss': 'log_loss', 'max_iter': 200, 'penalty': 'elasticnet'}: 55.19%\n",
      "Validation accuracy for hyperparameters {'alpha': 0.01, 'eta0': 0.5, 'learning_rate': 'invscaling', 'loss': 'log_loss', 'max_iter': 300, 'penalty': 'l2'}: 52.60%\n",
      "Validation accuracy for hyperparameters {'alpha': 0.01, 'eta0': 0.5, 'learning_rate': 'invscaling', 'loss': 'log_loss', 'max_iter': 300, 'penalty': 'l1'}: 57.49%\n",
      "Validation accuracy for hyperparameters {'alpha': 0.01, 'eta0': 0.5, 'learning_rate': 'invscaling', 'loss': 'log_loss', 'max_iter': 300, 'penalty': 'elasticnet'}: 55.19%\n",
      "Validation accuracy for hyperparameters {'alpha': 0.01, 'eta0': 0.5, 'learning_rate': 'invscaling', 'loss': 'log_loss', 'max_iter': 400, 'penalty': 'l2'}: 52.60%\n",
      "Validation accuracy for hyperparameters {'alpha': 0.01, 'eta0': 0.5, 'learning_rate': 'invscaling', 'loss': 'log_loss', 'max_iter': 400, 'penalty': 'l1'}: 57.49%\n",
      "Validation accuracy for hyperparameters {'alpha': 0.01, 'eta0': 0.5, 'learning_rate': 'invscaling', 'loss': 'log_loss', 'max_iter': 400, 'penalty': 'elasticnet'}: 55.19%\n",
      "Validation accuracy for hyperparameters {'alpha': 0.01, 'eta0': 0.5, 'learning_rate': 'adaptive', 'loss': 'log_loss', 'max_iter': 200, 'penalty': 'l2'}: 54.96%\n",
      "Validation accuracy for hyperparameters {'alpha': 0.01, 'eta0': 0.5, 'learning_rate': 'adaptive', 'loss': 'log_loss', 'max_iter': 200, 'penalty': 'l1'}: 70.60%\n",
      "Validation accuracy for hyperparameters {'alpha': 0.01, 'eta0': 0.5, 'learning_rate': 'adaptive', 'loss': 'log_loss', 'max_iter': 200, 'penalty': 'elasticnet'}: 54.72%\n",
      "Validation accuracy for hyperparameters {'alpha': 0.01, 'eta0': 0.5, 'learning_rate': 'adaptive', 'loss': 'log_loss', 'max_iter': 300, 'penalty': 'l2'}: 54.96%\n",
      "Validation accuracy for hyperparameters {'alpha': 0.01, 'eta0': 0.5, 'learning_rate': 'adaptive', 'loss': 'log_loss', 'max_iter': 300, 'penalty': 'l1'}: 70.60%\n",
      "Validation accuracy for hyperparameters {'alpha': 0.01, 'eta0': 0.5, 'learning_rate': 'adaptive', 'loss': 'log_loss', 'max_iter': 300, 'penalty': 'elasticnet'}: 54.72%\n",
      "Validation accuracy for hyperparameters {'alpha': 0.01, 'eta0': 0.5, 'learning_rate': 'adaptive', 'loss': 'log_loss', 'max_iter': 400, 'penalty': 'l2'}: 54.96%\n",
      "Validation accuracy for hyperparameters {'alpha': 0.01, 'eta0': 0.5, 'learning_rate': 'adaptive', 'loss': 'log_loss', 'max_iter': 400, 'penalty': 'l1'}: 70.60%\n",
      "Validation accuracy for hyperparameters {'alpha': 0.01, 'eta0': 0.5, 'learning_rate': 'adaptive', 'loss': 'log_loss', 'max_iter': 400, 'penalty': 'elasticnet'}: 54.72%\n",
      "Validation accuracy for hyperparameters {'alpha': 0.1, 'eta0': 0.01, 'learning_rate': 'constant', 'loss': 'log_loss', 'max_iter': 200, 'penalty': 'l2'}: 44.81%\n",
      "Validation accuracy for hyperparameters {'alpha': 0.1, 'eta0': 0.01, 'learning_rate': 'constant', 'loss': 'log_loss', 'max_iter': 200, 'penalty': 'l1'}: 41.26%\n",
      "Validation accuracy for hyperparameters {'alpha': 0.1, 'eta0': 0.01, 'learning_rate': 'constant', 'loss': 'log_loss', 'max_iter': 200, 'penalty': 'elasticnet'}: 44.81%\n",
      "Validation accuracy for hyperparameters {'alpha': 0.1, 'eta0': 0.01, 'learning_rate': 'constant', 'loss': 'log_loss', 'max_iter': 300, 'penalty': 'l2'}: 44.81%\n",
      "Validation accuracy for hyperparameters {'alpha': 0.1, 'eta0': 0.01, 'learning_rate': 'constant', 'loss': 'log_loss', 'max_iter': 300, 'penalty': 'l1'}: 41.26%\n",
      "Validation accuracy for hyperparameters {'alpha': 0.1, 'eta0': 0.01, 'learning_rate': 'constant', 'loss': 'log_loss', 'max_iter': 300, 'penalty': 'elasticnet'}: 44.81%\n",
      "Validation accuracy for hyperparameters {'alpha': 0.1, 'eta0': 0.01, 'learning_rate': 'constant', 'loss': 'log_loss', 'max_iter': 400, 'penalty': 'l2'}: 44.81%\n",
      "Validation accuracy for hyperparameters {'alpha': 0.1, 'eta0': 0.01, 'learning_rate': 'constant', 'loss': 'log_loss', 'max_iter': 400, 'penalty': 'l1'}: 41.26%\n",
      "Validation accuracy for hyperparameters {'alpha': 0.1, 'eta0': 0.01, 'learning_rate': 'constant', 'loss': 'log_loss', 'max_iter': 400, 'penalty': 'elasticnet'}: 44.81%\n",
      "Validation accuracy for hyperparameters {'alpha': 0.1, 'eta0': 0.01, 'learning_rate': 'optimal', 'loss': 'log_loss', 'max_iter': 200, 'penalty': 'l2'}: 48.53%\n",
      "Validation accuracy for hyperparameters {'alpha': 0.1, 'eta0': 0.01, 'learning_rate': 'optimal', 'loss': 'log_loss', 'max_iter': 200, 'penalty': 'l1'}: 58.68%\n",
      "Validation accuracy for hyperparameters {'alpha': 0.1, 'eta0': 0.01, 'learning_rate': 'optimal', 'loss': 'log_loss', 'max_iter': 200, 'penalty': 'elasticnet'}: 55.37%\n",
      "Validation accuracy for hyperparameters {'alpha': 0.1, 'eta0': 0.01, 'learning_rate': 'optimal', 'loss': 'log_loss', 'max_iter': 300, 'penalty': 'l2'}: 48.53%\n",
      "Validation accuracy for hyperparameters {'alpha': 0.1, 'eta0': 0.01, 'learning_rate': 'optimal', 'loss': 'log_loss', 'max_iter': 300, 'penalty': 'l1'}: 58.68%\n",
      "Validation accuracy for hyperparameters {'alpha': 0.1, 'eta0': 0.01, 'learning_rate': 'optimal', 'loss': 'log_loss', 'max_iter': 300, 'penalty': 'elasticnet'}: 55.37%\n",
      "Validation accuracy for hyperparameters {'alpha': 0.1, 'eta0': 0.01, 'learning_rate': 'optimal', 'loss': 'log_loss', 'max_iter': 400, 'penalty': 'l2'}: 48.53%\n",
      "Validation accuracy for hyperparameters {'alpha': 0.1, 'eta0': 0.01, 'learning_rate': 'optimal', 'loss': 'log_loss', 'max_iter': 400, 'penalty': 'l1'}: 58.68%\n",
      "Validation accuracy for hyperparameters {'alpha': 0.1, 'eta0': 0.01, 'learning_rate': 'optimal', 'loss': 'log_loss', 'max_iter': 400, 'penalty': 'elasticnet'}: 55.37%\n",
      "Validation accuracy for hyperparameters {'alpha': 0.1, 'eta0': 0.01, 'learning_rate': 'invscaling', 'loss': 'log_loss', 'max_iter': 200, 'penalty': 'l2'}: 58.74%\n",
      "Validation accuracy for hyperparameters {'alpha': 0.1, 'eta0': 0.01, 'learning_rate': 'invscaling', 'loss': 'log_loss', 'max_iter': 200, 'penalty': 'l1'}: 55.20%\n",
      "Validation accuracy for hyperparameters {'alpha': 0.1, 'eta0': 0.01, 'learning_rate': 'invscaling', 'loss': 'log_loss', 'max_iter': 200, 'penalty': 'elasticnet'}: 55.20%\n",
      "Validation accuracy for hyperparameters {'alpha': 0.1, 'eta0': 0.01, 'learning_rate': 'invscaling', 'loss': 'log_loss', 'max_iter': 300, 'penalty': 'l2'}: 58.74%\n",
      "Validation accuracy for hyperparameters {'alpha': 0.1, 'eta0': 0.01, 'learning_rate': 'invscaling', 'loss': 'log_loss', 'max_iter': 300, 'penalty': 'l1'}: 55.20%\n",
      "Validation accuracy for hyperparameters {'alpha': 0.1, 'eta0': 0.01, 'learning_rate': 'invscaling', 'loss': 'log_loss', 'max_iter': 300, 'penalty': 'elasticnet'}: 55.20%\n",
      "Validation accuracy for hyperparameters {'alpha': 0.1, 'eta0': 0.01, 'learning_rate': 'invscaling', 'loss': 'log_loss', 'max_iter': 400, 'penalty': 'l2'}: 58.74%\n",
      "Validation accuracy for hyperparameters {'alpha': 0.1, 'eta0': 0.01, 'learning_rate': 'invscaling', 'loss': 'log_loss', 'max_iter': 400, 'penalty': 'l1'}: 55.20%\n",
      "Validation accuracy for hyperparameters {'alpha': 0.1, 'eta0': 0.01, 'learning_rate': 'invscaling', 'loss': 'log_loss', 'max_iter': 400, 'penalty': 'elasticnet'}: 55.20%\n",
      "Validation accuracy for hyperparameters {'alpha': 0.1, 'eta0': 0.01, 'learning_rate': 'adaptive', 'loss': 'log_loss', 'max_iter': 200, 'penalty': 'l2'}: 60.86%\n",
      "Validation accuracy for hyperparameters {'alpha': 0.1, 'eta0': 0.01, 'learning_rate': 'adaptive', 'loss': 'log_loss', 'max_iter': 200, 'penalty': 'l1'}: 59.86%\n",
      "Validation accuracy for hyperparameters {'alpha': 0.1, 'eta0': 0.01, 'learning_rate': 'adaptive', 'loss': 'log_loss', 'max_iter': 200, 'penalty': 'elasticnet'}: 60.09%\n",
      "Validation accuracy for hyperparameters {'alpha': 0.1, 'eta0': 0.01, 'learning_rate': 'adaptive', 'loss': 'log_loss', 'max_iter': 300, 'penalty': 'l2'}: 60.86%\n",
      "Validation accuracy for hyperparameters {'alpha': 0.1, 'eta0': 0.01, 'learning_rate': 'adaptive', 'loss': 'log_loss', 'max_iter': 300, 'penalty': 'l1'}: 59.86%\n",
      "Validation accuracy for hyperparameters {'alpha': 0.1, 'eta0': 0.01, 'learning_rate': 'adaptive', 'loss': 'log_loss', 'max_iter': 300, 'penalty': 'elasticnet'}: 60.09%\n",
      "Validation accuracy for hyperparameters {'alpha': 0.1, 'eta0': 0.01, 'learning_rate': 'adaptive', 'loss': 'log_loss', 'max_iter': 400, 'penalty': 'l2'}: 60.86%\n",
      "Validation accuracy for hyperparameters {'alpha': 0.1, 'eta0': 0.01, 'learning_rate': 'adaptive', 'loss': 'log_loss', 'max_iter': 400, 'penalty': 'l1'}: 59.86%\n",
      "Validation accuracy for hyperparameters {'alpha': 0.1, 'eta0': 0.01, 'learning_rate': 'adaptive', 'loss': 'log_loss', 'max_iter': 400, 'penalty': 'elasticnet'}: 60.09%\n",
      "Validation accuracy for hyperparameters {'alpha': 0.1, 'eta0': 0.1, 'learning_rate': 'constant', 'loss': 'log_loss', 'max_iter': 200, 'penalty': 'l2'}: 48.29%\n",
      "Validation accuracy for hyperparameters {'alpha': 0.1, 'eta0': 0.1, 'learning_rate': 'constant', 'loss': 'log_loss', 'max_iter': 200, 'penalty': 'l1'}: 48.22%\n",
      "Validation accuracy for hyperparameters {'alpha': 0.1, 'eta0': 0.1, 'learning_rate': 'constant', 'loss': 'log_loss', 'max_iter': 200, 'penalty': 'elasticnet'}: 41.26%\n",
      "Validation accuracy for hyperparameters {'alpha': 0.1, 'eta0': 0.1, 'learning_rate': 'constant', 'loss': 'log_loss', 'max_iter': 300, 'penalty': 'l2'}: 48.29%\n",
      "Validation accuracy for hyperparameters {'alpha': 0.1, 'eta0': 0.1, 'learning_rate': 'constant', 'loss': 'log_loss', 'max_iter': 300, 'penalty': 'l1'}: 48.22%\n",
      "Validation accuracy for hyperparameters {'alpha': 0.1, 'eta0': 0.1, 'learning_rate': 'constant', 'loss': 'log_loss', 'max_iter': 300, 'penalty': 'elasticnet'}: 41.26%\n",
      "Validation accuracy for hyperparameters {'alpha': 0.1, 'eta0': 0.1, 'learning_rate': 'constant', 'loss': 'log_loss', 'max_iter': 400, 'penalty': 'l2'}: 48.29%\n",
      "Validation accuracy for hyperparameters {'alpha': 0.1, 'eta0': 0.1, 'learning_rate': 'constant', 'loss': 'log_loss', 'max_iter': 400, 'penalty': 'l1'}: 48.22%\n",
      "Validation accuracy for hyperparameters {'alpha': 0.1, 'eta0': 0.1, 'learning_rate': 'constant', 'loss': 'log_loss', 'max_iter': 400, 'penalty': 'elasticnet'}: 41.26%\n",
      "Validation accuracy for hyperparameters {'alpha': 0.1, 'eta0': 0.1, 'learning_rate': 'optimal', 'loss': 'log_loss', 'max_iter': 200, 'penalty': 'l2'}: 48.53%\n",
      "Validation accuracy for hyperparameters {'alpha': 0.1, 'eta0': 0.1, 'learning_rate': 'optimal', 'loss': 'log_loss', 'max_iter': 200, 'penalty': 'l1'}: 58.68%\n",
      "Validation accuracy for hyperparameters {'alpha': 0.1, 'eta0': 0.1, 'learning_rate': 'optimal', 'loss': 'log_loss', 'max_iter': 200, 'penalty': 'elasticnet'}: 55.37%\n",
      "Validation accuracy for hyperparameters {'alpha': 0.1, 'eta0': 0.1, 'learning_rate': 'optimal', 'loss': 'log_loss', 'max_iter': 300, 'penalty': 'l2'}: 48.53%\n",
      "Validation accuracy for hyperparameters {'alpha': 0.1, 'eta0': 0.1, 'learning_rate': 'optimal', 'loss': 'log_loss', 'max_iter': 300, 'penalty': 'l1'}: 58.68%\n",
      "Validation accuracy for hyperparameters {'alpha': 0.1, 'eta0': 0.1, 'learning_rate': 'optimal', 'loss': 'log_loss', 'max_iter': 300, 'penalty': 'elasticnet'}: 55.37%\n",
      "Validation accuracy for hyperparameters {'alpha': 0.1, 'eta0': 0.1, 'learning_rate': 'optimal', 'loss': 'log_loss', 'max_iter': 400, 'penalty': 'l2'}: 48.53%\n",
      "Validation accuracy for hyperparameters {'alpha': 0.1, 'eta0': 0.1, 'learning_rate': 'optimal', 'loss': 'log_loss', 'max_iter': 400, 'penalty': 'l1'}: 58.68%\n",
      "Validation accuracy for hyperparameters {'alpha': 0.1, 'eta0': 0.1, 'learning_rate': 'optimal', 'loss': 'log_loss', 'max_iter': 400, 'penalty': 'elasticnet'}: 55.37%\n",
      "Validation accuracy for hyperparameters {'alpha': 0.1, 'eta0': 0.1, 'learning_rate': 'invscaling', 'loss': 'log_loss', 'max_iter': 200, 'penalty': 'l2'}: 55.20%\n",
      "Validation accuracy for hyperparameters {'alpha': 0.1, 'eta0': 0.1, 'learning_rate': 'invscaling', 'loss': 'log_loss', 'max_iter': 200, 'penalty': 'l1'}: 55.31%\n",
      "Validation accuracy for hyperparameters {'alpha': 0.1, 'eta0': 0.1, 'learning_rate': 'invscaling', 'loss': 'log_loss', 'max_iter': 200, 'penalty': 'elasticnet'}: 55.31%\n",
      "Validation accuracy for hyperparameters {'alpha': 0.1, 'eta0': 0.1, 'learning_rate': 'invscaling', 'loss': 'log_loss', 'max_iter': 300, 'penalty': 'l2'}: 55.20%\n",
      "Validation accuracy for hyperparameters {'alpha': 0.1, 'eta0': 0.1, 'learning_rate': 'invscaling', 'loss': 'log_loss', 'max_iter': 300, 'penalty': 'l1'}: 55.31%\n",
      "Validation accuracy for hyperparameters {'alpha': 0.1, 'eta0': 0.1, 'learning_rate': 'invscaling', 'loss': 'log_loss', 'max_iter': 300, 'penalty': 'elasticnet'}: 55.31%\n",
      "Validation accuracy for hyperparameters {'alpha': 0.1, 'eta0': 0.1, 'learning_rate': 'invscaling', 'loss': 'log_loss', 'max_iter': 400, 'penalty': 'l2'}: 55.20%\n",
      "Validation accuracy for hyperparameters {'alpha': 0.1, 'eta0': 0.1, 'learning_rate': 'invscaling', 'loss': 'log_loss', 'max_iter': 400, 'penalty': 'l1'}: 55.31%\n",
      "Validation accuracy for hyperparameters {'alpha': 0.1, 'eta0': 0.1, 'learning_rate': 'invscaling', 'loss': 'log_loss', 'max_iter': 400, 'penalty': 'elasticnet'}: 55.31%\n",
      "Validation accuracy for hyperparameters {'alpha': 0.1, 'eta0': 0.1, 'learning_rate': 'adaptive', 'loss': 'log_loss', 'max_iter': 200, 'penalty': 'l2'}: 56.08%\n",
      "Validation accuracy for hyperparameters {'alpha': 0.1, 'eta0': 0.1, 'learning_rate': 'adaptive', 'loss': 'log_loss', 'max_iter': 200, 'penalty': 'l1'}: 56.20%\n",
      "Validation accuracy for hyperparameters {'alpha': 0.1, 'eta0': 0.1, 'learning_rate': 'adaptive', 'loss': 'log_loss', 'max_iter': 200, 'penalty': 'elasticnet'}: 56.67%\n",
      "Validation accuracy for hyperparameters {'alpha': 0.1, 'eta0': 0.1, 'learning_rate': 'adaptive', 'loss': 'log_loss', 'max_iter': 300, 'penalty': 'l2'}: 56.08%\n",
      "Validation accuracy for hyperparameters {'alpha': 0.1, 'eta0': 0.1, 'learning_rate': 'adaptive', 'loss': 'log_loss', 'max_iter': 300, 'penalty': 'l1'}: 56.20%\n",
      "Validation accuracy for hyperparameters {'alpha': 0.1, 'eta0': 0.1, 'learning_rate': 'adaptive', 'loss': 'log_loss', 'max_iter': 300, 'penalty': 'elasticnet'}: 56.67%\n",
      "Validation accuracy for hyperparameters {'alpha': 0.1, 'eta0': 0.1, 'learning_rate': 'adaptive', 'loss': 'log_loss', 'max_iter': 400, 'penalty': 'l2'}: 56.08%\n",
      "Validation accuracy for hyperparameters {'alpha': 0.1, 'eta0': 0.1, 'learning_rate': 'adaptive', 'loss': 'log_loss', 'max_iter': 400, 'penalty': 'l1'}: 56.20%\n",
      "Validation accuracy for hyperparameters {'alpha': 0.1, 'eta0': 0.1, 'learning_rate': 'adaptive', 'loss': 'log_loss', 'max_iter': 400, 'penalty': 'elasticnet'}: 56.67%\n",
      "Validation accuracy for hyperparameters {'alpha': 0.1, 'eta0': 0.5, 'learning_rate': 'constant', 'loss': 'log_loss', 'max_iter': 200, 'penalty': 'l2'}: 51.78%\n",
      "Validation accuracy for hyperparameters {'alpha': 0.1, 'eta0': 0.5, 'learning_rate': 'constant', 'loss': 'log_loss', 'max_iter': 200, 'penalty': 'l1'}: 55.26%\n",
      "Validation accuracy for hyperparameters {'alpha': 0.1, 'eta0': 0.5, 'learning_rate': 'constant', 'loss': 'log_loss', 'max_iter': 200, 'penalty': 'elasticnet'}: 44.74%\n",
      "Validation accuracy for hyperparameters {'alpha': 0.1, 'eta0': 0.5, 'learning_rate': 'constant', 'loss': 'log_loss', 'max_iter': 300, 'penalty': 'l2'}: 51.78%\n",
      "Validation accuracy for hyperparameters {'alpha': 0.1, 'eta0': 0.5, 'learning_rate': 'constant', 'loss': 'log_loss', 'max_iter': 300, 'penalty': 'l1'}: 55.26%\n",
      "Validation accuracy for hyperparameters {'alpha': 0.1, 'eta0': 0.5, 'learning_rate': 'constant', 'loss': 'log_loss', 'max_iter': 300, 'penalty': 'elasticnet'}: 44.74%\n",
      "Validation accuracy for hyperparameters {'alpha': 0.1, 'eta0': 0.5, 'learning_rate': 'constant', 'loss': 'log_loss', 'max_iter': 400, 'penalty': 'l2'}: 51.78%\n",
      "Validation accuracy for hyperparameters {'alpha': 0.1, 'eta0': 0.5, 'learning_rate': 'constant', 'loss': 'log_loss', 'max_iter': 400, 'penalty': 'l1'}: 55.26%\n",
      "Validation accuracy for hyperparameters {'alpha': 0.1, 'eta0': 0.5, 'learning_rate': 'constant', 'loss': 'log_loss', 'max_iter': 400, 'penalty': 'elasticnet'}: 44.74%\n",
      "Validation accuracy for hyperparameters {'alpha': 0.1, 'eta0': 0.5, 'learning_rate': 'optimal', 'loss': 'log_loss', 'max_iter': 200, 'penalty': 'l2'}: 48.53%\n",
      "Validation accuracy for hyperparameters {'alpha': 0.1, 'eta0': 0.5, 'learning_rate': 'optimal', 'loss': 'log_loss', 'max_iter': 200, 'penalty': 'l1'}: 58.68%\n",
      "Validation accuracy for hyperparameters {'alpha': 0.1, 'eta0': 0.5, 'learning_rate': 'optimal', 'loss': 'log_loss', 'max_iter': 200, 'penalty': 'elasticnet'}: 55.37%\n",
      "Validation accuracy for hyperparameters {'alpha': 0.1, 'eta0': 0.5, 'learning_rate': 'optimal', 'loss': 'log_loss', 'max_iter': 300, 'penalty': 'l2'}: 48.53%\n",
      "Validation accuracy for hyperparameters {'alpha': 0.1, 'eta0': 0.5, 'learning_rate': 'optimal', 'loss': 'log_loss', 'max_iter': 300, 'penalty': 'l1'}: 58.68%\n",
      "Validation accuracy for hyperparameters {'alpha': 0.1, 'eta0': 0.5, 'learning_rate': 'optimal', 'loss': 'log_loss', 'max_iter': 300, 'penalty': 'elasticnet'}: 55.37%\n",
      "Validation accuracy for hyperparameters {'alpha': 0.1, 'eta0': 0.5, 'learning_rate': 'optimal', 'loss': 'log_loss', 'max_iter': 400, 'penalty': 'l2'}: 48.53%\n",
      "Validation accuracy for hyperparameters {'alpha': 0.1, 'eta0': 0.5, 'learning_rate': 'optimal', 'loss': 'log_loss', 'max_iter': 400, 'penalty': 'l1'}: 58.68%\n",
      "Validation accuracy for hyperparameters {'alpha': 0.1, 'eta0': 0.5, 'learning_rate': 'optimal', 'loss': 'log_loss', 'max_iter': 400, 'penalty': 'elasticnet'}: 55.37%\n",
      "Validation accuracy for hyperparameters {'alpha': 0.1, 'eta0': 0.5, 'learning_rate': 'invscaling', 'loss': 'log_loss', 'max_iter': 200, 'penalty': 'l2'}: 51.83%\n",
      "Validation accuracy for hyperparameters {'alpha': 0.1, 'eta0': 0.5, 'learning_rate': 'invscaling', 'loss': 'log_loss', 'max_iter': 200, 'penalty': 'l1'}: 48.22%\n",
      "Validation accuracy for hyperparameters {'alpha': 0.1, 'eta0': 0.5, 'learning_rate': 'invscaling', 'loss': 'log_loss', 'max_iter': 200, 'penalty': 'elasticnet'}: 48.22%\n",
      "Validation accuracy for hyperparameters {'alpha': 0.1, 'eta0': 0.5, 'learning_rate': 'invscaling', 'loss': 'log_loss', 'max_iter': 300, 'penalty': 'l2'}: 51.83%\n",
      "Validation accuracy for hyperparameters {'alpha': 0.1, 'eta0': 0.5, 'learning_rate': 'invscaling', 'loss': 'log_loss', 'max_iter': 300, 'penalty': 'l1'}: 48.22%\n",
      "Validation accuracy for hyperparameters {'alpha': 0.1, 'eta0': 0.5, 'learning_rate': 'invscaling', 'loss': 'log_loss', 'max_iter': 300, 'penalty': 'elasticnet'}: 48.22%\n",
      "Validation accuracy for hyperparameters {'alpha': 0.1, 'eta0': 0.5, 'learning_rate': 'invscaling', 'loss': 'log_loss', 'max_iter': 400, 'penalty': 'l2'}: 51.83%\n",
      "Validation accuracy for hyperparameters {'alpha': 0.1, 'eta0': 0.5, 'learning_rate': 'invscaling', 'loss': 'log_loss', 'max_iter': 400, 'penalty': 'l1'}: 48.22%\n",
      "Validation accuracy for hyperparameters {'alpha': 0.1, 'eta0': 0.5, 'learning_rate': 'invscaling', 'loss': 'log_loss', 'max_iter': 400, 'penalty': 'elasticnet'}: 48.22%\n",
      "Validation accuracy for hyperparameters {'alpha': 0.1, 'eta0': 0.5, 'learning_rate': 'adaptive', 'loss': 'log_loss', 'max_iter': 200, 'penalty': 'l2'}: 54.60%\n",
      "Validation accuracy for hyperparameters {'alpha': 0.1, 'eta0': 0.5, 'learning_rate': 'adaptive', 'loss': 'log_loss', 'max_iter': 200, 'penalty': 'l1'}: 54.60%\n",
      "Validation accuracy for hyperparameters {'alpha': 0.1, 'eta0': 0.5, 'learning_rate': 'adaptive', 'loss': 'log_loss', 'max_iter': 200, 'penalty': 'elasticnet'}: 56.38%\n",
      "Validation accuracy for hyperparameters {'alpha': 0.1, 'eta0': 0.5, 'learning_rate': 'adaptive', 'loss': 'log_loss', 'max_iter': 300, 'penalty': 'l2'}: 54.60%\n",
      "Validation accuracy for hyperparameters {'alpha': 0.1, 'eta0': 0.5, 'learning_rate': 'adaptive', 'loss': 'log_loss', 'max_iter': 300, 'penalty': 'l1'}: 54.60%\n",
      "Validation accuracy for hyperparameters {'alpha': 0.1, 'eta0': 0.5, 'learning_rate': 'adaptive', 'loss': 'log_loss', 'max_iter': 300, 'penalty': 'elasticnet'}: 56.38%\n",
      "Validation accuracy for hyperparameters {'alpha': 0.1, 'eta0': 0.5, 'learning_rate': 'adaptive', 'loss': 'log_loss', 'max_iter': 400, 'penalty': 'l2'}: 54.60%\n",
      "Validation accuracy for hyperparameters {'alpha': 0.1, 'eta0': 0.5, 'learning_rate': 'adaptive', 'loss': 'log_loss', 'max_iter': 400, 'penalty': 'l1'}: 54.60%\n",
      "Validation accuracy for hyperparameters {'alpha': 0.1, 'eta0': 0.5, 'learning_rate': 'adaptive', 'loss': 'log_loss', 'max_iter': 400, 'penalty': 'elasticnet'}: 56.38%\n"
     ]
    }
   ],
   "source": [
    "for i in range(len(grid_search.cv_results_['params'])):\n",
    "    params = grid_search.cv_results_['params'][i]\n",
    "    val_accuracy = grid_search.cv_results_['mean_test_score'][i]\n",
    "    print(\"Validation accuracy for hyperparameters {}: {:.2f}%\".format(params, val_accuracy * 100))"
   ]
  },
  {
   "cell_type": "code",
   "execution_count": 100,
   "id": "4b9823bc-7a34-40fe-82ed-9bfaf3ccc134",
   "metadata": {
    "tags": []
   },
   "outputs": [
    {
     "data": {
      "text/html": [
       "<style>#sk-container-id-6 {color: black;}#sk-container-id-6 pre{padding: 0;}#sk-container-id-6 div.sk-toggleable {background-color: white;}#sk-container-id-6 label.sk-toggleable__label {cursor: pointer;display: block;width: 100%;margin-bottom: 0;padding: 0.3em;box-sizing: border-box;text-align: center;}#sk-container-id-6 label.sk-toggleable__label-arrow:before {content: \"▸\";float: left;margin-right: 0.25em;color: #696969;}#sk-container-id-6 label.sk-toggleable__label-arrow:hover:before {color: black;}#sk-container-id-6 div.sk-estimator:hover label.sk-toggleable__label-arrow:before {color: black;}#sk-container-id-6 div.sk-toggleable__content {max-height: 0;max-width: 0;overflow: hidden;text-align: left;background-color: #f0f8ff;}#sk-container-id-6 div.sk-toggleable__content pre {margin: 0.2em;color: black;border-radius: 0.25em;background-color: #f0f8ff;}#sk-container-id-6 input.sk-toggleable__control:checked~div.sk-toggleable__content {max-height: 200px;max-width: 100%;overflow: auto;}#sk-container-id-6 input.sk-toggleable__control:checked~label.sk-toggleable__label-arrow:before {content: \"▾\";}#sk-container-id-6 div.sk-estimator input.sk-toggleable__control:checked~label.sk-toggleable__label {background-color: #d4ebff;}#sk-container-id-6 div.sk-label input.sk-toggleable__control:checked~label.sk-toggleable__label {background-color: #d4ebff;}#sk-container-id-6 input.sk-hidden--visually {border: 0;clip: rect(1px 1px 1px 1px);clip: rect(1px, 1px, 1px, 1px);height: 1px;margin: -1px;overflow: hidden;padding: 0;position: absolute;width: 1px;}#sk-container-id-6 div.sk-estimator {font-family: monospace;background-color: #f0f8ff;border: 1px dotted black;border-radius: 0.25em;box-sizing: border-box;margin-bottom: 0.5em;}#sk-container-id-6 div.sk-estimator:hover {background-color: #d4ebff;}#sk-container-id-6 div.sk-parallel-item::after {content: \"\";width: 100%;border-bottom: 1px solid gray;flex-grow: 1;}#sk-container-id-6 div.sk-label:hover label.sk-toggleable__label {background-color: #d4ebff;}#sk-container-id-6 div.sk-serial::before {content: \"\";position: absolute;border-left: 1px solid gray;box-sizing: border-box;top: 0;bottom: 0;left: 50%;z-index: 0;}#sk-container-id-6 div.sk-serial {display: flex;flex-direction: column;align-items: center;background-color: white;padding-right: 0.2em;padding-left: 0.2em;position: relative;}#sk-container-id-6 div.sk-item {position: relative;z-index: 1;}#sk-container-id-6 div.sk-parallel {display: flex;align-items: stretch;justify-content: center;background-color: white;position: relative;}#sk-container-id-6 div.sk-item::before, #sk-container-id-6 div.sk-parallel-item::before {content: \"\";position: absolute;border-left: 1px solid gray;box-sizing: border-box;top: 0;bottom: 0;left: 50%;z-index: -1;}#sk-container-id-6 div.sk-parallel-item {display: flex;flex-direction: column;z-index: 1;position: relative;background-color: white;}#sk-container-id-6 div.sk-parallel-item:first-child::after {align-self: flex-end;width: 50%;}#sk-container-id-6 div.sk-parallel-item:last-child::after {align-self: flex-start;width: 50%;}#sk-container-id-6 div.sk-parallel-item:only-child::after {width: 0;}#sk-container-id-6 div.sk-dashed-wrapped {border: 1px dashed gray;margin: 0 0.4em 0.5em 0.4em;box-sizing: border-box;padding-bottom: 0.4em;background-color: white;}#sk-container-id-6 div.sk-label label {font-family: monospace;font-weight: bold;display: inline-block;line-height: 1.2em;}#sk-container-id-6 div.sk-label-container {text-align: center;}#sk-container-id-6 div.sk-container {/* jupyter's `normalize.less` sets `[hidden] { display: none; }` but bootstrap.min.css set `[hidden] { display: none !important; }` so we also need the `!important` here to be able to override the default hidden behavior on the sphinx rendered scikit-learn.org. See: https://github.com/scikit-learn/scikit-learn/issues/21755 */display: inline-block !important;position: relative;}#sk-container-id-6 div.sk-text-repr-fallback {display: none;}</style><div id=\"sk-container-id-6\" class=\"sk-top-container\"><div class=\"sk-text-repr-fallback\"><pre>SGDClassifier(alpha=0.001, eta0=0.1, learning_rate=&#x27;adaptive&#x27;, loss=&#x27;log_loss&#x27;,\n",
       "              max_iter=200, penalty=&#x27;l1&#x27;, random_state=42)</pre><b>In a Jupyter environment, please rerun this cell to show the HTML representation or trust the notebook. <br />On GitHub, the HTML representation is unable to render, please try loading this page with nbviewer.org.</b></div><div class=\"sk-container\" hidden><div class=\"sk-item\"><div class=\"sk-estimator sk-toggleable\"><input class=\"sk-toggleable__control sk-hidden--visually\" id=\"sk-estimator-id-6\" type=\"checkbox\" checked><label for=\"sk-estimator-id-6\" class=\"sk-toggleable__label sk-toggleable__label-arrow\">SGDClassifier</label><div class=\"sk-toggleable__content\"><pre>SGDClassifier(alpha=0.001, eta0=0.1, learning_rate=&#x27;adaptive&#x27;, loss=&#x27;log_loss&#x27;,\n",
       "              max_iter=200, penalty=&#x27;l1&#x27;, random_state=42)</pre></div></div></div></div></div>"
      ],
      "text/plain": [
       "SGDClassifier(alpha=0.001, eta0=0.1, learning_rate='adaptive', loss='log_loss',\n",
       "              max_iter=200, penalty='l1', random_state=42)"
      ]
     },
     "execution_count": 100,
     "metadata": {},
     "output_type": "execute_result"
    }
   ],
   "source": [
    "final_model = SGDClassifier(random_state=42, **best_params)\n",
    "final_model.fit(X_train_df_pair, y_train_df_pair)"
   ]
  },
  {
   "cell_type": "code",
   "execution_count": 101,
   "id": "e3988b7c-cadc-4dd6-94e7-d7066d210e5d",
   "metadata": {},
   "outputs": [
    {
     "name": "stdout",
     "output_type": "stream",
     "text": [
      "Test accuracy with best hyperparameters: 74.87%\n",
      "              precision    recall  f1-score   support\n",
      "\n",
      "         0.0       0.72      0.64      0.68       233\n",
      "         1.0       0.76      0.83      0.79       332\n",
      "\n",
      "    accuracy                           0.75       565\n",
      "   macro avg       0.74      0.73      0.74       565\n",
      "weighted avg       0.75      0.75      0.75       565\n",
      "\n"
     ]
    }
   ],
   "source": [
    "# Test model accuracy\n",
    "predictions_test = final_model.predict(X_test_df_pair)\n",
    "test_accuracy = accuracy_score(predictions_test, y_test_df_pair)\n",
    "print(\"Test accuracy with best hyperparameters: {:.2f}%\".format(test_accuracy * 100))\n",
    "print(classification_report(y_test_df_pair, predictions_test))"
   ]
  },
  {
   "cell_type": "code",
   "execution_count": 102,
   "id": "76fab11b-e6d5-4b61-9175-5f96db36b5db",
   "metadata": {},
   "outputs": [
    {
     "name": "stdout",
     "output_type": "stream",
     "text": [
      "Validation accuracy with best hyperparameters: 76.28%\n",
      "              precision    recall  f1-score   support\n",
      "\n",
      "         0.0       0.75      0.64      0.69       233\n",
      "         1.0       0.77      0.85      0.81       332\n",
      "\n",
      "    accuracy                           0.76       565\n",
      "   macro avg       0.76      0.75      0.75       565\n",
      "weighted avg       0.76      0.76      0.76       565\n",
      "\n"
     ]
    }
   ],
   "source": [
    "# Validation model accuracy\n",
    "predictions_val = final_model.predict(X_val_df_pair)\n",
    "val_accuracy = accuracy_score(predictions_val, y_val_df_pair)\n",
    "print(\"Validation accuracy with best hyperparameters: {:.2f}%\".format(val_accuracy * 100))\n",
    "print(classification_report(y_val_df_pair, predictions_val))"
   ]
  },
  {
   "cell_type": "code",
   "execution_count": 103,
   "id": "8dd8f684-d606-4f49-9812-4ed238194307",
   "metadata": {},
   "outputs": [
    {
     "name": "stdout",
     "output_type": "stream",
     "text": [
      "Best Hyperparameters:\n",
      "{'alpha': 0.001, 'eta0': 0.1, 'learning_rate': 'adaptive', 'loss': 'log_loss', 'max_iter': 200, 'penalty': 'l1'}\n"
     ]
    }
   ],
   "source": [
    "print(\"Best Hyperparameters:\")\n",
    "print(best_params)"
   ]
  },
  {
   "cell_type": "markdown",
   "id": "c44295bd-035e-4253-95dd-473e1957f9b5",
   "metadata": {},
   "source": [
    "-----"
   ]
  },
  {
   "cell_type": "markdown",
   "id": "3b461aaa-b0ce-4440-84b2-223e5b7fecab",
   "metadata": {},
   "source": [
    "Test accuracy with best hyperparemeters for the regular dataframe: 76.11%<br>\n",
    "Validation accuracy with best hyperparemeters for the regular dataframe: 75.40%<br><br>\n",
    "Test accuracy with best hyperparemeters for the paired dataframe: 74.87%<br>\n",
    "Validation accuracy with best hyperparemeters for the paired dataframe: 76.28%"
   ]
  },
  {
   "cell_type": "markdown",
   "id": "b6df7057-8015-4aa5-a136-c2054cb300eb",
   "metadata": {},
   "source": [
    "## Naive Bayes"
   ]
  },
  {
   "cell_type": "code",
   "execution_count": 125,
   "id": "f929f0f7",
   "metadata": {},
   "outputs": [],
   "source": [
    "from sklearn.naive_bayes import GaussianNB\n",
    "from sklearn.model_selection import GridSearchCV"
   ]
  },
  {
   "cell_type": "code",
   "execution_count": 126,
   "id": "6322519b",
   "metadata": {
    "tags": []
   },
   "outputs": [],
   "source": [
    "nbModel = GaussianNB()"
   ]
  },
  {
   "cell_type": "code",
   "execution_count": 127,
   "id": "cdd24bcc",
   "metadata": {},
   "outputs": [
    {
     "data": {
      "text/html": [
       "<style>#sk-container-id-11 {color: black;}#sk-container-id-11 pre{padding: 0;}#sk-container-id-11 div.sk-toggleable {background-color: white;}#sk-container-id-11 label.sk-toggleable__label {cursor: pointer;display: block;width: 100%;margin-bottom: 0;padding: 0.3em;box-sizing: border-box;text-align: center;}#sk-container-id-11 label.sk-toggleable__label-arrow:before {content: \"▸\";float: left;margin-right: 0.25em;color: #696969;}#sk-container-id-11 label.sk-toggleable__label-arrow:hover:before {color: black;}#sk-container-id-11 div.sk-estimator:hover label.sk-toggleable__label-arrow:before {color: black;}#sk-container-id-11 div.sk-toggleable__content {max-height: 0;max-width: 0;overflow: hidden;text-align: left;background-color: #f0f8ff;}#sk-container-id-11 div.sk-toggleable__content pre {margin: 0.2em;color: black;border-radius: 0.25em;background-color: #f0f8ff;}#sk-container-id-11 input.sk-toggleable__control:checked~div.sk-toggleable__content {max-height: 200px;max-width: 100%;overflow: auto;}#sk-container-id-11 input.sk-toggleable__control:checked~label.sk-toggleable__label-arrow:before {content: \"▾\";}#sk-container-id-11 div.sk-estimator input.sk-toggleable__control:checked~label.sk-toggleable__label {background-color: #d4ebff;}#sk-container-id-11 div.sk-label input.sk-toggleable__control:checked~label.sk-toggleable__label {background-color: #d4ebff;}#sk-container-id-11 input.sk-hidden--visually {border: 0;clip: rect(1px 1px 1px 1px);clip: rect(1px, 1px, 1px, 1px);height: 1px;margin: -1px;overflow: hidden;padding: 0;position: absolute;width: 1px;}#sk-container-id-11 div.sk-estimator {font-family: monospace;background-color: #f0f8ff;border: 1px dotted black;border-radius: 0.25em;box-sizing: border-box;margin-bottom: 0.5em;}#sk-container-id-11 div.sk-estimator:hover {background-color: #d4ebff;}#sk-container-id-11 div.sk-parallel-item::after {content: \"\";width: 100%;border-bottom: 1px solid gray;flex-grow: 1;}#sk-container-id-11 div.sk-label:hover label.sk-toggleable__label {background-color: #d4ebff;}#sk-container-id-11 div.sk-serial::before {content: \"\";position: absolute;border-left: 1px solid gray;box-sizing: border-box;top: 0;bottom: 0;left: 50%;z-index: 0;}#sk-container-id-11 div.sk-serial {display: flex;flex-direction: column;align-items: center;background-color: white;padding-right: 0.2em;padding-left: 0.2em;position: relative;}#sk-container-id-11 div.sk-item {position: relative;z-index: 1;}#sk-container-id-11 div.sk-parallel {display: flex;align-items: stretch;justify-content: center;background-color: white;position: relative;}#sk-container-id-11 div.sk-item::before, #sk-container-id-11 div.sk-parallel-item::before {content: \"\";position: absolute;border-left: 1px solid gray;box-sizing: border-box;top: 0;bottom: 0;left: 50%;z-index: -1;}#sk-container-id-11 div.sk-parallel-item {display: flex;flex-direction: column;z-index: 1;position: relative;background-color: white;}#sk-container-id-11 div.sk-parallel-item:first-child::after {align-self: flex-end;width: 50%;}#sk-container-id-11 div.sk-parallel-item:last-child::after {align-self: flex-start;width: 50%;}#sk-container-id-11 div.sk-parallel-item:only-child::after {width: 0;}#sk-container-id-11 div.sk-dashed-wrapped {border: 1px dashed gray;margin: 0 0.4em 0.5em 0.4em;box-sizing: border-box;padding-bottom: 0.4em;background-color: white;}#sk-container-id-11 div.sk-label label {font-family: monospace;font-weight: bold;display: inline-block;line-height: 1.2em;}#sk-container-id-11 div.sk-label-container {text-align: center;}#sk-container-id-11 div.sk-container {/* jupyter's `normalize.less` sets `[hidden] { display: none; }` but bootstrap.min.css set `[hidden] { display: none !important; }` so we also need the `!important` here to be able to override the default hidden behavior on the sphinx rendered scikit-learn.org. See: https://github.com/scikit-learn/scikit-learn/issues/21755 */display: inline-block !important;position: relative;}#sk-container-id-11 div.sk-text-repr-fallback {display: none;}</style><div id=\"sk-container-id-11\" class=\"sk-top-container\"><div class=\"sk-text-repr-fallback\"><pre>GaussianNB()</pre><b>In a Jupyter environment, please rerun this cell to show the HTML representation or trust the notebook. <br />On GitHub, the HTML representation is unable to render, please try loading this page with nbviewer.org.</b></div><div class=\"sk-container\" hidden><div class=\"sk-item\"><div class=\"sk-estimator sk-toggleable\"><input class=\"sk-toggleable__control sk-hidden--visually\" id=\"sk-estimator-id-11\" type=\"checkbox\" checked><label for=\"sk-estimator-id-11\" class=\"sk-toggleable__label sk-toggleable__label-arrow\">GaussianNB</label><div class=\"sk-toggleable__content\"><pre>GaussianNB()</pre></div></div></div></div></div>"
      ],
      "text/plain": [
       "GaussianNB()"
      ]
     },
     "execution_count": 127,
     "metadata": {},
     "output_type": "execute_result"
    }
   ],
   "source": [
    "nbModel.fit(X_train_df, y_train_df)"
   ]
  },
  {
   "cell_type": "code",
   "execution_count": 128,
   "id": "860a72cf",
   "metadata": {},
   "outputs": [],
   "source": [
    "predictions = nbModel.predict(X_train_df)"
   ]
  },
  {
   "cell_type": "code",
   "execution_count": 129,
   "id": "f00c047f",
   "metadata": {},
   "outputs": [
    {
     "name": "stdout",
     "output_type": "stream",
     "text": [
      "Training accuracy: 65.70%\n"
     ]
    }
   ],
   "source": [
    "training_accuracy = accuracy_score(predictions, y_train_df) * 100\n",
    "print(\"Training accuracy: {:.2f}%\".format(training_accuracy))"
   ]
  },
  {
   "cell_type": "code",
   "execution_count": 130,
   "id": "a510d6f6-d035-4d28-a2f0-9726a7a06e67",
   "metadata": {},
   "outputs": [
    {
     "name": "stdout",
     "output_type": "stream",
     "text": [
      "Test accuracy: 65.49%\n"
     ]
    }
   ],
   "source": [
    "predictions = nbModel.predict(X_test_df)\n",
    "test_accuracy = accuracy_score(predictions, y_test_df) * 100\n",
    "print(\"Test accuracy: {:.2f}%\".format(test_accuracy))"
   ]
  },
  {
   "cell_type": "code",
   "execution_count": 131,
   "id": "8f2ece64",
   "metadata": {},
   "outputs": [],
   "source": [
    "var_smoothing_values = [1e-15, 1e-14, 1e-13, 1e-12, 1e-11,\n",
    "                        1e-10, 1e-9, 1e-8, 1e-7, 1e-6, \n",
    "                        1e-5, 1e-4, 1e-3, 1e-2, 1e-1]\n",
    "best_val_accuracy = 0\n",
    "best_var_smoothing = None"
   ]
  },
  {
   "cell_type": "code",
   "execution_count": 132,
   "id": "c60272d6-4b39-46a7-af1c-21c5883056cc",
   "metadata": {},
   "outputs": [
    {
     "name": "stdout",
     "output_type": "stream",
     "text": [
      "Validation accuracy for var_smoothing 1e-15: 67.79%\n",
      "Validation accuracy for var_smoothing 1e-14: 67.79%\n",
      "Validation accuracy for var_smoothing 1e-13: 67.79%\n",
      "Validation accuracy for var_smoothing 1e-12: 67.79%\n",
      "Validation accuracy for var_smoothing 1e-11: 67.79%\n",
      "Validation accuracy for var_smoothing 1e-10: 67.79%\n",
      "Validation accuracy for var_smoothing 1e-09: 67.79%\n",
      "Validation accuracy for var_smoothing 1e-08: 67.79%\n",
      "Validation accuracy for var_smoothing 1e-07: 67.79%\n",
      "Validation accuracy for var_smoothing 1e-06: 67.61%\n",
      "Validation accuracy for var_smoothing 1e-05: 67.43%\n",
      "Validation accuracy for var_smoothing 0.0001: 65.84%\n",
      "Validation accuracy for var_smoothing 0.001: 59.47%\n",
      "Validation accuracy for var_smoothing 0.01: 59.12%\n",
      "Validation accuracy for var_smoothing 0.1: 58.58%\n"
     ]
    }
   ],
   "source": [
    "for var_smoothing in var_smoothing_values:\n",
    "    # Train the model with the current var_smoothing value\n",
    "    nb_model = GaussianNB(var_smoothing=var_smoothing)\n",
    "    nb_model.fit(X_train_df, y_train_df)\n",
    "    \n",
    "    # Make predictions on the validation set\n",
    "    predictions_val = nb_model.predict(X_val_df)\n",
    "    \n",
    "    # Evaluate validation accuracy\n",
    "    val_accuracy = accuracy_score(predictions_val, y_val_df) * 100\n",
    "    print(\"Validation accuracy for var_smoothing {}: {:.2f}%\".format(var_smoothing, val_accuracy))\n",
    "    \n",
    "    # Update best hyperparameter if the current model is better\n",
    "    if val_accuracy > best_val_accuracy:\n",
    "        best_val_accuracy = val_accuracy\n",
    "        best_var_smoothing = var_smoothing"
   ]
  },
  {
   "cell_type": "code",
   "execution_count": 133,
   "id": "f16c262b-0459-4280-b4ee-8a63b62be8a0",
   "metadata": {},
   "outputs": [
    {
     "data": {
      "text/html": [
       "<style>#sk-container-id-12 {color: black;}#sk-container-id-12 pre{padding: 0;}#sk-container-id-12 div.sk-toggleable {background-color: white;}#sk-container-id-12 label.sk-toggleable__label {cursor: pointer;display: block;width: 100%;margin-bottom: 0;padding: 0.3em;box-sizing: border-box;text-align: center;}#sk-container-id-12 label.sk-toggleable__label-arrow:before {content: \"▸\";float: left;margin-right: 0.25em;color: #696969;}#sk-container-id-12 label.sk-toggleable__label-arrow:hover:before {color: black;}#sk-container-id-12 div.sk-estimator:hover label.sk-toggleable__label-arrow:before {color: black;}#sk-container-id-12 div.sk-toggleable__content {max-height: 0;max-width: 0;overflow: hidden;text-align: left;background-color: #f0f8ff;}#sk-container-id-12 div.sk-toggleable__content pre {margin: 0.2em;color: black;border-radius: 0.25em;background-color: #f0f8ff;}#sk-container-id-12 input.sk-toggleable__control:checked~div.sk-toggleable__content {max-height: 200px;max-width: 100%;overflow: auto;}#sk-container-id-12 input.sk-toggleable__control:checked~label.sk-toggleable__label-arrow:before {content: \"▾\";}#sk-container-id-12 div.sk-estimator input.sk-toggleable__control:checked~label.sk-toggleable__label {background-color: #d4ebff;}#sk-container-id-12 div.sk-label input.sk-toggleable__control:checked~label.sk-toggleable__label {background-color: #d4ebff;}#sk-container-id-12 input.sk-hidden--visually {border: 0;clip: rect(1px 1px 1px 1px);clip: rect(1px, 1px, 1px, 1px);height: 1px;margin: -1px;overflow: hidden;padding: 0;position: absolute;width: 1px;}#sk-container-id-12 div.sk-estimator {font-family: monospace;background-color: #f0f8ff;border: 1px dotted black;border-radius: 0.25em;box-sizing: border-box;margin-bottom: 0.5em;}#sk-container-id-12 div.sk-estimator:hover {background-color: #d4ebff;}#sk-container-id-12 div.sk-parallel-item::after {content: \"\";width: 100%;border-bottom: 1px solid gray;flex-grow: 1;}#sk-container-id-12 div.sk-label:hover label.sk-toggleable__label {background-color: #d4ebff;}#sk-container-id-12 div.sk-serial::before {content: \"\";position: absolute;border-left: 1px solid gray;box-sizing: border-box;top: 0;bottom: 0;left: 50%;z-index: 0;}#sk-container-id-12 div.sk-serial {display: flex;flex-direction: column;align-items: center;background-color: white;padding-right: 0.2em;padding-left: 0.2em;position: relative;}#sk-container-id-12 div.sk-item {position: relative;z-index: 1;}#sk-container-id-12 div.sk-parallel {display: flex;align-items: stretch;justify-content: center;background-color: white;position: relative;}#sk-container-id-12 div.sk-item::before, #sk-container-id-12 div.sk-parallel-item::before {content: \"\";position: absolute;border-left: 1px solid gray;box-sizing: border-box;top: 0;bottom: 0;left: 50%;z-index: -1;}#sk-container-id-12 div.sk-parallel-item {display: flex;flex-direction: column;z-index: 1;position: relative;background-color: white;}#sk-container-id-12 div.sk-parallel-item:first-child::after {align-self: flex-end;width: 50%;}#sk-container-id-12 div.sk-parallel-item:last-child::after {align-self: flex-start;width: 50%;}#sk-container-id-12 div.sk-parallel-item:only-child::after {width: 0;}#sk-container-id-12 div.sk-dashed-wrapped {border: 1px dashed gray;margin: 0 0.4em 0.5em 0.4em;box-sizing: border-box;padding-bottom: 0.4em;background-color: white;}#sk-container-id-12 div.sk-label label {font-family: monospace;font-weight: bold;display: inline-block;line-height: 1.2em;}#sk-container-id-12 div.sk-label-container {text-align: center;}#sk-container-id-12 div.sk-container {/* jupyter's `normalize.less` sets `[hidden] { display: none; }` but bootstrap.min.css set `[hidden] { display: none !important; }` so we also need the `!important` here to be able to override the default hidden behavior on the sphinx rendered scikit-learn.org. See: https://github.com/scikit-learn/scikit-learn/issues/21755 */display: inline-block !important;position: relative;}#sk-container-id-12 div.sk-text-repr-fallback {display: none;}</style><div id=\"sk-container-id-12\" class=\"sk-top-container\"><div class=\"sk-text-repr-fallback\"><pre>GaussianNB(var_smoothing=1e-15)</pre><b>In a Jupyter environment, please rerun this cell to show the HTML representation or trust the notebook. <br />On GitHub, the HTML representation is unable to render, please try loading this page with nbviewer.org.</b></div><div class=\"sk-container\" hidden><div class=\"sk-item\"><div class=\"sk-estimator sk-toggleable\"><input class=\"sk-toggleable__control sk-hidden--visually\" id=\"sk-estimator-id-12\" type=\"checkbox\" checked><label for=\"sk-estimator-id-12\" class=\"sk-toggleable__label sk-toggleable__label-arrow\">GaussianNB</label><div class=\"sk-toggleable__content\"><pre>GaussianNB(var_smoothing=1e-15)</pre></div></div></div></div></div>"
      ],
      "text/plain": [
       "GaussianNB(var_smoothing=1e-15)"
      ]
     },
     "execution_count": 133,
     "metadata": {},
     "output_type": "execute_result"
    }
   ],
   "source": [
    "nbModel = GaussianNB(var_smoothing=best_var_smoothing)\n",
    "nbModel.fit(X_train_df, y_train_df)"
   ]
  },
  {
   "cell_type": "code",
   "execution_count": 134,
   "id": "bf40d69a-f819-4fcf-8868-f184460844c6",
   "metadata": {},
   "outputs": [
    {
     "name": "stdout",
     "output_type": "stream",
     "text": [
      "Test accuracy with best hyperparameter: 65.49%\n",
      "              precision    recall  f1-score   support\n",
      "\n",
      "         0.0       0.60      0.51      0.55       233\n",
      "         1.0       0.69      0.76      0.72       332\n",
      "\n",
      "    accuracy                           0.65       565\n",
      "   macro avg       0.64      0.63      0.63       565\n",
      "weighted avg       0.65      0.65      0.65       565\n",
      "\n"
     ]
    }
   ],
   "source": [
    "predictions_test = nbModel.predict(X_test_df)\n",
    "test_accuracy = accuracy_score(predictions_test, y_test_df) * 100\n",
    "print(\"Test accuracy with best hyperparameter: {:.2f}%\".format(test_accuracy))\n",
    "print(classification_report(y_test_df, predictions_test))"
   ]
  },
  {
   "cell_type": "code",
   "execution_count": 135,
   "id": "ac7b9677-e1e6-491e-b3ff-c732ab7640d4",
   "metadata": {},
   "outputs": [
    {
     "name": "stdout",
     "output_type": "stream",
     "text": [
      "Validation accuracy with best hyperparameter: 67.79%\n",
      "              precision    recall  f1-score   support\n",
      "\n",
      "         0.0       0.46      0.39      0.42       233\n",
      "         1.0       0.61      0.68      0.64       332\n",
      "\n",
      "    accuracy                           0.56       565\n",
      "   macro avg       0.54      0.53      0.53       565\n",
      "weighted avg       0.55      0.56      0.55       565\n",
      "\n"
     ]
    }
   ],
   "source": [
    "predictions_val = nbModel.predict(X_val_df)\n",
    "val_accuracy = accuracy_score(predictions_val, y_val_df) * 100\n",
    "print(\"Validation accuracy with best hyperparameter: {:.2f}%\".format(val_accuracy))\n",
    "print(classification_report(y_val_df, predictions_test))"
   ]
  },
  {
   "cell_type": "markdown",
   "id": "70754668-ec2d-4286-b031-b8bddfc4adaf",
   "metadata": {},
   "source": [
    "-----"
   ]
  },
  {
   "cell_type": "code",
   "execution_count": 136,
   "id": "ffd981da-7d4f-4cc7-af6d-8a46f54c0e5b",
   "metadata": {
    "tags": []
   },
   "outputs": [],
   "source": [
    "nbModel = GaussianNB()"
   ]
  },
  {
   "cell_type": "code",
   "execution_count": 137,
   "id": "fd1349c5-9d05-4383-a1d5-c50088a9415d",
   "metadata": {},
   "outputs": [
    {
     "data": {
      "text/html": [
       "<style>#sk-container-id-13 {color: black;}#sk-container-id-13 pre{padding: 0;}#sk-container-id-13 div.sk-toggleable {background-color: white;}#sk-container-id-13 label.sk-toggleable__label {cursor: pointer;display: block;width: 100%;margin-bottom: 0;padding: 0.3em;box-sizing: border-box;text-align: center;}#sk-container-id-13 label.sk-toggleable__label-arrow:before {content: \"▸\";float: left;margin-right: 0.25em;color: #696969;}#sk-container-id-13 label.sk-toggleable__label-arrow:hover:before {color: black;}#sk-container-id-13 div.sk-estimator:hover label.sk-toggleable__label-arrow:before {color: black;}#sk-container-id-13 div.sk-toggleable__content {max-height: 0;max-width: 0;overflow: hidden;text-align: left;background-color: #f0f8ff;}#sk-container-id-13 div.sk-toggleable__content pre {margin: 0.2em;color: black;border-radius: 0.25em;background-color: #f0f8ff;}#sk-container-id-13 input.sk-toggleable__control:checked~div.sk-toggleable__content {max-height: 200px;max-width: 100%;overflow: auto;}#sk-container-id-13 input.sk-toggleable__control:checked~label.sk-toggleable__label-arrow:before {content: \"▾\";}#sk-container-id-13 div.sk-estimator input.sk-toggleable__control:checked~label.sk-toggleable__label {background-color: #d4ebff;}#sk-container-id-13 div.sk-label input.sk-toggleable__control:checked~label.sk-toggleable__label {background-color: #d4ebff;}#sk-container-id-13 input.sk-hidden--visually {border: 0;clip: rect(1px 1px 1px 1px);clip: rect(1px, 1px, 1px, 1px);height: 1px;margin: -1px;overflow: hidden;padding: 0;position: absolute;width: 1px;}#sk-container-id-13 div.sk-estimator {font-family: monospace;background-color: #f0f8ff;border: 1px dotted black;border-radius: 0.25em;box-sizing: border-box;margin-bottom: 0.5em;}#sk-container-id-13 div.sk-estimator:hover {background-color: #d4ebff;}#sk-container-id-13 div.sk-parallel-item::after {content: \"\";width: 100%;border-bottom: 1px solid gray;flex-grow: 1;}#sk-container-id-13 div.sk-label:hover label.sk-toggleable__label {background-color: #d4ebff;}#sk-container-id-13 div.sk-serial::before {content: \"\";position: absolute;border-left: 1px solid gray;box-sizing: border-box;top: 0;bottom: 0;left: 50%;z-index: 0;}#sk-container-id-13 div.sk-serial {display: flex;flex-direction: column;align-items: center;background-color: white;padding-right: 0.2em;padding-left: 0.2em;position: relative;}#sk-container-id-13 div.sk-item {position: relative;z-index: 1;}#sk-container-id-13 div.sk-parallel {display: flex;align-items: stretch;justify-content: center;background-color: white;position: relative;}#sk-container-id-13 div.sk-item::before, #sk-container-id-13 div.sk-parallel-item::before {content: \"\";position: absolute;border-left: 1px solid gray;box-sizing: border-box;top: 0;bottom: 0;left: 50%;z-index: -1;}#sk-container-id-13 div.sk-parallel-item {display: flex;flex-direction: column;z-index: 1;position: relative;background-color: white;}#sk-container-id-13 div.sk-parallel-item:first-child::after {align-self: flex-end;width: 50%;}#sk-container-id-13 div.sk-parallel-item:last-child::after {align-self: flex-start;width: 50%;}#sk-container-id-13 div.sk-parallel-item:only-child::after {width: 0;}#sk-container-id-13 div.sk-dashed-wrapped {border: 1px dashed gray;margin: 0 0.4em 0.5em 0.4em;box-sizing: border-box;padding-bottom: 0.4em;background-color: white;}#sk-container-id-13 div.sk-label label {font-family: monospace;font-weight: bold;display: inline-block;line-height: 1.2em;}#sk-container-id-13 div.sk-label-container {text-align: center;}#sk-container-id-13 div.sk-container {/* jupyter's `normalize.less` sets `[hidden] { display: none; }` but bootstrap.min.css set `[hidden] { display: none !important; }` so we also need the `!important` here to be able to override the default hidden behavior on the sphinx rendered scikit-learn.org. See: https://github.com/scikit-learn/scikit-learn/issues/21755 */display: inline-block !important;position: relative;}#sk-container-id-13 div.sk-text-repr-fallback {display: none;}</style><div id=\"sk-container-id-13\" class=\"sk-top-container\"><div class=\"sk-text-repr-fallback\"><pre>GaussianNB()</pre><b>In a Jupyter environment, please rerun this cell to show the HTML representation or trust the notebook. <br />On GitHub, the HTML representation is unable to render, please try loading this page with nbviewer.org.</b></div><div class=\"sk-container\" hidden><div class=\"sk-item\"><div class=\"sk-estimator sk-toggleable\"><input class=\"sk-toggleable__control sk-hidden--visually\" id=\"sk-estimator-id-13\" type=\"checkbox\" checked><label for=\"sk-estimator-id-13\" class=\"sk-toggleable__label sk-toggleable__label-arrow\">GaussianNB</label><div class=\"sk-toggleable__content\"><pre>GaussianNB()</pre></div></div></div></div></div>"
      ],
      "text/plain": [
       "GaussianNB()"
      ]
     },
     "execution_count": 137,
     "metadata": {},
     "output_type": "execute_result"
    }
   ],
   "source": [
    "nbModel.fit(X_train_df_pair, y_train_df_pair)"
   ]
  },
  {
   "cell_type": "code",
   "execution_count": 138,
   "id": "c843000f-74a4-4306-8088-a4a7372a8d52",
   "metadata": {},
   "outputs": [],
   "source": [
    "predictions = nbModel.predict(X_train_df_pair)"
   ]
  },
  {
   "cell_type": "code",
   "execution_count": 139,
   "id": "f2e3d39e-9491-44db-89ae-35eea8fd48a2",
   "metadata": {},
   "outputs": [
    {
     "name": "stdout",
     "output_type": "stream",
     "text": [
      "Training accuracy: 69.72%\n"
     ]
    }
   ],
   "source": [
    "training_accuracy = accuracy_score(predictions, y_train_df_pair) * 100\n",
    "print(\"Training accuracy: {:.2f}%\".format(training_accuracy))"
   ]
  },
  {
   "cell_type": "code",
   "execution_count": 140,
   "id": "d4fc353c-a0f3-4dbd-bf4e-efba28f51b67",
   "metadata": {},
   "outputs": [
    {
     "name": "stdout",
     "output_type": "stream",
     "text": [
      "Test accuracy: 67.26%\n"
     ]
    }
   ],
   "source": [
    "predictions = nbModel.predict(X_test_df_pair)\n",
    "test_accuracy = accuracy_score(predictions, y_test_df_pair) * 100\n",
    "print(\"Test accuracy: {:.2f}%\".format(test_accuracy))"
   ]
  },
  {
   "cell_type": "code",
   "execution_count": 141,
   "id": "33bbbd49-df29-4fec-b33d-d4f35f29c253",
   "metadata": {},
   "outputs": [],
   "source": [
    "var_smoothing_values = [1e-15, 1e-14, 1e-13, 1e-12, 1e-11,\n",
    "                        1e-10, 1e-9, 1e-8, 1e-7, 1e-6, \n",
    "                        1e-5, 1e-4, 1e-3, 1e-2, 1e-1]\n",
    "best_val_accuracy = 0\n",
    "best_var_smoothing = None"
   ]
  },
  {
   "cell_type": "code",
   "execution_count": 142,
   "id": "73fd10f2-d497-4ae0-951b-1505a0df80d6",
   "metadata": {},
   "outputs": [
    {
     "name": "stdout",
     "output_type": "stream",
     "text": [
      "Validation accuracy for var_smoothing 1e-15: 70.27%\n",
      "Validation accuracy for var_smoothing 1e-14: 70.27%\n",
      "Validation accuracy for var_smoothing 1e-13: 70.27%\n",
      "Validation accuracy for var_smoothing 1e-12: 70.27%\n",
      "Validation accuracy for var_smoothing 1e-11: 70.27%\n",
      "Validation accuracy for var_smoothing 1e-10: 70.27%\n",
      "Validation accuracy for var_smoothing 1e-09: 70.27%\n",
      "Validation accuracy for var_smoothing 1e-08: 70.27%\n",
      "Validation accuracy for var_smoothing 1e-07: 70.27%\n",
      "Validation accuracy for var_smoothing 1e-06: 69.91%\n",
      "Validation accuracy for var_smoothing 1e-05: 69.38%\n",
      "Validation accuracy for var_smoothing 0.0001: 68.32%\n",
      "Validation accuracy for var_smoothing 0.001: 60.53%\n",
      "Validation accuracy for var_smoothing 0.01: 59.29%\n",
      "Validation accuracy for var_smoothing 0.1: 59.12%\n"
     ]
    }
   ],
   "source": [
    "for var_smoothing in var_smoothing_values:\n",
    "    # Train the model with the current var_smoothing value\n",
    "    nb_model = GaussianNB(var_smoothing=var_smoothing)\n",
    "    nb_model.fit(X_train_df_pair, y_train_df_pair)\n",
    "    \n",
    "    # Make predictions on the validation set\n",
    "    predictions_val = nb_model.predict(X_val_df_pair)\n",
    "    \n",
    "    # Evaluate validation accuracy\n",
    "    val_accuracy = accuracy_score(predictions_val, y_val_df) * 100\n",
    "    print(\"Validation accuracy for var_smoothing {}: {:.2f}%\".format(var_smoothing, val_accuracy))\n",
    "    \n",
    "    # Update best hyperparameter if the current model is better\n",
    "    if val_accuracy > best_val_accuracy:\n",
    "        best_val_accuracy = val_accuracy\n",
    "        best_var_smoothing = var_smoothing"
   ]
  },
  {
   "cell_type": "code",
   "execution_count": 143,
   "id": "d9c23142-b189-4984-b174-3d92cf2e1bde",
   "metadata": {},
   "outputs": [
    {
     "data": {
      "text/html": [
       "<style>#sk-container-id-14 {color: black;}#sk-container-id-14 pre{padding: 0;}#sk-container-id-14 div.sk-toggleable {background-color: white;}#sk-container-id-14 label.sk-toggleable__label {cursor: pointer;display: block;width: 100%;margin-bottom: 0;padding: 0.3em;box-sizing: border-box;text-align: center;}#sk-container-id-14 label.sk-toggleable__label-arrow:before {content: \"▸\";float: left;margin-right: 0.25em;color: #696969;}#sk-container-id-14 label.sk-toggleable__label-arrow:hover:before {color: black;}#sk-container-id-14 div.sk-estimator:hover label.sk-toggleable__label-arrow:before {color: black;}#sk-container-id-14 div.sk-toggleable__content {max-height: 0;max-width: 0;overflow: hidden;text-align: left;background-color: #f0f8ff;}#sk-container-id-14 div.sk-toggleable__content pre {margin: 0.2em;color: black;border-radius: 0.25em;background-color: #f0f8ff;}#sk-container-id-14 input.sk-toggleable__control:checked~div.sk-toggleable__content {max-height: 200px;max-width: 100%;overflow: auto;}#sk-container-id-14 input.sk-toggleable__control:checked~label.sk-toggleable__label-arrow:before {content: \"▾\";}#sk-container-id-14 div.sk-estimator input.sk-toggleable__control:checked~label.sk-toggleable__label {background-color: #d4ebff;}#sk-container-id-14 div.sk-label input.sk-toggleable__control:checked~label.sk-toggleable__label {background-color: #d4ebff;}#sk-container-id-14 input.sk-hidden--visually {border: 0;clip: rect(1px 1px 1px 1px);clip: rect(1px, 1px, 1px, 1px);height: 1px;margin: -1px;overflow: hidden;padding: 0;position: absolute;width: 1px;}#sk-container-id-14 div.sk-estimator {font-family: monospace;background-color: #f0f8ff;border: 1px dotted black;border-radius: 0.25em;box-sizing: border-box;margin-bottom: 0.5em;}#sk-container-id-14 div.sk-estimator:hover {background-color: #d4ebff;}#sk-container-id-14 div.sk-parallel-item::after {content: \"\";width: 100%;border-bottom: 1px solid gray;flex-grow: 1;}#sk-container-id-14 div.sk-label:hover label.sk-toggleable__label {background-color: #d4ebff;}#sk-container-id-14 div.sk-serial::before {content: \"\";position: absolute;border-left: 1px solid gray;box-sizing: border-box;top: 0;bottom: 0;left: 50%;z-index: 0;}#sk-container-id-14 div.sk-serial {display: flex;flex-direction: column;align-items: center;background-color: white;padding-right: 0.2em;padding-left: 0.2em;position: relative;}#sk-container-id-14 div.sk-item {position: relative;z-index: 1;}#sk-container-id-14 div.sk-parallel {display: flex;align-items: stretch;justify-content: center;background-color: white;position: relative;}#sk-container-id-14 div.sk-item::before, #sk-container-id-14 div.sk-parallel-item::before {content: \"\";position: absolute;border-left: 1px solid gray;box-sizing: border-box;top: 0;bottom: 0;left: 50%;z-index: -1;}#sk-container-id-14 div.sk-parallel-item {display: flex;flex-direction: column;z-index: 1;position: relative;background-color: white;}#sk-container-id-14 div.sk-parallel-item:first-child::after {align-self: flex-end;width: 50%;}#sk-container-id-14 div.sk-parallel-item:last-child::after {align-self: flex-start;width: 50%;}#sk-container-id-14 div.sk-parallel-item:only-child::after {width: 0;}#sk-container-id-14 div.sk-dashed-wrapped {border: 1px dashed gray;margin: 0 0.4em 0.5em 0.4em;box-sizing: border-box;padding-bottom: 0.4em;background-color: white;}#sk-container-id-14 div.sk-label label {font-family: monospace;font-weight: bold;display: inline-block;line-height: 1.2em;}#sk-container-id-14 div.sk-label-container {text-align: center;}#sk-container-id-14 div.sk-container {/* jupyter's `normalize.less` sets `[hidden] { display: none; }` but bootstrap.min.css set `[hidden] { display: none !important; }` so we also need the `!important` here to be able to override the default hidden behavior on the sphinx rendered scikit-learn.org. See: https://github.com/scikit-learn/scikit-learn/issues/21755 */display: inline-block !important;position: relative;}#sk-container-id-14 div.sk-text-repr-fallback {display: none;}</style><div id=\"sk-container-id-14\" class=\"sk-top-container\"><div class=\"sk-text-repr-fallback\"><pre>GaussianNB(var_smoothing=1e-15)</pre><b>In a Jupyter environment, please rerun this cell to show the HTML representation or trust the notebook. <br />On GitHub, the HTML representation is unable to render, please try loading this page with nbviewer.org.</b></div><div class=\"sk-container\" hidden><div class=\"sk-item\"><div class=\"sk-estimator sk-toggleable\"><input class=\"sk-toggleable__control sk-hidden--visually\" id=\"sk-estimator-id-14\" type=\"checkbox\" checked><label for=\"sk-estimator-id-14\" class=\"sk-toggleable__label sk-toggleable__label-arrow\">GaussianNB</label><div class=\"sk-toggleable__content\"><pre>GaussianNB(var_smoothing=1e-15)</pre></div></div></div></div></div>"
      ],
      "text/plain": [
       "GaussianNB(var_smoothing=1e-15)"
      ]
     },
     "execution_count": 143,
     "metadata": {},
     "output_type": "execute_result"
    }
   ],
   "source": [
    "nbModel = GaussianNB(var_smoothing=best_var_smoothing)\n",
    "nbModel.fit(X_train_df_pair, y_train_df_pair)"
   ]
  },
  {
   "cell_type": "code",
   "execution_count": 144,
   "id": "b33d8695-4641-436e-95f4-af5d7e21f577",
   "metadata": {},
   "outputs": [
    {
     "name": "stdout",
     "output_type": "stream",
     "text": [
      "Test accuracy with best hyperparameter: 67.26%\n",
      "              precision    recall  f1-score   support\n",
      "\n",
      "         0.0       0.63      0.48      0.55       233\n",
      "         1.0       0.69      0.80      0.74       332\n",
      "\n",
      "    accuracy                           0.67       565\n",
      "   macro avg       0.66      0.64      0.65       565\n",
      "weighted avg       0.67      0.67      0.66       565\n",
      "\n"
     ]
    }
   ],
   "source": [
    "predictions_test = nbModel.predict(X_test_df_pair)\n",
    "test_accuracy = accuracy_score(predictions_test, y_test_df_pair) * 100\n",
    "print(\"Test accuracy with best hyperparameter: {:.2f}%\".format(test_accuracy))\n",
    "print(classification_report(y_test_df_pair, predictions_test))"
   ]
  },
  {
   "cell_type": "code",
   "execution_count": 145,
   "id": "7df31dc1-5208-468b-bba0-3e71f8b202ab",
   "metadata": {},
   "outputs": [
    {
     "name": "stdout",
     "output_type": "stream",
     "text": [
      "Validation accuracy with best hyperparameter: 70.27%\n",
      "              precision    recall  f1-score   support\n",
      "\n",
      "         0.0       0.48      0.37      0.42       233\n",
      "         1.0       0.62      0.72      0.67       332\n",
      "\n",
      "    accuracy                           0.58       565\n",
      "   macro avg       0.55      0.55      0.54       565\n",
      "weighted avg       0.56      0.58      0.56       565\n",
      "\n"
     ]
    }
   ],
   "source": [
    "predictions_val = nbModel.predict(X_val_df_pair)\n",
    "val_accuracy = accuracy_score(predictions_val, y_val_df_pair) * 100\n",
    "print(\"Validation accuracy with best hyperparameter: {:.2f}%\".format(val_accuracy))\n",
    "print(classification_report(y_val_df_pair, predictions_test))"
   ]
  },
  {
   "cell_type": "markdown",
   "id": "5632c637-51fb-40cb-9ef6-70d8edf7fbc8",
   "metadata": {},
   "source": [
    "-----"
   ]
  },
  {
   "cell_type": "markdown",
   "id": "b9fd2fbf-ce1d-441b-a0db-a78f2e8b9fea",
   "metadata": {},
   "source": [
    "Test accuracy with best var smoothing for the regular dataframe: 65.49%<br>\n",
    "Validation accuracy with best var smoothing for the regular dataframe: 67.79%<br><br>\n",
    "Test accuracy with best var smoothing value for the paired dataframe: 67.26%<br>\n",
    "Validation accuracy with best var smoothing value for the paired dataframe: 70.27%"
   ]
  },
  {
   "cell_type": "markdown",
   "id": "cb91903b-e170-4327-85cc-42895c0d7978",
   "metadata": {
    "tags": []
   },
   "source": [
    "# Hyperparameter tuning"
   ]
  },
  {
   "cell_type": "markdown",
   "id": "a96a6f36-66af-4c9d-971c-ceae12d13aa6",
   "metadata": {},
   "source": [
    "# Model selection"
   ]
  },
  {
   "cell_type": "markdown",
   "id": "26adcf9a-fb3d-4370-b0f7-f0c74011357d",
   "metadata": {},
   "source": [
    "# Insights and conclusions"
   ]
  },
  {
   "cell_type": "markdown",
   "id": "5ddb7aa0",
   "metadata": {},
   "source": [
    "# Bibliography\n"
   ]
  }
 ],
 "metadata": {
  "kernelspec": {
   "display_name": "Python 3 (ipykernel)",
   "language": "python",
   "name": "python3"
  },
  "language_info": {
   "codemirror_mode": {
    "name": "ipython",
    "version": 3
   },
   "file_extension": ".py",
   "mimetype": "text/x-python",
   "name": "python",
   "nbconvert_exporter": "python",
   "pygments_lexer": "ipython3",
   "version": "3.11.5"
  }
 },
 "nbformat": 4,
 "nbformat_minor": 5
}
